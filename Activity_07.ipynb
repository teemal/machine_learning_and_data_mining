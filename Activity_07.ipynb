{
  "nbformat": 4,
  "nbformat_minor": 0,
  "metadata": {
    "colab": {
      "name": "Activity 07.ipynb",
      "provenance": [],
      "collapsed_sections": [
        "OZO17DPkOBeN"
      ]
    },
    "kernelspec": {
      "name": "python3",
      "display_name": "Python 3"
    }
  },
  "cells": [
    {
      "cell_type": "markdown",
      "metadata": {
        "id": "GF7CbkSli1yw",
        "colab_type": "text"
      },
      "source": [
        "# Activity 07 - Linear models"
      ]
    },
    {
      "cell_type": "markdown",
      "metadata": {
        "id": "hsiqat4Ei9fr",
        "colab_type": "text"
      },
      "source": [
        "***\n",
        "##### CS 434 - Dating Mining and Machine Learning\n",
        "##### Oregon State University-Cascades\n",
        "***"
      ]
    },
    {
      "cell_type": "markdown",
      "metadata": {
        "id": "0j9-0YWii_9R",
        "colab_type": "text"
      },
      "source": [
        "# Load packages"
      ]
    },
    {
      "cell_type": "code",
      "metadata": {
        "id": "9w6iD34vjAn-",
        "colab_type": "code",
        "colab": {}
      },
      "source": [
        "import pandas as pd\n",
        "pd.options.mode.chained_assignment = None\n",
        "import numpy as np\n",
        "import matplotlib.pyplot as plt\n",
        "from sklearn.model_selection import train_test_split\n",
        "from sklearn.preprocessing import StandardScaler\n",
        "from sklearn.decomposition import PCA\n",
        "from sklearn.linear_model import LinearRegression\n",
        "from sklearn.linear_model import LogisticRegression\n",
        "from sklearn.linear_model import Ridge\n",
        "from sklearn.pipeline import make_pipeline\n",
        "from sklearn.model_selection import KFold\n",
        "from scipy.stats.stats import pearsonr, spearmanr\n",
        "from sklearn.metrics import confusion_matrix\n",
        "from sklearn.metrics import accuracy_score\n",
        "from sklearn.metrics import precision_score\n",
        "from sklearn.metrics import recall_score\n",
        "from sklearn.metrics import confusion_matrix\n",
        "from sklearn.metrics import f1_score"
      ],
      "execution_count": 0,
      "outputs": []
    },
    {
      "cell_type": "markdown",
      "metadata": {
        "id": "EsS5K2bLIvcJ",
        "colab_type": "text"
      },
      "source": [
        "# Dataset"
      ]
    },
    {
      "cell_type": "markdown",
      "metadata": {
        "id": "dw08qgi6Kboq",
        "colab_type": "text"
      },
      "source": [
        "[Communities and Crime Data Set](http://archive.ics.uci.edu/ml/datasets/communities+and+crime)"
      ]
    },
    {
      "cell_type": "markdown",
      "metadata": {
        "id": "3U4DGIcGOOQ2",
        "colab_type": "text"
      },
      "source": [
        "Predict *Violent Crimes Per Population* for communities within the United States. The data combines socio-economic data from the 1990 US Census, law enforcement data from the 1990 US LEMAS survey, and crime data from the 1995 FBI UCR.\n",
        "\n",
        "**Note**: this data is already standardized.\n"
      ]
    },
    {
      "cell_type": "markdown",
      "metadata": {
        "id": "OZO17DPkOBeN",
        "colab_type": "text"
      },
      "source": [
        "### Attributes"
      ]
    },
    {
      "cell_type": "markdown",
      "metadata": {
        "id": "6GNA1aHLNOpb",
        "colab_type": "text"
      },
      "source": [
        "* **state:** US state (by number) - not counted as predictive above, but if considered, should be consided nominal (nominal)\n",
        "* **county:** numeric code for county - not predictive, and many missing values (numeric)\n",
        "* **community:** numeric code for community - not predictive and many missing values (numeric)\n",
        "* **communityname:** community name - not predictive - for information only (string)\n",
        "* **fold:** fold number for non-random 10 fold cross validation, potentially useful for debugging, paired tests - not predictive (numeric)\n",
        "* **population:** population for community:** (numeric - decimal)\n",
        "* **householdsize:** mean people per household (numeric - decimal)\n",
        "* **racepctblack:** percentage of population that is african american (numeric - decimal)\n",
        "* **racePctWhite:** percentage of population that is caucasian (numeric - decimal)\n",
        "* **racePctAsian:** percentage of population that is of asian heritage (numeric - decimal)\n",
        "* **racePctHisp:** percentage of population that is of hispanic heritage (numeric - decimal)\n",
        "* **agePct12t21:** percentage of population that is 12-21 in age (numeric - decimal)\n",
        "* **agePct12t29:** percentage of population that is 12-29 in age (numeric - decimal)\n",
        "* **agePct16t24:** percentage of population that is 16-24 in age (numeric - decimal)\n",
        "* **agePct65up:** percentage of population that is 65 and over in age (numeric - decimal)\n",
        "* **numbUrban:** number of people living in areas classified as urban (numeric - decimal)\n",
        "* **pctUrban:** percentage of people living in areas classified as urban (numeric - decimal)\n",
        "* **medIncome:** median household income (numeric - decimal)\n",
        "* **pctWWage:** percentage of households with wage or salary income in 1989 (numeric - decimal)\n",
        "* **pctWFarmSelf:** percentage of households with farm or self employment income in 1989 (numeric - decimal)\n",
        "* **pctWInvInc:** percentage of households with investment / rent income in 1989 (numeric - decimal)\n",
        "* **pctWSocSec:** percentage of households with social security income in 1989 (numeric - decimal)\n",
        "* **pctWPubAsst:** percentage of households with public assistance income in 1989 (numeric - decimal)\n",
        "* **pctWRetire:** percentage of households with retirement income in 1989 (numeric - decimal)\n",
        "* **medFamInc:** median family income (differs from household income for non-family households) (numeric - decimal)\n",
        "* **perCapInc:** per capita income (numeric - decimal)\n",
        "* **whitePerCap:** per capita income for caucasians (numeric - decimal)\n",
        "* **blackPerCap:** per capita income for african americans (numeric - decimal)\n",
        "* **indianPerCap:** per capita income for native americans (numeric - decimal)\n",
        "* **AsianPerCap:** per capita income for people with asian heritage (numeric - decimal)\n",
        "* **OtherPerCap:** per capita income for people with 'other' heritage (numeric - decimal)\n",
        "* **HispPerCap:** per capita income for people with hispanic heritage (numeric - decimal)\n",
        "* **NumUnderPov:** number of people under the poverty level (numeric - decimal)\n",
        "* **PctPopUnderPov:** percentage of people under the poverty level (numeric - decimal)\n",
        "* **PctLess9thGrade:** percentage of people 25 and over with less than a 9th grade education (numeric - decimal)\n",
        "* **PctNotHSGrad:** percentage of people 25 and over that are not high school graduates (numeric - decimal)\n",
        "* **PctBSorMore:** percentage of people 25 and over with a bachelors degree or higher education (numeric - decimal)\n",
        "* **PctUnemployed:** percentage of people 16 and over, in the labor force, and unemployed (numeric - decimal)\n",
        "* **PctEmploy:** percentage of people 16 and over who are employed (numeric - decimal)\n",
        "* **PctEmplManu:** percentage of people 16 and over who are employed in manufacturing (numeric - decimal)\n",
        "* **PctEmplProfServ:** percentage of people 16 and over who are employed in professional services (numeric - decimal)\n",
        "* **PctOccupManu:** percentage of people 16 and over who are employed in manufacturing (numeric - decimal) ########\n",
        "* **PctOccupMgmtProf:** percentage of people 16 and over who are employed in management or professional occupations (numeric - decimal)\n",
        "* **MalePctDivorce:** percentage of males who are divorced (numeric - decimal)\n",
        "* **MalePctNevMarr:** percentage of males who have never married (numeric - decimal)\n",
        "* **FemalePctDiv:** percentage of females who are divorced (numeric - decimal)\n",
        "* **TotalPctDiv:** percentage of population who are divorced (numeric - decimal)\n",
        "* **PersPerFam:** mean number of people per family (numeric - decimal)\n",
        "* **PctFam2Par:** percentage of families (with kids) that are headed by two parents (numeric - decimal)\n",
        "* **PctKids2Par:** percentage of kids in family housing with two parents (numeric - decimal)\n",
        "* **PctYoungKids2Par:** percent of kids 4 and under in two parent households (numeric - decimal)\n",
        "* **PctTeen2Par:** percent of kids age 12-17 in two parent households (numeric - decimal)\n",
        "* **PctWorkMomYoungKids:** percentage of moms of kids 6 and under in labor force (numeric - decimal)\n",
        "* **PctWorkMom:** percentage of moms of kids under 18 in labor force (numeric - decimal)\n",
        "* **NumIlleg:** number of kids born to never married (numeric - decimal)\n",
        "* **PctIlleg:** percentage of kids born to never married (numeric - decimal)\n",
        "* **NumImmig:** total number of people known to be foreign born (numeric - decimal)\n",
        "* **PctImmigRecent:** percentage of _immigrants_ who immigated within last 3 years (numeric - decimal)\n",
        "* **PctImmigRec5:** percentage of _immigrants_ who immigated within last 5 years (numeric - decimal)\n",
        "* **PctImmigRec8:** percentage of _immigrants_ who immigated within last 8 years (numeric - decimal)\n",
        "* **PctImmigRec10:** percentage of _immigrants_ who immigated within last 10 years (numeric - decimal)\n",
        "* **PctRecentImmig:** percent of _population_ who have immigrated within the last 3 years (numeric - decimal)\n",
        "* **PctRecImmig5:** percent of _population_ who have immigrated within the last 5 years (numeric - decimal)\n",
        "* **PctRecImmig8:** percent of _population_ who have immigrated within the last 8 years (numeric - decimal)\n",
        "* **PctRecImmig10:** percent of _population_ who have immigrated within the last 10 years (numeric - decimal)\n",
        "* **PctSpeakEnglOnly:** percent of people who speak only English (numeric - decimal)\n",
        "* **PctNotSpeakEnglWell:** percent of people who do not speak English well (numeric - decimal)\n",
        "* **PctLargHouseFam:** percent of family households that are large (6 or more) (numeric - decimal)\n",
        "* **PctLargHouseOccup:** percent of all occupied households that are large (6 or more people) (numeric - decimal)\n",
        "* **PersPerOccupHous:** mean persons per household (numeric - decimal)\n",
        "* **PersPerOwnOccHous:** mean persons per owner occupied household (numeric - decimal)\n",
        "* **PersPerRentOccHous:** mean persons per rental household (numeric - decimal)\n",
        "* **PctPersOwnOccup:** percent of people in owner occupied households (numeric - decimal)\n",
        "* **PctPersDenseHous:** percent of persons in dense housing (more than 1 person per room) (numeric - decimal)\n",
        "* **PctHousLess3BR:** percent of housing units with less than 3 bedrooms (numeric - decimal)\n",
        "* **MedNumBR:** median number of bedrooms (numeric - decimal)\n",
        "* **HousVacant:** number of vacant households (numeric - decimal)\n",
        "* **PctHousOccup:** percent of housing occupied (numeric - decimal)\n",
        "* **PctHousOwnOcc:** percent of households owner occupied (numeric - decimal)\n",
        "* **PctVacantBoarded:** percent of vacant housing that is boarded up (numeric - decimal)\n",
        "* **PctVacMore6Mos:** percent of vacant housing that has been vacant more than 6 months (numeric - decimal)\n",
        "* **MedYrHousBuilt:** median year housing units built (numeric - decimal)\n",
        "* **PctHousNoPhone:** percent of occupied housing units without phone (in 1990, this was rare!) (numeric - decimal)\n",
        "* **PctWOFullPlumb:** percent of housing without complete plumbing facilities (numeric - decimal)\n",
        "* **OwnOccLowQuart:** owner occupied housing - lower quartile value (numeric - decimal)\n",
        "* **OwnOccMedVal:** owner occupied housing - median value (numeric - decimal)\n",
        "* **OwnOccHiQuart:** owner occupied housing - upper quartile value (numeric - decimal)\n",
        "* **RentLowQ:** rental housing - lower quartile rent (numeric - decimal)\n",
        "* **RentMedian:** rental housing - median rent (Census variable H32B from file STF1A) (numeric - decimal)\n",
        "* **RentHighQ:** rental housing - upper quartile rent (numeric - decimal)\n",
        "* **MedRent:** median gross rent (Census variable H43A from file STF3A - includes utilities) (numeric - decimal)\n",
        "* **MedRentPctHousInc:** median gross rent as a percentage of household income (numeric - decimal)\n",
        "* **MedOwnCostPctInc:** median owners cost as a percentage of household income - for owners with a mortgage (numeric - decimal)\n",
        "* **MedOwnCostPctIncNoMtg:** median owners cost as a percentage of household income - for owners without a mortgage (numeric - decimal)\n",
        "* **NumInShelters:** number of people in homeless shelters (numeric - decimal)\n",
        "* **NumStreet:** number of homeless people counted in the street (numeric - decimal)\n",
        "* **PctForeignBorn:** percent of people foreign born (numeric - decimal)\n",
        "* **PctBornSameState:** percent of people born in the same state as currently living (numeric - decimal)\n",
        "* **PctSameHouse85:** percent of people living in the same house as in 1985 (5 years before) (numeric - decimal)\n",
        "* **PctSameCity85:** percent of people living in the same city as in 1985 (5 years before) (numeric - decimal)\n",
        "* **PctSameState85:** percent of people living in the same state as in 1985 (5 years before) (numeric - decimal)\n",
        "* **LemasSwornFT:** number of sworn full time police officers (numeric - decimal)\n",
        "* **LemasSwFTPerPop:** sworn full time police officers per 100K population (numeric - decimal)\n",
        "* **LemasSwFTFieldOps:** number of sworn full time police officers in field operations (on the street as opposed to administrative etc) (numeric - decimal)\n",
        "* **LemasSwFTFieldPerPop:** sworn full time police officers in field operations (on the street as opposed to administrative etc) per 100K population (numeric - decimal)\n",
        "* **LemasTotalReq:** total requests for police (numeric - decimal)\n",
        "* **LemasTotReqPerPop:** total requests for police per 100K popuation (numeric - decimal)\n",
        "* **PolicReqPerOffic:** total requests for police per police officer (numeric - decimal)\n",
        "* **PolicPerPop:** police officers per 100K population (numeric - decimal)\n",
        "* **RacialMatchCommPol:** a measure of the racial match between the community and the police force. High values indicate proportions in community and police force are similar (numeric - decimal)\n",
        "* **PctPolicWhite:** percent of police that are caucasian (numeric - decimal)\n",
        "* **PctPolicBlack:** percent of police that are african american (numeric - decimal)\n",
        "* **PctPolicHisp:** percent of police that are hispanic (numeric - decimal)\n",
        "* **PctPolicAsian:** percent of police that are asian (numeric - decimal)\n",
        "* **PctPolicMinor:** percent of police that are minority of any kind (numeric - decimal)\n",
        "* **OfficAssgnDrugUnits:** number of officers assigned to special drug units (numeric - decimal)\n",
        "* **NumKindsDrugsSeiz:** number of different kinds of drugs seized (numeric - decimal)\n",
        "* **PolicAveOTWorked:** police average overtime worked (numeric - decimal)\n",
        "* **LandArea:** land area in square miles (numeric - decimal)\n",
        "* **PopDens:** population density in persons per square mile (numeric - decimal)\n",
        "* **PctUsePubTrans:** percent of people using public transit for commuting (numeric - decimal)\n",
        "* **PolicCars:** number of police cars (numeric - decimal)\n",
        "* **PolicOperBudg:** police operating budget (numeric - decimal)\n",
        "* **LemasPctPolicOnPatr:** percent of sworn full time police officers on patrol (numeric - decimal)\n",
        "* **LemasGangUnitDeploy:** gang unit deployed (numeric - decimal - but really ordinal - 0 means NO, 1 means YES, 0.5 means Part Time)\n",
        "* **LemasPctOfficDrugUn:** percent of officers assigned to drug units (numeric - decimal)\n",
        "* **PolicBudgPerPop:** police operating budget per population (numeric - decimal)\n",
        "* **ViolentCrimesPerPop:** total number of violent crimes per 100K popuation (numeric - decimal) GOAL attribute (to be predicted)"
      ]
    },
    {
      "cell_type": "markdown",
      "metadata": {
        "id": "m7I1tzaQWIZv",
        "colab_type": "text"
      },
      "source": [
        ""
      ]
    },
    {
      "cell_type": "markdown",
      "metadata": {
        "id": "ONUdjCj4Nzlt",
        "colab_type": "text"
      },
      "source": [
        "### GOAL attribute (to be predicted)\n",
        "\n",
        "* **ViolentCrimesPerPop**: total number of violent crimes per 100K popuation (numeric - decimal) "
      ]
    },
    {
      "cell_type": "markdown",
      "metadata": {
        "id": "bdcvOlkSWEpx",
        "colab_type": "text"
      },
      "source": [
        "### Data url and column header"
      ]
    },
    {
      "cell_type": "code",
      "metadata": {
        "id": "A_HfZpQUj_TB",
        "colab_type": "code",
        "colab": {}
      },
      "source": [
        "url = 'http://archive.ics.uci.edu/ml/machine-learning-databases/communities/communities.data'\n",
        "header = ['state','county','community','communityname string','fold','population','householdsize','racepctblack','racePctWhite','racePctAsian','racePctHisp','agePct12t21','agePct12t29','agePct16t24','agePct65up','numbUrban','pctUrban','medIncome','pctWWage','pctWFarmSelf','pctWInvInc','pctWSocSec','pctWPubAsst','pctWRetire','medFamInc','perCapInc','whitePerCap','blackPerCap','indianPerCap','AsianPerCap','OtherPerCap','HispPerCap','NumUnderPov','PctPopUnderPov','PctLess9thGrade','PctNotHSGrad','PctBSorMore','PctUnemployed','PctEmploy','PctEmplManu','PctEmplProfServ','PctOccupManu','PctOccupMgmtProf','MalePctDivorce','MalePctNevMarr','FemalePctDiv','TotalPctDiv','PersPerFam','PctFam2Par','PctKids2Par','PctYoungKids2Par','PctTeen2Par','PctWorkMomYoungKids','PctWorkMom','NumIlleg','PctIlleg','NumImmig','PctImmigRecent','PctImmigRec5','PctImmigRec8','PctImmigRec10','PctRecentImmig','PctRecImmig5','PctRecImmig8','PctRecImmig10','PctSpeakEnglOnly','PctNotSpeakEnglWell','PctLargHouseFam','PctLargHouseOccup','PersPerOccupHous','PersPerOwnOccHous','PersPerRentOccHous','PctPersOwnOccup','PctPersDenseHous','PctHousLess3BR','MedNumBR','HousVacant','PctHousOccup','PctHousOwnOcc','PctVacantBoarded','PctVacMore6Mos','MedYrHousBuilt','PctHousNoPhone','PctWOFullPlumb','OwnOccLowQuart','OwnOccMedVal','OwnOccHiQuart','RentLowQ','RentMedian','RentHighQ','MedRent','MedRentPctHousInc','MedOwnCostPctInc','MedOwnCostPctIncNoMtg','NumInShelters','NumStreet','PctForeignBorn','PctBornSameState','PctSameHouse85','PctSameCity85','PctSameState85','LemasSwornFT','LemasSwFTPerPop','LemasSwFTFieldOps','LemasSwFTFieldPerPop','LemasTotalReq','LemasTotReqPerPop','PolicReqPerOffic','PolicPerPop','RacialMatchCommPol','PctPolicWhite','PctPolicBlack','PctPolicHisp','PctPolicAsian','PctPolicMinor','OfficAssgnDrugUnits','NumKindsDrugsSeiz','PolicAveOTWorked','LandArea','PopDens','PctUsePubTrans','PolicCars','PolicOperBudg','LemasPctPolicOnPatr','LemasGangUnitDeploy','LemasPctOfficDrugUn','PolicBudgPerPop','ViolentCrimesPerPop']"
      ],
      "execution_count": 0,
      "outputs": []
    },
    {
      "cell_type": "markdown",
      "metadata": {
        "id": "ZPHhkg6RjD1r",
        "colab_type": "text"
      },
      "source": [
        "*** \n",
        "# Exercise #1 - Load data\n",
        "*** "
      ]
    },
    {
      "cell_type": "markdown",
      "metadata": {
        "id": "cpwjZBEEjOSq",
        "colab_type": "text"
      },
      "source": [
        "1.1 Load data and display. Read in `'?'` as `NaN`."
      ]
    },
    {
      "cell_type": "code",
      "metadata": {
        "id": "XRcRPPUAj7EW",
        "colab_type": "code",
        "colab": {}
      },
      "source": [
        "# load the dataset into a dataframe\n",
        "print('your code here')"
      ],
      "execution_count": 0,
      "outputs": []
    },
    {
      "cell_type": "markdown",
      "metadata": {
        "id": "qCmWXYbjwDFM",
        "colab_type": "text"
      },
      "source": [
        "##### 1.2 Save the `'communityname string'`column as `df_community`."
      ]
    },
    {
      "cell_type": "code",
      "metadata": {
        "id": "TAHm7R0jwDbk",
        "colab_type": "code",
        "colab": {}
      },
      "source": [
        "# save 'communityname string' as df_community\n",
        "print('your code here')"
      ],
      "execution_count": 0,
      "outputs": []
    },
    {
      "cell_type": "markdown",
      "metadata": {
        "id": "ajPxsFjgwaRl",
        "colab_type": "text"
      },
      "source": [
        "> We'll use the `'communityname string'` later to look at results, but we don't need it for learning."
      ]
    },
    {
      "cell_type": "markdown",
      "metadata": {
        "id": "4PeXAQVouybV",
        "colab_type": "text"
      },
      "source": [
        "##### 1.3 Drop `'communityname string'` and the other four non-descriptive columns"
      ]
    },
    {
      "cell_type": "code",
      "metadata": {
        "id": "IU7prznwu3na",
        "colab_type": "code",
        "colab": {}
      },
      "source": [
        "# drop 5 non-descriptive columns\n",
        "print('your code here')"
      ],
      "execution_count": 0,
      "outputs": []
    },
    {
      "cell_type": "markdown",
      "metadata": {
        "id": "9iytDWJP5hxx",
        "colab_type": "text"
      },
      "source": [
        "##### 1.4 Count the total number of missing values"
      ]
    },
    {
      "cell_type": "code",
      "metadata": {
        "id": "HF5v4jfW1Qey",
        "colab_type": "code",
        "colab": {}
      },
      "source": [
        "# count the number of missing values \n",
        "print('your code here')"
      ],
      "execution_count": 0,
      "outputs": []
    },
    {
      "cell_type": "markdown",
      "metadata": {
        "id": "oHn7NPZT5ZEH",
        "colab_type": "text"
      },
      "source": [
        "##### 1.5 Drop columns that contain `NaN`"
      ]
    },
    {
      "cell_type": "code",
      "metadata": {
        "id": "fYJCnnhU4fvS",
        "colab_type": "code",
        "colab": {}
      },
      "source": [
        "# drop columns with NaN values\n",
        "print('your code here')"
      ],
      "execution_count": 0,
      "outputs": []
    },
    {
      "cell_type": "markdown",
      "metadata": {
        "id": "m6GdIPv7SAgC",
        "colab_type": "text"
      },
      "source": [
        "##### 1.6 Confirm we have no missing values"
      ]
    },
    {
      "cell_type": "code",
      "metadata": {
        "id": "PzFuw9KszS0x",
        "colab_type": "code",
        "colab": {}
      },
      "source": [
        "# run to confirm there are no missing values\n",
        "print('your code here')"
      ],
      "execution_count": 0,
      "outputs": []
    },
    {
      "cell_type": "markdown",
      "metadata": {
        "id": "rcK0cfcM5pbI",
        "colab_type": "text"
      },
      "source": [
        "*** \n",
        "# Exercise #2 - Train a `LinearRegression` model\n",
        "*** "
      ]
    },
    {
      "cell_type": "markdown",
      "metadata": {
        "id": "ogYRhTPkZgRY",
        "colab_type": "text"
      },
      "source": [
        "In Exercises #2 and #3, we explore a linear `regression` model to a predict continuous value."
      ]
    },
    {
      "cell_type": "markdown",
      "metadata": {
        "id": "lb4Nh8zFWPPF",
        "colab_type": "text"
      },
      "source": [
        "##### 2.1 Split data to X and y"
      ]
    },
    {
      "cell_type": "code",
      "metadata": {
        "id": "hLNpi8oXDpyl",
        "colab_type": "code",
        "colab": {}
      },
      "source": [
        "# dependent variable y is 'ViolentCrimesPerPop'\n",
        "print('your code here')"
      ],
      "execution_count": 0,
      "outputs": []
    },
    {
      "cell_type": "markdown",
      "metadata": {
        "id": "H_VFw6cQWbIC",
        "colab_type": "text"
      },
      "source": [
        "##### 2.2 Construct a `LinearRegression` model"
      ]
    },
    {
      "cell_type": "code",
      "metadata": {
        "id": "VnIU6r4TGAV0",
        "colab_type": "code",
        "colab": {}
      },
      "source": [
        "# create a LinearRegression() model\n",
        "print('your code here')"
      ],
      "execution_count": 0,
      "outputs": []
    },
    {
      "cell_type": "markdown",
      "metadata": {
        "id": "V82GMwHoVfTW",
        "colab_type": "text"
      },
      "source": [
        "Self Check\n",
        "\n",
        "```\n",
        "LinearRegression(copy_X=True, fit_intercept=True, n_jobs=None, normalize=False)\n",
        "```"
      ]
    },
    {
      "cell_type": "markdown",
      "metadata": {
        "id": "SBGjdz22WjyK",
        "colab_type": "text"
      },
      "source": [
        "##### 2.3 Run `k=10`-fold cross-validation"
      ]
    },
    {
      "cell_type": "markdown",
      "metadata": {
        "id": "6PfmRyVAIirK",
        "colab_type": "text"
      },
      "source": [
        "* Keep track of the `scores` for each fold and afterwards calulate the average `mean` and `std`.\n",
        "\n",
        "* Keep track of the predictions in list `y_pred`"
      ]
    },
    {
      "cell_type": "code",
      "metadata": {
        "id": "wTYouYAWHrLI",
        "colab_type": "code",
        "colab": {}
      },
      "source": [
        "# k-fold CV\n",
        "print('your code here')"
      ],
      "execution_count": 0,
      "outputs": []
    },
    {
      "cell_type": "markdown",
      "metadata": {
        "id": "axJjl_KTLEkk",
        "colab_type": "text"
      },
      "source": [
        "##### 2.4 Save the `'ViolentCrimesPerPop'` column from `df` as `y_true`."
      ]
    },
    {
      "cell_type": "code",
      "metadata": {
        "id": "PVI__6A5LFih",
        "colab_type": "code",
        "colab": {}
      },
      "source": [
        "# save 'ViolentCrimesPerPop' as y_true\n",
        "print('your code here')"
      ],
      "execution_count": 0,
      "outputs": []
    },
    {
      "cell_type": "markdown",
      "metadata": {
        "id": "0GpcYH-KJyvN",
        "colab_type": "text"
      },
      "source": [
        "##### 2.5 Confirm that `y_pred` and `y_true` are the same length"
      ]
    },
    {
      "cell_type": "markdown",
      "metadata": {
        "id": "msrC0visQpb4",
        "colab_type": "text"
      },
      "source": [
        "Use `==` to answer `True` or `False`."
      ]
    },
    {
      "cell_type": "code",
      "metadata": {
        "id": "ZVBz2LS04tWf",
        "colab_type": "code",
        "colab": {}
      },
      "source": [
        "# Confirm 'y_pred' and 'y_true' are same length (==)\n",
        "print('your code here')"
      ],
      "execution_count": 0,
      "outputs": []
    },
    {
      "cell_type": "markdown",
      "metadata": {
        "id": "ZQQ2HogZOjQq",
        "colab_type": "text"
      },
      "source": [
        "> Don't continue to the next section until the above is `True`."
      ]
    },
    {
      "cell_type": "markdown",
      "metadata": {
        "id": "BgWGlQYwIBGw",
        "colab_type": "text"
      },
      "source": [
        "*** \n",
        "# Exercise #3 - Explore `LinearRegression` results\n",
        "*** "
      ]
    },
    {
      "cell_type": "markdown",
      "metadata": {
        "id": "fIBmfxgARvCf",
        "colab_type": "text"
      },
      "source": [
        "##### 3.1 Create a dataframe `df_results`"
      ]
    },
    {
      "cell_type": "markdown",
      "metadata": {
        "id": "tGMSBy0TS-ay",
        "colab_type": "text"
      },
      "source": [
        "* `'Community'` $\\rightarrow$ `df_community`  (from earlier)\n",
        "* `'Actual'` $\\rightarrow$ `y_true`\n",
        "* `'Predicted'` $\\rightarrow$ `y_pred`"
      ]
    },
    {
      "cell_type": "code",
      "metadata": {
        "id": "SANpo9lEWNAq",
        "colab_type": "code",
        "colab": {}
      },
      "source": [
        "# create df_results consisting of community name, actual, and predicted value\n",
        "print('your code here')"
      ],
      "execution_count": 0,
      "outputs": []
    },
    {
      "cell_type": "markdown",
      "metadata": {
        "id": "93Vv0TmwjwoG",
        "colab_type": "text"
      },
      "source": [
        "##### 3.2 Verify shape of `df_results`"
      ]
    },
    {
      "cell_type": "code",
      "metadata": {
        "id": "Bn1H2wUij_Z5",
        "colab_type": "code",
        "colab": {}
      },
      "source": [
        "# shape of df_results\n",
        "print('your code here')"
      ],
      "execution_count": 0,
      "outputs": []
    },
    {
      "cell_type": "markdown",
      "metadata": {
        "id": "1C6GErVnkFtx",
        "colab_type": "text"
      },
      "source": [
        "Self Check\n",
        "> expecting `(1994, 3)`"
      ]
    },
    {
      "cell_type": "markdown",
      "metadata": {
        "id": "MOR5YYFckTpb",
        "colab_type": "text"
      },
      "source": [
        "##### 3.3 Describe `df_results`"
      ]
    },
    {
      "cell_type": "code",
      "metadata": {
        "id": "iL_fldk1kbQr",
        "colab_type": "code",
        "colab": {}
      },
      "source": [
        "# describe df_results\n",
        "print('your code here')"
      ],
      "execution_count": 0,
      "outputs": []
    },
    {
      "cell_type": "markdown",
      "metadata": {
        "id": "Z8XfawQ2RCIX",
        "colab_type": "text"
      },
      "source": [
        "##### 3.4 Scatterplot True vs. Predicted"
      ]
    },
    {
      "cell_type": "markdown",
      "metadata": {
        "id": "oJuz2ks7QEJU",
        "colab_type": "text"
      },
      "source": [
        "Scatter plot True vs. Predicted\n",
        "* add line `m, b = np.polyfit(x, y, 1)`\n",
        "* add line `plt.plot(x, m*x + b, color='red')`\n",
        "* where `x` and `y` are your `'y_true'` and `'y_pred'` series\n",
        "* make sure to title your plot and axes"
      ]
    },
    {
      "cell_type": "code",
      "metadata": {
        "id": "NEkYv75tVhA1",
        "colab_type": "code",
        "colab": {}
      },
      "source": [
        "# make a scatter plot of 'true' vs 'predicted'\n",
        "x = y_true\n",
        "y = y_pred\n",
        "print('your code here')"
      ],
      "execution_count": 0,
      "outputs": []
    },
    {
      "cell_type": "markdown",
      "metadata": {
        "id": "ln0WlGNAzAoc",
        "colab_type": "text"
      },
      "source": [
        "##### 3.5 Make a pandas [bar chart](https://pandas.pydata.org/pandas-docs/stable/reference/api/pandas.DataFrame.plot.bar.html) of the `df_results.head(20)`"
      ]
    },
    {
      "cell_type": "markdown",
      "metadata": {
        "id": "pIiEIP3CX4e9",
        "colab_type": "text"
      },
      "source": [
        "Show the actual vs. predicted values for the first 20 results.\n",
        "\n",
        "* set the figure size to be wide, e.g., `figsize=(16,10)`\n",
        "* use `plt.grid` to add grid lines (major tick, `'-'`, `0.5` width, `green`)"
      ]
    },
    {
      "cell_type": "code",
      "metadata": {
        "id": "lkrfYXfKWKQT",
        "colab_type": "code",
        "colab": {}
      },
      "source": [
        "# bar graph of the first 20 examples\n",
        "print('your code here')"
      ],
      "execution_count": 0,
      "outputs": []
    },
    {
      "cell_type": "markdown",
      "metadata": {
        "id": "2DhVhNDdVrXX",
        "colab_type": "text"
      },
      "source": [
        "Self Check\n",
        "> There should be two series (blue=`'Actual'` and orange=`'Predicted'`\n",
        ">\n",
        "> For `index=0`\n",
        "> * `actual = 0.2`\n",
        "> * `pred = 0.152479`"
      ]
    },
    {
      "cell_type": "markdown",
      "metadata": {
        "id": "pbTJoCDrzEGs",
        "colab_type": "text"
      },
      "source": [
        "*** \n",
        "# Exercise #4 - Train a `LogisticRegression` model\n",
        "*** "
      ]
    },
    {
      "cell_type": "markdown",
      "metadata": {
        "id": "ADzZOwiGZvwq",
        "colab_type": "text"
      },
      "source": [
        "In Exercises #4 and #5, we explore a linear `classification` model to a predict class labels."
      ]
    },
    {
      "cell_type": "markdown",
      "metadata": {
        "id": "vywzMB-cd6cb",
        "colab_type": "text"
      },
      "source": [
        "##### 4.1 Make a copy of `df` named `df_logr`"
      ]
    },
    {
      "cell_type": "code",
      "metadata": {
        "id": "x2LQ4Yojd66M",
        "colab_type": "code",
        "colab": {}
      },
      "source": [
        "# make a copy df called df_logr\n",
        "print('your code here')"
      ],
      "execution_count": 0,
      "outputs": []
    },
    {
      "cell_type": "markdown",
      "metadata": {
        "id": "xbJ8fg0DebEs",
        "colab_type": "text"
      },
      "source": [
        "> We'll use `df_logr` for the remainder of this notebook"
      ]
    },
    {
      "cell_type": "markdown",
      "metadata": {
        "colab_type": "text",
        "id": "CARMeNMohJlJ"
      },
      "source": [
        "* Keep track of the `scores` for each fold and calulate the average `mean` and `std`.\n",
        "\n",
        "* Keep track of the predictions in list `y_pred`"
      ]
    },
    {
      "cell_type": "markdown",
      "metadata": {
        "id": "pr2xfJs6Z0gC",
        "colab_type": "text"
      },
      "source": [
        "##### 4.2 Discretize `'ViolentCrimesPerPop'` using `pd.cut(..)`"
      ]
    },
    {
      "cell_type": "markdown",
      "metadata": {
        "id": "fOy0N3osZ_lt",
        "colab_type": "text"
      },
      "source": [
        "* Use [pandas cut](https://pandas.pydata.org/pandas-docs/stable/reference/api/pandas.cut.html) function to convert `'ViolentCrimesPerPop'` to discrete and convert to categorical values\n",
        "* Use three bins (note: unequal width)\n",
        "* Use bin ranges \n",
        "  * $[0, 0.25) \\rightarrow $ `'low'`\n",
        "  * $[0.25, 0.5) \\rightarrow $ `'medium'`\n",
        "  * $[0.5, 1.0] \\rightarrow $ `'high'`\n",
        "\n",
        "Note: you may need to extend the range in your bin description (e.g., $-0.01$ or $1.01$) to include boundary values of $0.0$ and $1.0$."
      ]
    },
    {
      "cell_type": "code",
      "metadata": {
        "id": "1ACmM0sBjJBc",
        "colab_type": "code",
        "colab": {}
      },
      "source": [
        "# discretize 'ViolentCrimesPerPop' and print df_logr\n",
        "print('your code here')"
      ],
      "execution_count": 0,
      "outputs": []
    },
    {
      "cell_type": "markdown",
      "metadata": {
        "id": "jg8obZbnk1CJ",
        "colab_type": "text"
      },
      "source": [
        "##### 4.3 Split `df_logr` into `X` and `y`"
      ]
    },
    {
      "cell_type": "code",
      "metadata": {
        "id": "cfwyKC67k0ZP",
        "colab_type": "code",
        "colab": {}
      },
      "source": [
        "# dependent variable y is 'ViolentCrimesPerPop'\n",
        "print('your code here')"
      ],
      "execution_count": 0,
      "outputs": []
    },
    {
      "cell_type": "markdown",
      "metadata": {
        "id": "uwZ9aUhxjQj0",
        "colab_type": "text"
      },
      "source": [
        "##### 4.4 Create a `LogisticRegression` classifier\n",
        "* `random_state=1`\n",
        "* `solver='lbfgs'`\n",
        "* `max_iter=1000`"
      ]
    },
    {
      "cell_type": "code",
      "metadata": {
        "id": "ihLnKl8xjP8s",
        "colab_type": "code",
        "colab": {}
      },
      "source": [
        "# create a LogisticRegression model\n",
        "print('your code here')"
      ],
      "execution_count": 0,
      "outputs": []
    },
    {
      "cell_type": "markdown",
      "metadata": {
        "colab_type": "text",
        "id": "s_53asw_hJlJ"
      },
      "source": [
        "##### 4.5 Run `k=10`-fold cross-validation"
      ]
    },
    {
      "cell_type": "markdown",
      "metadata": {
        "id": "ESGoqmnG88wN",
        "colab_type": "text"
      },
      "source": [
        "* Keep track of the `scores` for each fold and afterwards calulate the average mean and std.\n",
        "\n",
        "* Keep track of the predictions in list `y_pred`"
      ]
    },
    {
      "cell_type": "code",
      "metadata": {
        "colab_type": "code",
        "id": "1KkEKq3yhJlK",
        "colab": {}
      },
      "source": [
        "# k-fold CV\n",
        "print('your code here')"
      ],
      "execution_count": 0,
      "outputs": []
    },
    {
      "cell_type": "markdown",
      "metadata": {
        "id": "UpJvLcCid0gc",
        "colab_type": "text"
      },
      "source": [
        "Self Check\n",
        "> The `std` across folds is `+/- 0.023`."
      ]
    },
    {
      "cell_type": "markdown",
      "metadata": {
        "id": "DIJXJXqTUiIy",
        "colab_type": "text"
      },
      "source": [
        "*** \n",
        "# Exercise #5 - Explore results\n",
        "*** "
      ]
    },
    {
      "cell_type": "markdown",
      "metadata": {
        "id": "qsPYo3OKpqma",
        "colab_type": "text"
      },
      "source": [
        "##### 5.1 Save the `'ViolentCrimesPerPop'` column from `df_logr` as `y_true`."
      ]
    },
    {
      "cell_type": "code",
      "metadata": {
        "id": "jRHSRUzqohoR",
        "colab_type": "code",
        "colab": {}
      },
      "source": [
        "y_true = df_logr['ViolentCrimesPerPop']\n",
        "print('your code here')"
      ],
      "execution_count": 0,
      "outputs": []
    },
    {
      "cell_type": "markdown",
      "metadata": {
        "id": "7KM8m8cDp1Gs",
        "colab_type": "text"
      },
      "source": [
        "> Ultimately `y_true` should remain unchanged, but for thoroughness we take it from our current dataframe `df_logr`."
      ]
    },
    {
      "cell_type": "markdown",
      "metadata": {
        "id": "iaaoIWKHnWcc",
        "colab_type": "text"
      },
      "source": [
        "##### 5.2 Calculate the accuracy between `y_true` and `y_pred`."
      ]
    },
    {
      "cell_type": "code",
      "metadata": {
        "id": "AM7hHwKX4Cs3",
        "colab_type": "code",
        "colab": {}
      },
      "source": [
        "# print the accuracy score\n",
        "print('your code here')"
      ],
      "execution_count": 0,
      "outputs": []
    },
    {
      "cell_type": "markdown",
      "metadata": {
        "id": "obRrWenenOjm",
        "colab_type": "text"
      },
      "source": [
        "##### 5.3 Graph the confusion matrix"
      ]
    },
    {
      "cell_type": "code",
      "metadata": {
        "id": "csIZEHl03p5b",
        "colab_type": "code",
        "colab": {}
      },
      "source": [
        "# graph a confusion matrix\n",
        "print('your code here')"
      ],
      "execution_count": 0,
      "outputs": []
    },
    {
      "cell_type": "markdown",
      "metadata": {
        "id": "o2AkQ9ZpqIeG",
        "colab_type": "text"
      },
      "source": [
        "##### 5.4 Calculate precison, recall, and F$_1$ score"
      ]
    },
    {
      "cell_type": "markdown",
      "metadata": {
        "id": "ZSpU7mmfqXTm",
        "colab_type": "text"
      },
      "source": [
        "This is a multi-class classication problem (we have three class labels).\n",
        "* Use `average='weighted'` as the multi-class strategy"
      ]
    },
    {
      "cell_type": "code",
      "metadata": {
        "id": "_qIeIxKj7bZ_",
        "colab_type": "code",
        "colab": {}
      },
      "source": [
        "# precision tp / (tp + fp)\n",
        "print('your code here')\n",
        "print('Precision: %.3f' % precision)\n",
        "\n",
        "# recall: tp / (tp + fn)\n",
        "print('your code here')\n",
        "print('Recall: %.3f' % recall)\n",
        "\n",
        "# f1: 2 tp / (2 tp + fp + fn)\n",
        "print('your code here')\n",
        "print('F1 score: %.3f' % f1)"
      ],
      "execution_count": 0,
      "outputs": []
    },
    {
      "cell_type": "markdown",
      "metadata": {
        "id": "9SPb5XxiqP1r",
        "colab_type": "text"
      },
      "source": [
        "<img src=\"https://66.media.tumblr.com/dded9d1a2bf2068f92af9f7a9b6b5451/tumblr_p6s3hbPzgV1vd8jsjo1_500.gifv\" width=\"300\">"
      ]
    }
  ]
}