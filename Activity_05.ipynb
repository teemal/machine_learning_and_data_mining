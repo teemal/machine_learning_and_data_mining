{
  "nbformat": 4,
  "nbformat_minor": 0,
  "metadata": {
    "colab": {
      "name": "Copy of Activity 05.ipynb",
      "provenance": [],
      "collapsed_sections": []
    },
    "kernelspec": {
      "name": "python3",
      "display_name": "Python 3"
    }
  },
  "cells": [
    {
      "cell_type": "markdown",
      "metadata": {
        "id": "qkHaI0G23JYg",
        "colab_type": "text"
      },
      "source": [
        "#Activity 05 - Experiments"
      ]
    },
    {
      "cell_type": "markdown",
      "metadata": {
        "id": "vkP9VfYs3HyD",
        "colab_type": "text"
      },
      "source": [
        "***\n",
        "##### CS 434 - Dating Mining and Machine Learning\n",
        "##### Oregon State University-Cascades\n",
        "***"
      ]
    },
    {
      "cell_type": "markdown",
      "metadata": {
        "id": "CXseAg1b3RsE",
        "colab_type": "text"
      },
      "source": [
        "# Load packages"
      ]
    },
    {
      "cell_type": "code",
      "metadata": {
        "id": "G6Rpv5_e3AF0",
        "colab_type": "code",
        "colab": {}
      },
      "source": [
        "import ssl\n",
        "import pandas as pd\n",
        "import numpy as np\n",
        "import matplotlib.pyplot as plt\n",
        "from sklearn.model_selection import StratifiedKFold\n",
        "from sklearn.preprocessing import LabelEncoder\n",
        "from sklearn.model_selection import train_test_split\n",
        "from sklearn.preprocessing import StandardScaler\n",
        "from sklearn.decomposition import PCA\n",
        "from sklearn.linear_model import LogisticRegression\n",
        "from sklearn.ensemble import RandomForestRegressor\n",
        "from sklearn.pipeline import make_pipeline\n",
        "from sklearn.model_selection import KFold\n",
        "from sklearn.model_selection import cross_val_score\n",
        "from sklearn.model_selection import learning_curve\n",
        "from sklearn.preprocessing import MinMaxScaler\n",
        "ssl._create_default_https_context = ssl._create_unverified_context"
      ],
      "execution_count": 0,
      "outputs": []
    },
    {
      "cell_type": "markdown",
      "metadata": {
        "id": "Q3ze5vWW3Sqg",
        "colab_type": "text"
      },
      "source": [
        "# Dataset"
      ]
    },
    {
      "cell_type": "markdown",
      "metadata": {
        "id": "eApB6H0umJ0b",
        "colab_type": "text"
      },
      "source": [
        "[Dataset information](http://archive.ics.uci.edu/ml/datasets/bike+sharing+dataset)\n",
        "\n",
        "Bike sharing systems are new generation of traditional bike rentals where whole process from membership, rental and return back has become automatic. Through these systems, user is able to easily rent a bike from a particular position and return back at another position. Currently, there are about over 500 bike-sharing programs around the world which is composed of over 500 thousands bicycles. Today, there exists great interest in these systems due to their important role in traffic, environmental and health issues.\n",
        "\n",
        "This dataset contains the hourly and daily count of rental bikes between years 2011 and 2012 in Capital bikeshare system with the corresponding weather and seasonal information."
      ]
    },
    {
      "cell_type": "markdown",
      "metadata": {
        "id": "BZU4Z-dunHsp",
        "colab_type": "text"
      },
      "source": [
        "### Features\n",
        "\n",
        "* **instant** : record index\n",
        "* **dteday** : date\n",
        "* **season** : season (1:winter, 2:spring, 3:summer, 4:fall)\n",
        "* **yr** : year (0:2011, 1:2012)\n",
        "* **mnth** : month (1 to 12)\n",
        "* **hr** : hour (0 to 23)\n",
        "* **holiday** : whether day is holiday or not\n",
        "* **weekday** : day of the week\n",
        "* **workingday** : if day is neither weekend nor holiday is 1, otherwise is 0.\n",
        "* **weathersit** :\n",
        "  1. Clear, Few clouds, Partly cloudy, Partly cloudy\n",
        "  2. Mist + Cloudy, Mist + Broken clouds, Mist + Few clouds, Mist\n",
        "  3. Light Snow, Light Rain + Thunderstorm + Scattered clouds, Light Rain + Scattered clouds\n",
        "  4. Heavy Rain + Ice Pallets + Thunderstorm + Mist, Snow + Fog\n",
        "* **temp** : Normalized temperature in Celsius. The values are derived via * $(t-t_{min})/(t_{max}-t_{min})$, $t_{min}=-8$, $t_{max}=+39$ (only in hourly scale)\n",
        "* **atemp**: Normalized feeling temperature in Celsius. The values are derived via $(t-t_{min})/(t_{max}-t_{min})$, $t_{min}=-16$, $t_{max}=+50$ (only in hourly scale)\n",
        "* **hum**: Normalized humidity. The values are divided to 100 ($max$)\n",
        "* **windspeed**: Normalized wind speed. The values are divided to 67 ($max$)\n",
        "* **casual**: count of casual users\n",
        "* **registered**: count of registered users\n",
        "\n",
        "### Outcome\n",
        "* **cnt**: count of total rental bikes including both casual and registered"
      ]
    },
    {
      "cell_type": "markdown",
      "metadata": {
        "id": "KTWRp6Fb3XgO",
        "colab_type": "text"
      },
      "source": [
        "*** \n",
        "# Exercise #1 - Load data\n",
        "*** "
      ]
    },
    {
      "cell_type": "markdown",
      "metadata": {
        "id": "7miNYoHKyzJQ",
        "colab_type": "text"
      },
      "source": [
        "1.1 Download data file and `unzip`."
      ]
    },
    {
      "cell_type": "code",
      "metadata": {
        "id": "b5INY7OeXJbp",
        "colab_type": "code",
        "outputId": "8b49405b-bab0-479e-c51b-e7ab1083b5c2",
        "colab": {
          "base_uri": "https://localhost:8080/",
          "height": 323
        }
      },
      "source": [
        "# run this code\n",
        "!wget 'http://archive.ics.uci.edu/ml/machine-learning-databases/00275/Bike-Sharing-Dataset.zip'\n",
        "!unzip 'Bike-Sharing-Dataset.zip'\n",
        "# you only need to run once\n",
        "# you may comment these lines out after running (in case you run-all later)"
      ],
      "execution_count": 2,
      "outputs": [
        {
          "output_type": "stream",
          "text": [
            "--2020-04-14 16:53:18--  http://archive.ics.uci.edu/ml/machine-learning-databases/00275/Bike-Sharing-Dataset.zip\n",
            "Resolving archive.ics.uci.edu (archive.ics.uci.edu)... 128.195.10.252\n",
            "Connecting to archive.ics.uci.edu (archive.ics.uci.edu)|128.195.10.252|:80... connected.\n",
            "HTTP request sent, awaiting response... 200 OK\n",
            "Length: 279992 (273K) [application/x-httpd-php]\n",
            "Saving to: ‘Bike-Sharing-Dataset.zip.8’\n",
            "\n",
            "\r          Bike-Shar   0%[                    ]       0  --.-KB/s               \r         Bike-Shari  38%[======>             ] 106.61K   494KB/s               \rBike-Sharing-Datase 100%[===================>] 273.43K   984KB/s    in 0.3s    \n",
            "\n",
            "2020-04-14 16:53:19 (984 KB/s) - ‘Bike-Sharing-Dataset.zip.8’ saved [279992/279992]\n",
            "\n",
            "Archive:  Bike-Sharing-Dataset.zip\n",
            "replace Readme.txt? [y]es, [n]o, [A]ll, [N]one, [r]ename: y\n",
            "  inflating: Readme.txt              \n",
            "replace day.csv? [y]es, [n]o, [A]ll, [N]one, [r]ename: y\n",
            "  inflating: day.csv                 \n",
            "replace hour.csv? [y]es, [n]o, [A]ll, [N]one, [r]ename: y\n",
            "  inflating: hour.csv                \n"
          ],
          "name": "stdout"
        }
      ]
    },
    {
      "cell_type": "markdown",
      "metadata": {
        "id": "jji1RLVaMS47",
        "colab_type": "text"
      },
      "source": [
        "1.2 Load the dataset from the url and `display(df)`."
      ]
    },
    {
      "cell_type": "markdown",
      "metadata": {
        "id": "csQUfploTj7T",
        "colab_type": "text"
      },
      "source": [
        "> Header is included in the `.csv`"
      ]
    },
    {
      "cell_type": "code",
      "metadata": {
        "id": "DcIBzGISJ9Xd",
        "colab_type": "code",
        "colab": {
          "base_uri": "https://localhost:8080/",
          "height": 419
        },
        "outputId": "34dd5283-1f34-4de2-93d9-5384aaac9269"
      },
      "source": [
        "# load the dataset into a dataframe\n",
        "file = 'day.csv'\n",
        "df = pd.read_csv(file)\n",
        "df"
      ],
      "execution_count": 3,
      "outputs": [
        {
          "output_type": "execute_result",
          "data": {
            "text/html": [
              "<div>\n",
              "<style scoped>\n",
              "    .dataframe tbody tr th:only-of-type {\n",
              "        vertical-align: middle;\n",
              "    }\n",
              "\n",
              "    .dataframe tbody tr th {\n",
              "        vertical-align: top;\n",
              "    }\n",
              "\n",
              "    .dataframe thead th {\n",
              "        text-align: right;\n",
              "    }\n",
              "</style>\n",
              "<table border=\"1\" class=\"dataframe\">\n",
              "  <thead>\n",
              "    <tr style=\"text-align: right;\">\n",
              "      <th></th>\n",
              "      <th>instant</th>\n",
              "      <th>dteday</th>\n",
              "      <th>season</th>\n",
              "      <th>yr</th>\n",
              "      <th>mnth</th>\n",
              "      <th>holiday</th>\n",
              "      <th>weekday</th>\n",
              "      <th>workingday</th>\n",
              "      <th>weathersit</th>\n",
              "      <th>temp</th>\n",
              "      <th>atemp</th>\n",
              "      <th>hum</th>\n",
              "      <th>windspeed</th>\n",
              "      <th>casual</th>\n",
              "      <th>registered</th>\n",
              "      <th>cnt</th>\n",
              "    </tr>\n",
              "  </thead>\n",
              "  <tbody>\n",
              "    <tr>\n",
              "      <th>0</th>\n",
              "      <td>1</td>\n",
              "      <td>2011-01-01</td>\n",
              "      <td>1</td>\n",
              "      <td>0</td>\n",
              "      <td>1</td>\n",
              "      <td>0</td>\n",
              "      <td>6</td>\n",
              "      <td>0</td>\n",
              "      <td>2</td>\n",
              "      <td>0.344167</td>\n",
              "      <td>0.363625</td>\n",
              "      <td>0.805833</td>\n",
              "      <td>0.160446</td>\n",
              "      <td>331</td>\n",
              "      <td>654</td>\n",
              "      <td>985</td>\n",
              "    </tr>\n",
              "    <tr>\n",
              "      <th>1</th>\n",
              "      <td>2</td>\n",
              "      <td>2011-01-02</td>\n",
              "      <td>1</td>\n",
              "      <td>0</td>\n",
              "      <td>1</td>\n",
              "      <td>0</td>\n",
              "      <td>0</td>\n",
              "      <td>0</td>\n",
              "      <td>2</td>\n",
              "      <td>0.363478</td>\n",
              "      <td>0.353739</td>\n",
              "      <td>0.696087</td>\n",
              "      <td>0.248539</td>\n",
              "      <td>131</td>\n",
              "      <td>670</td>\n",
              "      <td>801</td>\n",
              "    </tr>\n",
              "    <tr>\n",
              "      <th>2</th>\n",
              "      <td>3</td>\n",
              "      <td>2011-01-03</td>\n",
              "      <td>1</td>\n",
              "      <td>0</td>\n",
              "      <td>1</td>\n",
              "      <td>0</td>\n",
              "      <td>1</td>\n",
              "      <td>1</td>\n",
              "      <td>1</td>\n",
              "      <td>0.196364</td>\n",
              "      <td>0.189405</td>\n",
              "      <td>0.437273</td>\n",
              "      <td>0.248309</td>\n",
              "      <td>120</td>\n",
              "      <td>1229</td>\n",
              "      <td>1349</td>\n",
              "    </tr>\n",
              "    <tr>\n",
              "      <th>3</th>\n",
              "      <td>4</td>\n",
              "      <td>2011-01-04</td>\n",
              "      <td>1</td>\n",
              "      <td>0</td>\n",
              "      <td>1</td>\n",
              "      <td>0</td>\n",
              "      <td>2</td>\n",
              "      <td>1</td>\n",
              "      <td>1</td>\n",
              "      <td>0.200000</td>\n",
              "      <td>0.212122</td>\n",
              "      <td>0.590435</td>\n",
              "      <td>0.160296</td>\n",
              "      <td>108</td>\n",
              "      <td>1454</td>\n",
              "      <td>1562</td>\n",
              "    </tr>\n",
              "    <tr>\n",
              "      <th>4</th>\n",
              "      <td>5</td>\n",
              "      <td>2011-01-05</td>\n",
              "      <td>1</td>\n",
              "      <td>0</td>\n",
              "      <td>1</td>\n",
              "      <td>0</td>\n",
              "      <td>3</td>\n",
              "      <td>1</td>\n",
              "      <td>1</td>\n",
              "      <td>0.226957</td>\n",
              "      <td>0.229270</td>\n",
              "      <td>0.436957</td>\n",
              "      <td>0.186900</td>\n",
              "      <td>82</td>\n",
              "      <td>1518</td>\n",
              "      <td>1600</td>\n",
              "    </tr>\n",
              "    <tr>\n",
              "      <th>...</th>\n",
              "      <td>...</td>\n",
              "      <td>...</td>\n",
              "      <td>...</td>\n",
              "      <td>...</td>\n",
              "      <td>...</td>\n",
              "      <td>...</td>\n",
              "      <td>...</td>\n",
              "      <td>...</td>\n",
              "      <td>...</td>\n",
              "      <td>...</td>\n",
              "      <td>...</td>\n",
              "      <td>...</td>\n",
              "      <td>...</td>\n",
              "      <td>...</td>\n",
              "      <td>...</td>\n",
              "      <td>...</td>\n",
              "    </tr>\n",
              "    <tr>\n",
              "      <th>726</th>\n",
              "      <td>727</td>\n",
              "      <td>2012-12-27</td>\n",
              "      <td>1</td>\n",
              "      <td>1</td>\n",
              "      <td>12</td>\n",
              "      <td>0</td>\n",
              "      <td>4</td>\n",
              "      <td>1</td>\n",
              "      <td>2</td>\n",
              "      <td>0.254167</td>\n",
              "      <td>0.226642</td>\n",
              "      <td>0.652917</td>\n",
              "      <td>0.350133</td>\n",
              "      <td>247</td>\n",
              "      <td>1867</td>\n",
              "      <td>2114</td>\n",
              "    </tr>\n",
              "    <tr>\n",
              "      <th>727</th>\n",
              "      <td>728</td>\n",
              "      <td>2012-12-28</td>\n",
              "      <td>1</td>\n",
              "      <td>1</td>\n",
              "      <td>12</td>\n",
              "      <td>0</td>\n",
              "      <td>5</td>\n",
              "      <td>1</td>\n",
              "      <td>2</td>\n",
              "      <td>0.253333</td>\n",
              "      <td>0.255046</td>\n",
              "      <td>0.590000</td>\n",
              "      <td>0.155471</td>\n",
              "      <td>644</td>\n",
              "      <td>2451</td>\n",
              "      <td>3095</td>\n",
              "    </tr>\n",
              "    <tr>\n",
              "      <th>728</th>\n",
              "      <td>729</td>\n",
              "      <td>2012-12-29</td>\n",
              "      <td>1</td>\n",
              "      <td>1</td>\n",
              "      <td>12</td>\n",
              "      <td>0</td>\n",
              "      <td>6</td>\n",
              "      <td>0</td>\n",
              "      <td>2</td>\n",
              "      <td>0.253333</td>\n",
              "      <td>0.242400</td>\n",
              "      <td>0.752917</td>\n",
              "      <td>0.124383</td>\n",
              "      <td>159</td>\n",
              "      <td>1182</td>\n",
              "      <td>1341</td>\n",
              "    </tr>\n",
              "    <tr>\n",
              "      <th>729</th>\n",
              "      <td>730</td>\n",
              "      <td>2012-12-30</td>\n",
              "      <td>1</td>\n",
              "      <td>1</td>\n",
              "      <td>12</td>\n",
              "      <td>0</td>\n",
              "      <td>0</td>\n",
              "      <td>0</td>\n",
              "      <td>1</td>\n",
              "      <td>0.255833</td>\n",
              "      <td>0.231700</td>\n",
              "      <td>0.483333</td>\n",
              "      <td>0.350754</td>\n",
              "      <td>364</td>\n",
              "      <td>1432</td>\n",
              "      <td>1796</td>\n",
              "    </tr>\n",
              "    <tr>\n",
              "      <th>730</th>\n",
              "      <td>731</td>\n",
              "      <td>2012-12-31</td>\n",
              "      <td>1</td>\n",
              "      <td>1</td>\n",
              "      <td>12</td>\n",
              "      <td>0</td>\n",
              "      <td>1</td>\n",
              "      <td>1</td>\n",
              "      <td>2</td>\n",
              "      <td>0.215833</td>\n",
              "      <td>0.223487</td>\n",
              "      <td>0.577500</td>\n",
              "      <td>0.154846</td>\n",
              "      <td>439</td>\n",
              "      <td>2290</td>\n",
              "      <td>2729</td>\n",
              "    </tr>\n",
              "  </tbody>\n",
              "</table>\n",
              "<p>731 rows × 16 columns</p>\n",
              "</div>"
            ],
            "text/plain": [
              "     instant      dteday  season  yr  ...  windspeed  casual  registered   cnt\n",
              "0          1  2011-01-01       1   0  ...   0.160446     331         654   985\n",
              "1          2  2011-01-02       1   0  ...   0.248539     131         670   801\n",
              "2          3  2011-01-03       1   0  ...   0.248309     120        1229  1349\n",
              "3          4  2011-01-04       1   0  ...   0.160296     108        1454  1562\n",
              "4          5  2011-01-05       1   0  ...   0.186900      82        1518  1600\n",
              "..       ...         ...     ...  ..  ...        ...     ...         ...   ...\n",
              "726      727  2012-12-27       1   1  ...   0.350133     247        1867  2114\n",
              "727      728  2012-12-28       1   1  ...   0.155471     644        2451  3095\n",
              "728      729  2012-12-29       1   1  ...   0.124383     159        1182  1341\n",
              "729      730  2012-12-30       1   1  ...   0.350754     364        1432  1796\n",
              "730      731  2012-12-31       1   1  ...   0.154846     439        2290  2729\n",
              "\n",
              "[731 rows x 16 columns]"
            ]
          },
          "metadata": {
            "tags": []
          },
          "execution_count": 3
        }
      ]
    },
    {
      "cell_type": "markdown",
      "metadata": {
        "id": "_-yHuAw5zAvd",
        "colab_type": "text"
      },
      "source": [
        "##### 1.3 Count the number of records"
      ]
    },
    {
      "cell_type": "code",
      "metadata": {
        "id": "_7KwcT1zzEHa",
        "colab_type": "code",
        "colab": {
          "base_uri": "https://localhost:8080/",
          "height": 34
        },
        "outputId": "0041c8a5-8b29-4dcd-b28c-1d677fceee0a"
      },
      "source": [
        "# count the number of rows\n",
        "df.shape"
      ],
      "execution_count": 4,
      "outputs": [
        {
          "output_type": "execute_result",
          "data": {
            "text/plain": [
              "(731, 16)"
            ]
          },
          "metadata": {
            "tags": []
          },
          "execution_count": 4
        }
      ]
    },
    {
      "cell_type": "markdown",
      "metadata": {
        "id": "0VmkYBR7zJ6E",
        "colab_type": "text"
      },
      "source": [
        "##### 1.4 Drop non-feature columns"
      ]
    },
    {
      "cell_type": "code",
      "metadata": {
        "id": "IXbPNv-jXhP9",
        "colab_type": "code",
        "colab": {
          "base_uri": "https://localhost:8080/",
          "height": 419
        },
        "outputId": "4bb77e24-c833-4ad0-f0ec-3b6e5dcff1f8"
      },
      "source": [
        "# drop 'instant' and 'dteday'\n",
        "df = df.drop(['instant', 'dteday'], axis=1)\n",
        "df"
      ],
      "execution_count": 5,
      "outputs": [
        {
          "output_type": "execute_result",
          "data": {
            "text/html": [
              "<div>\n",
              "<style scoped>\n",
              "    .dataframe tbody tr th:only-of-type {\n",
              "        vertical-align: middle;\n",
              "    }\n",
              "\n",
              "    .dataframe tbody tr th {\n",
              "        vertical-align: top;\n",
              "    }\n",
              "\n",
              "    .dataframe thead th {\n",
              "        text-align: right;\n",
              "    }\n",
              "</style>\n",
              "<table border=\"1\" class=\"dataframe\">\n",
              "  <thead>\n",
              "    <tr style=\"text-align: right;\">\n",
              "      <th></th>\n",
              "      <th>season</th>\n",
              "      <th>yr</th>\n",
              "      <th>mnth</th>\n",
              "      <th>holiday</th>\n",
              "      <th>weekday</th>\n",
              "      <th>workingday</th>\n",
              "      <th>weathersit</th>\n",
              "      <th>temp</th>\n",
              "      <th>atemp</th>\n",
              "      <th>hum</th>\n",
              "      <th>windspeed</th>\n",
              "      <th>casual</th>\n",
              "      <th>registered</th>\n",
              "      <th>cnt</th>\n",
              "    </tr>\n",
              "  </thead>\n",
              "  <tbody>\n",
              "    <tr>\n",
              "      <th>0</th>\n",
              "      <td>1</td>\n",
              "      <td>0</td>\n",
              "      <td>1</td>\n",
              "      <td>0</td>\n",
              "      <td>6</td>\n",
              "      <td>0</td>\n",
              "      <td>2</td>\n",
              "      <td>0.344167</td>\n",
              "      <td>0.363625</td>\n",
              "      <td>0.805833</td>\n",
              "      <td>0.160446</td>\n",
              "      <td>331</td>\n",
              "      <td>654</td>\n",
              "      <td>985</td>\n",
              "    </tr>\n",
              "    <tr>\n",
              "      <th>1</th>\n",
              "      <td>1</td>\n",
              "      <td>0</td>\n",
              "      <td>1</td>\n",
              "      <td>0</td>\n",
              "      <td>0</td>\n",
              "      <td>0</td>\n",
              "      <td>2</td>\n",
              "      <td>0.363478</td>\n",
              "      <td>0.353739</td>\n",
              "      <td>0.696087</td>\n",
              "      <td>0.248539</td>\n",
              "      <td>131</td>\n",
              "      <td>670</td>\n",
              "      <td>801</td>\n",
              "    </tr>\n",
              "    <tr>\n",
              "      <th>2</th>\n",
              "      <td>1</td>\n",
              "      <td>0</td>\n",
              "      <td>1</td>\n",
              "      <td>0</td>\n",
              "      <td>1</td>\n",
              "      <td>1</td>\n",
              "      <td>1</td>\n",
              "      <td>0.196364</td>\n",
              "      <td>0.189405</td>\n",
              "      <td>0.437273</td>\n",
              "      <td>0.248309</td>\n",
              "      <td>120</td>\n",
              "      <td>1229</td>\n",
              "      <td>1349</td>\n",
              "    </tr>\n",
              "    <tr>\n",
              "      <th>3</th>\n",
              "      <td>1</td>\n",
              "      <td>0</td>\n",
              "      <td>1</td>\n",
              "      <td>0</td>\n",
              "      <td>2</td>\n",
              "      <td>1</td>\n",
              "      <td>1</td>\n",
              "      <td>0.200000</td>\n",
              "      <td>0.212122</td>\n",
              "      <td>0.590435</td>\n",
              "      <td>0.160296</td>\n",
              "      <td>108</td>\n",
              "      <td>1454</td>\n",
              "      <td>1562</td>\n",
              "    </tr>\n",
              "    <tr>\n",
              "      <th>4</th>\n",
              "      <td>1</td>\n",
              "      <td>0</td>\n",
              "      <td>1</td>\n",
              "      <td>0</td>\n",
              "      <td>3</td>\n",
              "      <td>1</td>\n",
              "      <td>1</td>\n",
              "      <td>0.226957</td>\n",
              "      <td>0.229270</td>\n",
              "      <td>0.436957</td>\n",
              "      <td>0.186900</td>\n",
              "      <td>82</td>\n",
              "      <td>1518</td>\n",
              "      <td>1600</td>\n",
              "    </tr>\n",
              "    <tr>\n",
              "      <th>...</th>\n",
              "      <td>...</td>\n",
              "      <td>...</td>\n",
              "      <td>...</td>\n",
              "      <td>...</td>\n",
              "      <td>...</td>\n",
              "      <td>...</td>\n",
              "      <td>...</td>\n",
              "      <td>...</td>\n",
              "      <td>...</td>\n",
              "      <td>...</td>\n",
              "      <td>...</td>\n",
              "      <td>...</td>\n",
              "      <td>...</td>\n",
              "      <td>...</td>\n",
              "    </tr>\n",
              "    <tr>\n",
              "      <th>726</th>\n",
              "      <td>1</td>\n",
              "      <td>1</td>\n",
              "      <td>12</td>\n",
              "      <td>0</td>\n",
              "      <td>4</td>\n",
              "      <td>1</td>\n",
              "      <td>2</td>\n",
              "      <td>0.254167</td>\n",
              "      <td>0.226642</td>\n",
              "      <td>0.652917</td>\n",
              "      <td>0.350133</td>\n",
              "      <td>247</td>\n",
              "      <td>1867</td>\n",
              "      <td>2114</td>\n",
              "    </tr>\n",
              "    <tr>\n",
              "      <th>727</th>\n",
              "      <td>1</td>\n",
              "      <td>1</td>\n",
              "      <td>12</td>\n",
              "      <td>0</td>\n",
              "      <td>5</td>\n",
              "      <td>1</td>\n",
              "      <td>2</td>\n",
              "      <td>0.253333</td>\n",
              "      <td>0.255046</td>\n",
              "      <td>0.590000</td>\n",
              "      <td>0.155471</td>\n",
              "      <td>644</td>\n",
              "      <td>2451</td>\n",
              "      <td>3095</td>\n",
              "    </tr>\n",
              "    <tr>\n",
              "      <th>728</th>\n",
              "      <td>1</td>\n",
              "      <td>1</td>\n",
              "      <td>12</td>\n",
              "      <td>0</td>\n",
              "      <td>6</td>\n",
              "      <td>0</td>\n",
              "      <td>2</td>\n",
              "      <td>0.253333</td>\n",
              "      <td>0.242400</td>\n",
              "      <td>0.752917</td>\n",
              "      <td>0.124383</td>\n",
              "      <td>159</td>\n",
              "      <td>1182</td>\n",
              "      <td>1341</td>\n",
              "    </tr>\n",
              "    <tr>\n",
              "      <th>729</th>\n",
              "      <td>1</td>\n",
              "      <td>1</td>\n",
              "      <td>12</td>\n",
              "      <td>0</td>\n",
              "      <td>0</td>\n",
              "      <td>0</td>\n",
              "      <td>1</td>\n",
              "      <td>0.255833</td>\n",
              "      <td>0.231700</td>\n",
              "      <td>0.483333</td>\n",
              "      <td>0.350754</td>\n",
              "      <td>364</td>\n",
              "      <td>1432</td>\n",
              "      <td>1796</td>\n",
              "    </tr>\n",
              "    <tr>\n",
              "      <th>730</th>\n",
              "      <td>1</td>\n",
              "      <td>1</td>\n",
              "      <td>12</td>\n",
              "      <td>0</td>\n",
              "      <td>1</td>\n",
              "      <td>1</td>\n",
              "      <td>2</td>\n",
              "      <td>0.215833</td>\n",
              "      <td>0.223487</td>\n",
              "      <td>0.577500</td>\n",
              "      <td>0.154846</td>\n",
              "      <td>439</td>\n",
              "      <td>2290</td>\n",
              "      <td>2729</td>\n",
              "    </tr>\n",
              "  </tbody>\n",
              "</table>\n",
              "<p>731 rows × 14 columns</p>\n",
              "</div>"
            ],
            "text/plain": [
              "     season  yr  mnth  holiday  ...  windspeed  casual  registered   cnt\n",
              "0         1   0     1        0  ...   0.160446     331         654   985\n",
              "1         1   0     1        0  ...   0.248539     131         670   801\n",
              "2         1   0     1        0  ...   0.248309     120        1229  1349\n",
              "3         1   0     1        0  ...   0.160296     108        1454  1562\n",
              "4         1   0     1        0  ...   0.186900      82        1518  1600\n",
              "..      ...  ..   ...      ...  ...        ...     ...         ...   ...\n",
              "726       1   1    12        0  ...   0.350133     247        1867  2114\n",
              "727       1   1    12        0  ...   0.155471     644        2451  3095\n",
              "728       1   1    12        0  ...   0.124383     159        1182  1341\n",
              "729       1   1    12        0  ...   0.350754     364        1432  1796\n",
              "730       1   1    12        0  ...   0.154846     439        2290  2729\n",
              "\n",
              "[731 rows x 14 columns]"
            ]
          },
          "metadata": {
            "tags": []
          },
          "execution_count": 5
        }
      ]
    },
    {
      "cell_type": "markdown",
      "metadata": {
        "id": "FrGwtpS4zca-",
        "colab_type": "text"
      },
      "source": [
        "##### 1.5 Describe the data"
      ]
    },
    {
      "cell_type": "code",
      "metadata": {
        "id": "t5G8c0G5zczr",
        "colab_type": "code",
        "colab": {
          "base_uri": "https://localhost:8080/",
          "height": 297
        },
        "outputId": "ccb506cb-5424-4f80-dd00-3c672705fb0d"
      },
      "source": [
        "# describe the data\n",
        "df.describe()"
      ],
      "execution_count": 6,
      "outputs": [
        {
          "output_type": "execute_result",
          "data": {
            "text/html": [
              "<div>\n",
              "<style scoped>\n",
              "    .dataframe tbody tr th:only-of-type {\n",
              "        vertical-align: middle;\n",
              "    }\n",
              "\n",
              "    .dataframe tbody tr th {\n",
              "        vertical-align: top;\n",
              "    }\n",
              "\n",
              "    .dataframe thead th {\n",
              "        text-align: right;\n",
              "    }\n",
              "</style>\n",
              "<table border=\"1\" class=\"dataframe\">\n",
              "  <thead>\n",
              "    <tr style=\"text-align: right;\">\n",
              "      <th></th>\n",
              "      <th>season</th>\n",
              "      <th>yr</th>\n",
              "      <th>mnth</th>\n",
              "      <th>holiday</th>\n",
              "      <th>weekday</th>\n",
              "      <th>workingday</th>\n",
              "      <th>weathersit</th>\n",
              "      <th>temp</th>\n",
              "      <th>atemp</th>\n",
              "      <th>hum</th>\n",
              "      <th>windspeed</th>\n",
              "      <th>casual</th>\n",
              "      <th>registered</th>\n",
              "      <th>cnt</th>\n",
              "    </tr>\n",
              "  </thead>\n",
              "  <tbody>\n",
              "    <tr>\n",
              "      <th>count</th>\n",
              "      <td>731.000000</td>\n",
              "      <td>731.000000</td>\n",
              "      <td>731.000000</td>\n",
              "      <td>731.000000</td>\n",
              "      <td>731.000000</td>\n",
              "      <td>731.000000</td>\n",
              "      <td>731.000000</td>\n",
              "      <td>731.000000</td>\n",
              "      <td>731.000000</td>\n",
              "      <td>731.000000</td>\n",
              "      <td>731.000000</td>\n",
              "      <td>731.000000</td>\n",
              "      <td>731.000000</td>\n",
              "      <td>731.000000</td>\n",
              "    </tr>\n",
              "    <tr>\n",
              "      <th>mean</th>\n",
              "      <td>2.496580</td>\n",
              "      <td>0.500684</td>\n",
              "      <td>6.519836</td>\n",
              "      <td>0.028728</td>\n",
              "      <td>2.997264</td>\n",
              "      <td>0.683995</td>\n",
              "      <td>1.395349</td>\n",
              "      <td>0.495385</td>\n",
              "      <td>0.474354</td>\n",
              "      <td>0.627894</td>\n",
              "      <td>0.190486</td>\n",
              "      <td>848.176471</td>\n",
              "      <td>3656.172367</td>\n",
              "      <td>4504.348837</td>\n",
              "    </tr>\n",
              "    <tr>\n",
              "      <th>std</th>\n",
              "      <td>1.110807</td>\n",
              "      <td>0.500342</td>\n",
              "      <td>3.451913</td>\n",
              "      <td>0.167155</td>\n",
              "      <td>2.004787</td>\n",
              "      <td>0.465233</td>\n",
              "      <td>0.544894</td>\n",
              "      <td>0.183051</td>\n",
              "      <td>0.162961</td>\n",
              "      <td>0.142429</td>\n",
              "      <td>0.077498</td>\n",
              "      <td>686.622488</td>\n",
              "      <td>1560.256377</td>\n",
              "      <td>1937.211452</td>\n",
              "    </tr>\n",
              "    <tr>\n",
              "      <th>min</th>\n",
              "      <td>1.000000</td>\n",
              "      <td>0.000000</td>\n",
              "      <td>1.000000</td>\n",
              "      <td>0.000000</td>\n",
              "      <td>0.000000</td>\n",
              "      <td>0.000000</td>\n",
              "      <td>1.000000</td>\n",
              "      <td>0.059130</td>\n",
              "      <td>0.079070</td>\n",
              "      <td>0.000000</td>\n",
              "      <td>0.022392</td>\n",
              "      <td>2.000000</td>\n",
              "      <td>20.000000</td>\n",
              "      <td>22.000000</td>\n",
              "    </tr>\n",
              "    <tr>\n",
              "      <th>25%</th>\n",
              "      <td>2.000000</td>\n",
              "      <td>0.000000</td>\n",
              "      <td>4.000000</td>\n",
              "      <td>0.000000</td>\n",
              "      <td>1.000000</td>\n",
              "      <td>0.000000</td>\n",
              "      <td>1.000000</td>\n",
              "      <td>0.337083</td>\n",
              "      <td>0.337842</td>\n",
              "      <td>0.520000</td>\n",
              "      <td>0.134950</td>\n",
              "      <td>315.500000</td>\n",
              "      <td>2497.000000</td>\n",
              "      <td>3152.000000</td>\n",
              "    </tr>\n",
              "    <tr>\n",
              "      <th>50%</th>\n",
              "      <td>3.000000</td>\n",
              "      <td>1.000000</td>\n",
              "      <td>7.000000</td>\n",
              "      <td>0.000000</td>\n",
              "      <td>3.000000</td>\n",
              "      <td>1.000000</td>\n",
              "      <td>1.000000</td>\n",
              "      <td>0.498333</td>\n",
              "      <td>0.486733</td>\n",
              "      <td>0.626667</td>\n",
              "      <td>0.180975</td>\n",
              "      <td>713.000000</td>\n",
              "      <td>3662.000000</td>\n",
              "      <td>4548.000000</td>\n",
              "    </tr>\n",
              "    <tr>\n",
              "      <th>75%</th>\n",
              "      <td>3.000000</td>\n",
              "      <td>1.000000</td>\n",
              "      <td>10.000000</td>\n",
              "      <td>0.000000</td>\n",
              "      <td>5.000000</td>\n",
              "      <td>1.000000</td>\n",
              "      <td>2.000000</td>\n",
              "      <td>0.655417</td>\n",
              "      <td>0.608602</td>\n",
              "      <td>0.730209</td>\n",
              "      <td>0.233214</td>\n",
              "      <td>1096.000000</td>\n",
              "      <td>4776.500000</td>\n",
              "      <td>5956.000000</td>\n",
              "    </tr>\n",
              "    <tr>\n",
              "      <th>max</th>\n",
              "      <td>4.000000</td>\n",
              "      <td>1.000000</td>\n",
              "      <td>12.000000</td>\n",
              "      <td>1.000000</td>\n",
              "      <td>6.000000</td>\n",
              "      <td>1.000000</td>\n",
              "      <td>3.000000</td>\n",
              "      <td>0.861667</td>\n",
              "      <td>0.840896</td>\n",
              "      <td>0.972500</td>\n",
              "      <td>0.507463</td>\n",
              "      <td>3410.000000</td>\n",
              "      <td>6946.000000</td>\n",
              "      <td>8714.000000</td>\n",
              "    </tr>\n",
              "  </tbody>\n",
              "</table>\n",
              "</div>"
            ],
            "text/plain": [
              "           season          yr  ...   registered          cnt\n",
              "count  731.000000  731.000000  ...   731.000000   731.000000\n",
              "mean     2.496580    0.500684  ...  3656.172367  4504.348837\n",
              "std      1.110807    0.500342  ...  1560.256377  1937.211452\n",
              "min      1.000000    0.000000  ...    20.000000    22.000000\n",
              "25%      2.000000    0.000000  ...  2497.000000  3152.000000\n",
              "50%      3.000000    1.000000  ...  3662.000000  4548.000000\n",
              "75%      3.000000    1.000000  ...  4776.500000  5956.000000\n",
              "max      4.000000    1.000000  ...  6946.000000  8714.000000\n",
              "\n",
              "[8 rows x 14 columns]"
            ]
          },
          "metadata": {
            "tags": []
          },
          "execution_count": 6
        }
      ]
    },
    {
      "cell_type": "markdown",
      "metadata": {
        "id": "uzo6TmppeSdn",
        "colab_type": "text"
      },
      "source": [
        "*** \n",
        "# Exercise #2 - Build a pipeline\n",
        "*** "
      ]
    },
    {
      "cell_type": "markdown",
      "metadata": {
        "id": "DR93thMczqUe",
        "colab_type": "text"
      },
      "source": [
        "##### 2.1 Split features and class output"
      ]
    },
    {
      "cell_type": "code",
      "metadata": {
        "id": "2AYhU3A1-ruO",
        "colab_type": "code",
        "colab": {
          "base_uri": "https://localhost:8080/",
          "height": 34
        },
        "outputId": "db8088c0-d6e3-468f-a6e6-713a506382e8"
      },
      "source": [
        "# split to X and y\n",
        "X, y = df.iloc[:, :-1].values, df.iloc[:, -1].values\n",
        "print(X.shape, y.shape)"
      ],
      "execution_count": 7,
      "outputs": [
        {
          "output_type": "stream",
          "text": [
            "(731, 13) (731,)\n"
          ],
          "name": "stdout"
        }
      ]
    },
    {
      "cell_type": "markdown",
      "metadata": {
        "id": "A2Iz0iRM0Cyf",
        "colab_type": "text"
      },
      "source": [
        "##### 2.2 Partition to train and test (0.33)"
      ]
    },
    {
      "cell_type": "code",
      "metadata": {
        "id": "cbtq8-EX-gsY",
        "colab_type": "code",
        "colab": {}
      },
      "source": [
        "# partition to train and test\n",
        "X_train, X_test, y_train, y_test = \\\n",
        "    train_test_split(X, y, \n",
        "                     test_size=0.33,\n",
        "                     random_state=1)"
      ],
      "execution_count": 0,
      "outputs": []
    },
    {
      "cell_type": "markdown",
      "metadata": {
        "id": "ClRzihaE0J7g",
        "colab_type": "text"
      },
      "source": [
        "##### 2.4 Build a pipeline"
      ]
    },
    {
      "cell_type": "markdown",
      "metadata": {
        "id": "iDfX66ww0knS",
        "colab_type": "text"
      },
      "source": [
        "> For your pipeline, use:\n",
        "* `StandardScaler()`\n",
        "* `RandomForestRegressor(n_estimators=10, max_features='sqrt')` for the classifier.  \n",
        "\n",
        "Do not use `PCA`."
      ]
    },
    {
      "cell_type": "code",
      "metadata": {
        "id": "pruD4fvPMt2H",
        "colab_type": "code",
        "colab": {}
      },
      "source": [
        "# build a pipeline\n",
        "pipe = make_pipeline(StandardScaler(),\n",
        "                        RandomForestRegressor(n_estimators=10, max_features='sqrt'))\n"
      ],
      "execution_count": 0,
      "outputs": []
    },
    {
      "cell_type": "markdown",
      "metadata": {
        "id": "AhANni4Z0PyD",
        "colab_type": "text"
      },
      "source": [
        "##### 2.5 Train model and predict test set"
      ]
    },
    {
      "cell_type": "markdown",
      "metadata": {
        "id": "NX6qK-De4doc",
        "colab_type": "text"
      },
      "source": [
        "> Save your prediction in variable `y_pred`."
      ]
    },
    {
      "cell_type": "code",
      "metadata": {
        "id": "5unoxtwOAFzT",
        "colab_type": "code",
        "colab": {
          "base_uri": "https://localhost:8080/",
          "height": 34
        },
        "outputId": "2a498495-2cf6-49c7-dc83-f4c174319fee"
      },
      "source": [
        "# train your pipeline; predict test set; display accuracy\n",
        "pipe.fit(X_train, y_train)\n",
        "y_pred = pipe.predict(X_test)\n",
        "print('Test Accuracy: %.3f' % pipe.score(X_test, y_test))"
      ],
      "execution_count": 10,
      "outputs": [
        {
          "output_type": "stream",
          "text": [
            "Test Accuracy: 0.970\n"
          ],
          "name": "stdout"
        }
      ]
    },
    {
      "cell_type": "markdown",
      "metadata": {
        "id": "dHzjg90xeAjh",
        "colab_type": "text"
      },
      "source": [
        "##### Self Check"
      ]
    },
    {
      "cell_type": "code",
      "metadata": {
        "id": "qGbd6UT3d1AQ",
        "colab_type": "code",
        "colab": {
          "base_uri": "https://localhost:8080/",
          "height": 34
        },
        "outputId": "200c7623-9675-45ee-aca3-0b2f723c5b3b"
      },
      "source": [
        "# predict train set and print accuracy\n",
        "print('Train Accuracy: %.3f' % pipe.score(X_train, y_train))"
      ],
      "execution_count": 11,
      "outputs": [
        {
          "output_type": "stream",
          "text": [
            "Train Accuracy: 0.990\n"
          ],
          "name": "stdout"
        }
      ]
    },
    {
      "cell_type": "markdown",
      "metadata": {
        "id": "IaF2WYkVeCxm",
        "colab_type": "text"
      },
      "source": [
        "> `Train Accuracy: 0.990`"
      ]
    },
    {
      "cell_type": "markdown",
      "metadata": {
        "id": "o7DDPCyS1bdH",
        "colab_type": "text"
      },
      "source": [
        "*** \n",
        "# Exercise #3 - Explore the results\n",
        "***"
      ]
    },
    {
      "cell_type": "markdown",
      "metadata": {
        "id": "K1kha2op5Oiq",
        "colab_type": "text"
      },
      "source": [
        "Now, let's examine these results to get a sense of of our predictions."
      ]
    },
    {
      "cell_type": "markdown",
      "metadata": {
        "id": "cYWDWMO_4Hsi",
        "colab_type": "text"
      },
      "source": [
        "##### 3.1 Print `y_test` and see the `y` true values"
      ]
    },
    {
      "cell_type": "code",
      "metadata": {
        "id": "Ef06eD8TYBii",
        "colab_type": "code",
        "colab": {
          "base_uri": "https://localhost:8080/",
          "height": 323
        },
        "outputId": "87419a24-26f4-4761-972d-341dec20b1be"
      },
      "source": [
        "# print y_test\n",
        "print(y_test)"
      ],
      "execution_count": 12,
      "outputs": [
        {
          "output_type": "stream",
          "text": [
            "[3830 2114 3915 4322 6591 5204 5323 3351 3068 4972 3351 1977  822 2485\n",
            " 7736 2368 5515 6572 4511 4359 1851 7335 4758 2689 4966 4118 6824 4375\n",
            " 3389 2475  754 3523 1683 1749 6241 4570 1416 3368 6591 4023 4553 7424\n",
            " 4840 5728 5202 4717 7338 4035 2277 4866 2034 7693 3403 1812 4304 2947\n",
            " 1969 7006 4656 1927 2376 2134 5084 2121 4154 8294 4592 5319 1685 3204\n",
            " 7261 6825 5035 1562 7444 7415 7765 4507 1872 3310 4826 3376 7570 2402\n",
            " 5267 3659 3126 4150 6864 3574 1005 5058 5138 5342 3005 1746 1000 6891\n",
            " 4665 1341 3577  985 4367 5047 6192 2192 2594 2169 2133 2302 4058 3644\n",
            " 2425 3740 4788 4509 7458 5538 4066 7273 2496 3761 6597 1693 2918 3322\n",
            " 1421 3333 5478 4905 3249 8362 7592 4630 3785 5847  627 6203 4105 3190\n",
            " 2739 5087 5686 5611 1538 5382  623 3239 4459 7836 4917 7282 8173 4595\n",
            " 7466 3194 1708 3784 7494 1013 6536 6569 5312 1865 3727 2177 5362 3429\n",
            "  683 3292 4195 3422 3387 5409 3750 1977 1815 7509 5336 2311 1162 1536\n",
            " 7641 7001 4758 6691 7393 3867 2429 7582 6917 5698 4790 4401 1635 1360\n",
            " 7534 4484 1951 2802 6457   22 3214 3872 4996 5905 7665 2808 7350 3940\n",
            " 2659 6664 3641 3068 1944 3624 7109 6169 4911 6779 2913 3958 6153 4639\n",
            " 4109 6824 1301 4127 3894 2227 2710 7605 1096 5566 4763 3623 6786 3613\n",
            " 4205 5191 6304 7499]\n"
          ],
          "name": "stdout"
        }
      ]
    },
    {
      "cell_type": "markdown",
      "metadata": {
        "id": "4XZ5IdpA4XUq",
        "colab_type": "text"
      },
      "source": [
        "##### 3.2 Print `y_pred` and see the predicted `y` values"
      ]
    },
    {
      "cell_type": "code",
      "metadata": {
        "id": "v7QMcgOMFEcZ",
        "colab_type": "code",
        "colab": {
          "base_uri": "https://localhost:8080/",
          "height": 442
        },
        "outputId": "dbc75e45-49c9-42e6-cfb0-594a26a43694"
      },
      "source": [
        "# print `y_pred`\n",
        "print(y_pred)"
      ],
      "execution_count": 13,
      "outputs": [
        {
          "output_type": "stream",
          "text": [
            "[3922.3 2073.8 3912.5 4348.1 6175.9 5016.6 4910.1 3761.2 2990.3 5005.1\n",
            " 3269.8 2093.2 1084.2 2898.9 7212.5 2182.4 5409.3 6537.2 4905.3 4678.5\n",
            " 1899.7 7345.6 4704.5 2469.7 4971.9 4403.5 6492.1 4465.5 3472.1 2220.4\n",
            " 1538.7 3638.8 1866.2 2008.7 5939.6 4590.4 1534.4 3636.7 6589.6 4043.5\n",
            " 4663.8 7201.1 5432.8 5646.1 5405.4 5092.8 7144.2 4078.6 2811.5 4967.2\n",
            " 2712.1 7371.9 3571.9 1852.5 4346.8 2648.5 1841.2 7180.6 4666.  2048.9\n",
            " 2285.  1866.8 5105.4 2111.  4042.2 7525.9 4596.3 5216.3 1691.1 3255.7\n",
            " 7054.7 6768.6 5030.2 1527.7 7038.8 7183.2 7570.5 4459.2 1637.9 3404.6\n",
            " 4644.  3929.7 6633.7 2042.5 5203.9 3866.6 3199.4 4396.3 6720.3 3904.\n",
            " 1558.6 5031.6 5159.7 5548.6 3078.2 1872.5 1033.1 6632.4 4761.6 1336.1\n",
            " 3603.9 1780.  4878.6 4836.1 6584.8 2113.3 2733.2 1987.4 1964.5 2297.4\n",
            " 4124.1 4067.3 2787.8 3817.5 4847.7 4655.1 7545.8 5424.9 4873.6 6960.9\n",
            " 2848.6 3844.4 6149.  2429.8 2795.  3406.  1582.4 3313.3 5460.  4845.\n",
            " 3002.2 7225.4 6993.9 4555.3 3924.1 5960.3 1310.6 6177.2 4074.3 3360.9\n",
            " 2647.6 5276.4 5281.4 5177.3 1540.2 5420.2 1692.6 3108.4 4913.8 7084.8\n",
            " 4897.2 6715.  7504.2 4371.  7241.2 3903.3 1930.7 4001.6 7331.9 1904.7\n",
            " 5210.4 6669.  5305.5 2196.7 3829.2 2029.  5161.2 3490.5 1060.4 3219.8\n",
            " 4437.8 3617.2 3663.7 5382.1 3996.6 2006.5 2016.9 7156.3 5213.5 2249.8\n",
            "  901.8 1898.6 7188.8 6857.7 4692.1 6563.  6650.5 4158.9 2444.1 7491.\n",
            " 7004.1 5521.6 4942.3 4512.7 2072.9 1438.4 7164.2 4599.6 2084.5 2780.\n",
            " 6104.1 1424.5 3427.1 3958.9 4443.9 6006.9 7366.8 2848.9 7023.7 3968.2\n",
            " 3302.7 6680.7 4047.8 3094.  2182.6 3795.8 5965.2 6044.2 4378.4 6961.5\n",
            " 3046.9 4119.8 6471.4 4958.6 4104.2 6459.2 1373.8 4750.2 4180.5 2134.4\n",
            " 2760.4 7412.9 1142.8 5422.9 4751.1 4037.6 6376.9 3744.8 4081.5 4845.4\n",
            " 6378.3 6802.5]\n"
          ],
          "name": "stdout"
        }
      ]
    },
    {
      "cell_type": "markdown",
      "metadata": {
        "id": "a2XYaIiw5X4u",
        "colab_type": "text"
      },
      "source": [
        "##### 3.3 Make a new dataframe with true `y` values and predicted `y` values"
      ]
    },
    {
      "cell_type": "markdown",
      "metadata": {
        "id": "OcljmWlh6Cro",
        "colab_type": "text"
      },
      "source": [
        "Combine your true and predicted values into one new dataframe\n",
        "* use `pd.DataFrame(..)` to construct the dataframe\n",
        "* name the new dataframe `df_result`\n",
        "* it will have two columns\n",
        "* add `y_test` as column `'true'`\n",
        "* add `y_pred` as column `'pred'`"
      ]
    },
    {
      "cell_type": "markdown",
      "metadata": {
        "id": "HZTWRXfTs790",
        "colab_type": "text"
      },
      "source": [
        "> **Example**: create a dataframe\n",
        ">\n",
        ">```df_new = pd.DataFrame({'A':[1,2,3], 'B':[4,5,6], \n",
        "                   'C':[7,8,9], 'D':[10,11,12]})```"
      ]
    },
    {
      "cell_type": "code",
      "metadata": {
        "id": "WXq3ECGicFvS",
        "colab_type": "code",
        "colab": {
          "base_uri": "https://localhost:8080/",
          "height": 419
        },
        "outputId": "354e0903-e7f2-42c1-d124-82adfb4b1ffa"
      },
      "source": [
        "# create new dataframe df_results with 'true' (ytest) and 'pred' (y_pred)\n",
        "df2 = pd.DataFrame()\n",
        "df2['pred'] = y_pred\n",
        "df2['true'] = y_test\n",
        "df2"
      ],
      "execution_count": 14,
      "outputs": [
        {
          "output_type": "execute_result",
          "data": {
            "text/html": [
              "<div>\n",
              "<style scoped>\n",
              "    .dataframe tbody tr th:only-of-type {\n",
              "        vertical-align: middle;\n",
              "    }\n",
              "\n",
              "    .dataframe tbody tr th {\n",
              "        vertical-align: top;\n",
              "    }\n",
              "\n",
              "    .dataframe thead th {\n",
              "        text-align: right;\n",
              "    }\n",
              "</style>\n",
              "<table border=\"1\" class=\"dataframe\">\n",
              "  <thead>\n",
              "    <tr style=\"text-align: right;\">\n",
              "      <th></th>\n",
              "      <th>pred</th>\n",
              "      <th>true</th>\n",
              "    </tr>\n",
              "  </thead>\n",
              "  <tbody>\n",
              "    <tr>\n",
              "      <th>0</th>\n",
              "      <td>3922.3</td>\n",
              "      <td>3830</td>\n",
              "    </tr>\n",
              "    <tr>\n",
              "      <th>1</th>\n",
              "      <td>2073.8</td>\n",
              "      <td>2114</td>\n",
              "    </tr>\n",
              "    <tr>\n",
              "      <th>2</th>\n",
              "      <td>3912.5</td>\n",
              "      <td>3915</td>\n",
              "    </tr>\n",
              "    <tr>\n",
              "      <th>3</th>\n",
              "      <td>4348.1</td>\n",
              "      <td>4322</td>\n",
              "    </tr>\n",
              "    <tr>\n",
              "      <th>4</th>\n",
              "      <td>6175.9</td>\n",
              "      <td>6591</td>\n",
              "    </tr>\n",
              "    <tr>\n",
              "      <th>...</th>\n",
              "      <td>...</td>\n",
              "      <td>...</td>\n",
              "    </tr>\n",
              "    <tr>\n",
              "      <th>237</th>\n",
              "      <td>3744.8</td>\n",
              "      <td>3613</td>\n",
              "    </tr>\n",
              "    <tr>\n",
              "      <th>238</th>\n",
              "      <td>4081.5</td>\n",
              "      <td>4205</td>\n",
              "    </tr>\n",
              "    <tr>\n",
              "      <th>239</th>\n",
              "      <td>4845.4</td>\n",
              "      <td>5191</td>\n",
              "    </tr>\n",
              "    <tr>\n",
              "      <th>240</th>\n",
              "      <td>6378.3</td>\n",
              "      <td>6304</td>\n",
              "    </tr>\n",
              "    <tr>\n",
              "      <th>241</th>\n",
              "      <td>6802.5</td>\n",
              "      <td>7499</td>\n",
              "    </tr>\n",
              "  </tbody>\n",
              "</table>\n",
              "<p>242 rows × 2 columns</p>\n",
              "</div>"
            ],
            "text/plain": [
              "       pred  true\n",
              "0    3922.3  3830\n",
              "1    2073.8  2114\n",
              "2    3912.5  3915\n",
              "3    4348.1  4322\n",
              "4    6175.9  6591\n",
              "..      ...   ...\n",
              "237  3744.8  3613\n",
              "238  4081.5  4205\n",
              "239  4845.4  5191\n",
              "240  6378.3  6304\n",
              "241  6802.5  7499\n",
              "\n",
              "[242 rows x 2 columns]"
            ]
          },
          "metadata": {
            "tags": []
          },
          "execution_count": 14
        }
      ]
    },
    {
      "cell_type": "markdown",
      "metadata": {
        "id": "6L_aU4HY6jIy",
        "colab_type": "text"
      },
      "source": [
        "##### 3.4 Create a new column `'error'` in `df_results`"
      ]
    },
    {
      "cell_type": "markdown",
      "metadata": {
        "id": "GRoGnPIlt436",
        "colab_type": "text"
      },
      "source": [
        "The error for any predicted example is:\n",
        "$$ error_i = \\ \\mid true_i - pred_i \\ \\mid $$"
      ]
    },
    {
      "cell_type": "code",
      "metadata": {
        "id": "A2_OEo5R6lfH",
        "colab_type": "code",
        "colab": {
          "base_uri": "https://localhost:8080/",
          "height": 419
        },
        "outputId": "6fbe4f17-6f1e-4a65-c0d6-ce89087f2f58"
      },
      "source": [
        "# create new column 'error' in df_results\n",
        "df2['error'] = df2['true'] - df2['pred']\n",
        "df2['error'] = df2['error'].abs()\n",
        "df2"
      ],
      "execution_count": 23,
      "outputs": [
        {
          "output_type": "execute_result",
          "data": {
            "text/html": [
              "<div>\n",
              "<style scoped>\n",
              "    .dataframe tbody tr th:only-of-type {\n",
              "        vertical-align: middle;\n",
              "    }\n",
              "\n",
              "    .dataframe tbody tr th {\n",
              "        vertical-align: top;\n",
              "    }\n",
              "\n",
              "    .dataframe thead th {\n",
              "        text-align: right;\n",
              "    }\n",
              "</style>\n",
              "<table border=\"1\" class=\"dataframe\">\n",
              "  <thead>\n",
              "    <tr style=\"text-align: right;\">\n",
              "      <th></th>\n",
              "      <th>pred</th>\n",
              "      <th>true</th>\n",
              "      <th>error</th>\n",
              "    </tr>\n",
              "  </thead>\n",
              "  <tbody>\n",
              "    <tr>\n",
              "      <th>0</th>\n",
              "      <td>3922.3</td>\n",
              "      <td>3830</td>\n",
              "      <td>92.3</td>\n",
              "    </tr>\n",
              "    <tr>\n",
              "      <th>1</th>\n",
              "      <td>2073.8</td>\n",
              "      <td>2114</td>\n",
              "      <td>40.2</td>\n",
              "    </tr>\n",
              "    <tr>\n",
              "      <th>2</th>\n",
              "      <td>3912.5</td>\n",
              "      <td>3915</td>\n",
              "      <td>2.5</td>\n",
              "    </tr>\n",
              "    <tr>\n",
              "      <th>3</th>\n",
              "      <td>4348.1</td>\n",
              "      <td>4322</td>\n",
              "      <td>26.1</td>\n",
              "    </tr>\n",
              "    <tr>\n",
              "      <th>4</th>\n",
              "      <td>6175.9</td>\n",
              "      <td>6591</td>\n",
              "      <td>415.1</td>\n",
              "    </tr>\n",
              "    <tr>\n",
              "      <th>...</th>\n",
              "      <td>...</td>\n",
              "      <td>...</td>\n",
              "      <td>...</td>\n",
              "    </tr>\n",
              "    <tr>\n",
              "      <th>237</th>\n",
              "      <td>3744.8</td>\n",
              "      <td>3613</td>\n",
              "      <td>131.8</td>\n",
              "    </tr>\n",
              "    <tr>\n",
              "      <th>238</th>\n",
              "      <td>4081.5</td>\n",
              "      <td>4205</td>\n",
              "      <td>123.5</td>\n",
              "    </tr>\n",
              "    <tr>\n",
              "      <th>239</th>\n",
              "      <td>4845.4</td>\n",
              "      <td>5191</td>\n",
              "      <td>345.6</td>\n",
              "    </tr>\n",
              "    <tr>\n",
              "      <th>240</th>\n",
              "      <td>6378.3</td>\n",
              "      <td>6304</td>\n",
              "      <td>74.3</td>\n",
              "    </tr>\n",
              "    <tr>\n",
              "      <th>241</th>\n",
              "      <td>6802.5</td>\n",
              "      <td>7499</td>\n",
              "      <td>696.5</td>\n",
              "    </tr>\n",
              "  </tbody>\n",
              "</table>\n",
              "<p>242 rows × 3 columns</p>\n",
              "</div>"
            ],
            "text/plain": [
              "       pred  true  error\n",
              "0    3922.3  3830   92.3\n",
              "1    2073.8  2114   40.2\n",
              "2    3912.5  3915    2.5\n",
              "3    4348.1  4322   26.1\n",
              "4    6175.9  6591  415.1\n",
              "..      ...   ...    ...\n",
              "237  3744.8  3613  131.8\n",
              "238  4081.5  4205  123.5\n",
              "239  4845.4  5191  345.6\n",
              "240  6378.3  6304   74.3\n",
              "241  6802.5  7499  696.5\n",
              "\n",
              "[242 rows x 3 columns]"
            ]
          },
          "metadata": {
            "tags": []
          },
          "execution_count": 23
        }
      ]
    },
    {
      "cell_type": "markdown",
      "metadata": {
        "id": "uQV9roMmus8a",
        "colab_type": "text"
      },
      "source": [
        "##### 3.5 Normalize the `'error'` column and display `df_results`"
      ]
    },
    {
      "cell_type": "code",
      "metadata": {
        "id": "SgqwZMuMgpN7",
        "colab_type": "code",
        "colab": {
          "base_uri": "https://localhost:8080/",
          "height": 221
        },
        "outputId": "86fbe092-3adc-42a7-9d55-1ed5e2d32506"
      },
      "source": [
        "# min-max scale the error to [0..1]\n",
        "min_max_scaler = MinMaxScaler()\n",
        "df2['error'] = min_max_scaler.fit_transform(df2[['error']])\n",
        "df2['error']"
      ],
      "execution_count": 24,
      "outputs": [
        {
          "output_type": "execute_result",
          "data": {
            "text/plain": [
              "0      0.064878\n",
              "1      0.027693\n",
              "2      0.000785\n",
              "3      0.017629\n",
              "4      0.295268\n",
              "         ...   \n",
              "237    0.093070\n",
              "238    0.087146\n",
              "239    0.245664\n",
              "240    0.052031\n",
              "241    0.496110\n",
              "Name: error, Length: 242, dtype: float64"
            ]
          },
          "metadata": {
            "tags": []
          },
          "execution_count": 24
        }
      ]
    },
    {
      "cell_type": "markdown",
      "metadata": {
        "id": "Vd5pcb9Uvxo9",
        "colab_type": "text"
      },
      "source": [
        "> Note: we normalized our error $[0,1]$ for use in visualization in the next section. "
      ]
    },
    {
      "cell_type": "markdown",
      "metadata": {
        "id": "OqU9FE2VvBec",
        "colab_type": "text"
      },
      "source": [
        "##### 3.6 Describe `df_results`"
      ]
    },
    {
      "cell_type": "code",
      "metadata": {
        "id": "2950JYOlhW_1",
        "colab_type": "code",
        "colab": {
          "base_uri": "https://localhost:8080/",
          "height": 297
        },
        "outputId": "c87986f4-2f19-4e9e-b771-fe60972f3f1b"
      },
      "source": [
        "# describe df_results\n",
        "df2.describe()"
      ],
      "execution_count": 38,
      "outputs": [
        {
          "output_type": "execute_result",
          "data": {
            "text/html": [
              "<div>\n",
              "<style scoped>\n",
              "    .dataframe tbody tr th:only-of-type {\n",
              "        vertical-align: middle;\n",
              "    }\n",
              "\n",
              "    .dataframe tbody tr th {\n",
              "        vertical-align: top;\n",
              "    }\n",
              "\n",
              "    .dataframe thead th {\n",
              "        text-align: right;\n",
              "    }\n",
              "</style>\n",
              "<table border=\"1\" class=\"dataframe\">\n",
              "  <thead>\n",
              "    <tr style=\"text-align: right;\">\n",
              "      <th></th>\n",
              "      <th>pred</th>\n",
              "      <th>true</th>\n",
              "      <th>error</th>\n",
              "    </tr>\n",
              "  </thead>\n",
              "  <tbody>\n",
              "    <tr>\n",
              "      <th>count</th>\n",
              "      <td>242.000000</td>\n",
              "      <td>242.000000</td>\n",
              "      <td>242.000000</td>\n",
              "    </tr>\n",
              "    <tr>\n",
              "      <th>mean</th>\n",
              "      <td>4294.101653</td>\n",
              "      <td>4280.057851</td>\n",
              "      <td>0.169621</td>\n",
              "    </tr>\n",
              "    <tr>\n",
              "      <th>std</th>\n",
              "      <td>1818.448202</td>\n",
              "      <td>1994.420411</td>\n",
              "      <td>0.175731</td>\n",
              "    </tr>\n",
              "    <tr>\n",
              "      <th>min</th>\n",
              "      <td>901.800000</td>\n",
              "      <td>22.000000</td>\n",
              "      <td>0.000000</td>\n",
              "    </tr>\n",
              "    <tr>\n",
              "      <th>25%</th>\n",
              "      <td>2789.600000</td>\n",
              "      <td>2694.250000</td>\n",
              "      <td>0.051281</td>\n",
              "    </tr>\n",
              "    <tr>\n",
              "      <th>50%</th>\n",
              "      <td>4347.450000</td>\n",
              "      <td>4138.500000</td>\n",
              "      <td>0.114589</td>\n",
              "    </tr>\n",
              "    <tr>\n",
              "      <th>75%</th>\n",
              "      <td>5430.825000</td>\n",
              "      <td>5599.750000</td>\n",
              "      <td>0.235440</td>\n",
              "    </tr>\n",
              "    <tr>\n",
              "      <th>max</th>\n",
              "      <td>7570.500000</td>\n",
              "      <td>8362.000000</td>\n",
              "      <td>1.000000</td>\n",
              "    </tr>\n",
              "  </tbody>\n",
              "</table>\n",
              "</div>"
            ],
            "text/plain": [
              "              pred         true       error\n",
              "count   242.000000   242.000000  242.000000\n",
              "mean   4294.101653  4280.057851    0.169621\n",
              "std    1818.448202  1994.420411    0.175731\n",
              "min     901.800000    22.000000    0.000000\n",
              "25%    2789.600000  2694.250000    0.051281\n",
              "50%    4347.450000  4138.500000    0.114589\n",
              "75%    5430.825000  5599.750000    0.235440\n",
              "max    7570.500000  8362.000000    1.000000"
            ]
          },
          "metadata": {
            "tags": []
          },
          "execution_count": 38
        }
      ]
    },
    {
      "cell_type": "markdown",
      "metadata": {
        "id": "huecSpLi2N9k",
        "colab_type": "text"
      },
      "source": [
        "*** \n",
        "# Exercise #4 - Visualizing results\n",
        "*** "
      ]
    },
    {
      "cell_type": "markdown",
      "metadata": {
        "id": "O2UJLfqV119u",
        "colab_type": "text"
      },
      "source": [
        "> A graph without title and axes labels is often no more useful than no graph at all. Always set a title and label your axes."
      ]
    },
    {
      "cell_type": "markdown",
      "metadata": {
        "id": "eOMbrBvDvSYh",
        "colab_type": "text"
      },
      "source": [
        "##### 4.1 Graph `'true'` vs `'pred'` test"
      ]
    },
    {
      "cell_type": "markdown",
      "metadata": {
        "id": "-8-ueXpuvcVj",
        "colab_type": "text"
      },
      "source": [
        "Scatterplot your `df_results`:\n",
        "* $x$-axis is `'true'`\n",
        "* $y$-axis is `'pred'`\n",
        "* `xlabel` is 'True'\n",
        "* `label` is 'Predicted'\n",
        "* `title` is 'Preciction Results'"
      ]
    },
    {
      "cell_type": "code",
      "metadata": {
        "id": "wQzhpIfOcFsF",
        "colab_type": "code",
        "colab": {
          "base_uri": "https://localhost:8080/",
          "height": 312
        },
        "outputId": "91625d44-cd5c-41cc-efdc-f3520eeeda28"
      },
      "source": [
        "# scatter plot 'true' vs 'pred'\n",
        "df2.plot.scatter(x='true',\n",
        "                      y='pred',\n",
        "                 label='Predicted',\n",
        "                 title='Predicted Results')"
      ],
      "execution_count": 26,
      "outputs": [
        {
          "output_type": "execute_result",
          "data": {
            "text/plain": [
              "<matplotlib.axes._subplots.AxesSubplot at 0x7f9748ca40f0>"
            ]
          },
          "metadata": {
            "tags": []
          },
          "execution_count": 26
        },
        {
          "output_type": "display_data",
          "data": {
            "image/png": "[encoded data removed]",
            "text/plain": [
              "<Figure size 432x288 with 1 Axes>"
            ]
          },
          "metadata": {
            "tags": [],
            "needs_background": "light"
          }
        }
      ]
    },
    {
      "cell_type": "markdown",
      "metadata": {
        "id": "QtJSNIrqyJkq",
        "colab_type": "text"
      },
      "source": [
        "> Here we should see the `'true'` values along x-axis and the `'predicted'` values along the y-axis. You should see the points clustered in an \"almost\" line along the diagnonal. "
      ]
    },
    {
      "cell_type": "markdown",
      "metadata": {
        "id": "xzulYnPIxeKe",
        "colab_type": "text"
      },
      "source": [
        "##### 4.2 Add color to better visualize the error"
      ]
    },
    {
      "cell_type": "markdown",
      "metadata": {
        "id": "bTw-xc8s1YgO",
        "colab_type": "text"
      },
      "source": [
        "Scatter plot your `df_results` again\n",
        "* repeat your code from `4.1`\n",
        "* modify to add color `c` equal to the normalized `'error'` values"
      ]
    },
    {
      "cell_type": "code",
      "metadata": {
        "id": "baC2o7TcxkSo",
        "colab_type": "code",
        "colab": {
          "base_uri": "https://localhost:8080/",
          "height": 312
        },
        "outputId": "49a91d99-743d-4df7-ee86-e98c4f50e617"
      },
      "source": [
        "# graph 'true' vs 'pred'\n",
        "df2.plot.scatter(x='true',\n",
        "                      y='pred',\n",
        "                 label='Predicted',\n",
        "                 title='Predicted Results')"
      ],
      "execution_count": 30,
      "outputs": [
        {
          "output_type": "execute_result",
          "data": {
            "text/plain": [
              "<matplotlib.axes._subplots.AxesSubplot at 0x7f9748a0b320>"
            ]
          },
          "metadata": {
            "tags": []
          },
          "execution_count": 30
        },
        {
          "output_type": "display_data",
          "data": {
            "image/png": "[encoded data removed]",
            "text/plain": [
              "<Figure size 432x288 with 1 Axes>"
            ]
          },
          "metadata": {
            "tags": [],
            "needs_background": "light"
          }
        }
      ]
    },
    {
      "cell_type": "markdown",
      "metadata": {
        "id": "jtmfSEftwshP",
        "colab_type": "text"
      },
      "source": [
        "4.3 Add regressive line to graph"
      ]
    },
    {
      "cell_type": "markdown",
      "metadata": {
        "id": "qo0qVk5H2vY5",
        "colab_type": "text"
      },
      "source": [
        "Scatter plot your `df_results` yet again\n",
        "* repeat your code from `4.2`\n",
        "* add line `m, b = np.polyfit(x, y, 1)`\n",
        "* add line `plt.plot(x, m*x + b, color='red')`\n",
        "* where `x` and `y` are your `'true'` and `'pred'` series"
      ]
    },
    {
      "cell_type": "code",
      "metadata": {
        "id": "k6UUeIPzw59A",
        "colab_type": "code",
        "colab": {
          "base_uri": "https://localhost:8080/",
          "height": 312
        },
        "outputId": "4f045eec-7654-47d5-bb3d-af2ad12601e6"
      },
      "source": [
        "# graph 'true' vs 'pred' with line\n",
        "df2.plot.scatter(x='true',\n",
        "                      y='pred',\n",
        "                 label='Predicted',\n",
        "                 title='Predicted Results')"
      ],
      "execution_count": 31,
      "outputs": [
        {
          "output_type": "execute_result",
          "data": {
            "text/plain": [
              "<matplotlib.axes._subplots.AxesSubplot at 0x7f97489e1da0>"
            ]
          },
          "metadata": {
            "tags": []
          },
          "execution_count": 31
        },
        {
          "output_type": "display_data",
          "data": {
            "image/png": "[encoded data removed]",
            "text/plain": [
              "<Figure size 432x288 with 1 Axes>"
            ]
          },
          "metadata": {
            "tags": [],
            "needs_background": "light"
          }
        }
      ]
    },
    {
      "cell_type": "markdown",
      "metadata": {
        "id": "cIBVR-iF_7Ix",
        "colab_type": "text"
      },
      "source": [
        "> Now that's a *perdy* plot."
      ]
    },
    {
      "cell_type": "markdown",
      "metadata": {
        "id": "rn_9Xw-S3XZ3",
        "colab_type": "text"
      },
      "source": [
        "4.4 Visualize the learning curve"
      ]
    },
    {
      "cell_type": "markdown",
      "metadata": {
        "id": "zM_gPA_n3bEA",
        "colab_type": "text"
      },
      "source": [
        "Copy block of code from `Lecture 05` in order to plot the learning curve. Modify to use the pipeline (and classifier) you used in this `Activity 05`. Set your `ylim` to be $[0.75, 1.03]$."
      ]
    },
    {
      "cell_type": "code",
      "metadata": {
        "id": "UZicnrm_iyBV",
        "colab_type": "code",
        "colab": {
          "base_uri": "https://localhost:8080/",
          "height": 297
        },
        "outputId": "32449ea1-e1b6-4267-c2bb-1547fc832beb"
      },
      "source": [
        "# plot the learning\n",
        "train_sizes, train_scores, test_scores =\\\n",
        "                learning_curve(estimator=pipe,\n",
        "                               X=X_train,\n",
        "                               y=y_train,\n",
        "                               train_sizes=np.linspace(0.1, 1.0, 10),\n",
        "                               cv=10,\n",
        "                               n_jobs=1)\n",
        "\n",
        "train_mean = np.mean(train_scores, axis=1)\n",
        "train_std = np.std(train_scores, axis=1)\n",
        "test_mean = np.mean(test_scores, axis=1)\n",
        "test_std = np.std(test_scores, axis=1)\n",
        "\n",
        "plt.plot(train_sizes, train_mean,\n",
        "         color='blue', marker='o',\n",
        "         markersize=5, label='Training accuracy')\n",
        "\n",
        "plt.fill_between(train_sizes,\n",
        "                 train_mean + train_std,\n",
        "                 train_mean - train_std,\n",
        "                 alpha=0.15, color='blue')\n",
        "\n",
        "plt.plot(train_sizes, test_mean,\n",
        "         color='green', linestyle='--',\n",
        "         marker='s', markersize=5,\n",
        "         label='Validation accuracy')\n",
        "\n",
        "plt.fill_between(train_sizes,\n",
        "                 test_mean + test_std,\n",
        "                 test_mean - test_std,\n",
        "                 alpha=0.15, color='green')\n",
        "\n",
        "plt.grid()\n",
        "plt.xlabel('Number of training examples')\n",
        "plt.ylabel('Accuracy')\n",
        "plt.legend(loc='lower right')\n",
        "plt.ylim([0.8, 1.03])\n",
        "plt.tight_layout()\n",
        "plt.show()"
      ],
      "execution_count": 33,
      "outputs": [
        {
          "output_type": "display_data",
          "data": {
            "image/png": "[encoded data removed]",
            "text/plain": [
              "<Figure size 432x288 with 1 Axes>"
            ]
          },
          "metadata": {
            "tags": [],
            "needs_background": "light"
          }
        }
      ]
    },
    {
      "cell_type": "markdown",
      "metadata": {
        "id": "GHRNSy3w3zVp",
        "colab_type": "text"
      },
      "source": [
        "> **Self Check**: \n",
        ">\n",
        "> The first <font color=\"blue\">blue</font> point is $\\approx (48,0.97)$. \n",
        ">\n",
        "> The first <font color=\"green\">green</font> point varies in `y` (try re-running!) in the  range of  $\\approx$ $(48,0.77)$ to $\\approx$ $(48,0.82)$."
      ]
    },
    {
      "cell_type": "markdown",
      "metadata": {
        "id": "HaPLgVMC2j53",
        "colab_type": "text"
      },
      "source": [
        "*** \n",
        "# Exercise #5 - $k$-fold cross-validation\n",
        "*** "
      ]
    },
    {
      "cell_type": "markdown",
      "metadata": {
        "id": "ieb_zvDV62xP",
        "colab_type": "text"
      },
      "source": [
        "Earlier we split the data into $1\\over3$ `test` and $2\\over3$ `train`. While this is fine practice for very large datasets, for small datasets we run the risk of producing a non-representive `test` set.  Let's investigate this possibility by examinig results with cross-validation."
      ]
    },
    {
      "cell_type": "markdown",
      "metadata": {
        "id": "L07tLhqu5v1V",
        "colab_type": "text"
      },
      "source": [
        "5.1 Perform cross-fold validation."
      ]
    },
    {
      "cell_type": "markdown",
      "metadata": {
        "id": "NsFt26kK6D4i",
        "colab_type": "text"
      },
      "source": [
        "Use [KFold](https://scikit-learn.org/stable/modules/generated/sklearn.model_selection.KFold.html) cross-validation with $k=10$."
      ]
    },
    {
      "cell_type": "markdown",
      "metadata": {
        "id": "O8lpRYfc6UuQ",
        "colab_type": "text"
      },
      "source": [
        "> This is a regression problem and our predictor is continuous. You don't want `StratifiedKFold` for this reason. "
      ]
    },
    {
      "cell_type": "code",
      "metadata": {
        "id": "St-bmMISP62s",
        "colab_type": "code",
        "colab": {
          "base_uri": "https://localhost:8080/",
          "height": 221
        },
        "outputId": "8bfda418-e146-4228-b740-3a81d451ffa0"
      },
      "source": [
        "\n",
        "kfold = KFold(n_splits=10).split(X_train, y_train)\n",
        "\n",
        "scores = []\n",
        "for k, (train, test) in enumerate(kfold):\n",
        "    pipe.fit(X_train[train], y_train[train])\n",
        "    score = pipe.score(X_train[test], y_train[test])\n",
        "    scores.append(score)\n",
        "    print('Fold: %2d, Class dist.: %s, Acc: %.3f' % (k+1,\n",
        "          np.bincount(y_train[train]), score))\n",
        "    \n",
        "print('\\nCV accuracy: %.3f +/- %.3f' % (np.mean(scores), np.std(scores)))"
      ],
      "execution_count": 39,
      "outputs": [
        {
          "output_type": "stream",
          "text": [
            "Fold:  1, Class dist.: [0 0 0 ... 0 0 1], Acc: 0.983\n",
            "Fold:  2, Class dist.: [0 0 0 ... 0 0 1], Acc: 0.957\n",
            "Fold:  3, Class dist.: [0 0 0 ... 0 0 1], Acc: 0.966\n",
            "Fold:  4, Class dist.: [0 0 0 ... 0 0 1], Acc: 0.968\n",
            "Fold:  5, Class dist.: [0 0 0 ... 0 0 1], Acc: 0.954\n",
            "Fold:  6, Class dist.: [0 0 0 ... 0 0 1], Acc: 0.938\n",
            "Fold:  7, Class dist.: [0 0 0 ... 0 0 1], Acc: 0.962\n",
            "Fold:  8, Class dist.: [0 0 0 ... 0 0 1], Acc: 0.957\n",
            "Fold:  9, Class dist.: [0 0 0 ... 0 0 1], Acc: 0.958\n",
            "Fold: 10, Class dist.: [0 0 0 ... 0 0 1], Acc: 0.960\n",
            "\n",
            "CV accuracy: 0.960 +/- 0.011\n"
          ],
          "name": "stdout"
        }
      ]
    },
    {
      "cell_type": "markdown",
      "metadata": {
        "id": "J4P2Eyux8pEh",
        "colab_type": "text"
      },
      "source": [
        "> Cross-validation is the proper approach for all but very large datasets."
      ]
    },
    {
      "cell_type": "markdown",
      "metadata": {
        "id": "LJEcMr4M_rvI",
        "colab_type": "text"
      },
      "source": [
        "<img src=\"https://66.media.tumblr.com/dded9d1a2bf2068f92af9f7a9b6b5451/tumblr_p6s3hbPzgV1vd8jsjo1_500.gifv\" width=\"300\">"
      ]
    }
  ]
}