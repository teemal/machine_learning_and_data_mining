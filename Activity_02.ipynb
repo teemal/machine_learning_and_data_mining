{
  "nbformat": 4,
  "nbformat_minor": 0,
  "metadata": {
    "colab": {
      "name": "Activity 02.ipynb",
      "provenance": [],
      "collapsed_sections": []
    },
    "kernelspec": {
      "name": "python3",
      "display_name": "Python 3"
    }
  },
  "cells": [
    {
      "cell_type": "markdown",
      "metadata": {
        "id": "YaDpWNLCkeZG",
        "colab_type": "text"
      },
      "source": [
        "#Activity 02 - Data Processing"
      ]
    },
    {
      "cell_type": "markdown",
      "metadata": {
        "id": "n0MLDWWFka3t",
        "colab_type": "text"
      },
      "source": [
        "***\n",
        "##### CS 434 - Dating Mining and Machine Learning\n",
        "##### Oregon State University-Cascades\n",
        "***\n"
      ]
    },
    {
      "cell_type": "markdown",
      "metadata": {
        "id": "Pl-zeymQMn4S",
        "colab_type": "text"
      },
      "source": [
        "# Instructions\n",
        "Complete this \"worksheet\" by writing code to complete the series of tasks mentioned.  Then open the Canvas \"quiz\" Activity (of the same name) and answer the questions based on the results. "
      ]
    },
    {
      "cell_type": "markdown",
      "metadata": {
        "id": "Bmrr2VKYbx1h",
        "colab_type": "text"
      },
      "source": [
        "# Load packages"
      ]
    },
    {
      "cell_type": "code",
      "metadata": {
        "id": "KiOYyC4hqe97",
        "colab_type": "code",
        "colab": {}
      },
      "source": [
        "import pandas as pd\n",
        "import numpy as np"
      ],
      "execution_count": 0,
      "outputs": []
    },
    {
      "cell_type": "markdown",
      "metadata": {
        "id": "3hROAb0gtTEA",
        "colab_type": "text"
      },
      "source": [
        "*** \n",
        "\n",
        "# Dataset\n",
        "\n",
        "***"
      ]
    },
    {
      "cell_type": "markdown",
      "metadata": {
        "id": "e2IcmIY_04a4",
        "colab_type": "text"
      },
      "source": [
        "### Location\n",
        "https://openmv.net/file/travel-times.csv\n",
        "\n",
        "### Description\n",
        "A driver uses an app to track GPS coordinates as he drives to work and back each day. The app collects the location and elevation data. Data for about 200 trips are summarized in this data set.\n",
        "\n",
        "### Attributes\n",
        "* `Date` : date of travel\n",
        "* `StartTime` : when getting into the car\n",
        "* `DayOfWeek`: the day name\n",
        "* `GoingTo`: direction of travel\n",
        "* `Distance`: distance travelled in kilometers\n",
        "* `MaxSpeed`: fastest speed recorded (all trips are on the 407 highway for some portion)\n",
        "* `AvgSpeed`: the average speed for the entire trip\n",
        "* `AvgMovingSpeed`: the average speed recorded only while the car is moving\n",
        "* `FuelEconomy`: a rough estimate of fuel economy (it is inaccurate)\n",
        "* `TotalTime`: duration of the entire trip, in minutes\n",
        "* `MovingTime`: duration when the car was considered to be moving (i.e. not counting traffic delays, accidents, or time while the car is stationary)\n",
        "* `Take407All`: is Yes if the 407 toll highway was taken for the entire trip.\n",
        "> *I try to avoid taking the 407, taking slower back routes to save costs. But some days I'm running late, or just lazy, and take it all the way.*\n",
        "* `Comments` : miscellaneous notes"
      ]
    },
    {
      "cell_type": "code",
      "metadata": {
        "id": "rRZ7NqxhsQ6s",
        "colab_type": "code",
        "colab": {}
      },
      "source": [
        "url = 'https://openmv.net/file/travel-times.csv'"
      ],
      "execution_count": 0,
      "outputs": []
    },
    {
      "cell_type": "markdown",
      "metadata": {
        "id": "N-5-mJL0b76h",
        "colab_type": "text"
      },
      "source": [
        "*** \n",
        "# Exercise #1 - Examine data by row\n",
        "*** "
      ]
    },
    {
      "cell_type": "markdown",
      "metadata": {
        "id": "3syEq0IY7HNg",
        "colab_type": "text"
      },
      "source": [
        "##### 1.1 Load the dataset from the url and `display(df)`. "
      ]
    },
    {
      "cell_type": "code",
      "metadata": {
        "id": "ywpxT3eJkLl0",
        "colab_type": "code",
        "outputId": "29b49cf1-c588-48ab-c97b-fa7438f7e28c",
        "colab": {
          "base_uri": "https://localhost:8080/",
          "height": 35
        }
      },
      "source": [
        "# load and display dataset\n",
        "print('replace with your code')"
      ],
      "execution_count": 0,
      "outputs": [
        {
          "output_type": "stream",
          "text": [
            "replace with your code\n"
          ],
          "name": "stdout"
        }
      ]
    },
    {
      "cell_type": "markdown",
      "metadata": {
        "id": "i8iP4hGPNNww",
        "colab_type": "text"
      },
      "source": [
        "##### 1.2. Print the number of rows."
      ]
    },
    {
      "cell_type": "code",
      "metadata": {
        "id": "QelSkcZ3NObc",
        "colab_type": "code",
        "outputId": "5ba61ef0-1bd3-47be-d3b9-cdb5a5b86cea",
        "colab": {
          "base_uri": "https://localhost:8080/",
          "height": 35
        }
      },
      "source": [
        "# count the number of rows\n",
        "print('replace with your code')"
      ],
      "execution_count": 0,
      "outputs": [
        {
          "output_type": "stream",
          "text": [
            "replace with your code\n"
          ],
          "name": "stdout"
        }
      ]
    },
    {
      "cell_type": "markdown",
      "metadata": {
        "id": "oL69nlTgjQ1N",
        "colab_type": "text"
      },
      "source": [
        "##### 1.3. Count number of rows that contain a missing value"
      ]
    },
    {
      "cell_type": "code",
      "metadata": {
        "id": "KcbAdy-OjVER",
        "colab_type": "code",
        "outputId": "312d3d3c-217c-4dab-d2f4-446a5d24ad65",
        "colab": {
          "base_uri": "https://localhost:8080/",
          "height": 35
        }
      },
      "source": [
        "# count the number of rows that are missing value(s)\n",
        "print('replace with your code')"
      ],
      "execution_count": 0,
      "outputs": [
        {
          "output_type": "stream",
          "text": [
            "replace with your code\n"
          ],
          "name": "stdout"
        }
      ]
    },
    {
      "cell_type": "markdown",
      "metadata": {
        "id": "gZE2BKgGOFlW",
        "colab_type": "text"
      },
      "source": [
        "##### 1.4. Drop the rows that contain a missing value"
      ]
    },
    {
      "cell_type": "code",
      "metadata": {
        "id": "8VpVVBsGOFMc",
        "colab_type": "code",
        "outputId": "b11e4cd9-d05e-477a-d82b-3d99354c30bf",
        "colab": {
          "base_uri": "https://localhost:8080/",
          "height": 35
        }
      },
      "source": [
        "# remove rows that contain missing values\n",
        "print('replace with your code')"
      ],
      "execution_count": 0,
      "outputs": [
        {
          "output_type": "stream",
          "text": [
            "replace with your code\n"
          ],
          "name": "stdout"
        }
      ]
    },
    {
      "cell_type": "markdown",
      "metadata": {
        "id": "yJ9GlsTMO7NW",
        "colab_type": "text"
      },
      "source": [
        "##### 1.5. Count the number of rows (again)"
      ]
    },
    {
      "cell_type": "code",
      "metadata": {
        "id": "HOx5uvc2PABa",
        "colab_type": "code",
        "outputId": "b5810abd-0b27-461d-815d-174201e5eab3",
        "colab": {
          "base_uri": "https://localhost:8080/",
          "height": 35
        }
      },
      "source": [
        "# count the number of rows\n",
        "print('replace with your code')"
      ],
      "execution_count": 0,
      "outputs": [
        {
          "output_type": "stream",
          "text": [
            "replace with your code\n"
          ],
          "name": "stdout"
        }
      ]
    },
    {
      "cell_type": "markdown",
      "metadata": {
        "id": "HDGl7tphQ7y3",
        "colab_type": "text"
      },
      "source": [
        "> Conclusion. That's not very much data.  Let's try again."
      ]
    },
    {
      "cell_type": "markdown",
      "metadata": {
        "id": "kOK9WH8KcJCT",
        "colab_type": "text"
      },
      "source": [
        "*** \n",
        "# Exercise #2 - Examine data by column\n",
        "*** \n"
      ]
    },
    {
      "cell_type": "markdown",
      "metadata": {
        "id": "gxpAIx47PYKa",
        "colab_type": "text"
      },
      "source": [
        "##### 2.1. Reload the dataset from the url and `display(df)`."
      ]
    },
    {
      "cell_type": "code",
      "metadata": {
        "id": "rWrlYuH_PYwb",
        "colab_type": "code",
        "outputId": "ba15b65e-8724-457b-b3b0-dca71417befa",
        "colab": {
          "base_uri": "https://localhost:8080/",
          "height": 35
        }
      },
      "source": [
        "# load and display dataset\n",
        "print('replace with your code')"
      ],
      "execution_count": 0,
      "outputs": [
        {
          "output_type": "stream",
          "text": [
            "replace with your code\n"
          ],
          "name": "stdout"
        }
      ]
    },
    {
      "cell_type": "markdown",
      "metadata": {
        "id": "_1WyvXotPmsb",
        "colab_type": "text"
      },
      "source": [
        "##### 2.2. Print the number of columns"
      ]
    },
    {
      "cell_type": "code",
      "metadata": {
        "id": "2WUcmF6CPqHi",
        "colab_type": "code",
        "outputId": "2fb4f2c1-4a72-4095-9e6a-f70f84977a69",
        "colab": {
          "base_uri": "https://localhost:8080/",
          "height": 35
        }
      },
      "source": [
        "# count the number of columns\n",
        "print('replace with your code')"
      ],
      "execution_count": 0,
      "outputs": [
        {
          "output_type": "stream",
          "text": [
            "replace with your code\n"
          ],
          "name": "stdout"
        }
      ]
    },
    {
      "cell_type": "markdown",
      "metadata": {
        "id": "H-dPW8Ue-hd6",
        "colab_type": "text"
      },
      "source": [
        "##### 2.3. Count the number of missing values by column"
      ]
    },
    {
      "cell_type": "code",
      "metadata": {
        "id": "FSFzbzCZgyZp",
        "colab_type": "code",
        "outputId": "344f185f-2883-40cd-e258-3128b5437b94",
        "colab": {
          "base_uri": "https://localhost:8080/",
          "height": 35
        }
      },
      "source": [
        "# count the number of missing values by column\n",
        "print('replace with your code')"
      ],
      "execution_count": 0,
      "outputs": [
        {
          "output_type": "stream",
          "text": [
            "replace with your code\n"
          ],
          "name": "stdout"
        }
      ]
    },
    {
      "cell_type": "markdown",
      "metadata": {
        "id": "lpzS5-tPRMsN",
        "colab_type": "text"
      },
      "source": [
        "##### 2.4. Drop the columns that contain a missing value"
      ]
    },
    {
      "cell_type": "code",
      "metadata": {
        "id": "XuxABkKlRLRo",
        "colab_type": "code",
        "outputId": "8f31dc04-b514-40e8-c201-112518721210",
        "colab": {
          "base_uri": "https://localhost:8080/",
          "height": 35
        }
      },
      "source": [
        "# remove columns that contain missing values\n",
        "print('replace with your code')"
      ],
      "execution_count": 0,
      "outputs": [
        {
          "output_type": "stream",
          "text": [
            "replace with your code\n"
          ],
          "name": "stdout"
        }
      ]
    },
    {
      "cell_type": "markdown",
      "metadata": {
        "id": "e3-K65-MRiS6",
        "colab_type": "text"
      },
      "source": [
        "##### 2.5. Recount the number of columns"
      ]
    },
    {
      "cell_type": "code",
      "metadata": {
        "id": "cmtDqtzWRh2w",
        "colab_type": "code",
        "outputId": "d1fe9445-becd-4a08-f0eb-65a6605c1828",
        "colab": {
          "base_uri": "https://localhost:8080/",
          "height": 35
        }
      },
      "source": [
        "# count the number of columns\n",
        "print('replace with your code')"
      ],
      "execution_count": 0,
      "outputs": [
        {
          "output_type": "stream",
          "text": [
            "replace with your code\n"
          ],
          "name": "stdout"
        }
      ]
    },
    {
      "cell_type": "markdown",
      "metadata": {
        "id": "S8XydGJLSA-F",
        "colab_type": "text"
      },
      "source": [
        "> Conclusion.  That's better, but we're still throwing away data. Let's try again."
      ]
    },
    {
      "cell_type": "markdown",
      "metadata": {
        "id": "ezfIg4zMQLDR",
        "colab_type": "text"
      },
      "source": [
        "*** \n",
        "# Exercise #3 - Remove a data column\n",
        "*** "
      ]
    },
    {
      "cell_type": "markdown",
      "metadata": {
        "id": "6d6rVn7_ST2x",
        "colab_type": "text"
      },
      "source": [
        "##### 3.1. Reload the dataset from the url and `display(df)`"
      ]
    },
    {
      "cell_type": "code",
      "metadata": {
        "id": "f3OvTdk1SVAP",
        "colab_type": "code",
        "outputId": "39e37615-9431-47ca-d4e1-309e7075008b",
        "colab": {
          "base_uri": "https://localhost:8080/",
          "height": 35
        }
      },
      "source": [
        "# load and display dataset\n",
        "print('replace with your code')"
      ],
      "execution_count": 0,
      "outputs": [
        {
          "output_type": "stream",
          "text": [
            "replace with your code\n"
          ],
          "name": "stdout"
        }
      ]
    },
    {
      "cell_type": "markdown",
      "metadata": {
        "id": "Js0ACXedSavx",
        "colab_type": "text"
      },
      "source": [
        "##### 3.2. Count the total number of missing values"
      ]
    },
    {
      "cell_type": "code",
      "metadata": {
        "id": "PYaxZSx4fZOp",
        "colab_type": "code",
        "outputId": "c7d09258-d707-48db-c83e-d336ddefa3ed",
        "colab": {
          "base_uri": "https://localhost:8080/",
          "height": 35
        }
      },
      "source": [
        "# count the total number of missing values\n",
        "print('replace with your code')"
      ],
      "execution_count": 0,
      "outputs": [
        {
          "output_type": "stream",
          "text": [
            "replace with your code\n"
          ],
          "name": "stdout"
        }
      ]
    },
    {
      "cell_type": "markdown",
      "metadata": {
        "id": "7fJ0MibT71aJ",
        "colab_type": "text"
      },
      "source": [
        "##### 3.3. Drop the `'Comments'` column"
      ]
    },
    {
      "cell_type": "code",
      "metadata": {
        "id": "7z9TQBlzSpHO",
        "colab_type": "code",
        "outputId": "cb190d02-21d3-4e78-969b-6504b127d5a6",
        "colab": {
          "base_uri": "https://localhost:8080/",
          "height": 35
        }
      },
      "source": [
        "# remove the \"Comments\" column\n",
        "print('replace with your code')"
      ],
      "execution_count": 0,
      "outputs": [
        {
          "output_type": "stream",
          "text": [
            "replace with your code\n"
          ],
          "name": "stdout"
        }
      ]
    },
    {
      "cell_type": "markdown",
      "metadata": {
        "id": "wBUhsT-rgx6Y",
        "colab_type": "text"
      },
      "source": [
        "##### 3.4. Count the total number of missing values (again)"
      ]
    },
    {
      "cell_type": "code",
      "metadata": {
        "id": "NOeYCZJBS7VN",
        "colab_type": "code",
        "outputId": "63db934b-bcdd-46f4-f74c-25948f09a974",
        "colab": {
          "base_uri": "https://localhost:8080/",
          "height": 35
        }
      },
      "source": [
        "# count the total number of missing values\n",
        "print('replace with your code')"
      ],
      "execution_count": 0,
      "outputs": [
        {
          "output_type": "stream",
          "text": [
            "replace with your code\n"
          ],
          "name": "stdout"
        }
      ]
    },
    {
      "cell_type": "markdown",
      "metadata": {
        "id": "KIf5ne7nTFb9",
        "colab_type": "text"
      },
      "source": [
        "##### 3.5. Examine the shape of the dataframe"
      ]
    },
    {
      "cell_type": "code",
      "metadata": {
        "id": "2iZ8CuthTJXL",
        "colab_type": "code",
        "outputId": "53ec3b60-0744-428b-8b5c-7c7490362b01",
        "colab": {
          "base_uri": "https://localhost:8080/",
          "height": 35
        }
      },
      "source": [
        "# print the shape\n",
        "print('replace with your code')"
      ],
      "execution_count": 0,
      "outputs": [
        {
          "output_type": "stream",
          "text": [
            "replace with your code\n"
          ],
          "name": "stdout"
        }
      ]
    },
    {
      "cell_type": "markdown",
      "metadata": {
        "id": "osx7s2d9miJk",
        "colab_type": "text"
      },
      "source": [
        "*** \n",
        "# Exercise 4 - Handling missing data\n",
        "*** "
      ]
    },
    {
      "cell_type": "markdown",
      "metadata": {
        "id": "V9s2Saroc9tH",
        "colab_type": "text"
      },
      "source": [
        "\n",
        "> **Tip**: use <img src=\"https://img.icons8.com/color/20/000000/google-logo.png\"/> to learn how to do things in <img src=\"https://img.icons8.com/color/20/000000/panda.png\"/>."
      ]
    },
    {
      "cell_type": "markdown",
      "metadata": {
        "id": "dhmEmpvBTf_L",
        "colab_type": "text"
      },
      "source": [
        "##### 4.0. Continue with the dataframe (without the `'Comments'` column)"
      ]
    },
    {
      "cell_type": "markdown",
      "metadata": {
        "id": "p8gSaj1XT_Qq",
        "colab_type": "text"
      },
      "source": [
        "##### 4.1. Impute the missing values with attribute mean and `display(df)`"
      ]
    },
    {
      "cell_type": "code",
      "metadata": {
        "id": "-JGz3uGIVEJv",
        "colab_type": "code",
        "outputId": "9e3101be-c096-462e-c7ec-ffa17c172323",
        "colab": {
          "base_uri": "https://localhost:8080/",
          "height": 35
        }
      },
      "source": [
        "# fill NaNs with the mean\n",
        "print('replace with your code')"
      ],
      "execution_count": 0,
      "outputs": [
        {
          "output_type": "stream",
          "text": [
            "replace with your code\n"
          ],
          "name": "stdout"
        }
      ]
    },
    {
      "cell_type": "markdown",
      "metadata": {
        "id": "A-oJvs96agWV",
        "colab_type": "text"
      },
      "source": [
        "> Observe `'FuelEconomy'`. There are still `NaN`s. Why didn't that work? "
      ]
    },
    {
      "cell_type": "markdown",
      "metadata": {
        "id": "Fpo5k2KEZqPN",
        "colab_type": "text"
      },
      "source": [
        "##### 4.2. Examine the type of `'FuelEconomy'` column.  \n"
      ]
    },
    {
      "cell_type": "code",
      "metadata": {
        "id": "KmzaR4HWZr_h",
        "colab_type": "code",
        "outputId": "de8cc212-5732-4166-9c4d-3a9b1ccf09f3",
        "colab": {
          "base_uri": "https://localhost:8080/",
          "height": 35
        }
      },
      "source": [
        "# print the dtype of 'FuelEconomy' column\n",
        "print('replace with your code')"
      ],
      "execution_count": 0,
      "outputs": [
        {
          "output_type": "stream",
          "text": [
            "replace with your code\n"
          ],
          "name": "stdout"
        }
      ]
    },
    {
      "cell_type": "markdown",
      "metadata": {
        "id": "faLNmNghZ6Cw",
        "colab_type": "text"
      },
      "source": [
        "> Insight: that means we have a mixture of strings and numbers"
      ]
    },
    {
      "cell_type": "markdown",
      "metadata": {
        "id": "7uuSW6rzWWUM",
        "colab_type": "text"
      },
      "source": [
        "##### 4.3. Print the `to_numpy()` representation of the `'FuelEconomy'` column."
      ]
    },
    {
      "cell_type": "code",
      "metadata": {
        "id": "IwK6mOwQfKfJ",
        "colab_type": "code",
        "outputId": "6cd9e5e5-c398-4cdc-e996-dccffcf05199",
        "colab": {
          "base_uri": "https://localhost:8080/",
          "height": 35
        }
      },
      "source": [
        "# print the numpy representation\n",
        "print('replace with your code')"
      ],
      "execution_count": 0,
      "outputs": [
        {
          "output_type": "stream",
          "text": [
            "replace with your code\n"
          ],
          "name": "stdout"
        }
      ]
    },
    {
      "cell_type": "markdown",
      "metadata": {
        "id": "4vZKXUR7gpYn",
        "colab_type": "text"
      },
      "source": [
        "> Do you spot the problem?"
      ]
    },
    {
      "cell_type": "markdown",
      "metadata": {
        "id": "lQ41dYe4aEFJ",
        "colab_type": "text"
      },
      "source": [
        "##### 4.4.  Use `regex=True` to replace `-` with `np.nan`"
      ]
    },
    {
      "cell_type": "code",
      "metadata": {
        "id": "66uTEuumaE9p",
        "colab_type": "code",
        "outputId": "4380e6db-094f-4915-bb99-0b3d10f44e72",
        "colab": {
          "base_uri": "https://localhost:8080/",
          "height": 35
        }
      },
      "source": [
        "# replace the dash with a NaN\n",
        "print('replace with your code')"
      ],
      "execution_count": 0,
      "outputs": [
        {
          "output_type": "stream",
          "text": [
            "replace with your code\n"
          ],
          "name": "stdout"
        }
      ]
    },
    {
      "cell_type": "markdown",
      "metadata": {
        "id": "O5HOTKAym2Ia",
        "colab_type": "text"
      },
      "source": [
        "##### 4.5. Convert the `FuelEconomy` using `pd.to_numeric(.)`"
      ]
    },
    {
      "cell_type": "code",
      "metadata": {
        "id": "7_4xnaAxnStc",
        "colab_type": "code",
        "outputId": "dd48a5f5-c74a-44c5-dd9d-d8d5cc915afb",
        "colab": {
          "base_uri": "https://localhost:8080/",
          "height": 35
        }
      },
      "source": [
        "# convert 'FuelEconomy' to numeric\n",
        "print('replace with your code')"
      ],
      "execution_count": 0,
      "outputs": [
        {
          "output_type": "stream",
          "text": [
            "replace with your code\n"
          ],
          "name": "stdout"
        }
      ]
    },
    {
      "cell_type": "markdown",
      "metadata": {
        "id": "-f1h9R6BnAdj",
        "colab_type": "text"
      },
      "source": [
        "*** \n",
        "\n",
        "# Exercise #5 - Impute data\n",
        "\n",
        "*** "
      ]
    },
    {
      "cell_type": "markdown",
      "metadata": {
        "id": "ziteunq_gsrx",
        "colab_type": "text"
      },
      "source": [
        "##### 5.1. Impute the missing values with attribute mean and `display(df)` (again)"
      ]
    },
    {
      "cell_type": "code",
      "metadata": {
        "id": "7oWLdsX9ldEZ",
        "colab_type": "code",
        "outputId": "68ed7052-c8bc-4c2f-b9b1-a6adcd0edf56",
        "colab": {
          "base_uri": "https://localhost:8080/",
          "height": 35
        }
      },
      "source": [
        "# fill NaNs with the mean\n",
        "print('replace with your code')"
      ],
      "execution_count": 0,
      "outputs": [
        {
          "output_type": "stream",
          "text": [
            "replace with your code\n"
          ],
          "name": "stdout"
        }
      ]
    },
    {
      "cell_type": "markdown",
      "metadata": {
        "id": "2S-nJWYuqe6n",
        "colab_type": "text"
      },
      "source": [
        "##### 5.2. Print the average `'FuelEconomy'` "
      ]
    },
    {
      "cell_type": "code",
      "metadata": {
        "id": "UQK0wLyQqi2H",
        "colab_type": "code",
        "outputId": "86c870d9-b7e3-475a-b3a2-45bbaec3870c",
        "colab": {
          "base_uri": "https://localhost:8080/",
          "height": 35
        }
      },
      "source": [
        "# print the average 'FuelEconomy'\n",
        "print('replace with your code')"
      ],
      "execution_count": 0,
      "outputs": [
        {
          "output_type": "stream",
          "text": [
            "replace with your code\n"
          ],
          "name": "stdout"
        }
      ]
    },
    {
      "cell_type": "markdown",
      "metadata": {
        "id": "JQpYMmfWq03C",
        "colab_type": "text"
      },
      "source": [
        "##### 5.3. Print the median `'FuelEconomy'`"
      ]
    },
    {
      "cell_type": "code",
      "metadata": {
        "id": "u6FC26FWq6fz",
        "colab_type": "code",
        "outputId": "d1f2ca3e-aa45-40e2-d8c2-9778075fd668",
        "colab": {
          "base_uri": "https://localhost:8080/",
          "height": 35
        }
      },
      "source": [
        "# print the median 'FuelEconomy'\n",
        "print('replace with your code')"
      ],
      "execution_count": 0,
      "outputs": [
        {
          "output_type": "stream",
          "text": [
            "replace with your code\n"
          ],
          "name": "stdout"
        }
      ]
    },
    {
      "cell_type": "markdown",
      "metadata": {
        "id": "P1ol_UGrrACQ",
        "colab_type": "text"
      },
      "source": [
        "##### 5.4. Print the standard deviation of `'FuelEconomy'`"
      ]
    },
    {
      "cell_type": "code",
      "metadata": {
        "id": "Z__NutQXrELI",
        "colab_type": "code",
        "outputId": "9eec81b3-9a80-4aee-d356-f43282bed244",
        "colab": {
          "base_uri": "https://localhost:8080/",
          "height": 35
        }
      },
      "source": [
        "# print the st.dev of 'FuelEconomy'\n",
        "print('replace with your code')"
      ],
      "execution_count": 0,
      "outputs": [
        {
          "output_type": "stream",
          "text": [
            "replace with your code\n"
          ],
          "name": "stdout"
        }
      ]
    },
    {
      "cell_type": "markdown",
      "metadata": {
        "id": "SlvlEOyerKQZ",
        "colab_type": "text"
      },
      "source": [
        "##### 5.5. describe the summary statistics of `'FuelEconomy'`"
      ]
    },
    {
      "cell_type": "code",
      "metadata": {
        "id": "fYonaNZBrGpC",
        "colab_type": "code",
        "outputId": "589a638d-5282-4513-867b-f12b4a716fe5",
        "colab": {
          "base_uri": "https://localhost:8080/",
          "height": 35
        }
      },
      "source": [
        "# print summary statistics\n",
        "print('replace with your code')"
      ],
      "execution_count": 0,
      "outputs": [
        {
          "output_type": "stream",
          "text": [
            "replace with your code\n"
          ],
          "name": "stdout"
        }
      ]
    },
    {
      "cell_type": "markdown",
      "metadata": {
        "id": "XChdELAXreTi",
        "colab_type": "text"
      },
      "source": [
        "<img src=\"https://66.media.tumblr.com/dded9d1a2bf2068f92af9f7a9b6b5451/tumblr_p6s3hbPzgV1vd8jsjo1_500.gifv\" width=\"300\">"
      ]
    }
  ]
}