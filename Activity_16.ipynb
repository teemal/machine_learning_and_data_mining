{
  "nbformat": 4,
  "nbformat_minor": 0,
  "metadata": {
    "colab": {
      "name": "Activity 16.ipynb",
      "provenance": [],
      "collapsed_sections": []
    },
    "kernelspec": {
      "name": "python3",
      "display_name": "Python 3"
    }
  },
  "cells": [
    {
      "cell_type": "markdown",
      "metadata": {
        "id": "HsDxW82z1oCR",
        "colab_type": "text"
      },
      "source": [
        "# Activity 16 - Multi-layer Perceptron"
      ]
    },
    {
      "cell_type": "code",
      "metadata": {
        "id": "3VleLG_9sYoB",
        "colab_type": "code",
        "colab": {}
      },
      "source": [
        ""
      ],
      "execution_count": 0,
      "outputs": []
    },
    {
      "cell_type": "markdown",
      "metadata": {
        "id": "n7Vfz5hz1skC",
        "colab_type": "text"
      },
      "source": [
        "***\n",
        "##### CS 434 - Data Mining and Machine Learning\n",
        "##### Oregon State University-Cascades\n",
        "***"
      ]
    },
    {
      "cell_type": "markdown",
      "metadata": {
        "id": "ByzcKaui1u_m",
        "colab_type": "text"
      },
      "source": [
        "## <img src=\"https://img.icons8.com/color/32/000000/fork-lift.png\"/> Loading packages"
      ]
    },
    {
      "cell_type": "code",
      "metadata": {
        "id": "2sOBGmq61ijK",
        "colab_type": "code",
        "colab": {}
      },
      "source": [
        "import numpy as np\n",
        "import pandas as pd\n",
        "import matplotlib.pyplot as plt\n",
        "from sklearn.model_selection import train_test_split\n",
        "from sklearn.linear_model import Perceptron\n",
        "from sklearn.neural_network import MLPClassifier\n",
        "from sklearn.metrics import confusion_matrix\n",
        "from sklearn.metrics import classification_report"
      ],
      "execution_count": 0,
      "outputs": []
    },
    {
      "cell_type": "markdown",
      "metadata": {
        "id": "tVOjr4Tw8Hnr",
        "colab_type": "text"
      },
      "source": [
        "# Dataset"
      ]
    },
    {
      "cell_type": "markdown",
      "metadata": {
        "id": "wh_6RwRE_XwV",
        "colab_type": "text"
      },
      "source": [
        "[Wall-Following Robot Navigation Data ](https://archive.ics.uci.edu/ml/datasets/Wall-Following+Robot+Navigation+Data)\n",
        "\n",
        "This robot wall-following task was designed to test the hypothesis that this apparently simple navigation task is indeed a non-linearly separable classification task. Thus, linear classifiers, such as the Perceptron network, are not able to learn the task and command the robot around the room without collisions. Nonlinear neural classifiers, such as the MLP network, are able to learn the task and command the robot successfully without collisions."
      ]
    },
    {
      "cell_type": "markdown",
      "metadata": {
        "id": "PMyfsZ_k-MT1",
        "colab_type": "text"
      },
      "source": [
        "### Attributes\n",
        "\n",
        "* **US1**: ultrasound sensor at the front of the robot (angle: 180°)\n",
        "* **US2**: ultrasound reading (angle: -165°)\n",
        "* **US3**: ultrasound reading (angle: -150°)\n",
        "* **US4**: ultrasound reading (angle: -135°)\n",
        "* **US5**: ultrasound reading (angle: -120°)\n",
        "* **US6**: ultrasound reading (angle: -105°)\n",
        "* **US7**: ultrasound reading (angle: -90°)\n",
        "* **US8**: ultrasound reading (angle: -75°)\n",
        "* **US9**: ultrasound reading (angle: -60°)\n",
        "* **US10**: ultrasound reading (angle: -45°)\n",
        "* **US11**: ultrasound reading (angle: -30°)\n",
        "* **US12**: ultrasound reading (angle: -15°)\n",
        "* **US13**: reading of ultrasound sensor situated at the back of the robot (angle: 0°)\n",
        "* **US14**: ultrasound reading (angle: 15°)\n",
        "* **US15**: ultrasound reading (angle: 30°)\n",
        "* **US16**: ultrasound reading (angle: 45°)\n",
        "* **US17**: ultrasound reading (angle: 60°)\n",
        "* **US18**: ultrasound reading (angle: 75°)\n",
        "* **US19**: ultrasound reading (angle: 90°)\n",
        "* **US20**: ultrasound reading (angle: 105°)\n",
        "* **US21**: ultrasound reading (angle: 120°)\n",
        "* **US22**: ultrasound reading (angle: 135°)\n",
        "* **US23**: ultrasound reading (angle: 150°)\n",
        "* **US24**: ultrasound reading (angle: 165°)\n",
        "\n",
        "### Class Label\n",
        "  * Move-Forward\n",
        "  * Slight-Right-Turn\n",
        "  * Sharp-Right-Turn\n",
        "  * Slight-Left-Turn"
      ]
    },
    {
      "cell_type": "code",
      "metadata": {
        "id": "3rNnJW5I8BLw",
        "colab_type": "code",
        "colab": {}
      },
      "source": [
        "url = 'https://archive.ics.uci.edu/ml/machine-learning-databases/00194/sensor_readings_24.data'\n",
        "header = ['US1','US2','US3','US4','US5','US6','US7','US8','US9','US10','US11','US12','US13','US14','US15','US16','US17','US18','US19','US20','US21','US22','US23','US24','Class']"
      ],
      "execution_count": 0,
      "outputs": []
    },
    {
      "cell_type": "markdown",
      "metadata": {
        "id": "xlnJXKj_8Nxo",
        "colab_type": "text"
      },
      "source": [
        "*** \n",
        "# Exercise #1 - Load data\n",
        "*** "
      ]
    },
    {
      "cell_type": "markdown",
      "metadata": {
        "id": "sN7n-Ut88YjX",
        "colab_type": "text"
      },
      "source": [
        "##### 1.1 Read the url into new dataframe `df`."
      ]
    },
    {
      "cell_type": "code",
      "metadata": {
        "id": "DrRjifuJ8W-3",
        "colab_type": "code",
        "colab": {}
      },
      "source": [
        "# read the url into df\n",
        "print('your code here')"
      ],
      "execution_count": 0,
      "outputs": []
    },
    {
      "cell_type": "markdown",
      "metadata": {
        "id": "LYtZqTNQ9G4I",
        "colab_type": "text"
      },
      "source": [
        "##### 1.2 Describe your data"
      ]
    },
    {
      "cell_type": "code",
      "metadata": {
        "id": "yT4_Qo4R9HiT",
        "colab_type": "code",
        "colab": {}
      },
      "source": [
        "# describe the dataset\n",
        "print('your code here')"
      ],
      "execution_count": 0,
      "outputs": []
    },
    {
      "cell_type": "markdown",
      "metadata": {
        "id": "VPhZJLdvWHOD",
        "colab_type": "text"
      },
      "source": [
        "##### 1.3 Count values of `Class` label"
      ]
    },
    {
      "cell_type": "code",
      "metadata": {
        "id": "TNLQ9IAutgIz",
        "colab_type": "code",
        "colab": {}
      },
      "source": [
        "# 'Class' value counts\n",
        "print('your code here')"
      ],
      "execution_count": 0,
      "outputs": []
    },
    {
      "cell_type": "markdown",
      "metadata": {
        "id": "lEEUjhRwDhqW",
        "colab_type": "text"
      },
      "source": [
        "*** \n",
        "# Exercise #2 - Prepare dataset\n",
        "*** "
      ]
    },
    {
      "cell_type": "markdown",
      "metadata": {
        "id": "WFlSqPkbDpmS",
        "colab_type": "text"
      },
      "source": [
        "##### 2.1 Split `X` and `y`"
      ]
    },
    {
      "cell_type": "code",
      "metadata": {
        "id": "lL6CPA7EDiKy",
        "colab_type": "code",
        "colab": {}
      },
      "source": [
        "# split X and y\n",
        "print('your code here')"
      ],
      "execution_count": 0,
      "outputs": []
    },
    {
      "cell_type": "markdown",
      "metadata": {
        "id": "BQ-HYeOyE2oF",
        "colab_type": "text"
      },
      "source": [
        "##### 2.2 Partition to train and test sets with hold-out"
      ]
    },
    {
      "cell_type": "markdown",
      "metadata": {
        "id": "mrMO8gPoE9kO",
        "colab_type": "text"
      },
      "source": [
        "* test proportion of 20%\n",
        "* `random_state=1`\n",
        "* stratify by `y`"
      ]
    },
    {
      "cell_type": "code",
      "metadata": {
        "id": "YHduBehAEBsG",
        "colab_type": "code",
        "colab": {}
      },
      "source": [
        "# split train and test\n",
        "print('your code here')"
      ],
      "execution_count": 0,
      "outputs": []
    },
    {
      "cell_type": "markdown",
      "metadata": {
        "id": "Ym8CHtMeEuBd",
        "colab_type": "text"
      },
      "source": [
        "##### 2.3 Print the shapes of your four sets"
      ]
    },
    {
      "cell_type": "code",
      "metadata": {
        "id": "Py_FvMgyErCJ",
        "colab_type": "code",
        "colab": {}
      },
      "source": [
        "# print shapes of train and test\n",
        "print('your code here')"
      ],
      "execution_count": 0,
      "outputs": []
    },
    {
      "cell_type": "markdown",
      "metadata": {
        "id": "53Tw9lKvqsIs",
        "colab_type": "text"
      },
      "source": [
        "###### Self Check"
      ]
    },
    {
      "cell_type": "code",
      "metadata": {
        "id": "bWhQY_1Cqt5y",
        "colab_type": "code",
        "colab": {}
      },
      "source": [
        "assert X_train.shape[0] == 4364 and X_train.shape[1] == 24"
      ],
      "execution_count": 0,
      "outputs": []
    },
    {
      "cell_type": "code",
      "metadata": {
        "id": "8NoUcdttqv-b",
        "colab_type": "code",
        "colab": {}
      },
      "source": [
        "assert X_test.shape[0] == 1092 and X_test.shape[1] == 24"
      ],
      "execution_count": 0,
      "outputs": []
    },
    {
      "cell_type": "markdown",
      "metadata": {
        "id": "Sy_djFBMb-Vv",
        "colab_type": "text"
      },
      "source": [
        "##### 2.4 Function to train and test"
      ]
    },
    {
      "cell_type": "markdown",
      "metadata": {
        "id": "9u2UhB4JcEi5",
        "colab_type": "text"
      },
      "source": [
        "Build a function to `train_and_test`:\n",
        "* takes a classifier, `X_train`, `y_train`, `X_test`, `y_test`\n",
        "* returns `y_preds` and a `score`\n",
        "\n",
        "Use the classifier's default `score(.)` function"
      ]
    },
    {
      "cell_type": "code",
      "metadata": {
        "id": "yk9SJt2mOf5X",
        "colab_type": "code",
        "colab": {}
      },
      "source": [
        "# train_and_test\n",
        "def train_and_test(clf, X_train, y_train, X_test, y_test):\n",
        "  print('your code here')"
      ],
      "execution_count": 0,
      "outputs": []
    },
    {
      "cell_type": "markdown",
      "metadata": {
        "id": "y7JTBBYKcQsz",
        "colab_type": "text"
      },
      "source": [
        "##### 2.5 Function to plot confusion matrix `graph_confmat`"
      ]
    },
    {
      "cell_type": "code",
      "metadata": {
        "id": "bQyb1R6zkNe3",
        "colab_type": "code",
        "colab": {}
      },
      "source": [
        "# graph a confusion matrix\n",
        "def graph_confmat(y_true, y_pred):\n",
        "  print('your code here')"
      ],
      "execution_count": 0,
      "outputs": []
    },
    {
      "cell_type": "markdown",
      "metadata": {
        "id": "vE7FNhUIFhw8",
        "colab_type": "text"
      },
      "source": [
        "*** \n",
        "# Exercise #3 - Perceptron\n",
        "***"
      ]
    },
    {
      "cell_type": "markdown",
      "metadata": {
        "id": "GoUqTXGPX2Xv",
        "colab_type": "text"
      },
      "source": [
        "##### 3.1 Build Perceptron ([see api](https://scikit-learn.org/stable/modules/generated/sklearn.linear_model.Perceptron.html))"
      ]
    },
    {
      "cell_type": "markdown",
      "metadata": {
        "id": "y1K5AgLAYD7a",
        "colab_type": "text"
      },
      "source": [
        "* stopping criteria of `1e-03`\n",
        "* regularization of `'l1'`\n",
        "* `random_state=1`\n",
        "* `shuffle=True`"
      ]
    },
    {
      "cell_type": "code",
      "metadata": {
        "id": "UMuUJS9kIQNu",
        "colab_type": "code",
        "colab": {}
      },
      "source": [
        "# build Perceptron\n",
        "print('your code here')"
      ],
      "execution_count": 0,
      "outputs": []
    },
    {
      "cell_type": "markdown",
      "metadata": {
        "id": "FnzDSBp5bEqt",
        "colab_type": "text"
      },
      "source": [
        "##### 3.2 Train and test the Perceptron"
      ]
    },
    {
      "cell_type": "code",
      "metadata": {
        "id": "5twChDfNIm-6",
        "colab_type": "code",
        "colab": {}
      },
      "source": [
        "# train and test Perceptron\n",
        "print('your code here')"
      ],
      "execution_count": 0,
      "outputs": []
    },
    {
      "cell_type": "markdown",
      "metadata": {
        "id": "N6rks4Fpbjdn",
        "colab_type": "text"
      },
      "source": [
        "##### 3.3 Print the score"
      ]
    },
    {
      "cell_type": "code",
      "metadata": {
        "id": "s_X16g_DOk8v",
        "colab_type": "code",
        "colab": {}
      },
      "source": [
        "# print score\n",
        "print('your code here')"
      ],
      "execution_count": 0,
      "outputs": []
    },
    {
      "cell_type": "markdown",
      "metadata": {
        "id": "2t09a2xvbYEV",
        "colab_type": "text"
      },
      "source": [
        "##### 3.4 Graph the confusion matrix"
      ]
    },
    {
      "cell_type": "code",
      "metadata": {
        "id": "KXSwZE7IkSev",
        "colab_type": "code",
        "colab": {}
      },
      "source": [
        "# confusion matrix\n",
        "print('your code here')"
      ],
      "execution_count": 0,
      "outputs": []
    },
    {
      "cell_type": "markdown",
      "metadata": {
        "id": "-1IBxkO3kBZW",
        "colab_type": "text"
      },
      "source": [
        "##### 3.5 Print a classification report (see [api](https://scikit-learn.org/stable/modules/generated/sklearn.metrics.classification_report.html?highlight=classification%20report))"
      ]
    },
    {
      "cell_type": "code",
      "metadata": {
        "id": "mkP6SnxkkB5s",
        "colab_type": "code",
        "colab": {}
      },
      "source": [
        "# print classification report\n",
        "print('your code here')"
      ],
      "execution_count": 0,
      "outputs": []
    },
    {
      "cell_type": "markdown",
      "metadata": {
        "id": "eyBCC1_WFidh",
        "colab_type": "text"
      },
      "source": [
        "*** \n",
        "# Exercise #4 - Multi-layer Perceptron\n",
        "***"
      ]
    },
    {
      "cell_type": "markdown",
      "metadata": {
        "id": "QzMxQj4oc2LE",
        "colab_type": "text"
      },
      "source": [
        "##### 4.1 Build Multi-layer Perceptron ([see api](https://scikit-learn.org/stable/modules/generated/sklearn.neural_network.MLPClassifier.html))"
      ]
    },
    {
      "cell_type": "markdown",
      "metadata": {
        "id": "mX-H00i5jBVG",
        "colab_type": "text"
      },
      "source": [
        "* max iterations of `500`\n",
        "* `random_state=1`"
      ]
    },
    {
      "cell_type": "code",
      "metadata": {
        "id": "MSHCDaTHF4uB",
        "colab_type": "code",
        "colab": {}
      },
      "source": [
        "# build MLP\n",
        "print('your code here')"
      ],
      "execution_count": 0,
      "outputs": []
    },
    {
      "cell_type": "markdown",
      "metadata": {
        "id": "ykpGp2nZdLjS",
        "colab_type": "text"
      },
      "source": [
        "##### 4.2 Train and test your MLP"
      ]
    },
    {
      "cell_type": "code",
      "metadata": {
        "id": "fWdsXqwalamA",
        "colab_type": "code",
        "colab": {}
      },
      "source": [
        "# train and test MLP\n",
        "print('your code here')"
      ],
      "execution_count": 0,
      "outputs": []
    },
    {
      "cell_type": "markdown",
      "metadata": {
        "id": "yc7IfGxPdQhW",
        "colab_type": "text"
      },
      "source": [
        "##### 4.3 Print the score"
      ]
    },
    {
      "cell_type": "code",
      "metadata": {
        "id": "7TCBsidWphih",
        "colab_type": "code",
        "colab": {}
      },
      "source": [
        "# print score\n",
        "print('your code here')"
      ],
      "execution_count": 0,
      "outputs": []
    },
    {
      "cell_type": "markdown",
      "metadata": {
        "id": "ffLiIWDDdTRk",
        "colab_type": "text"
      },
      "source": [
        "##### 4.4 Graph the confusion matrix"
      ]
    },
    {
      "cell_type": "code",
      "metadata": {
        "id": "s_8lxYrkoZKv",
        "colab_type": "code",
        "colab": {}
      },
      "source": [
        "# graph confusion matrix\n",
        "print('your code here')"
      ],
      "execution_count": 0,
      "outputs": []
    },
    {
      "cell_type": "markdown",
      "metadata": {
        "id": "DHhM8TSod1FW",
        "colab_type": "text"
      },
      "source": [
        "##### 4.5 Print a classification report (see [api](https://scikit-learn.org/stable/modules/generated/sklearn.metrics.classification_report.html?highlight=classification%20report))"
      ]
    },
    {
      "cell_type": "code",
      "metadata": {
        "id": "JRKuo2JDd1kn",
        "colab_type": "code",
        "colab": {}
      },
      "source": [
        "# print classification report\n",
        "print('your code here')"
      ],
      "execution_count": 0,
      "outputs": []
    },
    {
      "cell_type": "markdown",
      "metadata": {
        "id": "-FipASqfn0qx",
        "colab_type": "text"
      },
      "source": [
        "*** \n",
        "# Exercise #5 - Analyze results\n",
        "***"
      ]
    },
    {
      "cell_type": "markdown",
      "metadata": {
        "id": "YA5JMi4jlgKy",
        "colab_type": "text"
      },
      "source": [
        "##### 5.1 Print the number of layers in your MLP"
      ]
    },
    {
      "cell_type": "code",
      "metadata": {
        "id": "VW0vVNP9kxRI",
        "colab_type": "code",
        "colab": {}
      },
      "source": [
        "# number of layers\n",
        "print('your code here')"
      ],
      "execution_count": 0,
      "outputs": []
    },
    {
      "cell_type": "markdown",
      "metadata": {
        "id": "C4JKD-c3lnRY",
        "colab_type": "text"
      },
      "source": [
        "##### 5.2 Print the number of outputs of your MLP"
      ]
    },
    {
      "cell_type": "code",
      "metadata": {
        "id": "TZeDaoLckzX5",
        "colab_type": "code",
        "colab": {}
      },
      "source": [
        "# number of outputs\n",
        "print('your code here')"
      ],
      "execution_count": 0,
      "outputs": []
    },
    {
      "cell_type": "markdown",
      "metadata": {
        "id": "rnwyhMXEfwuZ",
        "colab_type": "text"
      },
      "source": [
        "##### 5.3 Print number of iterations"
      ]
    },
    {
      "cell_type": "code",
      "metadata": {
        "id": "H41FyRcrHYoK",
        "colab_type": "code",
        "colab": {}
      },
      "source": [
        "# print number of iterations\n",
        "print('your code here')"
      ],
      "execution_count": 0,
      "outputs": []
    },
    {
      "cell_type": "markdown",
      "metadata": {
        "id": "642d9TLzmEAg",
        "colab_type": "text"
      },
      "source": [
        "##### 5.4 Plot loss over time"
      ]
    },
    {
      "cell_type": "markdown",
      "metadata": {
        "id": "EL6VoUP-mfmm",
        "colab_type": "text"
      },
      "source": [
        "* epochs along `x-axis`\n",
        "* loss (`loss_curve_`) along `y-axis`"
      ]
    },
    {
      "cell_type": "code",
      "metadata": {
        "id": "VIMtgCdoHExm",
        "colab_type": "code",
        "colab": {}
      },
      "source": [
        "# loss vs epochs\n",
        "print('your code here')"
      ],
      "execution_count": 0,
      "outputs": []
    },
    {
      "cell_type": "markdown",
      "metadata": {
        "id": "Ti6XTgfqm4kp",
        "colab_type": "text"
      },
      "source": [
        "##### 5.5 Print `intercepts_`"
      ]
    },
    {
      "cell_type": "code",
      "metadata": {
        "id": "x4JC8N4ufYRW",
        "colab_type": "code",
        "colab": {}
      },
      "source": [
        "# print intercepts\n",
        "print('your code here')"
      ],
      "execution_count": 0,
      "outputs": []
    },
    {
      "cell_type": "markdown",
      "metadata": {
        "id": "ClwgVzt5m_iX",
        "colab_type": "text"
      },
      "source": [
        "<img src=\"https://66.media.tumblr.com/dded9d1a2bf2068f92af9f7a9b6b5451/tumblr_p6s3hbPzgV1vd8jsjo1_500.gifv\" width=\"300\">"
      ]
    }
  ]
}