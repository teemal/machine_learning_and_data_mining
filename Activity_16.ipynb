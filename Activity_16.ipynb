{
  "nbformat": 4,
  "nbformat_minor": 0,
  "metadata": {
    "colab": {
      "name": "Activity 16.ipynb",
      "provenance": [],
      "collapsed_sections": []
    },
    "kernelspec": {
      "name": "python3",
      "display_name": "Python 3"
    }
  },
  "cells": [
    {
      "cell_type": "markdown",
      "metadata": {
        "id": "HsDxW82z1oCR",
        "colab_type": "text"
      },
      "source": [
        "# Activity 16 - Multi-layer Perceptron"
      ]
    },
    {
      "cell_type": "code",
      "metadata": {
        "id": "3VleLG_9sYoB",
        "colab_type": "code",
        "colab": {}
      },
      "source": [
        ""
      ],
      "execution_count": 0,
      "outputs": []
    },
    {
      "cell_type": "markdown",
      "metadata": {
        "id": "n7Vfz5hz1skC",
        "colab_type": "text"
      },
      "source": [
        "***\n",
        "##### CS 434 - Data Mining and Machine Learning\n",
        "##### Oregon State University-Cascades\n",
        "***"
      ]
    },
    {
      "cell_type": "markdown",
      "metadata": {
        "id": "ByzcKaui1u_m",
        "colab_type": "text"
      },
      "source": [
        "## <img src=\"https://img.icons8.com/color/32/000000/fork-lift.png\"/> Loading packages"
      ]
    },
    {
      "cell_type": "code",
      "metadata": {
        "id": "2sOBGmq61ijK",
        "colab_type": "code",
        "colab": {}
      },
      "source": [
        "import numpy as np\n",
        "import pandas as pd\n",
        "import matplotlib.pyplot as plt\n",
        "from sklearn.model_selection import train_test_split\n",
        "from sklearn.linear_model import Perceptron\n",
        "from sklearn.neural_network import MLPClassifier\n",
        "from sklearn.metrics import confusion_matrix\n",
        "from sklearn.metrics import classification_report"
      ],
      "execution_count": 0,
      "outputs": []
    },
    {
      "cell_type": "markdown",
      "metadata": {
        "id": "tVOjr4Tw8Hnr",
        "colab_type": "text"
      },
      "source": [
        "# Dataset"
      ]
    },
    {
      "cell_type": "markdown",
      "metadata": {
        "id": "wh_6RwRE_XwV",
        "colab_type": "text"
      },
      "source": [
        "[Wall-Following Robot Navigation Data ](https://archive.ics.uci.edu/ml/datasets/Wall-Following+Robot+Navigation+Data)\n",
        "\n",
        "This robot wall-following task was designed to test the hypothesis that this apparently simple navigation task is indeed a non-linearly separable classification task. Thus, linear classifiers, such as the Perceptron network, are not able to learn the task and command the robot around the room without collisions. Nonlinear neural classifiers, such as the MLP network, are able to learn the task and command the robot successfully without collisions."
      ]
    },
    {
      "cell_type": "markdown",
      "metadata": {
        "id": "PMyfsZ_k-MT1",
        "colab_type": "text"
      },
      "source": [
        "### Attributes\n",
        "\n",
        "* **US1**: ultrasound sensor at the front of the robot (angle: 180°)\n",
        "* **US2**: ultrasound reading (angle: -165°)\n",
        "* **US3**: ultrasound reading (angle: -150°)\n",
        "* **US4**: ultrasound reading (angle: -135°)\n",
        "* **US5**: ultrasound reading (angle: -120°)\n",
        "* **US6**: ultrasound reading (angle: -105°)\n",
        "* **US7**: ultrasound reading (angle: -90°)\n",
        "* **US8**: ultrasound reading (angle: -75°)\n",
        "* **US9**: ultrasound reading (angle: -60°)\n",
        "* **US10**: ultrasound reading (angle: -45°)\n",
        "* **US11**: ultrasound reading (angle: -30°)\n",
        "* **US12**: ultrasound reading (angle: -15°)\n",
        "* **US13**: reading of ultrasound sensor situated at the back of the robot (angle: 0°)\n",
        "* **US14**: ultrasound reading (angle: 15°)\n",
        "* **US15**: ultrasound reading (angle: 30°)\n",
        "* **US16**: ultrasound reading (angle: 45°)\n",
        "* **US17**: ultrasound reading (angle: 60°)\n",
        "* **US18**: ultrasound reading (angle: 75°)\n",
        "* **US19**: ultrasound reading (angle: 90°)\n",
        "* **US20**: ultrasound reading (angle: 105°)\n",
        "* **US21**: ultrasound reading (angle: 120°)\n",
        "* **US22**: ultrasound reading (angle: 135°)\n",
        "* **US23**: ultrasound reading (angle: 150°)\n",
        "* **US24**: ultrasound reading (angle: 165°)\n",
        "\n",
        "### Class Label\n",
        "  * Move-Forward\n",
        "  * Slight-Right-Turn\n",
        "  * Sharp-Right-Turn\n",
        "  * Slight-Left-Turn"
      ]
    },
    {
      "cell_type": "code",
      "metadata": {
        "id": "3rNnJW5I8BLw",
        "colab_type": "code",
        "colab": {}
      },
      "source": [
        "url = 'https://archive.ics.uci.edu/ml/machine-learning-databases/00194/sensor_readings_24.data'\n",
        "header = ['US1','US2','US3','US4','US5','US6','US7','US8','US9','US10','US11','US12','US13','US14','US15','US16','US17','US18','US19','US20','US21','US22','US23','US24','Class']"
      ],
      "execution_count": 0,
      "outputs": []
    },
    {
      "cell_type": "markdown",
      "metadata": {
        "id": "xlnJXKj_8Nxo",
        "colab_type": "text"
      },
      "source": [
        "*** \n",
        "# Exercise #1 - Load data\n",
        "*** "
      ]
    },
    {
      "cell_type": "markdown",
      "metadata": {
        "id": "sN7n-Ut88YjX",
        "colab_type": "text"
      },
      "source": [
        "##### 1.1 Read the url into new dataframe `df`."
      ]
    },
    {
      "cell_type": "code",
      "metadata": {
        "id": "DrRjifuJ8W-3",
        "colab_type": "code",
        "colab": {
          "base_uri": "https://localhost:8080/",
          "height": 419
        },
        "outputId": "4cb931ad-becf-47c2-ed0c-1a57ad028248"
      },
      "source": [
        "# read the url into df\n",
        "df = pd.read_csv(url, header=None)\n",
        "df.columns = header\n",
        "df"
      ],
      "execution_count": 5,
      "outputs": [
        {
          "output_type": "execute_result",
          "data": {
            "text/html": [
              "<div>\n",
              "<style scoped>\n",
              "    .dataframe tbody tr th:only-of-type {\n",
              "        vertical-align: middle;\n",
              "    }\n",
              "\n",
              "    .dataframe tbody tr th {\n",
              "        vertical-align: top;\n",
              "    }\n",
              "\n",
              "    .dataframe thead th {\n",
              "        text-align: right;\n",
              "    }\n",
              "</style>\n",
              "<table border=\"1\" class=\"dataframe\">\n",
              "  <thead>\n",
              "    <tr style=\"text-align: right;\">\n",
              "      <th></th>\n",
              "      <th>US1</th>\n",
              "      <th>US2</th>\n",
              "      <th>US3</th>\n",
              "      <th>US4</th>\n",
              "      <th>US5</th>\n",
              "      <th>US6</th>\n",
              "      <th>US7</th>\n",
              "      <th>US8</th>\n",
              "      <th>US9</th>\n",
              "      <th>US10</th>\n",
              "      <th>US11</th>\n",
              "      <th>US12</th>\n",
              "      <th>US13</th>\n",
              "      <th>US14</th>\n",
              "      <th>US15</th>\n",
              "      <th>US16</th>\n",
              "      <th>US17</th>\n",
              "      <th>US18</th>\n",
              "      <th>US19</th>\n",
              "      <th>US20</th>\n",
              "      <th>US21</th>\n",
              "      <th>US22</th>\n",
              "      <th>US23</th>\n",
              "      <th>US24</th>\n",
              "      <th>Class</th>\n",
              "    </tr>\n",
              "  </thead>\n",
              "  <tbody>\n",
              "    <tr>\n",
              "      <th>0</th>\n",
              "      <td>0.438</td>\n",
              "      <td>0.498</td>\n",
              "      <td>3.625</td>\n",
              "      <td>3.645</td>\n",
              "      <td>5.000</td>\n",
              "      <td>2.918</td>\n",
              "      <td>5.000</td>\n",
              "      <td>2.351</td>\n",
              "      <td>2.332</td>\n",
              "      <td>2.643</td>\n",
              "      <td>1.698</td>\n",
              "      <td>1.687</td>\n",
              "      <td>1.698</td>\n",
              "      <td>1.717</td>\n",
              "      <td>1.744</td>\n",
              "      <td>0.593</td>\n",
              "      <td>0.502</td>\n",
              "      <td>0.493</td>\n",
              "      <td>0.504</td>\n",
              "      <td>0.445</td>\n",
              "      <td>0.431</td>\n",
              "      <td>0.444</td>\n",
              "      <td>0.440</td>\n",
              "      <td>0.429</td>\n",
              "      <td>Slight-Right-Turn</td>\n",
              "    </tr>\n",
              "    <tr>\n",
              "      <th>1</th>\n",
              "      <td>0.438</td>\n",
              "      <td>0.498</td>\n",
              "      <td>3.625</td>\n",
              "      <td>3.648</td>\n",
              "      <td>5.000</td>\n",
              "      <td>2.918</td>\n",
              "      <td>5.000</td>\n",
              "      <td>2.637</td>\n",
              "      <td>2.332</td>\n",
              "      <td>2.649</td>\n",
              "      <td>1.695</td>\n",
              "      <td>1.687</td>\n",
              "      <td>1.695</td>\n",
              "      <td>1.720</td>\n",
              "      <td>1.744</td>\n",
              "      <td>0.592</td>\n",
              "      <td>0.502</td>\n",
              "      <td>0.493</td>\n",
              "      <td>0.504</td>\n",
              "      <td>0.449</td>\n",
              "      <td>0.431</td>\n",
              "      <td>0.444</td>\n",
              "      <td>0.443</td>\n",
              "      <td>0.429</td>\n",
              "      <td>Slight-Right-Turn</td>\n",
              "    </tr>\n",
              "    <tr>\n",
              "      <th>2</th>\n",
              "      <td>0.438</td>\n",
              "      <td>0.498</td>\n",
              "      <td>3.625</td>\n",
              "      <td>3.629</td>\n",
              "      <td>5.000</td>\n",
              "      <td>2.918</td>\n",
              "      <td>5.000</td>\n",
              "      <td>2.637</td>\n",
              "      <td>2.334</td>\n",
              "      <td>2.643</td>\n",
              "      <td>1.696</td>\n",
              "      <td>1.687</td>\n",
              "      <td>1.695</td>\n",
              "      <td>1.717</td>\n",
              "      <td>1.744</td>\n",
              "      <td>0.593</td>\n",
              "      <td>0.502</td>\n",
              "      <td>0.493</td>\n",
              "      <td>0.504</td>\n",
              "      <td>0.449</td>\n",
              "      <td>0.431</td>\n",
              "      <td>0.444</td>\n",
              "      <td>0.446</td>\n",
              "      <td>0.429</td>\n",
              "      <td>Slight-Right-Turn</td>\n",
              "    </tr>\n",
              "    <tr>\n",
              "      <th>3</th>\n",
              "      <td>0.437</td>\n",
              "      <td>0.501</td>\n",
              "      <td>3.625</td>\n",
              "      <td>3.626</td>\n",
              "      <td>5.000</td>\n",
              "      <td>2.918</td>\n",
              "      <td>5.000</td>\n",
              "      <td>2.353</td>\n",
              "      <td>2.334</td>\n",
              "      <td>2.642</td>\n",
              "      <td>1.730</td>\n",
              "      <td>1.687</td>\n",
              "      <td>1.695</td>\n",
              "      <td>1.717</td>\n",
              "      <td>1.744</td>\n",
              "      <td>0.593</td>\n",
              "      <td>0.502</td>\n",
              "      <td>0.493</td>\n",
              "      <td>0.504</td>\n",
              "      <td>0.449</td>\n",
              "      <td>0.431</td>\n",
              "      <td>0.444</td>\n",
              "      <td>0.444</td>\n",
              "      <td>0.429</td>\n",
              "      <td>Slight-Right-Turn</td>\n",
              "    </tr>\n",
              "    <tr>\n",
              "      <th>4</th>\n",
              "      <td>0.438</td>\n",
              "      <td>0.498</td>\n",
              "      <td>3.626</td>\n",
              "      <td>3.629</td>\n",
              "      <td>5.000</td>\n",
              "      <td>2.918</td>\n",
              "      <td>5.000</td>\n",
              "      <td>2.640</td>\n",
              "      <td>2.334</td>\n",
              "      <td>2.639</td>\n",
              "      <td>1.696</td>\n",
              "      <td>1.687</td>\n",
              "      <td>1.695</td>\n",
              "      <td>1.717</td>\n",
              "      <td>1.744</td>\n",
              "      <td>0.592</td>\n",
              "      <td>0.502</td>\n",
              "      <td>0.493</td>\n",
              "      <td>0.504</td>\n",
              "      <td>0.449</td>\n",
              "      <td>0.431</td>\n",
              "      <td>0.444</td>\n",
              "      <td>0.441</td>\n",
              "      <td>0.429</td>\n",
              "      <td>Slight-Right-Turn</td>\n",
              "    </tr>\n",
              "    <tr>\n",
              "      <th>...</th>\n",
              "      <td>...</td>\n",
              "      <td>...</td>\n",
              "      <td>...</td>\n",
              "      <td>...</td>\n",
              "      <td>...</td>\n",
              "      <td>...</td>\n",
              "      <td>...</td>\n",
              "      <td>...</td>\n",
              "      <td>...</td>\n",
              "      <td>...</td>\n",
              "      <td>...</td>\n",
              "      <td>...</td>\n",
              "      <td>...</td>\n",
              "      <td>...</td>\n",
              "      <td>...</td>\n",
              "      <td>...</td>\n",
              "      <td>...</td>\n",
              "      <td>...</td>\n",
              "      <td>...</td>\n",
              "      <td>...</td>\n",
              "      <td>...</td>\n",
              "      <td>...</td>\n",
              "      <td>...</td>\n",
              "      <td>...</td>\n",
              "      <td>...</td>\n",
              "    </tr>\n",
              "    <tr>\n",
              "      <th>5451</th>\n",
              "      <td>0.910</td>\n",
              "      <td>5.000</td>\n",
              "      <td>3.997</td>\n",
              "      <td>2.785</td>\n",
              "      <td>2.770</td>\n",
              "      <td>2.572</td>\n",
              "      <td>2.433</td>\n",
              "      <td>1.087</td>\n",
              "      <td>1.772</td>\n",
              "      <td>1.040</td>\n",
              "      <td>1.024</td>\n",
              "      <td>1.057</td>\n",
              "      <td>1.285</td>\n",
              "      <td>1.285</td>\n",
              "      <td>5.000</td>\n",
              "      <td>0.660</td>\n",
              "      <td>0.648</td>\n",
              "      <td>0.657</td>\n",
              "      <td>0.686</td>\n",
              "      <td>5.000</td>\n",
              "      <td>1.045</td>\n",
              "      <td>5.000</td>\n",
              "      <td>5.000</td>\n",
              "      <td>1.562</td>\n",
              "      <td>Move-Forward</td>\n",
              "    </tr>\n",
              "    <tr>\n",
              "      <th>5452</th>\n",
              "      <td>0.926</td>\n",
              "      <td>5.000</td>\n",
              "      <td>4.015</td>\n",
              "      <td>2.792</td>\n",
              "      <td>2.777</td>\n",
              "      <td>2.571</td>\n",
              "      <td>1.768</td>\n",
              "      <td>1.071</td>\n",
              "      <td>1.762</td>\n",
              "      <td>1.021</td>\n",
              "      <td>1.005</td>\n",
              "      <td>1.044</td>\n",
              "      <td>1.269</td>\n",
              "      <td>1.266</td>\n",
              "      <td>0.894</td>\n",
              "      <td>0.652</td>\n",
              "      <td>0.640</td>\n",
              "      <td>0.649</td>\n",
              "      <td>1.593</td>\n",
              "      <td>1.616</td>\n",
              "      <td>1.058</td>\n",
              "      <td>5.000</td>\n",
              "      <td>5.000</td>\n",
              "      <td>1.085</td>\n",
              "      <td>Sharp-Right-Turn</td>\n",
              "    </tr>\n",
              "    <tr>\n",
              "      <th>5453</th>\n",
              "      <td>0.937</td>\n",
              "      <td>5.000</td>\n",
              "      <td>4.034</td>\n",
              "      <td>2.799</td>\n",
              "      <td>2.784</td>\n",
              "      <td>2.571</td>\n",
              "      <td>1.754</td>\n",
              "      <td>1.053</td>\n",
              "      <td>1.752</td>\n",
              "      <td>1.002</td>\n",
              "      <td>0.987</td>\n",
              "      <td>1.001</td>\n",
              "      <td>1.078</td>\n",
              "      <td>1.246</td>\n",
              "      <td>0.873</td>\n",
              "      <td>0.648</td>\n",
              "      <td>0.633</td>\n",
              "      <td>0.642</td>\n",
              "      <td>0.741</td>\n",
              "      <td>5.000</td>\n",
              "      <td>1.065</td>\n",
              "      <td>5.000</td>\n",
              "      <td>5.000</td>\n",
              "      <td>1.105</td>\n",
              "      <td>Sharp-Right-Turn</td>\n",
              "    </tr>\n",
              "    <tr>\n",
              "      <th>5454</th>\n",
              "      <td>0.945</td>\n",
              "      <td>4.052</td>\n",
              "      <td>4.052</td>\n",
              "      <td>2.809</td>\n",
              "      <td>2.791</td>\n",
              "      <td>2.441</td>\n",
              "      <td>1.757</td>\n",
              "      <td>1.034</td>\n",
              "      <td>1.743</td>\n",
              "      <td>0.983</td>\n",
              "      <td>0.967</td>\n",
              "      <td>0.979</td>\n",
              "      <td>1.055</td>\n",
              "      <td>1.227</td>\n",
              "      <td>5.000</td>\n",
              "      <td>0.641</td>\n",
              "      <td>0.626</td>\n",
              "      <td>0.635</td>\n",
              "      <td>0.754</td>\n",
              "      <td>5.000</td>\n",
              "      <td>1.076</td>\n",
              "      <td>5.000</td>\n",
              "      <td>5.000</td>\n",
              "      <td>1.118</td>\n",
              "      <td>Move-Forward</td>\n",
              "    </tr>\n",
              "    <tr>\n",
              "      <th>5455</th>\n",
              "      <td>0.950</td>\n",
              "      <td>4.066</td>\n",
              "      <td>5.000</td>\n",
              "      <td>2.819</td>\n",
              "      <td>2.798</td>\n",
              "      <td>2.570</td>\n",
              "      <td>2.422</td>\n",
              "      <td>1.016</td>\n",
              "      <td>1.739</td>\n",
              "      <td>0.964</td>\n",
              "      <td>0.949</td>\n",
              "      <td>0.956</td>\n",
              "      <td>1.007</td>\n",
              "      <td>1.208</td>\n",
              "      <td>0.854</td>\n",
              "      <td>0.635</td>\n",
              "      <td>0.618</td>\n",
              "      <td>0.628</td>\n",
              "      <td>0.776</td>\n",
              "      <td>5.000</td>\n",
              "      <td>1.083</td>\n",
              "      <td>5.000</td>\n",
              "      <td>5.000</td>\n",
              "      <td>1.168</td>\n",
              "      <td>Sharp-Right-Turn</td>\n",
              "    </tr>\n",
              "  </tbody>\n",
              "</table>\n",
              "<p>5456 rows × 25 columns</p>\n",
              "</div>"
            ],
            "text/plain": [
              "        US1    US2    US3    US4  ...   US22   US23   US24              Class\n",
              "0     0.438  0.498  3.625  3.645  ...  0.444  0.440  0.429  Slight-Right-Turn\n",
              "1     0.438  0.498  3.625  3.648  ...  0.444  0.443  0.429  Slight-Right-Turn\n",
              "2     0.438  0.498  3.625  3.629  ...  0.444  0.446  0.429  Slight-Right-Turn\n",
              "3     0.437  0.501  3.625  3.626  ...  0.444  0.444  0.429  Slight-Right-Turn\n",
              "4     0.438  0.498  3.626  3.629  ...  0.444  0.441  0.429  Slight-Right-Turn\n",
              "...     ...    ...    ...    ...  ...    ...    ...    ...                ...\n",
              "5451  0.910  5.000  3.997  2.785  ...  5.000  5.000  1.562       Move-Forward\n",
              "5452  0.926  5.000  4.015  2.792  ...  5.000  5.000  1.085   Sharp-Right-Turn\n",
              "5453  0.937  5.000  4.034  2.799  ...  5.000  5.000  1.105   Sharp-Right-Turn\n",
              "5454  0.945  4.052  4.052  2.809  ...  5.000  5.000  1.118       Move-Forward\n",
              "5455  0.950  4.066  5.000  2.819  ...  5.000  5.000  1.168   Sharp-Right-Turn\n",
              "\n",
              "[5456 rows x 25 columns]"
            ]
          },
          "metadata": {
            "tags": []
          },
          "execution_count": 5
        }
      ]
    },
    {
      "cell_type": "markdown",
      "metadata": {
        "id": "LYtZqTNQ9G4I",
        "colab_type": "text"
      },
      "source": [
        "##### 1.2 Describe your data"
      ]
    },
    {
      "cell_type": "code",
      "metadata": {
        "id": "yT4_Qo4R9HiT",
        "colab_type": "code",
        "colab": {
          "base_uri": "https://localhost:8080/",
          "height": 317
        },
        "outputId": "f7b0aad9-6281-43a0-d28a-594c5332e0d0"
      },
      "source": [
        "# describe the dataset\n",
        "df.describe()"
      ],
      "execution_count": 7,
      "outputs": [
        {
          "output_type": "execute_result",
          "data": {
            "text/html": [
              "<div>\n",
              "<style scoped>\n",
              "    .dataframe tbody tr th:only-of-type {\n",
              "        vertical-align: middle;\n",
              "    }\n",
              "\n",
              "    .dataframe tbody tr th {\n",
              "        vertical-align: top;\n",
              "    }\n",
              "\n",
              "    .dataframe thead th {\n",
              "        text-align: right;\n",
              "    }\n",
              "</style>\n",
              "<table border=\"1\" class=\"dataframe\">\n",
              "  <thead>\n",
              "    <tr style=\"text-align: right;\">\n",
              "      <th></th>\n",
              "      <th>US1</th>\n",
              "      <th>US2</th>\n",
              "      <th>US3</th>\n",
              "      <th>US4</th>\n",
              "      <th>US5</th>\n",
              "      <th>US6</th>\n",
              "      <th>US7</th>\n",
              "      <th>US8</th>\n",
              "      <th>US9</th>\n",
              "      <th>US10</th>\n",
              "      <th>US11</th>\n",
              "      <th>US12</th>\n",
              "      <th>US13</th>\n",
              "      <th>US14</th>\n",
              "      <th>US15</th>\n",
              "      <th>US16</th>\n",
              "      <th>US17</th>\n",
              "      <th>US18</th>\n",
              "      <th>US19</th>\n",
              "      <th>US20</th>\n",
              "      <th>US21</th>\n",
              "      <th>US22</th>\n",
              "      <th>US23</th>\n",
              "      <th>US24</th>\n",
              "    </tr>\n",
              "  </thead>\n",
              "  <tbody>\n",
              "    <tr>\n",
              "      <th>count</th>\n",
              "      <td>5456.000000</td>\n",
              "      <td>5456.000000</td>\n",
              "      <td>5456.000000</td>\n",
              "      <td>5456.000000</td>\n",
              "      <td>5456.000000</td>\n",
              "      <td>5456.000000</td>\n",
              "      <td>5456.000000</td>\n",
              "      <td>5456.000000</td>\n",
              "      <td>5456.000000</td>\n",
              "      <td>5456.000000</td>\n",
              "      <td>5456.000000</td>\n",
              "      <td>5456.000000</td>\n",
              "      <td>5456.000000</td>\n",
              "      <td>5456.000000</td>\n",
              "      <td>5456.000000</td>\n",
              "      <td>5456.000000</td>\n",
              "      <td>5456.000000</td>\n",
              "      <td>5456.000000</td>\n",
              "      <td>5456.00000</td>\n",
              "      <td>5456.000000</td>\n",
              "      <td>5456.000000</td>\n",
              "      <td>5456.000000</td>\n",
              "      <td>5456.000000</td>\n",
              "      <td>5456.000000</td>\n",
              "    </tr>\n",
              "    <tr>\n",
              "      <th>mean</th>\n",
              "      <td>1.471617</td>\n",
              "      <td>2.327043</td>\n",
              "      <td>2.489347</td>\n",
              "      <td>2.796501</td>\n",
              "      <td>2.958552</td>\n",
              "      <td>2.893073</td>\n",
              "      <td>3.351113</td>\n",
              "      <td>2.540397</td>\n",
              "      <td>3.125621</td>\n",
              "      <td>2.832386</td>\n",
              "      <td>2.549398</td>\n",
              "      <td>2.077776</td>\n",
              "      <td>2.125777</td>\n",
              "      <td>2.190486</td>\n",
              "      <td>2.205772</td>\n",
              "      <td>1.202111</td>\n",
              "      <td>0.989831</td>\n",
              "      <td>0.910273</td>\n",
              "      <td>1.05811</td>\n",
              "      <td>1.076320</td>\n",
              "      <td>1.015923</td>\n",
              "      <td>1.778034</td>\n",
              "      <td>1.555045</td>\n",
              "      <td>1.578508</td>\n",
              "    </tr>\n",
              "    <tr>\n",
              "      <th>std</th>\n",
              "      <td>0.802801</td>\n",
              "      <td>1.410146</td>\n",
              "      <td>1.247435</td>\n",
              "      <td>1.309368</td>\n",
              "      <td>1.339225</td>\n",
              "      <td>1.282575</td>\n",
              "      <td>1.413692</td>\n",
              "      <td>1.111554</td>\n",
              "      <td>1.356965</td>\n",
              "      <td>1.307843</td>\n",
              "      <td>1.382029</td>\n",
              "      <td>1.249301</td>\n",
              "      <td>1.407168</td>\n",
              "      <td>1.576873</td>\n",
              "      <td>1.715435</td>\n",
              "      <td>1.098568</td>\n",
              "      <td>0.942075</td>\n",
              "      <td>0.889527</td>\n",
              "      <td>1.14463</td>\n",
              "      <td>1.141498</td>\n",
              "      <td>0.887439</td>\n",
              "      <td>1.571686</td>\n",
              "      <td>1.291447</td>\n",
              "      <td>1.150480</td>\n",
              "    </tr>\n",
              "    <tr>\n",
              "      <th>min</th>\n",
              "      <td>0.400000</td>\n",
              "      <td>0.437000</td>\n",
              "      <td>0.470000</td>\n",
              "      <td>0.833000</td>\n",
              "      <td>1.120000</td>\n",
              "      <td>1.114000</td>\n",
              "      <td>1.122000</td>\n",
              "      <td>0.859000</td>\n",
              "      <td>0.836000</td>\n",
              "      <td>0.810000</td>\n",
              "      <td>0.783000</td>\n",
              "      <td>0.778000</td>\n",
              "      <td>0.770000</td>\n",
              "      <td>0.756000</td>\n",
              "      <td>0.495000</td>\n",
              "      <td>0.424000</td>\n",
              "      <td>0.373000</td>\n",
              "      <td>0.354000</td>\n",
              "      <td>0.34000</td>\n",
              "      <td>0.355000</td>\n",
              "      <td>0.380000</td>\n",
              "      <td>0.370000</td>\n",
              "      <td>0.367000</td>\n",
              "      <td>0.377000</td>\n",
              "    </tr>\n",
              "    <tr>\n",
              "      <th>25%</th>\n",
              "      <td>0.921000</td>\n",
              "      <td>1.362000</td>\n",
              "      <td>1.538750</td>\n",
              "      <td>1.731000</td>\n",
              "      <td>1.774000</td>\n",
              "      <td>1.785750</td>\n",
              "      <td>1.930750</td>\n",
              "      <td>1.618000</td>\n",
              "      <td>1.799750</td>\n",
              "      <td>1.636000</td>\n",
              "      <td>1.579000</td>\n",
              "      <td>1.293000</td>\n",
              "      <td>1.190750</td>\n",
              "      <td>1.031000</td>\n",
              "      <td>0.860000</td>\n",
              "      <td>0.690000</td>\n",
              "      <td>0.581000</td>\n",
              "      <td>0.529750</td>\n",
              "      <td>0.52300</td>\n",
              "      <td>0.541750</td>\n",
              "      <td>0.567000</td>\n",
              "      <td>0.743000</td>\n",
              "      <td>0.792000</td>\n",
              "      <td>0.884000</td>\n",
              "    </tr>\n",
              "    <tr>\n",
              "      <th>50%</th>\n",
              "      <td>1.335000</td>\n",
              "      <td>1.904500</td>\n",
              "      <td>2.064000</td>\n",
              "      <td>2.458000</td>\n",
              "      <td>2.667000</td>\n",
              "      <td>2.682500</td>\n",
              "      <td>3.225500</td>\n",
              "      <td>2.172000</td>\n",
              "      <td>2.802000</td>\n",
              "      <td>2.679000</td>\n",
              "      <td>1.999500</td>\n",
              "      <td>1.689000</td>\n",
              "      <td>1.609000</td>\n",
              "      <td>1.493000</td>\n",
              "      <td>1.328500</td>\n",
              "      <td>0.803000</td>\n",
              "      <td>0.738000</td>\n",
              "      <td>0.685000</td>\n",
              "      <td>0.69100</td>\n",
              "      <td>0.693000</td>\n",
              "      <td>0.764000</td>\n",
              "      <td>1.030500</td>\n",
              "      <td>1.071000</td>\n",
              "      <td>1.289000</td>\n",
              "    </tr>\n",
              "    <tr>\n",
              "      <th>75%</th>\n",
              "      <td>1.814000</td>\n",
              "      <td>2.681500</td>\n",
              "      <td>2.739250</td>\n",
              "      <td>4.093500</td>\n",
              "      <td>4.314500</td>\n",
              "      <td>3.835250</td>\n",
              "      <td>5.000000</td>\n",
              "      <td>3.193000</td>\n",
              "      <td>5.000000</td>\n",
              "      <td>3.526250</td>\n",
              "      <td>3.216250</td>\n",
              "      <td>2.281500</td>\n",
              "      <td>2.357750</td>\n",
              "      <td>2.739250</td>\n",
              "      <td>4.436250</td>\n",
              "      <td>1.159000</td>\n",
              "      <td>0.913000</td>\n",
              "      <td>0.837000</td>\n",
              "      <td>0.85700</td>\n",
              "      <td>0.863000</td>\n",
              "      <td>1.002250</td>\n",
              "      <td>2.068250</td>\n",
              "      <td>1.559500</td>\n",
              "      <td>1.657250</td>\n",
              "    </tr>\n",
              "    <tr>\n",
              "      <th>max</th>\n",
              "      <td>5.000000</td>\n",
              "      <td>5.025000</td>\n",
              "      <td>5.029000</td>\n",
              "      <td>5.017000</td>\n",
              "      <td>5.000000</td>\n",
              "      <td>5.005000</td>\n",
              "      <td>5.008000</td>\n",
              "      <td>5.087000</td>\n",
              "      <td>5.000000</td>\n",
              "      <td>5.022000</td>\n",
              "      <td>5.019000</td>\n",
              "      <td>5.000000</td>\n",
              "      <td>5.003000</td>\n",
              "      <td>5.000000</td>\n",
              "      <td>5.000000</td>\n",
              "      <td>5.000000</td>\n",
              "      <td>5.000000</td>\n",
              "      <td>5.000000</td>\n",
              "      <td>5.00000</td>\n",
              "      <td>5.000000</td>\n",
              "      <td>5.000000</td>\n",
              "      <td>5.000000</td>\n",
              "      <td>5.000000</td>\n",
              "      <td>5.000000</td>\n",
              "    </tr>\n",
              "  </tbody>\n",
              "</table>\n",
              "</div>"
            ],
            "text/plain": [
              "               US1          US2  ...         US23         US24\n",
              "count  5456.000000  5456.000000  ...  5456.000000  5456.000000\n",
              "mean      1.471617     2.327043  ...     1.555045     1.578508\n",
              "std       0.802801     1.410146  ...     1.291447     1.150480\n",
              "min       0.400000     0.437000  ...     0.367000     0.377000\n",
              "25%       0.921000     1.362000  ...     0.792000     0.884000\n",
              "50%       1.335000     1.904500  ...     1.071000     1.289000\n",
              "75%       1.814000     2.681500  ...     1.559500     1.657250\n",
              "max       5.000000     5.025000  ...     5.000000     5.000000\n",
              "\n",
              "[8 rows x 24 columns]"
            ]
          },
          "metadata": {
            "tags": []
          },
          "execution_count": 7
        }
      ]
    },
    {
      "cell_type": "markdown",
      "metadata": {
        "id": "VPhZJLdvWHOD",
        "colab_type": "text"
      },
      "source": [
        "##### 1.3 Count values of `Class` label"
      ]
    },
    {
      "cell_type": "code",
      "metadata": {
        "id": "TNLQ9IAutgIz",
        "colab_type": "code",
        "colab": {
          "base_uri": "https://localhost:8080/",
          "height": 102
        },
        "outputId": "2a8875f7-39b1-46d6-97af-abb710721019"
      },
      "source": [
        "# 'Class' value counts\n",
        "df['Class'].value_counts()"
      ],
      "execution_count": 8,
      "outputs": [
        {
          "output_type": "execute_result",
          "data": {
            "text/plain": [
              "Move-Forward         2205\n",
              "Sharp-Right-Turn     2097\n",
              "Slight-Right-Turn     826\n",
              "Slight-Left-Turn      328\n",
              "Name: Class, dtype: int64"
            ]
          },
          "metadata": {
            "tags": []
          },
          "execution_count": 8
        }
      ]
    },
    {
      "cell_type": "markdown",
      "metadata": {
        "id": "lEEUjhRwDhqW",
        "colab_type": "text"
      },
      "source": [
        "*** \n",
        "# Exercise #2 - Prepare dataset\n",
        "*** "
      ]
    },
    {
      "cell_type": "markdown",
      "metadata": {
        "id": "WFlSqPkbDpmS",
        "colab_type": "text"
      },
      "source": [
        "##### 2.1 Split `X` and `y`"
      ]
    },
    {
      "cell_type": "code",
      "metadata": {
        "id": "lL6CPA7EDiKy",
        "colab_type": "code",
        "colab": {
          "base_uri": "https://localhost:8080/",
          "height": 34
        },
        "outputId": "15b6c898-f9c1-4af1-a217-7b77799026f9"
      },
      "source": [
        "# split X and y\n",
        "X, y = df.iloc[:, :-1], df.iloc[:, -1]\n",
        "print(X.shape, y.shape)"
      ],
      "execution_count": 9,
      "outputs": [
        {
          "output_type": "stream",
          "text": [
            "(5456, 24) (5456,)\n"
          ],
          "name": "stdout"
        }
      ]
    },
    {
      "cell_type": "markdown",
      "metadata": {
        "id": "BQ-HYeOyE2oF",
        "colab_type": "text"
      },
      "source": [
        "##### 2.2 Partition to train and test sets with hold-out"
      ]
    },
    {
      "cell_type": "markdown",
      "metadata": {
        "id": "mrMO8gPoE9kO",
        "colab_type": "text"
      },
      "source": [
        "* test proportion of 20%\n",
        "* `random_state=1`\n",
        "* stratify by `y`"
      ]
    },
    {
      "cell_type": "code",
      "metadata": {
        "id": "YHduBehAEBsG",
        "colab_type": "code",
        "colab": {}
      },
      "source": [
        "# split train and test\n",
        "X_train, X_test, y_train, y_test =\\\n",
        "            train_test_split(X, y, \n",
        "                             test_size=0.2, \n",
        "                             random_state=1,\n",
        "                             stratify=y)"
      ],
      "execution_count": 0,
      "outputs": []
    },
    {
      "cell_type": "markdown",
      "metadata": {
        "id": "Ym8CHtMeEuBd",
        "colab_type": "text"
      },
      "source": [
        "##### 2.3 Print the shapes of your four sets"
      ]
    },
    {
      "cell_type": "code",
      "metadata": {
        "id": "Py_FvMgyErCJ",
        "colab_type": "code",
        "colab": {
          "base_uri": "https://localhost:8080/",
          "height": 34
        },
        "outputId": "d91c0636-e757-45bb-a516-7a12e3428314"
      },
      "source": [
        "# print shapes of train and test\n",
        "print(X_train.shape, X_test.shape, y_train.shape, y_test.shape)"
      ],
      "execution_count": 12,
      "outputs": [
        {
          "output_type": "stream",
          "text": [
            "(4364, 24) (1092, 24) (4364,) (1092,)\n"
          ],
          "name": "stdout"
        }
      ]
    },
    {
      "cell_type": "markdown",
      "metadata": {
        "id": "53Tw9lKvqsIs",
        "colab_type": "text"
      },
      "source": [
        "###### Self Check"
      ]
    },
    {
      "cell_type": "code",
      "metadata": {
        "id": "bWhQY_1Cqt5y",
        "colab_type": "code",
        "colab": {}
      },
      "source": [
        "assert X_train.shape[0] == 4364 and X_train.shape[1] == 24"
      ],
      "execution_count": 0,
      "outputs": []
    },
    {
      "cell_type": "code",
      "metadata": {
        "id": "8NoUcdttqv-b",
        "colab_type": "code",
        "colab": {}
      },
      "source": [
        "assert X_test.shape[0] == 1092 and X_test.shape[1] == 24"
      ],
      "execution_count": 0,
      "outputs": []
    },
    {
      "cell_type": "markdown",
      "metadata": {
        "id": "Sy_djFBMb-Vv",
        "colab_type": "text"
      },
      "source": [
        "##### 2.4 Function to train and test"
      ]
    },
    {
      "cell_type": "markdown",
      "metadata": {
        "id": "9u2UhB4JcEi5",
        "colab_type": "text"
      },
      "source": [
        "Build a function to `train_and_test`:\n",
        "* takes a classifier, `X_train`, `y_train`, `X_test`, `y_test`\n",
        "* returns `y_preds` and a `score`\n",
        "\n",
        "Use the classifier's default `score(.)` function"
      ]
    },
    {
      "cell_type": "code",
      "metadata": {
        "id": "yk9SJt2mOf5X",
        "colab_type": "code",
        "colab": {}
      },
      "source": [
        "# train_and_test\n",
        "def train_and_test(clf, X_train, y_train, X_test, y_test):\n",
        "  clf.fit(X, y)\n",
        "  y_preds = clf.predict(X)\n",
        "  score = clf.score(X, y)\n",
        "  return y_preds, score"
      ],
      "execution_count": 0,
      "outputs": []
    },
    {
      "cell_type": "markdown",
      "metadata": {
        "id": "y7JTBBYKcQsz",
        "colab_type": "text"
      },
      "source": [
        "##### 2.5 Function to plot confusion matrix `graph_confmat`"
      ]
    },
    {
      "cell_type": "code",
      "metadata": {
        "id": "bQyb1R6zkNe3",
        "colab_type": "code",
        "colab": {}
      },
      "source": [
        "# graph a confusion matrix\n",
        "def graph_confmat(y_true, y_pred):\n",
        "  confmat = confusion_matrix(y_true=y, y_pred=y_preds)\n",
        "  fig, ax = plt.subplots(figsize=(2.5, 2.5))\n",
        "  ax.matshow(confmat, cmap=plt.cm.Blues, alpha=0.3)\n",
        "  for i in range(confmat.shape[0]):\n",
        "    for j in range(confmat.shape[1]):\n",
        "        ax.text(x=j, y=i, s=confmat[i, j], va='center', ha='center')\n",
        "\n",
        "  plt.xlabel('Predicted label')\n",
        "  plt.ylabel('True label')\n",
        "\n",
        "  plt.tight_layout()\n",
        "  plt.show()"
      ],
      "execution_count": 0,
      "outputs": []
    },
    {
      "cell_type": "markdown",
      "metadata": {
        "id": "vE7FNhUIFhw8",
        "colab_type": "text"
      },
      "source": [
        "*** \n",
        "# Exercise #3 - Perceptron\n",
        "***"
      ]
    },
    {
      "cell_type": "markdown",
      "metadata": {
        "id": "GoUqTXGPX2Xv",
        "colab_type": "text"
      },
      "source": [
        "##### 3.1 Build Perceptron ([see api](https://scikit-learn.org/stable/modules/generated/sklearn.linear_model.Perceptron.html))"
      ]
    },
    {
      "cell_type": "markdown",
      "metadata": {
        "id": "y1K5AgLAYD7a",
        "colab_type": "text"
      },
      "source": [
        "* stopping criteria of `1e-03`\n",
        "* regularization of `'l1'`\n",
        "* `random_state=1`\n",
        "* `shuffle=True`"
      ]
    },
    {
      "cell_type": "code",
      "metadata": {
        "id": "UMuUJS9kIQNu",
        "colab_type": "code",
        "colab": {}
      },
      "source": [
        "# build Perceptron\n",
        "ppn = Perceptron(shuffle=True, random_state=1, penalty='l1', tol=1e-03)"
      ],
      "execution_count": 0,
      "outputs": []
    },
    {
      "cell_type": "markdown",
      "metadata": {
        "id": "FnzDSBp5bEqt",
        "colab_type": "text"
      },
      "source": [
        "##### 3.2 Train and test the Perceptron"
      ]
    },
    {
      "cell_type": "code",
      "metadata": {
        "id": "5twChDfNIm-6",
        "colab_type": "code",
        "colab": {}
      },
      "source": [
        "# train and test Perceptron\n",
        "y_preds, score = train_and_test(ppn, X_train, y_train, X_test, y_test)"
      ],
      "execution_count": 0,
      "outputs": []
    },
    {
      "cell_type": "markdown",
      "metadata": {
        "id": "N6rks4Fpbjdn",
        "colab_type": "text"
      },
      "source": [
        "##### 3.3 Print the score"
      ]
    },
    {
      "cell_type": "code",
      "metadata": {
        "id": "s_X16g_DOk8v",
        "colab_type": "code",
        "colab": {
          "base_uri": "https://localhost:8080/",
          "height": 34
        },
        "outputId": "e6b98e22-3184-4e6d-dfba-e8cea123b597"
      },
      "source": [
        "# print score\n",
        "print(score)"
      ],
      "execution_count": 23,
      "outputs": [
        {
          "output_type": "stream",
          "text": [
            "0.5181451612903226\n"
          ],
          "name": "stdout"
        }
      ]
    },
    {
      "cell_type": "markdown",
      "metadata": {
        "id": "2t09a2xvbYEV",
        "colab_type": "text"
      },
      "source": [
        "##### 3.4 Graph the confusion matrix"
      ]
    },
    {
      "cell_type": "code",
      "metadata": {
        "id": "KXSwZE7IkSev",
        "colab_type": "code",
        "colab": {
          "base_uri": "https://localhost:8080/",
          "height": 189
        },
        "outputId": "7d23ad5f-a24f-415a-a1d3-f0833d746f5c"
      },
      "source": [
        "# confusion matrix\n",
        "graph_confmat(y, y_preds)"
      ],
      "execution_count": 24,
      "outputs": [
        {
          "output_type": "display_data",
          "data": {
            "image/png": "[encoded data removed]",
            "text/plain": [
              "<Figure size 180x180 with 1 Axes>"
            ]
          },
          "metadata": {
            "tags": [],
            "needs_background": "light"
          }
        }
      ]
    },
    {
      "cell_type": "markdown",
      "metadata": {
        "id": "-1IBxkO3kBZW",
        "colab_type": "text"
      },
      "source": [
        "##### 3.5 Print a classification report (see [api](https://scikit-learn.org/stable/modules/generated/sklearn.metrics.classification_report.html?highlight=classification%20report))"
      ]
    },
    {
      "cell_type": "code",
      "metadata": {
        "id": "mkP6SnxkkB5s",
        "colab_type": "code",
        "colab": {
          "base_uri": "https://localhost:8080/",
          "height": 204
        },
        "outputId": "2dd2b470-da26-44b9-87dd-03d3c648e946"
      },
      "source": [
        "# print classification report\n",
        "print(classification_report(y, y_preds))"
      ],
      "execution_count": 27,
      "outputs": [
        {
          "output_type": "stream",
          "text": [
            "                   precision    recall  f1-score   support\n",
            "\n",
            "     Move-Forward       0.46      0.98      0.63      2205\n",
            " Sharp-Right-Turn       0.89      0.25      0.39      2097\n",
            " Slight-Left-Turn       0.57      0.25      0.35       328\n",
            "Slight-Right-Turn       0.94      0.07      0.13       826\n",
            "\n",
            "         accuracy                           0.52      5456\n",
            "        macro avg       0.72      0.39      0.37      5456\n",
            "     weighted avg       0.71      0.52      0.45      5456\n",
            "\n"
          ],
          "name": "stdout"
        }
      ]
    },
    {
      "cell_type": "markdown",
      "metadata": {
        "id": "eyBCC1_WFidh",
        "colab_type": "text"
      },
      "source": [
        "*** \n",
        "# Exercise #4 - Multi-layer Perceptron\n",
        "***"
      ]
    },
    {
      "cell_type": "markdown",
      "metadata": {
        "id": "QzMxQj4oc2LE",
        "colab_type": "text"
      },
      "source": [
        "##### 4.1 Build Multi-layer Perceptron ([see api](https://scikit-learn.org/stable/modules/generated/sklearn.neural_network.MLPClassifier.html))"
      ]
    },
    {
      "cell_type": "markdown",
      "metadata": {
        "id": "mX-H00i5jBVG",
        "colab_type": "text"
      },
      "source": [
        "* max iterations of `500`\n",
        "* `random_state=1`"
      ]
    },
    {
      "cell_type": "code",
      "metadata": {
        "id": "MSHCDaTHF4uB",
        "colab_type": "code",
        "colab": {}
      },
      "source": [
        "# build MLP\n",
        "nn = MLPClassifier(max_iter=500, random_state=1)"
      ],
      "execution_count": 0,
      "outputs": []
    },
    {
      "cell_type": "markdown",
      "metadata": {
        "id": "ykpGp2nZdLjS",
        "colab_type": "text"
      },
      "source": [
        "##### 4.2 Train and test your MLP"
      ]
    },
    {
      "cell_type": "code",
      "metadata": {
        "id": "fWdsXqwalamA",
        "colab_type": "code",
        "colab": {}
      },
      "source": [
        "# train and test MLP\n",
        "y_preds, score = train_and_test(nn, X_train, y_train, X_test, y_test)"
      ],
      "execution_count": 0,
      "outputs": []
    },
    {
      "cell_type": "markdown",
      "metadata": {
        "id": "yc7IfGxPdQhW",
        "colab_type": "text"
      },
      "source": [
        "##### 4.3 Print the score"
      ]
    },
    {
      "cell_type": "code",
      "metadata": {
        "id": "7TCBsidWphih",
        "colab_type": "code",
        "colab": {
          "base_uri": "https://localhost:8080/",
          "height": 34
        },
        "outputId": "3c02dfd6-e992-4d42-814d-541b595d0adb"
      },
      "source": [
        "# print score\n",
        "print(score)"
      ],
      "execution_count": 34,
      "outputs": [
        {
          "output_type": "stream",
          "text": [
            "0.9858870967741935\n"
          ],
          "name": "stdout"
        }
      ]
    },
    {
      "cell_type": "markdown",
      "metadata": {
        "id": "ffLiIWDDdTRk",
        "colab_type": "text"
      },
      "source": [
        "##### 4.4 Graph the confusion matrix"
      ]
    },
    {
      "cell_type": "code",
      "metadata": {
        "id": "s_8lxYrkoZKv",
        "colab_type": "code",
        "colab": {
          "base_uri": "https://localhost:8080/",
          "height": 189
        },
        "outputId": "ab5c8904-16d8-4e30-e96b-30413a3a41dc"
      },
      "source": [
        "# graph confusion matrix\n",
        "graph_confmat(y, y_preds)"
      ],
      "execution_count": 35,
      "outputs": [
        {
          "output_type": "display_data",
          "data": {
            "image/png": "[encoded data removed]",
            "text/plain": [
              "<Figure size 180x180 with 1 Axes>"
            ]
          },
          "metadata": {
            "tags": [],
            "needs_background": "light"
          }
        }
      ]
    },
    {
      "cell_type": "markdown",
      "metadata": {
        "id": "DHhM8TSod1FW",
        "colab_type": "text"
      },
      "source": [
        "##### 4.5 Print a classification report (see [api](https://scikit-learn.org/stable/modules/generated/sklearn.metrics.classification_report.html?highlight=classification%20report))"
      ]
    },
    {
      "cell_type": "code",
      "metadata": {
        "id": "JRKuo2JDd1kn",
        "colab_type": "code",
        "colab": {
          "base_uri": "https://localhost:8080/",
          "height": 204
        },
        "outputId": "adbfc96b-211d-414d-cf43-6977362d80df"
      },
      "source": [
        "# print classification report\n",
        "print(classification_report(y, y_preds))"
      ],
      "execution_count": 36,
      "outputs": [
        {
          "output_type": "stream",
          "text": [
            "                   precision    recall  f1-score   support\n",
            "\n",
            "     Move-Forward       0.99      0.98      0.98      2205\n",
            " Sharp-Right-Turn       0.99      1.00      0.99      2097\n",
            " Slight-Left-Turn       1.00      1.00      1.00       328\n",
            "Slight-Right-Turn       0.97      0.97      0.97       826\n",
            "\n",
            "         accuracy                           0.99      5456\n",
            "        macro avg       0.99      0.99      0.99      5456\n",
            "     weighted avg       0.99      0.99      0.99      5456\n",
            "\n"
          ],
          "name": "stdout"
        }
      ]
    },
    {
      "cell_type": "markdown",
      "metadata": {
        "id": "-FipASqfn0qx",
        "colab_type": "text"
      },
      "source": [
        "*** \n",
        "# Exercise #5 - Analyze results\n",
        "***"
      ]
    },
    {
      "cell_type": "markdown",
      "metadata": {
        "id": "YA5JMi4jlgKy",
        "colab_type": "text"
      },
      "source": [
        "##### 5.1 Print the number of layers in your MLP"
      ]
    },
    {
      "cell_type": "code",
      "metadata": {
        "id": "VW0vVNP9kxRI",
        "colab_type": "code",
        "colab": {
          "base_uri": "https://localhost:8080/",
          "height": 34
        },
        "outputId": "335ac0f4-78b0-4bfd-a627-3d12406c634b"
      },
      "source": [
        "# number of layers\n",
        "print(nn.n_layers_)"
      ],
      "execution_count": 38,
      "outputs": [
        {
          "output_type": "stream",
          "text": [
            "3\n"
          ],
          "name": "stdout"
        }
      ]
    },
    {
      "cell_type": "markdown",
      "metadata": {
        "id": "C4JKD-c3lnRY",
        "colab_type": "text"
      },
      "source": [
        "##### 5.2 Print the number of outputs of your MLP"
      ]
    },
    {
      "cell_type": "code",
      "metadata": {
        "id": "TZeDaoLckzX5",
        "colab_type": "code",
        "colab": {
          "base_uri": "https://localhost:8080/",
          "height": 34
        },
        "outputId": "1fe57401-ba05-4d8e-f666-2ab0eda1d143"
      },
      "source": [
        "# number of outputs\n",
        "print(nn.n_outputs_)"
      ],
      "execution_count": 39,
      "outputs": [
        {
          "output_type": "stream",
          "text": [
            "4\n"
          ],
          "name": "stdout"
        }
      ]
    },
    {
      "cell_type": "markdown",
      "metadata": {
        "id": "rnwyhMXEfwuZ",
        "colab_type": "text"
      },
      "source": [
        "##### 5.3 Print number of iterations"
      ]
    },
    {
      "cell_type": "code",
      "metadata": {
        "id": "H41FyRcrHYoK",
        "colab_type": "code",
        "colab": {
          "base_uri": "https://localhost:8080/",
          "height": 34
        },
        "outputId": "93ad0dae-3ff3-47b7-e613-a57f858454b1"
      },
      "source": [
        "# print number of iterations\n",
        "print(nn.n_iter_)"
      ],
      "execution_count": 40,
      "outputs": [
        {
          "output_type": "stream",
          "text": [
            "428\n"
          ],
          "name": "stdout"
        }
      ]
    },
    {
      "cell_type": "markdown",
      "metadata": {
        "id": "642d9TLzmEAg",
        "colab_type": "text"
      },
      "source": [
        "##### 5.4 Plot loss over time"
      ]
    },
    {
      "cell_type": "markdown",
      "metadata": {
        "id": "EL6VoUP-mfmm",
        "colab_type": "text"
      },
      "source": [
        "* epochs along `x-axis`\n",
        "* loss (`loss_curve_`) along `y-axis`"
      ]
    },
    {
      "cell_type": "code",
      "metadata": {
        "id": "VIMtgCdoHExm",
        "colab_type": "code",
        "colab": {
          "base_uri": "https://localhost:8080/",
          "height": 282
        },
        "outputId": "18de4bcb-90fb-4551-f921-54a973f54cba"
      },
      "source": [
        "# loss vs epochs\n",
        "plt.plot(range(nn.n_iter_), nn.loss_curve_)"
      ],
      "execution_count": 44,
      "outputs": [
        {
          "output_type": "execute_result",
          "data": {
            "text/plain": [
              "[<matplotlib.lines.Line2D at 0x7fa2365355c0>]"
            ]
          },
          "metadata": {
            "tags": []
          },
          "execution_count": 44
        },
        {
          "output_type": "display_data",
          "data": {
            "image/png": "[encoded data removed]",
            "text/plain": [
              "<Figure size 432x288 with 1 Axes>"
            ]
          },
          "metadata": {
            "tags": [],
            "needs_background": "light"
          }
        }
      ]
    },
    {
      "cell_type": "markdown",
      "metadata": {
        "id": "Ti6XTgfqm4kp",
        "colab_type": "text"
      },
      "source": [
        "##### 5.5 Print `intercepts_`"
      ]
    },
    {
      "cell_type": "code",
      "metadata": {
        "id": "x4JC8N4ufYRW",
        "colab_type": "code",
        "colab": {
          "base_uri": "https://localhost:8080/",
          "height": 357
        },
        "outputId": "22fe701f-459e-421a-e9dd-4a85fc6beacc"
      },
      "source": [
        "# print intercepts\n",
        "print(nn.intercepts_)"
      ],
      "execution_count": 41,
      "outputs": [
        {
          "output_type": "stream",
          "text": [
            "[array([-0.25258503, -0.19799414, -0.5909988 , -0.25008716, -0.28618336,\n",
            "       -0.48536565,  0.25577493,  0.31355248,  0.31200785, -0.54858421,\n",
            "        0.10738299,  0.83771115,  0.01412263,  0.24026844, -0.20084893,\n",
            "       -0.5334782 , -0.20400165, -0.49087904,  0.4817551 , -0.08089322,\n",
            "       -0.31173742,  0.09254664, -0.12749838, -0.42958459,  0.01052167,\n",
            "        0.57702036,  0.15652172, -0.15200048, -0.09852456, -0.65335528,\n",
            "        0.40372676, -0.25826631, -0.12867787,  0.01646744, -0.30977566,\n",
            "        0.17105077,  0.51200797,  0.12866139,  0.46864774,  0.06516601,\n",
            "        0.36517759, -0.62155357, -0.18106155,  0.3700447 , -0.02017046,\n",
            "       -0.25287789, -0.1903268 , -0.26052816,  0.57708158,  0.17954312,\n",
            "        0.0396733 , -0.15409662,  0.29322823,  0.63634787, -0.31388408,\n",
            "        0.4689168 ,  0.55758615, -0.05984443,  0.38971924,  0.46802845,\n",
            "        0.13213793, -0.42953903,  0.41547595, -0.50788502,  0.41298983,\n",
            "       -0.13729587,  0.34047961,  0.14106587,  0.52999841,  0.73359494,\n",
            "        0.08444459,  0.46729916,  0.63749218,  0.64582193,  0.74690097,\n",
            "        0.46354045,  0.14087617, -0.35317644, -0.46777414,  0.54377401,\n",
            "       -0.00499513,  0.50209149, -0.44180796,  0.04629229, -0.4053834 ,\n",
            "        0.51610442, -0.0905642 ,  0.04637805, -0.25269329,  0.2748731 ,\n",
            "       -0.05861883,  0.47727884, -0.31708122,  0.09095663,  0.31042703,\n",
            "       -0.42145537,  0.37227029, -0.43137013,  0.38018152, -0.5072639 ]), array([-0.36038318,  0.49027686, -0.30429341,  0.00614313])]\n"
          ],
          "name": "stdout"
        }
      ]
    },
    {
      "cell_type": "markdown",
      "metadata": {
        "id": "ClwgVzt5m_iX",
        "colab_type": "text"
      },
      "source": [
        "<img src=\"https://66.media.tumblr.com/dded9d1a2bf2068f92af9f7a9b6b5451/tumblr_p6s3hbPzgV1vd8jsjo1_500.gifv\" width=\"300\">"
      ]
    }
  ]
}