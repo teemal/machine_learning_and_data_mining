{
  "nbformat": 4,
  "nbformat_minor": 0,
  "metadata": {
    "colab": {
      "name": "Lecture 15.ipynb",
      "provenance": [],
      "collapsed_sections": []
    },
    "kernelspec": {
      "name": "python3",
      "display_name": "Python 3"
    }
  },
  "cells": [
    {
      "cell_type": "markdown",
      "metadata": {
        "id": "4ESqPlaeIeGs",
        "colab_type": "text"
      },
      "source": [
        "# Lecture 15 - Perceptron"
      ]
    },
    {
      "cell_type": "markdown",
      "metadata": {
        "id": "UiWORXhzIlyy",
        "colab_type": "text"
      },
      "source": [
        "***\n",
        "##### CS 434 - Data Mining and Machine Learning\n",
        "##### Oregon State University-Cascades\n",
        "***"
      ]
    },
    {
      "cell_type": "markdown",
      "metadata": {
        "id": "yoN3iSr8JCOI",
        "colab_type": "text"
      },
      "source": [
        "## <img src=\"https://img.icons8.com/color/32/000000/fork-lift.png\"/> Loading packages"
      ]
    },
    {
      "cell_type": "code",
      "metadata": {
        "id": "btdXyHkKbmx4",
        "colab_type": "code",
        "colab": {}
      },
      "source": [
        "import numpy as np\n",
        "import pandas as pd\n",
        "import matplotlib.pyplot as plt\n",
        "from mlxtend.plotting import plot_decision_regions"
      ],
      "execution_count": 0,
      "outputs": []
    },
    {
      "cell_type": "markdown",
      "metadata": {
        "id": "Sq9_gNW_TNbt",
        "colab_type": "text"
      },
      "source": [
        "## <img src=\"https://img.icons8.com/color/32/000000/accept-database.png\"/> Prepare a dataset"
      ]
    },
    {
      "cell_type": "markdown",
      "metadata": {
        "id": "Clxc0o2DTQOD",
        "colab_type": "text"
      },
      "source": [
        "### <img src=\"https://img.icons8.com/color/32/000000/database-restore.png\"/>  Load the data\n",
        "\n",
        "\n",
        "Load the Iris dataset from scikit-learn. "
      ]
    },
    {
      "cell_type": "code",
      "metadata": {
        "id": "4EdwximoTT_j",
        "colab_type": "code",
        "outputId": "0c8d69e0-8f98-437c-c568-3ed6624fd471",
        "colab": {
          "base_uri": "https://localhost:8080/",
          "height": 260
        }
      },
      "source": [
        "# load the dataset\n",
        "df = pd.read_csv('https://archive.ics.uci.edu/ml/machine-learning-databases/iris/iris.data', header=None)\n",
        "print(df)"
      ],
      "execution_count": 0,
      "outputs": [
        {
          "output_type": "stream",
          "text": [
            "       0    1    2    3               4\n",
            "0    5.1  3.5  1.4  0.2     Iris-setosa\n",
            "1    4.9  3.0  1.4  0.2     Iris-setosa\n",
            "2    4.7  3.2  1.3  0.2     Iris-setosa\n",
            "3    4.6  3.1  1.5  0.2     Iris-setosa\n",
            "4    5.0  3.6  1.4  0.2     Iris-setosa\n",
            "..   ...  ...  ...  ...             ...\n",
            "145  6.7  3.0  5.2  2.3  Iris-virginica\n",
            "146  6.3  2.5  5.0  1.9  Iris-virginica\n",
            "147  6.5  3.0  5.2  2.0  Iris-virginica\n",
            "148  6.2  3.4  5.4  2.3  Iris-virginica\n",
            "149  5.9  3.0  5.1  1.8  Iris-virginica\n",
            "\n",
            "[150 rows x 5 columns]\n"
          ],
          "name": "stdout"
        }
      ]
    },
    {
      "cell_type": "markdown",
      "metadata": {
        "id": "zIpRe_eRTj-A",
        "colab_type": "text"
      },
      "source": [
        "### <img src=\"https://img.icons8.com/color/32/000000/hashtag-activity-feed-2.png\"/>  Get attributes and class labels\n"
      ]
    },
    {
      "cell_type": "markdown",
      "metadata": {
        "id": "EMjaahioTz6n",
        "colab_type": "text"
      },
      "source": [
        "Load the Iris data set from the UCI Machine Learning Repository.  We focus on the two flower species Setosa and Versicolor. Furthermore, we will only use the two features sepal length and petal length for visualization purposes."
      ]
    },
    {
      "cell_type": "code",
      "metadata": {
        "id": "upal9-CrTm6N",
        "colab_type": "code",
        "colab": {}
      },
      "source": [
        "# setosa and versicolor\n",
        "y = df.iloc[0:100, 4].values\n",
        "y = np.where(y == 'Iris-setosa', -1, 1)\n",
        "\n",
        "# sepal length and petal length\n",
        "X = df.iloc[0:100, [0,2]].values"
      ],
      "execution_count": 0,
      "outputs": []
    },
    {
      "cell_type": "markdown",
      "metadata": {
        "id": "SaEPoLO4bnYT",
        "colab_type": "text"
      },
      "source": [
        "# <img src=\"https://img.icons8.com/color/32/000000/activity-history.png\"/> Background"
      ]
    },
    {
      "cell_type": "markdown",
      "metadata": {
        "id": "gtMKu0n-8Xav",
        "colab_type": "text"
      },
      "source": [
        "### McCulloch-Pitts Model"
      ]
    },
    {
      "cell_type": "markdown",
      "metadata": {
        "id": "74E8fpHk765-",
        "colab_type": "text"
      },
      "source": [
        "The initial idea of the perceptron dates back to the work of Warren McCulloch and Walter Pitts in 1943 [[source](http://mjt.cs.illinois.edu/courses/dlt-f19/files/McCulloch.and.Pitts.pdf)], who drew an analogy between biological neurons and simple logic gates with binary outputs. In more intuitive terms, neurons can be understood as the subunits of a neural network in a biological brain. Here, the signals of variable magnitudes arrive at the dendrites. Those input signals are then accumulated in the cell body of the neuron, and if the accumulated signal exceeds a certain threshold, a output signal is generated that which will be passed on by the axon."
      ]
    },
    {
      "cell_type": "markdown",
      "metadata": {
        "id": "YVe_WZNb8S-K",
        "colab_type": "text"
      },
      "source": [
        "### Frank Rosenblatt's Perceptron"
      ]
    },
    {
      "cell_type": "markdown",
      "metadata": {
        "id": "MdF9YW938dYN",
        "colab_type": "text"
      },
      "source": [
        "To continue with the story, a few years after McCulloch and Walter Pitt, Frank Rosenblatt published the first concept of the Perceptron learning rule [[source](https://psycnet.apa.org/fulltext/1959-09865-001.pdf)]. The main idea was to define an algorithm in order to learn the values of the weights $w$ that are then multiplied with the input features in order to make a decision whether a neuron fires or not. In context of pattern classification, such an algorithm could be useful to determine if a sample belongs to one class or the other. "
      ]
    },
    {
      "cell_type": "markdown",
      "metadata": {
        "id": "SJuX0D178pQP",
        "colab_type": "text"
      },
      "source": [
        "The perceptron belongs to the category of supervised learning algorithms, specifically, single-layer binary linear classifiers. The task is to predict to which of two possible categories a certain data point belongs based on a set of input variables. "
      ]
    },
    {
      "cell_type": "markdown",
      "metadata": {
        "id": "MwZ2PvbMb4V6",
        "colab_type": "text"
      },
      "source": [
        "## <img src=\"https://img.icons8.com/color/32/000000/biology-book.png\"/> Biological inspiration"
      ]
    },
    {
      "cell_type": "markdown",
      "metadata": {
        "id": "5WP-ifFHbpK9",
        "colab_type": "text"
      },
      "source": [
        "<img src=https://raw.githubusercontent.com/rasbt/python-machine-learning-book-3rd-edition/master/ch02/images/02_01.png width=\"1000\">"
      ]
    },
    {
      "cell_type": "markdown",
      "metadata": {
        "id": "cyAaJE_eBlBG",
        "colab_type": "text"
      },
      "source": [
        "## <img src=\"https://img.icons8.com/color/32/000000/sorting-arrows.png\"/> Unit Step Function"
      ]
    },
    {
      "cell_type": "markdown",
      "metadata": {
        "id": "mPedu0lfBlBH",
        "colab_type": "text"
      },
      "source": [
        "Before we dive deeper into the algorithm(s) for learning the weights of the artificial neuron, let us take a brief look at the basic notation. In the following sections, we will label the *positive* and *negative* class in our binary classification setting as \"1\" and \"-1\", respectively. Next, we define an activation function $g(\\mathbf{z})$ that takes a linear combination of the input values $\\mathbf{x}$ and weights $\\mathbf{w}$ as input ($\\mathbf{z} = w_1x_{1} + \\dots + w_mx_{m}$), and if $g(\\mathbf{z})$ is greater than a defined threshold $\\theta$ we predict 1 and -1 otherwise; in this case, this activation function $g$ is an alternative form of a simple \"unit step function,\" which is sometimes also called \"Heaviside step function.\" \n",
        "\n",
        "*(Please note that the **unit step** is classically defined as being equal to 0 if $ z < 0$ and 1 for $z \\ge 0$; nonetheless, we will refer to the following piece-wise linear function with -1 if $z < \\theta$ and 1 for $z \\ge \\theta$ as **unit step function** for simplicity).*"
      ]
    },
    {
      "cell_type": "markdown",
      "metadata": {
        "id": "l9kHdd3WBlBJ",
        "colab_type": "text"
      },
      "source": [
        "$$\n",
        " g(\\mathbf{z}) =\\begin{cases}\n",
        "    1 & \\text{if $\\mathbf{z} \\ge \\theta$}\\\\\n",
        "    -1 & \\text{otherwise}.\n",
        "  \\end{cases}\n",
        "$$\n"
      ]
    },
    {
      "cell_type": "markdown",
      "metadata": {
        "id": "rbYC9yaYBlBJ",
        "colab_type": "text"
      },
      "source": [
        "where\n",
        "\n",
        "$$\\mathbf{z} =  w_1x_{1} + \\dots + w_mx_{m} = \\sum_{j=1}^{m} x_{j}w_{j} \\\\ = \\mathbf{w}^T\\mathbf{x}$$"
      ]
    },
    {
      "cell_type": "markdown",
      "metadata": {
        "id": "KDuZo-AuBlBK",
        "colab_type": "text"
      },
      "source": [
        "$\\mathbf{w}$ is the feature vector, and $\\mathbf{x}$ is an $m$-dimensional sample from the training dataset:\n",
        "\n",
        "$$ \n",
        "\\mathbf{w} = \\begin{bmatrix}\n",
        "    w_{1}  \\\\\n",
        "    \\vdots \\\\\n",
        "    w_{m}\n",
        "\\end{bmatrix}\n",
        "\\quad  \\mathbf{x} = \\begin{bmatrix}\n",
        "    x_{1}  \\\\\n",
        "    \\vdots \\\\\n",
        "    x_{m}\n",
        "\\end{bmatrix}$$"
      ]
    },
    {
      "cell_type": "markdown",
      "metadata": {
        "id": "2__ipvcjBlBL",
        "colab_type": "text"
      },
      "source": [
        "<img src='./images/perceptron_unit_step.png' alt=''>"
      ]
    },
    {
      "cell_type": "markdown",
      "metadata": {
        "id": "vr-PRhNCBlBL",
        "colab_type": "text"
      },
      "source": [
        "In order to simplify the notation, we bring $\\theta$ to the left side of the equation and define $w_0 = -\\theta  \\text{ and } x_0=1$ \n",
        "\n",
        "so that \n",
        "\n",
        "$$\\begin{equation}\n",
        " g({\\mathbf{z}}) =\\begin{cases}\n",
        "    1 & \\text{if $\\mathbf{z} \\ge 0$}\\\\\n",
        "    -1 & \\text{otherwise}.\n",
        "  \\end{cases}\n",
        "\\end{equation}$$\n",
        "\n",
        "and\n",
        "\n",
        "\n",
        "$$\\mathbf{z} = w_0x_{0} + w_1x_{1} + \\dots + w_mx_{m} = \\sum_{j=0}^{m} x_{j}w_{j} \\\\ = \\mathbf{w}^T\\mathbf{x}.$$\n",
        "\n",
        "\n"
      ]
    },
    {
      "cell_type": "markdown",
      "metadata": {
        "id": "ngmOVgIPBlBM",
        "colab_type": "text"
      },
      "source": [
        "<br>\n",
        "<br>"
      ]
    },
    {
      "cell_type": "markdown",
      "metadata": {
        "id": "ykiLdmdPdA2L",
        "colab_type": "text"
      },
      "source": [
        "# <img src=\"https://img.icons8.com/color/32/000000/p.png\"/> Perceptron"
      ]
    },
    {
      "cell_type": "markdown",
      "metadata": {
        "id": "oGKQKzjU5_fp",
        "colab_type": "text"
      },
      "source": [
        "## <img src=\"https://img.icons8.com/color/32/000000/classroom.png\"/> Learning Rule"
      ]
    },
    {
      "cell_type": "markdown",
      "metadata": {
        "id": "HbLQD4-95_fp",
        "colab_type": "text"
      },
      "source": [
        "It might sound like extreme case of a reductionist approach, but the idea behind this \"thresholded\" perceptron was to mimic how a single neuron in the brain works: It either \"fires\" or not. To summarize the main points from the previous section: A perceptron receives multiple input signals, and if the sum of the input signals exceed a certain threshold it either returns a signal or  remains \"silent\" otherwise. What made this a \"machine learning\" algorithm was Frank Rosenblatt's idea of the perceptron learning rule: The perceptron algorithm is about learning the weights for the input signals in order to draw linear decision boundary that allows us to discriminate between the two linearly separable classes +1 and -1.\n",
        "\n",
        "\n"
      ]
    },
    {
      "cell_type": "markdown",
      "metadata": {
        "id": "NO6NoSiw5_fq",
        "colab_type": "text"
      },
      "source": [
        "Rosenblatt's initial perceptron rule is fairly simple and can be summarized by the following steps: \n",
        "\n",
        "1. Initialize the weights to 0 or small random numbers.\n",
        "2. For each training sample $\\mathbf{x^{(i)}}$:\n",
        "    2. Calculate the *output* value.\n",
        "    2. Update the weights."
      ]
    },
    {
      "cell_type": "markdown",
      "metadata": {
        "id": "u6Q1hH7v5_fr",
        "colab_type": "text"
      },
      "source": [
        "The output value is the class label predicted by the unit step function that we defined earlier (output $=g(\\mathbf{z})$) and the weight update can be written more formally as  $w_j := w_j + \\Delta w_j$.\n",
        "\n",
        "The value for updating the weights at each increment is calculated by the learning rule\n",
        "\n",
        "$\\Delta w_j = \\eta \\; (\\text{target}^{(i)} - \\text{output}^{(i)})\\;x^{(i)}_{j}$\n",
        "\n",
        "where $\\eta$ is the learning rate (a constant between 0.0 and 1.0), \"target\" is the true class label, and the \"output\" is the predicted class label."
      ]
    },
    {
      "cell_type": "markdown",
      "metadata": {
        "id": "m2VsZXJC5_fr",
        "colab_type": "text"
      },
      "source": [
        "It is important to note that all weights in the weight vector are being updated simultaneously. Concretely, for a 2-dimensional dataset, we would write the update as:\n",
        "\n",
        "$\\Delta w_0 = \\eta(\\text{target}^{(i)} - \\text{output}^{(i)})$  \n",
        "$\\Delta w_1 = \\eta(\\text{target}^{(i)} - \\text{output}^{(i)})\\;x^{(i)}_{1}$  \n",
        "$\\Delta w_2 = \\eta(\\text{target}^{(i)} - \\text{output}^{(i)})\\;x^{(i)}_{2}$  "
      ]
    },
    {
      "cell_type": "markdown",
      "metadata": {
        "id": "uPH0c3Qg5_fs",
        "colab_type": "text"
      },
      "source": [
        "Before we implement the perceptron rule in Python, let us make a simple thought experiment to illustrate how beautifully simple this learning rule really is. In the two scenarios where the perceptron predicts the class label correctly, the weights remain unchanged:\n",
        "\n",
        "- $\\Delta w_j = \\eta(-1^{(i)} - -1^{(i)})\\;x^{(i)}_{j} = 0$ \n",
        "- $\\Delta w_j = \\eta(1^{(i)} - 1^{(i)})\\;x^{(i)}_{j} = 0$ \n",
        "\n",
        "However, in case of a wrong prediction, the weights are being \"pushed\" towards the direction of the positive or negative target class, respectively:\n",
        "\n",
        "- $\\Delta w_j = \\eta(1^{(i)} - -1^{(i)})\\;x^{(i)}_{j} = \\eta(2)\\;x^{(i)}_{j}$ \n",
        "- $\\Delta w_j = \\eta(-1^{(i)} - 1^{(i)})\\;x^{(i)}_{j} = \\eta(-2)\\;x^{(i)}_{j}$ \n",
        "\n"
      ]
    },
    {
      "cell_type": "markdown",
      "metadata": {
        "id": "U3x57u4w5_fs",
        "colab_type": "text"
      },
      "source": [
        "It is important to note that the convergence of the perceptron is only guaranteed if the two classes are linearly separable. If the two classes can't be separated by a linear decision boundary, we can set a maximum number of passes over the training dataset (\"epochs\") and/or a threshold for the number of tolerated misclassifications."
      ]
    },
    {
      "cell_type": "markdown",
      "metadata": {
        "id": "1HK_3wFab6e8",
        "colab_type": "text"
      },
      "source": [
        "## <img src=\"https://img.icons8.com/color/32/000000/neuron.png\"/> Artifical neuron"
      ]
    },
    {
      "cell_type": "markdown",
      "metadata": {
        "id": "zlaubQTTb9gP",
        "colab_type": "text"
      },
      "source": [
        "<img src=https://raw.githubusercontent.com/rasbt/python-machine-learning-book-3rd-edition/master/ch02/images/02_02.png width=\"1000\">"
      ]
    },
    {
      "cell_type": "markdown",
      "metadata": {
        "id": "DgrI5DXvcllX",
        "colab_type": "text"
      },
      "source": [
        "## <img src=\"https://img.icons8.com/color/32/000000/line.png\"/> Linear separability"
      ]
    },
    {
      "cell_type": "markdown",
      "metadata": {
        "id": "IhGcVlBkctNc",
        "colab_type": "text"
      },
      "source": [
        "<img src=https://raw.githubusercontent.com/rasbt/python-machine-learning-book-3rd-edition/master/ch02/images/02_03.png width=\"1000\">"
      ]
    },
    {
      "cell_type": "markdown",
      "metadata": {
        "id": "nWzbnolzcwy7",
        "colab_type": "text"
      },
      "source": [
        "<img src=https://raw.githubusercontent.com/rasbt/python-machine-learning-book-3rd-edition/master/ch02/images/02_04.png width=\"1000\">"
      ]
    },
    {
      "cell_type": "markdown",
      "metadata": {
        "id": "houHMBr6BlBS",
        "colab_type": "text"
      },
      "source": [
        "## <img src=\"https://img.icons8.com/color/32/000000/python.png\"/> Implementing in Python"
      ]
    },
    {
      "cell_type": "markdown",
      "metadata": {
        "id": "FLjhx_YiBlBT",
        "colab_type": "text"
      },
      "source": [
        "In this section, we will implement the simple perceptron learning rule in Python to classify flowers in the Iris dataset."
      ]
    },
    {
      "cell_type": "markdown",
      "metadata": {
        "id": "rgxk8L9zV8Lz",
        "colab_type": "text"
      },
      "source": [
        "#### <img src=\"https://img.icons8.com/color/32/000000/edit.png\"/> Define the Perceptron"
      ]
    },
    {
      "cell_type": "code",
      "metadata": {
        "id": "pFDDScBeBlBU",
        "colab_type": "code",
        "colab": {}
      },
      "source": [
        "class Perceptron(object):\n",
        "    \n",
        "    def __init__(self, eta=0.01, epochs=50):\n",
        "        self.eta = eta\n",
        "        self.epochs = epochs\n",
        "\n",
        "    def train(self, X, y):\n",
        "\n",
        "        self.w_ = np.zeros(1 + X.shape[1])\n",
        "        self.errors_ = []\n",
        "\n",
        "        for _ in range(self.epochs):\n",
        "            errors = 0\n",
        "            for xi, target in zip(X, y):\n",
        "                update = self.eta * (target - self.predict(xi))\n",
        "                self.w_[1:] +=  update * xi\n",
        "                self.w_[0] +=  update\n",
        "                errors += int(update != 0.0)\n",
        "            self.errors_.append(errors)\n",
        "        return self\n",
        "\n",
        "    def net_input(self, X):\n",
        "        return np.dot(X, self.w_[1:]) + self.w_[0]\n",
        "\n",
        "    def predict(self, X):\n",
        "        return np.where(self.net_input(X) >= 0.0, 1, -1)"
      ],
      "execution_count": 0,
      "outputs": []
    },
    {
      "cell_type": "markdown",
      "metadata": {
        "id": "sOhxZ1IfSoKJ",
        "colab_type": "text"
      },
      "source": [
        "[Source](https://github.com/rasbt/mlxtend/blob/master/mlxtend/classifier/perceptron.py)"
      ]
    },
    {
      "cell_type": "markdown",
      "metadata": {
        "id": "k1leZ6eEV3bM",
        "colab_type": "text"
      },
      "source": [
        "#### <img src=\"https://img.icons8.com/color/32/000000/training.png\"/> Train the Perceptron"
      ]
    },
    {
      "cell_type": "code",
      "metadata": {
        "id": "viIoNl6qBlBd",
        "colab_type": "code",
        "outputId": "a6aedee6-81d6-44e6-d19a-6731cd7b92ef",
        "colab": {
          "base_uri": "https://localhost:8080/",
          "height": 629
        }
      },
      "source": [
        "# create and train Perceptron\n",
        "ppn = Perceptron(epochs=10, eta=0.1)\n",
        "\n",
        "ppn.train(X, y)\n",
        "print('Weights: %s' % ppn.w_)\n",
        "plot_decision_regions(X, y, clf=ppn)\n",
        "plt.title('Perceptron')\n",
        "plt.xlabel('sepal length [cm]')\n",
        "plt.ylabel('petal length [cm]')\n",
        "plt.show()\n",
        "\n",
        "plt.plot(range(1, len(ppn.errors_)+1), ppn.errors_, marker='o')\n",
        "plt.xlabel('Iterations')\n",
        "plt.ylabel('Misclassifications')\n",
        "plt.show()"
      ],
      "execution_count": 0,
      "outputs": [
        {
          "output_type": "stream",
          "text": [
            "Weights: [-0.4  -0.68  1.82]\n"
          ],
          "name": "stdout"
        },
        {
          "output_type": "stream",
          "text": [
            "/usr/local/lib/python3.6/dist-packages/mlxtend/plotting/decision_regions.py:244: MatplotlibDeprecationWarning: Passing unsupported keyword arguments to axis() will raise a TypeError in 3.3.\n",
            "  ax.axis(xmin=xx.min(), xmax=xx.max(), y_min=yy.min(), y_max=yy.max())\n"
          ],
          "name": "stderr"
        },
        {
          "output_type": "display_data",
          "data": {
            "image/png": "[encoded data removed]",
            "text/plain": [
              "<Figure size 432x288 with 1 Axes>"
            ]
          },
          "metadata": {
            "tags": [],
            "needs_background": "light"
          }
        },
        {
          "output_type": "display_data",
          "data": {
            "image/png": "[encoded data removed]",
            "text/plain": [
              "<Figure size 432x288 with 1 Axes>"
            ]
          },
          "metadata": {
            "tags": [],
            "needs_background": "light"
          }
        }
      ]
    },
    {
      "cell_type": "markdown",
      "metadata": {
        "id": "qSaEkXy8BlBg",
        "colab_type": "text"
      },
      "source": [
        "As we can see, the perceptron converges after the 6th iteration and separates the two flower classes perfectly."
      ]
    },
    {
      "cell_type": "markdown",
      "metadata": {
        "id": "YtLl9Sk8BlBh",
        "colab_type": "text"
      },
      "source": [
        "## <img src=\"https://img.icons8.com/color/32/000000/box-important--v1.png\"/> Problems with Perceptrons"
      ]
    },
    {
      "cell_type": "markdown",
      "metadata": {
        "id": "Ea1vZhIsBlBi",
        "colab_type": "text"
      },
      "source": [
        "Although the perceptron classified the two Iris flower classes perfectly, convergence is one of the biggest problems of the perceptron. Frank Rosenblatt proofed mathematically that the perceptron learning rule converges if the two classes can be separated by linear hyperplane, but problems arise if the classes cannot be separated perfectly by a linear classifier. To demonstrate this issue, we will use two different classes and features from the Iris dataset."
      ]
    },
    {
      "cell_type": "code",
      "metadata": {
        "id": "uSTcTzQ4Y0f6",
        "colab_type": "code",
        "colab": {}
      },
      "source": [
        "# versicolor and virginica\n",
        "y2 = df.iloc[50:150, 4].values\n",
        "y2 = np.where(y2 == 'Iris-virginica', -1, 1)\n",
        "\n",
        "# sepal width and petal width\n",
        "X2 = df.iloc[50:150, [1,3]].values"
      ],
      "execution_count": 0,
      "outputs": []
    },
    {
      "cell_type": "code",
      "metadata": {
        "id": "-z6AbV7_BlBi",
        "colab_type": "code",
        "outputId": "a2e4f987-4fbd-4ef5-c17b-d2f98ab6851a",
        "colab": {
          "base_uri": "https://localhost:8080/",
          "height": 586
        }
      },
      "source": [
        "# train Perceptron\n",
        "ppn = Perceptron(epochs=25, eta=0.01)\n",
        "ppn.train(X2, y2)\n",
        "\n",
        "plot_decision_regions(X2, y2, clf=ppn)\n",
        "plt.show()\n",
        "\n",
        "plt.plot(range(1, len(ppn.errors_)+1), ppn.errors_, marker='o')\n",
        "plt.xlabel('Iterations')\n",
        "plt.ylabel('Misclassifications')\n",
        "plt.show()"
      ],
      "execution_count": 0,
      "outputs": [
        {
          "output_type": "stream",
          "text": [
            "/usr/local/lib/python3.6/dist-packages/mlxtend/plotting/decision_regions.py:244: MatplotlibDeprecationWarning: Passing unsupported keyword arguments to axis() will raise a TypeError in 3.3.\n",
            "  ax.axis(xmin=xx.min(), xmax=xx.max(), y_min=yy.min(), y_max=yy.max())\n"
          ],
          "name": "stderr"
        },
        {
          "output_type": "display_data",
          "data": {
            "image/png": "[encoded data removed]",
            "text/plain": [
              "<Figure size 432x288 with 1 Axes>"
            ]
          },
          "metadata": {
            "tags": [],
            "needs_background": "light"
          }
        },
        {
          "output_type": "display_data",
          "data": {
            "image/png": "[encoded data removed]",
            "text/plain": [
              "<Figure size 432x288 with 1 Axes>"
            ]
          },
          "metadata": {
            "tags": [],
            "needs_background": "light"
          }
        }
      ]
    },
    {
      "cell_type": "code",
      "metadata": {
        "id": "Eik8E6NZBlBn",
        "colab_type": "code",
        "outputId": "4a244824-6f1f-4f3f-8c9b-74bfcf0a5677",
        "colab": {
          "base_uri": "https://localhost:8080/",
          "height": 35
        }
      },
      "source": [
        "print('Total number of misclassifications: %d of 100' % (y2 != ppn.predict(X2)).sum())"
      ],
      "execution_count": 0,
      "outputs": [
        {
          "output_type": "stream",
          "text": [
            "Total number of misclassifications: 43 of 100\n"
          ],
          "name": "stdout"
        }
      ]
    },
    {
      "cell_type": "markdown",
      "metadata": {
        "id": "W7MKK7sOBlBr",
        "colab_type": "text"
      },
      "source": [
        "Even at a lower training rate, the perceptron failed to find a good decision boundary since one or more samples will always be misclassified in every epoch so that the learning rule never stops updating the weights.\n",
        "\n",
        "It may seem paradoxical in this context that another shortcoming of the perceptron algorithm is that it stops updating the weights as soon as all samples are classified correctly. Our intuition tells us that a decision boundary with a large margin between the classes (as indicated by the dashed line in the figure below) likely has a better generalization error than the decision boundary of the perceptron. But large-margin classifiers such as Support Vector Machines are a topic for another time."
      ]
    },
    {
      "cell_type": "markdown",
      "metadata": {
        "id": "_tjHBPTXOpMn",
        "colab_type": "text"
      },
      "source": [
        "# <img src=\"https://img.icons8.com/color/32/000000/switch.png\"/> Adaptive linear neurons"
      ]
    },
    {
      "cell_type": "markdown",
      "metadata": {
        "id": "zk7gT__pZSWc",
        "colab_type": "text"
      },
      "source": [
        "The perceptron surely was very popular at the time of its discovery, however, it only took a few years until Bernard Widrow and his doctoral student Tedd Hoff proposed the idea of the Adaptive Linear Neuron (adaline) ([src](http://www-isl.stanford.edu/~widrow/papers/t1960anadaptive.pdf)).\n",
        "\n",
        "In contrast to the perceptron rule, the delta rule of the adaline (also known as Widrow-Hoff rule or Adaline rule) updates the weights based on a linear activation function rather than a unit step function; here, this linear activation function $g(\\mathbf{z})$ is just the identity function of the net input $g(\\mathbf{w}^T\\mathbf{x}) = \\mathbf{w}^T\\mathbf{x}$. In the next section, we will see why this linear activation is an improvement over the perceptron update and where the name \"delta rule\" comes from."
      ]
    },
    {
      "cell_type": "markdown",
      "metadata": {
        "id": "pudery_VOreX",
        "colab_type": "text"
      },
      "source": [
        "## <img src=\"https://img.icons8.com/color/32/000000/online-request.png\"/> Minimizing cost functions with gradient descent"
      ]
    },
    {
      "cell_type": "markdown",
      "metadata": {
        "id": "aLancvb4Odzi",
        "colab_type": "text"
      },
      "source": [
        "<img src=https://raw.githubusercontent.com/rasbt/python-machine-learning-book-3rd-edition/master/ch02/images/02_09.png width=\"1000\">"
      ]
    },
    {
      "cell_type": "markdown",
      "metadata": {
        "id": "o-vFWRCbBlBw",
        "colab_type": "text"
      },
      "source": [
        "## <img src=\"https://img.icons8.com/color/32/000000/hill-descent-control--v2.png\"/> Gradient Descent"
      ]
    },
    {
      "cell_type": "code",
      "metadata": {
        "id": "VOs_ZtKjSN4D",
        "colab_type": "code",
        "outputId": "606dd227-dd5b-4214-a263-b38b4c5aef2a",
        "colab": {
          "base_uri": "https://localhost:8080/",
          "height": 321
        }
      },
      "source": [
        "from IPython.display import YouTubeVideo\n",
        "YouTubeVideo('sDv4f4s2SB8')"
      ],
      "execution_count": 0,
      "outputs": [
        {
          "output_type": "execute_result",
          "data": {
            "text/html": [
              "\n",
              "        <iframe\n",
              "            width=\"400\"\n",
              "            height=\"300\"\n",
              "            src=\"https://www.youtube.com/embed/sDv4f4s2SB8\"\n",
              "            frameborder=\"0\"\n",
              "            allowfullscreen\n",
              "        ></iframe>\n",
              "        "
            ],
            "text/plain": [
              "<IPython.lib.display.YouTubeVideo at 0x7fd9f0ec4518>"
            ],
            "image/jpeg": "[encoded data removed]"
          },
          "metadata": {
            "tags": []
          },
          "execution_count": 16
        }
      ]
    },
    {
      "cell_type": "markdown",
      "metadata": {
        "id": "m8glB2KhBlBx",
        "colab_type": "text"
      },
      "source": [
        "Being a continuous function, one of the biggest advantages of the linear activation function over the unit step function is that it is differentiable. This property allows us to define a cost function $J(\\mathbf{w})$ that we can minimize in order to update our weights. In the case of the linear activation function, we can define the cost function $J(\\mathbf{w})$ as the *sum of squared errors* (SSE), which is similar to the cost function that is minimized in ordinary least squares (OLS) linear regression.\n",
        "\n",
        "$$J(\\mathbf{w})  = \\frac{1}{2} \\sum_{i} (\\text{target}^{(i)} - \\text{output}^{(i)})^2 \\quad \\quad \\text{output}^{(i)} \\in \\mathbb{R}$$\n",
        "\n",
        "(The fraction $\\frac{1}{2}$ is just used for convenience to derive the gradient as we will see in the next paragraphs.)"
      ]
    },
    {
      "cell_type": "markdown",
      "metadata": {
        "id": "A2VDppDaOiW7",
        "colab_type": "text"
      },
      "source": [
        "<img src=https://raw.githubusercontent.com/rasbt/python-machine-learning-book-3rd-edition/master/ch02/images/02_10.png width=\"1000\">"
      ]
    },
    {
      "cell_type": "markdown",
      "metadata": {
        "id": "SzOV2BoXBlBy",
        "colab_type": "text"
      },
      "source": [
        "In order to minimize the SSE cost function, we will use gradient descent, a simple yet useful optimization algorithm that is often used in machine learning to find the local minimum of linear systems."
      ]
    },
    {
      "cell_type": "markdown",
      "metadata": {
        "id": "zXM1bmZCBlBz",
        "colab_type": "text"
      },
      "source": [
        "Before we get to the fun part (calculus), let us consider a convex cost function for one single weight. As illustrated in the figure below, we can describe the principle behind gradient descent as \"climbing down a hill\" until a local or global minimum is reached. At each step, we take a step into the opposite direction of the gradient, and the step size is determined by the value of the learning rate as well as the slope of the gradient."
      ]
    },
    {
      "cell_type": "markdown",
      "metadata": {
        "id": "gRm4znCQBlBz",
        "colab_type": "text"
      },
      "source": [
        "<img src='./images/perceptron_gradient_descent_1.png' alt=''>"
      ]
    },
    {
      "cell_type": "markdown",
      "metadata": {
        "id": "Y8tLCF-WBlB0",
        "colab_type": "text"
      },
      "source": [
        "Now, as promised, onto the fun part -- deriving the Adaline learning rule.\n",
        "As mentioned above, each update is updated by taking a step into the opposite direction of the gradient $\\Delta \\mathbf{w} = - \\eta \\nabla J(\\mathbf{w})$, thus, we have to compute the partial derivative of the cost function for each weight in the weight vector:  $\\Delta w_j = - \\eta \\frac{\\partial J}{\\partial w_j}$. \n",
        "\n",
        "\n"
      ]
    },
    {
      "cell_type": "markdown",
      "metadata": {
        "id": "rLyMpQUPBlB0",
        "colab_type": "text"
      },
      "source": [
        "The partial derivative of the SSE cost function for a particular weight can be calculated as follows:\n",
        "\n",
        "$$\\begin{equation}\n",
        " \\frac{\\partial J}{\\partial w_j} = \\frac{\\partial }{\\partial w_j} \\frac{1}{2} \\sum_i  (t^{(i)} - o^{(i)})^2 \\\\\n",
        "= \\frac{1}{2} \\sum_i \\frac{\\partial}{\\partial w_j} (t^{(i)} - o^{(i)})^2 \\\\\n",
        "= \\frac{1}{2} \\sum_i 2 (t^{(i)} - o^{(i)}) \\frac{\\partial}{\\partial w_j} (t^{(i)} - o^{(i)}) \\\\\n",
        "=  \\sum_i (t^{(i)} - o^{(i)}) \\frac{\\partial}{\\partial w_j} \\bigg(t^{(i)} - \\sum_j w_j x^{(i)}_{j}\\bigg) \\\\\n",
        "= \\sum_i  (t^{(i)} - o^{(i)})(-x^{(i)}_{j}) \n",
        "\\end{equation}$$\n",
        "\n",
        "(t = target, o = output)"
      ]
    },
    {
      "cell_type": "markdown",
      "metadata": {
        "id": "qGrY1-EqBlB1",
        "colab_type": "text"
      },
      "source": [
        "And if we plug the results back into the learning rule, we get\n",
        "\n",
        "$\\Delta w_j = - \\eta \\frac{\\partial J}{\\partial w_j} = - \\eta \\sum_i  (t^{(i)} - o^{(i)})(- x^{(i)}_{j}) = \\eta \\sum_i (t^{(i)} - o^{(i)})x^{(i)}_{j}$,\n",
        "\n",
        "Eventually, we can apply a simultaneous weight update similar to the perceptron rule: \n",
        "\n",
        "$\\mathbf{w} := \\mathbf{w} + \\Delta \\mathbf{w}$.\n",
        "\n",
        "**Although, the learning rule above looks identical to the perceptron rule, we shall note the two main differences:**\n",
        "\n",
        "1. Here, the output \"o\" is a real number and not a class label as in the perceptron learning rule.\n",
        "2. The weight update is calculated based on all samples in the training set (instead of updating the weights incrementally after each sample), which is why this approach is also called \"batch\" gradient descent."
      ]
    },
    {
      "cell_type": "markdown",
      "metadata": {
        "id": "j0_Or7qXBlB2",
        "colab_type": "text"
      },
      "source": [
        "## <img src=\"https://img.icons8.com/color/32/000000/new-document.png\"/> The Gradient Descent Rule in Action"
      ]
    },
    {
      "cell_type": "markdown",
      "metadata": {
        "id": "DNdCDMhGBlB3",
        "colab_type": "text"
      },
      "source": [
        "Now, it's time to implement the gradient descent rule in Python."
      ]
    },
    {
      "cell_type": "code",
      "metadata": {
        "id": "RnJtXjRFBlB4",
        "colab_type": "code",
        "colab": {}
      },
      "source": [
        "# Adaline with gradient descent\n",
        "class AdalineGD(object):\n",
        "    \n",
        "    def __init__(self, eta=0.01, epochs=50): \n",
        "        self.eta = eta\n",
        "        self.epochs = epochs\n",
        "\n",
        "    def train(self, X, y):\n",
        "\n",
        "        self.w_ = np.zeros(1 + X.shape[1])\n",
        "        self.cost_ = []\n",
        "\n",
        "        for i in range(self.epochs):\n",
        "            output = self.net_input(X)\n",
        "            errors = (y - output)\n",
        "            self.w_[1:] += self.eta * X.T.dot(errors)\n",
        "            self.w_[0] += self.eta * errors.sum()\n",
        "            cost = (errors**2).sum() / 2.0\n",
        "            self.cost_.append(cost)\n",
        "        return self\n",
        "\n",
        "    def net_input(self, X):\n",
        "        return np.dot(X, self.w_[1:]) + self.w_[0]\n",
        "\n",
        "    def activation(self, X):\n",
        "        return self.net_input(X)\n",
        "\n",
        "    def predict(self, X):\n",
        "        return np.where(self.activation(X) >= 0.0, 1, -1)"
      ],
      "execution_count": 0,
      "outputs": []
    },
    {
      "cell_type": "markdown",
      "metadata": {
        "id": "3rL1pdF0BlB7",
        "colab_type": "text"
      },
      "source": [
        "In practice, it often requires some experimentation to find a good learning rate for optimal convergence, thus, we will start by plotting the cost for two different learning rates."
      ]
    },
    {
      "cell_type": "code",
      "metadata": {
        "id": "luevGUdEBlB7",
        "colab_type": "code",
        "outputId": "ca27bbee-d56e-4dac-a22b-c24eed2eb8cd",
        "colab": {
          "base_uri": "https://localhost:8080/",
          "height": 573
        }
      },
      "source": [
        "# learning rate 0.01\n",
        "ada = AdalineGD(epochs=10, eta=0.01).train(X, y)\n",
        "plt.plot(range(1, len(ada.cost_)+1), np.log10(ada.cost_), marker='o')\n",
        "plt.xlabel('Iterations')\n",
        "plt.ylabel('log(Sum-squared-error)')\n",
        "plt.title('Adaline - Learning rate 0.01')\n",
        "plt.show()\n",
        "\n",
        "# learning rate 0.0001\n",
        "ada = AdalineGD(epochs=10, eta=0.0001).train(X, y)\n",
        "plt.plot(range(1, len(ada.cost_)+1), ada.cost_, marker='o')\n",
        "plt.xlabel('Iterations')\n",
        "plt.ylabel('Sum-squared-error')\n",
        "plt.title('Adaline - Learning rate 0.0001')\n",
        "plt.show()"
      ],
      "execution_count": 0,
      "outputs": [
        {
          "output_type": "display_data",
          "data": {
            "image/png": "[encoded data removed]",
            "text/plain": [
              "<Figure size 432x288 with 1 Axes>"
            ]
          },
          "metadata": {
            "tags": [],
            "needs_background": "light"
          }
        },
        {
          "output_type": "display_data",
          "data": {
            "image/png": "[encoded data removed]",
            "text/plain": [
              "<Figure size 432x288 with 1 Axes>"
            ]
          },
          "metadata": {
            "tags": [],
            "needs_background": "light"
          }
        }
      ]
    },
    {
      "cell_type": "markdown",
      "metadata": {
        "id": "V6uPUi8bBlB-",
        "colab_type": "text"
      },
      "source": [
        "The two plots above nicely emphasize the importance of plotting learning curves by illustrating two most common problems with gradient descent:\n",
        "\n",
        "1. If the learning rate is too large, gradient descent will overshoot the minima and diverge.\n",
        "2. If the learning rate is too small, the algorithm will require too many epochs to converge and can become trapped in local minima more easily.\n",
        "\n"
      ]
    },
    {
      "cell_type": "markdown",
      "metadata": {
        "id": "UXhrwANMdFmI",
        "colab_type": "text"
      },
      "source": [
        "<img src=https://raw.githubusercontent.com/rasbt/python-machine-learning-book-3rd-edition/master/ch02/images/02_12.png width=\"1000\">"
      ]
    },
    {
      "cell_type": "markdown",
      "metadata": {
        "id": "rTu-zH4_dJ0f",
        "colab_type": "text"
      },
      "source": [
        "## <img src=\"https://img.icons8.com/color/32/000000/scales.png\"/> Improving with feature scaling"
      ]
    },
    {
      "cell_type": "markdown",
      "metadata": {
        "id": "areGHARmBlCA",
        "colab_type": "text"
      },
      "source": [
        "Gradient descent is also a good example why feature scaling is important for many machine learning algorithms. \n",
        "It is not only easier to find an appropriate learning rate if the features are on the same scale, but it also often leads to faster convergence and can prevent the weights from becoming too small (numerical stability).\n",
        "\n",
        "A common way of feature scaling is standardization\n",
        "\n",
        "$$\\mathbf{x}_{j, std} = \\frac{\\mathbf{x}_j - \\mathbf{\\mu}_j}{\\mathbf{\\sigma}_j}$$\n",
        "\n",
        "where $\\mathbf{\\mu}_j$ is the sample mean of the feature $\\mathbf{x}_{j}$ and $\\mathbf{\\sigma}_j$ the standard deviation, respectively. After standardization, the features will have unit variance and are centered around mean zero. "
      ]
    },
    {
      "cell_type": "markdown",
      "metadata": {
        "id": "RGpEOjb1dY0z",
        "colab_type": "text"
      },
      "source": [
        "<img src=https://raw.githubusercontent.com/rasbt/python-machine-learning-book-3rd-edition/master/ch02/images/02_13.png width=\"1000\">"
      ]
    },
    {
      "cell_type": "code",
      "metadata": {
        "id": "42YGm0HjBlCA",
        "colab_type": "code",
        "colab": {}
      },
      "source": [
        "# standardize features\n",
        "X_std = np.copy(X)\n",
        "X_std[:,0] = (X[:,0] - X[:,0].mean()) / X[:,0].std()\n",
        "X_std[:,1] = (X[:,1] - X[:,1].mean()) / X[:,1].std()"
      ],
      "execution_count": 0,
      "outputs": []
    },
    {
      "cell_type": "code",
      "metadata": {
        "id": "E-0OyLxqBlCD",
        "colab_type": "code",
        "outputId": "7ef963f4-4b01-4026-d301-58950355283d",
        "colab": {
          "base_uri": "https://localhost:8080/",
          "height": 612
        }
      },
      "source": [
        "# adaline\n",
        "ada = AdalineGD(epochs=15, eta=0.01)\n",
        "\n",
        "ada.train(X_std, y)\n",
        "plot_decision_regions(X_std, y, clf=ada)\n",
        "plt.title('Adaline - Gradient Descent')\n",
        "plt.xlabel('sepal length [standardized]')\n",
        "plt.ylabel('petal length [standardized]')\n",
        "plt.show()\n",
        "\n",
        "plt.plot(range(1, len( ada.cost_)+1), ada.cost_, marker='o')\n",
        "plt.xlabel('Iterations')\n",
        "plt.ylabel('Sum-squared-error')\n",
        "plt.show()"
      ],
      "execution_count": 0,
      "outputs": [
        {
          "output_type": "stream",
          "text": [
            "/usr/local/lib/python3.6/dist-packages/mlxtend/plotting/decision_regions.py:244: MatplotlibDeprecationWarning: Passing unsupported keyword arguments to axis() will raise a TypeError in 3.3.\n",
            "  ax.axis(xmin=xx.min(), xmax=xx.max(), y_min=yy.min(), y_max=yy.max())\n"
          ],
          "name": "stderr"
        },
        {
          "output_type": "display_data",
          "data": {
            "image/png": "[encoded data removed]",
            "text/plain": [
              "<Figure size 432x288 with 1 Axes>"
            ]
          },
          "metadata": {
            "tags": [],
            "needs_background": "light"
          }
        },
        {
          "output_type": "display_data",
          "data": {
            "image/png": "[encoded data removed]",
            "text/plain": [
              "<Figure size 432x288 with 1 Axes>"
            ]
          },
          "metadata": {
            "tags": [],
            "needs_background": "light"
          }
        }
      ]
    },
    {
      "cell_type": "markdown",
      "metadata": {
        "id": "YDG7bRyFBlCH",
        "colab_type": "text"
      },
      "source": [
        "## <img src=\"https://img.icons8.com/color/32/000000/stairs-down.png\"/> Stochastic Gradient Descent"
      ]
    },
    {
      "cell_type": "markdown",
      "metadata": {
        "id": "xaPrjGRvBlCI",
        "colab_type": "text"
      },
      "source": [
        "The previous section was all about \"batch\" gradient descent learning. The \"batch\" updates refers to the fact that the cost function is minimized based on the complete training data set. If we think back to the perceptron rule, we remember that it performed the weight update incrementally after each individual training sample. This approach is also called \"online\" learning, and in fact, this is also how Adaline was first described by Bernard Widrow et al.\n",
        "\n",
        "The process of incrementally updating the weights is also called \"stochastic\" gradient descent since it approximates the minimization of the cost function. Although the stochastic gradient descent approach might sound inferior to gradient descent due its \"stochastic\" nature and the \"approximated\" direction (gradient), it can have certain advantages in practice. Often, stochastic gradient descent converges much faster than gradient descent since the updates are applied immediately after each training sample; stochastic gradient descent is computationally more efficient, especially for very large datasets. Another advantage of online learning is that the classifier can be immediately updated as new training data arrives, e.g., in web applications, and old training data can be discarded if storage is an issue. In large-scale machine learning systems, it is also common practice to use so-called \"mini-batches\", a compromise with smoother convergence than stochastic gradient descent."
      ]
    },
    {
      "cell_type": "code",
      "metadata": {
        "id": "mXWWlgT-4iU4",
        "colab_type": "code",
        "outputId": "1c26e727-5bb2-4211-b8ae-bd9f674aa13a",
        "colab": {
          "base_uri": "https://localhost:8080/",
          "height": 321
        }
      },
      "source": [
        "from IPython.display import YouTubeVideo\n",
        "YouTubeVideo('vMh0zPT0tLI')"
      ],
      "execution_count": 0,
      "outputs": [
        {
          "output_type": "execute_result",
          "data": {
            "text/html": [
              "\n",
              "        <iframe\n",
              "            width=\"400\"\n",
              "            height=\"300\"\n",
              "            src=\"https://www.youtube.com/embed/vMh0zPT0tLI\"\n",
              "            frameborder=\"0\"\n",
              "            allowfullscreen\n",
              "        ></iframe>\n",
              "        "
            ],
            "text/plain": [
              "<IPython.lib.display.YouTubeVideo at 0x7fd9f0f11cf8>"
            ],
            "image/jpeg": "[encoded data removed]"
          },
          "metadata": {
            "tags": []
          },
          "execution_count": 17
        }
      ]
    },
    {
      "cell_type": "markdown",
      "metadata": {
        "id": "z6C6yMscBlCJ",
        "colab_type": "text"
      },
      "source": [
        "In the interests of completeness let us also implement the stochastic gradient descent Adaline and confirm that it converges on the linearly separable iris dataset."
      ]
    },
    {
      "cell_type": "code",
      "metadata": {
        "id": "PTfIPeChBlCJ",
        "colab_type": "code",
        "colab": {}
      },
      "source": [
        "class AdalineSGD(object):\n",
        "    \n",
        "    def __init__(self, eta=0.01, epochs=50):\n",
        "        self.eta = eta\n",
        "        self.epochs = epochs\n",
        "\n",
        "    def train(self, X, y, reinitialize_weights=True):\n",
        "\n",
        "        if reinitialize_weights:\n",
        "            self.w_ = np.zeros(1 + X.shape[1])\n",
        "        self.cost_ = []\n",
        "\n",
        "        for i in range(self.epochs):\n",
        "            for xi, target in zip(X, y):\n",
        "                output = self.net_input(xi)\n",
        "                error = (target - output)\n",
        "                self.w_[1:] += self.eta * xi.dot(error)\n",
        "                self.w_[0] += self.eta * error\n",
        "            \n",
        "            cost = ((y - self.activation(X))**2).sum() / 2.0\n",
        "            self.cost_.append(cost)\n",
        "        return self\n",
        "\n",
        "    def net_input(self, X):\n",
        "        return np.dot(X, self.w_[1:]) + self.w_[0]\n",
        "\n",
        "    def activation(self, X):\n",
        "        return self.net_input(X)\n",
        "\n",
        "    def predict(self, X):\n",
        "        return np.where(self.activation(X) >= 0.0, 1, -1)"
      ],
      "execution_count": 0,
      "outputs": []
    },
    {
      "cell_type": "markdown",
      "metadata": {
        "id": "jzBzx_UxBlCM",
        "colab_type": "text"
      },
      "source": [
        "One more advice before we let the adaline learn via stochastic gradient descent is to shuffle the training dataset to iterate over the training samples in random order. \n",
        "\n",
        "We shall note that the \"standard\" stochastic gradient descent algorithm uses sampling \"with replacement,\" which means that at each iteration, a training sample is chosen randomly from the entire training set. In contrast, sampling \"without replacement,\" which means that each training sample is evaluated exactly once in every epoch, is not only easier to implement but also shows a better performance in empirical comparisons. A more detailed discussion about this topic can be found in Benjamin Recht and Christopher Re's paper *Beneath the valley of the noncommutative arithmetic-geometric mean inequality: conjectures, case-studies, and consequences* [[4](#References)].\n"
      ]
    },
    {
      "cell_type": "code",
      "metadata": {
        "id": "ZJLNSaxyBlCN",
        "colab_type": "code",
        "outputId": "674dd614-203e-4c3e-880c-43b6fbaecb1d",
        "colab": {
          "base_uri": "https://localhost:8080/",
          "height": 613
        }
      },
      "source": [
        "# Adaline example\n",
        "ada = AdalineSGD(epochs=15, eta=0.01)\n",
        "\n",
        "# shuffle data\n",
        "np.random.seed(123)\n",
        "idx = np.random.permutation(len(y))\n",
        "X_shuffled, y_shuffled =  X_std[idx], y[idx]\n",
        "\n",
        "# train and adaline and plot decision regions\n",
        "ada.train(X_shuffled, y_shuffled)\n",
        "plot_decision_regions(X_shuffled, y_shuffled, clf=ada)\n",
        "plt.title('Adaline - Gradient Descent')\n",
        "plt.xlabel('sepal length [standardized]')\n",
        "plt.ylabel('petal length [standardized]')\n",
        "plt.show()\n",
        "\n",
        "plt.plot(range(1, len(ada.cost_)+1), ada.cost_, marker='o')\n",
        "plt.xlabel('Iterations')\n",
        "plt.ylabel('Sum-squared-error')\n",
        "plt.show()"
      ],
      "execution_count": 0,
      "outputs": [
        {
          "output_type": "stream",
          "text": [
            "/usr/local/lib/python3.6/dist-packages/mlxtend/plotting/decision_regions.py:244: MatplotlibDeprecationWarning: Passing unsupported keyword arguments to axis() will raise a TypeError in 3.3.\n",
            "  ax.axis(xmin=xx.min(), xmax=xx.max(), y_min=yy.min(), y_max=yy.max())\n"
          ],
          "name": "stderr"
        },
        {
          "output_type": "display_data",
          "data": {
            "image/png": "[encoded data removed]",
            "text/plain": [
              "<Figure size 432x288 with 1 Axes>"
            ]
          },
          "metadata": {
            "tags": [],
            "needs_background": "light"
          }
        },
        {
          "output_type": "display_data",
          "data": {
            "image/png": "[encoded data removed]",
            "text/plain": [
              "<Figure size 432x288 with 1 Axes>"
            ]
          },
          "metadata": {
            "tags": [],
            "needs_background": "light"
          }
        }
      ]
    },
    {
      "cell_type": "markdown",
      "metadata": {
        "id": "_seSi4hUBlCP",
        "colab_type": "text"
      },
      "source": [
        "<br>\n",
        "<br>"
      ]
    }
  ]
}