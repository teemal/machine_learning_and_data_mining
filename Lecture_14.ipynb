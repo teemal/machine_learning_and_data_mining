{
  "nbformat": 4,
  "nbformat_minor": 0,
  "metadata": {
    "colab": {
      "name": "Lecture 14.ipynb",
      "provenance": [],
      "collapsed_sections": []
    },
    "kernelspec": {
      "name": "python3",
      "display_name": "Python 3"
    }
  },
  "cells": [
    {
      "cell_type": "markdown",
      "metadata": {
        "id": "QmfMpebNtbwV",
        "colab_type": "text"
      },
      "source": [
        "# Lecture 14 - Clustering"
      ]
    },
    {
      "cell_type": "markdown",
      "metadata": {
        "id": "CJKsDV9gtcCb",
        "colab_type": "text"
      },
      "source": [
        "***\n",
        "##### CS 434 - Data Mining and Machine Learning\n",
        "##### Oregon State University-Cascades\n",
        "***"
      ]
    },
    {
      "cell_type": "markdown",
      "metadata": {
        "id": "0Lkxs56HlXHm",
        "colab_type": "text"
      },
      "source": [
        "## <img src=\"https://img.icons8.com/color/32/000000/fork-lift.png\"/>  Load packages"
      ]
    },
    {
      "cell_type": "code",
      "metadata": {
        "id": "yeM1CyVJdGpo",
        "colab_type": "code",
        "colab": {}
      },
      "source": [
        "import numpy as np\n",
        "import pandas as pd\n",
        "import matplotlib.pyplot as plt\n",
        "from matplotlib import cm\n",
        "from sklearn.datasets import make_blobs\n",
        "from sklearn.datasets import make_moons\n",
        "from sklearn.cluster import KMeans\n",
        "from sklearn.metrics import silhouette_samples\n",
        "from scipy.spatial.distance import pdist, squareform\n",
        "from scipy.cluster.hierarchy import linkage\n",
        "from scipy.cluster.hierarchy import dendrogram\n",
        "from sklearn.cluster import AgglomerativeClustering\n",
        "from sklearn.cluster import DBSCAN\n",
        "from IPython.display import Image"
      ],
      "execution_count": 0,
      "outputs": []
    },
    {
      "cell_type": "markdown",
      "metadata": {
        "id": "YSd0mN9gvgpn",
        "colab_type": "text"
      },
      "source": [
        "# <img src=\"https://img.icons8.com/color/32/000000/mind-map.png\"/>   K-means clustering"
      ]
    },
    {
      "cell_type": "code",
      "metadata": {
        "id": "kKMY8i4t05dN",
        "colab_type": "code",
        "outputId": "6028611b-4611-437c-9bb1-7436e78d94df",
        "colab": {
          "base_uri": "https://localhost:8080/",
          "height": 321
        }
      },
      "source": [
        "from IPython.display import YouTubeVideo\n",
        "YouTubeVideo('4b5d3muPQmA')"
      ],
      "execution_count": 0,
      "outputs": [
        {
          "output_type": "execute_result",
          "data": {
            "text/html": [
              "\n",
              "        <iframe\n",
              "            width=\"400\"\n",
              "            height=\"300\"\n",
              "            src=\"https://www.youtube.com/embed/4b5d3muPQmA\"\n",
              "            frameborder=\"0\"\n",
              "            allowfullscreen\n",
              "        ></iframe>\n",
              "        "
            ],
            "text/plain": [
              "<IPython.lib.display.YouTubeVideo at 0x7f4c07478a58>"
            ],
            "image/jpeg": "[encoded data removed]"
          },
          "metadata": {
            "tags": []
          },
          "execution_count": 48
        }
      ]
    },
    {
      "cell_type": "markdown",
      "metadata": {
        "id": "EWUtsHg8xBLm",
        "colab_type": "text"
      },
      "source": [
        "### <img src=\"https://img.icons8.com/color/32/000000/k.png\"/>  K-Means algorithm"
      ]
    },
    {
      "cell_type": "markdown",
      "metadata": {
        "id": "C5wYQpzgxzHm",
        "colab_type": "text"
      },
      "source": [
        "1. Randomly pick $k$ centroids from the sample points as initial cluster centers.\n",
        "2. Assign each sample to the nearest centroid, $\\mu^{(j)},j\\in\\{1,\\ldots, k\\}$.\n",
        "3. Move the centroids to the center of the samples that were assigned to it.\n",
        "4. Repeat steps 2 and 3 until the cluster assignments do not change or a user-defined tolerance or maximum number of iterations is reached."
      ]
    },
    {
      "cell_type": "markdown",
      "metadata": {
        "id": "OkiHhFa_zPRq",
        "colab_type": "text"
      },
      "source": [
        "#### <img src=\"https://img.icons8.com/color/32/000000/terms-and-conditions.png\"/> Similarity"
      ]
    },
    {
      "cell_type": "markdown",
      "metadata": {
        "id": "WyaX0DwIyZ3_",
        "colab_type": "text"
      },
      "source": [
        "We can define similarity as the opposite of distance. *Squared Euclidean distance* is the distance between two points $\\mathbf{x}$ and $\\mathbf{y}$ in $m$-dimensional space. \n",
        "\n",
        "$$ d(\\mathbf{x},\\mathbf{y}) ^2 = \\sum_{j=1}^m \\ (x_j - y_j)^2 = \\lVert \\mathbf{x} - \\mathbf{y} \\rVert^2_2$$"
      ]
    },
    {
      "cell_type": "markdown",
      "metadata": {
        "id": "Tz1blhSn0KE1",
        "colab_type": "text"
      },
      "source": [
        "#### <img src=\"https://img.icons8.com/color/32/000000/plus.png\"/>  Sum of square errors (SSE)\n",
        "The k-means algorithm is an optimization problem, iteratively minimizing the inner-cluster *sum of square errors* (SSE).\n",
        "\n",
        "$$SSE = \\sum^n_{i=1} \\sum^k_{j=1} \\ w^{i,j} \\ \\lVert x^{i} - \\mu^{j} \\rVert^2_2$$\n",
        "\n",
        "where:\n",
        "* $i$ is the index of an individual example, drawn from $n$ total examples,\n",
        "* $j$ is the index of an individual cluster, drawn from $k$ total clusters,\n",
        "* $\\mu^{j}$ is the the cluster centroid for cluster $j$, and\n",
        "* $w^{i,j} =\n",
        "   \\begin{cases} \n",
        "       1,\\ \\text{if} \\ x^i \\in j \\\\\n",
        "       0,\\ \\text{otherwise}\n",
        "   \\end{cases}$"
      ]
    },
    {
      "cell_type": "markdown",
      "metadata": {
        "id": "o6kkxPYf3tfl",
        "colab_type": "text"
      },
      "source": [
        "***\n",
        "#### <img src=\"https://img.icons8.com/color/24/000000/error.png\"/>  **Feature Scaling**\n",
        "\n",
        "\n",
        "When applying K-Means using Euclidean distance, first apply z-score standardization or min-max normalization to the data.\n",
        "***"
      ]
    },
    {
      "cell_type": "markdown",
      "metadata": {
        "id": "q-4vHAWaQOWC",
        "colab_type": "text"
      },
      "source": [
        "### <img src=\"https://img.icons8.com/color/32/000000/new-document.png\"/>  K-Means Example"
      ]
    },
    {
      "cell_type": "markdown",
      "metadata": {
        "id": "0awjQTxtwr80",
        "colab_type": "text"
      },
      "source": [
        "##### Sample data\n",
        "Create a dataset of 150 randomly generated points, grouped into three regions and visualized using a 2d scatterplot."
      ]
    },
    {
      "cell_type": "code",
      "metadata": {
        "id": "GK9GfxJpvgpt",
        "colab_type": "code",
        "colab": {}
      },
      "source": [
        "# make data\n",
        "X, y = make_blobs(n_samples=150, \n",
        "                  n_features=2, \n",
        "                  centers=3, \n",
        "                  cluster_std=0.5, \n",
        "                  shuffle=True, \n",
        "                  random_state=0)"
      ],
      "execution_count": 0,
      "outputs": []
    },
    {
      "cell_type": "code",
      "metadata": {
        "id": "4ow89Bvlvgp0",
        "colab_type": "code",
        "outputId": "a6040d66-3c4a-46f3-8f4a-2b7e224dfe80",
        "colab": {
          "base_uri": "https://localhost:8080/",
          "height": 297
        }
      },
      "source": [
        "# show data\n",
        "plt.scatter(X[:, 0], X[:, 1], \n",
        "            c='white', marker='o', edgecolor='black', s=50)\n",
        "plt.grid()\n",
        "plt.tight_layout()\n",
        "plt.show()"
      ],
      "execution_count": 0,
      "outputs": [
        {
          "output_type": "display_data",
          "data": {
            "image/png": "[encoded data removed]",
            "text/plain": [
              "<Figure size 432x288 with 1 Axes>"
            ]
          },
          "metadata": {
            "tags": [],
            "needs_background": "light"
          }
        }
      ]
    },
    {
      "cell_type": "markdown",
      "metadata": {
        "id": "CXuvgvbVdnbK",
        "colab_type": "text"
      },
      "source": [
        "#### `KMeans`"
      ]
    },
    {
      "cell_type": "code",
      "metadata": {
        "id": "EoHo4ZP2Qzmy",
        "colab_type": "code",
        "outputId": "efa56907-df1f-449f-e654-860813f01b26",
        "colab": {
          "base_uri": "https://localhost:8080/",
          "height": 134
        }
      },
      "source": [
        "# train KMeans\n",
        "km = KMeans(n_clusters=3, \n",
        "            init='random', \n",
        "            n_init=10, \n",
        "            max_iter=300,\n",
        "            tol=1e-04,\n",
        "            random_state=0)\n",
        "\n",
        "y_km = km.fit_predict(X)\n",
        "y_km"
      ],
      "execution_count": 0,
      "outputs": [
        {
          "output_type": "execute_result",
          "data": {
            "text/plain": [
              "array([2, 1, 1, 1, 2, 1, 1, 2, 0, 1, 2, 0, 0, 1, 1, 0, 0, 2, 0, 2, 1, 2,\n",
              "       1, 1, 0, 2, 2, 1, 0, 2, 0, 0, 0, 0, 1, 2, 2, 2, 1, 1, 0, 0, 1, 2,\n",
              "       2, 2, 0, 1, 0, 1, 2, 1, 1, 2, 2, 0, 1, 2, 0, 1, 0, 0, 0, 0, 1, 0,\n",
              "       1, 2, 1, 1, 1, 2, 2, 1, 2, 1, 1, 0, 0, 1, 2, 2, 1, 1, 2, 2, 2, 0,\n",
              "       0, 2, 2, 1, 2, 1, 2, 1, 0, 0, 2, 2, 2, 2, 0, 2, 2, 1, 0, 1, 1, 1,\n",
              "       0, 1, 2, 0, 1, 0, 1, 1, 0, 0, 1, 2, 1, 1, 2, 2, 0, 2, 0, 0, 0, 0,\n",
              "       2, 0, 0, 0, 1, 0, 2, 0, 1, 1, 2, 2, 0, 0, 0, 0, 2, 2], dtype=int32)"
            ]
          },
          "metadata": {
            "tags": []
          },
          "execution_count": 29
        }
      ]
    },
    {
      "cell_type": "code",
      "metadata": {
        "id": "6OXA4CMHQ4O6",
        "colab_type": "code",
        "outputId": "9a45bcd2-8b7f-4354-9e73-6a27840f46dc",
        "colab": {
          "base_uri": "https://localhost:8080/",
          "height": 297
        }
      },
      "source": [
        "# scatter plot\n",
        "plt.scatter(X[y_km == 0, 0],\n",
        "            X[y_km == 0, 1],\n",
        "            s=50, c='lightgreen',\n",
        "            marker='s', edgecolor='black',\n",
        "            label='Cluster 1')\n",
        "plt.scatter(X[y_km == 1, 0],\n",
        "            X[y_km == 1, 1],\n",
        "            s=50, c='orange',\n",
        "            marker='o', edgecolor='black',\n",
        "            label='Cluster 2')\n",
        "plt.scatter(X[y_km == 2, 0],\n",
        "            X[y_km == 2, 1],\n",
        "            s=50, c='lightblue',\n",
        "            marker='v', edgecolor='black',\n",
        "            label='Cluster 3')\n",
        "plt.scatter(km.cluster_centers_[:, 0],\n",
        "            km.cluster_centers_[:, 1],\n",
        "            s=250, marker='*',\n",
        "            c='red', edgecolor='black',\n",
        "            label='Centroids')\n",
        "plt.legend(scatterpoints=1)\n",
        "plt.grid()\n",
        "plt.tight_layout()\n",
        "plt.show()"
      ],
      "execution_count": 0,
      "outputs": [
        {
          "output_type": "display_data",
          "data": {
            "image/png": "[encoded data removed]",
            "text/plain": [
              "<Figure size 432x288 with 1 Axes>"
            ]
          },
          "metadata": {
            "tags": [],
            "needs_background": "light"
          }
        }
      ]
    },
    {
      "cell_type": "markdown",
      "metadata": {
        "id": "CpCif_J9nT_i",
        "colab_type": "text"
      },
      "source": [
        "# <img src=\"https://img.icons8.com/color/32/000000/speed.png\"/> Evaluating clusters"
      ]
    },
    {
      "cell_type": "markdown",
      "metadata": {
        "id": "2ouu0luDvgqS",
        "colab_type": "text"
      },
      "source": [
        "## <img src=\"https://img.icons8.com/color/32/000000/k.png\"/>   Choosing $k$"
      ]
    },
    {
      "cell_type": "markdown",
      "metadata": {
        "id": "AFF3HvBEvgqU",
        "colab_type": "text"
      },
      "source": [
        "Using a random seed to place initial centroids can somethimes result in bad clusterings or slow convergence. One approach is to run $k$-Means algorithm multiple times on a dataset and choose the best performing model.\n",
        "\n",
        "Another strategy is to place initial centroids far away from each other and use the $k$-Means$++$ algorithm.\n",
        "\n"
      ]
    },
    {
      "cell_type": "markdown",
      "metadata": {
        "id": "ktfkdX7iagAi",
        "colab_type": "text"
      },
      "source": [
        "### <img src=\"https://img.icons8.com/color/32/000000/serial-tasks.png\"/> $k$-Means$++$ algorithm\n",
        "\n",
        "1. Initialize an empty set $\\textbf{M}$ to store the $k$ centroid being selected. \n",
        "\n",
        "2. Randomly choose the first centroid $\\mu^j$ from the input examples and assign it to $\\textbf{M}$.\n",
        "\n",
        "3. For each example $x^i$ that is not in $\\textbf{M}$, find the minimum squared distance $d(\\textbf{x}^i, \\textbf{M})^2$ to any of the centroids in $\\textbf{M}$.\n",
        "\n",
        "4. To randomly select the next centroid $\\mu^p$ use a weighted probability distribution equal to ${{d(\\mu^p, \\textbf{M})^2} \\over {\\sum_i d(\\textbf{x}^i, \\textbf{M})^2} }$.\n",
        "\n",
        "5. Repeat steps 2 and 3 until $k$ centroids are chosen.\n",
        "\n",
        "6. Proceed with the classic $k$-Means algorithm. "
      ]
    },
    {
      "cell_type": "markdown",
      "metadata": {
        "id": "k8MrXn51vgqY",
        "colab_type": "text"
      },
      "source": [
        "## <img src=\"https://img.icons8.com/color/32/000000/elbow-pain.png\"/> Elbow method"
      ]
    },
    {
      "cell_type": "markdown",
      "metadata": {
        "id": "Gfme46mjdyhR",
        "colab_type": "text"
      },
      "source": [
        "We use metrics, such as within-cluster SSE (distortion), to compare the performance of different $k$-Means clusterings."
      ]
    },
    {
      "cell_type": "code",
      "metadata": {
        "id": "FfG09GSuvgqb",
        "colab_type": "code",
        "outputId": "aac5b163-44dc-4601-c7fd-5a37a561ba25",
        "colab": {
          "base_uri": "https://localhost:8080/",
          "height": 34
        }
      },
      "source": [
        "# view SSE via intertia_\n",
        "print('Distortion: %.2f' % km.inertia_)"
      ],
      "execution_count": 0,
      "outputs": [
        {
          "output_type": "stream",
          "text": [
            "Distortion: 72.48\n"
          ],
          "name": "stdout"
        }
      ]
    },
    {
      "cell_type": "code",
      "metadata": {
        "id": "KKZhjukGvgqh",
        "colab_type": "code",
        "outputId": "6ec6a536-65cb-4ad9-c08a-97a605c026fa",
        "colab": {
          "base_uri": "https://localhost:8080/",
          "height": 297
        }
      },
      "source": [
        "distortions = []\n",
        "for i in range(1, 11):\n",
        "    km = KMeans(n_clusters=i, \n",
        "                init='k-means++', \n",
        "                n_init=10, \n",
        "                max_iter=300, \n",
        "                random_state=0)\n",
        "    km.fit(X)\n",
        "    distortions.append(km.inertia_)\n",
        "plt.plot(range(1, 11), distortions, marker='o')\n",
        "plt.xlabel('Number of clusters')\n",
        "plt.ylabel('Distortion')\n",
        "plt.tight_layout()\n",
        "plt.show()"
      ],
      "execution_count": 0,
      "outputs": [
        {
          "output_type": "display_data",
          "data": {
            "image/png": "[encoded data removed]",
            "text/plain": [
              "<Figure size 432x288 with 1 Axes>"
            ]
          },
          "metadata": {
            "tags": [],
            "needs_background": "light"
          }
        }
      ]
    },
    {
      "cell_type": "markdown",
      "metadata": {
        "id": "AaoQ9jHhvgqm",
        "colab_type": "text"
      },
      "source": [
        "<br>"
      ]
    },
    {
      "cell_type": "markdown",
      "metadata": {
        "id": "aOuunPLdvgqo",
        "colab_type": "text"
      },
      "source": [
        "## <img src=\"https://img.icons8.com/color/32/000000/shadow-photography.png\"/> Silhouette plots"
      ]
    },
    {
      "cell_type": "markdown",
      "metadata": {
        "id": "MRI5_r_uiVi2",
        "colab_type": "text"
      },
      "source": [
        "Silhouette analysis can be used to measure how tightly grouped the examples in the cluster are. \n",
        "\n",
        "1. Calculate the **cluster cohension** $a^i$ as the average distance between an example $x^i$ and all other points in the same cluster.\n",
        "\n",
        "2. Calculate the **cluster separation** $b^i$ from the next closest cluster as the average distance between the example $x^i$ and all examples in the nearest cluster.\n",
        "\n",
        "3. Calculate the silhouette $s^i$ as the difference between cluster cohension and separation divided by the greater of the two.\n",
        "\n",
        "$$s^i = {{b^i - a^i} \\over {\\max{\\{b^i, a^i\\}}}}$$\n"
      ]
    },
    {
      "cell_type": "markdown",
      "metadata": {
        "id": "FSxrtBM0jwi-",
        "colab_type": "text"
      },
      "source": [
        "The silhouette coefficient is bounded in range $-1$ to $1$. The coefficient is $0$ if the cluster separation and cohesion are equal ($b^i = a^i$). It approaches the ideal silhouette of $1$ if $b^i \\gg a^i$, as $b^i$ quantifies how dissimilar an example is from other clusters and $a^i$ tells us how similar it is to the other examples in its own cluster. "
      ]
    },
    {
      "cell_type": "code",
      "metadata": {
        "id": "YMr0Q0Pwvgqq",
        "colab_type": "code",
        "outputId": "aec6e65b-0df6-4208-d6c6-ad62b7e745eb",
        "colab": {
          "base_uri": "https://localhost:8080/",
          "height": 297
        }
      },
      "source": [
        "# silhouette coefficient: \"good\"\n",
        "km = KMeans(n_clusters=3, \n",
        "            init='k-means++', \n",
        "            n_init=10, \n",
        "            max_iter=300,\n",
        "            tol=1e-04,\n",
        "            random_state=0)\n",
        "y_km = km.fit_predict(X)\n",
        "\n",
        "cluster_labels = np.unique(y_km)\n",
        "n_clusters = cluster_labels.shape[0]\n",
        "silhouette_vals = silhouette_samples(X, y_km, metric='euclidean')\n",
        "y_ax_lower, y_ax_upper = 0, 0\n",
        "yticks = []\n",
        "for i, c in enumerate(cluster_labels):\n",
        "    c_silhouette_vals = silhouette_vals[y_km == c]\n",
        "    c_silhouette_vals.sort()\n",
        "    y_ax_upper += len(c_silhouette_vals)\n",
        "    color = cm.jet(float(i) / n_clusters)\n",
        "    plt.barh(range(y_ax_lower, y_ax_upper), c_silhouette_vals, height=1.0, \n",
        "             edgecolor='none', color=color)\n",
        "\n",
        "    yticks.append((y_ax_lower + y_ax_upper) / 2.)\n",
        "    y_ax_lower += len(c_silhouette_vals)\n",
        "    \n",
        "silhouette_avg = np.mean(silhouette_vals)\n",
        "plt.axvline(silhouette_avg, color=\"red\", linestyle=\"--\") \n",
        "\n",
        "plt.yticks(yticks, cluster_labels + 1)\n",
        "plt.ylabel('Cluster')\n",
        "plt.xlabel('Silhouette coefficient')\n",
        "\n",
        "plt.tight_layout()\n",
        "plt.show()"
      ],
      "execution_count": 0,
      "outputs": [
        {
          "output_type": "display_data",
          "data": {
            "image/png": "[encoded data removed]",
            "text/plain": [
              "<Figure size 432x288 with 1 Axes>"
            ]
          },
          "metadata": {
            "tags": [],
            "needs_background": "light"
          }
        }
      ]
    },
    {
      "cell_type": "markdown",
      "metadata": {
        "id": "SLcpwvWPkp2k",
        "colab_type": "text"
      },
      "source": [
        "The above represents \"good clustering\" since the silhouette coefficients are not close to $0$."
      ]
    },
    {
      "cell_type": "markdown",
      "metadata": {
        "id": "n0NLqGZpvgqw",
        "colab_type": "text"
      },
      "source": [
        "Now compare to \"bad\" clustering."
      ]
    },
    {
      "cell_type": "code",
      "metadata": {
        "id": "I_kho8gHvgqy",
        "colab_type": "code",
        "outputId": "fbb3357f-4634-43c2-88b0-7fdbc65d2fb9",
        "colab": {
          "base_uri": "https://localhost:8080/",
          "height": 297
        }
      },
      "source": [
        "# generate \"bad\" clusters\n",
        "km = KMeans(n_clusters=2,\n",
        "            init='k-means++',\n",
        "            n_init=10,\n",
        "            max_iter=300,\n",
        "            tol=1e-04,\n",
        "            random_state=0)\n",
        "y_km = km.fit_predict(X)\n",
        "\n",
        "plt.scatter(X[y_km == 0, 0],\n",
        "            X[y_km == 0, 1],\n",
        "            s=50,\n",
        "            c='lightgreen',\n",
        "            edgecolor='black',\n",
        "            marker='s',\n",
        "            label='Cluster 1')\n",
        "plt.scatter(X[y_km == 1, 0],\n",
        "            X[y_km == 1, 1],\n",
        "            s=50,\n",
        "            c='orange',\n",
        "            edgecolor='black',\n",
        "            marker='o',\n",
        "            label='Cluster 2')\n",
        "\n",
        "plt.scatter(km.cluster_centers_[:, 0], km.cluster_centers_[:, 1],\n",
        "            s=250, marker='*', c='red', label='Centroids')\n",
        "plt.legend()\n",
        "plt.grid()\n",
        "plt.tight_layout()\n",
        "plt.show()"
      ],
      "execution_count": 0,
      "outputs": [
        {
          "output_type": "display_data",
          "data": {
            "image/png": "[encoded data removed]",
            "text/plain": [
              "<Figure size 432x288 with 1 Axes>"
            ]
          },
          "metadata": {
            "tags": [],
            "needs_background": "light"
          }
        }
      ]
    },
    {
      "cell_type": "code",
      "metadata": {
        "id": "89fevQmivgq4",
        "colab_type": "code",
        "outputId": "3bdcdfdc-56cd-4d3f-fe62-6308480e7b42",
        "colab": {
          "base_uri": "https://localhost:8080/",
          "height": 297
        }
      },
      "source": [
        "# silhouette coefficient: \"bad\"\n",
        "cluster_labels = np.unique(y_km)\n",
        "n_clusters = cluster_labels.shape[0]\n",
        "silhouette_vals = silhouette_samples(X, y_km, metric='euclidean')\n",
        "y_ax_lower, y_ax_upper = 0, 0\n",
        "yticks = []\n",
        "for i, c in enumerate(cluster_labels):\n",
        "    c_silhouette_vals = silhouette_vals[y_km == c]\n",
        "    c_silhouette_vals.sort()\n",
        "    y_ax_upper += len(c_silhouette_vals)\n",
        "    color = cm.jet(float(i) / n_clusters)\n",
        "    plt.barh(range(y_ax_lower, y_ax_upper), c_silhouette_vals, height=1.0, \n",
        "             edgecolor='none', color=color)\n",
        "\n",
        "    yticks.append((y_ax_lower + y_ax_upper) / 2.)\n",
        "    y_ax_lower += len(c_silhouette_vals)\n",
        "    \n",
        "silhouette_avg = np.mean(silhouette_vals)\n",
        "plt.axvline(silhouette_avg, color=\"red\", linestyle=\"--\") \n",
        "\n",
        "plt.yticks(yticks, cluster_labels + 1)\n",
        "plt.ylabel('Cluster')\n",
        "plt.xlabel('Silhouette coefficient')\n",
        "\n",
        "plt.tight_layout()\n",
        "plt.show()"
      ],
      "execution_count": 0,
      "outputs": [
        {
          "output_type": "display_data",
          "data": {
            "image/png": "[encoded data removed]",
            "text/plain": [
              "<Figure size 432x288 with 1 Axes>"
            ]
          },
          "metadata": {
            "tags": [],
            "needs_background": "light"
          }
        }
      ]
    },
    {
      "cell_type": "markdown",
      "metadata": {
        "id": "mNSHhss4vgrB",
        "colab_type": "text"
      },
      "source": [
        "<br>\n",
        "<br>"
      ]
    },
    {
      "cell_type": "markdown",
      "metadata": {
        "id": "s9-XN9y2l-vG",
        "colab_type": "text"
      },
      "source": [
        "# <img src=\"https://img.icons8.com/color/32/000000/genealogy.png\"/> Hierarchical clustering"
      ]
    },
    {
      "cell_type": "markdown",
      "metadata": {
        "id": "QjtFRH3ynbR1",
        "colab_type": "text"
      },
      "source": [
        "Hierarchical clustering is that is allows us to plot dendograms which can help with the interpretation of results by providing meaningful taxonomies. \n",
        "\n",
        "Another advantage of this hierarchical approach is that we do not need to specify the number of clusters upfront."
      ]
    },
    {
      "cell_type": "code",
      "metadata": {
        "id": "Sd_G8E341BUN",
        "colab_type": "code",
        "outputId": "adaa165d-eb52-4366-e3e5-3245fd47ee08",
        "colab": {
          "base_uri": "https://localhost:8080/",
          "height": 321
        }
      },
      "source": [
        "from IPython.display import YouTubeVideo\n",
        "YouTubeVideo('7xHsRkOdVwo')"
      ],
      "execution_count": 0,
      "outputs": [
        {
          "output_type": "execute_result",
          "data": {
            "text/html": [
              "\n",
              "        <iframe\n",
              "            width=\"400\"\n",
              "            height=\"300\"\n",
              "            src=\"https://www.youtube.com/embed/7xHsRkOdVwo\"\n",
              "            frameborder=\"0\"\n",
              "            allowfullscreen\n",
              "        ></iframe>\n",
              "        "
            ],
            "text/plain": [
              "<IPython.lib.display.YouTubeVideo at 0x7f4c0423eb38>"
            ],
            "image/jpeg": "[encoded data removed]"
          },
          "metadata": {
            "tags": []
          },
          "execution_count": 49
        }
      ]
    },
    {
      "cell_type": "markdown",
      "metadata": {
        "id": "d1JR9C7Ul-vG",
        "colab_type": "text"
      },
      "source": [
        "## <img src=\"https://img.icons8.com/color/32/000000/link.png\"/> Agglomerative clustering"
      ]
    },
    {
      "cell_type": "markdown",
      "metadata": {
        "id": "4wbOXXS_pDD2",
        "colab_type": "text"
      },
      "source": [
        "In the **single linkage** approach, we compute the distances between the most similar members for each pair of clusters and merge the two clusters for which the distance between the most similar members is the smallest.\n",
        "\n",
        "In the **complete linkage** approach, we instead compare the most dissimilar members to perform the merge. "
      ]
    },
    {
      "cell_type": "markdown",
      "metadata": {
        "id": "kFqCWDz8mkBr",
        "colab_type": "text"
      },
      "source": [
        "![alt text](https://github.com/rasbt/python-machine-learning-book-3rd-edition/blob/master/ch11/images/11_07.png?raw=true)"
      ]
    },
    {
      "cell_type": "markdown",
      "metadata": {
        "id": "LXEwOKLZpcEk",
        "colab_type": "text"
      },
      "source": [
        "### <img src=\"https://img.icons8.com/color/32/000000/serial-tasks.png\"/>  Algorithm"
      ]
    },
    {
      "cell_type": "markdown",
      "metadata": {
        "id": "OPfGpo3lpkj2",
        "colab_type": "text"
      },
      "source": [
        "Agglomerative clustering with complete-linkage\n",
        "1. Compute the distance matrix of all examples.\n",
        "2. Represent each data point as a singleton cluster.\n",
        "3. Merge the two closest clusters based on the distance between the most dissimilar (distant) members.\n",
        "4. Update the similarity matrix.\n",
        "5. Repeat steps 2-4 until one single cluster remains."
      ]
    },
    {
      "cell_type": "markdown",
      "metadata": {
        "id": "4ct0Hk6Il-vL",
        "colab_type": "text"
      },
      "source": [
        "## <img src=\"https://img.icons8.com/color/32/000000/ruler.png\"/> Distance matrix"
      ]
    },
    {
      "cell_type": "code",
      "metadata": {
        "id": "ZrblPv2Bl-vJ",
        "colab_type": "code",
        "outputId": "42240ba7-30e5-4996-9ad9-003b0cd28883",
        "colab": {
          "base_uri": "https://localhost:8080/",
          "height": 195
        }
      },
      "source": [
        "# generate random data\n",
        "np.random.seed(123)\n",
        "\n",
        "variables = ['X', 'Y', 'Z']\n",
        "labels = ['ID_0', 'ID_1', 'ID_2', 'ID_3', 'ID_4']\n",
        "\n",
        "X = np.random.random_sample([5, 3])*10\n",
        "df = pd.DataFrame(X, columns=variables, index=labels)\n",
        "df"
      ],
      "execution_count": 0,
      "outputs": [
        {
          "output_type": "execute_result",
          "data": {
            "text/html": [
              "<div>\n",
              "<style scoped>\n",
              "    .dataframe tbody tr th:only-of-type {\n",
              "        vertical-align: middle;\n",
              "    }\n",
              "\n",
              "    .dataframe tbody tr th {\n",
              "        vertical-align: top;\n",
              "    }\n",
              "\n",
              "    .dataframe thead th {\n",
              "        text-align: right;\n",
              "    }\n",
              "</style>\n",
              "<table border=\"1\" class=\"dataframe\">\n",
              "  <thead>\n",
              "    <tr style=\"text-align: right;\">\n",
              "      <th></th>\n",
              "      <th>X</th>\n",
              "      <th>Y</th>\n",
              "      <th>Z</th>\n",
              "    </tr>\n",
              "  </thead>\n",
              "  <tbody>\n",
              "    <tr>\n",
              "      <th>ID_0</th>\n",
              "      <td>6.964692</td>\n",
              "      <td>2.861393</td>\n",
              "      <td>2.268515</td>\n",
              "    </tr>\n",
              "    <tr>\n",
              "      <th>ID_1</th>\n",
              "      <td>5.513148</td>\n",
              "      <td>7.194690</td>\n",
              "      <td>4.231065</td>\n",
              "    </tr>\n",
              "    <tr>\n",
              "      <th>ID_2</th>\n",
              "      <td>9.807642</td>\n",
              "      <td>6.848297</td>\n",
              "      <td>4.809319</td>\n",
              "    </tr>\n",
              "    <tr>\n",
              "      <th>ID_3</th>\n",
              "      <td>3.921175</td>\n",
              "      <td>3.431780</td>\n",
              "      <td>7.290497</td>\n",
              "    </tr>\n",
              "    <tr>\n",
              "      <th>ID_4</th>\n",
              "      <td>4.385722</td>\n",
              "      <td>0.596779</td>\n",
              "      <td>3.980443</td>\n",
              "    </tr>\n",
              "  </tbody>\n",
              "</table>\n",
              "</div>"
            ],
            "text/plain": [
              "             X         Y         Z\n",
              "ID_0  6.964692  2.861393  2.268515\n",
              "ID_1  5.513148  7.194690  4.231065\n",
              "ID_2  9.807642  6.848297  4.809319\n",
              "ID_3  3.921175  3.431780  7.290497\n",
              "ID_4  4.385722  0.596779  3.980443"
            ]
          },
          "metadata": {
            "tags": []
          },
          "execution_count": 36
        }
      ]
    },
    {
      "cell_type": "code",
      "metadata": {
        "id": "-T8obpHbl-vM",
        "colab_type": "code",
        "outputId": "23c38dca-3cca-41da-f4a2-839c2dca0845",
        "colab": {
          "base_uri": "https://localhost:8080/",
          "height": 195
        }
      },
      "source": [
        "# distance matric\n",
        "row_dist = pd.DataFrame(squareform(pdist(df, metric='euclidean')),\n",
        "                        columns=labels,\n",
        "                        index=labels)\n",
        "row_dist"
      ],
      "execution_count": 0,
      "outputs": [
        {
          "output_type": "execute_result",
          "data": {
            "text/html": [
              "<div>\n",
              "<style scoped>\n",
              "    .dataframe tbody tr th:only-of-type {\n",
              "        vertical-align: middle;\n",
              "    }\n",
              "\n",
              "    .dataframe tbody tr th {\n",
              "        vertical-align: top;\n",
              "    }\n",
              "\n",
              "    .dataframe thead th {\n",
              "        text-align: right;\n",
              "    }\n",
              "</style>\n",
              "<table border=\"1\" class=\"dataframe\">\n",
              "  <thead>\n",
              "    <tr style=\"text-align: right;\">\n",
              "      <th></th>\n",
              "      <th>ID_0</th>\n",
              "      <th>ID_1</th>\n",
              "      <th>ID_2</th>\n",
              "      <th>ID_3</th>\n",
              "      <th>ID_4</th>\n",
              "    </tr>\n",
              "  </thead>\n",
              "  <tbody>\n",
              "    <tr>\n",
              "      <th>ID_0</th>\n",
              "      <td>0.000000</td>\n",
              "      <td>4.973534</td>\n",
              "      <td>5.516653</td>\n",
              "      <td>5.899885</td>\n",
              "      <td>3.835396</td>\n",
              "    </tr>\n",
              "    <tr>\n",
              "      <th>ID_1</th>\n",
              "      <td>4.973534</td>\n",
              "      <td>0.000000</td>\n",
              "      <td>4.347073</td>\n",
              "      <td>5.104311</td>\n",
              "      <td>6.698233</td>\n",
              "    </tr>\n",
              "    <tr>\n",
              "      <th>ID_2</th>\n",
              "      <td>5.516653</td>\n",
              "      <td>4.347073</td>\n",
              "      <td>0.000000</td>\n",
              "      <td>7.244262</td>\n",
              "      <td>8.316594</td>\n",
              "    </tr>\n",
              "    <tr>\n",
              "      <th>ID_3</th>\n",
              "      <td>5.899885</td>\n",
              "      <td>5.104311</td>\n",
              "      <td>7.244262</td>\n",
              "      <td>0.000000</td>\n",
              "      <td>4.382864</td>\n",
              "    </tr>\n",
              "    <tr>\n",
              "      <th>ID_4</th>\n",
              "      <td>3.835396</td>\n",
              "      <td>6.698233</td>\n",
              "      <td>8.316594</td>\n",
              "      <td>4.382864</td>\n",
              "      <td>0.000000</td>\n",
              "    </tr>\n",
              "  </tbody>\n",
              "</table>\n",
              "</div>"
            ],
            "text/plain": [
              "          ID_0      ID_1      ID_2      ID_3      ID_4\n",
              "ID_0  0.000000  4.973534  5.516653  5.899885  3.835396\n",
              "ID_1  4.973534  0.000000  4.347073  5.104311  6.698233\n",
              "ID_2  5.516653  4.347073  0.000000  7.244262  8.316594\n",
              "ID_3  5.899885  5.104311  7.244262  0.000000  4.382864\n",
              "ID_4  3.835396  6.698233  8.316594  4.382864  0.000000"
            ]
          },
          "metadata": {
            "tags": []
          },
          "execution_count": 37
        }
      ]
    },
    {
      "cell_type": "markdown",
      "metadata": {
        "id": "yKY5oxF0l-vO",
        "colab_type": "text"
      },
      "source": [
        "We can either pass a condensed distance matrix (upper triangular) from the `pdist` function, or we can pass the \"original\" data array and define the `metric='euclidean'` argument in `linkage`. However, we should not pass the squareform distance matrix, which would yield different distance values although the overall clustering could be the same."
      ]
    },
    {
      "cell_type": "code",
      "metadata": {
        "id": "-EztnFwel-vO",
        "colab_type": "code",
        "outputId": "3d8bcfbe-f5e0-40af-bf49-be90532944e4",
        "colab": {
          "base_uri": "https://localhost:8080/",
          "height": 219
        }
      },
      "source": [
        "# 1. incorrect approach: Squareform distance matrix\n",
        "row_clusters = linkage(row_dist, method='complete', metric='euclidean')\n",
        "pd.DataFrame(row_clusters,\n",
        "             columns=['row label 1', 'row label 2',\n",
        "                      'distance', 'no. of items in clust.'],\n",
        "             index=['cluster %d' % (i + 1)\n",
        "                    for i in range(row_clusters.shape[0])])"
      ],
      "execution_count": 0,
      "outputs": [
        {
          "output_type": "stream",
          "text": [
            "/usr/local/lib/python3.6/dist-packages/ipykernel_launcher.py:1: ClusterWarning: scipy.cluster: The symmetric non-negative hollow observation matrix looks suspiciously like an uncondensed distance matrix\n",
            "  \"\"\"Entry point for launching an IPython kernel.\n"
          ],
          "name": "stderr"
        },
        {
          "output_type": "execute_result",
          "data": {
            "text/html": [
              "<div>\n",
              "<style scoped>\n",
              "    .dataframe tbody tr th:only-of-type {\n",
              "        vertical-align: middle;\n",
              "    }\n",
              "\n",
              "    .dataframe tbody tr th {\n",
              "        vertical-align: top;\n",
              "    }\n",
              "\n",
              "    .dataframe thead th {\n",
              "        text-align: right;\n",
              "    }\n",
              "</style>\n",
              "<table border=\"1\" class=\"dataframe\">\n",
              "  <thead>\n",
              "    <tr style=\"text-align: right;\">\n",
              "      <th></th>\n",
              "      <th>row label 1</th>\n",
              "      <th>row label 2</th>\n",
              "      <th>distance</th>\n",
              "      <th>no. of items in clust.</th>\n",
              "    </tr>\n",
              "  </thead>\n",
              "  <tbody>\n",
              "    <tr>\n",
              "      <th>cluster 1</th>\n",
              "      <td>0.0</td>\n",
              "      <td>4.0</td>\n",
              "      <td>6.521973</td>\n",
              "      <td>2.0</td>\n",
              "    </tr>\n",
              "    <tr>\n",
              "      <th>cluster 2</th>\n",
              "      <td>1.0</td>\n",
              "      <td>2.0</td>\n",
              "      <td>6.729603</td>\n",
              "      <td>2.0</td>\n",
              "    </tr>\n",
              "    <tr>\n",
              "      <th>cluster 3</th>\n",
              "      <td>3.0</td>\n",
              "      <td>5.0</td>\n",
              "      <td>8.539247</td>\n",
              "      <td>3.0</td>\n",
              "    </tr>\n",
              "    <tr>\n",
              "      <th>cluster 4</th>\n",
              "      <td>6.0</td>\n",
              "      <td>7.0</td>\n",
              "      <td>12.444824</td>\n",
              "      <td>5.0</td>\n",
              "    </tr>\n",
              "  </tbody>\n",
              "</table>\n",
              "</div>"
            ],
            "text/plain": [
              "           row label 1  row label 2   distance  no. of items in clust.\n",
              "cluster 1          0.0          4.0   6.521973                     2.0\n",
              "cluster 2          1.0          2.0   6.729603                     2.0\n",
              "cluster 3          3.0          5.0   8.539247                     3.0\n",
              "cluster 4          6.0          7.0  12.444824                     5.0"
            ]
          },
          "metadata": {
            "tags": []
          },
          "execution_count": 38
        }
      ]
    },
    {
      "cell_type": "code",
      "metadata": {
        "scrolled": true,
        "id": "QRf-wyKvl-vQ",
        "colab_type": "code",
        "outputId": "b0afe9c2-c779-430f-ab56-6346dc0b98fc",
        "colab": {
          "base_uri": "https://localhost:8080/",
          "height": 166
        }
      },
      "source": [
        "# 2. correct approach: Condensed distance matrix\n",
        "row_clusters = linkage(pdist(df, metric='euclidean'), method='complete')\n",
        "pd.DataFrame(row_clusters,\n",
        "             columns=['row label 1', 'row label 2',\n",
        "                      'distance', 'no. of items in clust.'],\n",
        "             index=['cluster %d' % (i + 1) \n",
        "                    for i in range(row_clusters.shape[0])])"
      ],
      "execution_count": 0,
      "outputs": [
        {
          "output_type": "execute_result",
          "data": {
            "text/html": [
              "<div>\n",
              "<style scoped>\n",
              "    .dataframe tbody tr th:only-of-type {\n",
              "        vertical-align: middle;\n",
              "    }\n",
              "\n",
              "    .dataframe tbody tr th {\n",
              "        vertical-align: top;\n",
              "    }\n",
              "\n",
              "    .dataframe thead th {\n",
              "        text-align: right;\n",
              "    }\n",
              "</style>\n",
              "<table border=\"1\" class=\"dataframe\">\n",
              "  <thead>\n",
              "    <tr style=\"text-align: right;\">\n",
              "      <th></th>\n",
              "      <th>row label 1</th>\n",
              "      <th>row label 2</th>\n",
              "      <th>distance</th>\n",
              "      <th>no. of items in clust.</th>\n",
              "    </tr>\n",
              "  </thead>\n",
              "  <tbody>\n",
              "    <tr>\n",
              "      <th>cluster 1</th>\n",
              "      <td>0.0</td>\n",
              "      <td>4.0</td>\n",
              "      <td>3.835396</td>\n",
              "      <td>2.0</td>\n",
              "    </tr>\n",
              "    <tr>\n",
              "      <th>cluster 2</th>\n",
              "      <td>1.0</td>\n",
              "      <td>2.0</td>\n",
              "      <td>4.347073</td>\n",
              "      <td>2.0</td>\n",
              "    </tr>\n",
              "    <tr>\n",
              "      <th>cluster 3</th>\n",
              "      <td>3.0</td>\n",
              "      <td>5.0</td>\n",
              "      <td>5.899885</td>\n",
              "      <td>3.0</td>\n",
              "    </tr>\n",
              "    <tr>\n",
              "      <th>cluster 4</th>\n",
              "      <td>6.0</td>\n",
              "      <td>7.0</td>\n",
              "      <td>8.316594</td>\n",
              "      <td>5.0</td>\n",
              "    </tr>\n",
              "  </tbody>\n",
              "</table>\n",
              "</div>"
            ],
            "text/plain": [
              "           row label 1  row label 2  distance  no. of items in clust.\n",
              "cluster 1          0.0          4.0  3.835396                     2.0\n",
              "cluster 2          1.0          2.0  4.347073                     2.0\n",
              "cluster 3          3.0          5.0  5.899885                     3.0\n",
              "cluster 4          6.0          7.0  8.316594                     5.0"
            ]
          },
          "metadata": {
            "tags": []
          },
          "execution_count": 39
        }
      ]
    },
    {
      "cell_type": "code",
      "metadata": {
        "id": "npAwc-p6l-vS",
        "colab_type": "code",
        "outputId": "5c412537-78fd-43a8-c948-8eb99e0c53d6",
        "colab": {
          "base_uri": "https://localhost:8080/",
          "height": 166
        }
      },
      "source": [
        "# 3. correct approach: Input matrix\n",
        "row_clusters = linkage(df.values, method='complete', metric='euclidean')\n",
        "pd.DataFrame(row_clusters,\n",
        "             columns=['row label 1', 'row label 2',\n",
        "                      'distance', 'no. of items in clust.'],\n",
        "             index=['cluster %d' % (i + 1)\n",
        "                    for i in range(row_clusters.shape[0])])"
      ],
      "execution_count": 0,
      "outputs": [
        {
          "output_type": "execute_result",
          "data": {
            "text/html": [
              "<div>\n",
              "<style scoped>\n",
              "    .dataframe tbody tr th:only-of-type {\n",
              "        vertical-align: middle;\n",
              "    }\n",
              "\n",
              "    .dataframe tbody tr th {\n",
              "        vertical-align: top;\n",
              "    }\n",
              "\n",
              "    .dataframe thead th {\n",
              "        text-align: right;\n",
              "    }\n",
              "</style>\n",
              "<table border=\"1\" class=\"dataframe\">\n",
              "  <thead>\n",
              "    <tr style=\"text-align: right;\">\n",
              "      <th></th>\n",
              "      <th>row label 1</th>\n",
              "      <th>row label 2</th>\n",
              "      <th>distance</th>\n",
              "      <th>no. of items in clust.</th>\n",
              "    </tr>\n",
              "  </thead>\n",
              "  <tbody>\n",
              "    <tr>\n",
              "      <th>cluster 1</th>\n",
              "      <td>0.0</td>\n",
              "      <td>4.0</td>\n",
              "      <td>3.835396</td>\n",
              "      <td>2.0</td>\n",
              "    </tr>\n",
              "    <tr>\n",
              "      <th>cluster 2</th>\n",
              "      <td>1.0</td>\n",
              "      <td>2.0</td>\n",
              "      <td>4.347073</td>\n",
              "      <td>2.0</td>\n",
              "    </tr>\n",
              "    <tr>\n",
              "      <th>cluster 3</th>\n",
              "      <td>3.0</td>\n",
              "      <td>5.0</td>\n",
              "      <td>5.899885</td>\n",
              "      <td>3.0</td>\n",
              "    </tr>\n",
              "    <tr>\n",
              "      <th>cluster 4</th>\n",
              "      <td>6.0</td>\n",
              "      <td>7.0</td>\n",
              "      <td>8.316594</td>\n",
              "      <td>5.0</td>\n",
              "    </tr>\n",
              "  </tbody>\n",
              "</table>\n",
              "</div>"
            ],
            "text/plain": [
              "           row label 1  row label 2  distance  no. of items in clust.\n",
              "cluster 1          0.0          4.0  3.835396                     2.0\n",
              "cluster 2          1.0          2.0  4.347073                     2.0\n",
              "cluster 3          3.0          5.0  5.899885                     3.0\n",
              "cluster 4          6.0          7.0  8.316594                     5.0"
            ]
          },
          "metadata": {
            "tags": []
          },
          "execution_count": 40
        }
      ]
    },
    {
      "cell_type": "code",
      "metadata": {
        "id": "Zoyw0PYDl-vT",
        "colab_type": "code",
        "outputId": "eca02f83-bf8a-4be7-a6d2-ec68df8df043",
        "colab": {
          "base_uri": "https://localhost:8080/",
          "height": 297
        }
      },
      "source": [
        "# make dendrogram\n",
        "row_dendr = dendrogram(row_clusters, \n",
        "                       labels=labels,\n",
        "                       )\n",
        "plt.tight_layout()\n",
        "plt.ylabel('Euclidean distance')\n",
        "plt.show()"
      ],
      "execution_count": 0,
      "outputs": [
        {
          "output_type": "display_data",
          "data": {
            "image/png": "[encoded data removed]",
            "text/plain": [
              "<Figure size 432x288 with 1 Axes>"
            ]
          },
          "metadata": {
            "tags": [],
            "needs_background": "light"
          }
        }
      ]
    },
    {
      "cell_type": "markdown",
      "metadata": {
        "id": "t3PEGncgl-vV",
        "colab_type": "text"
      },
      "source": [
        "<br>"
      ]
    },
    {
      "cell_type": "markdown",
      "metadata": {
        "id": "eEinbjapl-vW",
        "colab_type": "text"
      },
      "source": [
        "## <img src=\"https://img.icons8.com/color/32/000000/heat-map.png\"/> Heat map"
      ]
    },
    {
      "cell_type": "code",
      "metadata": {
        "id": "nh8CJa6yl-vW",
        "colab_type": "code",
        "outputId": "917060fc-dc18-412a-cec7-08c4a47fb971",
        "colab": {
          "base_uri": "https://localhost:8080/",
          "height": 397
        }
      },
      "source": [
        "# plot row dendrogram\n",
        "fig = plt.figure(figsize=(8, 8), facecolor='white')\n",
        "axd = fig.add_axes([0.09, 0.1, 0.2, 0.6])\n",
        "\n",
        "# note: for matplotlib < v1.5.1, please use orientation='right'\n",
        "row_dendr = dendrogram(row_clusters, orientation='left')\n",
        "\n",
        "# reorder data with respect to clustering\n",
        "df_rowclust = df.iloc[row_dendr['leaves'][::-1]]\n",
        "\n",
        "axd.set_xticks([])\n",
        "axd.set_yticks([])\n",
        "\n",
        "# remove axes spines from dendrogram\n",
        "for i in axd.spines.values():\n",
        "    i.set_visible(False)\n",
        "\n",
        "# plot heatmap\n",
        "axm = fig.add_axes([0.23, 0.1, 0.6, 0.6])  # x-pos, y-pos, width, height\n",
        "cax = axm.matshow(df_rowclust, interpolation='nearest', cmap='hot_r')\n",
        "fig.colorbar(cax)\n",
        "axm.set_xticklabels([''] + list(df_rowclust.columns))\n",
        "axm.set_yticklabels([''] + list(df_rowclust.index))\n",
        "plt.show()"
      ],
      "execution_count": 0,
      "outputs": [
        {
          "output_type": "display_data",
          "data": {
            "image/png": "[encoded data removed]",
            "text/plain": [
              "<Figure size 576x576 with 3 Axes>"
            ]
          },
          "metadata": {
            "tags": []
          }
        }
      ]
    },
    {
      "cell_type": "markdown",
      "metadata": {
        "id": "kFyDv7pMl-vY",
        "colab_type": "text"
      },
      "source": [
        "<br>"
      ]
    },
    {
      "cell_type": "markdown",
      "metadata": {
        "id": "r-Pt72Sql-vZ",
        "colab_type": "text"
      },
      "source": [
        "## <img src=\"https://img.icons8.com/color/32/000000/test-tube.png\"/> Implementation with  `scikit-learn` "
      ]
    },
    {
      "cell_type": "code",
      "metadata": {
        "id": "FlWewqsEl-vZ",
        "colab_type": "code",
        "outputId": "0ab5fb74-f8ef-48a3-f2bf-032530c7e2fa",
        "colab": {
          "base_uri": "https://localhost:8080/",
          "height": 34
        }
      },
      "source": [
        "# three clusters\n",
        "ac = AgglomerativeClustering(n_clusters=3, \n",
        "                             affinity='euclidean', \n",
        "                             linkage='complete')\n",
        "labels = ac.fit_predict(X)\n",
        "print('Cluster labels: %s' % labels)"
      ],
      "execution_count": 0,
      "outputs": [
        {
          "output_type": "stream",
          "text": [
            "Cluster labels: [1 0 0 2 1]\n"
          ],
          "name": "stdout"
        }
      ]
    },
    {
      "cell_type": "code",
      "metadata": {
        "id": "skTXK56zl-vb",
        "colab_type": "code",
        "outputId": "7f818582-88db-47f0-eaa2-e314b2f4aba0",
        "colab": {
          "base_uri": "https://localhost:8080/",
          "height": 34
        }
      },
      "source": [
        "# two clusters\n",
        "ac = AgglomerativeClustering(n_clusters=2, \n",
        "                             affinity='euclidean', \n",
        "                             linkage='complete')\n",
        "labels = ac.fit_predict(X)\n",
        "print('Cluster labels: %s' % labels)"
      ],
      "execution_count": 0,
      "outputs": [
        {
          "output_type": "stream",
          "text": [
            "Cluster labels: [0 1 1 0 0]\n"
          ],
          "name": "stdout"
        }
      ]
    },
    {
      "cell_type": "markdown",
      "metadata": {
        "id": "bPVo57Yil-vd",
        "colab_type": "text"
      },
      "source": [
        "# <img src=\"https://img.icons8.com/color/32/000000/d\"/> <img src=\"https://img.icons8.com/color/32/000000/b.png\"/> DBSCAN"
      ]
    },
    {
      "cell_type": "markdown",
      "metadata": {
        "id": "OBXTxbKMumWu",
        "colab_type": "text"
      },
      "source": [
        "In **density-based spatial clustering of applications with noise** (DBSCAN) assigns cluster labels based on dense regions of points. In DBSCAN, the notion of density is defined as the number of points with a specified radius $\\epsilon$.\n"
      ]
    },
    {
      "cell_type": "markdown",
      "metadata": {
        "id": "trKpCF_Kw8eH",
        "colab_type": "text"
      },
      "source": [
        "A special label is assigned to each example using the following criteria:\n",
        "\n",
        "* A point is considered a **core point** if at least a specified number (`MinPts`) of neighboring points fall within the specified radius of a core point.\n",
        "\n",
        "* A **border point** is a point that has fewer neighbors than `MinPts` with $\\epsilon$, but lies within the $\\epsilon$ redius of a core point.\n",
        "\n",
        "* All other points that are neither core nor border points are considered **noise points**. "
      ]
    },
    {
      "cell_type": "markdown",
      "metadata": {
        "id": "GXsqlM4Cw09h",
        "colab_type": "text"
      },
      "source": [
        "After labeling the points as *core*, *border*, or *noise*, the DBSCAN algorithm can be summarized in two steps:\n",
        "\n",
        "1. Form a separate cluster for each core point or connected group of core points. \n",
        "\n",
        "> Core points are connected if they are no farther away than $\\epsilon$.\n",
        "\n",
        "2. Assign each border point to the cluster of its corresponding core point. "
      ]
    },
    {
      "cell_type": "markdown",
      "metadata": {
        "id": "lVG_9kXZuXx1",
        "colab_type": "text"
      },
      "source": [
        "![alt text](https://github.com/rasbt/python-machine-learning-book-3rd-edition/blob/master/ch11/images/11_13.png?raw=true)"
      ]
    },
    {
      "cell_type": "code",
      "metadata": {
        "id": "mByUmehfl-vf",
        "colab_type": "code",
        "outputId": "17410d26-688b-4619-8576-af26d036d292",
        "colab": {
          "base_uri": "https://localhost:8080/",
          "height": 297
        }
      },
      "source": [
        "# make moons data\n",
        "X, y = make_moons(n_samples=200, noise=0.05, random_state=0)\n",
        "plt.scatter(X[:, 0], X[:, 1])\n",
        "plt.tight_layout()\n",
        "plt.show()"
      ],
      "execution_count": 0,
      "outputs": [
        {
          "output_type": "display_data",
          "data": {
            "image/png": "[encoded data removed]",
            "text/plain": [
              "<Figure size 432x288 with 1 Axes>"
            ]
          },
          "metadata": {
            "tags": [],
            "needs_background": "light"
          }
        }
      ]
    },
    {
      "cell_type": "markdown",
      "metadata": {
        "id": "sIpBZyJ6l-vh",
        "colab_type": "text"
      },
      "source": [
        "### Compare K-means and hierarchical clustering"
      ]
    },
    {
      "cell_type": "code",
      "metadata": {
        "id": "APkUveXJl-vh",
        "colab_type": "code",
        "outputId": "61bc05ac-b0a6-4371-c756-156241f26630",
        "colab": {
          "base_uri": "https://localhost:8080/",
          "height": 225
        }
      },
      "source": [
        "# run k-means and hierarchical clustering\n",
        "f, (ax1, ax2) = plt.subplots(1, 2, figsize=(8, 3))\n",
        "\n",
        "km = KMeans(n_clusters=2, random_state=0)\n",
        "y_km = km.fit_predict(X)\n",
        "ax1.scatter(X[y_km == 0, 0], X[y_km == 0, 1],\n",
        "            edgecolor='black',\n",
        "            c='lightblue', marker='o', s=40, label='cluster 1')\n",
        "ax1.scatter(X[y_km == 1, 0], X[y_km == 1, 1],\n",
        "            edgecolor='black',\n",
        "            c='red', marker='s', s=40, label='cluster 2')\n",
        "ax1.set_title('K-means clustering')\n",
        "\n",
        "ac = AgglomerativeClustering(n_clusters=2,\n",
        "                             affinity='euclidean',\n",
        "                             linkage='complete')\n",
        "y_ac = ac.fit_predict(X)\n",
        "ax2.scatter(X[y_ac == 0, 0], X[y_ac == 0, 1], c='lightblue',\n",
        "            edgecolor='black',\n",
        "            marker='o', s=40, label='Cluster 1')\n",
        "ax2.scatter(X[y_ac == 1, 0], X[y_ac == 1, 1], c='red',\n",
        "            edgecolor='black',\n",
        "            marker='s', s=40, label='Cluster 2')\n",
        "ax2.set_title('Agglomerative clustering')\n",
        "\n",
        "plt.legend()\n",
        "plt.tight_layout()\n",
        "plt.show()"
      ],
      "execution_count": 0,
      "outputs": [
        {
          "output_type": "display_data",
          "data": {
            "image/png": "[encoded data removed]",
            "text/plain": [
              "<Figure size 576x216 with 2 Axes>"
            ]
          },
          "metadata": {
            "tags": [],
            "needs_background": "light"
          }
        }
      ]
    },
    {
      "cell_type": "markdown",
      "metadata": {
        "id": "x0oW9HTEl-vj",
        "colab_type": "text"
      },
      "source": [
        "### Density-based clustering"
      ]
    },
    {
      "cell_type": "code",
      "metadata": {
        "id": "PMhSkOZ5l-vk",
        "colab_type": "code",
        "outputId": "2b61f939-6dcd-4a99-dc31-aa72c7ca9943",
        "colab": {
          "base_uri": "https://localhost:8080/",
          "height": 297
        }
      },
      "source": [
        "# dbscan\n",
        "db = DBSCAN(eps=0.2, min_samples=5, metric='euclidean')\n",
        "y_db = db.fit_predict(X)\n",
        "plt.scatter(X[y_db == 0, 0], X[y_db == 0, 1],\n",
        "            c='lightblue', marker='o', s=40,\n",
        "            edgecolor='black', \n",
        "            label='Cluster 1')\n",
        "plt.scatter(X[y_db == 1, 0], X[y_db == 1, 1],\n",
        "            c='red', marker='s', s=40,\n",
        "            edgecolor='black', \n",
        "            label='Cluster 2')\n",
        "plt.legend()\n",
        "plt.tight_layout()\n",
        "plt.show()"
      ],
      "execution_count": 0,
      "outputs": [
        {
          "output_type": "display_data",
          "data": {
            "image/png": "[encoded data removed]",
            "text/plain": [
              "<Figure size 432x288 with 1 Axes>"
            ]
          },
          "metadata": {
            "tags": [],
            "needs_background": "light"
          }
        }
      ]
    },
    {
      "cell_type": "markdown",
      "metadata": {
        "id": "dTLVCDGil-vl",
        "colab_type": "text"
      },
      "source": [
        "<br>\n",
        "<br>"
      ]
    },
    {
      "cell_type": "markdown",
      "metadata": {
        "id": "OEVy8syxl-vd",
        "colab_type": "text"
      },
      "source": [
        "<br>\n",
        "<br>"
      ]
    }
  ]
}