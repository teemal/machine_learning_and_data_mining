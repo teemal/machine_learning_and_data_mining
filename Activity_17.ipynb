{
  "nbformat": 4,
  "nbformat_minor": 0,
  "metadata": {
    "colab": {
      "name": "Activity 17 - Solution.ipynb",
      "provenance": [],
      "collapsed_sections": [
        "dNAMfZH2K2Fy"
      ]
    },
    "kernelspec": {
      "name": "python3",
      "display_name": "Python 3"
    }
  },
  "cells": [
    {
      "cell_type": "markdown",
      "metadata": {
        "id": "HidGm2x0i6HI",
        "colab_type": "text"
      },
      "source": [
        "# Activity 17 - Tensor Flow"
      ]
    },
    {
      "cell_type": "markdown",
      "metadata": {
        "id": "i3K5rZ0Wi5US",
        "colab_type": "text"
      },
      "source": [
        "***\n",
        "##### CS 434 - Data Mining and Machine Learning\n",
        "##### Oregon State University-Cascades\n",
        "***"
      ]
    },
    {
      "cell_type": "markdown",
      "metadata": {
        "id": "X_yiwZDOdjxO",
        "colab_type": "text"
      },
      "source": [
        "## <img src=\"https://img.icons8.com/color/32/000000/fork-lift.png\"/> Load packages"
      ]
    },
    {
      "cell_type": "code",
      "metadata": {
        "id": "XKtck-VCi0pl",
        "colab_type": "code",
        "outputId": "76053124-34ca-46f2-bc06-cf0317c6ffda",
        "colab": {
          "base_uri": "https://localhost:8080/",
          "height": 345
        }
      },
      "source": [
        "%tensorflow_version 2.x\n",
        "import tensorflow as tf\n",
        "import numpy as np\n",
        "import matplotlib.pyplot as plt\n",
        "\n",
        "# download and import the MIT 6.S191 package\n",
        "!pip install mitdeeplearning\n",
        "import mitdeeplearning as mdl"
      ],
      "execution_count": 0,
      "outputs": [
        {
          "output_type": "stream",
          "text": [
            "Collecting mitdeeplearning\n",
            "\u001b[?25l  Downloading https://files.pythonhosted.org/packages/8b/3b/b9174b68dc10832356d02a2d83a64b43a24f1762c172754407d22fc8f960/mitdeeplearning-0.1.2.tar.gz (2.1MB)\n",
            "\u001b[K     |████████████████████████████████| 2.1MB 2.8MB/s \n",
            "\u001b[?25hRequirement already satisfied: numpy in /usr/local/lib/python3.6/dist-packages (from mitdeeplearning) (1.18.4)\n",
            "Requirement already satisfied: regex in /usr/local/lib/python3.6/dist-packages (from mitdeeplearning) (2019.12.20)\n",
            "Requirement already satisfied: tqdm in /usr/local/lib/python3.6/dist-packages (from mitdeeplearning) (4.41.1)\n",
            "Requirement already satisfied: gym in /usr/local/lib/python3.6/dist-packages (from mitdeeplearning) (0.17.2)\n",
            "Requirement already satisfied: cloudpickle<1.4.0,>=1.2.0 in /usr/local/lib/python3.6/dist-packages (from gym->mitdeeplearning) (1.3.0)\n",
            "Requirement already satisfied: scipy in /usr/local/lib/python3.6/dist-packages (from gym->mitdeeplearning) (1.4.1)\n",
            "Requirement already satisfied: pyglet<=1.5.0,>=1.4.0 in /usr/local/lib/python3.6/dist-packages (from gym->mitdeeplearning) (1.5.0)\n",
            "Requirement already satisfied: future in /usr/local/lib/python3.6/dist-packages (from pyglet<=1.5.0,>=1.4.0->gym->mitdeeplearning) (0.16.0)\n",
            "Building wheels for collected packages: mitdeeplearning\n",
            "  Building wheel for mitdeeplearning (setup.py) ... \u001b[?25l\u001b[?25hdone\n",
            "  Created wheel for mitdeeplearning: filename=mitdeeplearning-0.1.2-cp36-none-any.whl size=2114586 sha256=68f1abba718c7cb1e6591ad163f3b6c05ebc00f88ce49ebf90bd562feedb8b80\n",
            "  Stored in directory: /root/.cache/pip/wheels/27/e1/73/5f01c787621d8a3c857f59876c79e304b9b64db9ff5bd61b74\n",
            "Successfully built mitdeeplearning\n",
            "Installing collected packages: mitdeeplearning\n",
            "Successfully installed mitdeeplearning-0.1.2\n"
          ],
          "name": "stdout"
        }
      ]
    },
    {
      "cell_type": "markdown",
      "metadata": {
        "id": "NliD9rnTdgXh",
        "colab_type": "text"
      },
      "source": [
        "*** \n",
        "# Exercise #1 - Tensor Warmup\n",
        "*** "
      ]
    },
    {
      "cell_type": "markdown",
      "metadata": {
        "id": "9sVy0SWieHN3",
        "colab_type": "text"
      },
      "source": [
        "##### 1.1 Build 0d tensor"
      ]
    },
    {
      "cell_type": "markdown",
      "metadata": {
        "id": "QcneMSV7zfjw",
        "colab_type": "text"
      },
      "source": [
        "TensorFlow is called 'TensorFlow' because it handles the flow (node/mathematical operation) of Tensors, which are data structures that you can think of as multi-dimensional arrays. Tensors are represented as n-dimensional arrays of base dataypes such as a string or integer -- they provide a way to generalize vectors and matrices to higher dimensions.\n",
        "\n",
        "The ```shape``` of a Tensor defines its number of dimensions and the size of each dimension. The ```rank``` of a Tensor provides the number of dimensions (n-dimensions) -- you can also think of this as the Tensor's order or degree.\n",
        "\n",
        "Let's first look at 0-d Tensors, of which a scalar is an example:"
      ]
    },
    {
      "cell_type": "code",
      "metadata": {
        "id": "L57nnTJJvZro",
        "colab_type": "code",
        "outputId": "45aca891-5017-4254-9b77-c4586fb41af3",
        "colab": {
          "base_uri": "https://localhost:8080/",
          "height": 54
        }
      },
      "source": [
        "# run this\n",
        "sport = tf.constant('Tennis', tf.string)\n",
        "number = tf.constant(1.41421356237, tf.float64)\n",
        "\n",
        "print('`sport`  is a {}-d Tensor'.format(tf.rank(sport).numpy()))\n",
        "print('`number` is a {}-d Tensor'.format(tf.rank(number).numpy()))"
      ],
      "execution_count": 0,
      "outputs": [
        {
          "output_type": "stream",
          "text": [
            "`sport`  is a 0-d Tensor\n",
            "`number` is a 0-d Tensor\n"
          ],
          "name": "stdout"
        }
      ]
    },
    {
      "cell_type": "markdown",
      "metadata": {
        "id": "tirwVbHYebMX",
        "colab_type": "text"
      },
      "source": [
        "##### 1.2 Build 1d tensor"
      ]
    },
    {
      "cell_type": "markdown",
      "metadata": {
        "id": "-__pitCFzjSN",
        "colab_type": "text"
      },
      "source": [
        "Vectors and lists can be used to create 1-d Tensors:"
      ]
    },
    {
      "cell_type": "code",
      "metadata": {
        "id": "XS7HAsrfveo5",
        "colab_type": "code",
        "outputId": "87ab6b7f-b60a-45a5-84b8-f938ef54be40",
        "colab": {
          "base_uri": "https://localhost:8080/",
          "height": 54
        }
      },
      "source": [
        "# run this\n",
        "sports = tf.constant(['Tennis', 'Basketball'], tf.string)\n",
        "numbers = tf.constant([3.141592, 1.414213, 2.71821], tf.float64)\n",
        "\n",
        "print('`sports`  is a {}-d Tensor with shape: {}'.format(tf.rank(sports).numpy(), tf.shape(sports)))\n",
        "print('`numbers` is a {}-d Tensor with shape: {}'.format(tf.rank(numbers).numpy(), tf.shape(numbers)))"
      ],
      "execution_count": 0,
      "outputs": [
        {
          "output_type": "stream",
          "text": [
            "`sports`  is a 1-d Tensor with shape: [2]\n",
            "`numbers` is a 1-d Tensor with shape: [3]\n"
          ],
          "name": "stdout"
        }
      ]
    },
    {
      "cell_type": "markdown",
      "metadata": {
        "id": "21pyQHxZveQD",
        "colab_type": "text"
      },
      "source": [
        "##### 1.3 Build 2D tensor"
      ]
    },
    {
      "cell_type": "markdown",
      "metadata": {
        "id": "ksOur_idwKTG",
        "colab_type": "text"
      },
      "source": [
        "Count 1 to 10 as a 2D tensor.\n",
        "\n",
        "> The shape will be 2x5 (one row with values 1..5, another row with 6..10)"
      ]
    },
    {
      "cell_type": "code",
      "metadata": {
        "id": "RDNbM-0YemBL",
        "colab_type": "code",
        "colab": {}
      },
      "source": [
        "'''TODO: Define a 2-d Tensor'''\n",
        "matrix = tf.constant([[1.0, 2.0, 3.0, 4.0, 5.0], [6.0, 7.0, 8.0, 9.0, 10.0]]) # TODO\n",
        "#matrix = # TODO"
      ],
      "execution_count": 0,
      "outputs": []
    },
    {
      "cell_type": "markdown",
      "metadata": {
        "id": "-dwg9-zg0KLX",
        "colab_type": "text"
      },
      "source": [
        "##### 1.5 Examine shape"
      ]
    },
    {
      "cell_type": "markdown",
      "metadata": {
        "id": "ptR_rJFi0ZTl",
        "colab_type": "text"
      },
      "source": [
        "Let's extract example vectors and values to understand how to access the tensor."
      ]
    },
    {
      "cell_type": "code",
      "metadata": {
        "id": "ScjHgmuZ0H5m",
        "colab_type": "code",
        "outputId": "51e16fb7-6150-430d-9769-b46009703104",
        "colab": {
          "base_uri": "https://localhost:8080/",
          "height": 72
        }
      },
      "source": [
        "# run this\n",
        "row_vector = matrix[1]\n",
        "column_vector = matrix[:,2]\n",
        "scalar = matrix[1, 2]\n",
        "\n",
        "print('`row_vector`: {}'.format(row_vector.numpy()))\n",
        "print('`column_vector`: {}'.format(column_vector.numpy()))\n",
        "print('`scalar`: {}'.format(scalar.numpy()))"
      ],
      "execution_count": 0,
      "outputs": [
        {
          "output_type": "stream",
          "text": [
            "`row_vector`: [ 6.  7.  8.  9. 10.]\n",
            "`column_vector`: [3. 8.]\n",
            "`scalar`: 8.0\n"
          ],
          "name": "stdout"
        }
      ]
    },
    {
      "cell_type": "markdown",
      "metadata": {
        "id": "CCVYYqpmw8B7",
        "colab_type": "text"
      },
      "source": [
        "###### Self Check"
      ]
    },
    {
      "cell_type": "code",
      "metadata": {
        "id": "bTy_XejOw8fJ",
        "colab_type": "code",
        "colab": {}
      },
      "source": [
        "assert isinstance(matrix, tf.Tensor), 'matrix must be a tf Tensor object'\n",
        "assert tf.rank(matrix).numpy() == 2"
      ],
      "execution_count": 0,
      "outputs": []
    },
    {
      "cell_type": "markdown",
      "metadata": {
        "id": "h79TK5_HwEFf",
        "colab_type": "text"
      },
      "source": [
        "##### 1.6 Build 4D tensor"
      ]
    },
    {
      "cell_type": "markdown",
      "metadata": {
        "id": "kULvBvT8zo7f",
        "colab_type": "text"
      },
      "source": [
        "Next we create a higher-rank Tensor. For examples, in tasks involving image processing and computer vision, we would use 4-d Tensors. Here the dimensions correspond to the number of example images in our batch, image height, image width, and the number of color channels."
      ]
    },
    {
      "cell_type": "markdown",
      "metadata": {
        "id": "whQrNBiEq-D-",
        "colab_type": "text"
      },
      "source": [
        "Use `tf.zeros` to initialize a 4-d Tensor of zeros with size 10 x 256 x 256 x 3. \n",
        "\n",
        "You can think of this as 10 images where each image is RGB 256 x 256."
      ]
    },
    {
      "cell_type": "code",
      "metadata": {
        "id": "QqR9Zo5bq8LU",
        "colab_type": "code",
        "outputId": "2ac1ad04-51a0-4dbe-903d-7a4b626a09f5",
        "colab": {
          "base_uri": "https://localhost:8080/",
          "height": 35
        }
      },
      "source": [
        "'''TODO: Define a 4-d Tensor.'''\n",
        "images = tf.zeros([10, 256, 256, 3]) # TODO\n",
        "# images = # TODO\n",
        "images.shape"
      ],
      "execution_count": 0,
      "outputs": [
        {
          "output_type": "execute_result",
          "data": {
            "text/plain": [
              "TensorShape([10, 256, 256, 3])"
            ]
          },
          "metadata": {
            "tags": []
          },
          "execution_count": 7
        }
      ]
    },
    {
      "cell_type": "markdown",
      "metadata": {
        "id": "eUoc6gWZw5W6",
        "colab_type": "text"
      },
      "source": [
        "###### Self Check"
      ]
    },
    {
      "cell_type": "code",
      "metadata": {
        "id": "0h1sPF-kw4EH",
        "colab_type": "code",
        "colab": {}
      },
      "source": [
        "assert isinstance(images, tf.Tensor), \"matrix must be a tf Tensor object\"\n",
        "assert tf.rank(images).numpy() == 4, \"matrix must be of rank 4\"\n",
        "assert tf.shape(images).numpy().tolist() == [10, 256, 256, 3], \"matrix is incorrect shape\""
      ],
      "execution_count": 0,
      "outputs": []
    },
    {
      "cell_type": "markdown",
      "metadata": {
        "id": "30JocsnYxLKV",
        "colab_type": "text"
      },
      "source": [
        "*** \n",
        "# Exercise #2 - Tensor Operations\n",
        "*** "
      ]
    },
    {
      "cell_type": "markdown",
      "metadata": {
        "id": "_A69J-uAxQ4g",
        "colab_type": "text"
      },
      "source": [
        "A convenient way to think about and visualize computations in TensorFlow is in terms of graphs. We can define this graph in terms of Tensors, which hold data, and the mathematical operations that act on these Tensors in some order. Let's look at a simple example, and define this computation using TensorFlow:\n",
        "\n",
        "![alt text](https://raw.githubusercontent.com/aamini/introtodeeplearning/master/lab1/img/add-graph.png)"
      ]
    },
    {
      "cell_type": "markdown",
      "metadata": {
        "id": "zM9bmsnwxTm1",
        "colab_type": "text"
      },
      "source": [
        "##### 2.1 Adding Tensors"
      ]
    },
    {
      "cell_type": "code",
      "metadata": {
        "id": "vZMKATymxYdJ",
        "colab_type": "code",
        "outputId": "028a7808-0e19-4011-a0a2-5e52fe4e5699",
        "colab": {
          "base_uri": "https://localhost:8080/",
          "height": 54
        }
      },
      "source": [
        "# Create the nodes in the graph, and initialize values\n",
        "a = tf.constant(30)\n",
        "b = tf.constant(404)\n",
        "\n",
        "# Add them!\n",
        "#c1 = # TODO, use function add\n",
        "\n",
        "# TensorFlow overrides the \"+\" operation so that it is able to act on Tensors\n",
        "#c2 = # TODO, use `+` op\n",
        "\n",
        "c1 = tf.add(a,b)\n",
        "c2 = a + b \n",
        "print(c1)\n",
        "print(c2)"
      ],
      "execution_count": 0,
      "outputs": [
        {
          "output_type": "stream",
          "text": [
            "tf.Tensor(434, shape=(), dtype=int32)\n",
            "tf.Tensor(434, shape=(), dtype=int32)\n"
          ],
          "name": "stdout"
        }
      ]
    },
    {
      "cell_type": "markdown",
      "metadata": {
        "id": "dvMVSUBRAO1d",
        "colab_type": "text"
      },
      "source": [
        "##### 2.2 Another example"
      ]
    },
    {
      "cell_type": "markdown",
      "metadata": {
        "id": "pMLg1aw3AOcJ",
        "colab_type": "text"
      },
      "source": [
        "Notice how we've created a computation graph consisting of TensorFlow operations, and how  the output is a Tensor with value 76 -- we've just created a computation graph consisting of operations, and it's executed them and given us back the result.\n",
        "\n",
        "Now let's consider a slightly more complicated example:\n",
        "\n",
        "![alt text](https://raw.githubusercontent.com/aamini/introtodeeplearning/master/lab1/img/computation-graph.png)\n",
        "\n",
        "Here, we take two inputs, `a, b`, and compute an output `e`. Each node in the graph represents an operation that takes some input, does some computation, and passes its output to another node."
      ]
    },
    {
      "cell_type": "markdown",
      "metadata": {
        "id": "2uAiCaZryU3l",
        "colab_type": "text"
      },
      "source": [
        "##### 2.3 More mathematical operations"
      ]
    },
    {
      "cell_type": "markdown",
      "metadata": {
        "id": "C0GQqbf7yS03",
        "colab_type": "text"
      },
      "source": [
        "\n",
        "\n",
        "Let's define a simple function in TensorFlow to construct this computation function:"
      ]
    },
    {
      "cell_type": "code",
      "metadata": {
        "id": "hGvJIurdydG5",
        "colab_type": "code",
        "colab": {}
      },
      "source": [
        "### Defining Tensor computations ###\n",
        "\n",
        "# Construct a simple computation function\n",
        "def func(a,b):\n",
        "  '''TODO: Define the operation for c, d, e (use tf.add, tf.subtract, tf.multiply).'''\n",
        "  c = tf.add(a, b)\n",
        "  # c = # TODO\n",
        "  d = tf.subtract(b, 1)\n",
        "  # d = # TODO\n",
        "  e = tf.multiply(c, d)\n",
        "  # e = # TODO\n",
        "  return e"
      ],
      "execution_count": 0,
      "outputs": []
    },
    {
      "cell_type": "markdown",
      "metadata": {
        "id": "5SUgAD89yiN7",
        "colab_type": "text"
      },
      "source": [
        "Now, we can call this function to execute the computation graph given some inputs `a,b`:"
      ]
    },
    {
      "cell_type": "code",
      "metadata": {
        "id": "-Fpb1l8jygcS",
        "colab_type": "code",
        "outputId": "589fc70e-6473-4c8c-9e4f-803546470355",
        "colab": {
          "base_uri": "https://localhost:8080/",
          "height": 35
        }
      },
      "source": [
        "# Consider example values for a,b\n",
        "a, b = 1.5, 2.5\n",
        "# Execute the computation\n",
        "e_out = func(a,b)\n",
        "print(e_out)"
      ],
      "execution_count": 0,
      "outputs": [
        {
          "output_type": "stream",
          "text": [
            "tf.Tensor(6.0, shape=(), dtype=float32)\n"
          ],
          "name": "stdout"
        }
      ]
    },
    {
      "cell_type": "markdown",
      "metadata": {
        "id": "goKrGdniAKP2",
        "colab_type": "text"
      },
      "source": [
        "##### 2.4 Keras API"
      ]
    },
    {
      "cell_type": "markdown",
      "metadata": {
        "id": "gFA0xdVT1GzK",
        "colab_type": "text"
      },
      "source": [
        "We can also define neural networks in TensorFlow. TensorFlow uses a high-level API called [Keras](https://www.tensorflow.org/guide/keras) that provides a powerful, intuitive framework for building and training deep learning models.\n",
        "\n",
        "Let's first consider the example of a simple perceptron defined by just one dense layer: $ y = \\sigma(Wx + b)$, where $W$ represents a matrix of weights, $b$ is a bias, $x$ is the input, $\\sigma$ is the sigmoid activation function, and $y$ is the output. We can also visualize this operation using a graph: \n",
        "\n"
      ]
    },
    {
      "cell_type": "markdown",
      "metadata": {
        "id": "HvFpZs7R_3c8",
        "colab_type": "text"
      },
      "source": [
        "![alt text](https://raw.githubusercontent.com/aamini/introtodeeplearning/master/lab1/img/computation-graph-2.png)"
      ]
    },
    {
      "cell_type": "markdown",
      "metadata": {
        "id": "Y9jnTx_s_hvB",
        "colab_type": "text"
      },
      "source": [
        "##### 2.5 Define a network Layer"
      ]
    },
    {
      "cell_type": "markdown",
      "metadata": {
        "id": "zxhw946h_0iy",
        "colab_type": "text"
      },
      "source": [
        "Tensors can flow through abstract types called [```Layers```](https://www.tensorflow.org/api_docs/python/tf/keras/layers/Layer) -- the building blocks of neural networks. ```Layers``` implement common neural networks operations, and are used to update weights, compute losses, and define inter-layer connectivity. We will first define a ```Layer``` to implement the simple perceptron defined above."
      ]
    },
    {
      "cell_type": "code",
      "metadata": {
        "id": "MDPfTQMi1GdB",
        "colab_type": "code",
        "outputId": "002e8d7d-031e-4c49-a8b8-088b65e64b4d",
        "colab": {
          "base_uri": "https://localhost:8080/",
          "height": 72
        }
      },
      "source": [
        "### Defining a network Layer ###\n",
        "\n",
        "# n_output_nodes: number of output nodes\n",
        "# input_shape: shape of the input\n",
        "# x: input to the layer\n",
        "\n",
        "class OurDenseLayer(tf.keras.layers.Layer):\n",
        "  def __init__(self, n_output_nodes):\n",
        "    super(OurDenseLayer, self).__init__()\n",
        "    self.n_output_nodes = n_output_nodes\n",
        "\n",
        "  def build(self, input_shape):\n",
        "    d = int(input_shape[-1])\n",
        "    # Define and initialize parameters: a weight matrix W and bias b\n",
        "    # Note that parameter initialization is random!\n",
        "    self.W = self.add_weight(\"weight\", shape=[d, self.n_output_nodes]) # note the dimensionality\n",
        "    self.b = self.add_weight(\"bias\", shape=[1, self.n_output_nodes]) # note the dimensionality\n",
        "\n",
        "  def call(self, x):\n",
        "    '''TODO: define the operation for z (hint: use tf.matmul)'''\n",
        "    z = tf.matmul(x, self.W) + self.b # TODO\n",
        "    # z = # TODO\n",
        "\n",
        "    '''TODO: define the operation for out (hint: use tf.sigmoid)'''\n",
        "    y = tf.sigmoid(z) # TODO\n",
        "    # y = # TODO\n",
        "    return y\n",
        "\n",
        "# Since layer parameters are initialized randomly, we will set a random seed for reproducibility\n",
        "tf.random.set_seed(1)\n",
        "layer = OurDenseLayer(3)\n",
        "layer.build((1,2))\n",
        "x_input = tf.constant([[1,2.]], shape=(1,2))\n",
        "y = layer.call(x_input)\n",
        "\n",
        "# test the output!\n",
        "print(y.numpy())\n",
        "mdl.lab1.test_custom_dense_layer_output(y)"
      ],
      "execution_count": 0,
      "outputs": [
        {
          "output_type": "stream",
          "text": [
            "[[0.2697859  0.45750418 0.66536945]]\n",
            "[PASS] test_custom_dense_layer_output\n"
          ],
          "name": "stdout"
        },
        {
          "output_type": "execute_result",
          "data": {
            "text/plain": [
              "True"
            ]
          },
          "metadata": {
            "tags": []
          },
          "execution_count": 12
        }
      ]
    },
    {
      "cell_type": "markdown",
      "metadata": {
        "id": "t7SRaFXL06aw",
        "colab_type": "text"
      },
      "source": [
        "*** \n",
        "# Exercise #3 - Neural networks in TensorFlow\n",
        "*** "
      ]
    },
    {
      "cell_type": "markdown",
      "metadata": {
        "id": "YS0cHxTS03Xz",
        "colab_type": "text"
      },
      "source": [
        "##### 3.1 Define a `Sequential` model"
      ]
    },
    {
      "cell_type": "markdown",
      "metadata": {
        "id": "MPT7MR-X1i6-",
        "colab_type": "text"
      },
      "source": [
        "Conveniently, TensorFlow has defined a number of ```Layers``` that are commonly used in neural networks, for example a [```Dense```](https://www.tensorflow.org/api_docs/python/tf/keras/layers/Dense?version=stable). Now, instead of using a single ```Layer``` to define our simple neural network, we'll use the  [`Sequential`](https://www.tensorflow.org/versions/r2.0/api_docs/python/tf/keras/Sequential) model from Keras and a single [`Dense` ](https://www.tensorflow.org/versions/r2.0/api_docs/python/tf/keras/layers/Dense) layer to define our network. With the `Sequential` API, you can readily create neural networks by stacking together layers like building blocks. "
      ]
    },
    {
      "cell_type": "markdown",
      "metadata": {
        "id": "oeltdf4ogQNK",
        "colab_type": "text"
      },
      "source": [
        "> Use `'sigmoid'` for your activation"
      ]
    },
    {
      "cell_type": "code",
      "metadata": {
        "id": "MaG-anFh1lFF",
        "colab_type": "code",
        "colab": {}
      },
      "source": [
        "### Defining a neural network using the Sequential API ###\n",
        "\n",
        "# Import relevant packages\n",
        "from tensorflow.keras import Sequential\n",
        "from tensorflow.keras.layers import Dense\n",
        "\n",
        "# Define the number of outputs\n",
        "n_output_nodes = 3\n",
        "\n",
        "# First define the model \n",
        "model = Sequential()\n",
        "\n",
        "'''TODO: Define a dense (fully connected) layer to compute z'''\n",
        "# Remember: dense layers are defined by the parameters W and b!\n",
        "# You can read more about the initialization of W and b in the TF documentation :) \n",
        "# https://www.tensorflow.org/api_docs/python/tf/keras/layers/Dense?version=stable\n",
        "dense_layer = Dense(n_output_nodes, activation='sigmoid') # TODO\n",
        "# dense_layer = # TODO\n",
        "\n",
        "# Add the dense layer to the model\n",
        "model.add(dense_layer)\n"
      ],
      "execution_count": 0,
      "outputs": []
    },
    {
      "cell_type": "markdown",
      "metadata": {
        "id": "3V0HFz_v99jG",
        "colab_type": "text"
      },
      "source": [
        "##### 3.2 Define a `Sequential` model"
      ]
    },
    {
      "cell_type": "markdown",
      "metadata": {
        "id": "leGMEKXW9507",
        "colab_type": "text"
      },
      "source": [
        "That's it! We've defined our model using the Sequential API. Now, we can test it out using an example input:"
      ]
    },
    {
      "cell_type": "code",
      "metadata": {
        "id": "9xl9pKyq95Qr",
        "colab_type": "code",
        "outputId": "3a96ebf2-312e-4559-941d-99a33141ca88",
        "colab": {
          "base_uri": "https://localhost:8080/",
          "height": 35
        }
      },
      "source": [
        "# Test model with example input\n",
        "x_input = tf.constant([[1,2.]], shape=(1,2))\n",
        "\n",
        "'''TODO: feed input into the model and predict the output!'''\n",
        "model_output = model(x_input).numpy()\n",
        "# model_output = # TODO\n",
        "print(model_output)"
      ],
      "execution_count": 0,
      "outputs": [
        {
          "output_type": "stream",
          "text": [
            "[[0.5607363 0.6566898 0.1249697]]\n"
          ],
          "name": "stdout"
        }
      ]
    },
    {
      "cell_type": "markdown",
      "metadata": {
        "id": "b43-ApG8-OkB",
        "colab_type": "text"
      },
      "source": [
        "##### 3.3 Subclass a model"
      ]
    },
    {
      "cell_type": "markdown",
      "metadata": {
        "id": "nmSqygiN-M__",
        "colab_type": "text"
      },
      "source": [
        "In addition to defining models using the `Sequential` API, we can also define neural networks by directly subclassing the [`Model`](https://https://www.tensorflow.org/api_docs/python/tf/keras/Model?version=stable) class, which groups layers together to enable model training and inference. The `Model` class captures what we refer to as a \"model\" or as a \"network\". Using Subclassing, we can create a class for our model, and then define the forward pass through the network using the `call` function. Subclassing affords the flexibility to define custom layers, custom training loops, custom activation functions, and custom models. Let's define the same neural network as above now using Subclassing rather than the `Sequential` model."
      ]
    },
    {
      "cell_type": "code",
      "metadata": {
        "id": "PIhNC7BG-SBz",
        "colab_type": "code",
        "colab": {}
      },
      "source": [
        "### Defining a model using subclassing ###\n",
        "\n",
        "from tensorflow.keras import Model\n",
        "from tensorflow.keras.layers import Dense\n",
        "\n",
        "class SubclassModel(tf.keras.Model):\n",
        "\n",
        "  # In __init__, we define the Model's layers\n",
        "  def __init__(self, n_output_nodes):\n",
        "    super(SubclassModel, self).__init__()\n",
        "    '''TODO: Our model consists of a single Dense layer. Define this layer.''' \n",
        "    self.dense_layer = Dense(n_output_nodes, activation='sigmoid') # TODO\n",
        "    # self.dense_layer = '''TODO: Dense Layer'''\n",
        "\n",
        "  # In the call function, we define the Model's forward pass.\n",
        "  def call(self, inputs):\n",
        "    return self.dense_layer(inputs)"
      ],
      "execution_count": 0,
      "outputs": []
    },
    {
      "cell_type": "markdown",
      "metadata": {
        "id": "77DiozR3_GG7",
        "colab_type": "text"
      },
      "source": [
        "Just like the model we built using the `Sequential` API, let's test out our `SubclassModel` using an example input.\n"
      ]
    },
    {
      "cell_type": "code",
      "metadata": {
        "id": "JZ_XunI9_Jvy",
        "colab_type": "code",
        "outputId": "1f904f8b-f5cf-4731-a07c-a83724f57803",
        "colab": {
          "base_uri": "https://localhost:8080/",
          "height": 35
        }
      },
      "source": [
        "# run this\n",
        "n_output_nodes = 3\n",
        "model = SubclassModel(n_output_nodes)\n",
        "\n",
        "x_input = tf.constant([[1,2.]], shape=(1,2))\n",
        "\n",
        "print(model.call(x_input))"
      ],
      "execution_count": 0,
      "outputs": [
        {
          "output_type": "stream",
          "text": [
            "tf.Tensor([[0.6504887  0.47828162 0.8373661 ]], shape=(1, 3), dtype=float32)\n"
          ],
          "name": "stdout"
        }
      ]
    },
    {
      "cell_type": "markdown",
      "metadata": {
        "id": "VH4zkx4Y_A28",
        "colab_type": "text"
      },
      "source": [
        "##### 3.4 Custom behavior\n"
      ]
    },
    {
      "cell_type": "markdown",
      "metadata": {
        "id": "FB6kucsC_O4x",
        "colab_type": "text"
      },
      "source": [
        "Importantly, Subclassing affords us a lot of flexibility to define custom models. For example, we can use boolean arguments in the `call` function to specify different network behaviors, for example different behaviors during training and inference. Let's suppose under some instances we want our network to simply output the input, without any perturbation. We define a boolean argument `isidentity` to control this behavior:"
      ]
    },
    {
      "cell_type": "code",
      "metadata": {
        "id": "L0rdpE5C_Q5G",
        "colab_type": "code",
        "colab": {}
      },
      "source": [
        "### Defining a model using subclassing and specifying custom behavior ###\n",
        "\n",
        "from tensorflow.keras import Model\n",
        "from tensorflow.keras.layers import Dense\n",
        "\n",
        "class IdentityModel(tf.keras.Model):\n",
        "\n",
        "  # As before, in __init__ we define the Model's layers\n",
        "  # Since our desired behavior involves the forward pass, this part is unchanged\n",
        "  def __init__(self, n_output_nodes):\n",
        "    super(IdentityModel, self).__init__()\n",
        "    self.dense_layer = tf.keras.layers.Dense(n_output_nodes, activation='sigmoid')\n",
        "\n",
        "  '''TODO: Implement the behavior where the network outputs the input, unchanged, under control of the isidentity argument.'''\n",
        "  def call(self, inputs, isidentity=False):\n",
        "    x = self.dense_layer(inputs)\n",
        "    if isidentity: # TODO\n",
        "      return inputs # TODO\n",
        "    return x\n",
        "  \n",
        "  # def call(self, inputs, isidentity=False):\n",
        "    # TODO"
      ],
      "execution_count": 0,
      "outputs": []
    },
    {
      "cell_type": "markdown",
      "metadata": {
        "id": "iKMkeBZGIBOI",
        "colab_type": "text"
      },
      "source": [
        "##### 3.5 Test `isidentity`"
      ]
    },
    {
      "cell_type": "markdown",
      "metadata": {
        "id": "H32fGeCi_UZR",
        "colab_type": "text"
      },
      "source": [
        "Let's test this behavior:"
      ]
    },
    {
      "cell_type": "code",
      "metadata": {
        "id": "YKfm9Igt_WYB",
        "colab_type": "code",
        "outputId": "172470a9-ed7b-4950-ca16-6a6cce6614d6",
        "colab": {
          "base_uri": "https://localhost:8080/",
          "height": 35
        }
      },
      "source": [
        "n_output_nodes = 3\n",
        "model = IdentityModel(n_output_nodes)\n",
        "\n",
        "x_input = tf.constant([[1,2.]], shape=(1,2))\n",
        "'''TODO: pass the input into the model and call with and without the input identity option.'''\n",
        "out_activate = model.call(x_input) # TODO\n",
        "# out_activate = # TODO\n",
        "out_identity = model.call(x_input, isidentity=True) # TODO\n",
        "# out_identity = # TODO\n",
        "\n",
        "print(\"Network output with activation: {}; network identity output: {}\".format(out_activate.numpy(), out_identity.numpy()))"
      ],
      "execution_count": 0,
      "outputs": [
        {
          "output_type": "stream",
          "text": [
            "Network output with activation: [[0.07460447 0.7405642  0.70203817]]; network identity output: [[1. 2.]]\n"
          ],
          "name": "stdout"
        }
      ]
    },
    {
      "cell_type": "markdown",
      "metadata": {
        "id": "p0j2wTnh_ZVN",
        "colab_type": "text"
      },
      "source": [
        "Now that we have learned how to define `Layers` as well as neural networks in TensorFlow using both the `Sequential` and Subclassing APIs, we're ready to turn our attention to how to actually implement network training with backpropagation."
      ]
    },
    {
      "cell_type": "markdown",
      "metadata": {
        "id": "qivBQ_Y8Ir9Q",
        "colab_type": "text"
      },
      "source": [
        "*** \n",
        "# Exercise #4 - Automatic differentiation in TensorFlow\n",
        "*** "
      ]
    },
    {
      "cell_type": "markdown",
      "metadata": {
        "id": "ifehjTEDBOrT",
        "colab_type": "text"
      },
      "source": [
        "##### 4.1 Automatic differentiation"
      ]
    },
    {
      "cell_type": "markdown",
      "metadata": {
        "id": "wxFdAzBvIyTr",
        "colab_type": "text"
      },
      "source": [
        "[Automatic differentiation](https://en.wikipedia.org/wiki/Automatic_differentiation)\n",
        "is one of the most important parts of TensorFlow and is the backbone of training with \n",
        "[backpropagation](https://en.wikipedia.org/wiki/Backpropagation). We will use the TensorFlow GradientTape [`tf.GradientTape`](https://www.tensorflow.org/api_docs/python/tf/GradientTape?version=stable) to trace operations for computing gradients later. \n",
        "\n",
        "When a forward pass is made through the network, all forward-pass operations get recorded to a \"tape\"; then, to compute the gradient, the tape is played backwards. By default, the tape is discarded after it is played backwards; this means that a particular `tf.GradientTape` can only\n",
        "compute one gradient, and subsequent calls throw a runtime error. However, we can compute multiple gradients over the same computation by creating a ```persistent``` gradient tape. \n",
        "\n",
        "First, we will look at how we can compute gradients using GradientTape and access them for computation. We define the simple function $ y = x^2$ and compute the gradient:"
      ]
    },
    {
      "cell_type": "markdown",
      "metadata": {
        "id": "pOfmX7AGBUfI",
        "colab_type": "text"
      },
      "source": [
        "##### 4.2 Gradient Tape"
      ]
    },
    {
      "cell_type": "code",
      "metadata": {
        "id": "Pm4MaVLmI0qk",
        "colab_type": "code",
        "colab": {}
      },
      "source": [
        "### Gradient computation with GradientTape ###\n",
        "\n",
        "# y = x^2\n",
        "# Example: x = 3.0\n",
        "x = tf.Variable(3.0)\n",
        "\n",
        "# Initiate the gradient tape\n",
        "with tf.GradientTape() as tape:\n",
        "  # Define the function\n",
        "  y = x * x\n",
        "# Access the gradient -- derivative of y with respect to x\n",
        "dy_dx = tape.gradient(y, x)\n",
        "\n",
        "assert dy_dx.numpy() == 6.0"
      ],
      "execution_count": 0,
      "outputs": []
    },
    {
      "cell_type": "markdown",
      "metadata": {
        "id": "L_sHwGixBhVv",
        "colab_type": "text"
      },
      "source": [
        "##### 4.3 Stochastic gradient descent"
      ]
    },
    {
      "cell_type": "markdown",
      "metadata": {
        "id": "3r2hreCYI3fA",
        "colab_type": "text"
      },
      "source": [
        "In training neural networks, we use differentiation and stochastic gradient descent (SGD) to optimize a loss function. Now that we have a sense of how `GradientTape` can be used to compute and access derivatives, we will look at an example where we use automatic differentiation and SGD to find the minimum of $L=(x-x_f)^2$. Here $x_f$ is a variable for a desired value we are trying to optimize for; $L$ represents a loss that we are trying to  minimize. While we can clearly solve this problem analytically ($x_{min}=x_f$), considering how we can compute this using `GradientTape` sets us up nicely for future labs where we use gradient descent to optimize entire neural network losses."
      ]
    },
    {
      "cell_type": "markdown",
      "metadata": {
        "id": "5W286nGiDAv-",
        "colab_type": "text"
      },
      "source": [
        "##### 4.4 Define loss function $L=(x-x_f)^2$"
      ]
    },
    {
      "cell_type": "code",
      "metadata": {
        "id": "DP5P9OZyJAW-",
        "colab_type": "code",
        "outputId": "3200897a-8205-4393-e4ed-82296a0aa465",
        "colab": {
          "base_uri": "https://localhost:8080/",
          "height": 35
        }
      },
      "source": [
        "### Function minimization with automatic differentiation and SGD ###\n",
        "\n",
        "# Initialize a random value for our initial x\n",
        "x = tf.Variable([tf.random.normal([1])])\n",
        "print(\"Initializing x={}\".format(x.numpy()))\n",
        "\n",
        "learning_rate = 1e-2 # learning rate for SGD\n",
        "history = []\n",
        "# Define the target value\n",
        "x_f = 4\n",
        "\n",
        "# We will run SGD for a number of iterations. At each iteration, we compute the loss, \n",
        "#   compute the derivative of the loss with respect to x, and perform the SGD update.\n",
        "for i in range(500):\n",
        "  with tf.GradientTape() as tape:\n",
        "    '''TODO: define the loss as described above'''\n",
        "    loss = (x - x_f)**2 # \"forward pass\": record the current loss on the tape\n",
        "    # loss = # TODO\n",
        "\n",
        "  # loss minimization using gradient tape\n",
        "  grad = tape.gradient(loss, x) # compute the derivative of the loss with respect to x\n",
        "  new_x = x - learning_rate*grad # sgd update\n",
        "  x.assign(new_x) # update the value of x\n",
        "  history.append(x.numpy()[0])"
      ],
      "execution_count": 0,
      "outputs": [
        {
          "output_type": "stream",
          "text": [
            "Initializing x=[[-1.1771783]]\n"
          ],
          "name": "stdout"
        }
      ]
    },
    {
      "cell_type": "markdown",
      "metadata": {
        "id": "JHA2gCeLCl4C",
        "colab_type": "text"
      },
      "source": [
        "##### 4.5 Plot optimization"
      ]
    },
    {
      "cell_type": "code",
      "metadata": {
        "id": "sMA7e8DeCseD",
        "colab_type": "code",
        "outputId": "7b3b90b5-1eeb-49a0-fb1c-4bb8fb1c0072",
        "colab": {
          "base_uri": "https://localhost:8080/",
          "height": 279
        }
      },
      "source": [
        "# Plot the evolution of x as we optimize towards x_f!\n",
        "plt.plot(history)\n",
        "plt.plot([0, 500],[x_f,x_f])\n",
        "plt.legend(('Predicted', 'True'))\n",
        "plt.xlabel('Iteration')\n",
        "plt.ylabel('x value')\n",
        "plt.show()"
      ],
      "execution_count": 0,
      "outputs": [
        {
          "output_type": "display_data",
          "data": {
            "image/png": "[encoded data removed]",
            "text/plain": [
              "<Figure size 432x288 with 1 Axes>"
            ]
          },
          "metadata": {
            "tags": [],
            "needs_background": "light"
          }
        }
      ]
    },
    {
      "cell_type": "markdown",
      "metadata": {
        "id": "dmWeY2pvJEAO",
        "colab_type": "text"
      },
      "source": [
        "`GradientTape` provides an extremely flexible framework for automatic differentiation. In order to back propagate errors through a neural network, we track forward passes on the Tape, use this information to determine the gradients, and then use these gradients for optimization using SGD."
      ]
    },
    {
      "cell_type": "markdown",
      "metadata": {
        "id": "dNAMfZH2K2Fy",
        "colab_type": "text"
      },
      "source": [
        "###### Copyright"
      ]
    },
    {
      "cell_type": "markdown",
      "metadata": {
        "id": "21FcMjAkK0uQ",
        "colab_type": "text"
      },
      "source": [
        "Adapted from:\n",
        "```\n",
        "© MIT 6.S191: Introduction to Deep Learning\n",
        "http://introtodeeplearning.com\n",
        "```"
      ]
    }
  ]
}