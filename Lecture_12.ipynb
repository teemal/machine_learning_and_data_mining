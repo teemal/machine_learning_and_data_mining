{
  "nbformat": 4,
  "nbformat_minor": 0,
  "metadata": {
    "colab": {
      "name": "Lecture 12.ipynb",
      "provenance": [],
      "collapsed_sections": []
    },
    "kernelspec": {
      "name": "python3",
      "display_name": "Python 3"
    }
  },
  "cells": [
    {
      "cell_type": "markdown",
      "metadata": {
        "id": "v-I2GxKCqsth",
        "colab_type": "text"
      },
      "source": [
        "\n",
        "# Lecture 12 - Bagging and Boosting"
      ]
    },
    {
      "cell_type": "markdown",
      "metadata": {
        "id": "BQwsCnBkqq-D",
        "colab_type": "text"
      },
      "source": [
        "***\n",
        "##### CS 434 - Data Mining and Machine Learning\n",
        "##### Oregon State University-Cascades\n",
        "***"
      ]
    },
    {
      "cell_type": "markdown",
      "metadata": {
        "id": "xC7IRgAqk9f0",
        "colab_type": "text"
      },
      "source": [
        "## <img src=\"https://img.icons8.com/color/32/000000/fork-lift.png\"/> Loading packages"
      ]
    },
    {
      "cell_type": "code",
      "metadata": {
        "id": "L39PyZWlk6XP",
        "colab_type": "code",
        "outputId": "5cc768f9-fb5f-464d-aea3-ff251daa447f",
        "colab": {
          "base_uri": "https://localhost:8080/",
          "height": 235
        }
      },
      "source": [
        "!pip install vecstack\n",
        "import numpy as np\n",
        "import pandas as pd\n",
        "import matplotlib.pyplot as plt\n",
        "from sklearn.preprocessing import LabelEncoder\n",
        "from sklearn.model_selection import train_test_split\n",
        "from sklearn.tree import DecisionTreeClassifier\n",
        "from sklearn.ensemble import BaggingClassifier\n",
        "from sklearn.ensemble import AdaBoostClassifier\n",
        "from sklearn.ensemble import BaggingClassifier, ExtraTreesClassifier, RandomForestClassifier\n",
        "from sklearn.neighbors import KNeighborsClassifier\n",
        "from sklearn.linear_model import RidgeClassifier\n",
        "from xgboost import XGBClassifier\n",
        "from vecstack import stacking\n",
        "from sklearn.svm import SVC\n",
        "from sklearn.model_selection import cross_val_score\n",
        "from sklearn.metrics import accuracy_score"
      ],
      "execution_count": 0,
      "outputs": [
        {
          "output_type": "stream",
          "text": [
            "Collecting vecstack\n",
            "  Downloading https://files.pythonhosted.org/packages/d0/a1/b9a1e9e9e5a12078da1ab9788c7885e4c745358f7e57d5f94d9db6a4e898/vecstack-0.4.0.tar.gz\n",
            "Requirement already satisfied: numpy in /usr/local/lib/python3.6/dist-packages (from vecstack) (1.18.3)\n",
            "Requirement already satisfied: scipy in /usr/local/lib/python3.6/dist-packages (from vecstack) (1.4.1)\n",
            "Requirement already satisfied: scikit-learn>=0.18 in /usr/local/lib/python3.6/dist-packages (from vecstack) (0.22.2.post1)\n",
            "Requirement already satisfied: joblib>=0.11 in /usr/local/lib/python3.6/dist-packages (from scikit-learn>=0.18->vecstack) (0.14.1)\n",
            "Building wheels for collected packages: vecstack\n",
            "  Building wheel for vecstack (setup.py) ... \u001b[?25l\u001b[?25hdone\n",
            "  Created wheel for vecstack: filename=vecstack-0.4.0-cp36-none-any.whl size=19877 sha256=e145f28ae5f4baefdd0992c7d1882ce1812e0d1ce2a1715d28e1cf6270138859\n",
            "  Stored in directory: /root/.cache/pip/wheels/5f/bb/4e/f6488433d53bc0684673d6845e5bf11a25240577c8151c140e\n",
            "Successfully built vecstack\n",
            "Installing collected packages: vecstack\n",
            "Successfully installed vecstack-0.4.0\n"
          ],
          "name": "stdout"
        }
      ]
    },
    {
      "cell_type": "markdown",
      "metadata": {
        "id": "9gSkkvtWlGbt",
        "colab_type": "text"
      },
      "source": [
        "## <img src=\"https://img.icons8.com/color/32/000000/accept-database.png\"/> Prepare a dataset"
      ]
    },
    {
      "cell_type": "code",
      "metadata": {
        "id": "g13f3a6rlHJ_",
        "colab_type": "code",
        "colab": {}
      },
      "source": [
        "df_wine = pd.read_csv('https://archive.ics.uci.edu/ml/'\n",
        "                      'machine-learning-databases/wine/wine.data',\n",
        "                      header=None)\n",
        "\n",
        "df_wine.columns = ['Class label', 'Alcohol', 'Malic acid', 'Ash',\n",
        "                   'Alcalinity of ash', 'Magnesium', 'Total phenols',\n",
        "                   'Flavanoids', 'Nonflavanoid phenols', 'Proanthocyanins',\n",
        "                   'Color intensity', 'Hue', 'OD280/OD315 of diluted wines',\n",
        "                   'Proline']\n",
        "\n",
        "# drop 1 class\n",
        "df_wine = df_wine[df_wine['Class label'] != 1]"
      ],
      "execution_count": 0,
      "outputs": []
    },
    {
      "cell_type": "markdown",
      "metadata": {
        "id": "fx1HTYHoiBlm",
        "colab_type": "text"
      },
      "source": [
        "### <img src=\"https://img.icons8.com/color/32/000000/hashtag-activity-feed-2.png\"/>  Get attributes and class labels"
      ]
    },
    {
      "cell_type": "code",
      "metadata": {
        "id": "9q7xRlvS02qD",
        "colab_type": "code",
        "colab": {}
      },
      "source": [
        "# split X and y\n",
        "y = df_wine['Class label'].values\n",
        "X = df_wine[['Alcohol', 'OD280/OD315 of diluted wines']].values"
      ],
      "execution_count": 0,
      "outputs": []
    },
    {
      "cell_type": "markdown",
      "metadata": {
        "id": "_n_hiI6Z0-Cv",
        "colab_type": "text"
      },
      "source": [
        "### <img src=\"https://img.icons8.com/color/32/000000/123.png\"/> Encode labels"
      ]
    },
    {
      "cell_type": "code",
      "metadata": {
        "id": "IDJQ1NBec9n-",
        "colab_type": "code",
        "colab": {}
      },
      "source": [
        "# encode class labels\n",
        "le = LabelEncoder()\n",
        "y = le.fit_transform(y)"
      ],
      "execution_count": 0,
      "outputs": []
    },
    {
      "cell_type": "markdown",
      "metadata": {
        "id": "zXttEcrJiEtq",
        "colab_type": "text"
      },
      "source": [
        "### <img src=\"https://img.icons8.com/color/32/000000/split-files.png\"/> Split into train and test sets"
      ]
    },
    {
      "cell_type": "code",
      "metadata": {
        "id": "d-VOH0BA06TI",
        "colab_type": "code",
        "colab": {}
      },
      "source": [
        "# split train and test\n",
        "X_train, X_test, y_train, y_test =\\\n",
        "            train_test_split(X, y, \n",
        "                             test_size=0.2, \n",
        "                             random_state=1,\n",
        "                             stratify=y)"
      ],
      "execution_count": 0,
      "outputs": []
    },
    {
      "cell_type": "markdown",
      "metadata": {
        "id": "bqaa4Xxs1Odl",
        "colab_type": "text"
      },
      "source": [
        "***\n",
        "# <img src=\"https://img.icons8.com/color/32/000000/overview-pages-4.png\"/> Overview\n",
        "***"
      ]
    },
    {
      "cell_type": "markdown",
      "metadata": {
        "id": "EhP5GaZK1M_D",
        "colab_type": "text"
      },
      "source": [
        "* **Bagging** to decrease the model’s variance\n",
        "* **Boosting** to decreasing the model’s bias\n",
        "* **Stacking** to increasing the predictive force of the classifier"
      ]
    },
    {
      "cell_type": "markdown",
      "metadata": {
        "id": "h7XXx8ZFacC6",
        "colab_type": "text"
      },
      "source": [
        "***\n",
        "# <img src=\"https://img.icons8.com/color/32/000000/chalk-bag.png\"/> Bagging\n",
        "***"
      ]
    },
    {
      "cell_type": "markdown",
      "metadata": {
        "id": "8kVE8TnyallF",
        "colab_type": "text"
      },
      "source": [
        "In **bagging** we draw bootstrap samples (random samples with replacement) from the training set.  Bagging is also known as **B**ootstrap **AGG**regat**ING**."
      ]
    },
    {
      "cell_type": "code",
      "metadata": {
        "id": "rWFT9TBcbBII",
        "colab_type": "code",
        "outputId": "b2fd2823-bd64-4e3c-e228-9ced9bafccd3",
        "colab": {
          "base_uri": "https://localhost:8080/",
          "height": 321
        }
      },
      "source": [
        "from IPython.display import YouTubeVideo\n",
        "YouTubeVideo('2Mg8QD0F1dQ')"
      ],
      "execution_count": 0,
      "outputs": [
        {
          "output_type": "execute_result",
          "data": {
            "text/html": [
              "\n",
              "        <iframe\n",
              "            width=\"400\"\n",
              "            height=\"300\"\n",
              "            src=\"https://www.youtube.com/embed/2Mg8QD0F1dQ\"\n",
              "            frameborder=\"0\"\n",
              "            allowfullscreen\n",
              "        ></iframe>\n",
              "        "
            ],
            "text/plain": [
              "<IPython.lib.display.YouTubeVideo at 0x7f84a1a7a358>"
            ],
            "image/jpeg": "[encoded data removed]"
          },
          "metadata": {
            "tags": []
          },
          "execution_count": 6
        }
      ]
    },
    {
      "cell_type": "markdown",
      "metadata": {
        "id": "ntQExMJ8sJgh",
        "colab_type": "text"
      },
      "source": [
        "![alt text](https://github.com/rasbt/python-machine-learning-book-3rd-edition/blob/master/ch07/images/07_06.png?raw=true)"
      ]
    },
    {
      "cell_type": "markdown",
      "metadata": {
        "id": "bHBRMfMjhAE2",
        "colab_type": "text"
      },
      "source": [
        "## <img src=\"https://img.icons8.com/color/32/000000/overview-pages-2.png\"/> Overview of bagging"
      ]
    },
    {
      "cell_type": "markdown",
      "metadata": {
        "id": "Y2f7KEQksBkG",
        "colab_type": "text"
      },
      "source": [
        "![alt text](https://github.com/rasbt/python-machine-learning-book-3rd-edition/blob/master/ch07/images/07_07.png?raw=true)"
      ]
    },
    {
      "cell_type": "markdown",
      "metadata": {
        "id": "0QvJx77PacDC",
        "colab_type": "text"
      },
      "source": [
        "## <img src=\"https://img.icons8.com/color/32/000000/term.png\"/>  Bagging example"
      ]
    },
    {
      "cell_type": "markdown",
      "metadata": {
        "id": "6jJXrFqWeOWi",
        "colab_type": "text"
      },
      "source": [
        "#### <img src=\"https://img.icons8.com/color/32/000000/serial-tasks.png\"/> Define models"
      ]
    },
    {
      "cell_type": "code",
      "metadata": {
        "id": "lnvbid_PacDS",
        "colab_type": "code",
        "colab": {}
      },
      "source": [
        "# create Decision Tree\n",
        "tree = DecisionTreeClassifier(criterion='entropy', \n",
        "                              max_depth=None,\n",
        "                              random_state=1)\n",
        "\n",
        "# build bagger\n",
        "bag = BaggingClassifier(base_estimator=tree,\n",
        "                        n_estimators=500, \n",
        "                        max_samples=1.0, \n",
        "                        max_features=1.0, \n",
        "                        bootstrap=True, \n",
        "                        bootstrap_features=False, \n",
        "                        n_jobs=1, \n",
        "                        random_state=1)"
      ],
      "execution_count": 0,
      "outputs": []
    },
    {
      "cell_type": "markdown",
      "metadata": {
        "id": "TsVWDhWyeQYD",
        "colab_type": "text"
      },
      "source": [
        "#### <img src=\"https://img.icons8.com/color/32/000000/test-tube.png\"/> Train and test"
      ]
    },
    {
      "cell_type": "code",
      "metadata": {
        "id": "OYUqwWvzacDX",
        "colab_type": "code",
        "outputId": "102891df-71d1-44f7-b1b7-0931407a71ec",
        "colab": {
          "base_uri": "https://localhost:8080/",
          "height": 34
        }
      },
      "source": [
        "# train decision tree\n",
        "tree = tree.fit(X_train, y_train)\n",
        "y_train_pred = tree.predict(X_train)\n",
        "y_test_pred = tree.predict(X_test)\n",
        "\n",
        "tree_train = accuracy_score(y_train, y_train_pred)\n",
        "tree_test = accuracy_score(y_test, y_test_pred)\n",
        "print('Decision tree train/test accuracies %.3f/%.3f'\n",
        "      % (tree_train, tree_test))"
      ],
      "execution_count": 0,
      "outputs": [
        {
          "output_type": "stream",
          "text": [
            "Decision tree train/test accuracies 1.000/0.833\n"
          ],
          "name": "stdout"
        }
      ]
    },
    {
      "cell_type": "code",
      "metadata": {
        "id": "kew2TJycdpOX",
        "colab_type": "code",
        "outputId": "2ea890bc-e627-44ef-9ff3-d5ab8a421449",
        "colab": {
          "base_uri": "https://localhost:8080/",
          "height": 34
        }
      },
      "source": [
        "# train bagger\n",
        "bag = bag.fit(X_train, y_train)\n",
        "y_train_pred = bag.predict(X_train)\n",
        "y_test_pred = bag.predict(X_test)\n",
        "\n",
        "bag_train = accuracy_score(y_train, y_train_pred) \n",
        "bag_test = accuracy_score(y_test, y_test_pred) \n",
        "print('Bagging train/test accuracies %.3f/%.3f'\n",
        "      % (bag_train, bag_test))"
      ],
      "execution_count": 0,
      "outputs": [
        {
          "output_type": "stream",
          "text": [
            "Bagging train/test accuracies 1.000/0.917\n"
          ],
          "name": "stdout"
        }
      ]
    },
    {
      "cell_type": "markdown",
      "metadata": {
        "id": "e-4pY2Ntd7o-",
        "colab_type": "text"
      },
      "source": [
        "> Note: the Bagger generalized better to the test set compared to the Decision Tree alone."
      ]
    },
    {
      "cell_type": "markdown",
      "metadata": {
        "id": "ihXgTU2DeLwH",
        "colab_type": "text"
      },
      "source": [
        "#### <img src=\"https://img.icons8.com/color/32/000000/opposite-opinion.png\"/> Compare decision regions"
      ]
    },
    {
      "cell_type": "code",
      "metadata": {
        "id": "LWYHxZtwacDc",
        "colab_type": "code",
        "outputId": "6595200b-4b21-4b88-bb6f-6f3c29665a50",
        "colab": {
          "base_uri": "https://localhost:8080/",
          "height": 247
        }
      },
      "source": [
        "x_min = X_train[:, 0].min() - 1\n",
        "x_max = X_train[:, 0].max() + 1\n",
        "y_min = X_train[:, 1].min() - 1\n",
        "y_max = X_train[:, 1].max() + 1\n",
        "\n",
        "xx, yy = np.meshgrid(np.arange(x_min, x_max, 0.1),\n",
        "                     np.arange(y_min, y_max, 0.1))\n",
        "\n",
        "f, axarr = plt.subplots(nrows=1, ncols=2, \n",
        "                        sharex='col', \n",
        "                        sharey='row', \n",
        "                        figsize=(8, 3))\n",
        "\n",
        "\n",
        "for idx, clf, tt in zip([0, 1],\n",
        "                        [tree, bag],\n",
        "                        ['Decision tree', 'Bagging']):\n",
        "    clf.fit(X_train, y_train)\n",
        "\n",
        "    Z = clf.predict(np.c_[xx.ravel(), yy.ravel()])\n",
        "    Z = Z.reshape(xx.shape)\n",
        "\n",
        "    axarr[idx].contourf(xx, yy, Z, alpha=0.3)\n",
        "    axarr[idx].scatter(X_train[y_train == 0, 0],\n",
        "                       X_train[y_train == 0, 1],\n",
        "                       c='blue', marker='^')\n",
        "\n",
        "    axarr[idx].scatter(X_train[y_train == 1, 0],\n",
        "                       X_train[y_train == 1, 1],\n",
        "                       c='green', marker='o')\n",
        "\n",
        "    axarr[idx].set_title(tt)\n",
        "\n",
        "axarr[0].set_ylabel('Alcohol', fontsize=12)\n",
        "\n",
        "plt.tight_layout()\n",
        "plt.text(0, -0.2,\n",
        "         s='OD280/OD315 of diluted wines',\n",
        "         ha='center',\n",
        "         va='center',\n",
        "         fontsize=12,\n",
        "         transform=axarr[1].transAxes)\n",
        "plt.show()"
      ],
      "execution_count": 0,
      "outputs": [
        {
          "output_type": "display_data",
          "data": {
            "image/png": "[encoded data removed]",
            "text/plain": [
              "<Figure size 576x216 with 2 Axes>"
            ]
          },
          "metadata": {
            "tags": [],
            "needs_background": "light"
          }
        }
      ]
    },
    {
      "cell_type": "markdown",
      "metadata": {
        "id": "l-ViKRIGacDh",
        "colab_type": "text"
      },
      "source": [
        "***\n",
        "# <img src=\"https://img.icons8.com/color/32/000000/launched-rocket.png\"/> Adaptive boosting\n",
        "***"
      ]
    },
    {
      "cell_type": "markdown",
      "metadata": {
        "id": "1ra2u24ljATH",
        "colab_type": "text"
      },
      "source": [
        "In **boosting** the ensemble consists of very simple base classifiers (weak learners), which only have a slight performance advantage over randoming guessing.  \n",
        "\n",
        "Boosting focuses on training examples that are hard to classify.  The weak learners subsequently learn from the the misclassified training examples to improve performance of the ensemble. \n"
      ]
    },
    {
      "cell_type": "code",
      "metadata": {
        "id": "8neV8jcQeydS",
        "colab_type": "code",
        "outputId": "8a4d4904-2b38-427b-b81a-f79ec75511c6",
        "colab": {
          "base_uri": "https://localhost:8080/",
          "height": 321
        }
      },
      "source": [
        "from IPython.display import YouTubeVideo\n",
        "YouTubeVideo('LsK-xG1cLYA')"
      ],
      "execution_count": 0,
      "outputs": [
        {
          "output_type": "execute_result",
          "data": {
            "text/html": [
              "\n",
              "        <iframe\n",
              "            width=\"400\"\n",
              "            height=\"300\"\n",
              "            src=\"https://www.youtube.com/embed/LsK-xG1cLYA\"\n",
              "            frameborder=\"0\"\n",
              "            allowfullscreen\n",
              "        ></iframe>\n",
              "        "
            ],
            "text/plain": [
              "<IPython.lib.display.YouTubeVideo at 0x7f84a1a80eb8>"
            ],
            "image/jpeg": "[encoded data removed]"
          },
          "metadata": {
            "tags": []
          },
          "execution_count": 11
        }
      ]
    },
    {
      "cell_type": "markdown",
      "metadata": {
        "id": "oSPTQRg2tsZr",
        "colab_type": "text"
      },
      "source": [
        "1. Draw random subset of training examples $d_1$ without replacement from the training set $D$ to train weak learner $C_1$.\n",
        "1. Draw a second random training subset $d_2$ without replacement from the training set $D$ and add 50% of the examples previously misclassified to train weak learner $C_2$.\n",
        "1. Find the training examples $d_3$ in the training set $D$ in which $C_1$ and $C_2$ disagree to train a weak learner $C_3$.\n",
        "4. Combine the weak learners $C_1, C_2$ and $C_3$ via majority voting."
      ]
    },
    {
      "cell_type": "markdown",
      "metadata": {
        "id": "zCNnSKPmrx93",
        "colab_type": "text"
      },
      "source": [
        "![alt text](https://github.com/rasbt/python-machine-learning-book-3rd-edition/blob/master/ch07/images/07_09.png?raw=true)"
      ]
    },
    {
      "cell_type": "markdown",
      "metadata": {
        "id": "njeAxDg-acDi",
        "colab_type": "text"
      },
      "source": [
        "## <img src=\"https://img.icons8.com/color/32/000000/overview-pages-2.png\"/> Overview of boosting"
      ]
    },
    {
      "cell_type": "markdown",
      "metadata": {
        "id": "TM9UjehRtqAk",
        "colab_type": "text"
      },
      "source": [
        "1. Set the weight vector $\\mathbf{w}$ to uniform weights where $\\sum_i w_i = 1$.\n",
        "2. For $j$ in $m$ boosting rounds, do:\n",
        "  * Train a weighted weak learner: $C_j = \\text{train}(\\textbf{X, y, w})$.\n",
        "  * Predict class labels: $\\hat{y} = \\text{predict}(C_j, \\textbf{X})$.\n",
        "  * Compute weighted error rate: $\\epsilon = \\textbf{w} \\cdot (\\hat{\\textbf{y}} \\ne \\textbf{y}) $.\n",
        "  * Compute coefficient: $\\alpha_j = 0.5 \\log {{1 - \\epsilon}\\over \\epsilon}$\n",
        "  * Update weights: $\\textbf{w} := \\textbf{w} \\times \\exp(-\\alpha_j \\times \\hat{\\textbf{y}} \\times {\\textbf{y}})$\n",
        "  * Normalize weights to sum to 1: $\\textbf{w} := \\textbf{w} / \\sum_i w_i $.\n",
        "3. Compute the final predictions $\\hat{\\textbf{y}} = \\Big(\\sum_{j=1}^m \\big(\\alpha_j \\times \\text{predict}(C_j, \\textbf{X})\\big) >  0 \\Big)$."
      ]
    },
    {
      "cell_type": "markdown",
      "metadata": {
        "id": "fBCPsbxWr5jh",
        "colab_type": "text"
      },
      "source": [
        "![alt text](https://github.com/rasbt/python-machine-learning-book-3rd-edition/blob/master/ch07/images/07_10.png?raw=true)"
      ]
    },
    {
      "cell_type": "markdown",
      "metadata": {
        "id": "G8XHt5_QacDz",
        "colab_type": "text"
      },
      "source": [
        "## <img src=\"https://img.icons8.com/color/32/000000/term.png\"/> AdaBoost example"
      ]
    },
    {
      "cell_type": "markdown",
      "metadata": {
        "id": "CdWGI8b8hpvq",
        "colab_type": "text"
      },
      "source": [
        "#### <img src=\"https://img.icons8.com/color/32/000000/serial-tasks.png\"/> Define models"
      ]
    },
    {
      "cell_type": "code",
      "metadata": {
        "id": "T50UK8r_acD1",
        "colab_type": "code",
        "colab": {}
      },
      "source": [
        "# build Decision Tree\n",
        "tree = DecisionTreeClassifier(criterion='entropy', \n",
        "                              max_depth=1,\n",
        "                              random_state=1)\n",
        "\n",
        "# build AdaBoost\n",
        "ada = AdaBoostClassifier(base_estimator=tree,\n",
        "                         n_estimators=500, \n",
        "                         learning_rate=0.1,\n",
        "                         random_state=1)"
      ],
      "execution_count": 0,
      "outputs": []
    },
    {
      "cell_type": "markdown",
      "metadata": {
        "id": "kHuRpthLiTDx",
        "colab_type": "text"
      },
      "source": [
        "#### <img src=\"https://img.icons8.com/color/32/000000/test-tube.png\"/> Train and test"
      ]
    },
    {
      "cell_type": "code",
      "metadata": {
        "id": "5KNacWn3acD5",
        "colab_type": "code",
        "outputId": "2afeb2a6-89c5-489c-c71a-0cfe9515ea2a",
        "colab": {
          "base_uri": "https://localhost:8080/",
          "height": 34
        }
      },
      "source": [
        "# train Decision Tree\n",
        "tree = tree.fit(X_train, y_train)\n",
        "y_train_pred = tree.predict(X_train)\n",
        "y_test_pred = tree.predict(X_test)\n",
        "\n",
        "# test Decision Tree\n",
        "tree_train = accuracy_score(y_train, y_train_pred)\n",
        "tree_test = accuracy_score(y_test, y_test_pred)\n",
        "print('Decision tree train/test accuracies %.3f/%.3f'\n",
        "      % (tree_train, tree_test))"
      ],
      "execution_count": 0,
      "outputs": [
        {
          "output_type": "stream",
          "text": [
            "Decision tree train/test accuracies 0.916/0.875\n"
          ],
          "name": "stdout"
        }
      ]
    },
    {
      "cell_type": "code",
      "metadata": {
        "id": "3XkH89L5ivNt",
        "colab_type": "code",
        "outputId": "69336aac-c199-4db5-a041-17cae2b0c522",
        "colab": {
          "base_uri": "https://localhost:8080/",
          "height": 34
        }
      },
      "source": [
        "# train AdaBoost\n",
        "ada = ada.fit(X_train, y_train)\n",
        "y_train_pred = ada.predict(X_train)\n",
        "y_test_pred = ada.predict(X_test)\n",
        "\n",
        "# test AdaBoost\n",
        "ada_train = accuracy_score(y_train, y_train_pred) \n",
        "ada_test = accuracy_score(y_test, y_test_pred) \n",
        "print('AdaBoost train/test accuracies %.3f/%.3f'\n",
        "      % (ada_train, ada_test))"
      ],
      "execution_count": 0,
      "outputs": [
        {
          "output_type": "stream",
          "text": [
            "AdaBoost train/test accuracies 1.000/0.917\n"
          ],
          "name": "stdout"
        }
      ]
    },
    {
      "cell_type": "markdown",
      "metadata": {
        "id": "WDV1UfzBk3-M",
        "colab_type": "text"
      },
      "source": [
        "> Note: AdaBoost generalized better to the test set compared to the Decision Tree alone."
      ]
    },
    {
      "cell_type": "markdown",
      "metadata": {
        "id": "IveHKoVAihJt",
        "colab_type": "text"
      },
      "source": [
        "#### <img src=\"https://img.icons8.com/color/32/000000/opposite-opinion.png\"/> Compare decision regions"
      ]
    },
    {
      "cell_type": "code",
      "metadata": {
        "id": "ZsXPSHmaacD9",
        "colab_type": "code",
        "outputId": "713b58c6-759e-4784-a766-b95bb6a931b4",
        "colab": {
          "base_uri": "https://localhost:8080/",
          "height": 247
        }
      },
      "source": [
        "x_min, x_max = X_train[:, 0].min() - 1, X_train[:, 0].max() + 1\n",
        "y_min, y_max = X_train[:, 1].min() - 1, X_train[:, 1].max() + 1\n",
        "xx, yy = np.meshgrid(np.arange(x_min, x_max, 0.1),\n",
        "                     np.arange(y_min, y_max, 0.1))\n",
        "\n",
        "f, axarr = plt.subplots(1, 2, sharex='col', sharey='row', figsize=(8, 3))\n",
        "\n",
        "\n",
        "for idx, clf, tt in zip([0, 1],\n",
        "                        [tree, ada],\n",
        "                        ['Decision tree', 'AdaBoost']):\n",
        "    clf.fit(X_train, y_train)\n",
        "\n",
        "    Z = clf.predict(np.c_[xx.ravel(), yy.ravel()])\n",
        "    Z = Z.reshape(xx.shape)\n",
        "\n",
        "    axarr[idx].contourf(xx, yy, Z, alpha=0.3)\n",
        "    axarr[idx].scatter(X_train[y_train == 0, 0],\n",
        "                       X_train[y_train == 0, 1],\n",
        "                       c='blue', marker='^')\n",
        "    axarr[idx].scatter(X_train[y_train == 1, 0],\n",
        "                       X_train[y_train == 1, 1],\n",
        "                       c='green', marker='o')\n",
        "    axarr[idx].set_title(tt)\n",
        "\n",
        "axarr[0].set_ylabel('Alcohol', fontsize=12)\n",
        "\n",
        "plt.tight_layout()\n",
        "plt.text(0, -0.2,\n",
        "         s='OD280/OD315 of diluted wines',\n",
        "         ha='center',\n",
        "         va='center',\n",
        "         fontsize=12,\n",
        "         transform=axarr[1].transAxes)\n",
        "plt.show()"
      ],
      "execution_count": 0,
      "outputs": [
        {
          "output_type": "display_data",
          "data": {
            "image/png": "[encoded data removed]",
            "text/plain": [
              "<Figure size 576x216 with 2 Axes>"
            ]
          },
          "metadata": {
            "tags": [],
            "needs_background": "light"
          }
        }
      ]
    },
    {
      "cell_type": "markdown",
      "metadata": {
        "id": "8FAKiAW8acEH",
        "colab_type": "text"
      },
      "source": [
        "<br>\n",
        "<br>"
      ]
    },
    {
      "cell_type": "markdown",
      "metadata": {
        "id": "DhUAzep_zPqc",
        "colab_type": "text"
      },
      "source": [
        "***\n",
        "#  <img src=\"https://img.icons8.com/color/32/000000/sheets.png\"/> Stacking\n",
        "***"
      ]
    },
    {
      "cell_type": "markdown",
      "metadata": {
        "id": "WsWneYh2zU8M",
        "colab_type": "text"
      },
      "source": [
        "In **stacking** we select one or more models in the first level, make predictions using these models, then use the predictions as features to fit one or more second levels models on top. \n",
        "\n",
        "To avoid overfitting, use cross-validation to predict the out-of-fold (OOF) part of the training set.  "
      ]
    },
    {
      "cell_type": "markdown",
      "metadata": {
        "id": "NCeadG8ZzrFn",
        "colab_type": "text"
      },
      "source": [
        "![alt text](https://miro.medium.com/max/1318/1*9uCwjY5uRkRrX2VNST7R0w.gif)"
      ]
    },
    {
      "cell_type": "markdown",
      "metadata": {
        "id": "neMdOdnP0G4O",
        "colab_type": "text"
      },
      "source": [
        "## <img src=\"https://img.icons8.com/color/32/000000/term.png\"/> Stacking example"
      ]
    },
    {
      "cell_type": "code",
      "metadata": {
        "id": "T1bnOwGXymop",
        "colab_type": "code",
        "colab": {}
      },
      "source": [
        "# define models\n",
        "models = [\n",
        "    KNeighborsClassifier(n_neighbors=5,\n",
        "                        n_jobs=-1),\n",
        "        \n",
        "    RandomForestClassifier(random_state=0, n_jobs=-1, \n",
        "                           n_estimators=100, max_depth=3),\n",
        "        \n",
        "    XGBClassifier(random_state=0, n_jobs=-1, learning_rate=0.1, \n",
        "                  n_estimators=100, max_depth=3)\n",
        "]"
      ],
      "execution_count": 0,
      "outputs": []
    },
    {
      "cell_type": "code",
      "metadata": {
        "id": "T5XUC7S1yoY9",
        "colab_type": "code",
        "outputId": "a6eb92ed-8756-452d-9bd6-81a28c767af9",
        "colab": {
          "base_uri": "https://localhost:8080/",
          "height": 571
        }
      },
      "source": [
        "# run stacking\n",
        "S_train, S_test = stacking(models,                   \n",
        "                           X_train, y_train, X_test,   \n",
        "                           regression=False,      \n",
        "                           mode='oof_pred_bag',        \n",
        "                           needs_proba=False,         \n",
        "                           save_dir=None,             \n",
        "                           metric=accuracy_score,     \n",
        "                           n_folds=4,                  \n",
        "                           stratified=True,            \n",
        "                           shuffle=True,              \n",
        "                           random_state=1,\n",
        "                           verbose=2)"
      ],
      "execution_count": 0,
      "outputs": [
        {
          "output_type": "stream",
          "text": [
            "task:         [classification]\n",
            "n_classes:    [2]\n",
            "metric:       [accuracy_score]\n",
            "mode:         [oof_pred_bag]\n",
            "n_models:     [3]\n",
            "\n",
            "model  0:     [KNeighborsClassifier]\n",
            "    fold  0:  [0.95833333]\n",
            "    fold  1:  [0.87500000]\n",
            "    fold  2:  [0.75000000]\n",
            "    fold  3:  [0.86956522]\n",
            "    ----\n",
            "    MEAN:     [0.86322464] + [0.07423669]\n",
            "    FULL:     [0.86315789]\n",
            "\n",
            "model  1:     [RandomForestClassifier]\n",
            "    fold  0:  [0.91666667]\n",
            "    fold  1:  [0.95833333]\n",
            "    fold  2:  [0.79166667]\n",
            "    fold  3:  [0.78260870]\n",
            "    ----\n",
            "    MEAN:     [0.86231884] + [0.07667774]\n",
            "    FULL:     [0.86315789]\n",
            "\n",
            "model  2:     [XGBClassifier]\n",
            "    fold  0:  [0.91666667]\n",
            "    fold  1:  [0.95833333]\n",
            "    fold  2:  [0.79166667]\n",
            "    fold  3:  [0.86956522]\n",
            "    ----\n",
            "    MEAN:     [0.88405797] + [0.06189982]\n",
            "    FULL:     [0.88421053]\n",
            "\n"
          ],
          "name": "stdout"
        }
      ]
    },
    {
      "cell_type": "code",
      "metadata": {
        "id": "jfE_WK4-y879",
        "colab_type": "code",
        "outputId": "3acab791-9f6a-41c4-8796-4b35ec5d6711",
        "colab": {
          "base_uri": "https://localhost:8080/",
          "height": 34
        }
      },
      "source": [
        "# fit the second level model\n",
        "model = XGBClassifier(random_state=0, n_jobs=-1, learning_rate=0.1, \n",
        "                      n_estimators=100, max_depth=3)\n",
        "    \n",
        "model = model.fit(S_train, y_train)\n",
        "y_pred = model.predict(S_test)\n",
        "print('Final prediction score: %.8f' % accuracy_score(y_test, y_pred))"
      ],
      "execution_count": 0,
      "outputs": [
        {
          "output_type": "stream",
          "text": [
            "Final prediction score: 0.91666667\n"
          ],
          "name": "stdout"
        }
      ]
    },
    {
      "cell_type": "code",
      "metadata": {
        "id": "Bz2idJhkNi5i",
        "colab_type": "code",
        "outputId": "d0b07e9f-de32-4563-c143-d67cf4c15948",
        "colab": {
          "base_uri": "https://localhost:8080/",
          "height": 321
        }
      },
      "source": [
        "from IPython.display import YouTubeVideo\n",
        "YouTubeVideo('DCrcoh7cMHU')"
      ],
      "execution_count": 0,
      "outputs": [
        {
          "output_type": "execute_result",
          "data": {
            "text/html": [
              "\n",
              "        <iframe\n",
              "            width=\"400\"\n",
              "            height=\"300\"\n",
              "            src=\"https://www.youtube.com/embed/DCrcoh7cMHU\"\n",
              "            frameborder=\"0\"\n",
              "            allowfullscreen\n",
              "        ></iframe>\n",
              "        "
            ],
            "text/plain": [
              "<IPython.lib.display.YouTubeVideo at 0x7f84a159b4e0>"
            ],
            "image/jpeg": "[encoded data removed]"
          },
          "metadata": {
            "tags": []
          },
          "execution_count": 19
        }
      ]
    },
    {
      "cell_type": "markdown",
      "metadata": {
        "id": "RMhBmDnbacDf",
        "colab_type": "text"
      },
      "source": [
        "<br>\n",
        "<br>"
      ]
    }
  ]
}