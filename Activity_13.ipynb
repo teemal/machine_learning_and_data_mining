{
  "nbformat": 4,
  "nbformat_minor": 0,
  "metadata": {
    "colab": {
      "name": "Activity 13.ipynb",
      "provenance": [],
      "collapsed_sections": [
        "cNB-YUQFvBpZ"
      ]
    },
    "kernelspec": {
      "name": "python3",
      "display_name": "Python 3"
    }
  },
  "cells": [
    {
      "cell_type": "markdown",
      "metadata": {
        "id": "Eq-yOQqICbAS",
        "colab_type": "text"
      },
      "source": [
        "# Activity 13 - Dimensionality Reduction"
      ]
    },
    {
      "cell_type": "markdown",
      "metadata": {
        "id": "qZFjMOY8CfWW",
        "colab_type": "text"
      },
      "source": [
        "***\n",
        "##### CS 434 - Data Mining and Machine Learning\n",
        "##### Oregon State University-Cascades\n",
        "***"
      ]
    },
    {
      "cell_type": "markdown",
      "metadata": {
        "id": "nSLkRC2JNBAH",
        "colab_type": "text"
      },
      "source": [
        "# Load packages"
      ]
    },
    {
      "cell_type": "code",
      "metadata": {
        "id": "BP0JgdVxBzqP",
        "colab_type": "code",
        "colab": {}
      },
      "source": [
        "import math\n",
        "import numpy as np\n",
        "import pandas as pd\n",
        "import matplotlib.pyplot as plt\n",
        "from sklearn.model_selection import train_test_split\n",
        "from sklearn.preprocessing import StandardScaler\n",
        "from sklearn.decomposition import PCA\n",
        "from sklearn.pipeline import make_pipeline\n",
        "from sklearn.model_selection import KFold\n",
        "from sklearn.pipeline import Pipeline\n",
        "from sklearn.neighbors import KNeighborsRegressor\n",
        "from scipy.stats.stats import pearsonr, spearmanr"
      ],
      "execution_count": 0,
      "outputs": []
    },
    {
      "cell_type": "markdown",
      "metadata": {
        "id": "sWiiI-KbNG7R",
        "colab_type": "text"
      },
      "source": [
        "# Dataset"
      ]
    },
    {
      "cell_type": "markdown",
      "metadata": {
        "id": "O3U-KOfNgc8h",
        "colab_type": "text"
      },
      "source": [
        "[Geographical Original of Music Data Set](http://archive.ics.uci.edu/ml/datasets/Geographical+Original+of+Music)\n",
        "\n",
        "The dataset was built from a personal collection of 1059 tracks covering 33 countries/area. The music used is traditional, ethnic or 'world' only, as classified by the publishers of the product on which it appears. Any Western music is not included because its influence is global - what we seek are the aspects of music that most influence location. Thus, being able to specify a location with strong influence on the music is central.\n",
        "\n",
        "The geographical location of origin was manually collected the information from the CD sleeve notes, and when this information was inadequate we searched other information sources. The location data is limited in precision to the country of origin.\n",
        "\n",
        "The country of origin was determined by the artist's or artists' main country/area of residence. Any track that had ambiguous origin is not included. We have taken the position of each country's capital city (or the province of the area) by latitude and longitude as the absolute point of origin.\n",
        "\n",
        "The program MARSYAS was used to extract audio features from the wave files. We used the default MARSYAS settings in single vector format (**68 features**) to estimate the performance with basic timbal information covering the entire length of each track. No feature weighting or pre-filtering was applied. All features were transformed to have a mean of 0, and a standard deviation of 1. \n",
        "\n",
        "[Source](https://ieeexplore.ieee.org/stamp/stamp.jsp?tp=&arnumber=7023456)"
      ]
    },
    {
      "cell_type": "markdown",
      "metadata": {
        "id": "db1-gK8fhLIN",
        "colab_type": "text"
      },
      "source": [
        "### Attributes\n",
        "\n",
        "The first 68 columns are audio features of the track, and the last two columns are the origin of the music, represented by latitude and longitude."
      ]
    },
    {
      "cell_type": "code",
      "metadata": {
        "id": "iZuk1tKXR33o",
        "colab_type": "code",
        "colab": {}
      },
      "source": [
        "url = 'http://archive.ics.uci.edu/ml/machine-learning-databases/00315/Geographical%20Original%20of%20Music.zip'\n",
        "zip_file = '\\'Geographical Original of Music\\'.zip'\n",
        "dat_file = 'Geographical Original of Music/default_features_1059_tracks.txt'"
      ],
      "execution_count": 0,
      "outputs": []
    },
    {
      "cell_type": "markdown",
      "metadata": {
        "id": "Bx3YdC0ANJTQ",
        "colab_type": "text"
      },
      "source": [
        "*** \n",
        "# Exercise #1 - Load data\n",
        "*** "
      ]
    },
    {
      "cell_type": "markdown",
      "metadata": {
        "id": "cqQPE4upkWph",
        "colab_type": "text"
      },
      "source": [
        "##### 1.0 Function to map degrees to radians (provided)"
      ]
    },
    {
      "cell_type": "code",
      "metadata": {
        "id": "4sA7f2f4ICIQ",
        "colab_type": "code",
        "colab": {}
      },
      "source": [
        "# radians = degrees * PI / 180\n",
        "def deg_to_rad(dr):\n",
        "    return (dr*math.pi)/180"
      ],
      "execution_count": 0,
      "outputs": []
    },
    {
      "cell_type": "markdown",
      "metadata": {
        "id": "W8TM9xgkNN4o",
        "colab_type": "text"
      },
      "source": [
        "##### 1.1 `wget` the `url`"
      ]
    },
    {
      "cell_type": "code",
      "metadata": {
        "id": "aOeyLnKWNMTG",
        "colab_type": "code",
        "colab": {}
      },
      "source": [
        "# fetch file, then comment out this line\n",
        "print('your code here')"
      ],
      "execution_count": 0,
      "outputs": []
    },
    {
      "cell_type": "markdown",
      "metadata": {
        "id": "_G6KeNreRr0O",
        "colab_type": "text"
      },
      "source": [
        "##### 1.2 Unzip `zip_file`"
      ]
    },
    {
      "cell_type": "code",
      "metadata": {
        "id": "6vkIg77cRtvc",
        "colab_type": "code",
        "colab": {}
      },
      "source": [
        "# unzip, then comment out this line\n",
        "print('tu codigo aqui')"
      ],
      "execution_count": 0,
      "outputs": []
    },
    {
      "cell_type": "markdown",
      "metadata": {
        "id": "Zz4zXPCTRvp-",
        "colab_type": "text"
      },
      "source": [
        "##### 1.3 Read the `dat_file` into new dataframe `df`."
      ]
    },
    {
      "cell_type": "code",
      "metadata": {
        "id": "Zt1Pl0YnRz4i",
        "colab_type": "code",
        "colab": {}
      },
      "source": [
        "# load the dataset into a dataframe\n",
        "print('votre code ici')"
      ],
      "execution_count": 0,
      "outputs": []
    },
    {
      "cell_type": "markdown",
      "metadata": {
        "id": "EDpGLRa8YnxH",
        "colab_type": "text"
      },
      "source": [
        "> **Note**: unfortunately we don't know the names of the 68 audio features, so we won't have columns names for the features. But we do know the (two) outputs."
      ]
    },
    {
      "cell_type": "markdown",
      "metadata": {
        "id": "C6SaYn7mYr_F",
        "colab_type": "text"
      },
      "source": [
        "##### 1.4 Rename the last two columns to be `latitude` and `longitude`."
      ]
    },
    {
      "cell_type": "code",
      "metadata": {
        "id": "hjhUc5O1YlMn",
        "colab_type": "code",
        "colab": {}
      },
      "source": [
        "# rename last to columns to be 'latitude' and 'longitude'\n",
        "print('burada kodun')"
      ],
      "execution_count": 0,
      "outputs": []
    },
    {
      "cell_type": "markdown",
      "metadata": {
        "id": "HCAYEosciOzK",
        "colab_type": "text"
      },
      "source": [
        "##### 1.5 Map the `latitude` and `longitude` to radians"
      ]
    },
    {
      "cell_type": "code",
      "metadata": {
        "id": "V-irDn4KI9qn",
        "colab_type": "code",
        "colab": {}
      },
      "source": [
        "# map latitude and longitude to radians\n",
        "print('il tuo codice qui')"
      ],
      "execution_count": 0,
      "outputs": []
    },
    {
      "cell_type": "markdown",
      "metadata": {
        "id": "WvQ6PrBkmBKK",
        "colab_type": "text"
      },
      "source": [
        "*** \n",
        "# Exercise #2 - Prepare dataset\n",
        "*** "
      ]
    },
    {
      "cell_type": "markdown",
      "metadata": {
        "id": "LKZkiWtPi2r2",
        "colab_type": "text"
      },
      "source": [
        "##### 2.0 Function to plot latitude and longitude (provided)"
      ]
    },
    {
      "cell_type": "code",
      "metadata": {
        "id": "D85uVb-lx9wO",
        "colab_type": "code",
        "colab": {}
      },
      "source": [
        "# plot latitude vs longitude\n",
        "def plot_examples(x, y):\n",
        "  plt.title('Latitude vs Longitude')\n",
        "  plt.xlabel('Longitude')\n",
        "  plt.ylabel('Latitude')\n",
        "  plt.xlim(-3,3)\n",
        "  plt.ylim(-1.5,1.5) \n",
        "  plt.annotate('Bend', xy=(deg_to_rad(-121.315), deg_to_rad(44.058)), xycoords='data',\n",
        "              xytext=(0.25, 0.85), textcoords='figure fraction',\n",
        "              arrowprops=dict(arrowstyle=\"->\"))\n",
        "  plt.scatter(x, y, s=10, alpha=.1)\n",
        "  plt.show()"
      ],
      "execution_count": 0,
      "outputs": []
    },
    {
      "cell_type": "markdown",
      "metadata": {
        "id": "4Js43NDUrJjp",
        "colab_type": "text"
      },
      "source": [
        "##### 2.1 Split `X` and `y`"
      ]
    },
    {
      "cell_type": "markdown",
      "metadata": {
        "id": "IbL34EBRDJ13",
        "colab_type": "text"
      },
      "source": [
        "* Save the 68 features as `X`\n",
        "* Save the `latitude` as `y_lat` \n",
        "* Save the `longitude` as `y_lon` "
      ]
    },
    {
      "cell_type": "code",
      "metadata": {
        "id": "2kvAx1turKMu",
        "colab_type": "code",
        "colab": {}
      },
      "source": [
        "# split X and y_lat/y_lon\n",
        "print('您的代码在这里')"
      ],
      "execution_count": 0,
      "outputs": []
    },
    {
      "cell_type": "markdown",
      "metadata": {
        "id": "yUdxOjfsEAqW",
        "colab_type": "text"
      },
      "source": [
        "##### 2.2 Print shape of `X`, `y_lat`, `y_lon`"
      ]
    },
    {
      "cell_type": "code",
      "metadata": {
        "id": "ydke7q29lxlu",
        "colab_type": "code",
        "colab": {}
      },
      "source": [
        "# print shapes of data\n",
        "print('seu código aqui')"
      ],
      "execution_count": 0,
      "outputs": []
    },
    {
      "cell_type": "markdown",
      "metadata": {
        "id": "UdCxF01DmJ0Y",
        "colab_type": "text"
      },
      "source": [
        "##### Self Check"
      ]
    },
    {
      "cell_type": "code",
      "metadata": {
        "id": "jOkf4DIpmLKy",
        "colab_type": "code",
        "colab": {}
      },
      "source": [
        "assert X.shape[1]==68 and y_lat.shape[0] == 1059 and y_lon.shape[0] == 1059"
      ],
      "execution_count": 0,
      "outputs": []
    },
    {
      "cell_type": "markdown",
      "metadata": {
        "id": "lvjymjzmjk1e",
        "colab_type": "text"
      },
      "source": [
        "##### 2.3 Plot locations"
      ]
    },
    {
      "cell_type": "markdown",
      "metadata": {
        "id": "YpxeS3xgjzRv",
        "colab_type": "text"
      },
      "source": [
        "* latitude (`y-axis`) \n",
        "* longitude (`x-axis`)"
      ]
    },
    {
      "cell_type": "code",
      "metadata": {
        "id": "SM2vXE87jdbX",
        "colab_type": "code",
        "colab": {}
      },
      "source": [
        "# plot_examples\n",
        "print('dein Code hier')"
      ],
      "execution_count": 0,
      "outputs": []
    },
    {
      "cell_type": "markdown",
      "metadata": {
        "id": "JqhJWI1Zmd1N",
        "colab_type": "text"
      },
      "source": [
        "> The 1059 tracks represent 33 different geographic locations."
      ]
    },
    {
      "cell_type": "markdown",
      "metadata": {
        "id": "TLBBe-0trTd2",
        "colab_type": "text"
      },
      "source": [
        "##### 2.4 Function to train and test\n"
      ]
    },
    {
      "cell_type": "markdown",
      "metadata": {
        "id": "Xd_gf23wlKGd",
        "colab_type": "text"
      },
      "source": [
        "* `KFold` cross-validation\n",
        "  * `shuffle=False`\n",
        "  * `k=10`\n",
        "* save predictions (across folds) and return `y_preds`  "
      ]
    },
    {
      "cell_type": "code",
      "metadata": {
        "id": "rV_CtNUdEBOG",
        "colab_type": "code",
        "colab": {}
      },
      "source": [
        "# train and test\n",
        "def train_and_test(clf, X, y, k=10):  \n",
        "  # k-fold cross-validation\n",
        "  print('ここにあなたのコード')"
      ],
      "execution_count": 0,
      "outputs": []
    },
    {
      "cell_type": "markdown",
      "metadata": {
        "id": "bxshVMTbmBiz",
        "colab_type": "text"
      },
      "source": [
        "*** \n",
        "# Exercise #3 - $k$-Nearest Neighbor\n",
        "*** "
      ]
    },
    {
      "cell_type": "markdown",
      "metadata": {
        "id": "y9ZEcm7drFAp",
        "colab_type": "text"
      },
      "source": [
        "##### 3.1 Construct a `KNeighborsRegressor` (see [api](https://scikit-learn.org/stable/modules/generated/sklearn.neighbors.KNeighborsRegressor.html))"
      ]
    },
    {
      "cell_type": "markdown",
      "metadata": {
        "id": "IxLfS1VwoK8G",
        "colab_type": "text"
      },
      "source": [
        "* 19 neighbors\n",
        "* Chebyshev distance"
      ]
    },
    {
      "cell_type": "code",
      "metadata": {
        "id": "BiDjp-k5rFsy",
        "colab_type": "code",
        "colab": {}
      },
      "source": [
        "# knn regressor\n",
        "print('ваш код здесь')"
      ],
      "execution_count": 0,
      "outputs": []
    },
    {
      "cell_type": "markdown",
      "metadata": {
        "id": "RKttYbiVo0sI",
        "colab_type": "text"
      },
      "source": [
        "##### 3.2 Build a pipeline"
      ]
    },
    {
      "cell_type": "markdown",
      "metadata": {
        "id": "fNCLomiKpBQQ",
        "colab_type": "text"
      },
      "source": [
        "* use `Pipeline` constructor and name the steps\n",
        "  * Standardize\n",
        "  * `KNeighborsRegressor` from 3.1"
      ]
    },
    {
      "cell_type": "code",
      "metadata": {
        "id": "-ApsJAn8FgHn",
        "colab_type": "code",
        "colab": {}
      },
      "source": [
        "# build a Pipeline\n",
        "print('do chód anseo')"
      ],
      "execution_count": 0,
      "outputs": []
    },
    {
      "cell_type": "markdown",
      "metadata": {
        "id": "WuJXHVFNo8BC",
        "colab_type": "text"
      },
      "source": [
        "##### 3.3 Predict `latitude` and print Pearson's $r$"
      ]
    },
    {
      "cell_type": "code",
      "metadata": {
        "id": "597pVIF-FOVR",
        "colab_type": "code",
        "colab": {}
      },
      "source": [
        "# train and test latitude\n",
        "print('nambari yako hapa')"
      ],
      "execution_count": 0,
      "outputs": []
    },
    {
      "cell_type": "markdown",
      "metadata": {
        "id": "mwVjRSGnqAgr",
        "colab_type": "text"
      },
      "source": [
        "##### Self Check"
      ]
    },
    {
      "cell_type": "markdown",
      "metadata": {
        "id": "Zdk118pdqC2i",
        "colab_type": "text"
      },
      "source": [
        "```\n",
        "Fold:  1, r: 0.282\n",
        "Fold:  2, r: 0.330\n",
        "Fold:  3, r: 0.513\n",
        "Fold:  4, r: 0.379\n",
        "Fold:  5, r: 0.576\n",
        "Fold:  6, r: 0.636\n",
        "Fold:  7, r: 0.476\n",
        "Fold:  8, r: 0.265\n",
        "Fold:  9, r: 0.413\n",
        "Fold: 10, r: 0.418\n",
        "```"
      ]
    },
    {
      "cell_type": "markdown",
      "metadata": {
        "id": "L3wtwjD9p0jv",
        "colab_type": "text"
      },
      "source": [
        "##### 3.4 Predict `longitude` and print Pearson's $r$"
      ]
    },
    {
      "cell_type": "code",
      "metadata": {
        "id": "i3sJWUaYHJ8A",
        "colab_type": "code",
        "colab": {}
      },
      "source": [
        "# train and test longitude\n",
        "print('여기 코드')"
      ],
      "execution_count": 0,
      "outputs": []
    },
    {
      "cell_type": "markdown",
      "metadata": {
        "id": "N1GPd3FG6AfI",
        "colab_type": "text"
      },
      "source": [
        "*** \n",
        "# Exercise #4 - Principle Component Analysis\n",
        "*** "
      ]
    },
    {
      "cell_type": "markdown",
      "metadata": {
        "id": "tu3C-2QgysCi",
        "colab_type": "text"
      },
      "source": [
        "In this section, we re-run our $k$-Neighbors Regression, but add PCA to pipeline. Use your `train_and_test` function with CV of $k=10$. "
      ]
    },
    {
      "cell_type": "markdown",
      "metadata": {
        "id": "baUvinejqXQj",
        "colab_type": "text"
      },
      "source": [
        "##### 4.1 Build another Pipeline (for latitude)"
      ]
    },
    {
      "cell_type": "markdown",
      "metadata": {
        "id": "6hhqo9itqdJb",
        "colab_type": "text"
      },
      "source": [
        "* use `Pipeline` constructor and name the steps\n",
        "  * name pipeline `pipe_pca_lat`\n",
        "  * Standardize\n",
        "  * PCA with `n_components =` ${\\text{n_features} \\over 2} $\n",
        "    * `random_state=1`\n",
        "  * `KNeighborsRegressor` from 3.1"
      ]
    },
    {
      "cell_type": "code",
      "metadata": {
        "id": "kQeGXYrcVm4u",
        "colab_type": "code",
        "colab": {}
      },
      "source": [
        "# pipeline with pca\n",
        "print('din kod här')"
      ],
      "execution_count": 0,
      "outputs": []
    },
    {
      "cell_type": "markdown",
      "metadata": {
        "id": "Rxv-AOVat7Al",
        "colab_type": "text"
      },
      "source": [
        "##### Self Check"
      ]
    },
    {
      "cell_type": "code",
      "metadata": {
        "id": "Bf_Sx5kFs3AU",
        "colab_type": "code",
        "colab": {}
      },
      "source": [
        "assert pipe_pca_lat['pca'].n_components == round(64393.7622091 ** (1./3.14))"
      ],
      "execution_count": 0,
      "outputs": []
    },
    {
      "cell_type": "markdown",
      "metadata": {
        "id": "7SpM66jMv8Sa",
        "colab_type": "text"
      },
      "source": [
        "##### 4.2 Build another Pipeline (for longitude)"
      ]
    },
    {
      "cell_type": "markdown",
      "metadata": {
        "id": "BqWzhkFpwCaf",
        "colab_type": "text"
      },
      "source": [
        "* use `Pipeline` constructor and name the steps\n",
        "  * name pipeline `pipe_pca_lon`\n",
        "  * Standardize\n",
        "  * PCA with `n_components =` ${\\text{n_features} \\over 2} $\n",
        "    * `random_state=1`\n",
        "  * `KNeighborsRegressor` from 3.1"
      ]
    },
    {
      "cell_type": "code",
      "metadata": {
        "id": "_eFCcp9qv-8T",
        "colab_type": "code",
        "colab": {}
      },
      "source": [
        "# pipeline with pca\n",
        "print('यहाँ आपका कोड')"
      ],
      "execution_count": 0,
      "outputs": []
    },
    {
      "cell_type": "markdown",
      "metadata": {
        "id": "1qR3GMuouAwI",
        "colab_type": "text"
      },
      "source": [
        "##### 4.3 Predict `latitude` and print Pearson's $r$"
      ]
    },
    {
      "cell_type": "code",
      "metadata": {
        "id": "T81adC3lVqXL",
        "colab_type": "code",
        "colab": {}
      },
      "source": [
        "# train and test latitude\n",
        "print('الكود الخاص بك هنا')"
      ],
      "execution_count": 0,
      "outputs": []
    },
    {
      "cell_type": "markdown",
      "metadata": {
        "id": "cNB-YUQFvBpZ",
        "colab_type": "text"
      },
      "source": [
        "###### Self Check"
      ]
    },
    {
      "cell_type": "markdown",
      "metadata": {
        "id": "NMe3CJ-RvHPU",
        "colab_type": "text"
      },
      "source": [
        "```\n",
        "Fold:  1, r: 0.409\n",
        "Fold:  2, r: 0.325\n",
        "Fold:  3, r: 0.522\n",
        "Fold:  4, r: 0.314\n",
        "Fold:  5, r: 0.574\n",
        "Fold:  6, r: 0.610\n",
        "Fold:  7, r: 0.480\n",
        "Fold:  8, r: 0.270\n",
        "Fold:  9, r: 0.431\n",
        "Fold: 10, r: 0.382\n",
        "```"
      ]
    },
    {
      "cell_type": "markdown",
      "metadata": {
        "id": "CNUf4UhfuNyd",
        "colab_type": "text"
      },
      "source": [
        "##### 4.4 Predict `longitude` and print Pearson's $r$"
      ]
    },
    {
      "cell_type": "code",
      "metadata": {
        "id": "-cWT4flQXyG2",
        "colab_type": "code",
        "colab": {}
      },
      "source": [
        "# train and test longitude\n",
        "print('הקוד שלך כאן')"
      ],
      "execution_count": 0,
      "outputs": []
    },
    {
      "cell_type": "markdown",
      "metadata": {
        "id": "jGjI6nSncTf4",
        "colab_type": "text"
      },
      "source": [
        "*** \n",
        "# Exercise #5 - Explained Variance\n",
        "*** "
      ]
    },
    {
      "cell_type": "markdown",
      "metadata": {
        "id": "z4e8kP88viol",
        "colab_type": "text"
      },
      "source": [
        "##### 5.1 Print explained variance from the `pipe_pca_lat`"
      ]
    },
    {
      "cell_type": "code",
      "metadata": {
        "id": "Vl778pOkbi3i",
        "colab_type": "code",
        "colab": {}
      },
      "source": [
        "# explain variance\n",
        "print('mã của bạn ở đây')"
      ],
      "execution_count": 0,
      "outputs": []
    },
    {
      "cell_type": "markdown",
      "metadata": {
        "id": "o0AXv_o9xA4n",
        "colab_type": "text"
      },
      "source": [
        "##### 5.2 Calculate the sum of explained variance (lat)"
      ]
    },
    {
      "cell_type": "code",
      "metadata": {
        "id": "bATjwj6ZcxNL",
        "colab_type": "code",
        "colab": {}
      },
      "source": [
        "# calculate sum of explained variance (lat)\n",
        "print('τον κωδικό σας εδώ')"
      ],
      "execution_count": 0,
      "outputs": []
    },
    {
      "cell_type": "markdown",
      "metadata": {
        "id": "X_93ypufxIzj",
        "colab_type": "text"
      },
      "source": [
        "##### 5.3 Plot explained variance (lat)"
      ]
    },
    {
      "cell_type": "markdown",
      "metadata": {
        "id": "k25mHvDyxLcZ",
        "colab_type": "text"
      },
      "source": [
        "* bar chart of 'Individual explained variance'"
      ]
    },
    {
      "cell_type": "code",
      "metadata": {
        "id": "Pl4X4F91bx8g",
        "colab_type": "code",
        "colab": {}
      },
      "source": [
        "# plot variance (lat)\n",
        "print('รหัสของคุณที่นี่')"
      ],
      "execution_count": 0,
      "outputs": []
    },
    {
      "cell_type": "markdown",
      "metadata": {
        "id": "u9cnOlSCxcE7",
        "colab_type": "text"
      },
      "source": [
        "##### 5.4 Print explained variance from the `pipe_pca_lon`"
      ]
    },
    {
      "cell_type": "code",
      "metadata": {
        "id": "u6t2xHftxkml",
        "colab_type": "code",
        "colab": {}
      },
      "source": [
        "# explain variance\n",
        "print('a kódod itt')"
      ],
      "execution_count": 0,
      "outputs": []
    },
    {
      "cell_type": "markdown",
      "metadata": {
        "id": "fYs2V09qxp6w",
        "colab_type": "text"
      },
      "source": [
        "##### 5.5 Calculate the sum of explained variance (lon)"
      ]
    },
    {
      "cell_type": "code",
      "metadata": {
        "id": "4mGNOsKKxtBM",
        "colab_type": "code",
        "colab": {}
      },
      "source": [
        "# calculate sum of explained variance (lon)\n",
        "print('uw code hier')"
      ],
      "execution_count": 0,
      "outputs": []
    },
    {
      "cell_type": "markdown",
      "metadata": {
        "id": "9DgahjKTyBd2",
        "colab_type": "text"
      },
      "source": [
        "##### 5.6 Plot explained variance (lon)"
      ]
    },
    {
      "cell_type": "code",
      "metadata": {
        "id": "x4tPrhjfx6Ai",
        "colab_type": "code",
        "colab": {}
      },
      "source": [
        "# plot variance (lon)\n",
        "print('உங்கள் குறியீடு இங்கே')"
      ],
      "execution_count": 0,
      "outputs": []
    },
    {
      "cell_type": "markdown",
      "metadata": {
        "id": "5P5Ai_i2RDXM",
        "colab_type": "text"
      },
      "source": [
        "<img src=\"https://66.media.tumblr.com/dded9d1a2bf2068f92af9f7a9b6b5451/tumblr_p6s3hbPzgV1vd8jsjo1_500.gifv\" width=\"300\">"
      ]
    }
  ]
}