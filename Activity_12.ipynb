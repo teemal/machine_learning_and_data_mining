{
  "nbformat": 4,
  "nbformat_minor": 0,
  "metadata": {
    "colab": {
      "name": "Activity 12.ipynb",
      "provenance": [],
      "collapsed_sections": [
        "GMJnv-ZfmGju",
        "3LlNghr3hkNn",
        "TQ5Yexv4n-D5",
        "q2SEV0STRSe7",
        "HAwJFGZYYNbh"
      ]
    },
    "kernelspec": {
      "name": "python3",
      "display_name": "Python 3"
    }
  },
  "cells": [
    {
      "cell_type": "markdown",
      "metadata": {
        "id": "EC56i4bjvyCu",
        "colab_type": "text"
      },
      "source": [
        "# Activity 12 - Bagging and Boosting"
      ]
    },
    {
      "cell_type": "markdown",
      "metadata": {
        "id": "41lYHO47v8mL",
        "colab_type": "text"
      },
      "source": [
        "***\n",
        "##### CS 434 - Data Mining and Machine Learning\n",
        "##### Oregon State University-Cascades\n",
        "***"
      ]
    },
    {
      "cell_type": "markdown",
      "metadata": {
        "id": "2cH2hH-iv_kB",
        "colab_type": "text"
      },
      "source": [
        "# Load packages"
      ]
    },
    {
      "cell_type": "code",
      "metadata": {
        "id": "VjhhNdfEvs9E",
        "colab_type": "code",
        "colab": {}
      },
      "source": [
        "import numpy as np\n",
        "import pandas as pd\n",
        "import matplotlib.pyplot as plt\n",
        "from sklearn.preprocessing import LabelEncoder\n",
        "from sklearn.model_selection import train_test_split\n",
        "from sklearn.tree import DecisionTreeClassifier\n",
        "from sklearn.ensemble import BaggingClassifier\n",
        "from sklearn.ensemble import AdaBoostClassifier\n",
        "from sklearn.ensemble import BaggingClassifier, ExtraTreesClassifier, RandomForestClassifier\n",
        "from sklearn.neighbors import KNeighborsClassifier\n",
        "from sklearn.linear_model import RidgeClassifier\n",
        "from xgboost import XGBClassifier\n",
        "from sklearn.svm import SVC\n",
        "from sklearn.model_selection import cross_val_score\n",
        "from sklearn.metrics import accuracy_score\n",
        "from sklearn.metrics import confusion_matrix, f1_score, accuracy_score"
      ],
      "execution_count": 0,
      "outputs": []
    },
    {
      "cell_type": "markdown",
      "metadata": {
        "id": "EQneUiUPwB-l",
        "colab_type": "text"
      },
      "source": [
        "# Dataset"
      ]
    },
    {
      "cell_type": "markdown",
      "metadata": {
        "id": "k1aklKIgv-OW",
        "colab_type": "text"
      },
      "source": [
        "[Bank Marketing Data Set](https://archive.ics.uci.edu/ml/datasets/bank+marketing)\n",
        "\n",
        "The data is related with direct marketing campaigns of a Portuguese banking institution. The marketing campaigns were based on phone calls. Often, more than one contact to the same client was required, in order to access if the product (bank term deposit) would be (`'yes'`) or not (`'no'`) subscribed.\n",
        "\n"
      ]
    },
    {
      "cell_type": "markdown",
      "metadata": {
        "id": "32pulXGmwpv8",
        "colab_type": "text"
      },
      "source": [
        "#### Features\n",
        "* **age** (numeric)\n",
        "* **job** : type of job (categorical) `'admin.','blue-collar','entrepreneur','housemaid','management','retired','self-employed','services','student','technician','unemployed','unknown'`\n",
        "* **marital** : marital status (categorical) `'divorced','married','single','unknown'; note: 'divorced' means divorced or widowed`\n",
        "* **education** (categorical): `'basic.4y','basic.6y','basic.9y','high.school','illiterate','professional.course','university.degree','unknown'`\n",
        "* **default**: has credit in default? (categorical) `'no','yes','unknown'`\n",
        "* **housing**: has housing loan? (categorical) `'no','yes','unknown'`\n",
        "* **loan**: has personal loan? (categorical) `'no','yes','unknown'`\n",
        "* **contact**: contact communication type (categorical) `'cellular','telephone'`\n",
        "* **month**: last contact month of year (categorical) `'jan', 'feb', 'mar', ..., 'nov', 'dec'`\n",
        "* **day_of_week**: last contact day of the week (categorical) `'mon','tue','wed','thu','fri'`\n",
        "* **duration**: last contact duration, in seconds (numeric). \n",
        "* **campaign**: number of contacts performed during this campaign and for this client (numeric, includes last contact)\n",
        "* **pdays**: number of days that passed by after the client was last contacted from a previous campaign (numeric; `999` means client was not previously contacted)\n",
        "* **previous**: number of contacts performed before this campaign and for this client (numeric)\n",
        "* **poutcome**: outcome of the previous marketing campaign (categorical) `'failure','nonexistent','success'`\n",
        "* **emp.var.rate**: employment variation rate - quarterly indicator (numeric)\n",
        "* **cons.price.idx**: consumer price index - monthly indicator (numeric)\n",
        "* **cons.conf.idx**: consumer confidence index - monthly indicator (numeric)\n",
        "* **euribor3m**: euribor 3 month rate - daily indicator (numeric)\n",
        "* **nr.employed**: number of employees - quarterly indicator (numeric)\n"
      ]
    },
    {
      "cell_type": "markdown",
      "metadata": {
        "id": "kihM_uFywsla",
        "colab_type": "text"
      },
      "source": [
        "#### Target variable:\n",
        "* **y**: has the client subscribed a term deposit? (binary: `'yes','no'`)"
      ]
    },
    {
      "cell_type": "code",
      "metadata": {
        "id": "9bsDAt2RK82y",
        "colab_type": "code",
        "colab": {}
      },
      "source": [
        "url = 'https://archive.ics.uci.edu/ml/machine-learning-databases/00222/bank.zip'\n",
        "zip_file = 'bank.zip'\n",
        "dat_file = 'bank.csv'           # exercise 1-5\n",
        "#dat_file = 'bank-full.csv'     # exercise 6  "
      ],
      "execution_count": 0,
      "outputs": []
    },
    {
      "cell_type": "markdown",
      "metadata": {
        "id": "ujpWhmje8B3F",
        "colab_type": "text"
      },
      "source": [
        "*** \n",
        "# Exercise #1 - Load data\n",
        "*** "
      ]
    },
    {
      "cell_type": "markdown",
      "metadata": {
        "id": "a383i5fZ8Dxy",
        "colab_type": "text"
      },
      "source": [
        "##### 1.1 `wget` the `url`"
      ]
    },
    {
      "cell_type": "code",
      "metadata": {
        "id": "mZBZhhpYIOya",
        "colab_type": "code",
        "colab": {}
      },
      "source": [
        "# fetch file, then comment out this line\n",
        "!wget $url"
      ],
      "execution_count": 0,
      "outputs": []
    },
    {
      "cell_type": "markdown",
      "metadata": {
        "id": "pZ4lfuggL05H",
        "colab_type": "text"
      },
      "source": [
        "##### 1.2 Unzip `zip_file`"
      ]
    },
    {
      "cell_type": "code",
      "metadata": {
        "id": "y6FU8fNZJOpE",
        "colab_type": "code",
        "colab": {}
      },
      "source": [
        "# unzip, then comment out this line\n",
        "!unzip $zip_file"
      ],
      "execution_count": 0,
      "outputs": []
    },
    {
      "cell_type": "markdown",
      "metadata": {
        "id": "HzFUEJJsL2eI",
        "colab_type": "text"
      },
      "source": [
        "##### 1.3 Read the `dat_file` into new dataframe `df`."
      ]
    },
    {
      "cell_type": "code",
      "metadata": {
        "id": "4kg1AHYzJiem",
        "colab_type": "code",
        "colab": {}
      },
      "source": [
        "# read the dataframe\n",
        "print('your code here')"
      ],
      "execution_count": 0,
      "outputs": []
    },
    {
      "cell_type": "markdown",
      "metadata": {
        "id": "NmWcRCxoNQwV",
        "colab_type": "text"
      },
      "source": [
        "##### 1.4 Describe dataframe"
      ]
    },
    {
      "cell_type": "code",
      "metadata": {
        "id": "0BWc3JJ5NU3X",
        "colab_type": "code",
        "colab": {}
      },
      "source": [
        "# describe df\n",
        "print('your code here')"
      ],
      "execution_count": 0,
      "outputs": []
    },
    {
      "cell_type": "markdown",
      "metadata": {
        "id": "Ji4AgHRyNkik",
        "colab_type": "text"
      },
      "source": [
        "##### 1.5 Count values in `'education'`"
      ]
    },
    {
      "cell_type": "code",
      "metadata": {
        "id": "vTgf5YTNNlWk",
        "colab_type": "code",
        "colab": {}
      },
      "source": [
        "# count values for 'education'\n",
        "print('your code here')"
      ],
      "execution_count": 0,
      "outputs": []
    },
    {
      "cell_type": "markdown",
      "metadata": {
        "id": "ApMw5EfrODnF",
        "colab_type": "text"
      },
      "source": [
        "> Don't overcomplicate.  The above takes one simple pandas' command."
      ]
    },
    {
      "cell_type": "markdown",
      "metadata": {
        "id": "e8nGnuvwLLc-",
        "colab_type": "text"
      },
      "source": [
        "*** \n",
        "# Exercise #2 - Prepare dataset\n",
        "*** "
      ]
    },
    {
      "cell_type": "markdown",
      "metadata": {
        "id": "SkQj44lfVfH5",
        "colab_type": "text"
      },
      "source": [
        "##### 2.1 Encode categorical features and class label"
      ]
    },
    {
      "cell_type": "code",
      "metadata": {
        "id": "sigsSFqtLReI",
        "colab_type": "code",
        "colab": {}
      },
      "source": [
        "# encode all attributes\n",
        "print('your code here')"
      ],
      "execution_count": 0,
      "outputs": []
    },
    {
      "cell_type": "markdown",
      "metadata": {
        "id": "xcQcUeFIWFqF",
        "colab_type": "text"
      },
      "source": [
        "A few of the features are numeric, but some have other issues (e.g., special `-1` value).  \n",
        "\n",
        "> Therefore, just encode **all** of the features. It makes it a one-liner with pandas/sklearn.  \n",
        "\n",
        "This is fine for some algorithms, like a decision tree (used below), but would not be desirable for a mathematical model, such as logistic regression."
      ]
    },
    {
      "cell_type": "markdown",
      "metadata": {
        "id": "GMJnv-ZfmGju",
        "colab_type": "text"
      },
      "source": [
        "###### Self Check"
      ]
    },
    {
      "cell_type": "code",
      "metadata": {
        "id": "ZoM_r-fQmJbW",
        "colab_type": "code",
        "colab": {}
      },
      "source": [
        "if dat_file == 'bank.csv' :\n",
        "  assert df.iloc[0,3] == 0 and df.iloc[1,3] == 1\n",
        "else:\n",
        "  assert df.iloc[0,3] == 2 and df.iloc[1,3] == 1"
      ],
      "execution_count": 0,
      "outputs": []
    },
    {
      "cell_type": "markdown",
      "metadata": {
        "id": "WORtx_alVq1D",
        "colab_type": "text"
      },
      "source": [
        "##### 2.2 Split `X` and `y`"
      ]
    },
    {
      "cell_type": "code",
      "metadata": {
        "id": "b8vGqOBqLL73",
        "colab_type": "code",
        "colab": {}
      },
      "source": [
        "# split X and y\n",
        "print('your code here')"
      ],
      "execution_count": 0,
      "outputs": []
    },
    {
      "cell_type": "markdown",
      "metadata": {
        "id": "dMqeXsS0XGxb",
        "colab_type": "text"
      },
      "source": [
        "##### 2.3 Partition to train and test sets with hold-out"
      ]
    },
    {
      "cell_type": "markdown",
      "metadata": {
        "id": "xDguwk5gXLOW",
        "colab_type": "text"
      },
      "source": [
        "* test proportion of 50%\n",
        "* `random_state=1`\n",
        "* stratify by `y`"
      ]
    },
    {
      "cell_type": "code",
      "metadata": {
        "id": "C64YLyejLPP1",
        "colab_type": "code",
        "colab": {}
      },
      "source": [
        "# partition train and test set\n",
        "print('your code here')"
      ],
      "execution_count": 0,
      "outputs": []
    },
    {
      "cell_type": "markdown",
      "metadata": {
        "id": "AfnkcID8XOjj",
        "colab_type": "text"
      },
      "source": [
        "##### 2.4 Print the shapes of your four sets"
      ]
    },
    {
      "cell_type": "code",
      "metadata": {
        "id": "WCwEX0QqXQVl",
        "colab_type": "code",
        "outputId": "fa836a26-f0b2-4232-c82f-fbe9f193b4df",
        "colab": {
          "base_uri": "https://localhost:8080/",
          "height": 51
        }
      },
      "source": [
        "# print shapes of train and test\n",
        "print('your code here')"
      ],
      "execution_count": 0,
      "outputs": [
        {
          "output_type": "stream",
          "text": [
            "Train: (2260, 16) (2260,)\n",
            "Test: (2261, 16) (2261,)\n"
          ],
          "name": "stdout"
        }
      ]
    },
    {
      "cell_type": "markdown",
      "metadata": {
        "id": "topHkkn9wnTP",
        "colab_type": "text"
      },
      "source": [
        "*** \n",
        "# Exercise #3 - Baseline decision tree\n",
        "*** "
      ]
    },
    {
      "cell_type": "markdown",
      "metadata": {
        "id": "IWR4nM5oTAYZ",
        "colab_type": "text"
      },
      "source": [
        "##### 3.1 Build a decision tree"
      ]
    },
    {
      "cell_type": "markdown",
      "metadata": {
        "id": "zFUT0Zruf5rC",
        "colab_type": "text"
      },
      "source": [
        "* entropy\n",
        "* no max depth\n",
        "* `random_state=1`"
      ]
    },
    {
      "cell_type": "code",
      "metadata": {
        "id": "u24eGAOLwos_",
        "colab_type": "code",
        "colab": {}
      },
      "source": [
        "# create Decision Tree\n",
        "print('your code here')"
      ],
      "execution_count": 0,
      "outputs": []
    },
    {
      "cell_type": "markdown",
      "metadata": {
        "id": "3LlNghr3hkNn",
        "colab_type": "text"
      },
      "source": [
        "###### Self Check"
      ]
    },
    {
      "cell_type": "markdown",
      "metadata": {
        "id": "PQ63FBRFhlp3",
        "colab_type": "text"
      },
      "source": [
        "```python\n",
        "DecisionTreeClassifier(ccp_alpha=0.0, class_weight=None, criterion='entropy',\n",
        "                       max_depth=None, max_features=None, max_leaf_nodes=None,\n",
        "                       min_impurity_decrease=0.0, min_impurity_split=None,\n",
        "                       min_samples_leaf=1, min_samples_split=2,\n",
        "                       min_weight_fraction_leaf=0.0, presort='deprecated',\n",
        "                       random_state=1, splitter='best')\n",
        "```"
      ]
    },
    {
      "cell_type": "markdown",
      "metadata": {
        "id": "dd9DKSTFwrjl",
        "colab_type": "text"
      },
      "source": [
        "##### 3.2 Train and test your tree"
      ]
    },
    {
      "cell_type": "markdown",
      "metadata": {
        "id": "s6qbBuRDilZ8",
        "colab_type": "text"
      },
      "source": [
        "* predict both `X_train` and `X_test`\n",
        "* save predictions for both (e.g., `y_train_pred` and `y_test_pred`)"
      ]
    },
    {
      "cell_type": "code",
      "metadata": {
        "id": "PFjAI40ywsNF",
        "colab_type": "code",
        "colab": {}
      },
      "source": [
        "# train decision tree\n",
        "print('your code here')"
      ],
      "execution_count": 0,
      "outputs": []
    },
    {
      "cell_type": "markdown",
      "metadata": {
        "id": "zgpi9x5-jjjB",
        "colab_type": "text"
      },
      "source": [
        "##### 3.3 Determine accuracy and F$_1$ score (train and test set)"
      ]
    },
    {
      "cell_type": "code",
      "metadata": {
        "id": "xq6MYWznihpS",
        "colab_type": "code",
        "colab": {}
      },
      "source": [
        "# print accuracy and F1\n",
        "print('your code here')"
      ],
      "execution_count": 0,
      "outputs": []
    },
    {
      "cell_type": "markdown",
      "metadata": {
        "id": "TQ5Yexv4n-D5",
        "colab_type": "text"
      },
      "source": [
        "##### Self Check"
      ]
    },
    {
      "cell_type": "markdown",
      "metadata": {
        "id": "jZynkunNoBA3",
        "colab_type": "text"
      },
      "source": [
        "The accuracy and F$_1$ of the *train* set are both `1.0`."
      ]
    },
    {
      "cell_type": "markdown",
      "metadata": {
        "id": "ZBafDKOhwrox",
        "colab_type": "text"
      },
      "source": [
        "##### 3.4 Plot a confusion matrix (test set)"
      ]
    },
    {
      "cell_type": "code",
      "metadata": {
        "id": "6UUz8yJ0XhwA",
        "colab_type": "code",
        "colab": {}
      },
      "source": [
        "# graph a confusion matrix\n",
        "print('your code here')"
      ],
      "execution_count": 0,
      "outputs": []
    },
    {
      "cell_type": "markdown",
      "metadata": {
        "id": "TPRvVeMjWgeJ",
        "colab_type": "text"
      },
      "source": [
        "> Note the discrepency between accuracy and F$_1$.  This skew is caused by the severe class imbalance. The confusion matrix and the F$_1$ score paint a more honest picture.  The accuracy reflects the (skewed) distribution of the class label in the data set. "
      ]
    },
    {
      "cell_type": "markdown",
      "metadata": {
        "id": "OMM20j4VohQ9",
        "colab_type": "text"
      },
      "source": [
        "*** \n",
        "# Exercise #4 - Bagger\n",
        "*** "
      ]
    },
    {
      "cell_type": "markdown",
      "metadata": {
        "id": "S8Lu_Tffmbdj",
        "colab_type": "text"
      },
      "source": [
        "##### 4.1 Bag your decision tree"
      ]
    },
    {
      "cell_type": "markdown",
      "metadata": {
        "id": "s53zbJKRmiWY",
        "colab_type": "text"
      },
      "source": [
        "* use a `BaggingClassifier` (see [api](https://scikit-learn.org/stable/modules/generated/sklearn.ensemble.BaggingClassifier.html))\n",
        "* use your tree from Ex.#3\n",
        "* use 100 estimators\n",
        "* `bootstrap=True`\n",
        "* `random_state=1`\n",
        "* `n_jobs=-1`"
      ]
    },
    {
      "cell_type": "code",
      "metadata": {
        "id": "i96u-FVHRb9N",
        "colab_type": "code",
        "colab": {}
      },
      "source": [
        "# build bagger\n",
        "print('your code here')"
      ],
      "execution_count": 0,
      "outputs": []
    },
    {
      "cell_type": "markdown",
      "metadata": {
        "id": "q2SEV0STRSe7",
        "colab_type": "text"
      },
      "source": [
        "###### Self Check"
      ]
    },
    {
      "cell_type": "markdown",
      "metadata": {
        "id": "wJsOtXrgpBDh",
        "colab_type": "text"
      },
      "source": [
        "```python\n",
        "BaggingClassifier(base_estimator=DecisionTreeClassifier(ccp_alpha=0.0,\n",
        "                                                        class_weight=None,\n",
        "                                                        criterion='entropy',\n",
        "                                                        max_depth=None,\n",
        "                                                        max_features=None,\n",
        "                                                        max_leaf_nodes=None,\n",
        "                                                        min_impurity_decrease=0.0,\n",
        "                                                        min_impurity_split=None,\n",
        "                                                        min_samples_leaf=1,\n",
        "                                                        min_samples_split=2,\n",
        "                                                        min_weight_fraction_leaf=0.0,\n",
        "                                                        presort='deprecated',\n",
        "                                                        random_state=1,\n",
        "                                                        splitter='best'),\n",
        "                  bootstrap=True, bootstrap_features=False, max_features=1.0,\n",
        "                  max_samples=1.0, n_estimators=100, n_jobs=-1, oob_score=False,\n",
        "                  random_state=1, verbose=0, warm_start=False)\n",
        "```"
      ]
    },
    {
      "cell_type": "markdown",
      "metadata": {
        "id": "vg2Scp4gmhEX",
        "colab_type": "text"
      },
      "source": [
        "##### 4.2 Train and test bagger"
      ]
    },
    {
      "cell_type": "markdown",
      "metadata": {
        "id": "O1rybsw9xKlp",
        "colab_type": "text"
      },
      "source": [
        "* predict both `X_train` and `X_test`\n",
        "* save predictions for both (e.g., `y_train_pred` and `y_test_pred`)"
      ]
    },
    {
      "cell_type": "code",
      "metadata": {
        "id": "F4BAGnDpwug_",
        "colab_type": "code",
        "colab": {}
      },
      "source": [
        "# train bagger\n",
        "print('your code here')"
      ],
      "execution_count": 0,
      "outputs": []
    },
    {
      "cell_type": "markdown",
      "metadata": {
        "id": "YL4gEze_XJO-",
        "colab_type": "text"
      },
      "source": [
        "##### 4.3 Determine accuracy and F$_1$ score (train and test)"
      ]
    },
    {
      "cell_type": "code",
      "metadata": {
        "id": "csUy_JRExOrj",
        "colab_type": "code",
        "colab": {}
      },
      "source": [
        "# print accuracy and F1\n",
        "print('your code here')"
      ],
      "execution_count": 0,
      "outputs": []
    },
    {
      "cell_type": "markdown",
      "metadata": {
        "id": "rSGJabGAXSfg",
        "colab_type": "text"
      },
      "source": [
        "##### 4.4 Plot a confusion matrix (test set)"
      ]
    },
    {
      "cell_type": "code",
      "metadata": {
        "id": "bPUE0PKFXWde",
        "colab_type": "code",
        "colab": {}
      },
      "source": [
        "# graph a confusion matrix\n",
        "print('your code here')"
      ],
      "execution_count": 0,
      "outputs": []
    },
    {
      "cell_type": "markdown",
      "metadata": {
        "id": "i6FDLtE8yH5p",
        "colab_type": "text"
      },
      "source": [
        "*** \n",
        "# Exercise #5 - Boosting\n",
        "*** "
      ]
    },
    {
      "cell_type": "markdown",
      "metadata": {
        "id": "qNU48_36Xtt_",
        "colab_type": "text"
      },
      "source": [
        "##### 5.1 Boost your decision tree"
      ]
    },
    {
      "cell_type": "markdown",
      "metadata": {
        "id": "bqr_vuidX-So",
        "colab_type": "text"
      },
      "source": [
        "* construct an `AdaBoost` model (see [api](https://scikit-learn.org/stable/modules/generated/sklearn.ensemble.AdaBoostClassifier.html))\n",
        "* use your tree from Ex.#3\n",
        "* use 100 estimators\n",
        "* `learning_rate=0.1`\n",
        "* `random_state=1`"
      ]
    },
    {
      "cell_type": "code",
      "metadata": {
        "id": "4GSmYIqtUZbu",
        "colab_type": "code",
        "colab": {}
      },
      "source": [
        "# build AdaBoost\n",
        "print('your code here')"
      ],
      "execution_count": 0,
      "outputs": []
    },
    {
      "cell_type": "markdown",
      "metadata": {
        "id": "eKW2_NAsYS59",
        "colab_type": "text"
      },
      "source": [
        "> For bagging, you could parallelize with `n_jobs` parameter.  There is no such option for AdaBoost. **Why is this?** \n",
        ">\n",
        "> Consider the fundamental differences between the two approaches (see \"flowchart\" images in Lecture 12). "
      ]
    },
    {
      "cell_type": "markdown",
      "metadata": {
        "id": "HAwJFGZYYNbh",
        "colab_type": "text"
      },
      "source": [
        "###### Self Check"
      ]
    },
    {
      "cell_type": "markdown",
      "metadata": {
        "id": "lQg8Tw8HYO2U",
        "colab_type": "text"
      },
      "source": [
        "```python\n",
        "AdaBoostClassifier(algorithm='SAMME.R',\n",
        "                   base_estimator=DecisionTreeClassifier(ccp_alpha=0.0,\n",
        "                                                         class_weight=None,\n",
        "                                                         criterion='entropy',\n",
        "                                                         max_depth=None,\n",
        "                                                         max_features=None,\n",
        "                                                         max_leaf_nodes=None,\n",
        "                                                         min_impurity_decrease=0.0,\n",
        "                                                         min_impurity_split=None,\n",
        "                                                         min_samples_leaf=1,\n",
        "                                                         min_samples_split=2,\n",
        "                                                         min_weight_fraction_leaf=0.0,\n",
        "                                                         presort='deprecated',\n",
        "                                                         random_state=1,\n",
        "                                                         splitter='best'),\n",
        "                   learning_rate=0.1, n_estimators=100, random_state=1)\n",
        "```                   "
      ]
    },
    {
      "cell_type": "markdown",
      "metadata": {
        "id": "o1JcvPF_Y4qA",
        "colab_type": "text"
      },
      "source": [
        "##### 5.2 Train and test AdaBoost"
      ]
    },
    {
      "cell_type": "markdown",
      "metadata": {
        "id": "eEmeNVLQZ1Ec",
        "colab_type": "text"
      },
      "source": [
        "* predict both `X_train` and `X_test`\n",
        "* save predictions for both (e.g., `y_train_pred` and `y_test_pred`)"
      ]
    },
    {
      "cell_type": "code",
      "metadata": {
        "id": "4cHVFuTtyKY8",
        "colab_type": "code",
        "colab": {}
      },
      "source": [
        "# train AdaBoost\n",
        "print('your code here')"
      ],
      "execution_count": 0,
      "outputs": []
    },
    {
      "cell_type": "markdown",
      "metadata": {
        "id": "xFBLaPKWZgia",
        "colab_type": "text"
      },
      "source": [
        "##### 5.3 Determine accuracy and F$_1$ score (train and test)"
      ]
    },
    {
      "cell_type": "code",
      "metadata": {
        "id": "ms7asv40ZPO9",
        "colab_type": "code",
        "colab": {}
      },
      "source": [
        "# print accuracy and F1\n",
        "print('your code here')"
      ],
      "execution_count": 0,
      "outputs": []
    },
    {
      "cell_type": "markdown",
      "metadata": {
        "id": "MY3NVMHGZc2M",
        "colab_type": "text"
      },
      "source": [
        "##### 5.4 Plot a confusion matrix (test set)"
      ]
    },
    {
      "cell_type": "code",
      "metadata": {
        "id": "5FW3hg-sX4e0",
        "colab_type": "code",
        "colab": {}
      },
      "source": [
        "# graph a confusion matrix\n",
        "print('your code here')"
      ],
      "execution_count": 0,
      "outputs": []
    },
    {
      "cell_type": "markdown",
      "metadata": {
        "id": "hA9KOJ_Aa1B_",
        "colab_type": "text"
      },
      "source": [
        "*** \n",
        "# Exercise #6 - Go big or go home$^1$\n",
        "*** "
      ]
    },
    {
      "cell_type": "markdown",
      "metadata": {
        "id": "HuQL8shmb2tP",
        "colab_type": "text"
      },
      "source": [
        "> $^1$ ... *but it's March Mayteenth, 2020. I'm already at home.*"
      ]
    },
    {
      "cell_type": "markdown",
      "metadata": {
        "id": "YmRgpj2qa7Fj",
        "colab_type": "text"
      },
      "source": [
        "##### 6.1 Run the entire Activity 12 again on `'bank-full.csv'`."
      ]
    },
    {
      "cell_type": "markdown",
      "metadata": {
        "id": "ZR4QhvF_bIdz",
        "colab_type": "text"
      },
      "source": [
        "In the dataset section, switch `dat_file` to be `'bank-full.csv'`.\n",
        "```python\n",
        "#dat_file = 'bank.csv'           # exercise 1-5\n",
        "dat_file = 'bank-full.csv'        # exercise 6  \n",
        "```"
      ]
    },
    {
      "cell_type": "markdown",
      "metadata": {
        "id": "IVQlaOdvfnxa",
        "colab_type": "text"
      },
      "source": [
        "> `'bank-full.csv'` be 10 times mo' biggly than `'bank.csv'`"
      ]
    },
    {
      "cell_type": "markdown",
      "metadata": {
        "id": "pAcRvZAXnGQv",
        "colab_type": "text"
      },
      "source": [
        "**Remember** to change back and re-run to the smaller `'bank.csv'` before answering the Canvas questions. "
      ]
    }
  ]
}