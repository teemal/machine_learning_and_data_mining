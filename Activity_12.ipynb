{
  "nbformat": 4,
  "nbformat_minor": 0,
  "metadata": {
    "colab": {
      "name": "Activity 12.ipynb",
      "provenance": [],
      "collapsed_sections": [
        "GMJnv-ZfmGju",
        "3LlNghr3hkNn",
        "TQ5Yexv4n-D5",
        "q2SEV0STRSe7",
        "HAwJFGZYYNbh"
      ]
    },
    "kernelspec": {
      "name": "python3",
      "display_name": "Python 3"
    }
  },
  "cells": [
    {
      "cell_type": "markdown",
      "metadata": {
        "id": "EC56i4bjvyCu",
        "colab_type": "text"
      },
      "source": [
        "# Activity 12 - Bagging and Boosting"
      ]
    },
    {
      "cell_type": "markdown",
      "metadata": {
        "id": "41lYHO47v8mL",
        "colab_type": "text"
      },
      "source": [
        "***\n",
        "##### CS 434 - Data Mining and Machine Learning\n",
        "##### Oregon State University-Cascades\n",
        "***"
      ]
    },
    {
      "cell_type": "markdown",
      "metadata": {
        "id": "2cH2hH-iv_kB",
        "colab_type": "text"
      },
      "source": [
        "# Load packages"
      ]
    },
    {
      "cell_type": "code",
      "metadata": {
        "id": "VjhhNdfEvs9E",
        "colab_type": "code",
        "colab": {}
      },
      "source": [
        "import numpy as np\n",
        "import pandas as pd\n",
        "import matplotlib.pyplot as plt\n",
        "from sklearn.preprocessing import LabelEncoder\n",
        "from sklearn.model_selection import train_test_split\n",
        "from sklearn.tree import DecisionTreeClassifier\n",
        "from sklearn.ensemble import BaggingClassifier\n",
        "from sklearn.ensemble import AdaBoostClassifier\n",
        "from sklearn.ensemble import BaggingClassifier, ExtraTreesClassifier, RandomForestClassifier\n",
        "from sklearn.neighbors import KNeighborsClassifier\n",
        "from sklearn.linear_model import RidgeClassifier\n",
        "from xgboost import XGBClassifier\n",
        "from sklearn.svm import SVC\n",
        "from sklearn.model_selection import cross_val_score\n",
        "from sklearn.metrics import accuracy_score\n",
        "from sklearn.metrics import confusion_matrix, f1_score, accuracy_score"
      ],
      "execution_count": 0,
      "outputs": []
    },
    {
      "cell_type": "markdown",
      "metadata": {
        "id": "EQneUiUPwB-l",
        "colab_type": "text"
      },
      "source": [
        "# Dataset"
      ]
    },
    {
      "cell_type": "markdown",
      "metadata": {
        "id": "k1aklKIgv-OW",
        "colab_type": "text"
      },
      "source": [
        "[Bank Marketing Data Set](https://archive.ics.uci.edu/ml/datasets/bank+marketing)\n",
        "\n",
        "The data is related with direct marketing campaigns of a Portuguese banking institution. The marketing campaigns were based on phone calls. Often, more than one contact to the same client was required, in order to access if the product (bank term deposit) would be (`'yes'`) or not (`'no'`) subscribed.\n",
        "\n"
      ]
    },
    {
      "cell_type": "markdown",
      "metadata": {
        "id": "32pulXGmwpv8",
        "colab_type": "text"
      },
      "source": [
        "#### Features\n",
        "* **age** (numeric)\n",
        "* **job** : type of job (categorical) `'admin.','blue-collar','entrepreneur','housemaid','management','retired','self-employed','services','student','technician','unemployed','unknown'`\n",
        "* **marital** : marital status (categorical) `'divorced','married','single','unknown'; note: 'divorced' means divorced or widowed`\n",
        "* **education** (categorical): `'basic.4y','basic.6y','basic.9y','high.school','illiterate','professional.course','university.degree','unknown'`\n",
        "* **default**: has credit in default? (categorical) `'no','yes','unknown'`\n",
        "* **housing**: has housing loan? (categorical) `'no','yes','unknown'`\n",
        "* **loan**: has personal loan? (categorical) `'no','yes','unknown'`\n",
        "* **contact**: contact communication type (categorical) `'cellular','telephone'`\n",
        "* **month**: last contact month of year (categorical) `'jan', 'feb', 'mar', ..., 'nov', 'dec'`\n",
        "* **day_of_week**: last contact day of the week (categorical) `'mon','tue','wed','thu','fri'`\n",
        "* **duration**: last contact duration, in seconds (numeric). \n",
        "* **campaign**: number of contacts performed during this campaign and for this client (numeric, includes last contact)\n",
        "* **pdays**: number of days that passed by after the client was last contacted from a previous campaign (numeric; `999` means client was not previously contacted)\n",
        "* **previous**: number of contacts performed before this campaign and for this client (numeric)\n",
        "* **poutcome**: outcome of the previous marketing campaign (categorical) `'failure','nonexistent','success'`\n",
        "* **emp.var.rate**: employment variation rate - quarterly indicator (numeric)\n",
        "* **cons.price.idx**: consumer price index - monthly indicator (numeric)\n",
        "* **cons.conf.idx**: consumer confidence index - monthly indicator (numeric)\n",
        "* **euribor3m**: euribor 3 month rate - daily indicator (numeric)\n",
        "* **nr.employed**: number of employees - quarterly indicator (numeric)\n"
      ]
    },
    {
      "cell_type": "markdown",
      "metadata": {
        "id": "kihM_uFywsla",
        "colab_type": "text"
      },
      "source": [
        "#### Target variable:\n",
        "* **y**: has the client subscribed a term deposit? (binary: `'yes','no'`)"
      ]
    },
    {
      "cell_type": "code",
      "metadata": {
        "id": "9bsDAt2RK82y",
        "colab_type": "code",
        "colab": {}
      },
      "source": [
        "url = 'https://archive.ics.uci.edu/ml/machine-learning-databases/00222/bank.zip'\n",
        "zip_file = 'bank.zip'\n",
        "dat_file = 'bank.csv'           # exercise 1-5\n",
        "# dat_file = 'bank-full.csv'     # exercise 6  "
      ],
      "execution_count": 0,
      "outputs": []
    },
    {
      "cell_type": "markdown",
      "metadata": {
        "id": "ujpWhmje8B3F",
        "colab_type": "text"
      },
      "source": [
        "*** \n",
        "# Exercise #1 - Load data\n",
        "*** "
      ]
    },
    {
      "cell_type": "markdown",
      "metadata": {
        "id": "a383i5fZ8Dxy",
        "colab_type": "text"
      },
      "source": [
        "##### 1.1 `wget` the `url`"
      ]
    },
    {
      "cell_type": "code",
      "metadata": {
        "id": "mZBZhhpYIOya",
        "colab_type": "code",
        "colab": {
          "base_uri": "https://localhost:8080/",
          "height": 204
        },
        "outputId": "e5676e5c-0969-4d20-b03f-256e7772a685"
      },
      "source": [
        "# fetch file, then comment out this line\n",
        "!wget $url"
      ],
      "execution_count": 46,
      "outputs": [
        {
          "output_type": "stream",
          "text": [
            "--2020-05-07 16:22:58--  https://archive.ics.uci.edu/ml/machine-learning-databases/00222/bank.zip\n",
            "Resolving archive.ics.uci.edu (archive.ics.uci.edu)... 128.195.10.252\n",
            "Connecting to archive.ics.uci.edu (archive.ics.uci.edu)|128.195.10.252|:443... connected.\n",
            "HTTP request sent, awaiting response... 200 OK\n",
            "Length: 579043 (565K) [application/x-httpd-php]\n",
            "Saving to: ‘bank.zip.1’\n",
            "\n",
            "bank.zip.1          100%[===================>] 565.47K  1.72MB/s    in 0.3s    \n",
            "\n",
            "2020-05-07 16:22:59 (1.72 MB/s) - ‘bank.zip.1’ saved [579043/579043]\n",
            "\n"
          ],
          "name": "stdout"
        }
      ]
    },
    {
      "cell_type": "markdown",
      "metadata": {
        "id": "pZ4lfuggL05H",
        "colab_type": "text"
      },
      "source": [
        "##### 1.2 Unzip `zip_file`"
      ]
    },
    {
      "cell_type": "code",
      "metadata": {
        "id": "y6FU8fNZJOpE",
        "colab_type": "code",
        "colab": {
          "base_uri": "https://localhost:8080/",
          "height": 136
        },
        "outputId": "04f8c8f1-7e3b-4a73-bc9c-6fa0647c6515"
      },
      "source": [
        "# unzip, then comment out this line\n",
        "!unzip $zip_file"
      ],
      "execution_count": 68,
      "outputs": [
        {
          "output_type": "stream",
          "text": [
            "Archive:  bank.zip\n",
            "replace bank-full.csv? [y]es, [n]o, [A]ll, [N]one, [r]ename: y\n",
            "  inflating: bank-full.csv           \n",
            "replace bank-names.txt? [y]es, [n]o, [A]ll, [N]one, [r]ename: y\n",
            "  inflating: bank-names.txt          \n",
            "replace bank.csv? [y]es, [n]o, [A]ll, [N]one, [r]ename: y\n",
            "  inflating: bank.csv                \n"
          ],
          "name": "stdout"
        }
      ]
    },
    {
      "cell_type": "markdown",
      "metadata": {
        "id": "HzFUEJJsL2eI",
        "colab_type": "text"
      },
      "source": [
        "##### 1.3 Read the `dat_file` into new dataframe `df`."
      ]
    },
    {
      "cell_type": "code",
      "metadata": {
        "id": "4kg1AHYzJiem",
        "colab_type": "code",
        "colab": {
          "base_uri": "https://localhost:8080/",
          "height": 419
        },
        "outputId": "25ac73fb-8176-42d6-85c5-b6dbae02d2c3"
      },
      "source": [
        "# read the dataframe\n",
        "df = pd.read_csv(dat_file, delimiter=';')\n",
        "df"
      ],
      "execution_count": 69,
      "outputs": [
        {
          "output_type": "execute_result",
          "data": {
            "text/html": [
              "<div>\n",
              "<style scoped>\n",
              "    .dataframe tbody tr th:only-of-type {\n",
              "        vertical-align: middle;\n",
              "    }\n",
              "\n",
              "    .dataframe tbody tr th {\n",
              "        vertical-align: top;\n",
              "    }\n",
              "\n",
              "    .dataframe thead th {\n",
              "        text-align: right;\n",
              "    }\n",
              "</style>\n",
              "<table border=\"1\" class=\"dataframe\">\n",
              "  <thead>\n",
              "    <tr style=\"text-align: right;\">\n",
              "      <th></th>\n",
              "      <th>age</th>\n",
              "      <th>job</th>\n",
              "      <th>marital</th>\n",
              "      <th>education</th>\n",
              "      <th>default</th>\n",
              "      <th>balance</th>\n",
              "      <th>housing</th>\n",
              "      <th>loan</th>\n",
              "      <th>contact</th>\n",
              "      <th>day</th>\n",
              "      <th>month</th>\n",
              "      <th>duration</th>\n",
              "      <th>campaign</th>\n",
              "      <th>pdays</th>\n",
              "      <th>previous</th>\n",
              "      <th>poutcome</th>\n",
              "      <th>y</th>\n",
              "    </tr>\n",
              "  </thead>\n",
              "  <tbody>\n",
              "    <tr>\n",
              "      <th>0</th>\n",
              "      <td>58</td>\n",
              "      <td>management</td>\n",
              "      <td>married</td>\n",
              "      <td>tertiary</td>\n",
              "      <td>no</td>\n",
              "      <td>2143</td>\n",
              "      <td>yes</td>\n",
              "      <td>no</td>\n",
              "      <td>unknown</td>\n",
              "      <td>5</td>\n",
              "      <td>may</td>\n",
              "      <td>261</td>\n",
              "      <td>1</td>\n",
              "      <td>-1</td>\n",
              "      <td>0</td>\n",
              "      <td>unknown</td>\n",
              "      <td>no</td>\n",
              "    </tr>\n",
              "    <tr>\n",
              "      <th>1</th>\n",
              "      <td>44</td>\n",
              "      <td>technician</td>\n",
              "      <td>single</td>\n",
              "      <td>secondary</td>\n",
              "      <td>no</td>\n",
              "      <td>29</td>\n",
              "      <td>yes</td>\n",
              "      <td>no</td>\n",
              "      <td>unknown</td>\n",
              "      <td>5</td>\n",
              "      <td>may</td>\n",
              "      <td>151</td>\n",
              "      <td>1</td>\n",
              "      <td>-1</td>\n",
              "      <td>0</td>\n",
              "      <td>unknown</td>\n",
              "      <td>no</td>\n",
              "    </tr>\n",
              "    <tr>\n",
              "      <th>2</th>\n",
              "      <td>33</td>\n",
              "      <td>entrepreneur</td>\n",
              "      <td>married</td>\n",
              "      <td>secondary</td>\n",
              "      <td>no</td>\n",
              "      <td>2</td>\n",
              "      <td>yes</td>\n",
              "      <td>yes</td>\n",
              "      <td>unknown</td>\n",
              "      <td>5</td>\n",
              "      <td>may</td>\n",
              "      <td>76</td>\n",
              "      <td>1</td>\n",
              "      <td>-1</td>\n",
              "      <td>0</td>\n",
              "      <td>unknown</td>\n",
              "      <td>no</td>\n",
              "    </tr>\n",
              "    <tr>\n",
              "      <th>3</th>\n",
              "      <td>47</td>\n",
              "      <td>blue-collar</td>\n",
              "      <td>married</td>\n",
              "      <td>unknown</td>\n",
              "      <td>no</td>\n",
              "      <td>1506</td>\n",
              "      <td>yes</td>\n",
              "      <td>no</td>\n",
              "      <td>unknown</td>\n",
              "      <td>5</td>\n",
              "      <td>may</td>\n",
              "      <td>92</td>\n",
              "      <td>1</td>\n",
              "      <td>-1</td>\n",
              "      <td>0</td>\n",
              "      <td>unknown</td>\n",
              "      <td>no</td>\n",
              "    </tr>\n",
              "    <tr>\n",
              "      <th>4</th>\n",
              "      <td>33</td>\n",
              "      <td>unknown</td>\n",
              "      <td>single</td>\n",
              "      <td>unknown</td>\n",
              "      <td>no</td>\n",
              "      <td>1</td>\n",
              "      <td>no</td>\n",
              "      <td>no</td>\n",
              "      <td>unknown</td>\n",
              "      <td>5</td>\n",
              "      <td>may</td>\n",
              "      <td>198</td>\n",
              "      <td>1</td>\n",
              "      <td>-1</td>\n",
              "      <td>0</td>\n",
              "      <td>unknown</td>\n",
              "      <td>no</td>\n",
              "    </tr>\n",
              "    <tr>\n",
              "      <th>...</th>\n",
              "      <td>...</td>\n",
              "      <td>...</td>\n",
              "      <td>...</td>\n",
              "      <td>...</td>\n",
              "      <td>...</td>\n",
              "      <td>...</td>\n",
              "      <td>...</td>\n",
              "      <td>...</td>\n",
              "      <td>...</td>\n",
              "      <td>...</td>\n",
              "      <td>...</td>\n",
              "      <td>...</td>\n",
              "      <td>...</td>\n",
              "      <td>...</td>\n",
              "      <td>...</td>\n",
              "      <td>...</td>\n",
              "      <td>...</td>\n",
              "    </tr>\n",
              "    <tr>\n",
              "      <th>45206</th>\n",
              "      <td>51</td>\n",
              "      <td>technician</td>\n",
              "      <td>married</td>\n",
              "      <td>tertiary</td>\n",
              "      <td>no</td>\n",
              "      <td>825</td>\n",
              "      <td>no</td>\n",
              "      <td>no</td>\n",
              "      <td>cellular</td>\n",
              "      <td>17</td>\n",
              "      <td>nov</td>\n",
              "      <td>977</td>\n",
              "      <td>3</td>\n",
              "      <td>-1</td>\n",
              "      <td>0</td>\n",
              "      <td>unknown</td>\n",
              "      <td>yes</td>\n",
              "    </tr>\n",
              "    <tr>\n",
              "      <th>45207</th>\n",
              "      <td>71</td>\n",
              "      <td>retired</td>\n",
              "      <td>divorced</td>\n",
              "      <td>primary</td>\n",
              "      <td>no</td>\n",
              "      <td>1729</td>\n",
              "      <td>no</td>\n",
              "      <td>no</td>\n",
              "      <td>cellular</td>\n",
              "      <td>17</td>\n",
              "      <td>nov</td>\n",
              "      <td>456</td>\n",
              "      <td>2</td>\n",
              "      <td>-1</td>\n",
              "      <td>0</td>\n",
              "      <td>unknown</td>\n",
              "      <td>yes</td>\n",
              "    </tr>\n",
              "    <tr>\n",
              "      <th>45208</th>\n",
              "      <td>72</td>\n",
              "      <td>retired</td>\n",
              "      <td>married</td>\n",
              "      <td>secondary</td>\n",
              "      <td>no</td>\n",
              "      <td>5715</td>\n",
              "      <td>no</td>\n",
              "      <td>no</td>\n",
              "      <td>cellular</td>\n",
              "      <td>17</td>\n",
              "      <td>nov</td>\n",
              "      <td>1127</td>\n",
              "      <td>5</td>\n",
              "      <td>184</td>\n",
              "      <td>3</td>\n",
              "      <td>success</td>\n",
              "      <td>yes</td>\n",
              "    </tr>\n",
              "    <tr>\n",
              "      <th>45209</th>\n",
              "      <td>57</td>\n",
              "      <td>blue-collar</td>\n",
              "      <td>married</td>\n",
              "      <td>secondary</td>\n",
              "      <td>no</td>\n",
              "      <td>668</td>\n",
              "      <td>no</td>\n",
              "      <td>no</td>\n",
              "      <td>telephone</td>\n",
              "      <td>17</td>\n",
              "      <td>nov</td>\n",
              "      <td>508</td>\n",
              "      <td>4</td>\n",
              "      <td>-1</td>\n",
              "      <td>0</td>\n",
              "      <td>unknown</td>\n",
              "      <td>no</td>\n",
              "    </tr>\n",
              "    <tr>\n",
              "      <th>45210</th>\n",
              "      <td>37</td>\n",
              "      <td>entrepreneur</td>\n",
              "      <td>married</td>\n",
              "      <td>secondary</td>\n",
              "      <td>no</td>\n",
              "      <td>2971</td>\n",
              "      <td>no</td>\n",
              "      <td>no</td>\n",
              "      <td>cellular</td>\n",
              "      <td>17</td>\n",
              "      <td>nov</td>\n",
              "      <td>361</td>\n",
              "      <td>2</td>\n",
              "      <td>188</td>\n",
              "      <td>11</td>\n",
              "      <td>other</td>\n",
              "      <td>no</td>\n",
              "    </tr>\n",
              "  </tbody>\n",
              "</table>\n",
              "<p>45211 rows × 17 columns</p>\n",
              "</div>"
            ],
            "text/plain": [
              "       age           job   marital  education  ... pdays  previous poutcome    y\n",
              "0       58    management   married   tertiary  ...    -1         0  unknown   no\n",
              "1       44    technician    single  secondary  ...    -1         0  unknown   no\n",
              "2       33  entrepreneur   married  secondary  ...    -1         0  unknown   no\n",
              "3       47   blue-collar   married    unknown  ...    -1         0  unknown   no\n",
              "4       33       unknown    single    unknown  ...    -1         0  unknown   no\n",
              "...    ...           ...       ...        ...  ...   ...       ...      ...  ...\n",
              "45206   51    technician   married   tertiary  ...    -1         0  unknown  yes\n",
              "45207   71       retired  divorced    primary  ...    -1         0  unknown  yes\n",
              "45208   72       retired   married  secondary  ...   184         3  success  yes\n",
              "45209   57   blue-collar   married  secondary  ...    -1         0  unknown   no\n",
              "45210   37  entrepreneur   married  secondary  ...   188        11    other   no\n",
              "\n",
              "[45211 rows x 17 columns]"
            ]
          },
          "metadata": {
            "tags": []
          },
          "execution_count": 69
        }
      ]
    },
    {
      "cell_type": "markdown",
      "metadata": {
        "id": "NmWcRCxoNQwV",
        "colab_type": "text"
      },
      "source": [
        "##### 1.4 Describe dataframe"
      ]
    },
    {
      "cell_type": "code",
      "metadata": {
        "id": "0BWc3JJ5NU3X",
        "colab_type": "code",
        "colab": {
          "base_uri": "https://localhost:8080/",
          "height": 297
        },
        "outputId": "b2223906-1827-48c9-cdef-fe487b4e58a8"
      },
      "source": [
        "# describe df\n",
        "df.describe()"
      ],
      "execution_count": 70,
      "outputs": [
        {
          "output_type": "execute_result",
          "data": {
            "text/html": [
              "<div>\n",
              "<style scoped>\n",
              "    .dataframe tbody tr th:only-of-type {\n",
              "        vertical-align: middle;\n",
              "    }\n",
              "\n",
              "    .dataframe tbody tr th {\n",
              "        vertical-align: top;\n",
              "    }\n",
              "\n",
              "    .dataframe thead th {\n",
              "        text-align: right;\n",
              "    }\n",
              "</style>\n",
              "<table border=\"1\" class=\"dataframe\">\n",
              "  <thead>\n",
              "    <tr style=\"text-align: right;\">\n",
              "      <th></th>\n",
              "      <th>age</th>\n",
              "      <th>balance</th>\n",
              "      <th>day</th>\n",
              "      <th>duration</th>\n",
              "      <th>campaign</th>\n",
              "      <th>pdays</th>\n",
              "      <th>previous</th>\n",
              "    </tr>\n",
              "  </thead>\n",
              "  <tbody>\n",
              "    <tr>\n",
              "      <th>count</th>\n",
              "      <td>45211.000000</td>\n",
              "      <td>45211.000000</td>\n",
              "      <td>45211.000000</td>\n",
              "      <td>45211.000000</td>\n",
              "      <td>45211.000000</td>\n",
              "      <td>45211.000000</td>\n",
              "      <td>45211.000000</td>\n",
              "    </tr>\n",
              "    <tr>\n",
              "      <th>mean</th>\n",
              "      <td>40.936210</td>\n",
              "      <td>1362.272058</td>\n",
              "      <td>15.806419</td>\n",
              "      <td>258.163080</td>\n",
              "      <td>2.763841</td>\n",
              "      <td>40.197828</td>\n",
              "      <td>0.580323</td>\n",
              "    </tr>\n",
              "    <tr>\n",
              "      <th>std</th>\n",
              "      <td>10.618762</td>\n",
              "      <td>3044.765829</td>\n",
              "      <td>8.322476</td>\n",
              "      <td>257.527812</td>\n",
              "      <td>3.098021</td>\n",
              "      <td>100.128746</td>\n",
              "      <td>2.303441</td>\n",
              "    </tr>\n",
              "    <tr>\n",
              "      <th>min</th>\n",
              "      <td>18.000000</td>\n",
              "      <td>-8019.000000</td>\n",
              "      <td>1.000000</td>\n",
              "      <td>0.000000</td>\n",
              "      <td>1.000000</td>\n",
              "      <td>-1.000000</td>\n",
              "      <td>0.000000</td>\n",
              "    </tr>\n",
              "    <tr>\n",
              "      <th>25%</th>\n",
              "      <td>33.000000</td>\n",
              "      <td>72.000000</td>\n",
              "      <td>8.000000</td>\n",
              "      <td>103.000000</td>\n",
              "      <td>1.000000</td>\n",
              "      <td>-1.000000</td>\n",
              "      <td>0.000000</td>\n",
              "    </tr>\n",
              "    <tr>\n",
              "      <th>50%</th>\n",
              "      <td>39.000000</td>\n",
              "      <td>448.000000</td>\n",
              "      <td>16.000000</td>\n",
              "      <td>180.000000</td>\n",
              "      <td>2.000000</td>\n",
              "      <td>-1.000000</td>\n",
              "      <td>0.000000</td>\n",
              "    </tr>\n",
              "    <tr>\n",
              "      <th>75%</th>\n",
              "      <td>48.000000</td>\n",
              "      <td>1428.000000</td>\n",
              "      <td>21.000000</td>\n",
              "      <td>319.000000</td>\n",
              "      <td>3.000000</td>\n",
              "      <td>-1.000000</td>\n",
              "      <td>0.000000</td>\n",
              "    </tr>\n",
              "    <tr>\n",
              "      <th>max</th>\n",
              "      <td>95.000000</td>\n",
              "      <td>102127.000000</td>\n",
              "      <td>31.000000</td>\n",
              "      <td>4918.000000</td>\n",
              "      <td>63.000000</td>\n",
              "      <td>871.000000</td>\n",
              "      <td>275.000000</td>\n",
              "    </tr>\n",
              "  </tbody>\n",
              "</table>\n",
              "</div>"
            ],
            "text/plain": [
              "                age        balance  ...         pdays      previous\n",
              "count  45211.000000   45211.000000  ...  45211.000000  45211.000000\n",
              "mean      40.936210    1362.272058  ...     40.197828      0.580323\n",
              "std       10.618762    3044.765829  ...    100.128746      2.303441\n",
              "min       18.000000   -8019.000000  ...     -1.000000      0.000000\n",
              "25%       33.000000      72.000000  ...     -1.000000      0.000000\n",
              "50%       39.000000     448.000000  ...     -1.000000      0.000000\n",
              "75%       48.000000    1428.000000  ...     -1.000000      0.000000\n",
              "max       95.000000  102127.000000  ...    871.000000    275.000000\n",
              "\n",
              "[8 rows x 7 columns]"
            ]
          },
          "metadata": {
            "tags": []
          },
          "execution_count": 70
        }
      ]
    },
    {
      "cell_type": "markdown",
      "metadata": {
        "id": "Ji4AgHRyNkik",
        "colab_type": "text"
      },
      "source": [
        "##### 1.5 Count values in `'education'`"
      ]
    },
    {
      "cell_type": "code",
      "metadata": {
        "id": "vTgf5YTNNlWk",
        "colab_type": "code",
        "colab": {
          "base_uri": "https://localhost:8080/",
          "height": 102
        },
        "outputId": "7d2d292a-231a-46f6-b115-b61ce39bbb36"
      },
      "source": [
        "# count values for 'education'\n",
        "df['education'].value_counts()"
      ],
      "execution_count": 71,
      "outputs": [
        {
          "output_type": "execute_result",
          "data": {
            "text/plain": [
              "secondary    23202\n",
              "tertiary     13301\n",
              "primary       6851\n",
              "unknown       1857\n",
              "Name: education, dtype: int64"
            ]
          },
          "metadata": {
            "tags": []
          },
          "execution_count": 71
        }
      ]
    },
    {
      "cell_type": "markdown",
      "metadata": {
        "id": "ApMw5EfrODnF",
        "colab_type": "text"
      },
      "source": [
        "> Don't overcomplicate.  The above takes one simple pandas' command."
      ]
    },
    {
      "cell_type": "markdown",
      "metadata": {
        "id": "e8nGnuvwLLc-",
        "colab_type": "text"
      },
      "source": [
        "*** \n",
        "# Exercise #2 - Prepare dataset\n",
        "*** "
      ]
    },
    {
      "cell_type": "markdown",
      "metadata": {
        "id": "SkQj44lfVfH5",
        "colab_type": "text"
      },
      "source": [
        "##### 2.1 Encode categorical features and class label"
      ]
    },
    {
      "cell_type": "code",
      "metadata": {
        "id": "sigsSFqtLReI",
        "colab_type": "code",
        "colab": {
          "base_uri": "https://localhost:8080/",
          "height": 419
        },
        "outputId": "a9d9e768-e550-4919-89f8-42fe709b1d21"
      },
      "source": [
        "# encode all attributes\n",
        "df = df.apply(LabelEncoder().fit_transform)\n",
        "df"
      ],
      "execution_count": 72,
      "outputs": [
        {
          "output_type": "execute_result",
          "data": {
            "text/html": [
              "<div>\n",
              "<style scoped>\n",
              "    .dataframe tbody tr th:only-of-type {\n",
              "        vertical-align: middle;\n",
              "    }\n",
              "\n",
              "    .dataframe tbody tr th {\n",
              "        vertical-align: top;\n",
              "    }\n",
              "\n",
              "    .dataframe thead th {\n",
              "        text-align: right;\n",
              "    }\n",
              "</style>\n",
              "<table border=\"1\" class=\"dataframe\">\n",
              "  <thead>\n",
              "    <tr style=\"text-align: right;\">\n",
              "      <th></th>\n",
              "      <th>age</th>\n",
              "      <th>job</th>\n",
              "      <th>marital</th>\n",
              "      <th>education</th>\n",
              "      <th>default</th>\n",
              "      <th>balance</th>\n",
              "      <th>housing</th>\n",
              "      <th>loan</th>\n",
              "      <th>contact</th>\n",
              "      <th>day</th>\n",
              "      <th>month</th>\n",
              "      <th>duration</th>\n",
              "      <th>campaign</th>\n",
              "      <th>pdays</th>\n",
              "      <th>previous</th>\n",
              "      <th>poutcome</th>\n",
              "      <th>y</th>\n",
              "    </tr>\n",
              "  </thead>\n",
              "  <tbody>\n",
              "    <tr>\n",
              "      <th>0</th>\n",
              "      <td>40</td>\n",
              "      <td>4</td>\n",
              "      <td>1</td>\n",
              "      <td>2</td>\n",
              "      <td>0</td>\n",
              "      <td>3036</td>\n",
              "      <td>1</td>\n",
              "      <td>0</td>\n",
              "      <td>2</td>\n",
              "      <td>4</td>\n",
              "      <td>8</td>\n",
              "      <td>261</td>\n",
              "      <td>0</td>\n",
              "      <td>0</td>\n",
              "      <td>0</td>\n",
              "      <td>3</td>\n",
              "      <td>0</td>\n",
              "    </tr>\n",
              "    <tr>\n",
              "      <th>1</th>\n",
              "      <td>26</td>\n",
              "      <td>9</td>\n",
              "      <td>2</td>\n",
              "      <td>1</td>\n",
              "      <td>0</td>\n",
              "      <td>945</td>\n",
              "      <td>1</td>\n",
              "      <td>0</td>\n",
              "      <td>2</td>\n",
              "      <td>4</td>\n",
              "      <td>8</td>\n",
              "      <td>151</td>\n",
              "      <td>0</td>\n",
              "      <td>0</td>\n",
              "      <td>0</td>\n",
              "      <td>3</td>\n",
              "      <td>0</td>\n",
              "    </tr>\n",
              "    <tr>\n",
              "      <th>2</th>\n",
              "      <td>15</td>\n",
              "      <td>2</td>\n",
              "      <td>1</td>\n",
              "      <td>1</td>\n",
              "      <td>0</td>\n",
              "      <td>918</td>\n",
              "      <td>1</td>\n",
              "      <td>1</td>\n",
              "      <td>2</td>\n",
              "      <td>4</td>\n",
              "      <td>8</td>\n",
              "      <td>76</td>\n",
              "      <td>0</td>\n",
              "      <td>0</td>\n",
              "      <td>0</td>\n",
              "      <td>3</td>\n",
              "      <td>0</td>\n",
              "    </tr>\n",
              "    <tr>\n",
              "      <th>3</th>\n",
              "      <td>29</td>\n",
              "      <td>1</td>\n",
              "      <td>1</td>\n",
              "      <td>3</td>\n",
              "      <td>0</td>\n",
              "      <td>2420</td>\n",
              "      <td>1</td>\n",
              "      <td>0</td>\n",
              "      <td>2</td>\n",
              "      <td>4</td>\n",
              "      <td>8</td>\n",
              "      <td>92</td>\n",
              "      <td>0</td>\n",
              "      <td>0</td>\n",
              "      <td>0</td>\n",
              "      <td>3</td>\n",
              "      <td>0</td>\n",
              "    </tr>\n",
              "    <tr>\n",
              "      <th>4</th>\n",
              "      <td>15</td>\n",
              "      <td>11</td>\n",
              "      <td>2</td>\n",
              "      <td>3</td>\n",
              "      <td>0</td>\n",
              "      <td>917</td>\n",
              "      <td>0</td>\n",
              "      <td>0</td>\n",
              "      <td>2</td>\n",
              "      <td>4</td>\n",
              "      <td>8</td>\n",
              "      <td>198</td>\n",
              "      <td>0</td>\n",
              "      <td>0</td>\n",
              "      <td>0</td>\n",
              "      <td>3</td>\n",
              "      <td>0</td>\n",
              "    </tr>\n",
              "    <tr>\n",
              "      <th>...</th>\n",
              "      <td>...</td>\n",
              "      <td>...</td>\n",
              "      <td>...</td>\n",
              "      <td>...</td>\n",
              "      <td>...</td>\n",
              "      <td>...</td>\n",
              "      <td>...</td>\n",
              "      <td>...</td>\n",
              "      <td>...</td>\n",
              "      <td>...</td>\n",
              "      <td>...</td>\n",
              "      <td>...</td>\n",
              "      <td>...</td>\n",
              "      <td>...</td>\n",
              "      <td>...</td>\n",
              "      <td>...</td>\n",
              "      <td>...</td>\n",
              "    </tr>\n",
              "    <tr>\n",
              "      <th>45206</th>\n",
              "      <td>33</td>\n",
              "      <td>9</td>\n",
              "      <td>1</td>\n",
              "      <td>2</td>\n",
              "      <td>0</td>\n",
              "      <td>1741</td>\n",
              "      <td>0</td>\n",
              "      <td>0</td>\n",
              "      <td>0</td>\n",
              "      <td>16</td>\n",
              "      <td>9</td>\n",
              "      <td>975</td>\n",
              "      <td>2</td>\n",
              "      <td>0</td>\n",
              "      <td>0</td>\n",
              "      <td>3</td>\n",
              "      <td>1</td>\n",
              "    </tr>\n",
              "    <tr>\n",
              "      <th>45207</th>\n",
              "      <td>53</td>\n",
              "      <td>5</td>\n",
              "      <td>0</td>\n",
              "      <td>0</td>\n",
              "      <td>0</td>\n",
              "      <td>2639</td>\n",
              "      <td>0</td>\n",
              "      <td>0</td>\n",
              "      <td>0</td>\n",
              "      <td>16</td>\n",
              "      <td>9</td>\n",
              "      <td>456</td>\n",
              "      <td>1</td>\n",
              "      <td>0</td>\n",
              "      <td>0</td>\n",
              "      <td>3</td>\n",
              "      <td>1</td>\n",
              "    </tr>\n",
              "    <tr>\n",
              "      <th>45208</th>\n",
              "      <td>54</td>\n",
              "      <td>5</td>\n",
              "      <td>1</td>\n",
              "      <td>1</td>\n",
              "      <td>0</td>\n",
              "      <td>5455</td>\n",
              "      <td>0</td>\n",
              "      <td>0</td>\n",
              "      <td>0</td>\n",
              "      <td>16</td>\n",
              "      <td>9</td>\n",
              "      <td>1116</td>\n",
              "      <td>4</td>\n",
              "      <td>181</td>\n",
              "      <td>3</td>\n",
              "      <td>2</td>\n",
              "      <td>1</td>\n",
              "    </tr>\n",
              "    <tr>\n",
              "      <th>45209</th>\n",
              "      <td>39</td>\n",
              "      <td>1</td>\n",
              "      <td>1</td>\n",
              "      <td>1</td>\n",
              "      <td>0</td>\n",
              "      <td>1584</td>\n",
              "      <td>0</td>\n",
              "      <td>0</td>\n",
              "      <td>1</td>\n",
              "      <td>16</td>\n",
              "      <td>9</td>\n",
              "      <td>508</td>\n",
              "      <td>3</td>\n",
              "      <td>0</td>\n",
              "      <td>0</td>\n",
              "      <td>3</td>\n",
              "      <td>0</td>\n",
              "    </tr>\n",
              "    <tr>\n",
              "      <th>45210</th>\n",
              "      <td>19</td>\n",
              "      <td>2</td>\n",
              "      <td>1</td>\n",
              "      <td>1</td>\n",
              "      <td>0</td>\n",
              "      <td>3779</td>\n",
              "      <td>0</td>\n",
              "      <td>0</td>\n",
              "      <td>0</td>\n",
              "      <td>16</td>\n",
              "      <td>9</td>\n",
              "      <td>361</td>\n",
              "      <td>1</td>\n",
              "      <td>185</td>\n",
              "      <td>11</td>\n",
              "      <td>1</td>\n",
              "      <td>0</td>\n",
              "    </tr>\n",
              "  </tbody>\n",
              "</table>\n",
              "<p>45211 rows × 17 columns</p>\n",
              "</div>"
            ],
            "text/plain": [
              "       age  job  marital  education  ...  pdays  previous  poutcome  y\n",
              "0       40    4        1          2  ...      0         0         3  0\n",
              "1       26    9        2          1  ...      0         0         3  0\n",
              "2       15    2        1          1  ...      0         0         3  0\n",
              "3       29    1        1          3  ...      0         0         3  0\n",
              "4       15   11        2          3  ...      0         0         3  0\n",
              "...    ...  ...      ...        ...  ...    ...       ...       ... ..\n",
              "45206   33    9        1          2  ...      0         0         3  1\n",
              "45207   53    5        0          0  ...      0         0         3  1\n",
              "45208   54    5        1          1  ...    181         3         2  1\n",
              "45209   39    1        1          1  ...      0         0         3  0\n",
              "45210   19    2        1          1  ...    185        11         1  0\n",
              "\n",
              "[45211 rows x 17 columns]"
            ]
          },
          "metadata": {
            "tags": []
          },
          "execution_count": 72
        }
      ]
    },
    {
      "cell_type": "markdown",
      "metadata": {
        "id": "xcQcUeFIWFqF",
        "colab_type": "text"
      },
      "source": [
        "A few of the features are numeric, but some have other issues (e.g., special `-1` value).  \n",
        "\n",
        "> Therefore, just encode **all** of the features. It makes it a one-liner with pandas/sklearn.  \n",
        "\n",
        "This is fine for some algorithms, like a decision tree (used below), but would not be desirable for a mathematical model, such as logistic regression."
      ]
    },
    {
      "cell_type": "markdown",
      "metadata": {
        "id": "GMJnv-ZfmGju",
        "colab_type": "text"
      },
      "source": [
        "###### Self Check"
      ]
    },
    {
      "cell_type": "code",
      "metadata": {
        "id": "ZoM_r-fQmJbW",
        "colab_type": "code",
        "colab": {}
      },
      "source": [
        "if dat_file == 'bank.csv' :\n",
        "  assert df.iloc[0,3] == 0 and df.iloc[1,3] == 1\n",
        "else:\n",
        "  assert df.iloc[0,3] == 2 and df.iloc[1,3] == 1"
      ],
      "execution_count": 0,
      "outputs": []
    },
    {
      "cell_type": "markdown",
      "metadata": {
        "id": "WORtx_alVq1D",
        "colab_type": "text"
      },
      "source": [
        "##### 2.2 Split `X` and `y`"
      ]
    },
    {
      "cell_type": "code",
      "metadata": {
        "id": "b8vGqOBqLL73",
        "colab_type": "code",
        "colab": {}
      },
      "source": [
        "# split X and y\n",
        "X, y = df.iloc[:, :-1], df.iloc[:, -1]"
      ],
      "execution_count": 0,
      "outputs": []
    },
    {
      "cell_type": "markdown",
      "metadata": {
        "id": "dMqeXsS0XGxb",
        "colab_type": "text"
      },
      "source": [
        "##### 2.3 Partition to train and test sets with hold-out"
      ]
    },
    {
      "cell_type": "markdown",
      "metadata": {
        "id": "xDguwk5gXLOW",
        "colab_type": "text"
      },
      "source": [
        "* test proportion of 50%\n",
        "* `random_state=1`\n",
        "* stratify by `y`"
      ]
    },
    {
      "cell_type": "code",
      "metadata": {
        "id": "C64YLyejLPP1",
        "colab_type": "code",
        "colab": {}
      },
      "source": [
        "# partition train and test set\n",
        "X_train, X_test, y_train, y_test =\\\n",
        "            train_test_split(X, y, \n",
        "                             test_size=0.5, \n",
        "                             random_state=1,\n",
        "                             stratify=y)"
      ],
      "execution_count": 0,
      "outputs": []
    },
    {
      "cell_type": "markdown",
      "metadata": {
        "id": "AfnkcID8XOjj",
        "colab_type": "text"
      },
      "source": [
        "##### 2.4 Print the shapes of your four sets"
      ]
    },
    {
      "cell_type": "code",
      "metadata": {
        "id": "WCwEX0QqXQVl",
        "colab_type": "code",
        "outputId": "eebba4b0-bc4e-4920-c5a9-fb53b6f53fd8",
        "colab": {
          "base_uri": "https://localhost:8080/",
          "height": 34
        }
      },
      "source": [
        "# print shapes of train and test\n",
        "print(X_train.shape, X_test.shape, y_train.shape, y_test.shape)"
      ],
      "execution_count": 76,
      "outputs": [
        {
          "output_type": "stream",
          "text": [
            "(22605, 16) (22606, 16) (22605,) (22606,)\n"
          ],
          "name": "stdout"
        }
      ]
    },
    {
      "cell_type": "markdown",
      "metadata": {
        "id": "topHkkn9wnTP",
        "colab_type": "text"
      },
      "source": [
        "*** \n",
        "# Exercise #3 - Baseline decision tree\n",
        "*** "
      ]
    },
    {
      "cell_type": "markdown",
      "metadata": {
        "id": "IWR4nM5oTAYZ",
        "colab_type": "text"
      },
      "source": [
        "##### 3.1 Build a decision tree"
      ]
    },
    {
      "cell_type": "markdown",
      "metadata": {
        "id": "zFUT0Zruf5rC",
        "colab_type": "text"
      },
      "source": [
        "* entropy\n",
        "* no max depth\n",
        "* `random_state=1`"
      ]
    },
    {
      "cell_type": "code",
      "metadata": {
        "id": "u24eGAOLwos_",
        "colab_type": "code",
        "colab": {
          "base_uri": "https://localhost:8080/",
          "height": 119
        },
        "outputId": "5a3ce9a1-48c5-4c26-8cc5-9113b1ba91f9"
      },
      "source": [
        "# create Decision Tree\n",
        "tree = DecisionTreeClassifier(criterion='entropy', random_state=1)\n",
        "tree"
      ],
      "execution_count": 77,
      "outputs": [
        {
          "output_type": "execute_result",
          "data": {
            "text/plain": [
              "DecisionTreeClassifier(ccp_alpha=0.0, class_weight=None, criterion='entropy',\n",
              "                       max_depth=None, max_features=None, max_leaf_nodes=None,\n",
              "                       min_impurity_decrease=0.0, min_impurity_split=None,\n",
              "                       min_samples_leaf=1, min_samples_split=2,\n",
              "                       min_weight_fraction_leaf=0.0, presort='deprecated',\n",
              "                       random_state=1, splitter='best')"
            ]
          },
          "metadata": {
            "tags": []
          },
          "execution_count": 77
        }
      ]
    },
    {
      "cell_type": "markdown",
      "metadata": {
        "id": "3LlNghr3hkNn",
        "colab_type": "text"
      },
      "source": [
        "###### Self Check"
      ]
    },
    {
      "cell_type": "markdown",
      "metadata": {
        "id": "PQ63FBRFhlp3",
        "colab_type": "text"
      },
      "source": [
        "```python\n",
        "DecisionTreeClassifier(ccp_alpha=0.0, class_weight=None, criterion='entropy',\n",
        "                       max_depth=None, max_features=None, max_leaf_nodes=None,\n",
        "                       min_impurity_decrease=0.0, min_impurity_split=None,\n",
        "                       min_samples_leaf=1, min_samples_split=2,\n",
        "                       min_weight_fraction_leaf=0.0, presort='deprecated',\n",
        "                       random_state=1, splitter='best')\n",
        "```"
      ]
    },
    {
      "cell_type": "markdown",
      "metadata": {
        "id": "dd9DKSTFwrjl",
        "colab_type": "text"
      },
      "source": [
        "##### 3.2 Train and test your tree"
      ]
    },
    {
      "cell_type": "markdown",
      "metadata": {
        "id": "s6qbBuRDilZ8",
        "colab_type": "text"
      },
      "source": [
        "* predict both `X_train` and `X_test`\n",
        "* save predictions for both (e.g., `y_train_pred` and `y_test_pred`)"
      ]
    },
    {
      "cell_type": "code",
      "metadata": {
        "id": "PFjAI40ywsNF",
        "colab_type": "code",
        "colab": {
          "base_uri": "https://localhost:8080/",
          "height": 34
        },
        "outputId": "7a32e418-8d3e-423a-8cf7-01934f11a439"
      },
      "source": [
        "# train decision tree\n",
        "tree = tree.fit(X_train, y_train)\n",
        "y_train_pred = tree.predict(X_train)\n",
        "y_test_pred = tree.predict(X_test)\n",
        "\n",
        "tree_train = accuracy_score(y_train, y_train_pred)\n",
        "tree_test = accuracy_score(y_test, y_test_pred)\n",
        "print('Decision tree train/test accuracies %.3f/%.3f'\n",
        "      % (tree_train, tree_test))"
      ],
      "execution_count": 78,
      "outputs": [
        {
          "output_type": "stream",
          "text": [
            "Decision tree train/test accuracies 1.000/0.873\n"
          ],
          "name": "stdout"
        }
      ]
    },
    {
      "cell_type": "markdown",
      "metadata": {
        "id": "zgpi9x5-jjjB",
        "colab_type": "text"
      },
      "source": [
        "##### 3.3 Determine accuracy and F$_1$ score (train and test set)"
      ]
    },
    {
      "cell_type": "code",
      "metadata": {
        "id": "xq6MYWznihpS",
        "colab_type": "code",
        "colab": {
          "base_uri": "https://localhost:8080/",
          "height": 85
        },
        "outputId": "a361caee-2fb6-44d1-bb13-c677674d70f9"
      },
      "source": [
        "# print accuracy and F1\n",
        "print('accuracy train: ', accuracy_score(y_train, y_train_pred))\n",
        "print('f1 train: ', f1_score(y_train, y_train_pred))\n",
        "print('accuracy test: ', accuracy_score(y_test, y_test_pred))\n",
        "print('f1 test: ', f1_score(y_test, y_test_pred))"
      ],
      "execution_count": 79,
      "outputs": [
        {
          "output_type": "stream",
          "text": [
            "accuracy train:  1.0\n",
            "f1 train:  1.0\n",
            "accuracy test:  0.8729540829868176\n",
            "f1 test:  0.46237364283040056\n"
          ],
          "name": "stdout"
        }
      ]
    },
    {
      "cell_type": "markdown",
      "metadata": {
        "id": "TQ5Yexv4n-D5",
        "colab_type": "text"
      },
      "source": [
        "##### Self Check"
      ]
    },
    {
      "cell_type": "markdown",
      "metadata": {
        "id": "jZynkunNoBA3",
        "colab_type": "text"
      },
      "source": [
        "The accuracy and F$_1$ of the *train* set are both `1.0`."
      ]
    },
    {
      "cell_type": "markdown",
      "metadata": {
        "id": "ZBafDKOhwrox",
        "colab_type": "text"
      },
      "source": [
        "##### 3.4 Plot a confusion matrix (test set)"
      ]
    },
    {
      "cell_type": "code",
      "metadata": {
        "id": "6UUz8yJ0XhwA",
        "colab_type": "code",
        "colab": {
          "base_uri": "https://localhost:8080/",
          "height": 223
        },
        "outputId": "e19430d4-c893-4886-de19-e66bda89c1df"
      },
      "source": [
        "# graph a confusion matrix\n",
        "confmat = confusion_matrix(y_true=y_test, y_pred=y_test_pred)\n",
        "fig, ax = plt.subplots(figsize=(2.5, 2.5))\n",
        "ax.matshow(confmat, cmap=plt.cm.Blues, alpha=0.3)\n",
        "for i in range(confmat.shape[0]):\n",
        "  for j in range(confmat.shape[1]):\n",
        "      ax.text(x=j, y=i, s=confmat[i, j], va='center', ha='center')\n",
        "plt.xlabel('Predicted label')\n",
        "plt.ylabel('True label')\n",
        "\n",
        "plt.tight_layout()\n",
        "plt.show()\n",
        "print(' \\n')"
      ],
      "execution_count": 80,
      "outputs": [
        {
          "output_type": "display_data",
          "data": {
            "image/png": "[encoded data removed]",
            "text/plain": [
              "<Figure size 180x180 with 1 Axes>"
            ]
          },
          "metadata": {
            "tags": [],
            "needs_background": "light"
          }
        },
        {
          "output_type": "stream",
          "text": [
            " \n",
            "\n"
          ],
          "name": "stdout"
        }
      ]
    },
    {
      "cell_type": "markdown",
      "metadata": {
        "id": "TPRvVeMjWgeJ",
        "colab_type": "text"
      },
      "source": [
        "> Note the discrepency between accuracy and F$_1$.  This skew is caused by the severe class imbalance. The confusion matrix and the F$_1$ score paint a more honest picture.  The accuracy reflects the (skewed) distribution of the class label in the data set. "
      ]
    },
    {
      "cell_type": "markdown",
      "metadata": {
        "id": "OMM20j4VohQ9",
        "colab_type": "text"
      },
      "source": [
        "*** \n",
        "# Exercise #4 - Bagger\n",
        "*** "
      ]
    },
    {
      "cell_type": "markdown",
      "metadata": {
        "id": "S8Lu_Tffmbdj",
        "colab_type": "text"
      },
      "source": [
        "##### 4.1 Bag your decision tree"
      ]
    },
    {
      "cell_type": "markdown",
      "metadata": {
        "id": "s53zbJKRmiWY",
        "colab_type": "text"
      },
      "source": [
        "* use a `BaggingClassifier` (see [api](https://scikit-learn.org/stable/modules/generated/sklearn.ensemble.BaggingClassifier.html))\n",
        "* use your tree from Ex.#3\n",
        "* use 100 estimators\n",
        "* `bootstrap=True`\n",
        "* `random_state=1`\n",
        "* `n_jobs=-1`"
      ]
    },
    {
      "cell_type": "code",
      "metadata": {
        "id": "i96u-FVHRb9N",
        "colab_type": "code",
        "colab": {
          "base_uri": "https://localhost:8080/",
          "height": 306
        },
        "outputId": "debc29a7-c715-44cf-ea55-e6594c469cc7"
      },
      "source": [
        "# build bagger\n",
        "bag = BaggingClassifier(base_estimator=tree,\n",
        "                        n_estimators=100,\n",
        "                        bootstrap=True, \n",
        "                        bootstrap_features=False, \n",
        "                        n_jobs=1, \n",
        "                        random_state=1)\n",
        "bag"
      ],
      "execution_count": 81,
      "outputs": [
        {
          "output_type": "execute_result",
          "data": {
            "text/plain": [
              "BaggingClassifier(base_estimator=DecisionTreeClassifier(ccp_alpha=0.0,\n",
              "                                                        class_weight=None,\n",
              "                                                        criterion='entropy',\n",
              "                                                        max_depth=None,\n",
              "                                                        max_features=None,\n",
              "                                                        max_leaf_nodes=None,\n",
              "                                                        min_impurity_decrease=0.0,\n",
              "                                                        min_impurity_split=None,\n",
              "                                                        min_samples_leaf=1,\n",
              "                                                        min_samples_split=2,\n",
              "                                                        min_weight_fraction_leaf=0.0,\n",
              "                                                        presort='deprecated',\n",
              "                                                        random_state=1,\n",
              "                                                        splitter='best'),\n",
              "                  bootstrap=True, bootstrap_features=False, max_features=1.0,\n",
              "                  max_samples=1.0, n_estimators=100, n_jobs=1, oob_score=False,\n",
              "                  random_state=1, verbose=0, warm_start=False)"
            ]
          },
          "metadata": {
            "tags": []
          },
          "execution_count": 81
        }
      ]
    },
    {
      "cell_type": "markdown",
      "metadata": {
        "id": "q2SEV0STRSe7",
        "colab_type": "text"
      },
      "source": [
        "###### Self Check"
      ]
    },
    {
      "cell_type": "markdown",
      "metadata": {
        "id": "wJsOtXrgpBDh",
        "colab_type": "text"
      },
      "source": [
        "```python\n",
        "BaggingClassifier(base_estimator=DecisionTreeClassifier(ccp_alpha=0.0,\n",
        "                                                        class_weight=None,\n",
        "                                                        criterion='entropy',\n",
        "                                                        max_depth=None,\n",
        "                                                        max_features=None,\n",
        "                                                        max_leaf_nodes=None,\n",
        "                                                        min_impurity_decrease=0.0,\n",
        "                                                        min_impurity_split=None,\n",
        "                                                        min_samples_leaf=1,\n",
        "                                                        min_samples_split=2,\n",
        "                                                        min_weight_fraction_leaf=0.0,\n",
        "                                                        presort='deprecated',\n",
        "                                                        random_state=1,\n",
        "                                                        splitter='best'),\n",
        "                  bootstrap=True, bootstrap_features=False, max_features=1.0,\n",
        "                  max_samples=1.0, n_estimators=100, n_jobs=-1, oob_score=False,\n",
        "                  random_state=1, verbose=0, warm_start=False)\n",
        "```"
      ]
    },
    {
      "cell_type": "markdown",
      "metadata": {
        "id": "vg2Scp4gmhEX",
        "colab_type": "text"
      },
      "source": [
        "##### 4.2 Train and test bagger"
      ]
    },
    {
      "cell_type": "markdown",
      "metadata": {
        "id": "O1rybsw9xKlp",
        "colab_type": "text"
      },
      "source": [
        "* predict both `X_train` and `X_test`\n",
        "* save predictions for both (e.g., `y_train_pred` and `y_test_pred`)"
      ]
    },
    {
      "cell_type": "code",
      "metadata": {
        "id": "F4BAGnDpwug_",
        "colab_type": "code",
        "colab": {
          "base_uri": "https://localhost:8080/",
          "height": 34
        },
        "outputId": "1e1437f2-90e5-4fd8-ee8e-7cf661b8cc5a"
      },
      "source": [
        "# train bagger\n",
        "bag = bag.fit(X_train, y_train)\n",
        "y_train_pred = bag.predict(X_train)\n",
        "y_test_pred = bag.predict(X_test)\n",
        "\n",
        "bag_train = accuracy_score(y_train, y_train_pred) \n",
        "bag_test = accuracy_score(y_test, y_test_pred) \n",
        "print('Bagging train/test accuracies %.3f/%.3f'\n",
        "      % (bag_train, bag_test))"
      ],
      "execution_count": 82,
      "outputs": [
        {
          "output_type": "stream",
          "text": [
            "Bagging train/test accuracies 1.000/0.903\n"
          ],
          "name": "stdout"
        }
      ]
    },
    {
      "cell_type": "markdown",
      "metadata": {
        "id": "YL4gEze_XJO-",
        "colab_type": "text"
      },
      "source": [
        "##### 4.3 Determine accuracy and F$_1$ score (train and test)"
      ]
    },
    {
      "cell_type": "code",
      "metadata": {
        "id": "csUy_JRExOrj",
        "colab_type": "code",
        "colab": {
          "base_uri": "https://localhost:8080/",
          "height": 85
        },
        "outputId": "bde0bf45-cfc5-49f4-8edb-34a974b15c38"
      },
      "source": [
        "# print accuracy and F1\n",
        "print('accuracy train: ', accuracy_score(y_train, y_train_pred))\n",
        "print('f1 train: ', f1_score(y_train, y_train_pred))\n",
        "print('accuracy test: ', accuracy_score(y_test, y_test_pred))\n",
        "print('f1 test: ', f1_score(y_test, y_test_pred))"
      ],
      "execution_count": 83,
      "outputs": [
        {
          "output_type": "stream",
          "text": [
            "accuracy train:  0.9999115239991152\n",
            "f1 train:  0.9996216420734014\n",
            "accuracy test:  0.9032557728036804\n",
            "f1 test:  0.5181758096497026\n"
          ],
          "name": "stdout"
        }
      ]
    },
    {
      "cell_type": "markdown",
      "metadata": {
        "id": "rSGJabGAXSfg",
        "colab_type": "text"
      },
      "source": [
        "##### 4.4 Plot a confusion matrix (test set)"
      ]
    },
    {
      "cell_type": "code",
      "metadata": {
        "id": "bPUE0PKFXWde",
        "colab_type": "code",
        "colab": {
          "base_uri": "https://localhost:8080/",
          "height": 223
        },
        "outputId": "c6d66b5a-562f-4896-8be6-ab7e42cc107a"
      },
      "source": [
        "# graph a confusion matrix\n",
        "confmat = confusion_matrix(y_true=y_test, y_pred=y_test_pred)\n",
        "fig, ax = plt.subplots(figsize=(2.5, 2.5))\n",
        "ax.matshow(confmat, cmap=plt.cm.Blues, alpha=0.3)\n",
        "for i in range(confmat.shape[0]):\n",
        "  for j in range(confmat.shape[1]):\n",
        "      ax.text(x=j, y=i, s=confmat[i, j], va='center', ha='center')\n",
        "plt.xlabel('Predicted label')\n",
        "plt.ylabel('True label')\n",
        "\n",
        "plt.tight_layout()\n",
        "plt.show()\n",
        "print(' \\n')"
      ],
      "execution_count": 84,
      "outputs": [
        {
          "output_type": "display_data",
          "data": {
            "image/png": "[encoded data removed]",
            "text/plain": [
              "<Figure size 180x180 with 1 Axes>"
            ]
          },
          "metadata": {
            "tags": [],
            "needs_background": "light"
          }
        },
        {
          "output_type": "stream",
          "text": [
            " \n",
            "\n"
          ],
          "name": "stdout"
        }
      ]
    },
    {
      "cell_type": "markdown",
      "metadata": {
        "id": "i6FDLtE8yH5p",
        "colab_type": "text"
      },
      "source": [
        "*** \n",
        "# Exercise #5 - Boosting\n",
        "*** "
      ]
    },
    {
      "cell_type": "markdown",
      "metadata": {
        "id": "qNU48_36Xtt_",
        "colab_type": "text"
      },
      "source": [
        "##### 5.1 Boost your decision tree"
      ]
    },
    {
      "cell_type": "markdown",
      "metadata": {
        "id": "bqr_vuidX-So",
        "colab_type": "text"
      },
      "source": [
        "* construct an `AdaBoost` model (see [api](https://scikit-learn.org/stable/modules/generated/sklearn.ensemble.AdaBoostClassifier.html))\n",
        "* use your tree from Ex.#3\n",
        "* use 100 estimators\n",
        "* `learning_rate=0.1`\n",
        "* `random_state=1`"
      ]
    },
    {
      "cell_type": "code",
      "metadata": {
        "id": "4GSmYIqtUZbu",
        "colab_type": "code",
        "colab": {
          "base_uri": "https://localhost:8080/",
          "height": 289
        },
        "outputId": "f7b25e1e-b7d2-48eb-acbe-5a9c06254f0a"
      },
      "source": [
        "# build AdaBoost\n",
        "ada = AdaBoostClassifier(base_estimator=tree,\n",
        "                         n_estimators=100, \n",
        "                         learning_rate=0.1,\n",
        "                         random_state=1)\n",
        "ada"
      ],
      "execution_count": 85,
      "outputs": [
        {
          "output_type": "execute_result",
          "data": {
            "text/plain": [
              "AdaBoostClassifier(algorithm='SAMME.R',\n",
              "                   base_estimator=DecisionTreeClassifier(ccp_alpha=0.0,\n",
              "                                                         class_weight=None,\n",
              "                                                         criterion='entropy',\n",
              "                                                         max_depth=None,\n",
              "                                                         max_features=None,\n",
              "                                                         max_leaf_nodes=None,\n",
              "                                                         min_impurity_decrease=0.0,\n",
              "                                                         min_impurity_split=None,\n",
              "                                                         min_samples_leaf=1,\n",
              "                                                         min_samples_split=2,\n",
              "                                                         min_weight_fraction_leaf=0.0,\n",
              "                                                         presort='deprecated',\n",
              "                                                         random_state=1,\n",
              "                                                         splitter='best'),\n",
              "                   learning_rate=0.1, n_estimators=100, random_state=1)"
            ]
          },
          "metadata": {
            "tags": []
          },
          "execution_count": 85
        }
      ]
    },
    {
      "cell_type": "markdown",
      "metadata": {
        "id": "eKW2_NAsYS59",
        "colab_type": "text"
      },
      "source": [
        "> For bagging, you could parallelize with `n_jobs` parameter.  There is no such option for AdaBoost. **Why is this?** \n",
        ">\n",
        "> Consider the fundamental differences between the two approaches (see \"flowchart\" images in Lecture 12). "
      ]
    },
    {
      "cell_type": "markdown",
      "metadata": {
        "id": "HAwJFGZYYNbh",
        "colab_type": "text"
      },
      "source": [
        "###### Self Check"
      ]
    },
    {
      "cell_type": "markdown",
      "metadata": {
        "id": "lQg8Tw8HYO2U",
        "colab_type": "text"
      },
      "source": [
        "```python\n",
        "AdaBoostClassifier(algorithm='SAMME.R',\n",
        "                   base_estimator=DecisionTreeClassifier(ccp_alpha=0.0,\n",
        "                                                         class_weight=None,\n",
        "                                                         criterion='entropy',\n",
        "                                                         max_depth=None,\n",
        "                                                         max_features=None,\n",
        "                                                         max_leaf_nodes=None,\n",
        "                                                         min_impurity_decrease=0.0,\n",
        "                                                         min_impurity_split=None,\n",
        "                                                         min_samples_leaf=1,\n",
        "                                                         min_samples_split=2,\n",
        "                                                         min_weight_fraction_leaf=0.0,\n",
        "                                                         presort='deprecated',\n",
        "                                                         random_state=1,\n",
        "                                                         splitter='best'),\n",
        "                   learning_rate=0.1, n_estimators=100, random_state=1)\n",
        "```                   "
      ]
    },
    {
      "cell_type": "markdown",
      "metadata": {
        "id": "o1JcvPF_Y4qA",
        "colab_type": "text"
      },
      "source": [
        "##### 5.2 Train and test AdaBoost"
      ]
    },
    {
      "cell_type": "markdown",
      "metadata": {
        "id": "eEmeNVLQZ1Ec",
        "colab_type": "text"
      },
      "source": [
        "* predict both `X_train` and `X_test`\n",
        "* save predictions for both (e.g., `y_train_pred` and `y_test_pred`)"
      ]
    },
    {
      "cell_type": "code",
      "metadata": {
        "id": "4cHVFuTtyKY8",
        "colab_type": "code",
        "colab": {
          "base_uri": "https://localhost:8080/",
          "height": 34
        },
        "outputId": "f7553361-26c7-4587-beb0-c0abb76e67b2"
      },
      "source": [
        "# train AdaBoost\n",
        "tree = tree.fit(X_train, y_train)\n",
        "y_train_pred = tree.predict(X_train)\n",
        "y_test_pred = tree.predict(X_test)\n",
        "\n",
        "# test Decision Tree\n",
        "tree_train = accuracy_score(y_train, y_train_pred)\n",
        "tree_test = accuracy_score(y_test, y_test_pred)\n",
        "print('Decision tree train/test accuracies %.3f/%.3f'\n",
        "      % (tree_train, tree_test))"
      ],
      "execution_count": 86,
      "outputs": [
        {
          "output_type": "stream",
          "text": [
            "Decision tree train/test accuracies 1.000/0.873\n"
          ],
          "name": "stdout"
        }
      ]
    },
    {
      "cell_type": "markdown",
      "metadata": {
        "id": "xFBLaPKWZgia",
        "colab_type": "text"
      },
      "source": [
        "##### 5.3 Determine accuracy and F$_1$ score (train and test)"
      ]
    },
    {
      "cell_type": "code",
      "metadata": {
        "id": "ms7asv40ZPO9",
        "colab_type": "code",
        "colab": {
          "base_uri": "https://localhost:8080/",
          "height": 85
        },
        "outputId": "ceb7fd53-ccb6-4035-cd13-cf823801231e"
      },
      "source": [
        "# print accuracy and F1\n",
        "print('accuracy train: ', accuracy_score(y_train, y_train_pred))\n",
        "print('f1 train: ', f1_score(y_train, y_train_pred))\n",
        "print('accuracy test: ', accuracy_score(y_test, y_test_pred))\n",
        "print('f1 test: ', f1_score(y_test, y_test_pred))"
      ],
      "execution_count": 87,
      "outputs": [
        {
          "output_type": "stream",
          "text": [
            "accuracy train:  1.0\n",
            "f1 train:  1.0\n",
            "accuracy test:  0.8729540829868176\n",
            "f1 test:  0.46237364283040056\n"
          ],
          "name": "stdout"
        }
      ]
    },
    {
      "cell_type": "markdown",
      "metadata": {
        "id": "MY3NVMHGZc2M",
        "colab_type": "text"
      },
      "source": [
        "##### 5.4 Plot a confusion matrix (test set)"
      ]
    },
    {
      "cell_type": "code",
      "metadata": {
        "id": "5FW3hg-sX4e0",
        "colab_type": "code",
        "colab": {
          "base_uri": "https://localhost:8080/",
          "height": 223
        },
        "outputId": "ffad2653-f215-41b2-d929-3ab4d70befb7"
      },
      "source": [
        "# graph a confusion matrix\n",
        "confmat = confusion_matrix(y_true=y_test, y_pred=y_test_pred)\n",
        "fig, ax = plt.subplots(figsize=(2.5, 2.5))\n",
        "ax.matshow(confmat, cmap=plt.cm.Blues, alpha=0.3)\n",
        "for i in range(confmat.shape[0]):\n",
        "  for j in range(confmat.shape[1]):\n",
        "      ax.text(x=j, y=i, s=confmat[i, j], va='center', ha='center')\n",
        "plt.xlabel('Predicted label')\n",
        "plt.ylabel('True label')\n",
        "\n",
        "plt.tight_layout()\n",
        "plt.show()\n",
        "print(' \\n')"
      ],
      "execution_count": 88,
      "outputs": [
        {
          "output_type": "display_data",
          "data": {
            "image/png": "[encoded data removed]",
            "text/plain": [
              "<Figure size 180x180 with 1 Axes>"
            ]
          },
          "metadata": {
            "tags": [],
            "needs_background": "light"
          }
        },
        {
          "output_type": "stream",
          "text": [
            " \n",
            "\n"
          ],
          "name": "stdout"
        }
      ]
    },
    {
      "cell_type": "markdown",
      "metadata": {
        "id": "hA9KOJ_Aa1B_",
        "colab_type": "text"
      },
      "source": [
        "*** \n",
        "# Exercise #6 - Go big or go home$^1$\n",
        "*** "
      ]
    },
    {
      "cell_type": "markdown",
      "metadata": {
        "id": "HuQL8shmb2tP",
        "colab_type": "text"
      },
      "source": [
        "> $^1$ ... *but it's March Mayteenth, 2020. I'm already at home.*"
      ]
    },
    {
      "cell_type": "markdown",
      "metadata": {
        "id": "YmRgpj2qa7Fj",
        "colab_type": "text"
      },
      "source": [
        "##### 6.1 Run the entire Activity 12 again on `'bank-full.csv'`."
      ]
    },
    {
      "cell_type": "markdown",
      "metadata": {
        "id": "ZR4QhvF_bIdz",
        "colab_type": "text"
      },
      "source": [
        "In the dataset section, switch `dat_file` to be `'bank-full.csv'`.\n",
        "```python\n",
        "#dat_file = 'bank.csv'           # exercise 1-5\n",
        "dat_file = 'bank-full.csv'        # exercise 6  \n",
        "```"
      ]
    },
    {
      "cell_type": "markdown",
      "metadata": {
        "id": "IVQlaOdvfnxa",
        "colab_type": "text"
      },
      "source": [
        "> `'bank-full.csv'` be 10 times mo' biggly than `'bank.csv'`"
      ]
    },
    {
      "cell_type": "markdown",
      "metadata": {
        "id": "pAcRvZAXnGQv",
        "colab_type": "text"
      },
      "source": [
        "**Remember** to change back and re-run to the smaller `'bank.csv'` before answering the Canvas questions. "
      ]
    }
  ]
}