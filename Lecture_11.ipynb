{
  "nbformat": 4,
  "nbformat_minor": 0,
  "metadata": {
    "colab": {
      "name": "Lecture 11.ipynb",
      "provenance": [],
      "collapsed_sections": []
    },
    "kernelspec": {
      "name": "python3",
      "display_name": "Python 3"
    }
  },
  "cells": [
    {
      "cell_type": "markdown",
      "metadata": {
        "id": "0zIWy_GYRtHM",
        "colab_type": "text"
      },
      "source": [
        "# Lecture 11 - Ensemble Learning"
      ]
    },
    {
      "cell_type": "markdown",
      "metadata": {
        "id": "q5jt2qAaRraj",
        "colab_type": "text"
      },
      "source": [
        "***\n",
        "##### CS 434 - Data Mining and Machine Learning\n",
        "##### Oregon State University-Cascades\n",
        "***"
      ]
    },
    {
      "cell_type": "markdown",
      "metadata": {
        "id": "0Lkxs56HlXHm",
        "colab_type": "text"
      },
      "source": [
        "\n",
        "## <img src=\"https://img.icons8.com/color/32/000000/fork-lift.png\"/> Loading packages"
      ]
    },
    {
      "cell_type": "code",
      "metadata": {
        "colab_type": "code",
        "id": "rZF5IfXKTnHQ",
        "colab": {}
      },
      "source": [
        "import math\n",
        "import operator\n",
        "import numpy as np\n",
        "import pandas as pd\n",
        "from itertools import product\n",
        "import matplotlib.pyplot as plt\n",
        "from matplotlib.colors import ListedColormap\n",
        "from pydotplus import graph_from_dot_data\n",
        "from sklearn import datasets\n",
        "from sklearn.linear_model import LogisticRegression\n",
        "from sklearn.tree import DecisionTreeClassifier\n",
        "from sklearn.neighbors import KNeighborsClassifier \n",
        "from sklearn.ensemble import RandomForestClassifier\n",
        "from sklearn.preprocessing import StandardScaler\n",
        "from sklearn.preprocessing import LabelEncoder\n",
        "from sklearn.model_selection import train_test_split\n",
        "from sklearn.model_selection import GridSearchCV\n",
        "from sklearn.metrics import roc_curve\n",
        "from sklearn.metrics import auc\n",
        "from scipy.special import comb\n",
        "from sklearn.base import BaseEstimator\n",
        "from sklearn.base import ClassifierMixin\n",
        "from sklearn.pipeline import _name_estimators\n",
        "from sklearn.base import clone\n",
        "from sklearn.pipeline import Pipeline\n",
        "from sklearn.model_selection import cross_val_score\n",
        "from IPython.display import Image"
      ],
      "execution_count": 0,
      "outputs": []
    },
    {
      "cell_type": "markdown",
      "metadata": {
        "id": "XxPvwEcw0sIv",
        "colab_type": "text"
      },
      "source": [
        "### <img src=\"https://img.icons8.com/color/24/000000/cosine.png\"/> Helper function for graphing our results"
      ]
    },
    {
      "cell_type": "code",
      "metadata": {
        "id": "-SHdv7KC0rjB",
        "colab_type": "code",
        "colab": {}
      },
      "source": [
        "def plot_decision_regions(X, y, classifier, test_idx=None, resolution=0.02):\n",
        "\n",
        "    # setup marker generator and color map\n",
        "    markers = ('s', 'x', 'o', '^', 'v')\n",
        "    colors = ('red', 'blue', 'lightgreen', 'gray', 'cyan')\n",
        "    cmap = ListedColormap(colors[:len(np.unique(y))])\n",
        "\n",
        "    # plot the decision surface\n",
        "    x1_min, x1_max = X[:, 0].min() - 1, X[:, 0].max() + 1\n",
        "    x2_min, x2_max = X[:, 1].min() - 1, X[:, 1].max() + 1\n",
        "    xx1, xx2 = np.meshgrid(np.arange(x1_min, x1_max, resolution),\n",
        "                           np.arange(x2_min, x2_max, resolution))\n",
        "    Z = classifier.predict(np.array([xx1.ravel(), xx2.ravel()]).T)\n",
        "    Z = Z.reshape(xx1.shape)\n",
        "    plt.contourf(xx1, xx2, Z, alpha=0.3, cmap=cmap)\n",
        "    plt.xlim(xx1.min(), xx1.max())\n",
        "    plt.ylim(xx2.min(), xx2.max())\n",
        "\n",
        "    for idx, cl in enumerate(np.unique(y)):\n",
        "        plt.scatter(x=X[y == cl, 0], \n",
        "                    y=X[y == cl, 1],\n",
        "                    alpha=0.8, \n",
        "                    c=colors[idx],\n",
        "                    marker=markers[idx], \n",
        "                    label=cl, \n",
        "                    edgecolor='black')\n",
        "\n",
        "    # highlight test examples\n",
        "    if test_idx:\n",
        "        # plot all examples\n",
        "        X_test, y_test = X[test_idx, :], y[test_idx]\n",
        "\n",
        "        plt.scatter(X_test[:, 0],\n",
        "                    X_test[:, 1],\n",
        "                    c='',\n",
        "                    edgecolor='black',\n",
        "                    alpha=1.0,\n",
        "                    linewidth=1,\n",
        "                    marker='o',\n",
        "                    s=100, \n",
        "                    label='test set')"
      ],
      "execution_count": 0,
      "outputs": []
    },
    {
      "cell_type": "markdown",
      "metadata": {
        "id": "dGtgNi2Xu-Fz",
        "colab_type": "text"
      },
      "source": [
        "## <img src=\"https://img.icons8.com/color/32/000000/accept-database.png\"/> Prepare a dataset"
      ]
    },
    {
      "cell_type": "markdown",
      "metadata": {
        "id": "ajb4i-2Ju5_s",
        "colab_type": "text"
      },
      "source": [
        "### <img src=\"https://img.icons8.com/color/32/000000/database-restore.png\"/>  Load the data\n",
        "\n",
        "\n",
        "Load the Iris dataset from scikit-learn.  Choose the first 50 examples."
      ]
    },
    {
      "cell_type": "code",
      "metadata": {
        "id": "hxO3j4b2vDfe",
        "colab_type": "code",
        "colab": {}
      },
      "source": [
        "# load iris dataset\n",
        "iris = datasets.load_iris()\n",
        "X, y = iris.data[50:, [1, 2]], iris.target[50:]"
      ],
      "execution_count": 0,
      "outputs": []
    },
    {
      "cell_type": "markdown",
      "metadata": {
        "id": "I3A03JUGvoJP",
        "colab_type": "text"
      },
      "source": [
        "### <img src=\"https://img.icons8.com/color/32/000000/variation.png\"/> Encode the class label"
      ]
    },
    {
      "cell_type": "code",
      "metadata": {
        "id": "DZwTKSE3vVH7",
        "colab_type": "code",
        "outputId": "161c7c46-35a5-4200-d54d-e6f3ddfb8289",
        "colab": {
          "base_uri": "https://localhost:8080/",
          "height": 104
        }
      },
      "source": [
        "# encode labels\n",
        "le = LabelEncoder()\n",
        "y = le.fit_transform(y)\n",
        "y"
      ],
      "execution_count": 0,
      "outputs": [
        {
          "output_type": "execute_result",
          "data": {
            "text/plain": [
              "array([0, 0, 0, 0, 0, 0, 0, 0, 0, 0, 0, 0, 0, 0, 0, 0, 0, 0, 0, 0, 0, 0,\n",
              "       0, 0, 0, 0, 0, 0, 0, 0, 0, 0, 0, 0, 0, 0, 0, 0, 0, 0, 0, 0, 0, 0,\n",
              "       0, 0, 0, 0, 0, 0, 1, 1, 1, 1, 1, 1, 1, 1, 1, 1, 1, 1, 1, 1, 1, 1,\n",
              "       1, 1, 1, 1, 1, 1, 1, 1, 1, 1, 1, 1, 1, 1, 1, 1, 1, 1, 1, 1, 1, 1,\n",
              "       1, 1, 1, 1, 1, 1, 1, 1, 1, 1, 1, 1])"
            ]
          },
          "metadata": {
            "tags": []
          },
          "execution_count": 68
        }
      ]
    },
    {
      "cell_type": "markdown",
      "metadata": {
        "id": "AfA_8GBFvcbJ",
        "colab_type": "text"
      },
      "source": [
        "### <img src=\"https://img.icons8.com/color/32/000000/split-files.png\"/> Split into train and test sets\n",
        "\n",
        "In this example, 50% is for training and 50% is for testing."
      ]
    },
    {
      "cell_type": "code",
      "metadata": {
        "id": "nQB7J_h6vYq5",
        "colab_type": "code",
        "outputId": "861d750b-de25-479b-da21-0c4d4c23c40d",
        "colab": {
          "base_uri": "https://localhost:8080/",
          "height": 69
        }
      },
      "source": [
        "# hold out split with 50% data as test\n",
        "X_train, X_test, y_train, y_test =\\\n",
        "       train_test_split(X, y, \n",
        "                        test_size=0.5, \n",
        "                        random_state=1,\n",
        "                        stratify=y)\n",
        "       \n",
        "print('Label counts in y:', np.bincount(y))\n",
        "print('Label counts in y_train:', np.bincount(y_train))\n",
        "print('Label counts in y_test:', np.bincount(y_test))       "
      ],
      "execution_count": 0,
      "outputs": [
        {
          "output_type": "stream",
          "text": [
            "Label counts in y: [50 50]\n",
            "Label counts in y_train: [25 25]\n",
            "Label counts in y_test: [25 25]\n"
          ],
          "name": "stdout"
        }
      ]
    },
    {
      "cell_type": "markdown",
      "metadata": {
        "id": "ItVMSsZUbAjj",
        "colab_type": "text"
      },
      "source": [
        "# <img src=\"https://img.icons8.com/color/32/000000/teamwork.png\"/> Ensemble Learning"
      ]
    },
    {
      "cell_type": "markdown",
      "metadata": {
        "id": "Sju6mCVFCQvj",
        "colab_type": "text"
      },
      "source": [
        "The goal of ensemble methods is to combine different classifiers into a meta-classifier that has better generalization performance than each individual classifier alone. "
      ]
    },
    {
      "cell_type": "markdown",
      "metadata": {
        "id": "in5TAGGXHsXS",
        "colab_type": "text"
      },
      "source": [
        "### <img src=\"https://img.icons8.com/color/32/000000/layers.png\"/> Ensemble of models"
      ]
    },
    {
      "cell_type": "markdown",
      "metadata": {
        "id": "6kjxIT87HqYE",
        "colab_type": "text"
      },
      "source": [
        "Train $m$ different classifiers $(C_1, \\ldots, C_m)$. In some techniques, the ensemble consists of different classification algorithms. In other techniques, the same classifier is used, but on different subsets of training data. "
      ]
    },
    {
      "cell_type": "markdown",
      "metadata": {
        "id": "X9dhbN9IHudK",
        "colab_type": "text"
      },
      "source": [
        "![alt text](https://github.com/rasbt/python-machine-learning-book-3rd-edition/blob/master/ch07/images/07_02.png?raw=true)"
      ]
    },
    {
      "cell_type": "markdown",
      "metadata": {
        "id": "XPyEtbrHacBZ",
        "colab_type": "text"
      },
      "source": [
        "## <img src=\"https://img.icons8.com/color/32/000000/elections.png\"/> Majority vote"
      ]
    },
    {
      "cell_type": "markdown",
      "metadata": {
        "id": "6-WIiq5NC63p",
        "colab_type": "text"
      },
      "source": [
        "### <img src=\"https://img.icons8.com/color/32/000000/poll-topic.png\"/> Types of Voting\n",
        "\n",
        "*Majority* - select the class label with at least 50% of the vote (binary classification)\n",
        "\n",
        "*Plurality* - select the class label with the most votes (multiclass classification)"
      ]
    },
    {
      "cell_type": "markdown",
      "metadata": {
        "id": "HE47f-ldC2X9",
        "colab_type": "text"
      },
      "source": [
        "![alt text](https://github.com/rasbt/python-machine-learning-book-3rd-edition/blob/master/ch07/images/07_01.png?raw=true)"
      ]
    },
    {
      "cell_type": "markdown",
      "metadata": {
        "id": "6j4MUTc1GdNV",
        "colab_type": "text"
      },
      "source": [
        "### <img src=\"https://img.icons8.com/color/32/000000/formula-fx.png\"/> Formula"
      ]
    },
    {
      "cell_type": "markdown",
      "metadata": {
        "id": "F0R3xh1bGxqS",
        "colab_type": "text"
      },
      "source": [
        "$$\\hat{y} = \\text{mode}\\{C_1(\\bf{x}),C_2(\\bf{x}), \\ldots, C_m(\\bf{x})\\}$$\n",
        "where $\\text{mode}$ is the most frequent value in the set."
      ]
    },
    {
      "cell_type": "markdown",
      "metadata": {
        "id": "4fRnHqnTGLuo",
        "colab_type": "text"
      },
      "source": [
        "For example, in a binary classification task where `class1 = -1` and `class2 = +1`, the majority vote is written as\n",
        "\n",
        "$$C(\\textbf{x}) = \\text{sign} \\left[ \\sum_j^m C_j(\\textbf{x})\\right] = \\begin{cases} \n",
        "      1 & \\text{if}\\ \\ \\sum_j C_j(\\mathbf{x}) \\ge 0\\\\\n",
        "      -1 & \\text{otherwise} \n",
        "   \\end{cases}\n",
        "$$"
      ]
    },
    {
      "cell_type": "markdown",
      "metadata": {
        "id": "SytLuVanN2DC",
        "colab_type": "text"
      },
      "source": [
        "## <img src=\"https://img.icons8.com/color/32/000000/error.png\"/> Error probability"
      ]
    },
    {
      "cell_type": "markdown",
      "metadata": {
        "id": "8yaC_0tTOH3D",
        "colab_type": "text"
      },
      "source": [
        " Compute the probability that the prediction of the ensemble is wrong.\n",
        "\n",
        " $$P(y \\ge k) = \\sum_k^n \\genfrac\\langle\\rangle{0pt}{2}{n}{k} \\ \\epsilon^k(1-\\epsilon)^{n-k} = \\epsilon_{\\text{ensemble}} $$\n",
        "\n",
        "where $\\genfrac\\langle\\rangle{0pt}{2}{n}{k}$ is the binomial coefficient `n choose k`. "
      ]
    },
    {
      "cell_type": "markdown",
      "metadata": {
        "id": "0hFLT2-pfrvD",
        "colab_type": "text"
      },
      "source": [
        " ### <img src=\"https://img.icons8.com/color/32/000000/new-document.png\"/> Example"
      ]
    },
    {
      "cell_type": "markdown",
      "metadata": {
        "id": "mJrNsyVofsZX",
        "colab_type": "text"
      },
      "source": [
        "Consider an example with $n=11$ base classifiers, where each classifier has an error rate of 0.25 ($\\epsilon=0.25)$"
      ]
    },
    {
      "cell_type": "markdown",
      "metadata": {
        "id": "D6ZLX_Hzfi2T",
        "colab_type": "text"
      },
      "source": [
        "\n",
        " \n",
        " $$P(y \\ge k) = \\sum_{k=6}^{11} \\genfrac\\langle\\rangle{0pt}{2}{11}{k} \\ 0.25^k(1-0.25)^{11-k} = 0.034 $$\n"
      ]
    },
    {
      "cell_type": "markdown",
      "metadata": {
        "id": "IgvBnz2QgqCE",
        "colab_type": "text"
      },
      "source": [
        "The error rate of teh ensemble ($0.034$) is much lower than the error of each individual classifier (0.25), if all the assumptions are met."
      ]
    },
    {
      "cell_type": "code",
      "metadata": {
        "id": "xKK8rWmDhMKH",
        "colab_type": "code",
        "colab": {}
      },
      "source": [
        "# error function\n",
        "def ensemble_error(n_classifier, error):\n",
        "    k_start = int(math.ceil(n_classifier / 2.))\n",
        "    probs = [comb(n_classifier, k) * error**k * (1-error)**(n_classifier - k)\n",
        "             for k in range(k_start, n_classifier + 1)]\n",
        "    return sum(probs)"
      ],
      "execution_count": 0,
      "outputs": []
    },
    {
      "cell_type": "code",
      "metadata": {
        "id": "H4pKj1wQhTrb",
        "colab_type": "code",
        "outputId": "b3db425e-55f9-426c-dd74-6f64bf092f97",
        "colab": {
          "base_uri": "https://localhost:8080/",
          "height": 35
        }
      },
      "source": [
        "# calculate error\n",
        "ensemble_error(n_classifier=11, error=0.25)"
      ],
      "execution_count": 0,
      "outputs": [
        {
          "output_type": "execute_result",
          "data": {
            "text/plain": [
              "0.03432750701904297"
            ]
          },
          "metadata": {
            "tags": []
          },
          "execution_count": 71
        }
      ]
    },
    {
      "cell_type": "markdown",
      "metadata": {
        "id": "QnhdAqR2hf8e",
        "colab_type": "text"
      },
      "source": [
        "### <img src=\"https://img.icons8.com/color/32/000000/statistics.png\"/>  Plot error"
      ]
    },
    {
      "cell_type": "code",
      "metadata": {
        "id": "qxqcq7MGhjHa",
        "colab_type": "code",
        "colab": {}
      },
      "source": [
        "# error values\n",
        "error_range = np.arange(0.0, 1.01, 0.01)\n",
        "ens_errors = [ensemble_error(n_classifier=11, error=error)\n",
        "              for error in error_range]"
      ],
      "execution_count": 0,
      "outputs": []
    },
    {
      "cell_type": "code",
      "metadata": {
        "id": "Edo-tJrJhktz",
        "colab_type": "code",
        "outputId": "c18c9e5f-dc38-4f26-eeb3-f6cee1942b3e",
        "colab": {
          "base_uri": "https://localhost:8080/",
          "height": 279
        }
      },
      "source": [
        "# visualize ensemble and base error\n",
        "plt.plot(error_range, \n",
        "         ens_errors, \n",
        "         label='Ensemble error', \n",
        "         linewidth=2)\n",
        "\n",
        "plt.plot(error_range, \n",
        "         error_range, \n",
        "         linestyle='--',\n",
        "         label='Base error',\n",
        "         linewidth=2)\n",
        "\n",
        "plt.xlabel('Base error')\n",
        "plt.ylabel('Base/Ensemble error')\n",
        "plt.legend(loc='upper left')\n",
        "plt.grid(alpha=0.5)\n",
        "plt.show()"
      ],
      "execution_count": 0,
      "outputs": [
        {
          "output_type": "display_data",
          "data": {
            "image/png": "[encoded data removed]",
            "text/plain": [
              "<Figure size 432x288 with 1 Axes>"
            ]
          },
          "metadata": {
            "tags": [],
            "needs_background": "light"
          }
        }
      ]
    },
    {
      "cell_type": "markdown",
      "metadata": {
        "id": "JVTorx0Qlni3",
        "colab_type": "text"
      },
      "source": [
        "# <img src=\"https://img.icons8.com/color/32/000000/plus-math.png\"/> Combine classifiers with majority vote"
      ]
    },
    {
      "cell_type": "markdown",
      "metadata": {
        "id": "h8GWJ2Q6lwcT",
        "colab_type": "text"
      },
      "source": [
        "We can write a weighted majority vote as follows:\n",
        "\n",
        "$$ \\hat{y} = \\arg \\max_i \\sum_{j=1}^m w_j \\ \\chi_A \\ (C_j(\\mathbf{x}) = i) $$\n",
        "\n",
        "where:\n",
        "* $w_j$ is a weight associated with a base classifier: $C_j$\n",
        "* $\\hat{y}$ is the predicted class label of the ensemble\n",
        "* $\\chi_A$ is the characteristic function, which returns 1 if the predicted class of the $j$th classifier match $i$ ($C_j \\ (\\bf{x})=i$)"
      ]
    },
    {
      "cell_type": "markdown",
      "metadata": {
        "id": "-_t--5wRnILn",
        "colab_type": "text"
      },
      "source": [
        "With equal weights, we simplify:\n",
        "$$\\hat{y} = \\text{mode}\\{C_1(\\bf{x}),C_2(\\bf{x}), \\ldots, C_m(\\bf{x})\\}$$"
      ]
    },
    {
      "cell_type": "markdown",
      "metadata": {
        "id": "HfUQ5P6VnowY",
        "colab_type": "text"
      },
      "source": [
        "### <img src=\"https://img.icons8.com/color/32/000000/new-document.png\"/> Example"
      ]
    },
    {
      "cell_type": "code",
      "metadata": {
        "id": "sXbbLK3_lUsK",
        "colab_type": "code",
        "outputId": "c9d0326c-2300-442b-b5f3-bd57cd0f4e08",
        "colab": {
          "base_uri": "https://localhost:8080/",
          "height": 35
        }
      },
      "source": [
        "# majority voting with weights\n",
        "np.argmax(np.bincount([0, 0, 1], \n",
        "                      weights=[0.2, 0.2, 0.6]))"
      ],
      "execution_count": 0,
      "outputs": [
        {
          "output_type": "execute_result",
          "data": {
            "text/plain": [
              "1"
            ]
          },
          "metadata": {
            "tags": []
          },
          "execution_count": 74
        }
      ]
    },
    {
      "cell_type": "code",
      "metadata": {
        "id": "tH3bu2N9lZGX",
        "colab_type": "code",
        "outputId": "7bd32562-3448-4faf-dce1-fade6b929473",
        "colab": {
          "base_uri": "https://localhost:8080/",
          "height": 69
        }
      },
      "source": [
        "# majority voting with probabilities\n",
        "ex = np.array([[0.9, 0.1],\n",
        "               [0.8, 0.2],\n",
        "               [0.4, 0.6]])\n",
        "\n",
        "p = np.average(ex, \n",
        "               axis=0, \n",
        "               weights=[0.2, 0.2, 0.6])\n",
        "print(p)\n",
        "print()\n",
        "print(np.argmax(p))"
      ],
      "execution_count": 0,
      "outputs": [
        {
          "output_type": "stream",
          "text": [
            "[0.58 0.42]\n",
            "\n",
            "0\n"
          ],
          "name": "stdout"
        }
      ]
    },
    {
      "cell_type": "markdown",
      "metadata": {
        "id": "TplnMAOSotlk",
        "colab_type": "text"
      },
      "source": [
        "## <img src=\"https://img.icons8.com/color/32/000000/serial-tasks.png\"/> Implementation"
      ]
    },
    {
      "cell_type": "markdown",
      "metadata": {
        "id": "nxowUcoOwsUH",
        "colab_type": "text"
      },
      "source": [
        "### <img src=\"https://img.icons8.com/color/32/000000/code.png\"/> Define a `MajorityVoteClassifier`"
      ]
    },
    {
      "cell_type": "code",
      "metadata": {
        "id": "91b_3bUMlmLa",
        "colab_type": "code",
        "colab": {}
      },
      "source": [
        "class MajorityVoteClassifier(BaseEstimator, \n",
        "                             ClassifierMixin):\n",
        "    \"\"\" A majority vote ensemble classifier\n",
        "\n",
        "    Parameters\n",
        "    ----------\n",
        "    classifiers : array-like, shape = [n_classifiers]\n",
        "      Different classifiers for the ensemble\n",
        "\n",
        "    vote : str, {'classlabel', 'probability'} (default='classlabel')\n",
        "      If 'classlabel' the prediction is based on the argmax of\n",
        "        class labels. Else if 'probability', the argmax of\n",
        "        the sum of probabilities is used to predict the class label\n",
        "        (recommended for calibrated classifiers).\n",
        "\n",
        "    weights : array-like, shape = [n_classifiers], optional (default=None)\n",
        "      If a list of `int` or `float` values are provided, the classifiers\n",
        "      are weighted by importance; Uses uniform weights if `weights=None`.\n",
        "\n",
        "    \"\"\"\n",
        "    def __init__(self, classifiers, vote='classlabel', weights=None):\n",
        "\n",
        "        self.classifiers = classifiers\n",
        "        self.named_classifiers = {key: value for key, value\n",
        "                                  in _name_estimators(classifiers)}\n",
        "        self.vote = vote\n",
        "        self.weights = weights\n",
        "\n",
        "    def fit(self, X, y):\n",
        "        \"\"\" Fit classifiers.\n",
        "\n",
        "        Parameters\n",
        "        ----------\n",
        "        X : {array-like, sparse matrix}, shape = [n_examples, n_features]\n",
        "            Matrix of training examples.\n",
        "\n",
        "        y : array-like, shape = [n_examples]\n",
        "            Vector of target class labels.\n",
        "\n",
        "        Returns\n",
        "        -------\n",
        "        self : object\n",
        "\n",
        "        \"\"\"\n",
        "        if self.vote not in ('probability', 'classlabel'):\n",
        "            raise ValueError(\"vote must be 'probability' or 'classlabel'\"\n",
        "                             \"; got (vote=%r)\"\n",
        "                             % self.vote)\n",
        "\n",
        "        if self.weights and len(self.weights) != len(self.classifiers):\n",
        "            raise ValueError('Number of classifiers and weights must be equal'\n",
        "                             '; got %d weights, %d classifiers'\n",
        "                             % (len(self.weights), len(self.classifiers)))\n",
        "\n",
        "        # Use LabelEncoder to ensure class labels start with 0, which\n",
        "        # is important for np.argmax call in self.predict\n",
        "        self.lablenc_ = LabelEncoder()\n",
        "        self.lablenc_.fit(y)\n",
        "        self.classes_ = self.lablenc_.classes_\n",
        "        self.classifiers_ = []\n",
        "        for clf in self.classifiers:\n",
        "            fitted_clf = clone(clf).fit(X, self.lablenc_.transform(y))\n",
        "            self.classifiers_.append(fitted_clf)\n",
        "        return self\n",
        "\n",
        "    def predict(self, X):\n",
        "        \"\"\" Predict class labels for X.\n",
        "\n",
        "        Parameters\n",
        "        ----------\n",
        "        X : {array-like, sparse matrix}, shape = [n_examples, n_features]\n",
        "            Matrix of training examples.\n",
        "\n",
        "        Returns\n",
        "        ----------\n",
        "        maj_vote : array-like, shape = [n_examples]\n",
        "            Predicted class labels.\n",
        "            \n",
        "        \"\"\"\n",
        "        if self.vote == 'probability':\n",
        "            maj_vote = np.argmax(self.predict_proba(X), axis=1)\n",
        "        else:  # 'classlabel' vote\n",
        "\n",
        "            #  Collect results from clf.predict calls\n",
        "            predictions = np.asarray([clf.predict(X)\n",
        "                                      for clf in self.classifiers_]).T\n",
        "\n",
        "            maj_vote = np.apply_along_axis(\n",
        "                                      lambda x:\n",
        "                                      np.argmax(np.bincount(x,\n",
        "                                                weights=self.weights)),\n",
        "                                      axis=1,\n",
        "                                      arr=predictions)\n",
        "        maj_vote = self.lablenc_.inverse_transform(maj_vote)\n",
        "        return maj_vote\n",
        "\n",
        "    def predict_proba(self, X):\n",
        "        \"\"\" Predict class probabilities for X.\n",
        "\n",
        "        Parameters\n",
        "        ----------\n",
        "        X : {array-like, sparse matrix}, shape = [n_examples, n_features]\n",
        "            Training vectors, where n_examples is the number of examples and\n",
        "            n_features is the number of features.\n",
        "\n",
        "        Returns\n",
        "        ----------\n",
        "        avg_proba : array-like, shape = [n_examples, n_classes]\n",
        "            Weighted average probability for each class per example.\n",
        "\n",
        "        \"\"\"\n",
        "        probas = np.asarray([clf.predict_proba(X)\n",
        "                             for clf in self.classifiers_])\n",
        "        avg_proba = np.average(probas, axis=0, weights=self.weights)\n",
        "        return avg_proba\n",
        "\n",
        "    def get_params(self, deep=True):\n",
        "        \"\"\" Get classifier parameter names for GridSearch\"\"\"\n",
        "        if not deep:\n",
        "            return super(MajorityVoteClassifier, self).get_params(deep=False)\n",
        "        else:\n",
        "            out = self.named_classifiers.copy()\n",
        "            for name, step in self.named_classifiers.items():\n",
        "                for key, value in step.get_params(deep=True).items():\n",
        "                    out['%s__%s' % (name, key)] = value\n",
        "            return out"
      ],
      "execution_count": 0,
      "outputs": []
    },
    {
      "cell_type": "markdown",
      "metadata": {
        "id": "TpeNkF-ywzu5",
        "colab_type": "text"
      },
      "source": [
        "### <img src=\"https://img.icons8.com/color/32/000000/3.png\"/> Compare three classifiers"
      ]
    },
    {
      "cell_type": "code",
      "metadata": {
        "id": "oPjzIeShw3fh",
        "colab_type": "code",
        "outputId": "f6df4c4b-9eb7-4b25-f3e4-f3d6c30881fd",
        "colab": {
          "base_uri": "https://localhost:8080/",
          "height": 104
        }
      },
      "source": [
        "# define and test three classifiers\n",
        "clf1 = LogisticRegression(penalty='l2', \n",
        "                          C=0.001,\n",
        "                          solver='lbfgs',\n",
        "                          random_state=1)\n",
        "\n",
        "clf2 = DecisionTreeClassifier(max_depth=1,\n",
        "                              criterion='entropy',\n",
        "                              random_state=0)\n",
        "\n",
        "clf3 = KNeighborsClassifier(n_neighbors=1,\n",
        "                            p=2,\n",
        "                            metric='minkowski')\n",
        "\n",
        "pipe1 = Pipeline([['sc', StandardScaler()],\n",
        "                  ['clf', clf1]])\n",
        "pipe3 = Pipeline([['sc', StandardScaler()],\n",
        "                  ['clf', clf3]])\n",
        "\n",
        "clf_labels = ['Logistic regression', 'Decision tree', 'KNN']\n",
        "\n",
        "print('10-fold cross validation:\\n')\n",
        "for clf, label in zip([pipe1, clf2, pipe3], clf_labels):\n",
        "    scores = cross_val_score(estimator=clf,\n",
        "                             X=X_train,\n",
        "                             y=y_train,\n",
        "                             cv=10,\n",
        "                             scoring='roc_auc')\n",
        "    print(\"ROC AUC: %0.2f (+/- %0.2f) [%s]\"\n",
        "          % (scores.mean(), scores.std(), label))"
      ],
      "execution_count": 0,
      "outputs": [
        {
          "output_type": "stream",
          "text": [
            "10-fold cross validation:\n",
            "\n",
            "ROC AUC: 0.92 (+/- 0.15) [Logistic regression]\n",
            "ROC AUC: 0.87 (+/- 0.18) [Decision tree]\n",
            "ROC AUC: 0.85 (+/- 0.13) [KNN]\n"
          ],
          "name": "stdout"
        }
      ]
    },
    {
      "cell_type": "markdown",
      "metadata": {
        "id": "1X_M0WToxB1q",
        "colab_type": "text"
      },
      "source": [
        "### <img src=\"https://img.icons8.com/color/32/000000/checked-checkbox.png\"/> Apply the `MajorityVoteClassifier`"
      ]
    },
    {
      "cell_type": "code",
      "metadata": {
        "id": "Nr5MhJWexWkF",
        "colab_type": "code",
        "outputId": "5be8a35d-6917-4ea9-bc49-b2462dfacd38",
        "colab": {
          "base_uri": "https://localhost:8080/",
          "height": 87
        }
      },
      "source": [
        "# majority rule (hard) voting\n",
        "\n",
        "mv_clf = MajorityVoteClassifier(classifiers=[pipe1, clf2, pipe3])\n",
        "\n",
        "clf_labels += ['Majority voting']\n",
        "all_clf = [pipe1, clf2, pipe3, mv_clf]\n",
        "\n",
        "for clf, label in zip(all_clf, clf_labels):\n",
        "    scores = cross_val_score(estimator=clf,\n",
        "                             X=X_train,\n",
        "                             y=y_train,\n",
        "                             cv=10,\n",
        "                             scoring='roc_auc')\n",
        "    print(\"ROC AUC: %0.2f (+/- %0.2f) [%s]\"\n",
        "          % (scores.mean(), scores.std(), label))"
      ],
      "execution_count": 0,
      "outputs": [
        {
          "output_type": "stream",
          "text": [
            "ROC AUC: 0.92 (+/- 0.15) [Logistic regression]\n",
            "ROC AUC: 0.87 (+/- 0.18) [Decision tree]\n",
            "ROC AUC: 0.85 (+/- 0.13) [KNN]\n",
            "ROC AUC: 0.98 (+/- 0.05) [Majority voting]\n"
          ],
          "name": "stdout"
        }
      ]
    },
    {
      "cell_type": "markdown",
      "metadata": {
        "id": "HnXsYGXoacCE",
        "colab_type": "text"
      },
      "source": [
        "### <img src=\"https://img.icons8.com/color/32/000000/report-card.png\"/> Evaluate the ensemble classifier"
      ]
    },
    {
      "cell_type": "code",
      "metadata": {
        "id": "bozN3ckzacCG",
        "colab_type": "code",
        "outputId": "368cbb42-72ed-404a-e5a5-2dde08679d19",
        "colab": {
          "base_uri": "https://localhost:8080/",
          "height": 279
        }
      },
      "source": [
        "# graph FPR vs TPR\n",
        "colors = ['black', 'orange', 'blue', 'green']\n",
        "linestyles = [':', '--', '-.', '-']\n",
        "for clf, label, clr, ls \\\n",
        "        in zip(all_clf,\n",
        "               clf_labels, colors, linestyles):\n",
        "\n",
        "    # assuming the label of the positive class is 1\n",
        "    y_pred = clf.fit(X_train,\n",
        "                     y_train).predict_proba(X_test)[:, 1]\n",
        "    fpr, tpr, thresholds = roc_curve(y_true=y_test,\n",
        "                                     y_score=y_pred)\n",
        "    roc_auc = auc(x=fpr, y=tpr)\n",
        "    plt.plot(fpr, tpr,\n",
        "             color=clr,\n",
        "             linestyle=ls,\n",
        "             label='%s (auc = %0.2f)' % (label, roc_auc))\n",
        "\n",
        "plt.legend(loc='lower right')\n",
        "plt.plot([0, 1], [0, 1],\n",
        "         linestyle='--',\n",
        "         color='gray',\n",
        "         linewidth=2)\n",
        "\n",
        "plt.xlim([-0.1, 1.1])\n",
        "plt.ylim([-0.1, 1.1])\n",
        "plt.grid(alpha=0.5)\n",
        "plt.xlabel('False positive rate (FPR)')\n",
        "plt.ylabel('True positive rate (TPR)')\n",
        "\n",
        "plt.show()"
      ],
      "execution_count": 0,
      "outputs": [
        {
          "output_type": "display_data",
          "data": {
            "image/png": "[encoded data removed]",
            "text/plain": [
              "<Figure size 432x288 with 1 Axes>"
            ]
          },
          "metadata": {
            "tags": [],
            "needs_background": "light"
          }
        }
      ]
    },
    {
      "cell_type": "markdown",
      "metadata": {
        "id": "AkLlEcnNHgDU",
        "colab_type": "text"
      },
      "source": [
        "### <img src=\"https://img.icons8.com/color/32/000000/presentation.png\"/>  Visualize the ensemble classifier"
      ]
    },
    {
      "cell_type": "code",
      "metadata": {
        "id": "GXSovGMHacCL",
        "colab_type": "code",
        "colab": {}
      },
      "source": [
        "# standardize (for visualization)\n",
        "sc = StandardScaler()\n",
        "X_train_std = sc.fit_transform(X_train)"
      ],
      "execution_count": 0,
      "outputs": []
    },
    {
      "cell_type": "code",
      "metadata": {
        "id": "_w66HqYsacCP",
        "colab_type": "code",
        "outputId": "da138ffc-cc83-4ecb-b036-cee9f8e42b9f",
        "colab": {
          "base_uri": "https://localhost:8080/",
          "height": 356
        }
      },
      "source": [
        "# visualization \n",
        "all_clf = [pipe1, clf2, pipe3, mv_clf]\n",
        "\n",
        "x_min = X_train_std[:, 0].min() - 1\n",
        "x_max = X_train_std[:, 0].max() + 1\n",
        "y_min = X_train_std[:, 1].min() - 1\n",
        "y_max = X_train_std[:, 1].max() + 1\n",
        "\n",
        "xx, yy = np.meshgrid(np.arange(x_min, x_max, 0.1),\n",
        "                     np.arange(y_min, y_max, 0.1))\n",
        "\n",
        "f, axarr = plt.subplots(nrows=2, ncols=2, \n",
        "                        sharex='col', \n",
        "                        sharey='row', \n",
        "                        figsize=(7, 5))\n",
        "\n",
        "for idx, clf, tt in zip(product([0, 1], [0, 1]),\n",
        "                        all_clf, clf_labels):\n",
        "    clf.fit(X_train_std, y_train)\n",
        "    \n",
        "    Z = clf.predict(np.c_[xx.ravel(), yy.ravel()])\n",
        "    Z = Z.reshape(xx.shape)\n",
        "\n",
        "    axarr[idx[0], idx[1]].contourf(xx, yy, Z, alpha=0.3)\n",
        "    \n",
        "    axarr[idx[0], idx[1]].scatter(X_train_std[y_train==0, 0], \n",
        "                                  X_train_std[y_train==0, 1], \n",
        "                                  c='blue', \n",
        "                                  marker='^',\n",
        "                                  s=50)\n",
        "    \n",
        "    axarr[idx[0], idx[1]].scatter(X_train_std[y_train==1, 0], \n",
        "                                  X_train_std[y_train==1, 1], \n",
        "                                  c='green', \n",
        "                                  marker='o',\n",
        "                                  s=50)\n",
        "    \n",
        "    axarr[idx[0], idx[1]].set_title(tt)\n",
        "\n",
        "plt.text(-3.5, -5., \n",
        "         s='Sepal width [standardized]', \n",
        "         ha='center', va='center', fontsize=12)\n",
        "plt.text(-12.5, 4.5, \n",
        "         s='Petal length [standardized]', \n",
        "         ha='center', va='center', \n",
        "         fontsize=12, rotation=90)\n",
        "\n",
        "plt.show()"
      ],
      "execution_count": 0,
      "outputs": [
        {
          "output_type": "display_data",
          "data": {
            "image/png": "[encoded data removed]",
            "text/plain": [
              "<Figure size 504x360 with 4 Axes>"
            ]
          },
          "metadata": {
            "tags": [],
            "needs_background": "light"
          }
        }
      ]
    },
    {
      "cell_type": "markdown",
      "metadata": {
        "id": "L1HEBZiezIPZ",
        "colab_type": "text"
      },
      "source": [
        "### <img src=\"https://img.icons8.com/color/32/000000/ingredients-list.png\"/> View model parameters"
      ]
    },
    {
      "cell_type": "code",
      "metadata": {
        "id": "TcLvnVuiacCU",
        "colab_type": "code",
        "outputId": "cb072b23-af04-489b-8ad3-e636b88deb07",
        "colab": {
          "base_uri": "https://localhost:8080/",
          "height": 1000
        }
      },
      "source": [
        "# get params\n",
        "mv_clf.get_params()"
      ],
      "execution_count": 0,
      "outputs": [
        {
          "output_type": "execute_result",
          "data": {
            "text/plain": [
              "{'decisiontreeclassifier': DecisionTreeClassifier(ccp_alpha=0.0, class_weight=None, criterion='entropy',\n",
              "                        max_depth=1, max_features=None, max_leaf_nodes=None,\n",
              "                        min_impurity_decrease=0.0, min_impurity_split=None,\n",
              "                        min_samples_leaf=1, min_samples_split=2,\n",
              "                        min_weight_fraction_leaf=0.0, presort='deprecated',\n",
              "                        random_state=0, splitter='best'),\n",
              " 'decisiontreeclassifier__ccp_alpha': 0.0,\n",
              " 'decisiontreeclassifier__class_weight': None,\n",
              " 'decisiontreeclassifier__criterion': 'entropy',\n",
              " 'decisiontreeclassifier__max_depth': 1,\n",
              " 'decisiontreeclassifier__max_features': None,\n",
              " 'decisiontreeclassifier__max_leaf_nodes': None,\n",
              " 'decisiontreeclassifier__min_impurity_decrease': 0.0,\n",
              " 'decisiontreeclassifier__min_impurity_split': None,\n",
              " 'decisiontreeclassifier__min_samples_leaf': 1,\n",
              " 'decisiontreeclassifier__min_samples_split': 2,\n",
              " 'decisiontreeclassifier__min_weight_fraction_leaf': 0.0,\n",
              " 'decisiontreeclassifier__presort': 'deprecated',\n",
              " 'decisiontreeclassifier__random_state': 0,\n",
              " 'decisiontreeclassifier__splitter': 'best',\n",
              " 'pipeline-1': Pipeline(memory=None,\n",
              "          steps=[('sc',\n",
              "                  StandardScaler(copy=True, with_mean=True, with_std=True)),\n",
              "                 ['clf',\n",
              "                  LogisticRegression(C=0.001, class_weight=None, dual=False,\n",
              "                                     fit_intercept=True, intercept_scaling=1,\n",
              "                                     l1_ratio=None, max_iter=100,\n",
              "                                     multi_class='auto', n_jobs=None,\n",
              "                                     penalty='l2', random_state=1,\n",
              "                                     solver='lbfgs', tol=0.0001, verbose=0,\n",
              "                                     warm_start=False)]],\n",
              "          verbose=False),\n",
              " 'pipeline-1__clf': LogisticRegression(C=0.001, class_weight=None, dual=False, fit_intercept=True,\n",
              "                    intercept_scaling=1, l1_ratio=None, max_iter=100,\n",
              "                    multi_class='auto', n_jobs=None, penalty='l2',\n",
              "                    random_state=1, solver='lbfgs', tol=0.0001, verbose=0,\n",
              "                    warm_start=False),\n",
              " 'pipeline-1__clf__C': 0.001,\n",
              " 'pipeline-1__clf__class_weight': None,\n",
              " 'pipeline-1__clf__dual': False,\n",
              " 'pipeline-1__clf__fit_intercept': True,\n",
              " 'pipeline-1__clf__intercept_scaling': 1,\n",
              " 'pipeline-1__clf__l1_ratio': None,\n",
              " 'pipeline-1__clf__max_iter': 100,\n",
              " 'pipeline-1__clf__multi_class': 'auto',\n",
              " 'pipeline-1__clf__n_jobs': None,\n",
              " 'pipeline-1__clf__penalty': 'l2',\n",
              " 'pipeline-1__clf__random_state': 1,\n",
              " 'pipeline-1__clf__solver': 'lbfgs',\n",
              " 'pipeline-1__clf__tol': 0.0001,\n",
              " 'pipeline-1__clf__verbose': 0,\n",
              " 'pipeline-1__clf__warm_start': False,\n",
              " 'pipeline-1__memory': None,\n",
              " 'pipeline-1__sc': StandardScaler(copy=True, with_mean=True, with_std=True),\n",
              " 'pipeline-1__sc__copy': True,\n",
              " 'pipeline-1__sc__with_mean': True,\n",
              " 'pipeline-1__sc__with_std': True,\n",
              " 'pipeline-1__steps': [('sc',\n",
              "   StandardScaler(copy=True, with_mean=True, with_std=True)),\n",
              "  ['clf',\n",
              "   LogisticRegression(C=0.001, class_weight=None, dual=False, fit_intercept=True,\n",
              "                      intercept_scaling=1, l1_ratio=None, max_iter=100,\n",
              "                      multi_class='auto', n_jobs=None, penalty='l2',\n",
              "                      random_state=1, solver='lbfgs', tol=0.0001, verbose=0,\n",
              "                      warm_start=False)]],\n",
              " 'pipeline-1__verbose': False,\n",
              " 'pipeline-2': Pipeline(memory=None,\n",
              "          steps=[('sc',\n",
              "                  StandardScaler(copy=True, with_mean=True, with_std=True)),\n",
              "                 ['clf',\n",
              "                  KNeighborsClassifier(algorithm='auto', leaf_size=30,\n",
              "                                       metric='minkowski', metric_params=None,\n",
              "                                       n_jobs=None, n_neighbors=1, p=2,\n",
              "                                       weights='uniform')]],\n",
              "          verbose=False),\n",
              " 'pipeline-2__clf': KNeighborsClassifier(algorithm='auto', leaf_size=30, metric='minkowski',\n",
              "                      metric_params=None, n_jobs=None, n_neighbors=1, p=2,\n",
              "                      weights='uniform'),\n",
              " 'pipeline-2__clf__algorithm': 'auto',\n",
              " 'pipeline-2__clf__leaf_size': 30,\n",
              " 'pipeline-2__clf__metric': 'minkowski',\n",
              " 'pipeline-2__clf__metric_params': None,\n",
              " 'pipeline-2__clf__n_jobs': None,\n",
              " 'pipeline-2__clf__n_neighbors': 1,\n",
              " 'pipeline-2__clf__p': 2,\n",
              " 'pipeline-2__clf__weights': 'uniform',\n",
              " 'pipeline-2__memory': None,\n",
              " 'pipeline-2__sc': StandardScaler(copy=True, with_mean=True, with_std=True),\n",
              " 'pipeline-2__sc__copy': True,\n",
              " 'pipeline-2__sc__with_mean': True,\n",
              " 'pipeline-2__sc__with_std': True,\n",
              " 'pipeline-2__steps': [('sc',\n",
              "   StandardScaler(copy=True, with_mean=True, with_std=True)),\n",
              "  ['clf',\n",
              "   KNeighborsClassifier(algorithm='auto', leaf_size=30, metric='minkowski',\n",
              "                        metric_params=None, n_jobs=None, n_neighbors=1, p=2,\n",
              "                        weights='uniform')]],\n",
              " 'pipeline-2__verbose': False}"
            ]
          },
          "metadata": {
            "tags": []
          },
          "execution_count": 81
        }
      ]
    },
    {
      "cell_type": "markdown",
      "metadata": {
        "id": "2QaAj2qEzmrJ",
        "colab_type": "text"
      },
      "source": [
        "### <img src=\"https://img.icons8.com/color/32/000000/horizontal-settings-mixer.png\"/> Tune model parameters"
      ]
    },
    {
      "cell_type": "code",
      "metadata": {
        "id": "cG8oMqJyacCY",
        "colab_type": "code",
        "outputId": "e3f52699-e9cf-473e-f0e7-fe9f463753a0",
        "colab": {
          "base_uri": "https://localhost:8080/",
          "height": 627
        }
      },
      "source": [
        "# model parameters to check\n",
        "params = {'decisiontreeclassifier__max_depth': [1, 2],\n",
        "          'pipeline-1__clf__C': [0.001, 0.1, 100.0]}\n",
        "\n",
        "# grid search\n",
        "grid = GridSearchCV(estimator=mv_clf,\n",
        "                    param_grid=params,\n",
        "                    cv=10,\n",
        "                    iid=False,\n",
        "                    scoring='roc_auc')\n",
        "grid.fit(X_train, y_train)"
      ],
      "execution_count": 0,
      "outputs": [
        {
          "output_type": "stream",
          "text": [
            "/usr/local/lib/python3.6/dist-packages/sklearn/model_selection/_search.py:823: FutureWarning: The parameter 'iid' is deprecated in 0.22 and will be removed in 0.24.\n",
            "  \"removed in 0.24.\", FutureWarning\n"
          ],
          "name": "stderr"
        },
        {
          "output_type": "execute_result",
          "data": {
            "text/plain": [
              "GridSearchCV(cv=10, error_score=nan,\n",
              "             estimator=MajorityVoteClassifier(classifiers=[Pipeline(memory=None,\n",
              "                                                                    steps=[('sc',\n",
              "                                                                            StandardScaler(copy=True,\n",
              "                                                                                           with_mean=True,\n",
              "                                                                                           with_std=True)),\n",
              "                                                                           ['clf',\n",
              "                                                                            LogisticRegression(C=0.001,\n",
              "                                                                                               class_weight=None,\n",
              "                                                                                               dual=False,\n",
              "                                                                                               fit_intercept=True,\n",
              "                                                                                               intercept_scaling=1,\n",
              "                                                                                               l1_ratio=None,\n",
              "                                                                                               max_iter=100,\n",
              "                                                                                               multi_class='auto',\n",
              "                                                                                               n_jobs=None,\n",
              "                                                                                               penalty='l2',\n",
              "                                                                                               random...\n",
              "                                                                                                 leaf_size=30,\n",
              "                                                                                                 metric='minkowski',\n",
              "                                                                                                 metric_params=None,\n",
              "                                                                                                 n_jobs=None,\n",
              "                                                                                                 n_neighbors=1,\n",
              "                                                                                                 p=2,\n",
              "                                                                                                 weights='uniform')]],\n",
              "                                                                    verbose=False)],\n",
              "                                              vote='classlabel', weights=None),\n",
              "             iid=False, n_jobs=None,\n",
              "             param_grid={'decisiontreeclassifier__max_depth': [1, 2],\n",
              "                         'pipeline-1__clf__C': [0.001, 0.1, 100.0]},\n",
              "             pre_dispatch='2*n_jobs', refit=True, return_train_score=False,\n",
              "             scoring='roc_auc', verbose=0)"
            ]
          },
          "metadata": {
            "tags": []
          },
          "execution_count": 82
        }
      ]
    },
    {
      "cell_type": "code",
      "metadata": {
        "id": "Vyruesp-ztH2",
        "colab_type": "code",
        "outputId": "d21a7b3f-51fb-42e9-d9cb-2db4eaf353e5",
        "colab": {
          "base_uri": "https://localhost:8080/",
          "height": 121
        }
      },
      "source": [
        "# enumerate the CV results\n",
        "for r, _ in enumerate(grid.cv_results_['mean_test_score']):\n",
        "    print(\"%0.3f +/- %0.2f %r\"\n",
        "          % (grid.cv_results_['mean_test_score'][r], \n",
        "             grid.cv_results_['std_test_score'][r] / 2.0, \n",
        "             grid.cv_results_['params'][r]))"
      ],
      "execution_count": 0,
      "outputs": [
        {
          "output_type": "stream",
          "text": [
            "0.983 +/- 0.02 {'decisiontreeclassifier__max_depth': 1, 'pipeline-1__clf__C': 0.001}\n",
            "0.983 +/- 0.02 {'decisiontreeclassifier__max_depth': 1, 'pipeline-1__clf__C': 0.1}\n",
            "0.967 +/- 0.05 {'decisiontreeclassifier__max_depth': 1, 'pipeline-1__clf__C': 100.0}\n",
            "0.983 +/- 0.02 {'decisiontreeclassifier__max_depth': 2, 'pipeline-1__clf__C': 0.001}\n",
            "0.983 +/- 0.02 {'decisiontreeclassifier__max_depth': 2, 'pipeline-1__clf__C': 0.1}\n",
            "0.967 +/- 0.05 {'decisiontreeclassifier__max_depth': 2, 'pipeline-1__clf__C': 100.0}\n"
          ],
          "name": "stdout"
        }
      ]
    },
    {
      "cell_type": "code",
      "metadata": {
        "id": "41UO6Ou7acCd",
        "colab_type": "code",
        "outputId": "dc362ba2-3d2c-4fbb-eae8-486ef91ea271",
        "colab": {
          "base_uri": "https://localhost:8080/",
          "height": 52
        }
      },
      "source": [
        "# print best paramters and accuracy\n",
        "print('Best parameters: %s' % grid.best_params_)\n",
        "print('Accuracy: %.2f' % grid.best_score_)"
      ],
      "execution_count": 0,
      "outputs": [
        {
          "output_type": "stream",
          "text": [
            "Best parameters: {'decisiontreeclassifier__max_depth': 1, 'pipeline-1__clf__C': 0.001}\n",
            "Accuracy: 0.98\n"
          ],
          "name": "stdout"
        }
      ]
    },
    {
      "cell_type": "markdown",
      "metadata": {
        "id": "pbC1yBeqacCj",
        "colab_type": "text"
      },
      "source": [
        "**Note**  \n",
        "By default, the default setting for `refit` in `GridSearchCV` is `True` (i.e., `GridSeachCV(..., refit=True)`), which means that we can use the fitted `GridSearchCV` estimator to make predictions via the `predict` method, for example:\n",
        "\n",
        "    grid = GridSearchCV(estimator=mv_clf, \n",
        "                        param_grid=params, \n",
        "                        cv=10, \n",
        "                        scoring='roc_auc')\n",
        "    grid.fit(X_train, y_train)\n",
        "    y_pred = grid.predict(X_test)\n",
        "\n",
        "In addition, the \"best\" estimator can directly be accessed via the `best_estimator_` attribute."
      ]
    },
    {
      "cell_type": "code",
      "metadata": {
        "id": "7aJYV43pacCk",
        "colab_type": "code",
        "outputId": "174c954e-a352-4b62-fd0e-9916396dd9c4",
        "colab": {
          "base_uri": "https://localhost:8080/",
          "height": 485
        }
      },
      "source": [
        "# view best estimator\n",
        "grid.best_estimator_.classifiers"
      ],
      "execution_count": 0,
      "outputs": [
        {
          "output_type": "execute_result",
          "data": {
            "text/plain": [
              "[Pipeline(memory=None,\n",
              "          steps=[('sc',\n",
              "                  StandardScaler(copy=True, with_mean=True, with_std=True)),\n",
              "                 ['clf',\n",
              "                  LogisticRegression(C=0.001, class_weight=None, dual=False,\n",
              "                                     fit_intercept=True, intercept_scaling=1,\n",
              "                                     l1_ratio=None, max_iter=100,\n",
              "                                     multi_class='auto', n_jobs=None,\n",
              "                                     penalty='l2', random_state=1,\n",
              "                                     solver='lbfgs', tol=0.0001, verbose=0,\n",
              "                                     warm_start=False)]],\n",
              "          verbose=False),\n",
              " DecisionTreeClassifier(ccp_alpha=0.0, class_weight=None, criterion='entropy',\n",
              "                        max_depth=1, max_features=None, max_leaf_nodes=None,\n",
              "                        min_impurity_decrease=0.0, min_impurity_split=None,\n",
              "                        min_samples_leaf=1, min_samples_split=2,\n",
              "                        min_weight_fraction_leaf=0.0, presort='deprecated',\n",
              "                        random_state=0, splitter='best'),\n",
              " Pipeline(memory=None,\n",
              "          steps=[('sc',\n",
              "                  StandardScaler(copy=True, with_mean=True, with_std=True)),\n",
              "                 ['clf',\n",
              "                  KNeighborsClassifier(algorithm='auto', leaf_size=30,\n",
              "                                       metric='minkowski', metric_params=None,\n",
              "                                       n_jobs=None, n_neighbors=1, p=2,\n",
              "                                       weights='uniform')]],\n",
              "          verbose=False)]"
            ]
          },
          "metadata": {
            "tags": []
          },
          "execution_count": 85
        }
      ]
    },
    {
      "cell_type": "code",
      "metadata": {
        "id": "kzXnP3iJacCp",
        "colab_type": "code",
        "colab": {}
      },
      "source": [
        "# get best estimator\n",
        "mv_clf = grid.best_estimator_"
      ],
      "execution_count": 0,
      "outputs": []
    },
    {
      "cell_type": "code",
      "metadata": {
        "id": "U0kNd_DUacCt",
        "colab_type": "code",
        "outputId": "418665eb-2efc-4124-f04e-b3e156b8482d",
        "colab": {
          "base_uri": "https://localhost:8080/",
          "height": 711
        }
      },
      "source": [
        "# set parameters of majority vote\n",
        "mv_clf.set_params(**grid.best_estimator_.get_params())"
      ],
      "execution_count": 0,
      "outputs": [
        {
          "output_type": "execute_result",
          "data": {
            "text/plain": [
              "MajorityVoteClassifier(classifiers=[Pipeline(memory=None,\n",
              "                                             steps=[('sc',\n",
              "                                                     StandardScaler(copy=True,\n",
              "                                                                    with_mean=True,\n",
              "                                                                    with_std=True)),\n",
              "                                                    ('clf',\n",
              "                                                     LogisticRegression(C=0.001,\n",
              "                                                                        class_weight=None,\n",
              "                                                                        dual=False,\n",
              "                                                                        fit_intercept=True,\n",
              "                                                                        intercept_scaling=1,\n",
              "                                                                        l1_ratio=None,\n",
              "                                                                        max_iter=100,\n",
              "                                                                        multi_class='auto',\n",
              "                                                                        n_jobs=None,\n",
              "                                                                        penalty='l2',\n",
              "                                                                        random_state=1,\n",
              "                                                                        solver='lbfgs',\n",
              "                                                                        tol=0.0001,\n",
              "                                                                        verbose=0,...\n",
              "                                                           min_weight_fraction_leaf=0.0,\n",
              "                                                           presort='deprecated',\n",
              "                                                           random_state=0,\n",
              "                                                           splitter='best'),\n",
              "                                    Pipeline(memory=None,\n",
              "                                             steps=[('sc',\n",
              "                                                     StandardScaler(copy=True,\n",
              "                                                                    with_mean=True,\n",
              "                                                                    with_std=True)),\n",
              "                                                    ('clf',\n",
              "                                                     KNeighborsClassifier(algorithm='auto',\n",
              "                                                                          leaf_size=30,\n",
              "                                                                          metric='minkowski',\n",
              "                                                                          metric_params=None,\n",
              "                                                                          n_jobs=None,\n",
              "                                                                          n_neighbors=1,\n",
              "                                                                          p=2,\n",
              "                                                                          weights='uniform'))],\n",
              "                                             verbose=False)],\n",
              "                       vote='classlabel', weights=None)"
            ]
          },
          "metadata": {
            "tags": []
          },
          "execution_count": 87
        }
      ]
    },
    {
      "cell_type": "code",
      "metadata": {
        "id": "YekktkMQacC0",
        "colab_type": "code",
        "outputId": "5d1f6cfb-1f2f-49d5-f8de-b63039bd27a9",
        "colab": {
          "base_uri": "https://localhost:8080/",
          "height": 689
        }
      },
      "source": [
        "# view the classifier\n",
        "mv_clf"
      ],
      "execution_count": 0,
      "outputs": [
        {
          "output_type": "execute_result",
          "data": {
            "text/plain": [
              "MajorityVoteClassifier(classifiers=[Pipeline(memory=None,\n",
              "                                             steps=[('sc',\n",
              "                                                     StandardScaler(copy=True,\n",
              "                                                                    with_mean=True,\n",
              "                                                                    with_std=True)),\n",
              "                                                    ('clf',\n",
              "                                                     LogisticRegression(C=0.001,\n",
              "                                                                        class_weight=None,\n",
              "                                                                        dual=False,\n",
              "                                                                        fit_intercept=True,\n",
              "                                                                        intercept_scaling=1,\n",
              "                                                                        l1_ratio=None,\n",
              "                                                                        max_iter=100,\n",
              "                                                                        multi_class='auto',\n",
              "                                                                        n_jobs=None,\n",
              "                                                                        penalty='l2',\n",
              "                                                                        random_state=1,\n",
              "                                                                        solver='lbfgs',\n",
              "                                                                        tol=0.0001,\n",
              "                                                                        verbose=0,...\n",
              "                                                           min_weight_fraction_leaf=0.0,\n",
              "                                                           presort='deprecated',\n",
              "                                                           random_state=0,\n",
              "                                                           splitter='best'),\n",
              "                                    Pipeline(memory=None,\n",
              "                                             steps=[('sc',\n",
              "                                                     StandardScaler(copy=True,\n",
              "                                                                    with_mean=True,\n",
              "                                                                    with_std=True)),\n",
              "                                                    ('clf',\n",
              "                                                     KNeighborsClassifier(algorithm='auto',\n",
              "                                                                          leaf_size=30,\n",
              "                                                                          metric='minkowski',\n",
              "                                                                          metric_params=None,\n",
              "                                                                          n_jobs=None,\n",
              "                                                                          n_neighbors=1,\n",
              "                                                                          p=2,\n",
              "                                                                          weights='uniform'))],\n",
              "                                             verbose=False)],\n",
              "                       vote='classlabel', weights=None)"
            ]
          },
          "metadata": {
            "tags": []
          },
          "execution_count": 88
        }
      ]
    },
    {
      "cell_type": "markdown",
      "metadata": {
        "id": "36oT0gwcacC4",
        "colab_type": "text"
      },
      "source": [
        "<br>\n",
        "<br>"
      ]
    },
    {
      "cell_type": "markdown",
      "metadata": {
        "id": "xWqFmFjx1K3Z",
        "colab_type": "text"
      },
      "source": [
        "# <img src=\"https://img.icons8.com/color/32/000000/forest.png\"/> Random Forests"
      ]
    },
    {
      "cell_type": "code",
      "metadata": {
        "id": "-wze9VTA37uP",
        "colab_type": "code",
        "outputId": "a6f70eea-9cfd-4abc-ae23-6f0840b19d05",
        "colab": {
          "base_uri": "https://localhost:8080/",
          "height": 321
        }
      },
      "source": [
        "from IPython.display import YouTubeVideo\n",
        "YouTubeVideo('J4Wdy0Wc_xQ')"
      ],
      "execution_count": 0,
      "outputs": [
        {
          "output_type": "execute_result",
          "data": {
            "text/html": [
              "\n",
              "        <iframe\n",
              "            width=\"400\"\n",
              "            height=\"300\"\n",
              "            src=\"https://www.youtube.com/embed/J4Wdy0Wc_xQ\"\n",
              "            frameborder=\"0\"\n",
              "            allowfullscreen\n",
              "        ></iframe>\n",
              "        "
            ],
            "text/plain": [
              "<IPython.lib.display.YouTubeVideo at 0x7f17927a3a58>"
            ],
            "image/jpeg": "[encoded data removed]"
          },
          "metadata": {
            "tags": []
          },
          "execution_count": 64
        }
      ]
    },
    {
      "cell_type": "markdown",
      "metadata": {
        "id": "SgkG04gO8ynN",
        "colab_type": "text"
      },
      "source": [
        "### <img src=\"https://img.icons8.com/color/32/000000/restart--v1.png\"/> Reload dataset"
      ]
    },
    {
      "cell_type": "code",
      "metadata": {
        "id": "NMggsysl5Yn2",
        "colab_type": "code",
        "colab": {}
      },
      "source": [
        "# load iris\n",
        "iris = datasets.load_iris()\n",
        "df = pd.DataFrame(data= np.c_[iris['data'], iris['target']],\n",
        "                     columns= iris['feature_names'] + ['target'])\n",
        "\n",
        "# split X and y\n",
        "X = iris.data[:, [2, 3]]\n",
        "y = iris.target\n",
        "\n",
        "# train and test\n",
        "X_train, X_test, y_train, y_test = train_test_split(\n",
        "    X, y, test_size=0.3, random_state=1, stratify=y)\n",
        "\n",
        "# standardize\n",
        "sc = StandardScaler()\n",
        "sc.fit(X_train)\n",
        "X_train_std = sc.transform(X_train)\n",
        "X_test_std = sc.transform(X_test)\n",
        "\n",
        "# needed for graphing\n",
        "X_combined = np.vstack((X_train, X_test))\n",
        "X_combined_std = np.vstack((X_train_std, X_test_std))\n",
        "y_combined = np.hstack((y_train, y_test))"
      ],
      "execution_count": 0,
      "outputs": []
    },
    {
      "cell_type": "markdown",
      "metadata": {
        "id": "OoOqSrx2yPvV",
        "colab_type": "text"
      },
      "source": [
        "## <img src=\"https://img.icons8.com/color/32/000000/active-directory.png\"/> Random Forests with `sklearn`"
      ]
    },
    {
      "cell_type": "code",
      "metadata": {
        "id": "mwPAkQToyPvW",
        "colab_type": "code",
        "outputId": "e7b84239-2cf7-452c-ee44-fd354feefaab",
        "colab": {
          "base_uri": "https://localhost:8080/",
          "height": 334
        }
      },
      "source": [
        "# train a random forest\n",
        "forest = RandomForestClassifier(criterion='gini',\n",
        "                                n_estimators=25, \n",
        "                                random_state=1,\n",
        "                                n_jobs=2)\n",
        "forest.fit(X_train, y_train)\n",
        "\n",
        "plot_decision_regions(X_combined, y_combined, \n",
        "                      classifier=forest, test_idx=range(105, 150))\n",
        "\n",
        "plt.xlabel('petal length [cm]')\n",
        "plt.ylabel('petal width [cm]')\n",
        "plt.legend(loc='upper left')\n",
        "plt.tight_layout()\n",
        "plt.show()"
      ],
      "execution_count": 0,
      "outputs": [
        {
          "output_type": "stream",
          "text": [
            "/usr/local/lib/python3.6/dist-packages/ipykernel_launcher.py:41: MatplotlibDeprecationWarning: Using a string of single character colors as a color sequence is deprecated. Use an explicit list instead.\n"
          ],
          "name": "stderr"
        },
        {
          "output_type": "display_data",
          "data": {
            "image/png": "[encoded data removed]",
            "text/plain": [
              "<Figure size 432x288 with 1 Axes>"
            ]
          },
          "metadata": {
            "tags": [],
            "needs_background": "light"
          }
        }
      ]
    },
    {
      "cell_type": "markdown",
      "metadata": {
        "id": "Wl9huaEdPExs",
        "colab_type": "text"
      },
      "source": [
        "## Regression trees"
      ]
    },
    {
      "cell_type": "code",
      "metadata": {
        "id": "o93rTdT6PMgM",
        "colab_type": "code",
        "outputId": "f503e3d8-43e9-4a69-9f2c-e0aa7be0a33a",
        "colab": {
          "base_uri": "https://localhost:8080/",
          "height": 321
        }
      },
      "source": [
        "from IPython.display import YouTubeVideo\n",
        "YouTubeVideo('g9c66TUylZ4')"
      ],
      "execution_count": 0,
      "outputs": [
        {
          "output_type": "execute_result",
          "data": {
            "text/html": [
              "\n",
              "        <iframe\n",
              "            width=\"400\"\n",
              "            height=\"300\"\n",
              "            src=\"https://www.youtube.com/embed/g9c66TUylZ4\"\n",
              "            frameborder=\"0\"\n",
              "            allowfullscreen\n",
              "        ></iframe>\n",
              "        "
            ],
            "text/plain": [
              "<IPython.lib.display.YouTubeVideo at 0x7f17979ec240>"
            ],
            "image/jpeg": "[encoded data removed]"
          },
          "metadata": {
            "tags": []
          },
          "execution_count": 91
        }
      ]
    }
  ]
}