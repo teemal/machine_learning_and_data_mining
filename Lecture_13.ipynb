{
  "nbformat": 4,
  "nbformat_minor": 0,
  "metadata": {
    "colab": {
      "name": "Lecture 13.ipynb",
      "provenance": [],
      "collapsed_sections": []
    },
    "kernelspec": {
      "name": "python3",
      "display_name": "Python 3"
    }
  },
  "cells": [
    {
      "cell_type": "markdown",
      "metadata": {
        "id": "WMMheVdmTh0e",
        "colab_type": "text"
      },
      "source": [
        "# Lecture 13 - Dimensionality Reduction"
      ]
    },
    {
      "cell_type": "markdown",
      "metadata": {
        "id": "nZxhikF-TiKT",
        "colab_type": "text"
      },
      "source": [
        "***\n",
        "##### CS 434 - Data Mining and Machine Learning\n",
        "##### Oregon State University-Cascades\n",
        "***"
      ]
    },
    {
      "cell_type": "markdown",
      "metadata": {
        "id": "h06h9zKbWv1Z",
        "colab_type": "text"
      },
      "source": [
        "## <img src=\"https://img.icons8.com/color/32/000000/fork-lift.png\"/> Load packages"
      ]
    },
    {
      "cell_type": "code",
      "metadata": {
        "id": "gpT_ff1CTYmR",
        "colab_type": "code",
        "colab": {}
      },
      "source": [
        "import pandas as pd\n",
        "import numpy as np\n",
        "import matplotlib.pyplot as plt\n",
        "from matplotlib.colors import ListedColormap\n",
        "from sklearn.model_selection import train_test_split\n",
        "from sklearn.preprocessing import StandardScaler\n",
        "from sklearn.preprocessing import LabelEncoder\n",
        "from sklearn.decomposition import PCA\n",
        "from sklearn.discriminant_analysis import LinearDiscriminantAnalysis as LDA\n",
        "from sklearn.linear_model import LogisticRegression\n",
        "from scipy.spatial.distance import pdist, squareform\n",
        "from scipy import exp\n",
        "from scipy.linalg import eigh\n",
        "from IPython.display import Image\n",
        "from sklearn.datasets import make_moons\n",
        "from sklearn.datasets import make_circles\n",
        "from sklearn.decomposition import KernelPCA"
      ],
      "execution_count": 0,
      "outputs": []
    },
    {
      "cell_type": "markdown",
      "metadata": {
        "id": "1HqCLZDeXRXB",
        "colab_type": "text"
      },
      "source": [
        "## <img src=\"https://img.icons8.com/color/32/000000/accept-database.png\"/> Load dataset"
      ]
    },
    {
      "cell_type": "code",
      "metadata": {
        "id": "EkeFXq7rXTVI",
        "colab_type": "code",
        "outputId": "408ae7da-0f40-46fc-e222-ff2417a08f52",
        "colab": {
          "base_uri": "https://localhost:8080/",
          "height": 204
        }
      },
      "source": [
        "df_wine = pd.read_csv('https://archive.ics.uci.edu/ml/'\n",
        "                      'machine-learning-databases/wine/wine.data',\n",
        "                      header=None)\n",
        "\n",
        "df_wine.columns = ['Class label', 'Alcohol', 'Malic acid', 'Ash',\n",
        "                   'Alcalinity of ash', 'Magnesium', 'Total phenols',\n",
        "                   'Flavanoids', 'Nonflavanoid phenols', 'Proanthocyanins',\n",
        "                   'Color intensity', 'Hue',\n",
        "                   'OD280/OD315 of diluted wines', 'Proline']\n",
        "\n",
        "df_wine.head()"
      ],
      "execution_count": 0,
      "outputs": [
        {
          "output_type": "execute_result",
          "data": {
            "text/html": [
              "<div>\n",
              "<style scoped>\n",
              "    .dataframe tbody tr th:only-of-type {\n",
              "        vertical-align: middle;\n",
              "    }\n",
              "\n",
              "    .dataframe tbody tr th {\n",
              "        vertical-align: top;\n",
              "    }\n",
              "\n",
              "    .dataframe thead th {\n",
              "        text-align: right;\n",
              "    }\n",
              "</style>\n",
              "<table border=\"1\" class=\"dataframe\">\n",
              "  <thead>\n",
              "    <tr style=\"text-align: right;\">\n",
              "      <th></th>\n",
              "      <th>Class label</th>\n",
              "      <th>Alcohol</th>\n",
              "      <th>Malic acid</th>\n",
              "      <th>Ash</th>\n",
              "      <th>Alcalinity of ash</th>\n",
              "      <th>Magnesium</th>\n",
              "      <th>Total phenols</th>\n",
              "      <th>Flavanoids</th>\n",
              "      <th>Nonflavanoid phenols</th>\n",
              "      <th>Proanthocyanins</th>\n",
              "      <th>Color intensity</th>\n",
              "      <th>Hue</th>\n",
              "      <th>OD280/OD315 of diluted wines</th>\n",
              "      <th>Proline</th>\n",
              "    </tr>\n",
              "  </thead>\n",
              "  <tbody>\n",
              "    <tr>\n",
              "      <th>0</th>\n",
              "      <td>1</td>\n",
              "      <td>14.23</td>\n",
              "      <td>1.71</td>\n",
              "      <td>2.43</td>\n",
              "      <td>15.6</td>\n",
              "      <td>127</td>\n",
              "      <td>2.80</td>\n",
              "      <td>3.06</td>\n",
              "      <td>0.28</td>\n",
              "      <td>2.29</td>\n",
              "      <td>5.64</td>\n",
              "      <td>1.04</td>\n",
              "      <td>3.92</td>\n",
              "      <td>1065</td>\n",
              "    </tr>\n",
              "    <tr>\n",
              "      <th>1</th>\n",
              "      <td>1</td>\n",
              "      <td>13.20</td>\n",
              "      <td>1.78</td>\n",
              "      <td>2.14</td>\n",
              "      <td>11.2</td>\n",
              "      <td>100</td>\n",
              "      <td>2.65</td>\n",
              "      <td>2.76</td>\n",
              "      <td>0.26</td>\n",
              "      <td>1.28</td>\n",
              "      <td>4.38</td>\n",
              "      <td>1.05</td>\n",
              "      <td>3.40</td>\n",
              "      <td>1050</td>\n",
              "    </tr>\n",
              "    <tr>\n",
              "      <th>2</th>\n",
              "      <td>1</td>\n",
              "      <td>13.16</td>\n",
              "      <td>2.36</td>\n",
              "      <td>2.67</td>\n",
              "      <td>18.6</td>\n",
              "      <td>101</td>\n",
              "      <td>2.80</td>\n",
              "      <td>3.24</td>\n",
              "      <td>0.30</td>\n",
              "      <td>2.81</td>\n",
              "      <td>5.68</td>\n",
              "      <td>1.03</td>\n",
              "      <td>3.17</td>\n",
              "      <td>1185</td>\n",
              "    </tr>\n",
              "    <tr>\n",
              "      <th>3</th>\n",
              "      <td>1</td>\n",
              "      <td>14.37</td>\n",
              "      <td>1.95</td>\n",
              "      <td>2.50</td>\n",
              "      <td>16.8</td>\n",
              "      <td>113</td>\n",
              "      <td>3.85</td>\n",
              "      <td>3.49</td>\n",
              "      <td>0.24</td>\n",
              "      <td>2.18</td>\n",
              "      <td>7.80</td>\n",
              "      <td>0.86</td>\n",
              "      <td>3.45</td>\n",
              "      <td>1480</td>\n",
              "    </tr>\n",
              "    <tr>\n",
              "      <th>4</th>\n",
              "      <td>1</td>\n",
              "      <td>13.24</td>\n",
              "      <td>2.59</td>\n",
              "      <td>2.87</td>\n",
              "      <td>21.0</td>\n",
              "      <td>118</td>\n",
              "      <td>2.80</td>\n",
              "      <td>2.69</td>\n",
              "      <td>0.39</td>\n",
              "      <td>1.82</td>\n",
              "      <td>4.32</td>\n",
              "      <td>1.04</td>\n",
              "      <td>2.93</td>\n",
              "      <td>735</td>\n",
              "    </tr>\n",
              "  </tbody>\n",
              "</table>\n",
              "</div>"
            ],
            "text/plain": [
              "   Class label  Alcohol  ...  OD280/OD315 of diluted wines  Proline\n",
              "0            1    14.23  ...                          3.92     1065\n",
              "1            1    13.20  ...                          3.40     1050\n",
              "2            1    13.16  ...                          3.17     1185\n",
              "3            1    14.37  ...                          3.45     1480\n",
              "4            1    13.24  ...                          2.93      735\n",
              "\n",
              "[5 rows x 14 columns]"
            ]
          },
          "metadata": {
            "tags": []
          },
          "execution_count": 56
        }
      ]
    },
    {
      "cell_type": "markdown",
      "metadata": {
        "id": "-7sWvoO25mRJ",
        "colab_type": "text"
      },
      "source": [
        "### <img src=\"https://img.icons8.com/color/32/000000/hashtag-activity-feed-2.png\"/>  Get attributes and class labels"
      ]
    },
    {
      "cell_type": "code",
      "metadata": {
        "id": "WyJrkgJN5rom",
        "colab_type": "code",
        "colab": {}
      },
      "source": [
        "# split train and test\n",
        "X, y = df_wine.iloc[:, 1:].values, df_wine.iloc[:, 0].values"
      ],
      "execution_count": 0,
      "outputs": []
    },
    {
      "cell_type": "markdown",
      "metadata": {
        "id": "K3e_J2ce535l",
        "colab_type": "text"
      },
      "source": [
        "### <img src=\"https://img.icons8.com/color/32/000000/123.png\"/> Encode labels"
      ]
    },
    {
      "cell_type": "code",
      "metadata": {
        "id": "av3c09Lw55nl",
        "colab_type": "code",
        "outputId": "6b6ec7ac-1b2b-4be1-fbae-b117bf76194c",
        "colab": {
          "base_uri": "https://localhost:8080/",
          "height": 170
        }
      },
      "source": [
        "# encode class labels\n",
        "le = LabelEncoder()\n",
        "y = le.fit_transform(y)\n",
        "y"
      ],
      "execution_count": 0,
      "outputs": [
        {
          "output_type": "execute_result",
          "data": {
            "text/plain": [
              "array([0, 0, 0, 0, 0, 0, 0, 0, 0, 0, 0, 0, 0, 0, 0, 0, 0, 0, 0, 0, 0, 0,\n",
              "       0, 0, 0, 0, 0, 0, 0, 0, 0, 0, 0, 0, 0, 0, 0, 0, 0, 0, 0, 0, 0, 0,\n",
              "       0, 0, 0, 0, 0, 0, 0, 0, 0, 0, 0, 0, 0, 0, 0, 1, 1, 1, 1, 1, 1, 1,\n",
              "       1, 1, 1, 1, 1, 1, 1, 1, 1, 1, 1, 1, 1, 1, 1, 1, 1, 1, 1, 1, 1, 1,\n",
              "       1, 1, 1, 1, 1, 1, 1, 1, 1, 1, 1, 1, 1, 1, 1, 1, 1, 1, 1, 1, 1, 1,\n",
              "       1, 1, 1, 1, 1, 1, 1, 1, 1, 1, 1, 1, 1, 1, 1, 1, 1, 1, 1, 1, 2, 2,\n",
              "       2, 2, 2, 2, 2, 2, 2, 2, 2, 2, 2, 2, 2, 2, 2, 2, 2, 2, 2, 2, 2, 2,\n",
              "       2, 2, 2, 2, 2, 2, 2, 2, 2, 2, 2, 2, 2, 2, 2, 2, 2, 2, 2, 2, 2, 2,\n",
              "       2, 2])"
            ]
          },
          "metadata": {
            "tags": []
          },
          "execution_count": 58
        }
      ]
    },
    {
      "cell_type": "markdown",
      "metadata": {
        "id": "qozZa1beXX_t",
        "colab_type": "text"
      },
      "source": [
        "### <img src=\"https://img.icons8.com/color/32/000000/split-files.png\"/> Split into train and test sets"
      ]
    },
    {
      "cell_type": "code",
      "metadata": {
        "id": "LdUW0a5lXlsa",
        "colab_type": "code",
        "outputId": "52c743d7-385d-4015-f0a9-929b445dc2f7",
        "colab": {
          "base_uri": "https://localhost:8080/",
          "height": 68
        }
      },
      "source": [
        "# split train and test\n",
        "X_train, X_test, y_train, y_test = \\\n",
        "    train_test_split(X, y, test_size=0.3, \n",
        "                     stratify=y,\n",
        "                     random_state=0)\n",
        "    \n",
        "print('Label counts in y:', np.bincount(y))\n",
        "print('Label counts in y_train:', np.bincount(y_train))\n",
        "print('Label counts in y_test:', np.bincount(y_test))        "
      ],
      "execution_count": 0,
      "outputs": [
        {
          "output_type": "stream",
          "text": [
            "Label counts in y: [59 71 48]\n",
            "Label counts in y_train: [41 50 33]\n",
            "Label counts in y_test: [18 21 15]\n"
          ],
          "name": "stdout"
        }
      ]
    },
    {
      "cell_type": "markdown",
      "metadata": {
        "id": "VYL0RWv3XF-k",
        "colab_type": "text"
      },
      "source": [
        "# <img src=\"https://img.icons8.com/color/32/000000/p.png\"/> <img src=\"https://img.icons8.com/color/32/000000/c.png\"/> <img src=\"https://img.icons8.com/color/32/000000/a.png\"/> Principle Component Analysis"
      ]
    },
    {
      "cell_type": "code",
      "metadata": {
        "id": "kELZKxMK6kr2",
        "colab_type": "code",
        "outputId": "f554a605-8f09-4871-c3d0-d1e986fc4915",
        "colab": {
          "base_uri": "https://localhost:8080/",
          "height": 321
        }
      },
      "source": [
        "from IPython.display import YouTubeVideo\n",
        "YouTubeVideo('FgakZw6K1QQ')"
      ],
      "execution_count": 0,
      "outputs": [
        {
          "output_type": "execute_result",
          "data": {
            "text/html": [
              "\n",
              "        <iframe\n",
              "            width=\"400\"\n",
              "            height=\"300\"\n",
              "            src=\"https://www.youtube.com/embed/FgakZw6K1QQ\"\n",
              "            frameborder=\"0\"\n",
              "            allowfullscreen\n",
              "        ></iframe>\n",
              "        "
            ],
            "text/plain": [
              "<IPython.lib.display.YouTubeVideo at 0x7f5497637240>"
            ],
            "image/jpeg": "[encoded data removed]"
          },
          "metadata": {
            "tags": []
          },
          "execution_count": 108
        }
      ]
    },
    {
      "cell_type": "markdown",
      "metadata": {
        "id": "KK2erd-U14q3",
        "colab_type": "text"
      },
      "source": [
        "**Principle Component Analysis** (PCA) aims to find the directions of maximum variance in high-dimensional data and projects the data onto a new subspace with equal or few dimensions than the original one. \n",
        "\n",
        "The orthogonal axes (the principla components) of the new subspace can be interpreted as the directions of maximum variance given the constrain that the new feature axes are orthogonal to each other. "
      ]
    },
    {
      "cell_type": "markdown",
      "metadata": {
        "id": "MwznDP63XHbP",
        "colab_type": "text"
      },
      "source": [
        "![alt text](https://github.com/rasbt/python-machine-learning-book-3rd-edition/blob/master/ch05/images/05_01.png?raw=true)"
      ]
    },
    {
      "cell_type": "markdown",
      "metadata": {
        "id": "Euog704V9GrF",
        "colab_type": "text"
      },
      "source": [
        "Suppose we have feature vector $\\mathbf{x}$\n",
        "\n",
        "$$ \\mathbf{x} = [x_1, x_2, \\ldots, x_d ], \\;\\; \\mathbf{x} \\in {\\rm I\\!R}^d$$\n",
        "\n",
        "which is then transformed by a transformation matrix, $\\mathbf{W} \\in {\\rm I\\!R}^{d \\times k}$\n",
        "\n",
        "$$\\mathbf{xW} = \\mathbf{z}$$\n",
        "\n",
        "resulting in the output vector\n",
        "\n",
        "$$\\mathbf{z} = [z_1, z_2, \\ldots, z_k], \\;; \\mathbf{z} \\in {\\rm I\\!R}^k$$\n",
        "\n",
        "Typically $k << d$. The first principle component will have the largest possible variance.\n"
      ]
    },
    {
      "cell_type": "markdown",
      "metadata": {
        "id": "jZpMBtmVygfU",
        "colab_type": "text"
      },
      "source": [
        "## <img src=\"https://img.icons8.com/color/32/000000/overview-pages-2.png\"/> Overview of PCA"
      ]
    },
    {
      "cell_type": "markdown",
      "metadata": {
        "id": "CVhLytKLyjU9",
        "colab_type": "text"
      },
      "source": [
        "### <img src=\"https://img.icons8.com/color/32/000000/todo-list.png\"/> Steps of PCA algorithm\n",
        "\n",
        "<img src=\"https://img.icons8.com/color/24/000000/1.png\"/> Standardize the data.\n",
        "\n",
        "<img src=\"https://img.icons8.com/color/24/000000/2.png\"/> Construct the covariance matrix.\n",
        "\n",
        "<img src=\"https://img.icons8.com/color/24/000000/3.png\"/> Obtain the eigenvalues and eigenvectors of the covariance matrix.\n",
        "\n",
        "<img src=\"https://img.icons8.com/color/24/000000/4.png\"/> Sort the eigenvalues by decreasing order to rank the corresponding eigenvectors.\n",
        "\n",
        "<img src=\"https://img.icons8.com/color/24/000000/5.png\"/> Select the $k$ eigenvectors, which correspond to the $k$ largest eigenvalues, where $k$ is the dimensionality of the new feature subspace ($k \\le d$). \n",
        "\n",
        "<img src=\"https://img.icons8.com/color/24/000000/6.png\"/> Construct the project matrix, $\\mathbf{W}$, from the \"top\" $k$ eigenvectors.\n",
        "\n",
        "<img src=\"https://img.icons8.com/color/24/000000/7.png\"/> Transform the $d$-dimensional input dataset $\\textbf{X}$ using the projection matrix, $\\textbf{W}$, to obtain the new $k$-dimensional feature subspace. "
      ]
    },
    {
      "cell_type": "markdown",
      "metadata": {
        "id": "V5JyfwcoplGd",
        "colab_type": "text"
      },
      "source": [
        "### <img src=\"https://img.icons8.com/color/32/000000/split-table.png\"/> Eigendecomposition"
      ]
    },
    {
      "cell_type": "markdown",
      "metadata": {
        "id": "yx_GH0ii_BrH",
        "colab_type": "text"
      },
      "source": [
        "The covariance between two features $x_j$ and $x_k$ can be calculated as\n",
        "\n",
        "$$ \\sigma_{jk} = {1 \\over {n-1}} \\sum_{i-1}^n (x_j^i - \\mu_j) (x_k^i - \\mu_k)$$\n",
        "\n",
        "where $\\mu_j$ and $\\mu_k$ are the sample means of features $j$ and $k$ respectively."
      ]
    },
    {
      "cell_type": "markdown",
      "metadata": {
        "id": "YpiveBHD_sHQ",
        "colab_type": "text"
      },
      "source": [
        "The covariance matrix $\\Sigma$ can be written as\n",
        "\n",
        "$$\\Sigma = \\begin{bmatrix}\n",
        "\\sigma_1^2 & \\sigma_{12} & \\sigma_{13} \\\\\n",
        "\\sigma_{21}  & \\sigma_2^2 & \\sigma_{23} \\\\\n",
        "\\sigma_{31} & \\sigma_{32} & \\sigma_{3}^2  \\\\\n",
        "\\end{bmatrix}$$"
      ]
    },
    {
      "cell_type": "markdown",
      "metadata": {
        "id": "q6KWNv04AVXi",
        "colab_type": "text"
      },
      "source": [
        "The eigenvectors of the covariance matrix represent the principle components (the directions of maximum variance).\n",
        "\n",
        "The eigenvalues define the magnitudes of the maximum variance.\n",
        "\n",
        "A positive covariance between two features indicates that the features increase or decrease together, whereas a negative covariance indicates that the features vary in opposite directions."
      ]
    },
    {
      "cell_type": "markdown",
      "metadata": {
        "id": "ltm1E3RLBVSe",
        "colab_type": "text"
      },
      "source": [
        "Obtain the eigenpairs of the covariance matrix\n",
        "\n",
        "$$\\mathbf{\\Sigma v} = \\mathbf{\\lambda v}$$\n",
        "\n",
        "\n",
        "where $\\lambda$ is a scalar (the eigenvalue). "
      ]
    },
    {
      "cell_type": "markdown",
      "metadata": {
        "id": "qM0sIqbjCYx1",
        "colab_type": "text"
      },
      "source": [
        "## <img src=\"https://img.icons8.com/color/32/000000/1.png\"/> Standardize the data"
      ]
    },
    {
      "cell_type": "code",
      "metadata": {
        "id": "FSDj9AC4DI7c",
        "colab_type": "code",
        "colab": {}
      },
      "source": [
        "# standardize X_train and X_test\n",
        "sc = StandardScaler()\n",
        "X_train_std = sc.fit_transform(X_train)\n",
        "X_test_std = sc.transform(X_test)"
      ],
      "execution_count": 0,
      "outputs": []
    },
    {
      "cell_type": "markdown",
      "metadata": {
        "id": "44bKY7_DDMGy",
        "colab_type": "text"
      },
      "source": [
        "## <img src=\"https://img.icons8.com/color/32/000000/2.png\"/> Construct the covariance matrix"
      ]
    },
    {
      "cell_type": "code",
      "metadata": {
        "id": "AcaFEVzEDUdD",
        "colab_type": "code",
        "colab": {}
      },
      "source": [
        "# build covariance matrix\n",
        "cov_mat = np.cov(X_train_std.T)"
      ],
      "execution_count": 0,
      "outputs": []
    },
    {
      "cell_type": "markdown",
      "metadata": {
        "id": "8qq9c12lp-7C",
        "colab_type": "text"
      },
      "source": [
        "## <img src=\"https://img.icons8.com/color/32/000000/3.png\"/> Eigendecomposition of the covariance matrix"
      ]
    },
    {
      "cell_type": "code",
      "metadata": {
        "id": "XY1TY2SKpm-V",
        "colab_type": "code",
        "outputId": "c2e424f8-0abc-40c0-d91b-afcaffe46e0a",
        "colab": {
          "base_uri": "https://localhost:8080/",
          "height": 85
        }
      },
      "source": [
        "# eigendecomposition\n",
        "eigen_vals, eigen_vecs = np.linalg.eig(cov_mat)\n",
        "print('\\nEigenvalues \\n%s' % eigen_vals)"
      ],
      "execution_count": 0,
      "outputs": [
        {
          "output_type": "stream",
          "text": [
            "\n",
            "Eigenvalues \n",
            "[4.8427 2.416  1.5485 0.9612 0.8417 0.6621 0.5183 0.3465 0.3131 0.1075\n",
            " 0.2136 0.1536 0.1809]\n"
          ],
          "name": "stdout"
        }
      ]
    },
    {
      "cell_type": "markdown",
      "metadata": {
        "id": "XCw0gA8UqkHs",
        "colab_type": "text"
      },
      "source": [
        "##### <img src=\"https://img.icons8.com/color/32/000000/api.png\"/> Note: `numpy` eigenvectors"
      ]
    },
    {
      "cell_type": "markdown",
      "metadata": {
        "id": "8UPvRskDp5Bb",
        "colab_type": "text"
      },
      "source": [
        "Note the above use of [`numpy.linalg.eig`](http://docs.scipy.org/doc/numpy/reference/generated/numpy.linalg.eig.html) function to decompose the symmetric covariance matrix into its eigenvalues and eigenvectors.\n",
        "    <pre>>>> eigen_vals, eigen_vecs = np.linalg.eig(cov_mat)</pre>\n",
        "\n",
        "This is not necessarily a \"mistake,\" but it is perhaps suboptimal. It would be better to use [`numpy.linalg.eigh`](http://docs.scipy.org/doc/numpy/reference/generated/numpy.linalg.eigh.html) in such cases, which has been designed for [Hermetian matrices](https://en.wikipedia.org/wiki/Hermitian_matrix). The latter always returns real  eigenvalues; whereas the numerically less stable `np.linalg.eig` can decompose nonsymmetric square matrices, you may find that it returns complex eigenvalues in certain cases."
      ]
    },
    {
      "cell_type": "markdown",
      "metadata": {
        "id": "DUR7CCmAWqxA",
        "colab_type": "text"
      },
      "source": [
        "## <img src=\"https://img.icons8.com/color/32/000000/change.png\"/> Total and explained variance"
      ]
    },
    {
      "cell_type": "markdown",
      "metadata": {
        "id": "CM38Y24hlX5Z",
        "colab_type": "text"
      },
      "source": [
        "Explained variance ratio = ${\\lambda_j \\over {\\sum_{j=1}^d \\lambda_j}}$"
      ]
    },
    {
      "cell_type": "code",
      "metadata": {
        "id": "sROCLBtWWqxB",
        "colab_type": "code",
        "colab": {}
      },
      "source": [
        "# calculate sum of explained variance\n",
        "tot = sum(eigen_vals)\n",
        "var_exp = [(i / tot) for i in sorted(eigen_vals, reverse=True)]\n",
        "cum_var_exp = np.cumsum(var_exp)"
      ],
      "execution_count": 0,
      "outputs": []
    },
    {
      "cell_type": "code",
      "metadata": {
        "id": "v4CN6XUhWqxI",
        "colab_type": "code",
        "outputId": "303f2dbe-6881-4bf3-a8ea-f2596a1ce5f0",
        "colab": {
          "base_uri": "https://localhost:8080/",
          "height": 297
        }
      },
      "source": [
        "# plot variance (sorted)\n",
        "plt.bar(range(1, 14), var_exp, alpha=0.5, align='center',\n",
        "        label='Individual explained variance')\n",
        "plt.step(range(1, 14), cum_var_exp, where='mid',\n",
        "         label='Cumulative explained variance')\n",
        "plt.ylabel('Explained variance ratio')\n",
        "plt.xlabel('Principal component index')\n",
        "plt.legend(loc='best')\n",
        "plt.tight_layout()\n",
        "plt.show()"
      ],
      "execution_count": 0,
      "outputs": [
        {
          "output_type": "display_data",
          "data": {
            "image/png": "[encoded data removed]",
            "text/plain": [
              "<Figure size 432x288 with 1 Axes>"
            ]
          },
          "metadata": {
            "tags": [],
            "needs_background": "light"
          }
        }
      ]
    },
    {
      "cell_type": "markdown",
      "metadata": {
        "id": "Mb69A56wCBiD",
        "colab_type": "text"
      },
      "source": [
        "> This plot shows that the first principle component alone accounts for approximately $40\\%$ of the variance."
      ]
    },
    {
      "cell_type": "markdown",
      "metadata": {
        "id": "5-x079AoFqfq",
        "colab_type": "text"
      },
      "source": [
        "## <img src=\"https://img.icons8.com/color/32/000000/4.png\"/> Sort the eigenvalues by decreasing order"
      ]
    },
    {
      "cell_type": "code",
      "metadata": {
        "id": "lrXMvJ8zWqxU",
        "colab_type": "code",
        "colab": {}
      },
      "source": [
        "# Make a list of (eigenvalue, eigenvector) tuples\n",
        "eigen_pairs = [(np.abs(eigen_vals[i]), eigen_vecs[:, i])\n",
        "               for i in range(len(eigen_vals))]\n",
        "\n",
        "# Sort the (eigenvalue, eigenvector) tuples from high to low\n",
        "eigen_pairs.sort(key=lambda k: k[0], reverse=True)"
      ],
      "execution_count": 0,
      "outputs": []
    },
    {
      "cell_type": "markdown",
      "metadata": {
        "id": "XXKg9EAjsU7e",
        "colab_type": "text"
      },
      "source": [
        "## <img src=\"https://img.icons8.com/color/32/000000/5.png\"/> Select the $k$ eigenvectors"
      ]
    },
    {
      "cell_type": "markdown",
      "metadata": {
        "id": "aUjeLc2msj0G",
        "colab_type": "text"
      },
      "source": [
        "In the next section we select $k=2$, corresponding to the top two eigenvectors."
      ]
    },
    {
      "cell_type": "markdown",
      "metadata": {
        "id": "v54bmhTTWqxT",
        "colab_type": "text"
      },
      "source": [
        "## <img src=\"https://img.icons8.com/color/32/000000/6.png\"/> Construct project matrix $\\mathbf{W}$"
      ]
    },
    {
      "cell_type": "code",
      "metadata": {
        "id": "Uqr-mm0wWqxe",
        "colab_type": "code",
        "outputId": "ecc3dcbb-abc7-4820-c86b-35ef703a248a",
        "colab": {
          "base_uri": "https://localhost:8080/",
          "height": 255
        }
      },
      "source": [
        "# build W from top two eigenvectors\n",
        "w = np.hstack((eigen_pairs[0][1][:, np.newaxis],\n",
        "               eigen_pairs[1][1][:, np.newaxis]))\n",
        "print('Matrix W:\\n', w)"
      ],
      "execution_count": 0,
      "outputs": [
        {
          "output_type": "stream",
          "text": [
            "Matrix W:\n",
            " [[-0.1372  0.503 ]\n",
            " [ 0.2472  0.1649]\n",
            " [-0.0255  0.2446]\n",
            " [ 0.2069 -0.1135]\n",
            " [-0.1544  0.2897]\n",
            " [-0.3938  0.0508]\n",
            " [-0.4174 -0.0229]\n",
            " [ 0.3057  0.0905]\n",
            " [-0.3067  0.0084]\n",
            " [ 0.0755  0.5498]\n",
            " [-0.3261 -0.2072]\n",
            " [-0.3686 -0.249 ]\n",
            " [-0.2967  0.3802]]\n"
          ],
          "name": "stdout"
        }
      ]
    },
    {
      "cell_type": "markdown",
      "metadata": {
        "id": "ieRByKvYWqxl",
        "colab_type": "text"
      },
      "source": [
        "###### **Note**\n",
        "\n",
        "Depending on which version of NumPy and LAPACK you are using, you may obtain the Matrix W with its signs flipped. Please note that this is not an issue: If $v$ is an eigenvector of a matrix $\\Sigma$, we have\n",
        "\n",
        "$$\\Sigma v = \\lambda v,$$\n",
        "\n",
        "where $\\lambda$ is our eigenvalue,\n",
        "\n",
        "\n",
        "then $-v$ is also an eigenvector that has the same eigenvalue, since\n",
        "$$\\Sigma \\cdot (-v) = -\\Sigma v = -\\lambda v = \\lambda \\cdot (-v).$$"
      ]
    },
    {
      "cell_type": "markdown",
      "metadata": {
        "id": "eO-SffCWpRy_",
        "colab_type": "text"
      },
      "source": [
        "## <img src=\"https://img.icons8.com/color/32/000000/7.png\"/> Transform dataset $\\textbf{X}$ using $\\textbf{W}$"
      ]
    },
    {
      "cell_type": "markdown",
      "metadata": {
        "id": "DwtmpDh_qZs2",
        "colab_type": "text"
      },
      "source": [
        "Transform $\\textbf{X}$  onto the PCA subspace (two components) to obtain $\\texttt{X'}$\n",
        "\n",
        "$$ \\texttt{X'} = \\texttt{XW} $$"
      ]
    },
    {
      "cell_type": "code",
      "metadata": {
        "id": "sqWP1RTyWqxo",
        "colab_type": "code",
        "outputId": "b4e03887-dce5-46d6-8908-ef96d00772af",
        "colab": {
          "base_uri": "https://localhost:8080/",
          "height": 34
        }
      },
      "source": [
        "# transform one example with principle components 1 and 2\n",
        "X_train_std[0].dot(w)"
      ],
      "execution_count": 0,
      "outputs": [
        {
          "output_type": "execute_result",
          "data": {
            "text/plain": [
              "array([2.383 , 0.4546])"
            ]
          },
          "metadata": {
            "tags": []
          },
          "execution_count": 67
        }
      ]
    },
    {
      "cell_type": "code",
      "metadata": {
        "id": "ZUjFWxQMqaWq",
        "colab_type": "code",
        "colab": {}
      },
      "source": [
        "# transform entire dataset\n",
        "X_train_pca = X_train_std.dot(w)"
      ],
      "execution_count": 0,
      "outputs": []
    },
    {
      "cell_type": "code",
      "metadata": {
        "id": "vFQTyBL1Wqxv",
        "colab_type": "code",
        "outputId": "a5ec1f80-f1fd-423e-d6e3-78cbd9ca30b9",
        "colab": {
          "base_uri": "https://localhost:8080/",
          "height": 297
        }
      },
      "source": [
        "# visualize the dataset\n",
        "colors = ['r', 'b', 'g']\n",
        "markers = ['s', 'x', 'o']\n",
        "\n",
        "for l, c, m in zip(np.unique(y_train), colors, markers):\n",
        "    plt.scatter(X_train_pca[y_train == l, 0], \n",
        "                X_train_pca[y_train == l, 1], \n",
        "                c=c, label=l, marker=m)\n",
        "\n",
        "plt.xlabel('PC 1')\n",
        "plt.ylabel('PC 2')\n",
        "plt.legend(loc='lower left')\n",
        "plt.tight_layout()\n",
        "plt.show()"
      ],
      "execution_count": 0,
      "outputs": [
        {
          "output_type": "display_data",
          "data": {
            "image/png": "[encoded data removed]",
            "text/plain": [
              "<Figure size 432x288 with 1 Axes>"
            ]
          },
          "metadata": {
            "tags": [],
            "needs_background": "light"
          }
        }
      ]
    },
    {
      "cell_type": "markdown",
      "metadata": {
        "id": "FSDvBduEWqx9",
        "colab_type": "text"
      },
      "source": [
        "# <img src=\"https://img.icons8.com/color/32/000000/negative-dynamic.png\"/>  PCA implementation in `sklearn`"
      ]
    },
    {
      "cell_type": "markdown",
      "metadata": {
        "id": "r8lJDaDYWqx-",
        "colab_type": "text"
      },
      "source": [
        "## <img src=\"https://img.icons8.com/color/32/000000/replicate-rows.png\"/> Replicate results using `sklearn`"
      ]
    },
    {
      "cell_type": "code",
      "metadata": {
        "id": "ba_M6sXOWqyB",
        "colab_type": "code",
        "outputId": "001598c4-03d3-4b2e-df59-1c0528238403",
        "colab": {
          "base_uri": "https://localhost:8080/",
          "height": 51
        }
      },
      "source": [
        "# run PCA on our data\n",
        "pca = PCA()\n",
        "X_train_pca = pca.fit_transform(X_train_std)\n",
        "pca.explained_variance_ratio_"
      ],
      "execution_count": 0,
      "outputs": [
        {
          "output_type": "execute_result",
          "data": {
            "text/plain": [
              "array([0.3695, 0.1843, 0.1182, 0.0733, 0.0642, 0.0505, 0.0395, 0.0264,\n",
              "       0.0239, 0.0163, 0.0138, 0.0117, 0.0082])"
            ]
          },
          "metadata": {
            "tags": []
          },
          "execution_count": 70
        }
      ]
    },
    {
      "cell_type": "code",
      "metadata": {
        "id": "ueGlxXYlWqyI",
        "colab_type": "code",
        "outputId": "c555edc7-ccbe-44e0-f047-0809451c7d74",
        "colab": {
          "base_uri": "https://localhost:8080/",
          "height": 279
        }
      },
      "source": [
        "# plot variance (sorted)\n",
        "plt.bar(range(1, 14), pca.explained_variance_ratio_, alpha=0.5, align='center')\n",
        "plt.step(range(1, 14), np.cumsum(pca.explained_variance_ratio_), where='mid')\n",
        "plt.ylabel('Explained variance ratio')\n",
        "plt.xlabel('Principal components')\n",
        "\n",
        "plt.show()"
      ],
      "execution_count": 0,
      "outputs": [
        {
          "output_type": "display_data",
          "data": {
            "image/png": "[encoded data removed]",
            "text/plain": [
              "<Figure size 432x288 with 1 Axes>"
            ]
          },
          "metadata": {
            "tags": [],
            "needs_background": "light"
          }
        }
      ]
    },
    {
      "cell_type": "markdown",
      "metadata": {
        "id": "eOaBeYAeK272",
        "colab_type": "text"
      },
      "source": [
        "> We confirm the `sklearn` PCA components match those we calculated manually."
      ]
    },
    {
      "cell_type": "code",
      "metadata": {
        "id": "JvfxtZPnWqyO",
        "colab_type": "code",
        "colab": {}
      },
      "source": [
        "# fit with PCA\n",
        "pca = PCA(n_components=2)\n",
        "X_train_pca = pca.fit_transform(X_train_std)\n",
        "X_test_pca = pca.transform(X_test_std)"
      ],
      "execution_count": 0,
      "outputs": []
    },
    {
      "cell_type": "code",
      "metadata": {
        "id": "oeQJCxqfWqyS",
        "colab_type": "code",
        "outputId": "d1f8b924-a48c-42d9-e429-31da88012184",
        "colab": {
          "base_uri": "https://localhost:8080/",
          "height": 279
        }
      },
      "source": [
        "# plot component 1 vs component 2\n",
        "plt.scatter(X_train_pca[:, 0], X_train_pca[:, 1])\n",
        "plt.xlabel('PC 1')\n",
        "plt.ylabel('PC 2')\n",
        "plt.show()"
      ],
      "execution_count": 0,
      "outputs": [
        {
          "output_type": "display_data",
          "data": {
            "image/png": "[encoded data removed]",
            "text/plain": [
              "<Figure size 432x288 with 1 Axes>"
            ]
          },
          "metadata": {
            "tags": [],
            "needs_background": "light"
          }
        }
      ]
    },
    {
      "cell_type": "markdown",
      "metadata": {
        "id": "dtYw0xpVM3Bm",
        "colab_type": "text"
      },
      "source": [
        "> Observe that these two components alone capture a lot of the variance."
      ]
    },
    {
      "cell_type": "markdown",
      "metadata": {
        "id": "2JrAjj5oMgDT",
        "colab_type": "text"
      },
      "source": [
        "## <img src=\"https://img.icons8.com/color/32/000000/graph.png\"/>  Plot decision regions"
      ]
    },
    {
      "cell_type": "code",
      "metadata": {
        "id": "8jVnQ4LBWqyW",
        "colab_type": "code",
        "colab": {}
      },
      "source": [
        "def plot_decision_regions(X, y, classifier, resolution=0.02):\n",
        "\n",
        "    # setup marker generator and color map\n",
        "    markers = ('s', 'x', 'o', '^', 'v')\n",
        "    colors = ('red', 'blue', 'lightgreen', 'gray', 'cyan')\n",
        "    cmap = ListedColormap(colors[:len(np.unique(y))])\n",
        "\n",
        "    # plot the decision surface\n",
        "    x1_min, x1_max = X[:, 0].min() - 1, X[:, 0].max() + 1\n",
        "    x2_min, x2_max = X[:, 1].min() - 1, X[:, 1].max() + 1\n",
        "    xx1, xx2 = np.meshgrid(np.arange(x1_min, x1_max, resolution),\n",
        "                           np.arange(x2_min, x2_max, resolution))\n",
        "    Z = classifier.predict(np.array([xx1.ravel(), xx2.ravel()]).T)\n",
        "    Z = Z.reshape(xx1.shape)\n",
        "    plt.contourf(xx1, xx2, Z, alpha=0.4, cmap=cmap)\n",
        "    plt.xlim(xx1.min(), xx1.max())\n",
        "    plt.ylim(xx2.min(), xx2.max())\n",
        "\n",
        "    # plot examples by class\n",
        "    for idx, cl in enumerate(np.unique(y)):\n",
        "        plt.scatter(x=X[y == cl, 0], \n",
        "                    y=X[y == cl, 1],\n",
        "                    alpha=0.6, \n",
        "                    color=cmap(idx),\n",
        "                    edgecolor='black',\n",
        "                    marker=markers[idx], \n",
        "                    label=cl)"
      ],
      "execution_count": 0,
      "outputs": []
    },
    {
      "cell_type": "markdown",
      "metadata": {
        "id": "SPqprPsSM_S7",
        "colab_type": "text"
      },
      "source": [
        "## <img src=\"https://img.icons8.com/color/32/000000/test-tube.png\"/> PCA in `sklearn`"
      ]
    },
    {
      "cell_type": "markdown",
      "metadata": {
        "id": "0PoMlF-JWqyc",
        "colab_type": "text"
      },
      "source": [
        "Training logistic regression classifier using the first 2 principal components."
      ]
    },
    {
      "cell_type": "code",
      "metadata": {
        "id": "IZWaCXVIWqyd",
        "colab_type": "code",
        "colab": {}
      },
      "source": [
        "# perform PCA\n",
        "pca = PCA(n_components=2)\n",
        "X_train_pca = pca.fit_transform(X_train_std)\n",
        "X_test_pca = pca.transform(X_test_std)"
      ],
      "execution_count": 0,
      "outputs": []
    },
    {
      "cell_type": "code",
      "metadata": {
        "id": "i0r0asu2NHXJ",
        "colab_type": "code",
        "colab": {}
      },
      "source": [
        "# train a logistic regressor\n",
        "lr = LogisticRegression(multi_class='ovr', random_state=1, solver='lbfgs')\n",
        "lr = lr.fit(X_train_pca, y_train)"
      ],
      "execution_count": 0,
      "outputs": []
    },
    {
      "cell_type": "markdown",
      "metadata": {
        "id": "SEWYPLRyNTp4",
        "colab_type": "text"
      },
      "source": [
        "##### Train set"
      ]
    },
    {
      "cell_type": "code",
      "metadata": {
        "id": "yyjUTMGeWqyi",
        "colab_type": "code",
        "outputId": "191460e6-4d43-4ecc-f9c9-03e809929ac3",
        "colab": {
          "base_uri": "https://localhost:8080/",
          "height": 297
        }
      },
      "source": [
        "# plot decision regions (train)\n",
        "plot_decision_regions(X_train_pca, y_train, classifier=lr)\n",
        "plt.xlabel('PC 1')\n",
        "plt.ylabel('PC 2')\n",
        "plt.legend(loc='lower left')\n",
        "plt.tight_layout()\n",
        "plt.show()"
      ],
      "execution_count": 0,
      "outputs": [
        {
          "output_type": "display_data",
          "data": {
            "image/png": "[encoded data removed]",
            "text/plain": [
              "<Figure size 432x288 with 1 Axes>"
            ]
          },
          "metadata": {
            "tags": [],
            "needs_background": "light"
          }
        }
      ]
    },
    {
      "cell_type": "markdown",
      "metadata": {
        "id": "SjmsJ7PHNWND",
        "colab_type": "text"
      },
      "source": [
        "##### Test set"
      ]
    },
    {
      "cell_type": "code",
      "metadata": {
        "id": "arMkBsrDWqyn",
        "colab_type": "code",
        "outputId": "5b7782b8-454f-43b5-bb69-f319fa08eb07",
        "colab": {
          "base_uri": "https://localhost:8080/",
          "height": 297
        }
      },
      "source": [
        "# plot decision regions (test)\n",
        "plot_decision_regions(X_test_pca, y_test, classifier=lr)\n",
        "plt.xlabel('PC 1')\n",
        "plt.ylabel('PC 2')\n",
        "plt.legend(loc='lower left')\n",
        "plt.tight_layout()\n",
        "plt.show()"
      ],
      "execution_count": 0,
      "outputs": [
        {
          "output_type": "display_data",
          "data": {
            "image/png": "[encoded data removed]",
            "text/plain": [
              "<Figure size 432x288 with 1 Axes>"
            ]
          },
          "metadata": {
            "tags": [],
            "needs_background": "light"
          }
        }
      ]
    },
    {
      "cell_type": "markdown",
      "metadata": {
        "id": "lQWfPOUeNnZP",
        "colab_type": "text"
      },
      "source": [
        "### <img src=\"https://img.icons8.com/color/32/000000/training.png\"/> Explained variance"
      ]
    },
    {
      "cell_type": "markdown",
      "metadata": {
        "id": "iBBFcL2TNpVy",
        "colab_type": "text"
      },
      "source": [
        "We can find the explained variance for all components with `n_components=None`. Then we can query the explained variance for each.  This might better inform our cut-off point."
      ]
    },
    {
      "cell_type": "code",
      "metadata": {
        "id": "CS51zf9EWqyt",
        "colab_type": "code",
        "outputId": "1669a333-ba41-4f9d-f913-f9623014e967",
        "colab": {
          "base_uri": "https://localhost:8080/",
          "height": 51
        }
      },
      "source": [
        "# find explained variance\n",
        "pca = PCA(n_components=None)\n",
        "X_train_pca = pca.fit_transform(X_train_std)\n",
        "pca.explained_variance_ratio_"
      ],
      "execution_count": 0,
      "outputs": [
        {
          "output_type": "execute_result",
          "data": {
            "text/plain": [
              "array([0.3695, 0.1843, 0.1182, 0.0733, 0.0642, 0.0505, 0.0395, 0.0264,\n",
              "       0.0239, 0.0163, 0.0138, 0.0117, 0.0082])"
            ]
          },
          "metadata": {
            "tags": []
          },
          "execution_count": 80
        }
      ]
    },
    {
      "cell_type": "markdown",
      "metadata": {
        "id": "Nuj6gSrVWqy4",
        "colab_type": "text"
      },
      "source": [
        "# <img src=\"https://img.icons8.com/color/32/000000/l.png\"/> <img src=\"https://img.icons8.com/color/32/000000/d.png\"/> <img src=\"https://img.icons8.com/color/32/000000/a.png\"/> Linear discriminant analysis (LDA)"
      ]
    },
    {
      "cell_type": "code",
      "metadata": {
        "id": "FWRMAmsrfWcs",
        "colab_type": "code",
        "outputId": "72503c91-deca-4336-ffa0-325af4b14723",
        "colab": {
          "base_uri": "https://localhost:8080/",
          "height": 321
        }
      },
      "source": [
        "from IPython.display import YouTubeVideo\n",
        "YouTubeVideo('azXCzI57Yfc')"
      ],
      "execution_count": 0,
      "outputs": [
        {
          "output_type": "execute_result",
          "data": {
            "text/html": [
              "\n",
              "        <iframe\n",
              "            width=\"400\"\n",
              "            height=\"300\"\n",
              "            src=\"https://www.youtube.com/embed/azXCzI57Yfc\"\n",
              "            frameborder=\"0\"\n",
              "            allowfullscreen\n",
              "        ></iframe>\n",
              "        "
            ],
            "text/plain": [
              "<IPython.lib.display.YouTubeVideo at 0x7f549773b860>"
            ],
            "image/jpeg": "[encoded data removed]"
          },
          "metadata": {
            "tags": []
          },
          "execution_count": 109
        }
      ]
    },
    {
      "cell_type": "markdown",
      "metadata": {
        "id": "NgNZ99VGWqy9",
        "colab_type": "text"
      },
      "source": [
        "##  <img src=\"https://img.icons8.com/color/32/000000/wrestling.png\"/> PCA vs LDA"
      ]
    },
    {
      "cell_type": "markdown",
      "metadata": {
        "id": "oa-l7mvae4yE",
        "colab_type": "text"
      },
      "source": [
        "PCA and LDA are both linear transformation techniques that can be used to reduce the number of dimensions in a dataset. \n",
        "\n",
        "* PCA is unsupervised\n",
        "* LDA is supervised\n",
        "\n",
        "LDA assumes:\n",
        "*  data is normally distributed\n",
        "*  classes have identical covariance matrices\n",
        "* training examples are statistically independent of each other"
      ]
    },
    {
      "cell_type": "markdown",
      "metadata": {
        "id": "eUFJ1rlkfGvp",
        "colab_type": "text"
      },
      "source": [
        "## Overview of LDA"
      ]
    },
    {
      "cell_type": "markdown",
      "metadata": {
        "id": "Y9NPVNXErmib",
        "colab_type": "text"
      },
      "source": [
        "![alt text](https://github.com/rasbt/python-machine-learning-book-3rd-edition/blob/master/ch05/images/05_06.png?raw=true)"
      ]
    },
    {
      "cell_type": "markdown",
      "metadata": {
        "id": "X_kTxgnVf6G7",
        "colab_type": "text"
      },
      "source": [
        "> $LD1$ would seperate the two normally distributed classes well.\n",
        ">\n",
        "> $LD2$ captues a lot of the variance in the dataset, but would fail as a good linear discriminant since it does not capture any of the class-discrimination. "
      ]
    },
    {
      "cell_type": "markdown",
      "metadata": {
        "id": "CYv2oBR-yqdf",
        "colab_type": "text"
      },
      "source": [
        "# LDA walkthrough"
      ]
    },
    {
      "cell_type": "markdown",
      "metadata": {
        "id": "hS9JffR3hIiu",
        "colab_type": "text"
      },
      "source": [
        "## <img src=\"https://img.icons8.com/color/32/000000/todo-list.png\"/> Steps of LDA"
      ]
    },
    {
      "cell_type": "markdown",
      "metadata": {
        "id": "hnhWeoxghM-b",
        "colab_type": "text"
      },
      "source": [
        "<img src=\"https://img.icons8.com/color/24/000000/1.png\"/> Standardize the $d$-dimensional dataset ($d$ is the number of features).\n",
        "\n",
        "<img src=\"https://img.icons8.com/color/24/000000/2.png\"/> For each class, compute the $d$-dimensional mean vector.\n",
        "\n",
        "<img src=\"https://img.icons8.com/color/24/000000/3.png\"/> Construct the between-class scatter matrix, $S_B$, and the within-class scatter matrix, $S_W$.\n",
        "\n",
        "<img src=\"https://img.icons8.com/color/24/000000/4.png\"/> Compute the eigenvectors and corresponding eigenvalues of the matrix $S_W^{-1} S_B$.\n",
        "\n",
        "<img src=\"https://img.icons8.com/color/24/000000/5.png\"/> Sort the eigenvalues by descreasing order to rank the corresponding eigenvectors. \n",
        "\n",
        "<img src=\"https://img.icons8.com/color/24/000000/6.png\"/> Choose the $k$ eigenvectors that correspond to the $k$ largest eigenvalues to construct a $d \\times k$-dimensional transformation matrix, $\\mathbf{W}$; the eigenvectors are the columns of this matrix. \n",
        "\n",
        "<img src=\"https://img.icons8.com/color/24/000000/7.png\"/> Project the examples onto the new feature subspace using the transformation matrix $\\textbf{W}$."
      ]
    },
    {
      "cell_type": "markdown",
      "metadata": {
        "id": "dJlo1S97WqzJ",
        "colab_type": "text"
      },
      "source": [
        "## <img src=\"https://img.icons8.com/color/24/000000/1.png\"/> Standardize the $d$-dimensional dataset\n"
      ]
    },
    {
      "cell_type": "markdown",
      "metadata": {
        "id": "9b7hxHTbt5wW",
        "colab_type": "text"
      },
      "source": [
        "> We've already done this and can re-use our `X_train_std`."
      ]
    },
    {
      "cell_type": "markdown",
      "metadata": {
        "id": "0g-PQXcntvH-",
        "colab_type": "text"
      },
      "source": [
        "## <img src=\"https://img.icons8.com/color/24/000000/2.png\"/> Compute the $d$-dimensional mean vector"
      ]
    },
    {
      "cell_type": "markdown",
      "metadata": {
        "id": "QaOJJAb-WqzP",
        "colab_type": "text"
      },
      "source": [
        "Calculate the mean vectors for each class:"
      ]
    },
    {
      "cell_type": "markdown",
      "metadata": {
        "id": "SCEHaknDtdOa",
        "colab_type": "text"
      },
      "source": [
        "$$m_i = { 1 \\over n_i} \\sum_{\\textbf{x} \\in D_i} \\textbf{x}_m$$"
      ]
    },
    {
      "cell_type": "markdown",
      "metadata": {
        "id": "axEgNYr0w2eH",
        "colab_type": "text"
      },
      "source": [
        "This results in three mean vectors:"
      ]
    },
    {
      "cell_type": "markdown",
      "metadata": {
        "id": "FJGGxat_tqwz",
        "colab_type": "text"
      },
      "source": [
        "$$ \\textbf{m_i} = \\begin{bmatrix}\n",
        "\\mu_i, \\text{alchohol} \\\\\n",
        "\\mu_i, \\text{malic acid} \\\\\n",
        "\\vdots \\\\\n",
        "\\mu_i, \\text{proline} \\\\\n",
        "\\end{bmatrix}^T \\ \\ i \\in \\{1, 2, 3 \\} $$"
      ]
    },
    {
      "cell_type": "code",
      "metadata": {
        "id": "L0Ya6jE4WqzR",
        "colab_type": "code",
        "outputId": "be364a8d-6bb4-4136-8949-fabccbb01e45",
        "colab": {
          "base_uri": "https://localhost:8080/",
          "height": 170
        }
      },
      "source": [
        "# find mean vectors\n",
        "np.set_printoptions(precision=4)\n",
        "\n",
        "mean_vecs = []\n",
        "for label in range(0, 3):\n",
        "    mean_vecs.append(np.mean(X_train_std[y_train == label], axis=0))\n",
        "    print('MV %s: %s\\n' % (label, mean_vecs[label - 1]))"
      ],
      "execution_count": 0,
      "outputs": [
        {
          "output_type": "stream",
          "text": [
            "MV 0: [ 0.9066 -0.3497  0.3201 -0.7189  0.5056  0.8807  0.9589 -0.5516  0.5416\n",
            "  0.2338  0.5897  0.6563  1.2075]\n",
            "\n",
            "MV 1: [ 0.9066 -0.3497  0.3201 -0.7189  0.5056  0.8807  0.9589 -0.5516  0.5416\n",
            "  0.2338  0.5897  0.6563  1.2075]\n",
            "\n",
            "MV 2: [-0.8749 -0.2848 -0.3735  0.3157 -0.3848 -0.0433  0.0635 -0.0946  0.0703\n",
            " -0.8286  0.3144  0.3608 -0.7253]\n",
            "\n"
          ],
          "name": "stdout"
        }
      ]
    },
    {
      "cell_type": "markdown",
      "metadata": {
        "id": "IAfiB47CWqzW",
        "colab_type": "text"
      },
      "source": [
        "## <img src=\"https://img.icons8.com/color/24/000000/3.png\"/> Construct the between-class scatter matrix $S_B$\n"
      ]
    },
    {
      "cell_type": "markdown",
      "metadata": {
        "id": "eS-Tr-PkznEI",
        "colab_type": "text"
      },
      "source": [
        "Compute the within-class scatter matrix $S_W$:\n",
        "\n",
        "$$\\textbf{S}_W = \\sum_{i=1}^c \\textbf{S}_i $$"
      ]
    },
    {
      "cell_type": "markdown",
      "metadata": {
        "id": "vMczJBrkz3Sr",
        "colab_type": "text"
      },
      "source": [
        "This is calculated by summing up the individual scatter matrices, $\\textbf{S}_i$, of each individual class $i$:\n",
        "\n",
        "$$\\textbf{S}_i = \\sum_{\\textbf{x} \\in D_i} (\\textbf{x} - \\textbf{m}_i) (\\textbf{x} - \\textbf{m}_i)^T$$\n"
      ]
    },
    {
      "cell_type": "code",
      "metadata": {
        "id": "eiUwePmtWqzY",
        "colab_type": "code",
        "outputId": "6694c069-e685-4676-fc69-1fac00c296fc",
        "colab": {
          "base_uri": "https://localhost:8080/",
          "height": 34
        }
      },
      "source": [
        "# within-class scatter matrix Sw\n",
        "d = 13 # number of features\n",
        "S_W = np.zeros((d, d))\n",
        "for label, mv in zip(range(0, 3), mean_vecs):\n",
        "    class_scatter = np.zeros((d, d))  # scatter matrix for each class\n",
        "    for row in X_train_std[y_train == label]:\n",
        "        row, mv = row.reshape(d, 1), mv.reshape(d, 1)  # make column vectors\n",
        "        class_scatter += (row - mv).dot((row - mv).T)\n",
        "    S_W += class_scatter                          # sum class scatter matrices\n",
        "\n",
        "print('Within-class scatter matrix: %sx%s' % (S_W.shape[0], S_W.shape[1]))"
      ],
      "execution_count": 0,
      "outputs": [
        {
          "output_type": "stream",
          "text": [
            "Within-class scatter matrix: 13x13\n"
          ],
          "name": "stdout"
        }
      ]
    },
    {
      "cell_type": "code",
      "metadata": {
        "id": "wer0qCRPWqzg",
        "colab_type": "code",
        "outputId": "7cb114a4-b4f2-4581-e852-ae3a0d69878e",
        "colab": {
          "base_uri": "https://localhost:8080/",
          "height": 34
        }
      },
      "source": [
        "print('Class label distribution: %s' \n",
        "      % np.bincount(y_train)[0:])"
      ],
      "execution_count": 0,
      "outputs": [
        {
          "output_type": "stream",
          "text": [
            "Class label distribution: [41 50 33]\n"
          ],
          "name": "stdout"
        }
      ]
    },
    {
      "cell_type": "markdown",
      "metadata": {
        "id": "YSBJpFolWqzf",
        "colab_type": "text"
      },
      "source": [
        "Better if the covariance matrix have classes equally distributed."
      ]
    },
    {
      "cell_type": "markdown",
      "metadata": {
        "id": "gQ41L0nN6a7g",
        "colab_type": "text"
      },
      "source": [
        "$$ \\Sigma_i = {1 \\over n_i} \\textbf{S}_i =  {1 \\over n_i} \\sum_{\\textbf{x} \\in D_i} (\\textbf{x} - \\textbf{m}_i) (\\textbf{x} - \\textbf{m}_i)^T$$"
      ]
    },
    {
      "cell_type": "code",
      "metadata": {
        "id": "xoAVmZz0Wqzm",
        "colab_type": "code",
        "outputId": "6cbd2083-da70-41f7-daf5-1b214e6ac98c",
        "colab": {
          "base_uri": "https://localhost:8080/",
          "height": 34
        }
      },
      "source": [
        "# within-class scatter matrix Sw\n",
        "d = 13  # number of features\n",
        "S_W = np.zeros((d, d))\n",
        "for label, mv in zip(range(0, 3), mean_vecs):\n",
        "    class_scatter = np.cov(X_train_std[y_train == label].T)\n",
        "    S_W += class_scatter\n",
        "print('Scaled within-class scatter matrix: %sx%s' % (S_W.shape[0],\n",
        "                                                     S_W.shape[1]))"
      ],
      "execution_count": 0,
      "outputs": [
        {
          "output_type": "stream",
          "text": [
            "Scaled within-class scatter matrix: 13x13\n"
          ],
          "name": "stdout"
        }
      ]
    },
    {
      "cell_type": "markdown",
      "metadata": {
        "id": "qFcjS6PfWqzv",
        "colab_type": "text"
      },
      "source": [
        "## <img src=\"https://img.icons8.com/color/24/000000/3.png\"/> Compute the within-class scatter matrix $S_W$\n"
      ]
    },
    {
      "cell_type": "markdown",
      "metadata": {
        "id": "uWWN99jo7Vmh",
        "colab_type": "text"
      },
      "source": [
        "$$\\textbf{S}_B = \\sum_{i=1}^c n_i (\\textbf{m}_i - \\textbf{m}) (\\textbf{m}_i - \\textbf{m})^T$$\n",
        "\n",
        "where $\\textbf{m}$ is the overall mean that is computed, including examples from all $\\textbf{c}$ classes."
      ]
    },
    {
      "cell_type": "code",
      "metadata": {
        "id": "TGJSTN59Wqzw",
        "colab_type": "code",
        "outputId": "81c26678-e1ef-42f0-e403-3e2e78d00a68",
        "colab": {
          "base_uri": "https://localhost:8080/",
          "height": 34
        }
      },
      "source": [
        "# between class scatter matrix Sb\n",
        "mean_overall = np.mean(X_train_std, axis=0)\n",
        "d = 13  # number of features\n",
        "S_B = np.zeros((d, d))\n",
        "for i, mean_vec in enumerate(mean_vecs):\n",
        "    n = X_train_std[y_train == i + 1, :].shape[0]\n",
        "    mean_vec = mean_vec.reshape(d, 1)  # make column vector\n",
        "    mean_overall = mean_overall.reshape(d, 1)  # make column vector\n",
        "    S_B += n * (mean_vec - mean_overall).dot((mean_vec - mean_overall).T)\n",
        "\n",
        "print('Between-class scatter matrix: %sx%s' % (S_B.shape[0], S_B.shape[1]))"
      ],
      "execution_count": 0,
      "outputs": [
        {
          "output_type": "stream",
          "text": [
            "Between-class scatter matrix: 13x13\n"
          ],
          "name": "stdout"
        }
      ]
    },
    {
      "cell_type": "markdown",
      "metadata": {
        "id": "9H_92jgk15BU",
        "colab_type": "text"
      },
      "source": [
        "## <img src=\"https://img.icons8.com/color/24/000000/4.png\"/> Selecting linear discriminants for the new feature subspace"
      ]
    },
    {
      "cell_type": "markdown",
      "metadata": {
        "id": "sagIJMAhWqz7",
        "colab_type": "text"
      },
      "source": [
        "Solve the generalized eigenvalue problem for the matrix $S_W^{-1}S_B$:"
      ]
    },
    {
      "cell_type": "code",
      "metadata": {
        "id": "cUDQSOGjWqz-",
        "colab_type": "code",
        "colab": {}
      },
      "source": [
        "eigen_vals, eigen_vecs = np.linalg.eig(np.linalg.inv(S_W).dot(S_B))"
      ],
      "execution_count": 0,
      "outputs": []
    },
    {
      "cell_type": "markdown",
      "metadata": {
        "id": "tMtmWyTUWq0F",
        "colab_type": "text"
      },
      "source": [
        "###### **Note**:\n",
        "    \n",
        "Above, I used the [`numpy.linalg.eig`](http://docs.scipy.org/doc/numpy/reference/generated/numpy.linalg.eig.html) function to decompose the symmetric covariance matrix into its eigenvalues and eigenvectors.\n",
        "    <pre>>>> eigen_vals, eigen_vecs = np.linalg.eig(cov_mat)</pre>\n",
        "    This is not really a \"mistake,\" but probably suboptimal. It would be better to use [`numpy.linalg.eigh`](http://docs.scipy.org/doc/numpy/reference/generated/numpy.linalg.eigh.html) in such cases, which has been designed for [Hermetian matrices](https://en.wikipedia.org/wiki/Hermitian_matrix). The latter always returns real  eigenvalues; whereas the numerically less stable `np.linalg.eig` can decompose nonsymmetric square matrices, you may find that it returns complex eigenvalues in certain cases. (S.R.)\n"
      ]
    },
    {
      "cell_type": "markdown",
      "metadata": {
        "id": "1yRDhUB1DVMq",
        "colab_type": "text"
      },
      "source": [
        "## <img src=\"https://img.icons8.com/color/24/000000/5.png\"/> Sort the eigenvalues"
      ]
    },
    {
      "cell_type": "markdown",
      "metadata": {
        "id": "yBRHOahSWq0K",
        "colab_type": "text"
      },
      "source": [
        "Sort eigenvectors in descending order of the eigenvalues:"
      ]
    },
    {
      "cell_type": "code",
      "metadata": {
        "id": "apHvZuenWq0M",
        "colab_type": "code",
        "outputId": "6d313523-7f61-471b-d0a0-f87e1f52f7a9",
        "colab": {
          "base_uri": "https://localhost:8080/",
          "height": 272
        }
      },
      "source": [
        "# Make a list of (eigenvalue, eigenvector) tuples\n",
        "eigen_pairs = [(np.abs(eigen_vals[i]), eigen_vecs[:, i])\n",
        "               for i in range(len(eigen_vals))]\n",
        "\n",
        "# Sort the (eigenvalue, eigenvector) tuples from high to low\n",
        "eigen_pairs = sorted(eigen_pairs, key=lambda k: k[0], reverse=True)\n",
        "\n",
        "# Visually confirm that the list is correctly sorted by decreasing eigenvalues\n",
        "\n",
        "print('Eigenvalues in descending order:\\n')\n",
        "for eigen_val in eigen_pairs:\n",
        "    print(eigen_val[0])"
      ],
      "execution_count": 0,
      "outputs": [
        {
          "output_type": "stream",
          "text": [
            "Eigenvalues in descending order:\n",
            "\n",
            "256.3905771009662\n",
            "50.46158023859697\n",
            "3.65194739620233e-14\n",
            "1.9458393230031845e-14\n",
            "1.8999804624172533e-14\n",
            "1.4477335362753388e-14\n",
            "1.4477335362753388e-14\n",
            "1.3153778627724506e-14\n",
            "9.983164104037622e-15\n",
            "3.5312192594526283e-15\n",
            "2.4664303918375675e-15\n",
            "2.4664303918375675e-15\n",
            "3.13490948683898e-16\n"
          ],
          "name": "stdout"
        }
      ]
    },
    {
      "cell_type": "markdown",
      "metadata": {
        "id": "59mgAH-9C24-",
        "colab_type": "text"
      },
      "source": [
        "## <img src=\"https://img.icons8.com/color/24/000000/6.png\"/> Choose the $k$ eigenvectors that correspond to the $k$ largest eigenvalues"
      ]
    },
    {
      "cell_type": "code",
      "metadata": {
        "id": "cd42nLh3Wq0S",
        "colab_type": "code",
        "outputId": "4ceec1c0-aef2-4200-de00-73ed88f6df9a",
        "colab": {
          "base_uri": "https://localhost:8080/",
          "height": 297
        }
      },
      "source": [
        "# plot the linear discriminants\n",
        "tot = sum(eigen_vals.real)\n",
        "discr = [(i / tot) for i in sorted(eigen_vals.real, reverse=True)]\n",
        "cum_discr = np.cumsum(discr)\n",
        "\n",
        "plt.bar(range(1, 14), discr, alpha=0.5, align='center',\n",
        "        label='Individual \"discriminability\"')\n",
        "plt.step(range(1, 14), cum_discr, where='mid',\n",
        "         label='Cumulative \"discriminability\"')\n",
        "plt.ylabel('\"Discriminability\" ratio')\n",
        "plt.xlabel('Linear discriminants')\n",
        "plt.ylim([-0.1, 1.1])\n",
        "plt.legend(loc='best')\n",
        "plt.tight_layout()\n",
        "plt.show()"
      ],
      "execution_count": 0,
      "outputs": [
        {
          "output_type": "display_data",
          "data": {
            "image/png": "[encoded data removed]",
            "text/plain": [
              "<Figure size 432x288 with 1 Axes>"
            ]
          },
          "metadata": {
            "tags": [],
            "needs_background": "light"
          }
        }
      ]
    },
    {
      "cell_type": "code",
      "metadata": {
        "id": "zRxlvc7zWq0Z",
        "colab_type": "code",
        "outputId": "dc8ecae1-bb49-4996-f537-f7da2bbd9e53",
        "colab": {
          "base_uri": "https://localhost:8080/",
          "height": 255
        }
      },
      "source": [
        "# create transformation matrix W\n",
        "w = np.hstack((eigen_pairs[0][1][:, np.newaxis].real,\n",
        "              eigen_pairs[1][1][:, np.newaxis].real))\n",
        "print('Matrix W:\\n', w)"
      ],
      "execution_count": 0,
      "outputs": [
        {
          "output_type": "stream",
          "text": [
            "Matrix W:\n",
            " [[-0.3071  0.2186]\n",
            " [ 0.0098  0.1856]\n",
            " [-0.1691  0.2652]\n",
            " [ 0.2694 -0.1504]\n",
            " [-0.0499  0.0527]\n",
            " [ 0.2026  0.0653]\n",
            " [-0.5126 -0.724 ]\n",
            " [-0.0695 -0.0435]\n",
            " [ 0.0412 -0.0697]\n",
            " [ 0.1608  0.37  ]\n",
            " [ 0.0915 -0.2374]\n",
            " [-0.3128 -0.2334]\n",
            " [-0.5996  0.1977]]\n"
          ],
          "name": "stdout"
        }
      ]
    },
    {
      "cell_type": "markdown",
      "metadata": {
        "id": "JlvJJ0htWq0i",
        "colab_type": "text"
      },
      "source": [
        "<br>\n",
        "<br>"
      ]
    },
    {
      "cell_type": "markdown",
      "metadata": {
        "id": "AzUolRu2CFjC",
        "colab_type": "text"
      },
      "source": [
        "## <img src=\"https://img.icons8.com/color/24/000000/7.png\"/> Projecting examples onto the new feature space"
      ]
    },
    {
      "cell_type": "markdown",
      "metadata": {
        "id": "n-TM2Vvsr63a",
        "colab_type": "text"
      },
      "source": [
        "Transform the training dataset by multiplying the matrices:\n",
        "\n",
        "$$\\mathbf{X'} = \\mathbf{X W}$$"
      ]
    },
    {
      "cell_type": "code",
      "metadata": {
        "id": "_3W-aCI2Wq0l",
        "colab_type": "code",
        "outputId": "d8a7aa72-af4e-4649-a530-f1c7c69895fa",
        "colab": {
          "base_uri": "https://localhost:8080/",
          "height": 297
        }
      },
      "source": [
        "# project the examples\n",
        "X_train_lda = X_train_std.dot(w)\n",
        "colors = ['r', 'b', 'g']\n",
        "markers = ['s', 'x', 'o']\n",
        "\n",
        "for l, c, m in zip(np.unique(y_train), colors, markers):\n",
        "    plt.scatter(X_train_lda[y_train == l, 0],\n",
        "                X_train_lda[y_train == l, 1] * (-1),\n",
        "                c=c, label=l, marker=m)\n",
        "\n",
        "plt.xlabel('LD 1')\n",
        "plt.ylabel('LD 2')\n",
        "plt.legend(loc='lower right')\n",
        "plt.tight_layout()\n",
        "plt.show()"
      ],
      "execution_count": 0,
      "outputs": [
        {
          "output_type": "display_data",
          "data": {
            "image/png": "[encoded data removed]",
            "text/plain": [
              "<Figure size 432x288 with 1 Axes>"
            ]
          },
          "metadata": {
            "tags": [],
            "needs_background": "light"
          }
        }
      ]
    },
    {
      "cell_type": "markdown",
      "metadata": {
        "id": "feBdEZdaWq0r",
        "colab_type": "text"
      },
      "source": [
        "<br>\n",
        "<br>"
      ]
    },
    {
      "cell_type": "markdown",
      "metadata": {
        "id": "r1BbarHUWq0u",
        "colab_type": "text"
      },
      "source": [
        "## <img src=\"https://img.icons8.com/color/32/000000/test-tube.png\"/>  LDA via `scikit-learn`"
      ]
    },
    {
      "cell_type": "code",
      "metadata": {
        "id": "O5JxJcMDWq0w",
        "colab_type": "code",
        "colab": {}
      },
      "source": [
        "# train LDA\n",
        "lda = LDA(n_components=2)\n",
        "X_train_lda = lda.fit_transform(X_train_std, y_train)"
      ],
      "execution_count": 0,
      "outputs": []
    },
    {
      "cell_type": "code",
      "metadata": {
        "id": "xYmyAgOtWq00",
        "colab_type": "code",
        "outputId": "e61668c1-90a7-4135-8562-d46ffa9e7b68",
        "colab": {
          "base_uri": "https://localhost:8080/",
          "height": 297
        }
      },
      "source": [
        "# plot train lda\n",
        "lr = LogisticRegression(multi_class='ovr', random_state=1, solver='lbfgs')\n",
        "lr = lr.fit(X_train_lda, y_train)\n",
        "\n",
        "plot_decision_regions(X_train_lda, y_train, classifier=lr)\n",
        "plt.xlabel('LD 1')\n",
        "plt.ylabel('LD 2')\n",
        "plt.legend(loc='lower left')\n",
        "plt.tight_layout()\n",
        "plt.show()"
      ],
      "execution_count": 0,
      "outputs": [
        {
          "output_type": "display_data",
          "data": {
            "image/png": "[encoded data removed]",
            "text/plain": [
              "<Figure size 432x288 with 1 Axes>"
            ]
          },
          "metadata": {
            "tags": [],
            "needs_background": "light"
          }
        }
      ]
    },
    {
      "cell_type": "code",
      "metadata": {
        "id": "NaBqKuFvWq07",
        "colab_type": "code",
        "outputId": "83630d7e-df3f-4a04-fab4-5d555630096e",
        "colab": {
          "base_uri": "https://localhost:8080/",
          "height": 297
        }
      },
      "source": [
        "# plot test lda\n",
        "X_test_lda = lda.transform(X_test_std)\n",
        "\n",
        "plot_decision_regions(X_test_lda, y_test, classifier=lr)\n",
        "plt.xlabel('LD 1')\n",
        "plt.ylabel('LD 2')\n",
        "plt.legend(loc='lower left')\n",
        "plt.tight_layout()\n",
        "plt.show()"
      ],
      "execution_count": 0,
      "outputs": [
        {
          "output_type": "display_data",
          "data": {
            "image/png": "[encoded data removed]",
            "text/plain": [
              "<Figure size 432x288 with 1 Axes>"
            ]
          },
          "metadata": {
            "tags": [],
            "needs_background": "light"
          }
        }
      ]
    },
    {
      "cell_type": "markdown",
      "metadata": {
        "id": "alE-U9KxWq1D",
        "colab_type": "text"
      },
      "source": [
        "# <img src=\"https://img.icons8.com/color/32/000000/float.png\"/> Nonlinear mappings"
      ]
    },
    {
      "cell_type": "markdown",
      "metadata": {
        "id": "BVa86FjD2Koq",
        "colab_type": "text"
      },
      "source": [
        "![alt text](https://github.com/rasbt/python-machine-learning-book-3rd-edition/blob/master/ch05/images/05_11.png?raw=true)"
      ]
    },
    {
      "cell_type": "markdown",
      "metadata": {
        "id": "WYjvtVD1Wq1L",
        "colab_type": "text"
      },
      "source": [
        "<br>\n",
        "<br>"
      ]
    },
    {
      "cell_type": "markdown",
      "metadata": {
        "id": "0tZVDorfWq1M",
        "colab_type": "text"
      },
      "source": [
        "## <img src=\"https://img.icons8.com/color/32/000000/corn.png\"/> Implementing kernel-PCA"
      ]
    },
    {
      "cell_type": "markdown",
      "metadata": {
        "id": "i5Aj2EC_wpva",
        "colab_type": "text"
      },
      "source": [
        "Recall the kernel trick from Lecture 08 - Support Vector Machines.  We use this to tackle non-linear problems by projecting them onto a new feature space of higher dimensionality where the classes become linear separable.\n",
        "\n",
        "$$ \\phi = {\\rm I\\!R}^d \\rightarrow {\\rm I\\!R}^k  \\ \\ \\ (k >> d)$$"
      ]
    },
    {
      "cell_type": "code",
      "metadata": {
        "id": "eEeILCekWq1O",
        "colab_type": "code",
        "colab": {}
      },
      "source": [
        "# pca with rbf kernel\n",
        "def rbf_kernel_pca(X, gamma, n_components):\n",
        "    \"\"\"\n",
        "    RBF kernel PCA implementation.\n",
        "\n",
        "    Parameters\n",
        "    ------------\n",
        "    X: {NumPy ndarray}, shape = [n_examples, n_features]\n",
        "        \n",
        "    gamma: float\n",
        "      Tuning parameter of the RBF kernel\n",
        "        \n",
        "    n_components: int\n",
        "      Number of principal components to return\n",
        "\n",
        "    Returns\n",
        "    ------------\n",
        "     X_pc: {NumPy ndarray}, shape = [n_examples, k_features]\n",
        "       Projected dataset   \n",
        "\n",
        "    \"\"\"\n",
        "    # Calculate pairwise squared Euclidean distances\n",
        "    # in the MxN dimensional dataset.\n",
        "    sq_dists = pdist(X, 'sqeuclidean')\n",
        "\n",
        "    # Convert pairwise distances into a square matrix.\n",
        "    mat_sq_dists = squareform(sq_dists)\n",
        "\n",
        "    # Compute the symmetric kernel matrix.\n",
        "    K = exp(-gamma * mat_sq_dists)\n",
        "\n",
        "    # Center the kernel matrix.\n",
        "    N = K.shape[0]\n",
        "    one_n = np.ones((N, N)) / N\n",
        "    K = K - one_n.dot(K) - K.dot(one_n) + one_n.dot(K).dot(one_n)\n",
        "\n",
        "    # Obtaining eigenpairs from the centered kernel matrix\n",
        "    # scipy.linalg.eigh returns them in ascending order\n",
        "    eigvals, eigvecs = eigh(K)\n",
        "    eigvals, eigvecs = eigvals[::-1], eigvecs[:, ::-1]\n",
        "\n",
        "    # Collect the top k eigenvectors (projected examples)\n",
        "    X_pc = np.column_stack([eigvecs[:, i]\n",
        "                            for i in range(n_components)])\n",
        "\n",
        "    return X_pc"
      ],
      "execution_count": 0,
      "outputs": []
    },
    {
      "cell_type": "markdown",
      "metadata": {
        "id": "v6RNJHYAWq1V",
        "colab_type": "text"
      },
      "source": [
        "<br>"
      ]
    },
    {
      "cell_type": "markdown",
      "metadata": {
        "id": "JLmJdD0yWq1W",
        "colab_type": "text"
      },
      "source": [
        "### <img src=\"https://img.icons8.com/color/32/000000/moon-symbol.png\"/>  Example 1: Separating half-moon shapes"
      ]
    },
    {
      "cell_type": "code",
      "metadata": {
        "id": "JEeQd5KfWq1b",
        "colab_type": "code",
        "outputId": "f4b7356d-8ab5-40c6-bcf8-c8ecbfe9996d",
        "colab": {
          "base_uri": "https://localhost:8080/",
          "height": 297
        }
      },
      "source": [
        "# make moon data\n",
        "X, y = make_moons(n_samples=100, random_state=123)\n",
        "\n",
        "plt.scatter(X[y == 0, 0], X[y == 0, 1], color='red', marker='^', alpha=0.5)\n",
        "plt.scatter(X[y == 1, 0], X[y == 1, 1], color='blue', marker='o', alpha=0.5)\n",
        "\n",
        "plt.tight_layout()\n",
        "plt.show()"
      ],
      "execution_count": 0,
      "outputs": [
        {
          "output_type": "display_data",
          "data": {
            "image/png": "[encoded data removed]",
            "text/plain": [
              "<Figure size 432x288 with 1 Axes>"
            ]
          },
          "metadata": {
            "tags": [],
            "needs_background": "light"
          }
        }
      ]
    },
    {
      "cell_type": "code",
      "metadata": {
        "id": "9iWLWisVWq1e",
        "colab_type": "code",
        "outputId": "57f6d36c-25c6-4d7b-f673-7f816aa4e9bb",
        "colab": {
          "base_uri": "https://localhost:8080/",
          "height": 225
        }
      },
      "source": [
        "# perform PCA\n",
        "scikit_pca = PCA(n_components=2)\n",
        "X_spca = scikit_pca.fit_transform(X)\n",
        "\n",
        "fig, ax = plt.subplots(nrows=1, ncols=2, figsize=(7, 3))\n",
        "\n",
        "ax[0].scatter(X_spca[y == 0, 0], X_spca[y == 0, 1],\n",
        "              color='red', marker='^', alpha=0.5)\n",
        "ax[0].scatter(X_spca[y == 1, 0], X_spca[y == 1, 1],\n",
        "              color='blue', marker='o', alpha=0.5)\n",
        "\n",
        "ax[1].scatter(X_spca[y == 0, 0], np.zeros((50, 1)) + 0.02,\n",
        "              color='red', marker='^', alpha=0.5)\n",
        "ax[1].scatter(X_spca[y == 1, 0], np.zeros((50, 1)) - 0.02,\n",
        "              color='blue', marker='o', alpha=0.5)\n",
        "\n",
        "ax[0].set_xlabel('PC1')\n",
        "ax[0].set_ylabel('PC2')\n",
        "ax[1].set_ylim([-1, 1])\n",
        "ax[1].set_yticks([])\n",
        "ax[1].set_xlabel('PC1')\n",
        "\n",
        "plt.tight_layout()\n",
        "plt.show()"
      ],
      "execution_count": 0,
      "outputs": [
        {
          "output_type": "display_data",
          "data": {
            "image/png": "[encoded data removed]",
            "text/plain": [
              "<Figure size 504x216 with 2 Axes>"
            ]
          },
          "metadata": {
            "tags": [],
            "needs_background": "light"
          }
        }
      ]
    },
    {
      "cell_type": "code",
      "metadata": {
        "id": "J8iflOH1Wq1i",
        "colab_type": "code",
        "outputId": "8c0aef3f-4dc0-4942-f366-073ce356014c",
        "colab": {
          "base_uri": "https://localhost:8080/",
          "height": 242
        }
      },
      "source": [
        "# perform k-PCA\n",
        "X_kpca = rbf_kernel_pca(X, gamma=15, n_components=2)\n",
        "\n",
        "fig, ax = plt.subplots(nrows=1, ncols=2, figsize=(7, 3))\n",
        "ax[0].scatter(X_kpca[y==0, 0], X_kpca[y==0, 1], \n",
        "            color='red', marker='^', alpha=0.5)\n",
        "ax[0].scatter(X_kpca[y==1, 0], X_kpca[y==1, 1],\n",
        "            color='blue', marker='o', alpha=0.5)\n",
        "\n",
        "ax[1].scatter(X_kpca[y==0, 0], np.zeros((50, 1))+0.02, \n",
        "            color='red', marker='^', alpha=0.5)\n",
        "ax[1].scatter(X_kpca[y==1, 0], np.zeros((50, 1))-0.02,\n",
        "            color='blue', marker='o', alpha=0.5)\n",
        "\n",
        "ax[0].set_xlabel('PC1')\n",
        "ax[0].set_ylabel('PC2')\n",
        "ax[1].set_ylim([-1, 1])\n",
        "ax[1].set_yticks([])\n",
        "ax[1].set_xlabel('PC1')\n",
        "\n",
        "plt.tight_layout()\n",
        "plt.show()"
      ],
      "execution_count": 0,
      "outputs": [
        {
          "output_type": "stream",
          "text": [
            "/usr/local/lib/python3.6/dist-packages/ipykernel_launcher.py:29: DeprecationWarning: scipy.exp is deprecated and will be removed in SciPy 2.0.0, use numpy.exp instead\n"
          ],
          "name": "stderr"
        },
        {
          "output_type": "display_data",
          "data": {
            "image/png": "[encoded data removed]",
            "text/plain": [
              "<Figure size 504x216 with 2 Axes>"
            ]
          },
          "metadata": {
            "tags": [],
            "needs_background": "light"
          }
        }
      ]
    },
    {
      "cell_type": "markdown",
      "metadata": {
        "id": "r6zPM3xfWq1m",
        "colab_type": "text"
      },
      "source": [
        "<br>"
      ]
    },
    {
      "cell_type": "markdown",
      "metadata": {
        "id": "lCmZ_uT-Wq1n",
        "colab_type": "text"
      },
      "source": [
        "### <img src=\"https://img.icons8.com/color/32/000000/final-state--v1.png\"/> Example 2: Separating concentric circles"
      ]
    },
    {
      "cell_type": "code",
      "metadata": {
        "id": "9jS2ElMaWq1o",
        "colab_type": "code",
        "outputId": "5de98dbe-6fe0-483d-d755-09698660e7ac",
        "colab": {
          "base_uri": "https://localhost:8080/",
          "height": 297
        }
      },
      "source": [
        "# make circle data\n",
        "X, y = make_circles(n_samples=1000, random_state=123, noise=0.1, factor=0.2)\n",
        "\n",
        "plt.scatter(X[y == 0, 0], X[y == 0, 1], color='red', marker='^', alpha=0.5)\n",
        "plt.scatter(X[y == 1, 0], X[y == 1, 1], color='blue', marker='o', alpha=0.5)\n",
        "\n",
        "plt.tight_layout()\n",
        "plt.show()"
      ],
      "execution_count": 0,
      "outputs": [
        {
          "output_type": "display_data",
          "data": {
            "image/png": "[encoded data removed]",
            "text/plain": [
              "<Figure size 432x288 with 1 Axes>"
            ]
          },
          "metadata": {
            "tags": [],
            "needs_background": "light"
          }
        }
      ]
    },
    {
      "cell_type": "code",
      "metadata": {
        "id": "kIluB9pXWq1s",
        "colab_type": "code",
        "outputId": "03bc7cb7-5560-4679-98f5-01601eb32d08",
        "colab": {
          "base_uri": "https://localhost:8080/",
          "height": 225
        }
      },
      "source": [
        "# perform PCA\n",
        "scikit_pca = PCA(n_components=2)\n",
        "X_spca = scikit_pca.fit_transform(X)\n",
        "\n",
        "fig, ax = plt.subplots(nrows=1, ncols=2, figsize=(7, 3))\n",
        "\n",
        "ax[0].scatter(X_spca[y == 0, 0], X_spca[y == 0, 1],\n",
        "              color='red', marker='^', alpha=0.5)\n",
        "ax[0].scatter(X_spca[y == 1, 0], X_spca[y == 1, 1],\n",
        "              color='blue', marker='o', alpha=0.5)\n",
        "\n",
        "ax[1].scatter(X_spca[y == 0, 0], np.zeros((500, 1)) + 0.02,\n",
        "              color='red', marker='^', alpha=0.5)\n",
        "ax[1].scatter(X_spca[y == 1, 0], np.zeros((500, 1)) - 0.02,\n",
        "              color='blue', marker='o', alpha=0.5)\n",
        "\n",
        "ax[0].set_xlabel('PC1')\n",
        "ax[0].set_ylabel('PC2')\n",
        "ax[1].set_ylim([-1, 1])\n",
        "ax[1].set_yticks([])\n",
        "ax[1].set_xlabel('PC1')\n",
        "\n",
        "plt.tight_layout()\n",
        "plt.show()"
      ],
      "execution_count": 0,
      "outputs": [
        {
          "output_type": "display_data",
          "data": {
            "image/png": "[encoded data removed]",
            "text/plain": [
              "<Figure size 504x216 with 2 Axes>"
            ]
          },
          "metadata": {
            "tags": [],
            "needs_background": "light"
          }
        }
      ]
    },
    {
      "cell_type": "code",
      "metadata": {
        "id": "g251GtU8Wq10",
        "colab_type": "code",
        "outputId": "3e943450-f924-49b9-ed57-d412b85a354e",
        "colab": {
          "base_uri": "https://localhost:8080/",
          "height": 242
        }
      },
      "source": [
        "# perform k-PCA\n",
        "X_kpca = rbf_kernel_pca(X, gamma=15, n_components=2)\n",
        "\n",
        "fig, ax = plt.subplots(nrows=1, ncols=2, figsize=(7, 3))\n",
        "ax[0].scatter(X_kpca[y == 0, 0], X_kpca[y == 0, 1],\n",
        "              color='red', marker='^', alpha=0.5)\n",
        "ax[0].scatter(X_kpca[y == 1, 0], X_kpca[y == 1, 1],\n",
        "              color='blue', marker='o', alpha=0.5)\n",
        "\n",
        "ax[1].scatter(X_kpca[y == 0, 0], np.zeros((500, 1)) + 0.02,\n",
        "              color='red', marker='^', alpha=0.5)\n",
        "ax[1].scatter(X_kpca[y == 1, 0], np.zeros((500, 1)) - 0.02,\n",
        "              color='blue', marker='o', alpha=0.5)\n",
        "\n",
        "ax[0].set_xlabel('PC1')\n",
        "ax[0].set_ylabel('PC2')\n",
        "ax[1].set_ylim([-1, 1])\n",
        "ax[1].set_yticks([])\n",
        "ax[1].set_xlabel('PC1')\n",
        "\n",
        "plt.tight_layout()\n",
        "plt.show()"
      ],
      "execution_count": 0,
      "outputs": [
        {
          "output_type": "stream",
          "text": [
            "/usr/local/lib/python3.6/dist-packages/ipykernel_launcher.py:29: DeprecationWarning: scipy.exp is deprecated and will be removed in SciPy 2.0.0, use numpy.exp instead\n"
          ],
          "name": "stderr"
        },
        {
          "output_type": "display_data",
          "data": {
            "image/png": "[encoded data removed]",
            "text/plain": [
              "<Figure size 504x216 with 2 Axes>"
            ]
          },
          "metadata": {
            "tags": [],
            "needs_background": "light"
          }
        }
      ]
    },
    {
      "cell_type": "markdown",
      "metadata": {
        "id": "dP9eVM5WWq14",
        "colab_type": "text"
      },
      "source": [
        "<br>\n",
        "<br>"
      ]
    },
    {
      "cell_type": "markdown",
      "metadata": {
        "id": "fZ1rYkKjWq19",
        "colab_type": "text"
      },
      "source": [
        "## Projecting new data points"
      ]
    },
    {
      "cell_type": "code",
      "metadata": {
        "id": "GdMYxpL_Wq1-",
        "colab_type": "code",
        "colab": {}
      },
      "source": [
        "def rbf_kernel_pca(X, gamma, n_components):\n",
        "    \"\"\"\n",
        "    RBF kernel PCA implementation.\n",
        "\n",
        "    Parameters\n",
        "    ------------\n",
        "    X: {NumPy ndarray}, shape = [n_examples, n_features]\n",
        "        \n",
        "    gamma: float\n",
        "      Tuning parameter of the RBF kernel\n",
        "        \n",
        "    n_components: int\n",
        "      Number of principal components to return\n",
        "\n",
        "    Returns\n",
        "    ------------\n",
        "     alphas: {NumPy ndarray}, shape = [n_examples, k_features]\n",
        "       Projected dataset \n",
        "     \n",
        "     lambdas: list\n",
        "       Eigenvalues\n",
        "\n",
        "    \"\"\"\n",
        "    # Calculate pairwise squared Euclidean distances\n",
        "    # in the MxN dimensional dataset.\n",
        "    sq_dists = pdist(X, 'sqeuclidean')\n",
        "\n",
        "    # Convert pairwise distances into a square matrix.\n",
        "    mat_sq_dists = squareform(sq_dists)\n",
        "\n",
        "    # Compute the symmetric kernel matrix.\n",
        "    K = exp(-gamma * mat_sq_dists)\n",
        "\n",
        "    # Center the kernel matrix.\n",
        "    N = K.shape[0]\n",
        "    one_n = np.ones((N, N)) / N\n",
        "    K = K - one_n.dot(K) - K.dot(one_n) + one_n.dot(K).dot(one_n)\n",
        "\n",
        "    # Obtaining eigenpairs from the centered kernel matrix\n",
        "    # scipy.linalg.eigh returns them in ascending order\n",
        "    eigvals, eigvecs = eigh(K)\n",
        "    eigvals, eigvecs = eigvals[::-1], eigvecs[:, ::-1]\n",
        "\n",
        "    # Collect the top k eigenvectors (projected examples)\n",
        "    alphas = np.column_stack([eigvecs[:, i]\n",
        "                              for i in range(n_components)])\n",
        "\n",
        "    # Collect the corresponding eigenvalues\n",
        "    lambdas = [eigvals[i] for i in range(n_components)]\n",
        "\n",
        "    return alphas, lambdas"
      ],
      "execution_count": 0,
      "outputs": []
    },
    {
      "cell_type": "code",
      "metadata": {
        "id": "Z7OCo4b4Wq2D",
        "colab_type": "code",
        "outputId": "309daedb-83a0-4410-f892-1ba6f76aac1d",
        "colab": {
          "base_uri": "https://localhost:8080/",
          "height": 34
        }
      },
      "source": [
        "# make moons dataset\n",
        "X, y = make_moons(n_samples=100, random_state=123)\n",
        "alphas, lambdas = rbf_kernel_pca(X, gamma=15, n_components=1)"
      ],
      "execution_count": 0,
      "outputs": [
        {
          "output_type": "stream",
          "text": [
            "/usr/local/lib/python3.6/dist-packages/ipykernel_launcher.py:32: DeprecationWarning: scipy.exp is deprecated and will be removed in SciPy 2.0.0, use numpy.exp instead\n"
          ],
          "name": "stderr"
        }
      ]
    },
    {
      "cell_type": "code",
      "metadata": {
        "id": "hUWCvCiKWq2H",
        "colab_type": "code",
        "outputId": "88fbde89-103a-4692-8ebc-4e079a3d1f43",
        "colab": {
          "base_uri": "https://localhost:8080/",
          "height": 34
        }
      },
      "source": [
        "x_new = X[25]\n",
        "x_new"
      ],
      "execution_count": 0,
      "outputs": [
        {
          "output_type": "execute_result",
          "data": {
            "text/plain": [
              "array([1.8713, 0.0093])"
            ]
          },
          "metadata": {
            "tags": []
          },
          "execution_count": 103
        }
      ]
    },
    {
      "cell_type": "code",
      "metadata": {
        "id": "JcT076J0Wq2K",
        "colab_type": "code",
        "outputId": "74a0b0e3-3335-4dee-ec2b-31411f29140d",
        "colab": {
          "base_uri": "https://localhost:8080/",
          "height": 34
        }
      },
      "source": [
        "x_proj = alphas[25] # original projection\n",
        "x_proj"
      ],
      "execution_count": 0,
      "outputs": [
        {
          "output_type": "execute_result",
          "data": {
            "text/plain": [
              "array([0.0788])"
            ]
          },
          "metadata": {
            "tags": []
          },
          "execution_count": 104
        }
      ]
    },
    {
      "cell_type": "code",
      "metadata": {
        "id": "J_-UUUmvWq2N",
        "colab_type": "code",
        "outputId": "63d9df11-1598-4a70-828e-3ff0459a90fa",
        "colab": {
          "base_uri": "https://localhost:8080/",
          "height": 34
        }
      },
      "source": [
        "# project on new subspace\n",
        "def project_x(x_new, X, gamma, alphas, lambdas):\n",
        "    pair_dist = np.array([np.sum((x_new - row)**2) for row in X])\n",
        "    k = np.exp(-gamma * pair_dist)\n",
        "    return k.dot(alphas / lambdas)\n",
        "\n",
        "# projection of the \"new\" datapoint\n",
        "x_reproj = project_x(x_new, X, gamma=15, alphas=alphas, lambdas=lambdas)\n",
        "x_reproj "
      ],
      "execution_count": 0,
      "outputs": [
        {
          "output_type": "execute_result",
          "data": {
            "text/plain": [
              "array([0.0788])"
            ]
          },
          "metadata": {
            "tags": []
          },
          "execution_count": 105
        }
      ]
    },
    {
      "cell_type": "code",
      "metadata": {
        "id": "8Qk5XOU9Wq2Z",
        "colab_type": "code",
        "outputId": "4f7c8305-902f-4b2e-a76b-c85bb2e3a930",
        "colab": {
          "base_uri": "https://localhost:8080/",
          "height": 297
        }
      },
      "source": [
        "# visualize the first PC\n",
        "plt.scatter(alphas[y == 0, 0], np.zeros((50)),\n",
        "            color='red', marker='^', alpha=0.5)\n",
        "plt.scatter(alphas[y == 1, 0], np.zeros((50)),\n",
        "            color='blue', marker='o', alpha=0.5)\n",
        "plt.scatter(x_proj, 0, color='black',\n",
        "            label='Original projection of point X[25]', marker='^', s=100)\n",
        "plt.scatter(x_reproj, 0, color='green',\n",
        "            label='Remapped point X[25]', marker='x', s=500)\n",
        "plt.yticks([], [])\n",
        "plt.legend(scatterpoints=1)\n",
        "\n",
        "plt.tight_layout()\n",
        "plt.show()"
      ],
      "execution_count": 0,
      "outputs": [
        {
          "output_type": "display_data",
          "data": {
            "image/png": "[encoded data removed]",
            "text/plain": [
              "<Figure size 432x288 with 1 Axes>"
            ]
          },
          "metadata": {
            "tags": [],
            "needs_background": "light"
          }
        }
      ]
    },
    {
      "cell_type": "markdown",
      "metadata": {
        "id": "N1aqpCCwWq2h",
        "colab_type": "text"
      },
      "source": [
        "## <img src=\"https://img.icons8.com/color/32/000000/test-tube.png\"/>  Kernel principal component analysis in scikit-learn"
      ]
    },
    {
      "cell_type": "code",
      "metadata": {
        "id": "IanlBvqBWq2l",
        "colab_type": "code",
        "outputId": "38594259-9298-41bc-e53c-716c229a7723",
        "colab": {
          "base_uri": "https://localhost:8080/",
          "height": 297
        }
      },
      "source": [
        "X, y = make_moons(n_samples=100, random_state=123)\n",
        "scikit_kpca = KernelPCA(n_components=2, kernel='rbf', gamma=15)\n",
        "X_skernpca = scikit_kpca.fit_transform(X)\n",
        "\n",
        "plt.scatter(X_skernpca[y == 0, 0], X_skernpca[y == 0, 1],\n",
        "            color='red', marker='^', alpha=0.5)\n",
        "plt.scatter(X_skernpca[y == 1, 0], X_skernpca[y == 1, 1],\n",
        "            color='blue', marker='o', alpha=0.5)\n",
        "\n",
        "plt.xlabel('PC1')\n",
        "plt.ylabel('PC2')\n",
        "plt.tight_layout()\n",
        "plt.show()"
      ],
      "execution_count": 0,
      "outputs": [
        {
          "output_type": "display_data",
          "data": {
            "image/png": "[encoded data removed]",
            "text/plain": [
              "<Figure size 432x288 with 1 Axes>"
            ]
          },
          "metadata": {
            "tags": [],
            "needs_background": "light"
          }
        }
      ]
    },
    {
      "cell_type": "markdown",
      "metadata": {
        "id": "Z4g3ADboWq2p",
        "colab_type": "text"
      },
      "source": [
        "<br>\n",
        "<br>"
      ]
    }
  ]
}