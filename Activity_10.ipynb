{
  "nbformat": 4,
  "nbformat_minor": 0,
  "metadata": {
    "colab": {
      "name": "Activity 10.ipynb",
      "provenance": [],
      "collapsed_sections": []
    },
    "kernelspec": {
      "name": "python3",
      "display_name": "Python 3"
    }
  },
  "cells": [
    {
      "cell_type": "markdown",
      "metadata": {
        "id": "Q49IDZpOjC4z",
        "colab_type": "text"
      },
      "source": [
        "# Activity 10 - Decision Trees"
      ]
    },
    {
      "cell_type": "markdown",
      "metadata": {
        "id": "3X_oMzWyjTXt",
        "colab_type": "text"
      },
      "source": [
        "***\n",
        "##### CS 434 - Dating Mining and Machine Learning\n",
        "##### Oregon State University-Cascades\n",
        "***"
      ]
    },
    {
      "cell_type": "markdown",
      "metadata": {
        "id": "eVWdoZ2ajXT8",
        "colab_type": "text"
      },
      "source": [
        "# Load packages"
      ]
    },
    {
      "cell_type": "code",
      "metadata": {
        "id": "v-mE1koCi9Bo",
        "colab_type": "code",
        "colab": {}
      },
      "source": [
        "import ssl\n",
        "import pandas as pd\n",
        "import numpy as np\n",
        "import matplotlib.pyplot as plt\n",
        "from sklearn import tree\n",
        "from pydotplus import graph_from_dot_data\n",
        "from sklearn.model_selection import train_test_split\n",
        "from sklearn.preprocessing import StandardScaler\n",
        "from sklearn.pipeline import make_pipeline\n",
        "from sklearn.pipeline import Pipeline\n",
        "from sklearn.decomposition import PCA\n",
        "from sklearn import tree\n",
        "from sklearn.model_selection import GridSearchCV, cross_val_score\n",
        "from sklearn.model_selection import KFold\n",
        "from sklearn.tree import export_graphviz\n",
        "from sklearn.metrics import confusion_matrix\n",
        "from sklearn.metrics import accuracy_score\n",
        "from sklearn.metrics import precision_score\n",
        "from sklearn.metrics import recall_score\n",
        "from sklearn.metrics import confusion_matrix\n",
        "from sklearn.metrics import f1_score\n",
        "from sklearn.metrics import make_scorer\n",
        "from IPython.display import Image"
      ],
      "execution_count": 0,
      "outputs": []
    },
    {
      "cell_type": "markdown",
      "metadata": {
        "id": "5jX6Bd4v_pFO",
        "colab_type": "text"
      },
      "source": [
        "# Dataset"
      ]
    },
    {
      "cell_type": "code",
      "metadata": {
        "id": "U60F4jttrXhL",
        "colab_type": "code",
        "outputId": "1b1e536a-1cb2-4181-b671-98ea01ee7418",
        "colab": {
          "base_uri": "https://localhost:8080/",
          "height": 321
        }
      },
      "source": [
        "from IPython.display import YouTubeVideo\n",
        "YouTubeVideo('_e8PGPrPlwA')"
      ],
      "execution_count": 0,
      "outputs": [
        {
          "output_type": "execute_result",
          "data": {
            "text/html": [
              "\n",
              "        <iframe\n",
              "            width=\"400\"\n",
              "            height=\"300\"\n",
              "            src=\"https://www.youtube.com/embed/_e8PGPrPlwA\"\n",
              "            frameborder=\"0\"\n",
              "            allowfullscreen\n",
              "        ></iframe>\n",
              "        "
            ],
            "text/plain": [
              "<IPython.lib.display.YouTubeVideo at 0x7fb8dd49c1d0>"
            ],
            "image/jpeg": "[encoded data removed]"
          },
          "metadata": {
            "tags": []
          },
          "execution_count": 2
        }
      ]
    },
    {
      "cell_type": "markdown",
      "metadata": {
        "id": "ddGmhqpn_s7d",
        "colab_type": "text"
      },
      "source": [
        "[Flag Dataset](http://archive.ics.uci.edu/ml/datasets/Flags)\n",
        "\n",
        "This data file contains details of various nations and their flags. With this data you can try things like predicting the religion of a country from its size and the colours in its flag.\n",
        "\n",
        "10 attributes are numeric-valued. The remainder are either Boolean- or nominal-valued."
      ]
    },
    {
      "cell_type": "markdown",
      "metadata": {
        "id": "WSIYB3Gd49Qz",
        "colab_type": "text"
      },
      "source": [
        "### Attributes"
      ]
    },
    {
      "cell_type": "markdown",
      "metadata": {
        "id": "8yvO3QfY4_V7",
        "colab_type": "text"
      },
      "source": [
        "* **name** : Name of the country concerned\n",
        "* **landmass** : `1=N.America, 2=S.America, 3=Europe, 4=Africa, 4=Asia, 6=Oceania`\n",
        "* **zone** : Geographic quadrant, based on Greenwich and the Equator `1=NE, 2=SE, 3=SW, 4=NW`\n",
        "* **area** : in thousands of square km\n",
        "* **population** : in round millions\n",
        "* **language** : `1=English, 2=Spanish, 3=French, 4=German, 5=Slavic, 6=Other Indo-European, 7=Chinese, 8=Arabic, 9=Japanese/Turkish/Finnish/Magyar, 10=Others`\n",
        "\n",
        "* **religion** : `0=Catholic, 1=Other Christian, 2=Muslim, 3=Buddhist, 4=Hindu, 5=Ethnic, 6=Marxist, 7=Others`\n",
        "* **bars** :Number of vertical bars in the flag\n",
        "* **stripes** :Number of horizontal stripes in the flag\n",
        "* **colours** :  Number of different colours in the flag\n",
        "* **red** :      0 if red absent, 1 if red present in the flag\n",
        "* **green** :    same for green\n",
        "* **blue** :     same for blue\n",
        "* **gold** :     same for gold (also yellow)\n",
        "* **white** :    same for white\n",
        "* **black** :    same for black\n",
        "* **orange** :   same for orange (also brown)\n",
        "* **mainhue** :  predominant colour in the flag (tie-breaks decided by taking  the topmost hue, if that fails then the most central hue, and if that fails the leftmost hue)\n",
        "* **circles** :  Number of circles in the flag\n",
        "* **crosses** :  Number of (upright) crosses\n",
        "* **saltires** : Number of diagonal crosses\n",
        "* **quarters** : Number of quartered sections\n",
        "* **sunstars** : Number of sun or star symbols\n",
        "* **crescent** : 1 if a crescent moon symbol present, else 0\n",
        "* **triangle** : 1 if any triangles present, 0 otherwise\n",
        "* **icon** :     1 if an inanimate image present (e.g., a boat), otherwise 0\n",
        "* **animate** :  1 if an animate image (e.g., an eagle, a tree, a human hand)present, 0 otherwise\n",
        "* **text** :     1 if any letters or writing on the flag (e.g., a motto or slogan), 0 otherwise\n",
        "* **topleft** :  colour in the top-left corner (moving right to decide tie-breaks)\n",
        "* **botright** : Colour in the bottom-left corner (moving left to decide \n",
        "tie-breaks)"
      ]
    },
    {
      "cell_type": "code",
      "metadata": {
        "id": "OhJCP9D1qHsF",
        "colab_type": "code",
        "colab": {}
      },
      "source": [
        "url='http://archive.ics.uci.edu/ml/machine-learning-databases/flags/flag.data'\n",
        "header=['name','landmass','zone','area','population','language','religion','bars','stripes','colour','red','green','blue','gold','white','black','orange','mainhue','circles','crosses','saltires','quarters','sunstars','crescent','triangle','icon','animate','text','topleft','botright']"
      ],
      "execution_count": 0,
      "outputs": []
    },
    {
      "cell_type": "markdown",
      "metadata": {
        "id": "2wV9E4lYuSex",
        "colab_type": "text"
      },
      "source": [
        "*** \n",
        "# Exercise #1 - Load data\n",
        "*** "
      ]
    },
    {
      "cell_type": "markdown",
      "metadata": {
        "id": "nloOmM1tug5I",
        "colab_type": "text"
      },
      "source": [
        "##### 1.1 Read the url into new dataframe `df`."
      ]
    },
    {
      "cell_type": "code",
      "metadata": {
        "id": "pgAmlXPMuPos",
        "colab_type": "code",
        "colab": {}
      },
      "source": [
        "# read the url into df\n",
        "print('your code here')"
      ],
      "execution_count": 0,
      "outputs": []
    },
    {
      "cell_type": "markdown",
      "metadata": {
        "id": "-_IvARmgueDq",
        "colab_type": "text"
      },
      "source": [
        "##### 1.2 Describe your data"
      ]
    },
    {
      "cell_type": "code",
      "metadata": {
        "id": "M8CLxXiduZgj",
        "colab_type": "code",
        "colab": {}
      },
      "source": [
        "# describe the dataset\n",
        "print('your code here')"
      ],
      "execution_count": 0,
      "outputs": []
    },
    {
      "cell_type": "markdown",
      "metadata": {
        "id": "zvtrJ2Zmusix",
        "colab_type": "text"
      },
      "source": [
        "##### 1.3 Prune columns"
      ]
    },
    {
      "cell_type": "markdown",
      "metadata": {
        "id": "nCGERm5CAXkC",
        "colab_type": "text"
      },
      "source": [
        "Drop `'area'` and `'population'` attributes."
      ]
    },
    {
      "cell_type": "code",
      "metadata": {
        "id": "79-xLgDDuwtH",
        "colab_type": "code",
        "colab": {}
      },
      "source": [
        "# drop 'area' and 'population'\n",
        "print('your code here')"
      ],
      "execution_count": 0,
      "outputs": []
    },
    {
      "cell_type": "markdown",
      "metadata": {
        "id": "WRZC0jLkAqD9",
        "colab_type": "text"
      },
      "source": [
        "##### 1.4 One-hot encode the three categorial features and display `df`"
      ]
    },
    {
      "cell_type": "markdown",
      "metadata": {
        "id": "DoIVGDIL_ZoG",
        "colab_type": "text"
      },
      "source": [
        "* use get dummies with `drop_first=True`"
      ]
    },
    {
      "cell_type": "code",
      "metadata": {
        "id": "bCSUfnxsvtfy",
        "colab_type": "code",
        "colab": {}
      },
      "source": [
        "# one-hot encoding of categorial features\n",
        "print('your code here')"
      ],
      "execution_count": 0,
      "outputs": []
    },
    {
      "cell_type": "markdown",
      "metadata": {
        "id": "nZDE2KRBB8jL",
        "colab_type": "text"
      },
      "source": [
        "> Why do we need to perform `one-hot encoding` rather than just convert the strings to integers?"
      ]
    },
    {
      "cell_type": "markdown",
      "metadata": {
        "id": "NZdun-1QDJXZ",
        "colab_type": "text"
      },
      "source": [
        "##### 1.5 Split into two data frames: labels and features"
      ]
    },
    {
      "cell_type": "markdown",
      "metadata": {
        "id": "MioLVPuEDPuF",
        "colab_type": "text"
      },
      "source": [
        "In various experiments, we're going to attempt to predict `'landmass'`, `'zone'`, `'language'`, and `'religion'`. \n",
        "\n",
        "Splice these class label columns into a dataframe `df_labels`. Also include country name in `df_labels`.   \n",
        "\n",
        "Splice all other flag-related columns (int/bool) into dataframe `df_feats`. \n"
      ]
    },
    {
      "cell_type": "code",
      "metadata": {
        "id": "UUAD0rEyCycj",
        "colab_type": "code",
        "colab": {}
      },
      "source": [
        "# split labels and feats to two dataframes\n",
        "print('your code here')"
      ],
      "execution_count": 0,
      "outputs": []
    },
    {
      "cell_type": "markdown",
      "metadata": {
        "id": "fcEYHdwFEzog",
        "colab_type": "text"
      },
      "source": [
        "###### Self Check"
      ]
    },
    {
      "cell_type": "code",
      "metadata": {
        "id": "VSDEW1iLEmrr",
        "colab_type": "code",
        "colab": {}
      },
      "source": [
        "assert df_labels.shape[1]==5 and df_feats.shape[1]==40"
      ],
      "execution_count": 0,
      "outputs": []
    },
    {
      "cell_type": "markdown",
      "metadata": {
        "id": "amrG4qTC5YgU",
        "colab_type": "text"
      },
      "source": [
        "##### 1.6 Count the values of `'religion'`"
      ]
    },
    {
      "cell_type": "code",
      "metadata": {
        "id": "sricIrfp2b6U",
        "colab_type": "code",
        "colab": {}
      },
      "source": [
        "# count values of 'religion'\n",
        "print('your code here')"
      ],
      "execution_count": 0,
      "outputs": []
    },
    {
      "cell_type": "markdown",
      "metadata": {
        "id": "L_tQGelr5jQd",
        "colab_type": "text"
      },
      "source": [
        "Self Check\n",
        "> There are eight Buddhist countries"
      ]
    },
    {
      "cell_type": "markdown",
      "metadata": {
        "id": "xgScYaKe5f5N",
        "colab_type": "text"
      },
      "source": [
        "##### 1.7 Count the values of `'language'`"
      ]
    },
    {
      "cell_type": "code",
      "metadata": {
        "id": "VxDE8pzeEBc7",
        "colab_type": "code",
        "colab": {}
      },
      "source": [
        "# count values of 'language'\n",
        "print('your code here')"
      ],
      "execution_count": 0,
      "outputs": []
    },
    {
      "cell_type": "markdown",
      "metadata": {
        "id": "guBJ8RG8I76B",
        "colab_type": "text"
      },
      "source": [
        "*** \n",
        "# Exercise #2 - Build ML pipeline\n",
        "***"
      ]
    },
    {
      "cell_type": "markdown",
      "metadata": {
        "id": "-fBdkthQLFA4",
        "colab_type": "text"
      },
      "source": [
        "##### 2.1 Function to split into `X` and `y`"
      ]
    },
    {
      "cell_type": "markdown",
      "metadata": {
        "id": "w19a9EsjLMxa",
        "colab_type": "text"
      },
      "source": [
        "With this split function, we can reuse it depending on which predictor we are learning.\n",
        "* `X` comes from `df_feats`\n",
        "* `y` comes from `df_labels`\n",
        "  * based on value of the parameter"
      ]
    },
    {
      "cell_type": "code",
      "metadata": {
        "id": "f4s5JeNUI5j8",
        "colab_type": "code",
        "colab": {}
      },
      "source": [
        "# split X and y based on label\n",
        "def split_label(label):\n",
        "  print('your code here')\n",
        "  return X, y"
      ],
      "execution_count": 0,
      "outputs": []
    },
    {
      "cell_type": "markdown",
      "metadata": {
        "id": "LwK_LbnHt9xY",
        "colab_type": "text"
      },
      "source": [
        "> `y` should be only 1 dimension (single label)"
      ]
    },
    {
      "cell_type": "markdown",
      "metadata": {
        "id": "lmbj0R8kvCOd",
        "colab_type": "text"
      },
      "source": [
        "###### Self Check"
      ]
    },
    {
      "cell_type": "code",
      "metadata": {
        "id": "Pr6fmBE6uIO3",
        "colab_type": "code",
        "colab": {}
      },
      "source": [
        "assert len(split_label('zone')[1].shape)==1"
      ],
      "execution_count": 0,
      "outputs": []
    },
    {
      "cell_type": "markdown",
      "metadata": {
        "id": "DtYWw3r_LmXg",
        "colab_type": "text"
      },
      "source": [
        "##### 2.2 Create an experiment\n",
        "\n",
        "Complete the missing portions of the function:\n",
        "1. split `X, y` using your `split_label` function\n",
        "1. `make_pipeline` `pipe` ([see api](https://scikit-learn.org/stable/modules/generated/sklearn.pipeline.make_pipeline.html))\n",
        "  * Standardize\n",
        "  * `DecisionTreeClassifier` ([see api](https://scikit-learn.org/stable/modules/generated/sklearn.tree.DecisionTreeClassifier.html))\n",
        "    * `random_state=1`\n",
        "1. `KFold` cross validation  ([see api](https://scikit-learn.org/stable/modules/generated/sklearn.model_selection.KFold.html))\n",
        "  * use parameter $k$ \n",
        "  * `random_state=1`\n",
        "  *  `shuffle=True`  \n",
        "  * print individual fold scores\n",
        "1. return average CV score    \n"
      ]
    },
    {
      "cell_type": "code",
      "metadata": {
        "id": "kRJeu9odQsXo",
        "colab_type": "code",
        "colab": {}
      },
      "source": [
        "# full ML experiment with k-CV based on label \n",
        "def experiment(label, k=5):\n",
        "  \n",
        "  # split X and y\n",
        "  print('your code here 1')\n",
        "\n",
        "  # create a pipeline\n",
        "  print('your code here 2') \n",
        "\n",
        "  # k-fold cross-validation\n",
        "  print('your code here')\n",
        "\n",
        "  return np.mean(scores)"
      ],
      "execution_count": 0,
      "outputs": []
    },
    {
      "cell_type": "markdown",
      "metadata": {
        "id": "DjdKfNmXaJnm",
        "colab_type": "text"
      },
      "source": [
        "*** \n",
        "# Exercise #3 - Run experiments\n",
        "***"
      ]
    },
    {
      "cell_type": "markdown",
      "metadata": {
        "id": "Ogh4K5MCsZ4q",
        "colab_type": "text"
      },
      "source": [
        "Now run the experiment you wrote for each of our four class labels. Use $k=10$ cross validation."
      ]
    },
    {
      "cell_type": "markdown",
      "metadata": {
        "id": "iD3hGAqwSwM4",
        "colab_type": "text"
      },
      "source": [
        "##### 3.1 Predict accuracy for `'landmass'`"
      ]
    },
    {
      "cell_type": "code",
      "metadata": {
        "id": "S6aKhcozwYaq",
        "colab_type": "code",
        "colab": {}
      },
      "source": [
        "# landmass accuracy\n",
        "print('your code here')"
      ],
      "execution_count": 0,
      "outputs": []
    },
    {
      "cell_type": "markdown",
      "metadata": {
        "id": "wjWo2rYaScNe",
        "colab_type": "text"
      },
      "source": [
        "###### Self Check"
      ]
    },
    {
      "cell_type": "markdown",
      "metadata": {
        "id": "XOQzvWKtSd_Y",
        "colab_type": "text"
      },
      "source": [
        "```\n",
        "Fold:  1, Acc: 0.450\n",
        "Fold:  2, Acc: 0.400\n",
        "Fold:  3, Acc: 0.250\n",
        "Fold:  4, Acc: 0.450\n",
        "Fold:  5, Acc: 0.263\n",
        "Fold:  6, Acc: 0.474\n",
        "Fold:  7, Acc: 0.421\n",
        "Fold:  8, Acc: 0.579\n",
        "Fold:  9, Acc: 0.316\n",
        "Fold: 10, Acc: 0.316\n",
        "```"
      ]
    },
    {
      "cell_type": "markdown",
      "metadata": {
        "id": "5_63QbakqvKe",
        "colab_type": "text"
      },
      "source": [
        "##### 3.2 Predict accuracy for `'zone'`"
      ]
    },
    {
      "cell_type": "code",
      "metadata": {
        "id": "Accae3-uMh34",
        "colab_type": "code",
        "colab": {}
      },
      "source": [
        "# zone accuracy\n",
        "print('your code here')"
      ],
      "execution_count": 0,
      "outputs": []
    },
    {
      "cell_type": "markdown",
      "metadata": {
        "id": "3smpeb9gq0Ks",
        "colab_type": "text"
      },
      "source": [
        "##### 3.3 Predict accuracy for `'language'`"
      ]
    },
    {
      "cell_type": "code",
      "metadata": {
        "id": "tlPJ8Tkhq7vA",
        "colab_type": "code",
        "colab": {}
      },
      "source": [
        "# language accuracy\n",
        "print('your code here')"
      ],
      "execution_count": 0,
      "outputs": []
    },
    {
      "cell_type": "markdown",
      "metadata": {
        "id": "u7Ol3Ayzq3Vk",
        "colab_type": "text"
      },
      "source": [
        "##### 3.4 Predict accuracy for `'religion'`"
      ]
    },
    {
      "cell_type": "code",
      "metadata": {
        "id": "bMGu6ZMzq8HL",
        "colab_type": "code",
        "colab": {}
      },
      "source": [
        "# religion accuracy\n",
        "print('your code here')"
      ],
      "execution_count": 0,
      "outputs": []
    },
    {
      "cell_type": "markdown",
      "metadata": {
        "id": "gWyvN0-6aOlc",
        "colab_type": "text"
      },
      "source": [
        "*** \n",
        "# Exercise #4 - Tune model parameters\n",
        "***"
      ]
    },
    {
      "cell_type": "markdown",
      "metadata": {
        "id": "I9zn7WdBM1Bz",
        "colab_type": "text"
      },
      "source": [
        "In this section, you will design and run a grid search to find optimal parameters."
      ]
    },
    {
      "cell_type": "markdown",
      "metadata": {
        "id": "nNHxm_033EdE",
        "colab_type": "text"
      },
      "source": [
        "##### 4.1 Choose parameter criteria"
      ]
    },
    {
      "cell_type": "markdown",
      "metadata": {
        "id": "g6UqSTLp4TmT",
        "colab_type": "text"
      },
      "source": [
        "* `n_components` : list from `1..n_features`\n",
        "* `criterion` : list of possible choices for criterion ([see api](https://scikit-learn.org/stable/modules/generated/sklearn.tree.DecisionTreeClassifier.html))\n",
        "* `max_depth` : list of `2..12` counting by 2 "
      ]
    },
    {
      "cell_type": "code",
      "metadata": {
        "id": "Iizr_3LS4DLh",
        "colab_type": "code",
        "colab": {}
      },
      "source": [
        "# define n_compnents, criterion, and max_depth\n",
        "print('your code here')"
      ],
      "execution_count": 0,
      "outputs": []
    },
    {
      "cell_type": "markdown",
      "metadata": {
        "id": "D-7GeI5e5OJ2",
        "colab_type": "text"
      },
      "source": [
        "##### 4.2 Set parameter dictionary (provided)"
      ]
    },
    {
      "cell_type": "code",
      "metadata": {
        "id": "qYuA8j85fsUs",
        "colab_type": "code",
        "colab": {}
      },
      "source": [
        "# dictionary of parameters with the search range\n",
        "parameters = dict(pca__n_components=n_components,\n",
        "                  decisiontree__criterion=criterion,\n",
        "                  decisiontree__max_depth=max_depth)"
      ],
      "execution_count": 0,
      "outputs": []
    },
    {
      "cell_type": "markdown",
      "metadata": {
        "id": "eH6hBFXt5TId",
        "colab_type": "text"
      },
      "source": [
        "> These parameters are matched with named entities we gave in the Pipeline"
      ]
    },
    {
      "cell_type": "markdown",
      "metadata": {
        "id": "m7a4r6n33GgG",
        "colab_type": "text"
      },
      "source": [
        "##### 4.3 Create a grid search experiment\n",
        "Complete the missing portions of the function:\n",
        "1. split `X, y` using your `split_label` function\n",
        "1. build a Pipeline `pipe` ([see api](https://scikit-learn.org/stable/modules/generated/sklearn.pipeline.Pipeline.html))\n",
        "  * use the `Pipeline` constuctor with named steps\n",
        "    * Standardize with named step `sc`\n",
        "    * PCA with named step `pca`\n",
        "    * `DecisionTreeClassifier` with named step `decisiontree`\n",
        "        * `random_state=1`\n",
        "1. construct GridSearchCV `gs` ([see api](https://scikit-learn.org/stable/modules/generated/sklearn.model_selection.GridSearchCV.html))\n",
        "  * with `pipe` and `parameters`\n",
        "1. cross validate \n",
        "  * use `cross_val_score` ([see api](https://scikit-learn.org/stable/modules/generated/sklearn.model_selection.cross_val_score.html))\n",
        "    * cross validate with `k=4`\n",
        "    * `n_jobs=-1`\n",
        "    * set the scoring metric\n",
        "      * `make_scorer` ([see api](https://scikit-learn.org/stable/modules/generated/sklearn.metrics.make_scorer.html))\n",
        "      * use `f1_score` with weighted average"
      ]
    },
    {
      "cell_type": "markdown",
      "metadata": {
        "id": "MErdhb0qzD8_",
        "colab_type": "text"
      },
      "source": [
        "> You will reuse your `split_label` but **not** your `experiment` from Exercise #2."
      ]
    },
    {
      "cell_type": "code",
      "metadata": {
        "id": "gEA1-xMlYci9",
        "colab_type": "code",
        "colab": {}
      },
      "source": [
        "# run a grid-search experiment over the parameters\n",
        "def model_search(parameters, label, verbose=False):\n",
        "    # split X, y using your split_label function\n",
        "    print('your code here 1')\n",
        "\n",
        "    # construct pipeline and name the components\n",
        "    print('your code here 2') \n",
        "\n",
        "    # create a GridSearchCV object (clf) for the pipe and parameters\n",
        "    print('your code here 3')\n",
        "\n",
        "    # evaluate the model with cross_val_score, save result as CV_result\n",
        "    print('your code here 4')\n",
        "\n",
        "    # examine scores\n",
        "    if verbose:\n",
        "      print(clf.get_params())\n",
        "      print()\n",
        "      print('CV scores: {0}'.format(CV_result))\n",
        "      print('CV average {:f}'.format(CV_result.mean()))     \n",
        "\n",
        "    # return the average CV result\n",
        "    return CV_result.mean()"
      ],
      "execution_count": 0,
      "outputs": []
    },
    {
      "cell_type": "markdown",
      "metadata": {
        "id": "q2v3UXF353B6",
        "colab_type": "text"
      },
      "source": [
        "*** \n",
        "# Exercise #5 - Grid search experiment\n",
        "***"
      ]
    },
    {
      "cell_type": "markdown",
      "metadata": {
        "id": "X10lsf_g82oQ",
        "colab_type": "text"
      },
      "source": [
        "Use your `model_search` function to predict our four predictors:\n",
        "* `'landmass'`\n",
        "* `'zone'`\n",
        "* `'language'`\n",
        "* `'religion'`\n"
      ]
    },
    {
      "cell_type": "markdown",
      "metadata": {
        "id": "0JUopQMk5aj6",
        "colab_type": "text"
      },
      "source": [
        "##### 5.1 Predict $F_1$ of `'landmass'`"
      ]
    },
    {
      "cell_type": "code",
      "metadata": {
        "id": "ccsyUeAyjLIM",
        "colab_type": "code",
        "colab": {}
      },
      "source": [
        "# landmass F1\n",
        "print('your code here')"
      ],
      "execution_count": 0,
      "outputs": []
    },
    {
      "cell_type": "markdown",
      "metadata": {
        "id": "jVD0Cg6A5kn6",
        "colab_type": "text"
      },
      "source": [
        "##### 5.2 Predict $F_1$ of `'zone'`"
      ]
    },
    {
      "cell_type": "code",
      "metadata": {
        "id": "I4TQjfInga_s",
        "colab_type": "code",
        "colab": {}
      },
      "source": [
        "# zone F1\n",
        "print('your code here')"
      ],
      "execution_count": 0,
      "outputs": []
    },
    {
      "cell_type": "markdown",
      "metadata": {
        "id": "76vGNhR96AVX",
        "colab_type": "text"
      },
      "source": [
        "##### 5.3 Predict $F_1$ of `'language'`"
      ]
    },
    {
      "cell_type": "code",
      "metadata": {
        "id": "Hx0eGLMgiaX5",
        "colab_type": "code",
        "colab": {}
      },
      "source": [
        "# language F1\n",
        "print('your code here')"
      ],
      "execution_count": 0,
      "outputs": []
    },
    {
      "cell_type": "markdown",
      "metadata": {
        "id": "-IwAgxJM8y0T",
        "colab_type": "text"
      },
      "source": [
        "##### 5.4 Predict $F_1$ of `'religion'`"
      ]
    },
    {
      "cell_type": "code",
      "metadata": {
        "id": "Un55kNoziqBy",
        "colab_type": "code",
        "colab": {}
      },
      "source": [
        "# religion F1\n",
        "print('your code here')"
      ],
      "execution_count": 0,
      "outputs": []
    },
    {
      "cell_type": "markdown",
      "metadata": {
        "id": "sAVY1TGTm6Fa",
        "colab_type": "text"
      },
      "source": [
        "##### 5.5 Conclusion"
      ]
    },
    {
      "cell_type": "markdown",
      "metadata": {
        "id": "6vlUOAGBlLyj",
        "colab_type": "text"
      },
      "source": [
        "> Hmm. It seems that flag characteristics aren't very good at predicting totally unrelated facts. \n",
        ">\n",
        "> *Who would have thought?*  Well, probably Sheldon."
      ]
    },
    {
      "cell_type": "markdown",
      "metadata": {
        "id": "YhkyJo8xm3fi",
        "colab_type": "text"
      },
      "source": [
        "<img src=\"https://66.media.tumblr.com/dded9d1a2bf2068f92af9f7a9b6b5451/tumblr_p6s3hbPzgV1vd8jsjo1_500.gifv\" width=\"300\">"
      ]
    },
    {
      "cell_type": "markdown",
      "metadata": {
        "id": "U4ZL7wpzrcLV",
        "colab_type": "text"
      },
      "source": [
        "*** \n",
        "# On your own...\n",
        "***"
      ]
    },
    {
      "cell_type": "markdown",
      "metadata": {
        "id": "5hGdwrVprjM_",
        "colab_type": "text"
      },
      "source": [
        "Run another experiment on your favorite predictor and generate and view the decision tree as an image. "
      ]
    }
  ]
}