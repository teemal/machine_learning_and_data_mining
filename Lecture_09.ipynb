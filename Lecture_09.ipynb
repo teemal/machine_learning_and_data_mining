{
  "nbformat": 4,
  "nbformat_minor": 0,
  "metadata": {
    "colab": {
      "name": "Lecture 09.ipynb",
      "provenance": [],
      "collapsed_sections": []
    },
    "kernelspec": {
      "name": "python3",
      "display_name": "Python 3"
    }
  },
  "cells": [
    {
      "cell_type": "markdown",
      "metadata": {
        "id": "FkPN18dldQUo",
        "colab_type": "text"
      },
      "source": [
        "# Lecture 09 - *k*-Nearest Neighbor"
      ]
    },
    {
      "cell_type": "markdown",
      "metadata": {
        "id": "YstWxZkvdPMr",
        "colab_type": "text"
      },
      "source": [
        "***\n",
        "##### CS 434 - Dating Mining and Machine Learning\n",
        "##### Oregon State University-Cascades\n",
        "***"
      ]
    },
    {
      "cell_type": "markdown",
      "metadata": {
        "id": "MmeKGxModr-J",
        "colab_type": "text"
      },
      "source": [
        "<img src=https://cdn-images-1.medium.com/max/800/0*uNbO79MrS7jvY4qp.png width=\"500\">"
      ]
    },
    {
      "cell_type": "markdown",
      "metadata": {
        "id": "sxqcB1e0NpN8",
        "colab_type": "text"
      },
      "source": [
        "<img src=http://res.cloudinary.com/dyd911kmh/image/upload/f_auto,q_auto:best/v1531424125/KNN_final1_ibdm8a.png width=\"500\">"
      ]
    },
    {
      "cell_type": "markdown",
      "metadata": {
        "id": "0Lkxs56HlXHm",
        "colab_type": "text"
      },
      "source": [
        "## <img src=\"https://img.icons8.com/color/32/000000/fork-lift.png\"/> Load packages"
      ]
    },
    {
      "cell_type": "code",
      "metadata": {
        "id": "yeM1CyVJdGpo",
        "colab_type": "code",
        "colab": {}
      },
      "source": [
        "import numpy as np\n",
        "import pandas as pd\n",
        "import matplotlib.pyplot as plt\n",
        "from matplotlib.colors import ListedColormap\n",
        "from pydotplus import graph_from_dot_data\n",
        "from sklearn import datasets\n",
        "from sklearn.neighbors import KNeighborsClassifier\n",
        "from sklearn.preprocessing import StandardScaler\n",
        "from sklearn.model_selection import train_test_split\n",
        "from sklearn.model_selection import GridSearchCV\n",
        "from IPython.display import Image\n",
        "from math import sqrt\n",
        "%matplotlib inline"
      ],
      "execution_count": 0,
      "outputs": []
    },
    {
      "cell_type": "markdown",
      "metadata": {
        "id": "OlyzpvGu9_3d",
        "colab_type": "text"
      },
      "source": [
        "### <img src=\"https://img.icons8.com/color/24/000000/cosine.png\"/> Helper function for graphing our results"
      ]
    },
    {
      "cell_type": "code",
      "metadata": {
        "id": "PB0BEVB8-AuC",
        "colab_type": "code",
        "colab": {}
      },
      "source": [
        "def plot_decision_regions(X, y, classifier, test_idx=None, resolution=0.02):\n",
        "\n",
        "    # setup marker generator and color map\n",
        "    markers = ('s', 'x', 'o', '^', 'v')\n",
        "    colors = ('red', 'blue', 'lightgreen', 'gray', 'cyan')\n",
        "    cmap = ListedColormap(colors[:len(np.unique(y))])\n",
        "\n",
        "    # plot the decision surface\n",
        "    x1_min, x1_max = X[:, 0].min() - 1, X[:, 0].max() + 1\n",
        "    x2_min, x2_max = X[:, 1].min() - 1, X[:, 1].max() + 1\n",
        "    xx1, xx2 = np.meshgrid(np.arange(x1_min, x1_max, resolution),\n",
        "                           np.arange(x2_min, x2_max, resolution))\n",
        "    Z = classifier.predict(np.array([xx1.ravel(), xx2.ravel()]).T)\n",
        "    Z = Z.reshape(xx1.shape)\n",
        "    plt.contourf(xx1, xx2, Z, alpha=0.3, cmap=cmap)\n",
        "    plt.xlim(xx1.min(), xx1.max())\n",
        "    plt.ylim(xx2.min(), xx2.max())\n",
        "\n",
        "    for idx, cl in enumerate(np.unique(y)):\n",
        "        plt.scatter(x=X[y == cl, 0], \n",
        "                    y=X[y == cl, 1],\n",
        "                    alpha=0.8, \n",
        "                    c=colors[idx],\n",
        "                    marker=markers[idx], \n",
        "                    label=cl, \n",
        "                    edgecolor='black')\n",
        "\n",
        "    # highlight test examples\n",
        "    if test_idx:\n",
        "        # plot all examples\n",
        "        X_test, y_test = X[test_idx, :], y[test_idx]\n",
        "\n",
        "        plt.scatter(X_test[:, 0],\n",
        "                    X_test[:, 1],\n",
        "                    c='',\n",
        "                    edgecolor='black',\n",
        "                    alpha=1.0,\n",
        "                    linewidth=1,\n",
        "                    marker='o',\n",
        "                    s=100, \n",
        "                    label='test set')"
      ],
      "execution_count": 0,
      "outputs": []
    },
    {
      "cell_type": "markdown",
      "metadata": {
        "colab_type": "text",
        "id": "qOI-0tNgmiqL"
      },
      "source": [
        "## <img src=\"https://img.icons8.com/color/32/000000/accept-database.png\"/> Prepare a dataset"
      ]
    },
    {
      "cell_type": "markdown",
      "metadata": {
        "id": "jTc8NS6e5faN",
        "colab_type": "text"
      },
      "source": [
        "### <img src=\"https://img.icons8.com/color/32/000000/database-restore.png\"/>  Load the data\n",
        "\n",
        "Load the Iris dataset from scikit-learn. "
      ]
    },
    {
      "cell_type": "code",
      "metadata": {
        "id": "fpWQ6LkJ5DL0",
        "colab_type": "code",
        "outputId": "18707fd5-f265-412e-83f2-f81d7de7fadb",
        "colab": {
          "base_uri": "https://localhost:8080/",
          "height": 255
        }
      },
      "source": [
        "iris = datasets.load_iris()\n",
        "df = pd.DataFrame(data= np.c_[iris['data'], iris['target']],\n",
        "                     columns= iris['feature_names'] + ['target'])\n",
        "print(df)"
      ],
      "execution_count": 0,
      "outputs": [
        {
          "output_type": "stream",
          "text": [
            "     sepal length (cm)  sepal width (cm)  ...  petal width (cm)  target\n",
            "0                  5.1               3.5  ...               0.2     0.0\n",
            "1                  4.9               3.0  ...               0.2     0.0\n",
            "2                  4.7               3.2  ...               0.2     0.0\n",
            "3                  4.6               3.1  ...               0.2     0.0\n",
            "4                  5.0               3.6  ...               0.2     0.0\n",
            "..                 ...               ...  ...               ...     ...\n",
            "145                6.7               3.0  ...               2.3     2.0\n",
            "146                6.3               2.5  ...               1.9     2.0\n",
            "147                6.5               3.0  ...               2.0     2.0\n",
            "148                6.2               3.4  ...               2.3     2.0\n",
            "149                5.9               3.0  ...               1.8     2.0\n",
            "\n",
            "[150 rows x 5 columns]\n"
          ],
          "name": "stdout"
        }
      ]
    },
    {
      "cell_type": "markdown",
      "metadata": {
        "id": "kPG32pNX5iVm",
        "colab_type": "text"
      },
      "source": [
        "### <img src=\"https://img.icons8.com/color/32/000000/search-property.png\"/>  Examine the data\n",
        "\n",
        "The classes are integer labels where \n",
        "* 0=Iris-Setosa\n",
        "* 1=Iris-Versicolor\n",
        "* 2=Iris-Virginica."
      ]
    },
    {
      "cell_type": "code",
      "metadata": {
        "id": "uBpBj4ZZ5lB6",
        "colab_type": "code",
        "outputId": "fd8f9bdc-284d-45de-ab84-4b12c0dd449e",
        "colab": {
          "base_uri": "https://localhost:8080/",
          "height": 68
        }
      },
      "source": [
        "# split X and y\n",
        "X = iris.data\n",
        "print('X shape', X.shape)\n",
        "y = iris.target\n",
        "print('y shape', y.shape)\n",
        "print('Class labels:', np.unique(y))"
      ],
      "execution_count": 0,
      "outputs": [
        {
          "output_type": "stream",
          "text": [
            "X shape (150, 4)\n",
            "y shape (150,)\n",
            "Class labels: [0 1 2]\n"
          ],
          "name": "stdout"
        }
      ]
    },
    {
      "cell_type": "code",
      "metadata": {
        "id": "Tu2GLj8-70F8",
        "colab_type": "code",
        "outputId": "894bc578-ec06-4b6c-d7b8-27c2aa5ea590",
        "colab": {
          "base_uri": "https://localhost:8080/",
          "height": 297
        }
      },
      "source": [
        "# compare two features\n",
        "x_index = 2   # petal length\n",
        "y_index = 3   # petal width\n",
        "\n",
        "formatter = plt.FuncFormatter(lambda i, *args: iris.target_names[int(i)])\n",
        "\n",
        "plt.figure(figsize=(5, 4))\n",
        "plt.scatter(iris.data[:, x_index], iris.data[:, y_index], c=iris.target)\n",
        "plt.colorbar(ticks=[0, 1, 2], format=formatter)\n",
        "plt.xlabel(iris.feature_names[x_index])\n",
        "plt.ylabel(iris.feature_names[y_index])\n",
        "\n",
        "plt.tight_layout()\n",
        "plt.show()"
      ],
      "execution_count": 0,
      "outputs": [
        {
          "output_type": "display_data",
          "data": {
            "image/png": "[encoded data removed]",
            "text/plain": [
              "<Figure size 360x288 with 2 Axes>"
            ]
          },
          "metadata": {
            "tags": [],
            "needs_background": "light"
          }
        }
      ]
    },
    {
      "cell_type": "markdown",
      "metadata": {
        "id": "NRA3ksO_8oOU",
        "colab_type": "text"
      },
      "source": [
        "### <img src=\"https://img.icons8.com/color/32/000000/hashtag-activity-feed-2.png\"/>  Get attributes and class labels"
      ]
    },
    {
      "cell_type": "code",
      "metadata": {
        "id": "WaVaFa5M8WGB",
        "colab_type": "code",
        "colab": {}
      },
      "source": [
        "# consider only the third column of the petal length, and \n",
        "# the fourth column of petal width of the flower. \n",
        "X = iris.data[:, [2, 3]]\n",
        "y = iris.target"
      ],
      "execution_count": 0,
      "outputs": []
    },
    {
      "cell_type": "markdown",
      "metadata": {
        "id": "xNul73sW8v4Q",
        "colab_type": "text"
      },
      "source": [
        "### <img src=\"https://img.icons8.com/color/32/000000/split-files.png\"/> Split into train and test sets\n",
        "\n",
        "In this example, 70% is for training and 30% is for testing."
      ]
    },
    {
      "cell_type": "code",
      "metadata": {
        "id": "2DmLNlpV5Q_9",
        "colab_type": "code",
        "outputId": "8971f821-71cc-45cc-97e1-e3606a501fb0",
        "colab": {
          "base_uri": "https://localhost:8080/",
          "height": 68
        }
      },
      "source": [
        "# split into train and test\n",
        "X_train, X_test, y_train, y_test = train_test_split(\n",
        "    X, y, test_size=0.3, random_state=1, stratify=y)\n",
        "\n",
        "# examine label\n",
        "print('Label counts in y:', np.bincount(y))\n",
        "print('Label counts in y_train:', np.bincount(y_train))\n",
        "print('Label counts in y_test:', np.bincount(y_test))"
      ],
      "execution_count": 0,
      "outputs": [
        {
          "output_type": "stream",
          "text": [
            "Label counts in y: [50 50 50]\n",
            "Label counts in y_train: [35 35 35]\n",
            "Label counts in y_test: [15 15 15]\n"
          ],
          "name": "stdout"
        }
      ]
    },
    {
      "cell_type": "markdown",
      "metadata": {
        "id": "SgkG04gO8ynN",
        "colab_type": "text"
      },
      "source": [
        "### <img src=\"https://img.icons8.com/color/32/000000/compare.png\"/> Standardize the features"
      ]
    },
    {
      "cell_type": "code",
      "metadata": {
        "id": "NMggsysl5Yn2",
        "colab_type": "code",
        "colab": {}
      },
      "source": [
        "# standardize features\n",
        "sc = StandardScaler()\n",
        "sc.fit(X_train)\n",
        "X_train_std = sc.transform(X_train)\n",
        "X_test_std = sc.transform(X_test)\n",
        "\n",
        "# needed for graphing\n",
        "X_combined_std = np.vstack((X_train_std, X_test_std))\n",
        "y_combined = np.hstack((y_train, y_test))"
      ],
      "execution_count": 0,
      "outputs": []
    },
    {
      "cell_type": "markdown",
      "metadata": {
        "id": "3fRNywC7DR8Q",
        "colab_type": "text"
      },
      "source": [
        "# <img src=\"https://img.icons8.com/color/32/000000/ruler.png\"/>  Distance Metrics"
      ]
    },
    {
      "cell_type": "markdown",
      "metadata": {
        "id": "uWqxievQEEdr",
        "colab_type": "text"
      },
      "source": [
        "## <img src=\"https://img.icons8.com/color/32/000000/radar-plot.png\"/> Euclidean distance"
      ]
    },
    {
      "cell_type": "markdown",
      "metadata": {
        "id": "1zjJ3LMiHsN_",
        "colab_type": "text"
      },
      "source": [
        "The Euclidean distance is a distance measure between two points or or vectors in a two- or multidimensional (Euclidean) space based on Pythagoras' theorem. The distance is calculated by taking the square root of the sum of the squared pair-wise distances of every dimension.\n",
        "\n",
        "$$\\sqrt{\\sum_{i=1}^n (x_i-y_i)^2}$$"
      ]
    },
    {
      "cell_type": "markdown",
      "metadata": {
        "id": "L0Q30PN4Iio2",
        "colab_type": "text"
      },
      "source": [
        "<img src=https://upload.wikimedia.org/wikipedia/commons/thumb/1/10/Euclidean_distance_3d_2_cropped.png/736px-Euclidean_distance_3d_2_cropped.png width=\"500\">"
      ]
    },
    {
      "cell_type": "markdown",
      "metadata": {
        "id": "C8IJ-46zDnlU",
        "colab_type": "text"
      },
      "source": [
        "## <img src=\"https://img.icons8.com/color/32/000000/blockchain-technology.png\"/>  Manhattan distance"
      ]
    },
    {
      "cell_type": "markdown",
      "metadata": {
        "id": "2-E0DLzZDqO8",
        "colab_type": "text"
      },
      "source": [
        "The Manhattan distance (sometimes also called Taxicab distance) metric is related to the Euclidean distance, but instead of calculating the shortest diagonal path (\"beeline\") between two points, it calculates the distance based on gridlines. The Manhattan distance was named after the block-like layout of the streets in Manhattan.\n",
        "\n",
        "$$\\sum_{i=1}^n |x_i-y_i|$$\n"
      ]
    },
    {
      "cell_type": "markdown",
      "metadata": {
        "id": "uqW6iXuHKL9f",
        "colab_type": "text"
      },
      "source": [
        "![alt text](https://upload.wikimedia.org/wikipedia/commons/thumb/0/08/Manhattan_distance.svg/283px-Manhattan_distance.svg.png)\n",
        "\n",
        "The red, blue, and yellow lines all have the same length (12), whereas the green line (Euclidean) has length $\\sqrt {72}\\approx 8.4853$."
      ]
    },
    {
      "cell_type": "markdown",
      "metadata": {
        "id": "6TCDz5_FJruz",
        "colab_type": "text"
      },
      "source": [
        "## <img src=\"https://img.icons8.com/color/32/000000/m.png\"/> Minkowski distance"
      ]
    },
    {
      "cell_type": "markdown",
      "metadata": {
        "id": "7CG89WZ_JrGP",
        "colab_type": "text"
      },
      "source": [
        "The Minkowski distance is a generalized form of the Euclidean distance (if $p=2$) and the Manhattan distance (if $p=1$).\n",
        "\n",
        "$$\\left(\\sum_{i=1}^n |x_i-y_i|^p\\right)^{1/p}$$"
      ]
    },
    {
      "cell_type": "markdown",
      "metadata": {
        "id": "tklsP5tL04kk",
        "colab_type": "text"
      },
      "source": [
        "## <img src=\"https://img.icons8.com/color/32/000000/c.png\"/> Chebyshev distance"
      ]
    },
    {
      "cell_type": "markdown",
      "metadata": {
        "id": "qRVgEgla0-ic",
        "colab_type": "text"
      },
      "source": [
        "The Chebyshev distance measures the distance between two vectors as the greatest of their differences along any coordinate dimension.\n",
        "\n",
        "$$\\lim_{p\\rightarrow \\infty} \\left(\\sum_{i=1}^n |x_i-y_i|^p\\right)^{1/p} \\ = \\ \\max_i(|x_i-y_i|)$$"
      ]
    },
    {
      "cell_type": "markdown",
      "metadata": {
        "id": "OiWCXh8_mzO1",
        "colab_type": "text"
      },
      "source": [
        "![alt text](https://wargamingmiscellanybackup.files.wordpress.com/2017/08/38924-distances31-08-17-02.jpg?w=400&h=400)"
      ]
    },
    {
      "cell_type": "markdown",
      "metadata": {
        "id": "mP4yVdqDC-h5",
        "colab_type": "text"
      },
      "source": [
        "# <img src=\"https://img.icons8.com/color/32/000000/neighbor.png\"/>  Nearest Neighbors"
      ]
    },
    {
      "cell_type": "markdown",
      "metadata": {
        "id": "h7frlwOPo3Kt",
        "colab_type": "text"
      },
      "source": [
        "$k$-nearest neighbors algorithm ($k$-NN) is a non-parametric method used for classification and regression.\n",
        "* for classification, the output is a class membership. An object is classified by a plurality vote of its neighbors, with the object being assigned to the class most common among its k nearest neighbors ($k$ is a positive integer, typically small). If $k$ = 1, then the object is simply assigned to the class of that single nearest neighbor.\n",
        "* for regression, the output is the property value for the object. This value is the average of the values of $k$ nearest neighbors."
      ]
    },
    {
      "cell_type": "markdown",
      "metadata": {
        "id": "nYNdrGclC4uy",
        "colab_type": "text"
      },
      "source": [
        "<img src=https://raw.githubusercontent.com/rasbt/python-machine-learning-book-3rd-edition/master/ch03/images/03_23.png width=\"500\">"
      ]
    },
    {
      "cell_type": "code",
      "metadata": {
        "id": "37WBGA2ADEKr",
        "colab_type": "code",
        "outputId": "d196f9bd-62e7-4a64-e5c8-d85cf4416e51",
        "colab": {
          "base_uri": "https://localhost:8080/",
          "height": 321
        }
      },
      "source": [
        "from IPython.display import YouTubeVideo\n",
        "YouTubeVideo('HVXime0nQeI')"
      ],
      "execution_count": 0,
      "outputs": [
        {
          "output_type": "execute_result",
          "data": {
            "text/html": [
              "\n",
              "        <iframe\n",
              "            width=\"400\"\n",
              "            height=\"300\"\n",
              "            src=\"https://www.youtube.com/embed/HVXime0nQeI\"\n",
              "            frameborder=\"0\"\n",
              "            allowfullscreen\n",
              "        ></iframe>\n",
              "        "
            ],
            "text/plain": [
              "<IPython.lib.display.YouTubeVideo at 0x7f3ca34f0f98>"
            ],
            "image/jpeg": "[encoded data removed]"
          },
          "metadata": {
            "tags": []
          },
          "execution_count": 9
        }
      ]
    },
    {
      "cell_type": "markdown",
      "metadata": {
        "id": "USUMRC8DLUWm",
        "colab_type": "text"
      },
      "source": [
        "## <img src=\"https://img.icons8.com/color/32/000000/k.png\"/> *k*-NN classifier"
      ]
    },
    {
      "cell_type": "markdown",
      "metadata": {
        "id": "Oey2LctA2Q4V",
        "colab_type": "text"
      },
      "source": [
        "### `KNeighborsClassifer` in `sklearn`"
      ]
    },
    {
      "cell_type": "code",
      "metadata": {
        "id": "fPzrEm1FDFOl",
        "colab_type": "code",
        "outputId": "7e9df368-531b-4d55-9e09-f92526ec544d",
        "colab": {
          "base_uri": "https://localhost:8080/",
          "height": 314
        }
      },
      "source": [
        "# kNN implementation in sklearn\n",
        "knn = KNeighborsClassifier(n_neighbors=5, \n",
        "                           p=2, \n",
        "                           metric='minkowski')\n",
        "knn.fit(X_train_std, y_train)\n",
        "\n",
        "plot_decision_regions(X_combined_std, y_combined, \n",
        "                      classifier=knn, test_idx=range(105, 150))\n",
        "\n",
        "plt.xlabel('petal length [standardized]')\n",
        "plt.ylabel('petal width [standardized]')\n",
        "plt.legend(loc='upper left')\n",
        "plt.tight_layout()\n",
        "plt.show()"
      ],
      "execution_count": 0,
      "outputs": [
        {
          "output_type": "stream",
          "text": [
            "/usr/local/lib/python3.6/dist-packages/ipykernel_launcher.py:41: MatplotlibDeprecationWarning: Using a string of single character colors as a color sequence is deprecated. Use an explicit list instead.\n"
          ],
          "name": "stderr"
        },
        {
          "output_type": "display_data",
          "data": {
            "image/png": "[encoded data removed]",
            "text/plain": [
              "<Figure size 432x288 with 1 Axes>"
            ]
          },
          "metadata": {
            "tags": [],
            "needs_background": "light"
          }
        }
      ]
    },
    {
      "cell_type": "markdown",
      "metadata": {
        "id": "S0tX1nVT2W19",
        "colab_type": "text"
      },
      "source": [
        "### <img src=\"https://img.icons8.com/color/32/000000/full-tool-storage-box-.png\"/> $k$-NN implementation from scratch"
      ]
    },
    {
      "cell_type": "code",
      "metadata": {
        "id": "gja9FhjL2aL8",
        "colab_type": "code",
        "colab": {}
      },
      "source": [
        "# locate the most similar neighbors\n",
        "def get_neighbors(train, test_row, num_neighbors):\n",
        "\tdistances = list()\n",
        "\tfor train_row in train:\n",
        "\t\t# skip test_row, train on all others\n",
        "\t\tif len(set(train_row) & set(test_row)) < 3:\n",
        "\t\t\tdist = euclidean_distance(test_row, train_row)\n",
        "\t\t\tdistances.append((train_row, dist))\n",
        "\tdistances.sort(key=lambda tup: tup[1])\n",
        "\tneighbors = list()\n",
        "\tfor i in range(num_neighbors):\n",
        "\t\tneighbors.append(distances[i][0])\n",
        "\treturn neighbors"
      ],
      "execution_count": 0,
      "outputs": []
    },
    {
      "cell_type": "code",
      "metadata": {
        "id": "fgkedIe-3S1x",
        "colab_type": "code",
        "colab": {}
      },
      "source": [
        "# calculate the Euclidean distance between two vectors\n",
        "def euclidean_distance(row1, row2):\n",
        "\tdistance = 0.0\n",
        "\tfor i in range(len(row1)-1):\n",
        "\t\tdistance += (row1[i] - row2[i])**2\n",
        "\treturn sqrt(distance)"
      ],
      "execution_count": 0,
      "outputs": []
    },
    {
      "cell_type": "code",
      "metadata": {
        "id": "G4sENDeT2dzw",
        "colab_type": "code",
        "outputId": "798c80b4-b0b0-4d3b-8dee-65b41a88a2bc",
        "colab": {
          "base_uri": "https://localhost:8080/",
          "height": 187
        }
      },
      "source": [
        "# test data\n",
        "dataset = [[2.7810836,2.550537003,0],\n",
        "\t[1.465489372,2.362125076,0],\n",
        "\t[3.396561688,4.400293529,0],\n",
        "\t[1.38807019,1.850220317,0],\n",
        "\t[3.06407232,3.005305973,0],\n",
        "\t[7.627531214,2.759262235,1],\n",
        "\t[5.332441248,2.088626775,1],\n",
        "\t[6.922596716,1.77106367,1],\n",
        "\t[8.675418651,-0.242068655,1],\n",
        "\t[7.673756466,3.508563011,1]]\n",
        "dataset"
      ],
      "execution_count": 0,
      "outputs": [
        {
          "output_type": "execute_result",
          "data": {
            "text/plain": [
              "[[2.7810836, 2.550537003, 0],\n",
              " [1.465489372, 2.362125076, 0],\n",
              " [3.396561688, 4.400293529, 0],\n",
              " [1.38807019, 1.850220317, 0],\n",
              " [3.06407232, 3.005305973, 0],\n",
              " [7.627531214, 2.759262235, 1],\n",
              " [5.332441248, 2.088626775, 1],\n",
              " [6.922596716, 1.77106367, 1],\n",
              " [8.675418651, -0.242068655, 1],\n",
              " [7.673756466, 3.508563011, 1]]"
            ]
          },
          "metadata": {
            "tags": []
          },
          "execution_count": 28
        }
      ]
    },
    {
      "cell_type": "code",
      "metadata": {
        "id": "TzaJQFuBEESJ",
        "colab_type": "code",
        "outputId": "65e10032-86b1-4d15-ee5c-cafa7a633720",
        "colab": {
          "base_uri": "https://localhost:8080/",
          "height": 68
        }
      },
      "source": [
        "# get nearest neighbors for row 0\n",
        "neighbors = get_neighbors(dataset, dataset[0], 3)\n",
        "\n",
        "# print three nearest neighbors\n",
        "for neighbor in neighbors:\n",
        "\tprint(neighbor)"
      ],
      "execution_count": 0,
      "outputs": [
        {
          "output_type": "stream",
          "text": [
            "[3.06407232, 3.005305973, 0]\n",
            "[1.465489372, 2.362125076, 0]\n",
            "[1.38807019, 1.850220317, 0]\n"
          ],
          "name": "stdout"
        }
      ]
    },
    {
      "cell_type": "markdown",
      "metadata": {
        "id": "m9dX0JFosKeq",
        "colab_type": "text"
      },
      "source": [
        "# <img src=\"https://img.icons8.com/color/32/000000/123.png\"/> Choosing $k$ ..."
      ]
    },
    {
      "cell_type": "markdown",
      "metadata": {
        "id": "zytnXTU6sQi2",
        "colab_type": "text"
      },
      "source": [
        "There is no best practice to select $k$.  It is a tunable parameter that should be explored using trial and error or through empirical testing. "
      ]
    },
    {
      "cell_type": "markdown",
      "metadata": {
        "id": "0CsqVVK5sesg",
        "colab_type": "text"
      },
      "source": [
        "* *SMALLER* values of $k$ can be noisy as each neighbor has a high influence on the \n",
        "outcome.\n",
        "\n",
        "* *LARGER* values of $k$ results in smoother decision bounderies, which indicate a lower variance, but increased bias.  Processing large number of neighbors can be computational expensive.\n",
        "\n",
        "* $k$ should always be an odd value to handle breaking ties."
      ]
    },
    {
      "cell_type": "markdown",
      "metadata": {
        "id": "4XPy_Tf-tR0z",
        "colab_type": "text"
      },
      "source": [
        "***\n",
        "### ... with math\n",
        "***"
      ]
    },
    {
      "cell_type": "markdown",
      "metadata": {
        "id": "F8r74-UJtZny",
        "colab_type": "text"
      },
      "source": [
        "One strategy is to select\n",
        "$$ k = \\sqrt{N}$$\n",
        "where $N$ is the number of samples in the training set."
      ]
    },
    {
      "cell_type": "markdown",
      "metadata": {
        "id": "C9gBBXnLtPQc",
        "colab_type": "text"
      },
      "source": [
        "***\n",
        "### ... with cross-validation\n",
        "***"
      ]
    },
    {
      "cell_type": "markdown",
      "metadata": {
        "id": "1UfcFwNkuXGK",
        "colab_type": "text"
      },
      "source": [
        "Extract a small validation set from the training set. Create a model for various values of $k = {1, 2, 3, ... }$.  Evaluate the model using the validation set. Select the $k$ with the lowest validation error to use in the experiment. "
      ]
    },
    {
      "cell_type": "markdown",
      "metadata": {
        "id": "QfN0Jdddjgz3",
        "colab_type": "text"
      },
      "source": [
        "## <img src=\"https://img.icons8.com/color/32/000000/grid.png\"/> Grid search"
      ]
    },
    {
      "cell_type": "code",
      "metadata": {
        "id": "WHAq1Mo6zC-N",
        "colab_type": "code",
        "outputId": "c937e2e1-1e80-481c-8110-18a2fe3c9ffc",
        "colab": {
          "base_uri": "https://localhost:8080/",
          "height": 85
        }
      },
      "source": [
        "# set grid parameters\n",
        "grid_params = {\n",
        "    'n_neighbors' : list(range(1, 21, 2)),\n",
        "    'weights' : ['uniform','distance'],\n",
        "    'metric' : ['euclidean','manhattan','chebyshev']\n",
        "}\n",
        "\n",
        "# construct a grid search \n",
        "gs = GridSearchCV(\n",
        "    KNeighborsClassifier(),\n",
        "    grid_params,\n",
        "    verbose = 1,\n",
        "    cv = 3,\n",
        "    n_jobs = -1\n",
        ")\n",
        "\n",
        "# run the grid search\n",
        "gs_results = gs.fit(X_train, y_train)"
      ],
      "execution_count": 0,
      "outputs": [
        {
          "output_type": "stream",
          "text": [
            "Fitting 3 folds for each of 60 candidates, totalling 180 fits\n"
          ],
          "name": "stdout"
        },
        {
          "output_type": "stream",
          "text": [
            "[Parallel(n_jobs=-1)]: Using backend LokyBackend with 2 concurrent workers.\n",
            "[Parallel(n_jobs=-1)]: Done 166 tasks      | elapsed:    1.1s\n",
            "[Parallel(n_jobs=-1)]: Done 180 out of 180 | elapsed:    1.2s finished\n"
          ],
          "name": "stderr"
        }
      ]
    },
    {
      "cell_type": "code",
      "metadata": {
        "id": "DC8kX4a4z40O",
        "colab_type": "code",
        "outputId": "97079fdd-4f8b-4e51-83df-b9e1d8d8341b",
        "colab": {
          "base_uri": "https://localhost:8080/",
          "height": 34
        }
      },
      "source": [
        "# see the best score\n",
        "print(gs_results.best_score_)"
      ],
      "execution_count": 0,
      "outputs": [
        {
          "output_type": "stream",
          "text": [
            "0.9619047619047619\n"
          ],
          "name": "stdout"
        }
      ]
    },
    {
      "cell_type": "code",
      "metadata": {
        "id": "DO6EMiKaDlg6",
        "colab_type": "code",
        "outputId": "c2eb1f18-97ba-4442-8ebc-a33f6f45b3d9",
        "colab": {
          "base_uri": "https://localhost:8080/",
          "height": 68
        }
      },
      "source": [
        "# see the best algorithm\n",
        "print(gs_results.best_estimator_)"
      ],
      "execution_count": 0,
      "outputs": [
        {
          "output_type": "stream",
          "text": [
            "KNeighborsClassifier(algorithm='auto', leaf_size=30, metric='euclidean',\n",
            "                     metric_params=None, n_jobs=None, n_neighbors=5, p=2,\n",
            "                     weights='uniform')\n"
          ],
          "name": "stdout"
        }
      ]
    },
    {
      "cell_type": "code",
      "metadata": {
        "id": "_xDe5OjjDkVc",
        "colab_type": "code",
        "outputId": "816c480e-035e-45ea-ca78-18e5222c1e59",
        "colab": {
          "base_uri": "https://localhost:8080/",
          "height": 34
        }
      },
      "source": [
        "# see the best parameters\n",
        "print(gs_results.best_params_)"
      ],
      "execution_count": 0,
      "outputs": [
        {
          "output_type": "stream",
          "text": [
            "{'metric': 'euclidean', 'n_neighbors': 5, 'weights': 'uniform'}\n"
          ],
          "name": "stdout"
        }
      ]
    },
    {
      "cell_type": "markdown",
      "metadata": {
        "id": "EJGh0evHPb8h",
        "colab_type": "text"
      },
      "source": [
        "![alt text](https://imgs.xkcd.com/comics/efficiency.png)"
      ]
    }
  ]
}