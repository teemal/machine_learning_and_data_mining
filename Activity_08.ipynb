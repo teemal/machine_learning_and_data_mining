{
  "nbformat": 4,
  "nbformat_minor": 0,
  "metadata": {
    "colab": {
      "name": "Activity 08.ipynb",
      "provenance": [],
      "collapsed_sections": []
    },
    "kernelspec": {
      "name": "python3",
      "display_name": "Python 3"
    }
  },
  "cells": [
    {
      "cell_type": "markdown",
      "metadata": {
        "id": "tnMoLoLjCrfw",
        "colab_type": "text"
      },
      "source": [
        "# Activity 08 - Support Vector Machines"
      ]
    },
    {
      "cell_type": "markdown",
      "metadata": {
        "id": "K9YVWZEACpMH",
        "colab_type": "text"
      },
      "source": [
        "***\n",
        "##### CS 434 - Dating Mining and Machine Learning\n",
        "##### Oregon State University-Cascades\n",
        "***"
      ]
    },
    {
      "cell_type": "markdown",
      "metadata": {
        "id": "jIavCbj4CzDK",
        "colab_type": "text"
      },
      "source": [
        "# Load packages"
      ]
    },
    {
      "cell_type": "code",
      "metadata": {
        "id": "R5f29XO-C06W",
        "colab_type": "code",
        "colab": {}
      },
      "source": [
        "import ssl\n",
        "import pandas as pd\n",
        "import numpy as np\n",
        "import matplotlib.pyplot as plt\n",
        "from sklearn.model_selection import train_test_split\n",
        "from sklearn.preprocessing import StandardScaler\n",
        "from sklearn.decomposition import PCA\n",
        "from sklearn.svm import SVC\n",
        "from sklearn.pipeline import make_pipeline\n",
        "from sklearn.model_selection import KFold\n",
        "from sklearn.model_selection import GridSearchCV\n",
        "from scipy.stats.stats import pearsonr, spearmanr\n",
        "from sklearn.metrics import confusion_matrix\n",
        "from sklearn.metrics import accuracy_score\n",
        "from sklearn.metrics import precision_score\n",
        "from sklearn.metrics import recall_score\n",
        "from sklearn.metrics import confusion_matrix\n",
        "from sklearn.metrics import f1_score\n",
        "ssl._create_default_https_context = ssl._create_unverified_context\n",
        "pd.options.mode.chained_assignment = None"
      ],
      "execution_count": 0,
      "outputs": []
    },
    {
      "cell_type": "code",
      "metadata": {
        "id": "IJ486f15MKu_",
        "colab_type": "code",
        "colab": {}
      },
      "source": [
        "# helper function to iterate character range\n",
        "def char_range(c1, c2):\n",
        "    \"\"\"Generates the characters from `c1` to `c2`, inclusive.\"\"\"\n",
        "    for c in range(ord(c1), ord(c2)+1):\n",
        "        yield chr(c)"
      ],
      "execution_count": 0,
      "outputs": []
    },
    {
      "cell_type": "markdown",
      "metadata": {
        "id": "khpZBdZUC3I0",
        "colab_type": "text"
      },
      "source": [
        "# Dataset"
      ]
    },
    {
      "cell_type": "markdown",
      "metadata": {
        "id": "kVG6a9dCYFNX",
        "colab_type": "text"
      },
      "source": [
        "[Vehicle Silhouettes Data Set](https://archive.ics.uci.edu/ml/datasets/Statlog+%28Vehicle+Silhouettes%29)\n",
        "\n",
        "The purpose is to classify a given silhouette as one of four types of vehicle, using a set of features extracted from the silhouette. The vehicle may be viewed from one of many different angles."
      ]
    },
    {
      "cell_type": "markdown",
      "metadata": {
        "id": "x0LmzsMfZgUk",
        "colab_type": "text"
      },
      "source": [
        "### Features"
      ]
    },
    {
      "cell_type": "markdown",
      "metadata": {
        "id": "MGEc7MXnZhuW",
        "colab_type": "text"
      },
      "source": [
        "* **compactness** : (average perim)**2/area\n",
        "* **circularity** : (average radius)**2/area\n",
        "* **distance circularity** : area/(av.distance from border)**2\n",
        "* **radius ratio** : (max.rad-min.rad)/av.radius\n",
        "* **pr.axis aspect ratio** : (minor axis)/(major axis)\n",
        "* **max.length aspect ratio** : (length perp. max length)/(max length)\n",
        "* **scatter ratio** : (inertia about minor axis)/(inertia about major axis)\n",
        "* **elongatedness** : area/(shrink width)**2\n",
        "* **pr axis** : rectangularity area/(pr.axis length*pr.axis width)\n",
        "* **max length** : rectangularity area/(max.length*length perp. to this)\n",
        "* **scaled variance** : (2nd order moment about minor axis)/area\n",
        "along major axis\n",
        "* **scaled variance** : (2nd order moment about major axis)/area\n",
        "along minor axis\n",
        "* **scaled radius of gyration** : (mavar+mivar)/area\n",
        "* **skewness about major axis** : (3rd order moment about major axis)/sigma_min**3\n",
        "\n",
        "* **skewness about minor axis** : (3rd order moment about minor axis)/sigma_maj**3\n",
        "\n",
        "* **kurtosis about minor axis** : (4th order moment about major axis)/sigma_min**4\n",
        "minor axis\n",
        "\n",
        "* **kurtosis about major axis** : (4th order moment about minor axis)/sigma_maj**4\n",
        "major axis\n",
        "\n",
        "* **hollows ratio** : (area of hollows)/(area of bounding polygon)\n"
      ]
    },
    {
      "cell_type": "markdown",
      "metadata": {
        "id": "lf_5-sqhXxix",
        "colab_type": "text"
      },
      "source": [
        "### Class Label\n",
        "\n",
        "\n"
      ]
    },
    {
      "cell_type": "markdown",
      "metadata": {
        "id": "UR2mdMx_Zyvx",
        "colab_type": "text"
      },
      "source": [
        "* **vehicle** : four vehicles \n",
        "   * `'OPEL'`\n",
        "   * `'SAAB'`\n",
        "   * `'BUS'`\n",
        "   * `'VAN'`"
      ]
    },
    {
      "cell_type": "markdown",
      "metadata": {
        "id": "xPIDenKoquRm",
        "colab_type": "text"
      },
      "source": [
        "### File information"
      ]
    },
    {
      "cell_type": "markdown",
      "metadata": {
        "id": "ZPZR73yaPcmX",
        "colab_type": "text"
      },
      "source": [
        "Files: `xaa.dat`, `xab.dat`, ... `xai.dat` (note the range `'a'` to `'i'`)"
      ]
    },
    {
      "cell_type": "code",
      "metadata": {
        "id": "YgGVTSDnDr_C",
        "colab_type": "code",
        "colab": {}
      },
      "source": [
        "url_prefix = 'https://archive.ics.uci.edu/ml/machine-learning-databases/statlog/vehicle/xa'\n",
        "url_suffix = '.dat'\n",
        "header = ['compactness','circularity','distance circularity','radius ratio','pr axis aspect ratio','max length aspect ratio','scatter ratio','elongatedness','pr axis rectangularity','max length rectangularity','scaled variance along major axis','scaled variance along minor axis','scaled radius of gyration','skewness about major axis','skewness about minor axis','kurtosis about minor axis','kurtosis about major axis','hollows ratio','vehicle']"
      ],
      "execution_count": 0,
      "outputs": []
    },
    {
      "cell_type": "markdown",
      "metadata": {
        "id": "qkQOISeLC5pK",
        "colab_type": "text"
      },
      "source": [
        "*** \n",
        "# Exercise #1 - Load data\n",
        "*** "
      ]
    },
    {
      "cell_type": "markdown",
      "metadata": {
        "id": "9Adm6yFMXP7F",
        "colab_type": "text"
      },
      "source": [
        "##### 1.1 Read the file `xaa.dat` into new dataframe `df`."
      ]
    },
    {
      "cell_type": "markdown",
      "metadata": {
        "id": "u7wuQLZjLyRE",
        "colab_type": "text"
      },
      "source": [
        "* build the url from the prefix, char `'a'`, and suffix\n",
        "* mind your delimiter\n",
        "* use `index_col=False`"
      ]
    },
    {
      "cell_type": "code",
      "metadata": {
        "id": "Gh3sQpdkNBBA",
        "colab_type": "code",
        "colab": {
          "base_uri": "https://localhost:8080/",
          "height": 507
        },
        "outputId": "7843922b-93d0-4312-cebf-5934231309c2"
      },
      "source": [
        "# read xaa.data into df\n",
        "df = pd.read_csv(url_prefix + 'a' + url_suffix, delimiter=' ', index_col=False, names=header)\n",
        "df"
      ],
      "execution_count": 104,
      "outputs": [
        {
          "output_type": "execute_result",
          "data": {
            "text/html": [
              "<div>\n",
              "<style scoped>\n",
              "    .dataframe tbody tr th:only-of-type {\n",
              "        vertical-align: middle;\n",
              "    }\n",
              "\n",
              "    .dataframe tbody tr th {\n",
              "        vertical-align: top;\n",
              "    }\n",
              "\n",
              "    .dataframe thead th {\n",
              "        text-align: right;\n",
              "    }\n",
              "</style>\n",
              "<table border=\"1\" class=\"dataframe\">\n",
              "  <thead>\n",
              "    <tr style=\"text-align: right;\">\n",
              "      <th></th>\n",
              "      <th>compactness</th>\n",
              "      <th>circularity</th>\n",
              "      <th>distance circularity</th>\n",
              "      <th>radius ratio</th>\n",
              "      <th>pr axis aspect ratio</th>\n",
              "      <th>max length aspect ratio</th>\n",
              "      <th>scatter ratio</th>\n",
              "      <th>elongatedness</th>\n",
              "      <th>pr axis rectangularity</th>\n",
              "      <th>max length rectangularity</th>\n",
              "      <th>scaled variance along major axis</th>\n",
              "      <th>scaled variance along minor axis</th>\n",
              "      <th>scaled radius of gyration</th>\n",
              "      <th>skewness about major axis</th>\n",
              "      <th>skewness about minor axis</th>\n",
              "      <th>kurtosis about minor axis</th>\n",
              "      <th>kurtosis about major axis</th>\n",
              "      <th>hollows ratio</th>\n",
              "      <th>vehicle</th>\n",
              "    </tr>\n",
              "  </thead>\n",
              "  <tbody>\n",
              "    <tr>\n",
              "      <th>0</th>\n",
              "      <td>95</td>\n",
              "      <td>48</td>\n",
              "      <td>83</td>\n",
              "      <td>178</td>\n",
              "      <td>72</td>\n",
              "      <td>10</td>\n",
              "      <td>162</td>\n",
              "      <td>42</td>\n",
              "      <td>20</td>\n",
              "      <td>159</td>\n",
              "      <td>176</td>\n",
              "      <td>379</td>\n",
              "      <td>184</td>\n",
              "      <td>70</td>\n",
              "      <td>6</td>\n",
              "      <td>16</td>\n",
              "      <td>187</td>\n",
              "      <td>197</td>\n",
              "      <td>van</td>\n",
              "    </tr>\n",
              "    <tr>\n",
              "      <th>1</th>\n",
              "      <td>91</td>\n",
              "      <td>41</td>\n",
              "      <td>84</td>\n",
              "      <td>141</td>\n",
              "      <td>57</td>\n",
              "      <td>9</td>\n",
              "      <td>149</td>\n",
              "      <td>45</td>\n",
              "      <td>19</td>\n",
              "      <td>143</td>\n",
              "      <td>170</td>\n",
              "      <td>330</td>\n",
              "      <td>158</td>\n",
              "      <td>72</td>\n",
              "      <td>9</td>\n",
              "      <td>14</td>\n",
              "      <td>189</td>\n",
              "      <td>199</td>\n",
              "      <td>van</td>\n",
              "    </tr>\n",
              "    <tr>\n",
              "      <th>2</th>\n",
              "      <td>104</td>\n",
              "      <td>50</td>\n",
              "      <td>106</td>\n",
              "      <td>209</td>\n",
              "      <td>66</td>\n",
              "      <td>10</td>\n",
              "      <td>207</td>\n",
              "      <td>32</td>\n",
              "      <td>23</td>\n",
              "      <td>158</td>\n",
              "      <td>223</td>\n",
              "      <td>635</td>\n",
              "      <td>220</td>\n",
              "      <td>73</td>\n",
              "      <td>14</td>\n",
              "      <td>9</td>\n",
              "      <td>188</td>\n",
              "      <td>196</td>\n",
              "      <td>saab</td>\n",
              "    </tr>\n",
              "    <tr>\n",
              "      <th>3</th>\n",
              "      <td>93</td>\n",
              "      <td>41</td>\n",
              "      <td>82</td>\n",
              "      <td>159</td>\n",
              "      <td>63</td>\n",
              "      <td>9</td>\n",
              "      <td>144</td>\n",
              "      <td>46</td>\n",
              "      <td>19</td>\n",
              "      <td>143</td>\n",
              "      <td>160</td>\n",
              "      <td>309</td>\n",
              "      <td>127</td>\n",
              "      <td>63</td>\n",
              "      <td>6</td>\n",
              "      <td>10</td>\n",
              "      <td>199</td>\n",
              "      <td>207</td>\n",
              "      <td>van</td>\n",
              "    </tr>\n",
              "    <tr>\n",
              "      <th>4</th>\n",
              "      <td>85</td>\n",
              "      <td>44</td>\n",
              "      <td>70</td>\n",
              "      <td>205</td>\n",
              "      <td>103</td>\n",
              "      <td>52</td>\n",
              "      <td>149</td>\n",
              "      <td>45</td>\n",
              "      <td>19</td>\n",
              "      <td>144</td>\n",
              "      <td>241</td>\n",
              "      <td>325</td>\n",
              "      <td>188</td>\n",
              "      <td>127</td>\n",
              "      <td>9</td>\n",
              "      <td>11</td>\n",
              "      <td>180</td>\n",
              "      <td>183</td>\n",
              "      <td>bus</td>\n",
              "    </tr>\n",
              "    <tr>\n",
              "      <th>...</th>\n",
              "      <td>...</td>\n",
              "      <td>...</td>\n",
              "      <td>...</td>\n",
              "      <td>...</td>\n",
              "      <td>...</td>\n",
              "      <td>...</td>\n",
              "      <td>...</td>\n",
              "      <td>...</td>\n",
              "      <td>...</td>\n",
              "      <td>...</td>\n",
              "      <td>...</td>\n",
              "      <td>...</td>\n",
              "      <td>...</td>\n",
              "      <td>...</td>\n",
              "      <td>...</td>\n",
              "      <td>...</td>\n",
              "      <td>...</td>\n",
              "      <td>...</td>\n",
              "      <td>...</td>\n",
              "    </tr>\n",
              "    <tr>\n",
              "      <th>89</th>\n",
              "      <td>80</td>\n",
              "      <td>37</td>\n",
              "      <td>57</td>\n",
              "      <td>116</td>\n",
              "      <td>55</td>\n",
              "      <td>6</td>\n",
              "      <td>125</td>\n",
              "      <td>54</td>\n",
              "      <td>18</td>\n",
              "      <td>125</td>\n",
              "      <td>142</td>\n",
              "      <td>229</td>\n",
              "      <td>132</td>\n",
              "      <td>81</td>\n",
              "      <td>8</td>\n",
              "      <td>5</td>\n",
              "      <td>178</td>\n",
              "      <td>184</td>\n",
              "      <td>opel</td>\n",
              "    </tr>\n",
              "    <tr>\n",
              "      <th>90</th>\n",
              "      <td>104</td>\n",
              "      <td>55</td>\n",
              "      <td>107</td>\n",
              "      <td>222</td>\n",
              "      <td>68</td>\n",
              "      <td>11</td>\n",
              "      <td>218</td>\n",
              "      <td>31</td>\n",
              "      <td>24</td>\n",
              "      <td>173</td>\n",
              "      <td>232</td>\n",
              "      <td>703</td>\n",
              "      <td>229</td>\n",
              "      <td>71</td>\n",
              "      <td>3</td>\n",
              "      <td>10</td>\n",
              "      <td>188</td>\n",
              "      <td>199</td>\n",
              "      <td>saab</td>\n",
              "    </tr>\n",
              "    <tr>\n",
              "      <th>91</th>\n",
              "      <td>94</td>\n",
              "      <td>38</td>\n",
              "      <td>84</td>\n",
              "      <td>158</td>\n",
              "      <td>55</td>\n",
              "      <td>9</td>\n",
              "      <td>169</td>\n",
              "      <td>39</td>\n",
              "      <td>20</td>\n",
              "      <td>130</td>\n",
              "      <td>196</td>\n",
              "      <td>430</td>\n",
              "      <td>155</td>\n",
              "      <td>69</td>\n",
              "      <td>9</td>\n",
              "      <td>15</td>\n",
              "      <td>190</td>\n",
              "      <td>195</td>\n",
              "      <td>opel</td>\n",
              "    </tr>\n",
              "    <tr>\n",
              "      <th>92</th>\n",
              "      <td>104</td>\n",
              "      <td>52</td>\n",
              "      <td>100</td>\n",
              "      <td>191</td>\n",
              "      <td>59</td>\n",
              "      <td>9</td>\n",
              "      <td>197</td>\n",
              "      <td>33</td>\n",
              "      <td>23</td>\n",
              "      <td>158</td>\n",
              "      <td>218</td>\n",
              "      <td>583</td>\n",
              "      <td>234</td>\n",
              "      <td>70</td>\n",
              "      <td>10</td>\n",
              "      <td>10</td>\n",
              "      <td>191</td>\n",
              "      <td>198</td>\n",
              "      <td>saab</td>\n",
              "    </tr>\n",
              "    <tr>\n",
              "      <th>93</th>\n",
              "      <td>94</td>\n",
              "      <td>48</td>\n",
              "      <td>87</td>\n",
              "      <td>162</td>\n",
              "      <td>64</td>\n",
              "      <td>10</td>\n",
              "      <td>157</td>\n",
              "      <td>43</td>\n",
              "      <td>20</td>\n",
              "      <td>161</td>\n",
              "      <td>179</td>\n",
              "      <td>363</td>\n",
              "      <td>186</td>\n",
              "      <td>75</td>\n",
              "      <td>4</td>\n",
              "      <td>15</td>\n",
              "      <td>184</td>\n",
              "      <td>195</td>\n",
              "      <td>van</td>\n",
              "    </tr>\n",
              "  </tbody>\n",
              "</table>\n",
              "<p>94 rows × 19 columns</p>\n",
              "</div>"
            ],
            "text/plain": [
              "    compactness  circularity  ...  hollows ratio  vehicle\n",
              "0            95           48  ...            197      van\n",
              "1            91           41  ...            199      van\n",
              "2           104           50  ...            196     saab\n",
              "3            93           41  ...            207      van\n",
              "4            85           44  ...            183      bus\n",
              "..          ...          ...  ...            ...      ...\n",
              "89           80           37  ...            184     opel\n",
              "90          104           55  ...            199     saab\n",
              "91           94           38  ...            195     opel\n",
              "92          104           52  ...            198     saab\n",
              "93           94           48  ...            195      van\n",
              "\n",
              "[94 rows x 19 columns]"
            ]
          },
          "metadata": {
            "tags": []
          },
          "execution_count": 104
        }
      ]
    },
    {
      "cell_type": "markdown",
      "metadata": {
        "id": "nt7Kz4RXZ4cM",
        "colab_type": "text"
      },
      "source": [
        "##### 1.2 Read the other files `xab.dat`, etc. and add to your dataframe `df`."
      ]
    },
    {
      "cell_type": "code",
      "metadata": {
        "id": "ZvwjOqrfDzYn",
        "colab_type": "code",
        "colab": {
          "base_uri": "https://localhost:8080/",
          "height": 507
        },
        "outputId": "5b61b910-c931-4942-e927-c73b9656a451"
      },
      "source": [
        "# load the dataset into a dataframe\n",
        "for c in char_range('b', 'i'):\n",
        "  d = pd.read_csv(url_prefix + c + url_suffix, delimiter=' ', index_col=False, names=header)\n",
        "  df = df.append(d, ignore_index=True)\n",
        "df"
      ],
      "execution_count": 105,
      "outputs": [
        {
          "output_type": "execute_result",
          "data": {
            "text/html": [
              "<div>\n",
              "<style scoped>\n",
              "    .dataframe tbody tr th:only-of-type {\n",
              "        vertical-align: middle;\n",
              "    }\n",
              "\n",
              "    .dataframe tbody tr th {\n",
              "        vertical-align: top;\n",
              "    }\n",
              "\n",
              "    .dataframe thead th {\n",
              "        text-align: right;\n",
              "    }\n",
              "</style>\n",
              "<table border=\"1\" class=\"dataframe\">\n",
              "  <thead>\n",
              "    <tr style=\"text-align: right;\">\n",
              "      <th></th>\n",
              "      <th>compactness</th>\n",
              "      <th>circularity</th>\n",
              "      <th>distance circularity</th>\n",
              "      <th>radius ratio</th>\n",
              "      <th>pr axis aspect ratio</th>\n",
              "      <th>max length aspect ratio</th>\n",
              "      <th>scatter ratio</th>\n",
              "      <th>elongatedness</th>\n",
              "      <th>pr axis rectangularity</th>\n",
              "      <th>max length rectangularity</th>\n",
              "      <th>scaled variance along major axis</th>\n",
              "      <th>scaled variance along minor axis</th>\n",
              "      <th>scaled radius of gyration</th>\n",
              "      <th>skewness about major axis</th>\n",
              "      <th>skewness about minor axis</th>\n",
              "      <th>kurtosis about minor axis</th>\n",
              "      <th>kurtosis about major axis</th>\n",
              "      <th>hollows ratio</th>\n",
              "      <th>vehicle</th>\n",
              "    </tr>\n",
              "  </thead>\n",
              "  <tbody>\n",
              "    <tr>\n",
              "      <th>0</th>\n",
              "      <td>95</td>\n",
              "      <td>48</td>\n",
              "      <td>83</td>\n",
              "      <td>178</td>\n",
              "      <td>72</td>\n",
              "      <td>10</td>\n",
              "      <td>162</td>\n",
              "      <td>42</td>\n",
              "      <td>20</td>\n",
              "      <td>159</td>\n",
              "      <td>176</td>\n",
              "      <td>379</td>\n",
              "      <td>184</td>\n",
              "      <td>70</td>\n",
              "      <td>6</td>\n",
              "      <td>16</td>\n",
              "      <td>187</td>\n",
              "      <td>197</td>\n",
              "      <td>van</td>\n",
              "    </tr>\n",
              "    <tr>\n",
              "      <th>1</th>\n",
              "      <td>91</td>\n",
              "      <td>41</td>\n",
              "      <td>84</td>\n",
              "      <td>141</td>\n",
              "      <td>57</td>\n",
              "      <td>9</td>\n",
              "      <td>149</td>\n",
              "      <td>45</td>\n",
              "      <td>19</td>\n",
              "      <td>143</td>\n",
              "      <td>170</td>\n",
              "      <td>330</td>\n",
              "      <td>158</td>\n",
              "      <td>72</td>\n",
              "      <td>9</td>\n",
              "      <td>14</td>\n",
              "      <td>189</td>\n",
              "      <td>199</td>\n",
              "      <td>van</td>\n",
              "    </tr>\n",
              "    <tr>\n",
              "      <th>2</th>\n",
              "      <td>104</td>\n",
              "      <td>50</td>\n",
              "      <td>106</td>\n",
              "      <td>209</td>\n",
              "      <td>66</td>\n",
              "      <td>10</td>\n",
              "      <td>207</td>\n",
              "      <td>32</td>\n",
              "      <td>23</td>\n",
              "      <td>158</td>\n",
              "      <td>223</td>\n",
              "      <td>635</td>\n",
              "      <td>220</td>\n",
              "      <td>73</td>\n",
              "      <td>14</td>\n",
              "      <td>9</td>\n",
              "      <td>188</td>\n",
              "      <td>196</td>\n",
              "      <td>saab</td>\n",
              "    </tr>\n",
              "    <tr>\n",
              "      <th>3</th>\n",
              "      <td>93</td>\n",
              "      <td>41</td>\n",
              "      <td>82</td>\n",
              "      <td>159</td>\n",
              "      <td>63</td>\n",
              "      <td>9</td>\n",
              "      <td>144</td>\n",
              "      <td>46</td>\n",
              "      <td>19</td>\n",
              "      <td>143</td>\n",
              "      <td>160</td>\n",
              "      <td>309</td>\n",
              "      <td>127</td>\n",
              "      <td>63</td>\n",
              "      <td>6</td>\n",
              "      <td>10</td>\n",
              "      <td>199</td>\n",
              "      <td>207</td>\n",
              "      <td>van</td>\n",
              "    </tr>\n",
              "    <tr>\n",
              "      <th>4</th>\n",
              "      <td>85</td>\n",
              "      <td>44</td>\n",
              "      <td>70</td>\n",
              "      <td>205</td>\n",
              "      <td>103</td>\n",
              "      <td>52</td>\n",
              "      <td>149</td>\n",
              "      <td>45</td>\n",
              "      <td>19</td>\n",
              "      <td>144</td>\n",
              "      <td>241</td>\n",
              "      <td>325</td>\n",
              "      <td>188</td>\n",
              "      <td>127</td>\n",
              "      <td>9</td>\n",
              "      <td>11</td>\n",
              "      <td>180</td>\n",
              "      <td>183</td>\n",
              "      <td>bus</td>\n",
              "    </tr>\n",
              "    <tr>\n",
              "      <th>...</th>\n",
              "      <td>...</td>\n",
              "      <td>...</td>\n",
              "      <td>...</td>\n",
              "      <td>...</td>\n",
              "      <td>...</td>\n",
              "      <td>...</td>\n",
              "      <td>...</td>\n",
              "      <td>...</td>\n",
              "      <td>...</td>\n",
              "      <td>...</td>\n",
              "      <td>...</td>\n",
              "      <td>...</td>\n",
              "      <td>...</td>\n",
              "      <td>...</td>\n",
              "      <td>...</td>\n",
              "      <td>...</td>\n",
              "      <td>...</td>\n",
              "      <td>...</td>\n",
              "      <td>...</td>\n",
              "    </tr>\n",
              "    <tr>\n",
              "      <th>841</th>\n",
              "      <td>93</td>\n",
              "      <td>39</td>\n",
              "      <td>87</td>\n",
              "      <td>183</td>\n",
              "      <td>64</td>\n",
              "      <td>8</td>\n",
              "      <td>169</td>\n",
              "      <td>40</td>\n",
              "      <td>20</td>\n",
              "      <td>134</td>\n",
              "      <td>200</td>\n",
              "      <td>422</td>\n",
              "      <td>149</td>\n",
              "      <td>72</td>\n",
              "      <td>7</td>\n",
              "      <td>25</td>\n",
              "      <td>188</td>\n",
              "      <td>195</td>\n",
              "      <td>saab</td>\n",
              "    </tr>\n",
              "    <tr>\n",
              "      <th>842</th>\n",
              "      <td>89</td>\n",
              "      <td>46</td>\n",
              "      <td>84</td>\n",
              "      <td>163</td>\n",
              "      <td>66</td>\n",
              "      <td>11</td>\n",
              "      <td>159</td>\n",
              "      <td>43</td>\n",
              "      <td>20</td>\n",
              "      <td>159</td>\n",
              "      <td>173</td>\n",
              "      <td>368</td>\n",
              "      <td>176</td>\n",
              "      <td>72</td>\n",
              "      <td>1</td>\n",
              "      <td>20</td>\n",
              "      <td>186</td>\n",
              "      <td>197</td>\n",
              "      <td>van</td>\n",
              "    </tr>\n",
              "    <tr>\n",
              "      <th>843</th>\n",
              "      <td>106</td>\n",
              "      <td>54</td>\n",
              "      <td>101</td>\n",
              "      <td>222</td>\n",
              "      <td>67</td>\n",
              "      <td>12</td>\n",
              "      <td>222</td>\n",
              "      <td>30</td>\n",
              "      <td>25</td>\n",
              "      <td>173</td>\n",
              "      <td>228</td>\n",
              "      <td>721</td>\n",
              "      <td>200</td>\n",
              "      <td>70</td>\n",
              "      <td>3</td>\n",
              "      <td>4</td>\n",
              "      <td>187</td>\n",
              "      <td>201</td>\n",
              "      <td>saab</td>\n",
              "    </tr>\n",
              "    <tr>\n",
              "      <th>844</th>\n",
              "      <td>86</td>\n",
              "      <td>36</td>\n",
              "      <td>78</td>\n",
              "      <td>146</td>\n",
              "      <td>58</td>\n",
              "      <td>7</td>\n",
              "      <td>135</td>\n",
              "      <td>50</td>\n",
              "      <td>18</td>\n",
              "      <td>124</td>\n",
              "      <td>155</td>\n",
              "      <td>270</td>\n",
              "      <td>148</td>\n",
              "      <td>66</td>\n",
              "      <td>0</td>\n",
              "      <td>25</td>\n",
              "      <td>190</td>\n",
              "      <td>195</td>\n",
              "      <td>saab</td>\n",
              "    </tr>\n",
              "    <tr>\n",
              "      <th>845</th>\n",
              "      <td>85</td>\n",
              "      <td>36</td>\n",
              "      <td>66</td>\n",
              "      <td>123</td>\n",
              "      <td>55</td>\n",
              "      <td>5</td>\n",
              "      <td>120</td>\n",
              "      <td>56</td>\n",
              "      <td>17</td>\n",
              "      <td>128</td>\n",
              "      <td>140</td>\n",
              "      <td>212</td>\n",
              "      <td>131</td>\n",
              "      <td>73</td>\n",
              "      <td>1</td>\n",
              "      <td>18</td>\n",
              "      <td>186</td>\n",
              "      <td>190</td>\n",
              "      <td>van</td>\n",
              "    </tr>\n",
              "  </tbody>\n",
              "</table>\n",
              "<p>846 rows × 19 columns</p>\n",
              "</div>"
            ],
            "text/plain": [
              "     compactness  circularity  ...  hollows ratio  vehicle\n",
              "0             95           48  ...            197      van\n",
              "1             91           41  ...            199      van\n",
              "2            104           50  ...            196     saab\n",
              "3             93           41  ...            207      van\n",
              "4             85           44  ...            183      bus\n",
              "..           ...          ...  ...            ...      ...\n",
              "841           93           39  ...            195     saab\n",
              "842           89           46  ...            197      van\n",
              "843          106           54  ...            201     saab\n",
              "844           86           36  ...            195     saab\n",
              "845           85           36  ...            190      van\n",
              "\n",
              "[846 rows x 19 columns]"
            ]
          },
          "metadata": {
            "tags": []
          },
          "execution_count": 105
        }
      ]
    },
    {
      "cell_type": "markdown",
      "metadata": {
        "id": "EGJb_ngPaDIO",
        "colab_type": "text"
      },
      "source": [
        "##### 1.3 Describe your data"
      ]
    },
    {
      "cell_type": "code",
      "metadata": {
        "id": "o9uvT_ATTKWX",
        "colab_type": "code",
        "colab": {
          "base_uri": "https://localhost:8080/",
          "height": 385
        },
        "outputId": "3a7a8af1-e67a-400d-8564-a7e4165db717"
      },
      "source": [
        "# describe the dataset\n",
        "df.describe()"
      ],
      "execution_count": 106,
      "outputs": [
        {
          "output_type": "execute_result",
          "data": {
            "text/html": [
              "<div>\n",
              "<style scoped>\n",
              "    .dataframe tbody tr th:only-of-type {\n",
              "        vertical-align: middle;\n",
              "    }\n",
              "\n",
              "    .dataframe tbody tr th {\n",
              "        vertical-align: top;\n",
              "    }\n",
              "\n",
              "    .dataframe thead th {\n",
              "        text-align: right;\n",
              "    }\n",
              "</style>\n",
              "<table border=\"1\" class=\"dataframe\">\n",
              "  <thead>\n",
              "    <tr style=\"text-align: right;\">\n",
              "      <th></th>\n",
              "      <th>compactness</th>\n",
              "      <th>circularity</th>\n",
              "      <th>distance circularity</th>\n",
              "      <th>radius ratio</th>\n",
              "      <th>pr axis aspect ratio</th>\n",
              "      <th>max length aspect ratio</th>\n",
              "      <th>scatter ratio</th>\n",
              "      <th>elongatedness</th>\n",
              "      <th>pr axis rectangularity</th>\n",
              "      <th>max length rectangularity</th>\n",
              "      <th>scaled variance along major axis</th>\n",
              "      <th>scaled variance along minor axis</th>\n",
              "      <th>scaled radius of gyration</th>\n",
              "      <th>skewness about major axis</th>\n",
              "      <th>skewness about minor axis</th>\n",
              "      <th>kurtosis about minor axis</th>\n",
              "      <th>kurtosis about major axis</th>\n",
              "      <th>hollows ratio</th>\n",
              "    </tr>\n",
              "  </thead>\n",
              "  <tbody>\n",
              "    <tr>\n",
              "      <th>count</th>\n",
              "      <td>846.000000</td>\n",
              "      <td>846.000000</td>\n",
              "      <td>846.000000</td>\n",
              "      <td>846.000000</td>\n",
              "      <td>846.000000</td>\n",
              "      <td>846.000000</td>\n",
              "      <td>846.000000</td>\n",
              "      <td>846.000000</td>\n",
              "      <td>846.000000</td>\n",
              "      <td>846.000000</td>\n",
              "      <td>846.000000</td>\n",
              "      <td>846.000000</td>\n",
              "      <td>846.00000</td>\n",
              "      <td>846.000000</td>\n",
              "      <td>846.000000</td>\n",
              "      <td>846.000000</td>\n",
              "      <td>846.000000</td>\n",
              "      <td>846.000000</td>\n",
              "    </tr>\n",
              "    <tr>\n",
              "      <th>mean</th>\n",
              "      <td>93.678487</td>\n",
              "      <td>44.861702</td>\n",
              "      <td>82.088652</td>\n",
              "      <td>168.940898</td>\n",
              "      <td>61.693853</td>\n",
              "      <td>8.567376</td>\n",
              "      <td>168.839243</td>\n",
              "      <td>40.933806</td>\n",
              "      <td>20.582742</td>\n",
              "      <td>147.998818</td>\n",
              "      <td>188.625296</td>\n",
              "      <td>439.911348</td>\n",
              "      <td>174.70331</td>\n",
              "      <td>72.462175</td>\n",
              "      <td>6.377069</td>\n",
              "      <td>12.599291</td>\n",
              "      <td>188.932624</td>\n",
              "      <td>195.632388</td>\n",
              "    </tr>\n",
              "    <tr>\n",
              "      <th>std</th>\n",
              "      <td>8.234474</td>\n",
              "      <td>6.169866</td>\n",
              "      <td>15.771533</td>\n",
              "      <td>33.472183</td>\n",
              "      <td>7.888251</td>\n",
              "      <td>4.601217</td>\n",
              "      <td>33.244978</td>\n",
              "      <td>7.811560</td>\n",
              "      <td>2.592138</td>\n",
              "      <td>14.515652</td>\n",
              "      <td>31.394837</td>\n",
              "      <td>176.692614</td>\n",
              "      <td>32.54649</td>\n",
              "      <td>7.486974</td>\n",
              "      <td>4.918353</td>\n",
              "      <td>8.931240</td>\n",
              "      <td>6.163949</td>\n",
              "      <td>7.438797</td>\n",
              "    </tr>\n",
              "    <tr>\n",
              "      <th>min</th>\n",
              "      <td>73.000000</td>\n",
              "      <td>33.000000</td>\n",
              "      <td>40.000000</td>\n",
              "      <td>104.000000</td>\n",
              "      <td>47.000000</td>\n",
              "      <td>2.000000</td>\n",
              "      <td>112.000000</td>\n",
              "      <td>26.000000</td>\n",
              "      <td>17.000000</td>\n",
              "      <td>118.000000</td>\n",
              "      <td>130.000000</td>\n",
              "      <td>184.000000</td>\n",
              "      <td>109.00000</td>\n",
              "      <td>59.000000</td>\n",
              "      <td>0.000000</td>\n",
              "      <td>0.000000</td>\n",
              "      <td>176.000000</td>\n",
              "      <td>181.000000</td>\n",
              "    </tr>\n",
              "    <tr>\n",
              "      <th>25%</th>\n",
              "      <td>87.000000</td>\n",
              "      <td>40.000000</td>\n",
              "      <td>70.000000</td>\n",
              "      <td>141.000000</td>\n",
              "      <td>57.000000</td>\n",
              "      <td>7.000000</td>\n",
              "      <td>146.250000</td>\n",
              "      <td>33.000000</td>\n",
              "      <td>19.000000</td>\n",
              "      <td>137.000000</td>\n",
              "      <td>167.000000</td>\n",
              "      <td>318.250000</td>\n",
              "      <td>149.00000</td>\n",
              "      <td>67.000000</td>\n",
              "      <td>2.000000</td>\n",
              "      <td>5.000000</td>\n",
              "      <td>184.000000</td>\n",
              "      <td>190.250000</td>\n",
              "    </tr>\n",
              "    <tr>\n",
              "      <th>50%</th>\n",
              "      <td>93.000000</td>\n",
              "      <td>44.000000</td>\n",
              "      <td>80.000000</td>\n",
              "      <td>167.000000</td>\n",
              "      <td>61.000000</td>\n",
              "      <td>8.000000</td>\n",
              "      <td>157.000000</td>\n",
              "      <td>43.000000</td>\n",
              "      <td>20.000000</td>\n",
              "      <td>146.000000</td>\n",
              "      <td>178.500000</td>\n",
              "      <td>364.000000</td>\n",
              "      <td>173.00000</td>\n",
              "      <td>71.500000</td>\n",
              "      <td>6.000000</td>\n",
              "      <td>11.000000</td>\n",
              "      <td>188.000000</td>\n",
              "      <td>197.000000</td>\n",
              "    </tr>\n",
              "    <tr>\n",
              "      <th>75%</th>\n",
              "      <td>100.000000</td>\n",
              "      <td>49.000000</td>\n",
              "      <td>98.000000</td>\n",
              "      <td>195.000000</td>\n",
              "      <td>65.000000</td>\n",
              "      <td>10.000000</td>\n",
              "      <td>198.000000</td>\n",
              "      <td>46.000000</td>\n",
              "      <td>23.000000</td>\n",
              "      <td>159.000000</td>\n",
              "      <td>217.000000</td>\n",
              "      <td>587.000000</td>\n",
              "      <td>198.00000</td>\n",
              "      <td>75.000000</td>\n",
              "      <td>9.000000</td>\n",
              "      <td>19.000000</td>\n",
              "      <td>193.000000</td>\n",
              "      <td>201.000000</td>\n",
              "    </tr>\n",
              "    <tr>\n",
              "      <th>max</th>\n",
              "      <td>119.000000</td>\n",
              "      <td>59.000000</td>\n",
              "      <td>112.000000</td>\n",
              "      <td>333.000000</td>\n",
              "      <td>138.000000</td>\n",
              "      <td>55.000000</td>\n",
              "      <td>265.000000</td>\n",
              "      <td>61.000000</td>\n",
              "      <td>29.000000</td>\n",
              "      <td>188.000000</td>\n",
              "      <td>320.000000</td>\n",
              "      <td>1018.000000</td>\n",
              "      <td>268.00000</td>\n",
              "      <td>135.000000</td>\n",
              "      <td>22.000000</td>\n",
              "      <td>41.000000</td>\n",
              "      <td>206.000000</td>\n",
              "      <td>211.000000</td>\n",
              "    </tr>\n",
              "  </tbody>\n",
              "</table>\n",
              "</div>"
            ],
            "text/plain": [
              "       compactness  circularity  ...  kurtosis about major axis  hollows ratio\n",
              "count   846.000000   846.000000  ...                 846.000000     846.000000\n",
              "mean     93.678487    44.861702  ...                 188.932624     195.632388\n",
              "std       8.234474     6.169866  ...                   6.163949       7.438797\n",
              "min      73.000000    33.000000  ...                 176.000000     181.000000\n",
              "25%      87.000000    40.000000  ...                 184.000000     190.250000\n",
              "50%      93.000000    44.000000  ...                 188.000000     197.000000\n",
              "75%     100.000000    49.000000  ...                 193.000000     201.000000\n",
              "max     119.000000    59.000000  ...                 206.000000     211.000000\n",
              "\n",
              "[8 rows x 18 columns]"
            ]
          },
          "metadata": {
            "tags": []
          },
          "execution_count": 106
        }
      ]
    },
    {
      "cell_type": "markdown",
      "metadata": {
        "id": "Z5bYkspXaH81",
        "colab_type": "text"
      },
      "source": [
        "Self Check\n",
        "> There are 846 records."
      ]
    },
    {
      "cell_type": "markdown",
      "metadata": {
        "id": "TgMD-ogFlyEo",
        "colab_type": "text"
      },
      "source": [
        "*** \n",
        "# Exercise #3 - Train a Support Vector Machine\n",
        "*** "
      ]
    },
    {
      "cell_type": "markdown",
      "metadata": {
        "id": "WUQz9nYbaWu_",
        "colab_type": "text"
      },
      "source": [
        "##### 2.1 Split `X` and `y`"
      ]
    },
    {
      "cell_type": "code",
      "metadata": {
        "id": "4mzqNU3unRIF",
        "colab_type": "code",
        "colab": {}
      },
      "source": [
        "# split to X and y\n",
        "X = df.iloc[:, :-1].values\n",
        "y = df.iloc[:, -1].values"
      ],
      "execution_count": 0,
      "outputs": []
    },
    {
      "cell_type": "markdown",
      "metadata": {
        "id": "s0iN7dwEabrP",
        "colab_type": "text"
      },
      "source": [
        "##### 2.2 Partition to train and test sets"
      ]
    },
    {
      "cell_type": "markdown",
      "metadata": {
        "id": "0lSmjj_Lapc4",
        "colab_type": "text"
      },
      "source": [
        "* test proportion of 20%\n",
        "* `random_state=1`\n",
        "* stratify by `y`"
      ]
    },
    {
      "cell_type": "code",
      "metadata": {
        "id": "Yr0lT72GnMw_",
        "colab_type": "code",
        "colab": {}
      },
      "source": [
        "# partition to train and test sets\n",
        "X_train, X_test, y_train, y_test = train_test_split(\n",
        "    X, y, test_size=0.2, random_state=1, stratify=y)"
      ],
      "execution_count": 0,
      "outputs": []
    },
    {
      "cell_type": "markdown",
      "metadata": {
        "id": "Gd_asadqbEY-",
        "colab_type": "text"
      },
      "source": [
        "2.3 Print the shapes of your four sets"
      ]
    },
    {
      "cell_type": "code",
      "metadata": {
        "id": "Y693e3JBn3Ao",
        "colab_type": "code",
        "outputId": "715f7d10-445d-494a-df31-e2d12b73a555",
        "colab": {
          "base_uri": "https://localhost:8080/",
          "height": 34
        }
      },
      "source": [
        "# print shapes of train and test\n",
        "print(X_test.shape, X_train.shape, y_test.shape, y_test.shape)"
      ],
      "execution_count": 109,
      "outputs": [
        {
          "output_type": "stream",
          "text": [
            "(170, 18) (676, 18) (170,) (170,)\n"
          ],
          "name": "stdout"
        }
      ]
    },
    {
      "cell_type": "markdown",
      "metadata": {
        "id": "wDMGdF1wbdug",
        "colab_type": "text"
      },
      "source": [
        "Self Check"
      ]
    },
    {
      "cell_type": "code",
      "metadata": {
        "id": "aVDeDG-Qbe4a",
        "colab_type": "code",
        "colab": {}
      },
      "source": [
        "assert len(y_train)==676 and len(y_test)==170"
      ],
      "execution_count": 0,
      "outputs": []
    },
    {
      "cell_type": "markdown",
      "metadata": {
        "id": "dXD5Sv9xcFWZ",
        "colab_type": "text"
      },
      "source": [
        "2.4 Create the pipeline "
      ]
    },
    {
      "cell_type": "markdown",
      "metadata": {
        "id": "KERI-4zKcO1z",
        "colab_type": "text"
      },
      "source": [
        "* Name it `pipe_svm`\n",
        "* Standardize\n",
        "* Support Vector Machine: [SVC](https://scikit-learn.org/stable/modules/generated/sklearn.svm.SVC.html) \n",
        "  * with `random_state=1`\n",
        "  * with `kernel='linear'`"
      ]
    },
    {
      "cell_type": "code",
      "metadata": {
        "id": "jdVwPuQ5m1uz",
        "colab_type": "code",
        "colab": {
          "base_uri": "https://localhost:8080/",
          "height": 187
        },
        "outputId": "b767be52-449e-4c8a-8094-fefd02f737c3"
      },
      "source": [
        "# make an SVM pipeline\n",
        "pipe_svm = make_pipeline(StandardScaler(), SVC(random_state=1, kernel='linear'))\n",
        "pipe_svm"
      ],
      "execution_count": 111,
      "outputs": [
        {
          "output_type": "execute_result",
          "data": {
            "text/plain": [
              "Pipeline(memory=None,\n",
              "         steps=[('standardscaler',\n",
              "                 StandardScaler(copy=True, with_mean=True, with_std=True)),\n",
              "                ('svc',\n",
              "                 SVC(C=1.0, break_ties=False, cache_size=200, class_weight=None,\n",
              "                     coef0=0.0, decision_function_shape='ovr', degree=3,\n",
              "                     gamma='scale', kernel='linear', max_iter=-1,\n",
              "                     probability=False, random_state=1, shrinking=True,\n",
              "                     tol=0.001, verbose=False))],\n",
              "         verbose=False)"
            ]
          },
          "metadata": {
            "tags": []
          },
          "execution_count": 111
        }
      ]
    },
    {
      "cell_type": "markdown",
      "metadata": {
        "id": "5iQqRVdgb0Ao",
        "colab_type": "text"
      },
      "source": [
        "##### 2.5 Fit your `pipe_svm` with training data"
      ]
    },
    {
      "cell_type": "code",
      "metadata": {
        "id": "oBqD0Inaa7Xj",
        "colab_type": "code",
        "colab": {
          "base_uri": "https://localhost:8080/",
          "height": 187
        },
        "outputId": "482896c1-3e76-4039-813d-d238efb25c4a"
      },
      "source": [
        "# train the pipeline\n",
        "pipe_svm.fit(X_train, y_train)"
      ],
      "execution_count": 112,
      "outputs": [
        {
          "output_type": "execute_result",
          "data": {
            "text/plain": [
              "Pipeline(memory=None,\n",
              "         steps=[('standardscaler',\n",
              "                 StandardScaler(copy=True, with_mean=True, with_std=True)),\n",
              "                ('svc',\n",
              "                 SVC(C=1.0, break_ties=False, cache_size=200, class_weight=None,\n",
              "                     coef0=0.0, decision_function_shape='ovr', degree=3,\n",
              "                     gamma='scale', kernel='linear', max_iter=-1,\n",
              "                     probability=False, random_state=1, shrinking=True,\n",
              "                     tol=0.001, verbose=False))],\n",
              "         verbose=False)"
            ]
          },
          "metadata": {
            "tags": []
          },
          "execution_count": 112
        }
      ]
    },
    {
      "cell_type": "markdown",
      "metadata": {
        "id": "adYdSj9Ucyi7",
        "colab_type": "text"
      },
      "source": [
        "###### Self Check\n"
      ]
    },
    {
      "cell_type": "markdown",
      "metadata": {
        "id": "kphAWd3zc6mE",
        "colab_type": "text"
      },
      "source": [
        "```\n",
        "Pipeline(memory=None,\n",
        "         steps=[('standardscaler',\n",
        "                 StandardScaler(copy=True, with_mean=True, with_std=True)),\n",
        "                ('svc',\n",
        "                 SVC(C=1.0, break_ties=False, cache_size=200, class_weight=None,\n",
        "                     coef0=0.0, decision_function_shape='ovr', degree=3,\n",
        "                     gamma='scale', kernel='linear', max_iter=-1,\n",
        "                     probability=False, random_state=1, shrinking=True,\n",
        "                     tol=0.001, verbose=False))],\n",
        "         verbose=False)\n",
        "```"
      ]
    },
    {
      "cell_type": "markdown",
      "metadata": {
        "id": "iBgSZSsZekZF",
        "colab_type": "text"
      },
      "source": [
        "*** \n",
        "# Exercise #3 - Test the model\n",
        "*** "
      ]
    },
    {
      "cell_type": "markdown",
      "metadata": {
        "id": "4Yl1QBpqevHx",
        "colab_type": "text"
      },
      "source": [
        "##### 3.1 Predict the test set and save predictions as `y_pred`"
      ]
    },
    {
      "cell_type": "code",
      "metadata": {
        "id": "73hIXGuFb7lu",
        "colab_type": "code",
        "colab": {
          "base_uri": "https://localhost:8080/",
          "height": 357
        },
        "outputId": "4e309353-3935-4cf1-e57d-86aeef41c765"
      },
      "source": [
        "# predict the test set and save as y_pred\n",
        "y_pred = pipe_svm.predict(X_test)\n",
        "y_pred"
      ],
      "execution_count": 115,
      "outputs": [
        {
          "output_type": "execute_result",
          "data": {
            "text/plain": [
              "array(['van', 'van', 'saab', 'van', 'opel', 'opel', 'van', 'van', 'bus',\n",
              "       'opel', 'van', 'van', 'opel', 'saab', 'opel', 'bus', 'van', 'saab',\n",
              "       'saab', 'opel', 'opel', 'saab', 'saab', 'bus', 'saab', 'bus',\n",
              "       'opel', 'van', 'saab', 'van', 'van', 'bus', 'opel', 'opel', 'saab',\n",
              "       'van', 'opel', 'opel', 'opel', 'opel', 'saab', 'bus', 'saab',\n",
              "       'van', 'bus', 'saab', 'saab', 'van', 'van', 'saab', 'saab', 'van',\n",
              "       'bus', 'opel', 'opel', 'bus', 'saab', 'opel', 'van', 'bus', 'van',\n",
              "       'opel', 'van', 'saab', 'saab', 'bus', 'van', 'opel', 'bus', 'saab',\n",
              "       'van', 'bus', 'bus', 'opel', 'bus', 'van', 'bus', 'opel', 'saab',\n",
              "       'bus', 'van', 'opel', 'van', 'opel', 'saab', 'van', 'opel', 'opel',\n",
              "       'van', 'opel', 'bus', 'van', 'van', 'bus', 'van', 'bus', 'opel',\n",
              "       'bus', 'bus', 'saab', 'opel', 'opel', 'van', 'opel', 'opel', 'bus',\n",
              "       'saab', 'van', 'van', 'saab', 'saab', 'bus', 'van', 'saab', 'opel',\n",
              "       'saab', 'van', 'van', 'opel', 'bus', 'saab', 'van', 'opel', 'van',\n",
              "       'opel', 'opel', 'bus', 'van', 'bus', 'opel', 'bus', 'opel', 'opel',\n",
              "       'bus', 'bus', 'saab', 'bus', 'opel', 'saab', 'bus', 'opel', 'saab',\n",
              "       'saab', 'bus', 'bus', 'saab', 'van', 'opel', 'bus', 'van', 'saab',\n",
              "       'opel', 'bus', 'van', 'opel', 'bus', 'saab', 'bus', 'bus', 'opel',\n",
              "       'van', 'opel', 'van', 'bus', 'saab', 'van', 'bus', 'bus', 'bus',\n",
              "       'van'], dtype=object)"
            ]
          },
          "metadata": {
            "tags": []
          },
          "execution_count": 115
        }
      ]
    },
    {
      "cell_type": "markdown",
      "metadata": {
        "colab_type": "text",
        "id": "1GjrdMhpmC6L"
      },
      "source": [
        "##### 3.2 From `y_pred`, count the number of predictions for each vehicle class "
      ]
    },
    {
      "cell_type": "code",
      "metadata": {
        "id": "bkLmU9TOm9dm",
        "colab_type": "code",
        "colab": {
          "base_uri": "https://localhost:8080/",
          "height": 85
        },
        "outputId": "dce8973c-4d70-489b-c42d-6dcb3affd273"
      },
      "source": [
        "# count the number of predictions by class\n",
        "(unique, counts) = np.unique(y_pred, return_counts=True)\n",
        "frequencies = np.asarray((unique, counts)).T\n",
        "print(frequencies)"
      ],
      "execution_count": 122,
      "outputs": [
        {
          "output_type": "stream",
          "text": [
            "[['bus' 43]\n",
            " ['opel' 46]\n",
            " ['saab' 36]\n",
            " ['van' 45]]\n"
          ],
          "name": "stdout"
        }
      ]
    },
    {
      "cell_type": "markdown",
      "metadata": {
        "id": "IXzx35Tpf85B",
        "colab_type": "text"
      },
      "source": [
        "##### 3.3 Calculate the test accuracy"
      ]
    },
    {
      "cell_type": "markdown",
      "metadata": {
        "id": "-VIjWey-juIC",
        "colab_type": "text"
      },
      "source": [
        "> Format your numbers nicely (e.g., 3 digits after the `.`).  \n",
        "> We're not peasants. "
      ]
    },
    {
      "cell_type": "code",
      "metadata": {
        "id": "n_Jpwpd_oJtb",
        "colab_type": "code",
        "colab": {
          "base_uri": "https://localhost:8080/",
          "height": 34
        },
        "outputId": "a9330ea2-e10a-470c-a7f8-0c6b375522aa"
      },
      "source": [
        "# print the accuracy score\n",
        "# print('Test Accuracy: %.3f' % pipe_svm.score(X_test, y_test))\n",
        "accuracy_score(y_test, y_pred)"
      ],
      "execution_count": 158,
      "outputs": [
        {
          "output_type": "execute_result",
          "data": {
            "text/plain": [
              "0.8235294117647058"
            ]
          },
          "metadata": {
            "tags": []
          },
          "execution_count": 158
        }
      ]
    },
    {
      "cell_type": "markdown",
      "metadata": {
        "id": "lz6jjKdWohUo",
        "colab_type": "text"
      },
      "source": [
        "Self Check"
      ]
    },
    {
      "cell_type": "code",
      "metadata": {
        "id": "UXkTwIFsoirE",
        "colab_type": "code",
        "colab": {}
      },
      "source": [
        "assert abs(accuracy_score(y_train, pipe_svm.predict(X_train)) - 0.8254437869822485) < 0.001"
      ],
      "execution_count": 0,
      "outputs": []
    },
    {
      "cell_type": "markdown",
      "metadata": {
        "id": "o1xUoeTjkVm5",
        "colab_type": "text"
      },
      "source": [
        "##### 3.4 Calculate the precison, recall, and F$_1$ score"
      ]
    },
    {
      "cell_type": "markdown",
      "metadata": {
        "id": "CeGo9Td4kgYI",
        "colab_type": "text"
      },
      "source": [
        "* Use `average='weighted'` as the multi-class strategy"
      ]
    },
    {
      "cell_type": "code",
      "metadata": {
        "id": "llRJ_d0ykO0f",
        "colab_type": "code",
        "colab": {
          "base_uri": "https://localhost:8080/",
          "height": 68
        },
        "outputId": "4b9cebdb-9d13-4dd9-b108-1010df5aa8eb"
      },
      "source": [
        "# precision tp / (tp + fp)\n",
        "# recall: tp / (tp + fn)\n",
        "# f1: 2 tp / (2 tp + fp + fn)\n",
        "print('precision: ', precision_score(y_test, y_pred, average='weighted'))\n",
        "print('recall: ', recall_score(y_test, y_pred, average='weighted'))\n",
        "print('f1: ', f1_score(y_test, y_pred, average='weighted'))"
      ],
      "execution_count": 142,
      "outputs": [
        {
          "output_type": "stream",
          "text": [
            "precision:  0.8255576042348183\n",
            "recall:  0.8235294117647058\n",
            "f1:  0.8214981578100539\n"
          ],
          "name": "stdout"
        }
      ]
    },
    {
      "cell_type": "markdown",
      "metadata": {
        "id": "5nNGYUZ5j97s",
        "colab_type": "text"
      },
      "source": [
        "##### 3.5 Graph the confusion matrix"
      ]
    },
    {
      "cell_type": "code",
      "metadata": {
        "id": "nJzBlPsFoSCf",
        "colab_type": "code",
        "colab": {
          "base_uri": "https://localhost:8080/",
          "height": 189
        },
        "outputId": "4f2e39b1-86ad-48c5-f2eb-656ba7a23614"
      },
      "source": [
        "# graph a confusion matrix\n",
        "fig, ax = plt.subplots(figsize=(2.5, 2.5))\n",
        "ax.matshow(confmat, cmap=plt.cm.Blues, alpha=0.3)\n",
        "for i in range(confmat.shape[0]):\n",
        "    for j in range(confmat.shape[1]):\n",
        "        ax.text(x=j, y=i, s=confmat[i, j], va='center', ha='center')\n",
        "\n",
        "plt.xlabel('Predicted label')\n",
        "plt.ylabel('True label')\n",
        "\n",
        "plt.tight_layout()\n",
        "plt.show()"
      ],
      "execution_count": 143,
      "outputs": [
        {
          "output_type": "display_data",
          "data": {
            "image/png": "[encoded data removed]",
            "text/plain": [
              "<Figure size 180x180 with 1 Axes>"
            ]
          },
          "metadata": {
            "tags": [],
            "needs_background": "light"
          }
        }
      ]
    },
    {
      "cell_type": "markdown",
      "metadata": {
        "id": "TFfA5TFkn9qR",
        "colab_type": "text"
      },
      "source": [
        "*** \n",
        "# Exercise #4 - Parameter Grid Search\n",
        "*** "
      ]
    },
    {
      "cell_type": "markdown",
      "metadata": {
        "colab_type": "text",
        "id": "uyylARqLmDoS"
      },
      "source": [
        "> Use the code for `GridSearchCV` from `Lecture 05`"
      ]
    },
    {
      "cell_type": "markdown",
      "metadata": {
        "id": "eNTCa14Qsiew",
        "colab_type": "text"
      },
      "source": [
        "##### 4.1 Search SVM parameters for best model"
      ]
    },
    {
      "cell_type": "markdown",
      "metadata": {
        "id": "6ZUXol5onSF-",
        "colab_type": "text"
      },
      "source": [
        "`GridSearchCV` with\n",
        "* `refit=True`\n",
        "* `cv=10`\n",
        "* `n_jobs=-1`\n",
        "* `scoring='accuracy'`\n",
        "\n",
        "* `param_range = [0.0001, 0.001, 0.01, 0.1, 1.0, 10.0, 100.0, 1000.0]`\n",
        "\n",
        "* ```\n",
        "param_grid = [{'svc__C': param_range, \n",
        "               'svc__kernel': ['linear']},\n",
        "              {'svc__C': param_range, \n",
        "               'svc__gamma': param_range, \n",
        "               'svc__kernel': ['rbf']}]\n",
        "```"
      ]
    },
    {
      "cell_type": "code",
      "metadata": {
        "id": "a7OppgNXoy9c",
        "colab_type": "code",
        "colab": {
          "base_uri": "https://localhost:8080/",
          "height": 51
        },
        "outputId": "7eabf5dd-3e37-4116-f2b2-27cda8ba5726"
      },
      "source": [
        "# tune hyperparameters with GridSearchCV and fit gs\n",
        "param_range = [0.0001, 0.001, 0.01, 0.1, 1.0, 10.0, 100.0, 1000.0]\n",
        "gs = GridSearchCV(estimator=pipe_svm, \n",
        "                  param_grid = [{'svc__C': param_range, \n",
        "             'svc__kernel': ['linear']},\n",
        "            {'svc__C': param_range, \n",
        "             'svc__gamma': param_range, \n",
        "             'svc__kernel': ['rbf']}], \n",
        "                  scoring='accuracy', \n",
        "                  refit=True,\n",
        "                  cv=10,\n",
        "                  n_jobs=-1)\n",
        "gs = gs.fit(X_train, y_train)\n",
        "print(gs.best_score_)\n",
        "print(gs.best_params_)"
      ],
      "execution_count": 147,
      "outputs": [
        {
          "output_type": "stream",
          "text": [
            "0.8404521510096575\n",
            "{'svc__C': 1000.0, 'svc__gamma': 0.01, 'svc__kernel': 'rbf'}\n"
          ],
          "name": "stdout"
        }
      ]
    },
    {
      "cell_type": "markdown",
      "metadata": {
        "id": "v3WNmEJdpVuo",
        "colab_type": "text"
      },
      "source": [
        "> Observe the score and the selected 'best params'"
      ]
    },
    {
      "cell_type": "markdown",
      "metadata": {
        "id": "JOyXCrJqnJPD",
        "colab_type": "text"
      },
      "source": [
        "4.2 Select the best estimator from `gs` and save as `clf`"
      ]
    },
    {
      "cell_type": "code",
      "metadata": {
        "id": "N4OeS-AVshmk",
        "colab_type": "code",
        "colab": {
          "base_uri": "https://localhost:8080/",
          "height": 34
        },
        "outputId": "271b408c-a13c-46f1-f78d-a3e0a3f08635"
      },
      "source": [
        "# get best estimator\n",
        "clf = gs.best_estimator_\n",
        "\n",
        "print('Test accuracy: %.3f' % clf.score(X_test, y_test))"
      ],
      "execution_count": 148,
      "outputs": [
        {
          "output_type": "stream",
          "text": [
            "Test accuracy: 0.812\n"
          ],
          "name": "stdout"
        }
      ]
    },
    {
      "cell_type": "markdown",
      "metadata": {
        "id": "1cYp65P3n-jG",
        "colab_type": "text"
      },
      "source": [
        "4.3 Predict the test set with `clf`"
      ]
    },
    {
      "cell_type": "code",
      "metadata": {
        "id": "cxPNgEsfoLrG",
        "colab_type": "code",
        "colab": {
          "base_uri": "https://localhost:8080/",
          "height": 357
        },
        "outputId": "950f335b-35d3-4b99-a0ae-68857f92c1c3"
      },
      "source": [
        "# predict test set\n",
        "clf.predict(X_test)"
      ],
      "execution_count": 152,
      "outputs": [
        {
          "output_type": "execute_result",
          "data": {
            "text/plain": [
              "array(['van', 'van', 'saab', 'van', 'opel', 'opel', 'van', 'van', 'bus',\n",
              "       'saab', 'van', 'van', 'opel', 'saab', 'opel', 'bus', 'van', 'saab',\n",
              "       'saab', 'saab', 'saab', 'saab', 'saab', 'bus', 'saab', 'bus',\n",
              "       'bus', 'van', 'opel', 'van', 'van', 'bus', 'opel', 'opel', 'opel',\n",
              "       'van', 'opel', 'saab', 'opel', 'opel', 'opel', 'bus', 'opel',\n",
              "       'van', 'van', 'opel', 'saab', 'opel', 'van', 'saab', 'saab', 'van',\n",
              "       'bus', 'opel', 'opel', 'bus', 'saab', 'saab', 'van', 'bus', 'van',\n",
              "       'opel', 'van', 'saab', 'saab', 'bus', 'saab', 'saab', 'bus',\n",
              "       'saab', 'van', 'bus', 'bus', 'opel', 'saab', 'van', 'bus', 'opel',\n",
              "       'saab', 'bus', 'van', 'opel', 'bus', 'opel', 'saab', 'van', 'saab',\n",
              "       'opel', 'van', 'opel', 'bus', 'van', 'van', 'bus', 'van', 'opel',\n",
              "       'opel', 'bus', 'bus', 'saab', 'saab', 'opel', 'van', 'opel',\n",
              "       'opel', 'bus', 'saab', 'van', 'van', 'saab', 'opel', 'bus', 'bus',\n",
              "       'opel', 'opel', 'opel', 'van', 'saab', 'saab', 'bus', 'saab',\n",
              "       'van', 'opel', 'van', 'opel', 'opel', 'bus', 'van', 'bus', 'saab',\n",
              "       'bus', 'opel', 'opel', 'bus', 'bus', 'saab', 'bus', 'saab', 'saab',\n",
              "       'van', 'saab', 'saab', 'saab', 'bus', 'bus', 'saab', 'van', 'opel',\n",
              "       'bus', 'van', 'opel', 'opel', 'bus', 'van', 'bus', 'bus', 'van',\n",
              "       'bus', 'saab', 'opel', 'van', 'saab', 'van', 'bus', 'saab', 'van',\n",
              "       'bus', 'bus', 'bus', 'van'], dtype=object)"
            ]
          },
          "metadata": {
            "tags": []
          },
          "execution_count": 152
        }
      ]
    },
    {
      "cell_type": "markdown",
      "metadata": {
        "id": "r4sKAA4Ho4xW",
        "colab_type": "text"
      },
      "source": [
        "4.4 Print the test accuracy"
      ]
    },
    {
      "cell_type": "code",
      "metadata": {
        "id": "pFpvvSHCpPGU",
        "colab_type": "code",
        "colab": {
          "base_uri": "https://localhost:8080/",
          "height": 34
        },
        "outputId": "fb419629-6d79-4032-f422-379c10bdc03f"
      },
      "source": [
        "# print the test accuracy\n",
        "print('accuracy: ', accuracy_score(y_test, clf.predict(X_test)))"
      ],
      "execution_count": 160,
      "outputs": [
        {
          "output_type": "stream",
          "text": [
            "accuracy:  0.8117647058823529\n"
          ],
          "name": "stdout"
        }
      ]
    },
    {
      "cell_type": "markdown",
      "metadata": {
        "id": "fEJDtWOGpQSk",
        "colab_type": "text"
      },
      "source": [
        "> Did we do better? And by how much?"
      ]
    },
    {
      "cell_type": "markdown",
      "metadata": {
        "id": "o2qC5Jfxo9En",
        "colab_type": "text"
      },
      "source": [
        "4.5 Graph the confusion matrix"
      ]
    },
    {
      "cell_type": "code",
      "metadata": {
        "id": "BSVtssRRvxRK",
        "colab_type": "code",
        "colab": {
          "base_uri": "https://localhost:8080/",
          "height": 189
        },
        "outputId": "bdad066f-0335-4b12-a9a0-ba7be64ec0c4"
      },
      "source": [
        "# graph a confusion matrix\n",
        "fig, ax = plt.subplots(figsize=(2.5, 2.5))\n",
        "ax.matshow(confmat, cmap=plt.cm.Blues, alpha=0.3)\n",
        "for i in range(confmat.shape[0]):\n",
        "    for j in range(confmat.shape[1]):\n",
        "        ax.text(x=j, y=i, s=confmat[i, j], va='center', ha='center')\n",
        "\n",
        "plt.xlabel('Predicted label')\n",
        "plt.ylabel('True label')\n",
        "\n",
        "plt.tight_layout()\n",
        "plt.show()"
      ],
      "execution_count": 161,
      "outputs": [
        {
          "output_type": "display_data",
          "data": {
            "image/png": "[encoded data removed]",
            "text/plain": [
              "<Figure size 180x180 with 1 Axes>"
            ]
          },
          "metadata": {
            "tags": [],
            "needs_background": "light"
          }
        }
      ]
    },
    {
      "cell_type": "markdown",
      "metadata": {
        "id": "P4OfDWcAqO5S",
        "colab_type": "text"
      },
      "source": [
        "<img src=\"https://66.media.tumblr.com/dded9d1a2bf2068f92af9f7a9b6b5451/tumblr_p6s3hbPzgV1vd8jsjo1_500.gifv\" width=\"300\">"
      ]
    }
  ]
}