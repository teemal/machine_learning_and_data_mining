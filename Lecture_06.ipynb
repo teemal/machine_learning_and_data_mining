{
  "nbformat": 4,
  "nbformat_minor": 0,
  "metadata": {
    "colab": {
      "name": "Lecture 06.ipynb",
      "provenance": [],
      "collapsed_sections": []
    },
    "kernelspec": {
      "name": "python3",
      "display_name": "Python 3"
    }
  },
  "cells": [
    {
      "cell_type": "markdown",
      "metadata": {
        "id": "OhtCHltu7C6g",
        "colab_type": "text"
      },
      "source": [
        "# Lecture 06 - Performance metrics"
      ]
    },
    {
      "cell_type": "markdown",
      "metadata": {
        "id": "m4ktBnPj7CwH",
        "colab_type": "text"
      },
      "source": [
        "***\n",
        "##### CS 434 - Dating Mining and Machine Learning\n",
        "##### Oregon State University-Cascades\n",
        "***"
      ]
    },
    {
      "cell_type": "markdown",
      "metadata": {
        "id": "HweOfTdrCmfX",
        "colab_type": "text"
      },
      "source": [
        "## Load packages"
      ]
    },
    {
      "cell_type": "code",
      "metadata": {
        "id": "YDhKlyPtCp26",
        "colab_type": "code",
        "colab": {}
      },
      "source": [
        "import ssl\n",
        "import pandas as pd\n",
        "import numpy as np\n",
        "from sklearn.svm import SVC\n",
        "import matplotlib.pyplot as plt\n",
        "from scipy.stats.stats import pearsonr, spearmanr\n",
        "from sklearn.pipeline import make_pipeline\n",
        "from sklearn.metrics import confusion_matrix\n",
        "from sklearn.preprocessing import LabelEncoder\n",
        "from sklearn.preprocessing import StandardScaler\n",
        "from sklearn.model_selection import train_test_split\n",
        "ssl._create_default_https_context = ssl._create_unverified_context"
      ],
      "execution_count": 0,
      "outputs": []
    },
    {
      "cell_type": "markdown",
      "metadata": {
        "id": "gMwl6JkEfHjS",
        "colab_type": "text"
      },
      "source": [
        "# <img src=\"https://img.icons8.com/color/32/000000/accept-database.png\"/> Prepare a dataset"
      ]
    },
    {
      "cell_type": "markdown",
      "metadata": {
        "id": "mbee0O9sgd2j",
        "colab_type": "text"
      },
      "source": [
        "#### [Breast Cancer Wisconsin dataset](https://archive.ics.uci.edu/ml/datasets/Breast+Cancer+Wisconsin+%28Diagnostic%29)"
      ]
    },
    {
      "cell_type": "code",
      "metadata": {
        "id": "ToS1FY0IfIC2",
        "colab_type": "code",
        "outputId": "e24791d3-6f80-4d4d-c8d5-41d135c788f8",
        "colab": {
          "base_uri": "https://localhost:8080/",
          "height": 255
        }
      },
      "source": [
        "# read dataset\n",
        "df = pd.read_csv('https://archive.ics.uci.edu/ml/'\n",
        "                 'machine-learning-databases'\n",
        "                 '/breast-cancer-wisconsin/wdbc.data', header=None)\n",
        "# class label is last\n",
        "print(df)"
      ],
      "execution_count": 0,
      "outputs": [
        {
          "output_type": "stream",
          "text": [
            "           0  1      2      3   ...      28      29      30       31\n",
            "0      842302  M  17.99  10.38  ...  0.7119  0.2654  0.4601  0.11890\n",
            "1      842517  M  20.57  17.77  ...  0.2416  0.1860  0.2750  0.08902\n",
            "2    84300903  M  19.69  21.25  ...  0.4504  0.2430  0.3613  0.08758\n",
            "3    84348301  M  11.42  20.38  ...  0.6869  0.2575  0.6638  0.17300\n",
            "4    84358402  M  20.29  14.34  ...  0.4000  0.1625  0.2364  0.07678\n",
            "..        ... ..    ...    ...  ...     ...     ...     ...      ...\n",
            "564    926424  M  21.56  22.39  ...  0.4107  0.2216  0.2060  0.07115\n",
            "565    926682  M  20.13  28.25  ...  0.3215  0.1628  0.2572  0.06637\n",
            "566    926954  M  16.60  28.08  ...  0.3403  0.1418  0.2218  0.07820\n",
            "567    927241  M  20.60  29.33  ...  0.9387  0.2650  0.4087  0.12400\n",
            "568     92751  B   7.76  24.54  ...  0.0000  0.0000  0.2871  0.07039\n",
            "\n",
            "[569 rows x 32 columns]\n"
          ],
          "name": "stdout"
        }
      ]
    },
    {
      "cell_type": "code",
      "metadata": {
        "id": "eyWesR0BfMNd",
        "colab_type": "code",
        "colab": {}
      },
      "source": [
        "# split into X and y\n",
        "X = df.loc[:, 2:].values\n",
        "y = df.loc[:, 1].values\n",
        "le = LabelEncoder()\n",
        "y = le.fit_transform(y)\n",
        "\n",
        "# split into train and tes\n",
        "X_train, X_test, y_train, y_test = \\\n",
        "    train_test_split(X, y, \n",
        "                     test_size=0.20,\n",
        "                     stratify=y,\n",
        "                     random_state=1)"
      ],
      "execution_count": 0,
      "outputs": []
    },
    {
      "cell_type": "markdown",
      "metadata": {
        "id": "VVcm2uAUDHY3",
        "colab_type": "text"
      },
      "source": [
        "***\n",
        "# <img src=\"https://img.icons8.com/color/32/000000/grid-2.png\"/> Confusion matrix\n",
        "***\n"
      ]
    },
    {
      "cell_type": "markdown",
      "metadata": {
        "id": "LsmJS5vwCqTE",
        "colab_type": "text"
      },
      "source": [
        ""
      ]
    },
    {
      "cell_type": "markdown",
      "metadata": {
        "id": "AY8fAu18Dzrv",
        "colab_type": "text"
      },
      "source": [
        "A confusion matrix is a way to summarize the performance of a classifier for binary classification tasks. \n",
        "\n",
        "This square matrix consists of columns and rows that list the number of instances as absolute or relative `actual class` vs. `predicted class` ratios.\n"
      ]
    },
    {
      "cell_type": "markdown",
      "metadata": {
        "id": "DHaoQkQWDOti",
        "colab_type": "text"
      },
      "source": [
        "<img src=https://raw.githubusercontent.com/rasbt/python-machine-learning-book-3rd-edition/master/ch06/images/06_08.png width=\"500\">"
      ]
    },
    {
      "cell_type": "markdown",
      "metadata": {
        "id": "drpEZ_qmJBL0",
        "colab_type": "text"
      },
      "source": [
        "* **True positive:** correctly predicted as *true*.\n",
        "* **True negative:** correctly predicted as *false*.\n",
        "* **False positive:** predicted as *true*, but it is *false*.   `Type I Error`\n",
        "* **False negative:** predicted as *false*, but it is *true*. `Type II Error`"
      ]
    },
    {
      "cell_type": "markdown",
      "metadata": {
        "id": "IFkAtzH7cHne",
        "colab_type": "text"
      },
      "source": [
        "### <img src=\"https://img.icons8.com/color/32/000000/inspect-code.png\"/> Interpreting the confusion matrix"
      ]
    },
    {
      "cell_type": "markdown",
      "metadata": {
        "id": "048QjJRdIn0k",
        "colab_type": "text"
      },
      "source": [
        "![alt text](https://www.researchgate.net/profile/Enoch_Opanin_Gyamfi5/publication/319183193/figure/fig4/AS:668388829437953@1536367723057/Modified-Confusion-Matrix-Table-for-Accuracy-Prediction-of-24.ppm)"
      ]
    },
    {
      "cell_type": "markdown",
      "metadata": {
        "id": "rtFggxcKX8A0",
        "colab_type": "text"
      },
      "source": [
        "### <img src=\"https://img.icons8.com/color/32/000000/new-document.png\"/>  Example"
      ]
    },
    {
      "cell_type": "markdown",
      "metadata": {
        "id": "Xo1N9BUikxxB",
        "colab_type": "text"
      },
      "source": [
        "Remember that we previously encoded the class labels so that malignant examples are the \"postive\" class (1), and benign examples are the \"negative\" class (0):"
      ]
    },
    {
      "cell_type": "markdown",
      "metadata": {
        "id": "5LXbwQn6hPNQ",
        "colab_type": "text"
      },
      "source": [
        "##### Print a confusion matrix"
      ]
    },
    {
      "cell_type": "code",
      "metadata": {
        "id": "wZ6zb9eBe9mC",
        "colab_type": "code",
        "outputId": "66be0811-3160-4de9-f3ec-cdfe479350e9",
        "colab": {
          "base_uri": "https://localhost:8080/",
          "height": 51
        }
      },
      "source": [
        "# display a confusion matrix\n",
        "pipe_svc.fit(X_train, y_train)\n",
        "y_pred = pipe_svc.predict(X_test)\n",
        "confmat = confusion_matrix(y_true=y_test, y_pred=y_pred)\n",
        "print(confmat)"
      ],
      "execution_count": 0,
      "outputs": [
        {
          "output_type": "stream",
          "text": [
            "[[71  1]\n",
            " [ 2 40]]\n"
          ],
          "name": "stdout"
        }
      ]
    },
    {
      "cell_type": "markdown",
      "metadata": {
        "id": "E4LNBrQ1hUg4",
        "colab_type": "text"
      },
      "source": [
        "##### Display a confusion matrix"
      ]
    },
    {
      "cell_type": "code",
      "metadata": {
        "id": "o6JZ540ug93_",
        "colab_type": "code",
        "outputId": "7563c6a2-db02-4545-c381-7e74701cd813",
        "colab": {
          "base_uri": "https://localhost:8080/",
          "height": 189
        }
      },
      "source": [
        "# graph a confusion matrix\n",
        "fig, ax = plt.subplots(figsize=(2.5, 2.5))\n",
        "ax.matshow(confmat, cmap=plt.cm.Blues, alpha=0.3)\n",
        "for i in range(confmat.shape[0]):\n",
        "    for j in range(confmat.shape[1]):\n",
        "        ax.text(x=j, y=i, s=confmat[i, j], va='center', ha='center')\n",
        "\n",
        "plt.xlabel('Predicted label')\n",
        "plt.ylabel('True label')\n",
        "\n",
        "plt.tight_layout()\n",
        "plt.show()"
      ],
      "execution_count": 0,
      "outputs": [
        {
          "output_type": "display_data",
          "data": {
            "image/png": "[encoded data removed]",
            "text/plain": [
              "<Figure size 180x180 with 1 Axes>"
            ]
          },
          "metadata": {
            "tags": [],
            "needs_background": "light"
          }
        }
      ]
    },
    {
      "cell_type": "markdown",
      "metadata": {
        "id": "qMp1aiNK8VIZ",
        "colab_type": "text"
      },
      "source": [
        "\n",
        "***\n",
        "# <img src=\"https://img.icons8.com/color/32/000000/test-partial-passed.png\"/>  Misclassification rate\n",
        "***"
      ]
    },
    {
      "cell_type": "markdown",
      "metadata": {
        "id": "OMzaEzzo7W49",
        "colab_type": "text"
      },
      "source": [
        "### <img src=\"https://img.icons8.com/color/32/000000/cancel--v1.png\"/> Error \n",
        "The error is the sum of all false predictions divided by the number of total predications.\n",
        "\n",
        "\\begin{equation} ERR = \\frac{FP + FN}{FP+ FN + TP + TN} = 1-ACC\\end{equation}"
      ]
    },
    {
      "cell_type": "markdown",
      "metadata": {
        "id": "eqtZRT_L7dFz",
        "colab_type": "text"
      },
      "source": [
        "### <img src=\"https://img.icons8.com/color/32/000000/accuracy.png\"/>  Accuracy\n",
        "\n",
        "The accuracy is the sum of correct predictions divided by the total number of predictions.\n",
        "\n",
        "\n",
        "\\begin{equation} ACC = \\frac{TP + TN}{FP+ FN + TP + TN} = 1-ERR\\end{equation}"
      ]
    },
    {
      "cell_type": "markdown",
      "metadata": {
        "id": "lQ4BE3FoKo54",
        "colab_type": "text"
      },
      "source": [
        "### <img src=\"https://img.icons8.com/color/32/000000/presentation.png\"/>  Visualization"
      ]
    },
    {
      "cell_type": "markdown",
      "metadata": {
        "id": "9RilIj-iKkwK",
        "colab_type": "text"
      },
      "source": [
        "![alt text](https://herdingcats.typepad.com/.a/6a00d8341ca4d953ef017c35c54f99970b-pi)"
      ]
    },
    {
      "cell_type": "markdown",
      "metadata": {
        "id": "h3BMchvM8dlp",
        "colab_type": "text"
      },
      "source": [
        "***\n",
        "# <img src=\"https://img.icons8.com/color/32/000000/true-false.png\"/> True and false positives\n",
        "***\n",
        "\n",
        "True Positive Rate (TPR) and False Positive Rate (FPR) are performance\n",
        "metrics that are especially useful for imbalanced class problems."
      ]
    },
    {
      "cell_type": "markdown",
      "metadata": {
        "id": "i0Cy1ul38oYz",
        "colab_type": "text"
      },
      "source": [
        "### True positive rate\n",
        "\n",
        "\\begin{equation} TPR = \\frac{TP}{P} =  \\frac{TP}{FN + TP} \\end{equation}"
      ]
    },
    {
      "cell_type": "markdown",
      "metadata": {
        "id": "WesLdtv88iiy",
        "colab_type": "text"
      },
      "source": [
        "### False positive rate\n",
        "\\begin{equation} FPR = \\frac{FP}{N} =  \\frac{FP}{FP + TN} \\end{equation}"
      ]
    },
    {
      "cell_type": "markdown",
      "metadata": {
        "id": "9tqIUtQkce_m",
        "colab_type": "text"
      },
      "source": [
        "### TPP vs FPP\n",
        "![alt text](https://i.imgur.com/uipmEwt.png)"
      ]
    },
    {
      "cell_type": "markdown",
      "metadata": {
        "id": "iXkSBXKA-NDc",
        "colab_type": "text"
      },
      "source": [
        "***\n",
        "# <img src=\"https://img.icons8.com/color/32/000000/search-property.png\"/>  Information retrieval\n",
        "***"
      ]
    },
    {
      "cell_type": "markdown",
      "metadata": {
        "id": "WJT0k371-xn7",
        "colab_type": "text"
      },
      "source": [
        "### Precision"
      ]
    },
    {
      "cell_type": "markdown",
      "metadata": {
        "id": "rWw61KFU-XGN",
        "colab_type": "text"
      },
      "source": [
        "\\begin{equation} PRE = \\frac{TP}{TP + FP} \\end{equation}"
      ]
    },
    {
      "cell_type": "markdown",
      "metadata": {
        "id": "aJK7d84vGbOp",
        "colab_type": "text"
      },
      "source": [
        "$$PRE={\\frac {|\\{{\\text{relevant documents}}\\} \\  \\cap \\ \\{{\\text{retrieved documents}}\\}|}{|\\{{\\text{retrieved documents}}\\}|}}$$\n",
        "\n"
      ]
    },
    {
      "cell_type": "markdown",
      "metadata": {
        "id": "qoeQSFFJ-0e8",
        "colab_type": "text"
      },
      "source": [
        "### Recall"
      ]
    },
    {
      "cell_type": "markdown",
      "metadata": {
        "id": "M15Njwgv-fs5",
        "colab_type": "text"
      },
      "source": [
        "\\begin{equation} REC = TPR = \\frac{TP}{P} =  \\frac{TP}{FN + TP} \\end{equation}\n"
      ]
    },
    {
      "cell_type": "markdown",
      "metadata": {
        "id": "-35MKhLmG0YU",
        "colab_type": "text"
      },
      "source": [
        " $$REC={\\frac {|\\{{\\text{relevant documents}}\\}\\cap \\{{\\text{retrieved documents}}\\}|}{|\\{{\\text{relevant documents}}\\}|}}$$\n"
      ]
    },
    {
      "cell_type": "markdown",
      "metadata": {
        "id": "fkp7EnRcGAcE",
        "colab_type": "text"
      },
      "source": [
        "### Precision vs recall"
      ]
    },
    {
      "cell_type": "markdown",
      "metadata": {
        "id": "oNl4udmkF4Rz",
        "colab_type": "text"
      },
      "source": [
        "![alt text](https://upload.wikimedia.org/wikipedia/commons/thumb/2/26/Precisionrecall.svg/563px-Precisionrecall.svg.png)"
      ]
    },
    {
      "cell_type": "markdown",
      "metadata": {
        "id": "3sk-YH21-hEL",
        "colab_type": "text"
      },
      "source": [
        "### <img src=\"https://img.icons8.com/color/32/000000/f.png\"/> $F_1$ score\n",
        "The $F_1$ is the harmonic mean of precision and recall.\n"
      ]
    },
    {
      "cell_type": "markdown",
      "metadata": {
        "id": "abQhmOarADz_",
        "colab_type": "text"
      },
      "source": [
        "\n",
        "\\begin{equation} F_1 = 2 \\cdot \\frac{PRE \\cdot REC}{PRE + REC}\\end{equation}"
      ]
    },
    {
      "cell_type": "markdown",
      "metadata": {
        "id": "F55vjv0_HSkq",
        "colab_type": "text"
      },
      "source": [
        "###Generalized $F_\\beta$ score\n",
        "\n",
        "The general formula for positive real β, where β is chosen such that recall is considered β times as important as precision."
      ]
    },
    {
      "cell_type": "markdown",
      "metadata": {
        "id": "zsIvQN1KHqGs",
        "colab_type": "text"
      },
      "source": [
        "$$F_\\beta = (1 + \\beta^2) \\cdot \\frac{PRE \\cdot REC}{(\\beta^2 \\cdot PRE) + REC}$$\n"
      ]
    },
    {
      "cell_type": "markdown",
      "metadata": {
        "id": "E3WJAerCHNk-",
        "colab_type": "text"
      },
      "source": [
        "$$F_\\beta = \\frac {(1 + \\beta^2) \\cdot TP }{(1 + \\beta^2) \\cdot TP + \\beta^2 \\cdot FN + FP}$$\n"
      ]
    },
    {
      "cell_type": "markdown",
      "metadata": {
        "id": "kAW5bEWI--Mk",
        "colab_type": "text"
      },
      "source": [
        "***\n",
        "# <img src=\"https://img.icons8.com/color/32/000000/tape-measure.png\"/> Sensitivity and specificity\n",
        "***"
      ]
    },
    {
      "cell_type": "markdown",
      "metadata": {
        "id": "aj-77fdu_G_k",
        "colab_type": "text"
      },
      "source": [
        "### Sensitivity\n",
        "\n",
        "Sensitivity measures the recovery rate of the *positives* and complimentary. "
      ]
    },
    {
      "cell_type": "markdown",
      "metadata": {
        "id": "-h1rbYCy_swR",
        "colab_type": "text"
      },
      "source": [
        "\\begin{equation} SEN = TPR = REC = \\frac{TP}{P} =  \\frac{TP}{FN + TP} \\end{equation}"
      ]
    },
    {
      "cell_type": "markdown",
      "metadata": {
        "id": "SfESxxTs_H9h",
        "colab_type": "text"
      },
      "source": [
        "### Specificity\n",
        "\n",
        "Specificity measures the recovery rate of the *negatives*."
      ]
    },
    {
      "cell_type": "markdown",
      "metadata": {
        "id": "nrfjEuhx_o49",
        "colab_type": "text"
      },
      "source": [
        "\\begin{equation} SPC = TNR =\\frac{TN}{N} =  \\frac{TN}{FP + TN} \\end{equation}"
      ]
    },
    {
      "cell_type": "markdown",
      "metadata": {
        "id": "zMPRpGrfGHej",
        "colab_type": "text"
      },
      "source": [
        "### Sensitivity vs specificity"
      ]
    },
    {
      "cell_type": "markdown",
      "metadata": {
        "id": "PQz_RqctEKnM",
        "colab_type": "text"
      },
      "source": [
        "![alt text](https://upload.wikimedia.org/wikipedia/commons/thumb/e/e7/Sensitivity_and_specificity.svg/563px-Sensitivity_and_specificity.svg.png)"
      ]
    },
    {
      "cell_type": "markdown",
      "metadata": {
        "id": "QkOKScqjAcMO",
        "colab_type": "text"
      },
      "source": [
        "# <img src=\"https://img.icons8.com/color/32/000000/formula-fx.png\"/>  Matthews correlation coefficient"
      ]
    },
    {
      "cell_type": "markdown",
      "metadata": {
        "id": "jM9JE21nAm_P",
        "colab_type": "text"
      },
      "source": [
        "The Matthews correlation coefficient (MCC) is a specific case of a linear correlation coefficient (*Pearson* $r$) for a binary classification setting and is considered as especially useful in unbalanced class settings. \n",
        "\n",
        "The previous metrics take values in the range between 0 (worst) and 1 (best), whereas the MCC is bounded between the range \n",
        "* 1 (perfect correlation between ground truth and predicted outcome) and\n",
        "* -1 (inverse or negative correlation) and \n",
        "* where a value of 0 indicates a random prediction.\n"
      ]
    },
    {
      "cell_type": "markdown",
      "metadata": {
        "id": "hvcidvkKAhM-",
        "colab_type": "text"
      },
      "source": [
        "\\begin{equation} MCC = \\frac{ TP \\cdot TN - FP \\cdot FN } {\\sqrt{ (TP + FP) ( TP + FN ) ( TN + FP ) ( TN + FN ) } } \\end{equation}\n"
      ]
    },
    {
      "cell_type": "markdown",
      "metadata": {
        "id": "IiqT1AnLTySf",
        "colab_type": "text"
      },
      "source": [
        "***\n",
        "# <img src=\"https://img.icons8.com/color/32/000000/handshake.png\"/> Inter-rater reliability\n",
        "***"
      ]
    },
    {
      "cell_type": "markdown",
      "metadata": {
        "id": "6er7rYxnftoj",
        "colab_type": "text"
      },
      "source": [
        "### <img src=\"https://img.icons8.com/color/32/000000/k.png\"/> Kappa\n",
        "\n",
        "Cohen's kappa $\\kappa$ is the degree of agreement among raters. It is a score of how much homogeneity or consensus exists in the ratings given by various judges."
      ]
    },
    {
      "cell_type": "markdown",
      "metadata": {
        "id": "Yfz14zt6T8Pw",
        "colab_type": "text"
      },
      "source": [
        "$$\\kappa \\equiv {\\frac {p_{o}-p_{e}}{1-p_{e}}}=1-{\\frac {1-p_{o}}{1-p_{e}}}$$"
      ]
    },
    {
      "cell_type": "markdown",
      "metadata": {
        "id": "otR2yydUfh28",
        "colab_type": "text"
      },
      "source": [
        "### <img src=\"https://img.icons8.com/color/32/000000/r.png\"/> Correlation"
      ]
    },
    {
      "cell_type": "markdown",
      "metadata": {
        "id": "eyzBeWfXf9ny",
        "colab_type": "text"
      },
      "source": [
        "![alt text](https://upload.wikimedia.org/wikipedia/commons/thumb/d/d4/Correlation_examples2.svg/800px-Correlation_examples2.svg.png)"
      ]
    },
    {
      "cell_type": "markdown",
      "metadata": {
        "id": "GC7bCrtLjm6k",
        "colab_type": "text"
      },
      "source": [
        "#### <img src=\"https://img.icons8.com/color/32/000000/new-document.png\"/>  Example\n",
        "\n",
        "Generate 1,000 samples of two two variables with a strong positive correlation. The first variable will be random numbers drawn from a Gaussian distribution with a mean of 100 and a standard deviation of 20. The second variable will be values from the first variable with Gaussian noise added with a mean of a 50 and a standard deviation of 10."
      ]
    },
    {
      "cell_type": "code",
      "metadata": {
        "id": "0olTTPcwgWGR",
        "colab_type": "code",
        "outputId": "0ad4f1ec-1a52-4e46-b467-577214919919",
        "colab": {
          "base_uri": "https://localhost:8080/",
          "height": 299
        }
      },
      "source": [
        "# generate related variables\n",
        "from numpy import mean\n",
        "from numpy import std\n",
        "from numpy.random import randn\n",
        "from numpy.random import seed\n",
        "from matplotlib import pyplot\n",
        "# seed random number generator\n",
        "seed(1)\n",
        "# prepare data\n",
        "data1 = 20 * randn(1000) + 100\n",
        "data2 = data1 + (10 * randn(1000) + 50)\n",
        "# summarize\n",
        "print('data1: mean=%.3f stdv=%.3f' % (mean(data1), std(data1)))\n",
        "print('data2: mean=%.3f stdv=%.3f' % (mean(data2), std(data2)))\n",
        "# plot\n",
        "pyplot.scatter(data1, data2)\n",
        "pyplot.show()"
      ],
      "execution_count": 0,
      "outputs": [
        {
          "output_type": "stream",
          "text": [
            "data1: mean=100.776 stdv=19.620\n",
            "data2: mean=151.050 stdv=22.358\n"
          ],
          "name": "stdout"
        },
        {
          "output_type": "display_data",
          "data": {
            "image/png": "[encoded data removed]",
            "text/plain": [
              "<Figure size 432x288 with 1 Axes>"
            ]
          },
          "metadata": {
            "tags": [],
            "needs_background": "light"
          }
        }
      ]
    },
    {
      "cell_type": "markdown",
      "metadata": {
        "id": "6VU0wcVpiW7l",
        "colab_type": "text"
      },
      "source": [
        "### <img src=\"https://img.icons8.com/color/32/000000/remote-working.png\"/> Covariance\n",
        "Covariance measure the relationship between two variables. The sign of the covariance can be interpreted as whether the two variables change in the same direction (positive) or change in different directions (negative). \n"
      ]
    },
    {
      "cell_type": "markdown",
      "metadata": {
        "id": "OiCsj391FFpR",
        "colab_type": "text"
      },
      "source": [
        "$$\\operatorname {cov} (X,Y)=\\operatorname {E} {{\\big [}(X-\\operatorname {E} [X])(Y-\\operatorname {E} [Y]){\\big ]}}$$\n",
        " \n",
        "where $\\operatorname {E} [X]$ is the expected value of $X$ also known as the mean of $X$."
      ]
    },
    {
      "cell_type": "code",
      "metadata": {
        "id": "vgLM7QLWga62",
        "colab_type": "code",
        "outputId": "b8c9e44c-ef6c-4750-c358-02bd88edd89a",
        "colab": {
          "base_uri": "https://localhost:8080/",
          "height": 51
        }
      },
      "source": [
        "# calculate covariance matrix\n",
        "covariance = np.cov(data1, data2)\n",
        "print(covariance)"
      ],
      "execution_count": 0,
      "outputs": [
        {
          "output_type": "stream",
          "text": [
            "[[385.33297729 389.7545618 ]\n",
            " [389.7545618  500.38006058]]\n"
          ],
          "name": "stdout"
        }
      ]
    },
    {
      "cell_type": "markdown",
      "metadata": {
        "id": "tVCJ6jyrj25N",
        "colab_type": "text"
      },
      "source": [
        "#### <img src=\"https://img.icons8.com/color/32/000000/p.png\"/> Pearson's correlation\n",
        "\n",
        "Pearson's correlation is a measure of the linear correlation between two variables X and Y. It has a value between +1 and −1, where 1 is total positive linear correlation, 0 is no linear correlation, and −1 is total negative linear correlation."
      ]
    },
    {
      "cell_type": "markdown",
      "metadata": {
        "id": "hal3RyEdk5C6",
        "colab_type": "text"
      },
      "source": [
        "$$\\rho_{X,Y}={\\frac {\\operatorname {cov} (X,Y)}{\\sigma_{X}\\sigma_{Y}}}$$\n",
        "\n",
        "where:\n",
        "* $\\operatorname {cov}$  is the covariance\n",
        "* $\\sigma _{X}$ is the standard deviation of $X$\n",
        "* $\\sigma_Y$  is the standard deviation of $Y$"
      ]
    },
    {
      "cell_type": "code",
      "metadata": {
        "id": "7vMZFAe7grXO",
        "colab_type": "code",
        "outputId": "8f0c40e9-cc0c-4da8-df16-5c0865390e10",
        "colab": {
          "base_uri": "https://localhost:8080/",
          "height": 34
        }
      },
      "source": [
        "# calculate Pearson's correlation\n",
        "corr, _ = pearsonr(data1, data2)\n",
        "print('Pearsons correlation: %.3f' % corr)"
      ],
      "execution_count": 0,
      "outputs": [
        {
          "output_type": "stream",
          "text": [
            "Pearsons correlation: 0.888\n"
          ],
          "name": "stdout"
        }
      ]
    },
    {
      "cell_type": "code",
      "metadata": {
        "id": "8Y60mpBonv8J",
        "colab_type": "code",
        "outputId": "c322f25e-dc9e-4e7c-e901-11b48ae1e9d0",
        "colab": {
          "base_uri": "https://localhost:8080/",
          "height": 51
        }
      },
      "source": [
        "# calculate correlation matrix\n",
        "coercoef = np.corrcoef(data1, data2)\n",
        "print(coercoef)"
      ],
      "execution_count": 0,
      "outputs": [
        {
          "output_type": "stream",
          "text": [
            "[[1.         0.88761191]\n",
            " [0.88761191 1.        ]]\n"
          ],
          "name": "stdout"
        }
      ]
    },
    {
      "cell_type": "markdown",
      "metadata": {
        "id": "DbQGunKDj5i0",
        "colab_type": "text"
      },
      "source": [
        "#### <img src=\"https://img.icons8.com/color/32/000000/s.png\"/> Spearman's correlation\n",
        "The Spearman correlation between two variables is equal to the Pearson correlation between the rank values of those two variables; while Pearson's correlation assesses linear relationships, Spearman's correlation assesses monotonic relationships (whether linear or not)."
      ]
    },
    {
      "cell_type": "markdown",
      "metadata": {
        "id": "ANikJN4PAIBG",
        "colab_type": "text"
      },
      "source": [
        "$$r_{s}=\\rho _{\\operatorname {rg} _{X},\\operatorname {rg} _{Y}}={\\frac {\\operatorname {cov} (\\operatorname {rg} _{X},\\operatorname {rg} _{Y})}{\\sigma _{\\operatorname {rg} _{X}}\\sigma _{\\operatorname {rg} _{Y}}}}$$\n",
        "\n",
        "where\n",
        "\n",
        "* $\\rho$  denotes the usual Pearson correlation coefficient, but applied to the rank variables,\n",
        "* $\\operatorname {cov}( \\operatorname{rg}_{X},\\operatorname {rg}_{Y})$ is the covariance of the rank variables,\n",
        "* $\\sigma _{\\operatorname {rg} _{X}}$ and $\\sigma _{\\operatorname {rg} _{Y}}$ are the standard deviations of the rank variables."
      ]
    },
    {
      "cell_type": "code",
      "metadata": {
        "id": "gWD2eshHgxuf",
        "colab_type": "code",
        "outputId": "f8e5ca6b-8ed7-4f5f-f105-9e673450ca33",
        "colab": {
          "base_uri": "https://localhost:8080/",
          "height": 34
        }
      },
      "source": [
        "# calculate spearman's correlation\n",
        "corr, _ = spearmanr(data1, data2)\n",
        "print('Spearmans correlation: %.3f' % corr)"
      ],
      "execution_count": 0,
      "outputs": [
        {
          "output_type": "stream",
          "text": [
            "Spearmans correlation: 0.872\n"
          ],
          "name": "stdout"
        }
      ]
    },
    {
      "cell_type": "markdown",
      "metadata": {
        "id": "CiEZx4vzBMl5",
        "colab_type": "text"
      },
      "source": [
        "***\n",
        "# <img src=\"https://img.icons8.com/color/32/000000/graph.png\"/> Receiver Operator Characteristic\n",
        "***"
      ]
    },
    {
      "cell_type": "markdown",
      "metadata": {
        "id": "HAujcsvGBTaR",
        "colab_type": "text"
      },
      "source": [
        "Receiver Operator Characteristics (ROC) graphs are useful tools to select classification models based on their performance with respect to the *False Positive* and *True Positive* rates."
      ]
    },
    {
      "cell_type": "markdown",
      "metadata": {
        "id": "thq1HS-xCsrQ",
        "colab_type": "text"
      },
      "source": [
        "### <img src=\"https://img.icons8.com/color/32/000000/code.png\"/>Example"
      ]
    },
    {
      "cell_type": "code",
      "metadata": {
        "id": "QVN7N7LOCJ5L",
        "colab_type": "code",
        "outputId": "d1e6864a-6c1b-426e-d6ec-f55959684cec",
        "colab": {
          "base_uri": "https://localhost:8080/",
          "height": 350
        }
      },
      "source": [
        "import numpy as np\n",
        "import matplotlib.pyplot as plt\n",
        "from sklearn import svm, datasets\n",
        "from sklearn.model_selection import train_test_split\n",
        "from sklearn.metrics import roc_curve, auc\n",
        "\n",
        "random_state = np.random.RandomState(0)\n",
        "\n",
        "# Import some data to play with\n",
        "iris = datasets.load_iris()\n",
        "X = iris.data\n",
        "y = iris.target\n",
        "\n",
        "# Make it a binary classification problem by removing the third class\n",
        "X, y = X[y != 2], y[y != 2]\n",
        "n_samples, n_features = X.shape\n",
        "\n",
        "# Add noisy features to make the problem harder\n",
        "X = np.c_[X, random_state.randn(n_samples, 200 * n_features)]\n",
        "\n",
        "# shuffle and split training and test sets\n",
        "X_train, X_test, y_train, y_test = train_test_split(X, y, test_size=.5,\n",
        "                                                    random_state=123)\n",
        "\n",
        "# Run classifier\n",
        "classifier = svm.SVC(kernel='linear', probability=True)\n",
        "probas_ = classifier.fit(X_train, y_train).predict_proba(X_test)\n",
        "\n",
        "# Compute ROC curve and area the curve\n",
        "fpr, tpr, thresholds = roc_curve(y_test, probas_[:, 1])\n",
        "roc_auc = auc(fpr, tpr)\n",
        "\n",
        "# Plot ROC curve\n",
        "\n",
        "fig = plt.figure(figsize=(7,5))\n",
        "ax = fig.add_subplot(111)\n",
        "\n",
        "plt.plot(fpr, tpr, color='lightblue', lw=2, label='ROC curve')\n",
        "plt.plot([0, 1], [0, 1], color='black', lw=2, linestyle='dotted', label='random guessing')\n",
        "plt.xlim([0.0, 1.0])\n",
        "plt.ylim([0.0, 1.0])\n",
        "plt.xlabel('False Positive Rate')\n",
        "plt.ylabel('True Positive Rate')\n",
        "plt.title('Receiver operating characteristic (ROC)')\n",
        "plt.legend(loc=\"lower right\")\n",
        "ax.annotate('AUC = %0.2f' %roc_auc, xy=(0.35, 0.6))\n",
        "plt.show()"
      ],
      "execution_count": 0,
      "outputs": [
        {
          "output_type": "display_data",
          "data": {
            "image/png": "[encoded data removed]",
            "text/plain": [
              "<Figure size 504x360 with 1 Axes>"
            ]
          },
          "metadata": {
            "tags": [],
            "needs_background": "light"
          }
        }
      ]
    },
    {
      "cell_type": "markdown",
      "metadata": {
        "id": "MQzrTqlfCcHM",
        "colab_type": "text"
      },
      "source": [
        "The diagonal of a ROC graph can be interpreted as *random guessing* and\n",
        "classification models that fall below the diagonal are considered as worse than\n",
        "random guessing. A perfect classifier would fall into the top left corner of the\n",
        "graph with a True Positive Rate of 1 and a False Positive Rate of 0."
      ]
    },
    {
      "cell_type": "markdown",
      "metadata": {
        "id": "UdxYi7jfCysJ",
        "colab_type": "text"
      },
      "source": [
        "### <img src=\"https://img.icons8.com/color/32/000000/area-chart.png\"/> Area under the ROC curve"
      ]
    },
    {
      "cell_type": "markdown",
      "metadata": {
        "id": "Su9UhGYeC2tT",
        "colab_type": "text"
      },
      "source": [
        "Based on the ROC curve, a metric known as the Area Under the Curve (AUC) can be calculated to characterize the performance of a classification model. "
      ]
    },
    {
      "cell_type": "markdown",
      "metadata": {
        "id": "YxSB1xMRSjfF",
        "colab_type": "text"
      },
      "source": [
        "# <img src=\"https://img.icons8.com/color/32/000000/new-document.png\"/>  Metrics example"
      ]
    },
    {
      "cell_type": "code",
      "metadata": {
        "id": "IJd7CfJTRwkq",
        "colab_type": "code",
        "outputId": "1d22c832-b97e-43b1-f94c-bef8a7a0d889",
        "colab": {
          "base_uri": "https://localhost:8080/",
          "height": 221
        }
      },
      "source": [
        "# demonstration of calculating metrics for a neural network model using sklearn\n",
        "\n",
        "%tensorflow_version 2.x\n",
        "from sklearn.datasets import make_circles\n",
        "from sklearn.metrics import accuracy_score\n",
        "from sklearn.metrics import precision_score\n",
        "from sklearn.metrics import recall_score\n",
        "from sklearn.metrics import f1_score\n",
        "from sklearn.metrics import cohen_kappa_score\n",
        "from sklearn.metrics import roc_auc_score\n",
        "from sklearn.metrics import confusion_matrix\n",
        "from scipy.stats import pearsonr\n",
        "from scipy.stats import spearmanr\n",
        "from keras.models import Sequential\n",
        "from keras.layers import Dense\n",
        "\n",
        "# generate and prepare the dataset\n",
        "def get_data():\n",
        "\t# generate dataset\n",
        "\tX, y = make_circles(n_samples=1000, noise=0.1, random_state=1)\n",
        "\t# split into train and test\n",
        "\tn_test = 500\n",
        "\ttrainX, testX = X[:n_test, :], X[n_test:, :]\n",
        "\ttrainy, testy = y[:n_test], y[n_test:]\n",
        "\treturn trainX, trainy, testX, testy\n",
        "\n",
        "# define and fit the model\n",
        "def get_model(trainX, trainy):\n",
        "\t# define model\n",
        "\tmodel = Sequential()\n",
        "\tmodel.add(Dense(100, input_dim=2, activation='relu'))\n",
        "\tmodel.add(Dense(1, activation='sigmoid'))\n",
        "\t# compile model\n",
        "\tmodel.compile(loss='binary_crossentropy', optimizer='adam', metrics=['accuracy'])\n",
        "\t# fit model\n",
        "\tmodel.fit(trainX, trainy, epochs=300, verbose=0)\n",
        "\treturn model\n",
        "\n",
        "# generate data\n",
        "trainX, trainy, testX, testy = get_data()\n",
        "# fit model\n",
        "model = get_model(trainX, trainy)\n",
        "\n",
        "\n",
        "# predict probabilities for test set\n",
        "yhat_probs = model.predict(testX, verbose=0)\n",
        "# predict crisp classes for test set\n",
        "yhat_classes = model.predict_classes(testX, verbose=0)\n",
        "# reduce to 1d array\n",
        "yhat_probs = yhat_probs[:, 0]\n",
        "yhat_classes = yhat_classes[:, 0]\n",
        "\n",
        "# accuracy: (tp + tn) / (p + n)\n",
        "accuracy = accuracy_score(testy, yhat_classes)\n",
        "print('Accuracy: %.3f' % accuracy)\n",
        "print('Error: %.3f' % (1.-accuracy))\n",
        "\n",
        "\n",
        "# precision tp / (tp + fp)\n",
        "precision = precision_score(testy, yhat_classes)\n",
        "print('Precision: %.3f' % precision)\n",
        "# recall: tp / (tp + fn)\n",
        "recall = recall_score(testy, yhat_classes)\n",
        "print('Recall: %.3f' % recall)\n",
        "# f1: 2 tp / (2 tp + fp + fn)\n",
        "f1 = f1_score(testy, yhat_classes)\n",
        "print('F1 score: %.3f' % f1)\n",
        "\n",
        "# kappa\n",
        "kappa = cohen_kappa_score(testy, yhat_classes)\n",
        "print('Cohens kappa: %.3f' % kappa)\n",
        "\n",
        "# correlation\n",
        "pearson_r, _ = pearsonr(testy, yhat_classes)\n",
        "print('Pearson\\'s r: %.3f' % pearson_r)\n",
        "spearman_r, _ = spearmanr(testy, yhat_classes)\n",
        "print('Spearman\\'s r: %.3f' % spearman_r)\n",
        "\n",
        "# ROC AUC\n",
        "auc = roc_auc_score(testy, yhat_probs)\n",
        "print('ROC AUC: %.3f' % auc)\n",
        "\n",
        "# confusion matrix\\\n",
        "print('Confusion matrix:')\n",
        "matrix = confusion_matrix(testy, yhat_classes)\n",
        "print(matrix)\n",
        "\n",
        "# source: https://machinelearningmastery.com/how-to-calculate-precision-recall-f1-and-more-for-deep-learning-models/"
      ],
      "execution_count": 0,
      "outputs": [
        {
          "output_type": "stream",
          "text": [
            "Accuracy: 0.848\n",
            "Error: 0.152\n",
            "Precision: 0.849\n",
            "Recall: 0.849\n",
            "F1 score: 0.849\n",
            "Cohens kappa: 0.696\n",
            "Pearson's r: 0.696\n",
            "Spearman's r: 0.696\n",
            "ROC AUC: 0.923\n",
            "Confusion matrix:\n",
            "[[210  38]\n",
            " [ 38 214]]\n"
          ],
          "name": "stdout"
        }
      ]
    },
    {
      "cell_type": "markdown",
      "metadata": {
        "id": "dlVHJ3y89GpF",
        "colab_type": "text"
      },
      "source": [
        "***\n",
        "# <img src=\"https://img.icons8.com/color/32/000000/chat.png\"/> Discussion\n",
        "***\n",
        "\n",
        "1. Why is accuracy does not always give a clear picture of performance?\n",
        "1. When is accuracy the most reliable?\n",
        "1. Which is worse? \n",
        "  * misdiagnosing a healthy person as having `COVID 19`\n",
        "  * misdiagnosing a person infected with `COVID 19` as healthy\n",
        "1. Which value of the AU-ROC indicates random guessing?"
      ]
    }
  ]
}