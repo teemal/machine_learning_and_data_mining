{
  "nbformat": 4,
  "nbformat_minor": 0,
  "metadata": {
    "colab": {
      "name": "Activity 09.ipynb",
      "provenance": [],
      "collapsed_sections": []
    },
    "kernelspec": {
      "name": "python3",
      "display_name": "Python 3"
    }
  },
  "cells": [
    {
      "cell_type": "markdown",
      "metadata": {
        "id": "bOFEarMaMNUa",
        "colab_type": "text"
      },
      "source": [
        "# Activity 09 - $k$-Nearest Neighbor"
      ]
    },
    {
      "cell_type": "markdown",
      "metadata": {
        "id": "LHipIePrMQue",
        "colab_type": "text"
      },
      "source": [
        "***\n",
        "##### CS 434 - Dating Mining and Machine Learning\n",
        "##### Oregon State University-Cascades\n",
        "***"
      ]
    },
    {
      "cell_type": "markdown",
      "metadata": {
        "id": "BRiSNR6MMUuH",
        "colab_type": "text"
      },
      "source": [
        "# Load packages"
      ]
    },
    {
      "cell_type": "code",
      "metadata": {
        "id": "5v-tWfx8MW2_",
        "colab_type": "code",
        "colab": {}
      },
      "source": [
        "import ssl\n",
        "import math \n",
        "import pandas as pd\n",
        "import numpy as np\n",
        "import matplotlib.pyplot as plt\n",
        "from sklearn.neighbors import KNeighborsClassifier\n",
        "from sklearn.model_selection import train_test_split\n",
        "from sklearn.model_selection import GridSearchCV\n",
        "from scipy.stats.stats import pearsonr, spearmanr\n",
        "from sklearn.metrics import confusion_matrix\n",
        "from sklearn.metrics import accuracy_score\n",
        "from sklearn.metrics import precision_score\n",
        "from sklearn.metrics import recall_score\n",
        "from sklearn.metrics import confusion_matrix\n",
        "from sklearn.metrics import f1_score\n",
        "from sklearn.preprocessing import StandardScaler\n",
        "ssl._create_default_https_context = ssl._create_unverified_context"
      ],
      "execution_count": 0,
      "outputs": []
    },
    {
      "cell_type": "markdown",
      "metadata": {
        "id": "piUNe2esMatv",
        "colab_type": "text"
      },
      "source": [
        "# Dataset"
      ]
    },
    {
      "cell_type": "markdown",
      "metadata": {
        "id": "rneLv-hQJ_Zz",
        "colab_type": "text"
      },
      "source": [
        "[UCI Yeast Dataset](http://archive.ics.uci.edu/ml/datasets/Yeast)\n",
        "\n",
        "Predicted Attribute: Localization site of protein. ( non-numeric )."
      ]
    },
    {
      "cell_type": "markdown",
      "metadata": {
        "id": "BBFDaIaQKH9L",
        "colab_type": "text"
      },
      "source": [
        "### Features\n",
        "* **Sequence Name**: Accession number for the SWISS-PROT database\n",
        "* **mcg**: McGeoch's method for signal sequence recognition.\n",
        "* **gvh**: von Heijne's method for signal sequence recognition.\n",
        "* **alm**: Score of the ALOM membrane spanning region prediction program.\n",
        "* **mit**: Score of discriminant analysis of the amino acid content of the N-terminal region (20 residues long) of mitochondrial and non-mitochondrial proteins.\n",
        "* **erl**: Presence of \"HDEL\" substring (thought to act as a signal for retention in the endoplasmic reticulum lumen). Binary attribute.\n",
        "* **pox**: Peroxisomal targeting signal in the C-terminus.\n",
        "* **vac**: Score of discriminant analysis of the amino acid content of vacuolar and extracellular proteins.\n",
        "\n",
        "### Class label\n",
        "* **nuc**: Score of discriminant analysis of nuclear localization signals of nuclear and non-nuclear proteins."
      ]
    },
    {
      "cell_type": "markdown",
      "metadata": {
        "id": "miJd-q-McZxW",
        "colab_type": "text"
      },
      "source": [
        "> Note: this is a hard dataset.  The best reported result is $F_1$ = `0.608`. (src: [Table 4](https://arxiv.org/ftp/arxiv/papers/1703/1703.08283.pdf))"
      ]
    },
    {
      "cell_type": "code",
      "metadata": {
        "id": "nTD1RHnXS5hq",
        "colab_type": "code",
        "colab": {}
      },
      "source": [
        "url='http://archive.ics.uci.edu/ml/machine-learning-databases/yeast/yeast.data'\n",
        "header=['sequence','mcg','gvh','alm','mit','erl','pox','vac','nuc']"
      ],
      "execution_count": 0,
      "outputs": []
    },
    {
      "cell_type": "markdown",
      "metadata": {
        "id": "rR65RveTTCip",
        "colab_type": "text"
      },
      "source": [
        "*** \n",
        "# Exercise #1 - Load data\n",
        "*** "
      ]
    },
    {
      "cell_type": "markdown",
      "metadata": {
        "id": "Imo7US7-TFfN",
        "colab_type": "text"
      },
      "source": [
        "##### 1.1 Read the url into new dataframe `df`."
      ]
    },
    {
      "cell_type": "markdown",
      "metadata": {
        "id": "reJNh8TxUGna",
        "colab_type": "text"
      },
      "source": [
        "* mind your delimiter\n",
        "* take the first column as row index (default)"
      ]
    },
    {
      "cell_type": "code",
      "metadata": {
        "id": "hDvUnLSxTJd0",
        "colab_type": "code",
        "colab": {}
      },
      "source": [
        "# read the url into df\n",
        "print('your code here')"
      ],
      "execution_count": 0,
      "outputs": []
    },
    {
      "cell_type": "markdown",
      "metadata": {
        "id": "N1z60OdxTk17",
        "colab_type": "text"
      },
      "source": [
        "##### 1.2 Describe your data\n"
      ]
    },
    {
      "cell_type": "code",
      "metadata": {
        "id": "YFoCYLKOTkIj",
        "colab_type": "code",
        "colab": {}
      },
      "source": [
        "# describe the dataset\n",
        "print('your code here')"
      ],
      "execution_count": 0,
      "outputs": []
    },
    {
      "cell_type": "markdown",
      "metadata": {
        "id": "95LxSOxJUyYq",
        "colab_type": "text"
      },
      "source": [
        "*** \n",
        "# Exercise #2 - Prepare the experiment\n",
        "***"
      ]
    },
    {
      "cell_type": "markdown",
      "metadata": {
        "id": "dygReVACU7PL",
        "colab_type": "text"
      },
      "source": [
        "##### 2.1 Split `X` and `y`"
      ]
    },
    {
      "cell_type": "code",
      "metadata": {
        "id": "isPWb9ssU-by",
        "colab_type": "code",
        "colab": {}
      },
      "source": [
        "# split to X and y\n",
        "print('your code here')"
      ],
      "execution_count": 0,
      "outputs": []
    },
    {
      "cell_type": "markdown",
      "metadata": {
        "id": "imI1_ZB7VND_",
        "colab_type": "text"
      },
      "source": [
        "##### 2.2 Partition to train and test sets"
      ]
    },
    {
      "cell_type": "markdown",
      "metadata": {
        "id": "lQjGZFL8VPwQ",
        "colab_type": "text"
      },
      "source": [
        "* test proportion of 20%\n",
        "* `random_state=1`\n",
        "* stratify by `y`"
      ]
    },
    {
      "cell_type": "code",
      "metadata": {
        "id": "IuYIgLn4VSSq",
        "colab_type": "code",
        "colab": {}
      },
      "source": [
        "# partition to train and test sets\n",
        "print('your code here')"
      ],
      "execution_count": 0,
      "outputs": []
    },
    {
      "cell_type": "markdown",
      "metadata": {
        "id": "8RHnBDdkVVJx",
        "colab_type": "text"
      },
      "source": [
        "##### 2.3 Print the shapes of your four sets"
      ]
    },
    {
      "cell_type": "code",
      "metadata": {
        "id": "dCAsKq41VXu-",
        "colab_type": "code",
        "colab": {}
      },
      "source": [
        "# print shapes of train and test\n",
        "print('your code here')"
      ],
      "execution_count": 0,
      "outputs": []
    },
    {
      "cell_type": "markdown",
      "metadata": {
        "id": "xPk_0eP4uMqj",
        "colab_type": "text"
      },
      "source": [
        "##### 2.4 Experiment to train and test model"
      ]
    },
    {
      "cell_type": "markdown",
      "metadata": {
        "id": "Ev4mqJxfumzD",
        "colab_type": "text"
      },
      "source": [
        "Complete the function to:\n",
        "1. Build [$k$-NN](https://scikit-learn.org/stable/modules/generated/sklearn.neighbors.KNeighborsClassifier.html) model with Euclidean distance\n",
        "1. Train the model\n",
        "1. Test the model and save prediction as `y_pred`\n",
        "1. Calculate `score`\n",
        "1. Return the `score` and `y_pred`"
      ]
    },
    {
      "cell_type": "code",
      "metadata": {
        "id": "MlEDTn_sUvAH",
        "colab_type": "code",
        "colab": {}
      },
      "source": [
        "def train_and_test(X_train, X_test, y_train, y_test, k=5):\n",
        "  # (1) build k-NN model\n",
        "  print('your code here')\n",
        "\n",
        "  # (2) train the model\n",
        "  print('your code here')\n",
        "\n",
        "  # (3) test the model\n",
        "  print('your code here')\n",
        "\n",
        "  # (4) calculate score\n",
        "  print('your code here')\n",
        "\n",
        "  # (5) return score and y_pred\n",
        "  return score, y_pred"
      ],
      "execution_count": 0,
      "outputs": []
    },
    {
      "cell_type": "markdown",
      "metadata": {
        "id": "XFvUDQmGjUcn",
        "colab_type": "text"
      },
      "source": [
        "*** \n",
        "# Exercise #3 - Run the experiment\n",
        "*** "
      ]
    },
    {
      "cell_type": "markdown",
      "metadata": {
        "id": "GvOQz6m5j8vP",
        "colab_type": "text"
      },
      "source": [
        "##### 3.1 Predict the test set\n",
        "* use $k=11$\n",
        "* save predictions as `y_pred`\n",
        "* save score as `score`"
      ]
    },
    {
      "cell_type": "code",
      "metadata": {
        "id": "4yQH7SIqvYMn",
        "colab_type": "code",
        "colab": {}
      },
      "source": [
        "# call your train_and_test function\n",
        "print('your code here')"
      ],
      "execution_count": 0,
      "outputs": []
    },
    {
      "cell_type": "markdown",
      "metadata": {
        "id": "v4QVt-q4vzP-",
        "colab_type": "text"
      },
      "source": [
        "##### 3.2 Print your test score from result of Exercise `3.1`"
      ]
    },
    {
      "cell_type": "code",
      "metadata": {
        "id": "NsUYgCOEv5zv",
        "colab_type": "code",
        "colab": {}
      },
      "source": [
        "# print the accuracy you returned in 3.1\n",
        "print('your code here')"
      ],
      "execution_count": 0,
      "outputs": []
    },
    {
      "cell_type": "markdown",
      "metadata": {
        "id": "MNOsKVEWwVSA",
        "colab_type": "text"
      },
      "source": [
        "##### 3.3 Count the predictions by class label"
      ]
    },
    {
      "cell_type": "code",
      "metadata": {
        "id": "gjhzTDgWkE80",
        "colab_type": "code",
        "colab": {}
      },
      "source": [
        "# count the number of predictions by class\n",
        "print('your code here')"
      ],
      "execution_count": 0,
      "outputs": []
    },
    {
      "cell_type": "markdown",
      "metadata": {
        "id": "9yN-qS-jzCaU",
        "colab_type": "text"
      },
      "source": [
        "##### 3.4 Graph a confusion matrix"
      ]
    },
    {
      "cell_type": "code",
      "metadata": {
        "id": "Lje9nQ2EYDrV",
        "colab_type": "code",
        "colab": {}
      },
      "source": [
        "# graph a confusion matrix\n",
        "print('your code here')"
      ],
      "execution_count": 0,
      "outputs": []
    },
    {
      "cell_type": "markdown",
      "metadata": {
        "id": "E3pd-F2BzJTb",
        "colab_type": "text"
      },
      "source": [
        "##### 3.5 Calculate precision, recall, and F$_1$"
      ]
    },
    {
      "cell_type": "code",
      "metadata": {
        "id": "S19bJR0ZYV10",
        "colab_type": "code",
        "colab": {}
      },
      "source": [
        "# precision, recall, and F1\n",
        "print('your code here')"
      ],
      "execution_count": 0,
      "outputs": []
    },
    {
      "cell_type": "markdown",
      "metadata": {
        "id": "lVbnu12yxoCb",
        "colab_type": "text"
      },
      "source": [
        "> The warning you see if because we didn't predict any instances for some of the classes.  Therefore `precision` gets a `0/0` in its calculation.  We want this `NaN` to be treated as `0`, which is the default behaviour (with warning).  \n",
        ">\n",
        ">To suppress the warning, add the parameter `zero_division=0`.  But in most cases, it's useful to be reminded that we aren't predicting all labels. "
      ]
    },
    {
      "cell_type": "markdown",
      "metadata": {
        "id": "OWqFmKZiy6y5",
        "colab_type": "text"
      },
      "source": [
        "*** \n",
        "# Exercise #4 - Select the best $k$ by math\n",
        "*** "
      ]
    },
    {
      "cell_type": "markdown",
      "metadata": {
        "id": "ti77V64fLvWE",
        "colab_type": "text"
      },
      "source": [
        "> Before lazily asking someone what to do here, review the lecture and/or textbook."
      ]
    },
    {
      "cell_type": "markdown",
      "metadata": {
        "id": "Jr4AJUzzy-2C",
        "colab_type": "text"
      },
      "source": [
        "##### 4.1 Calculate an \"informed\" value of $k$ using the math approach"
      ]
    },
    {
      "cell_type": "markdown",
      "metadata": {
        "id": "vzbMpN7iL_Pk",
        "colab_type": "text"
      },
      "source": [
        "* calculate it; don't just hard-code a number\n",
        "* save as variable `k`\n",
        "* round to nearest *odd* number"
      ]
    },
    {
      "cell_type": "code",
      "metadata": {
        "id": "A14xaA0m1WQz",
        "colab_type": "code",
        "colab": {}
      },
      "source": [
        "# calculate k\n",
        "print('your code here')  "
      ],
      "execution_count": 0,
      "outputs": []
    },
    {
      "cell_type": "markdown",
      "metadata": {
        "id": "OsVpiURoLZBQ",
        "colab_type": "text"
      },
      "source": [
        "##### 4.2 Print $k$"
      ]
    },
    {
      "cell_type": "code",
      "metadata": {
        "id": "HDdQgf0IOGVv",
        "colab_type": "code",
        "outputId": "3e157f33-f9d2-47aa-c58c-3bc96fc564e2",
        "colab": {
          "base_uri": "https://localhost:8080/",
          "height": 34
        }
      },
      "source": [
        "# print k\n",
        "print(k)"
      ],
      "execution_count": 0,
      "outputs": [
        {
          "output_type": "stream",
          "text": [
            "35\n"
          ],
          "name": "stdout"
        }
      ]
    },
    {
      "cell_type": "markdown",
      "metadata": {
        "id": "2msgzGMELBKE",
        "colab_type": "text"
      },
      "source": [
        "##### 4.3 Call `train_and_test` with your value of $k$"
      ]
    },
    {
      "cell_type": "code",
      "metadata": {
        "id": "Euu_SJ-0OO5l",
        "colab_type": "code",
        "colab": {}
      },
      "source": [
        "# call train_and_test with your new k\n",
        "print('your code here')"
      ],
      "execution_count": 0,
      "outputs": []
    },
    {
      "cell_type": "markdown",
      "metadata": {
        "id": "dqWzfkm3Lf1V",
        "colab_type": "text"
      },
      "source": [
        "*** \n",
        "# Exercise #5 - Select $k$ by experiment\n",
        "*** "
      ]
    },
    {
      "cell_type": "markdown",
      "metadata": {
        "id": "BidwHad35xU9",
        "colab_type": "text"
      },
      "source": [
        "##### 5.1 Select the best $k$ by exeriment"
      ]
    },
    {
      "cell_type": "markdown",
      "metadata": {
        "id": "eRwWjeAS8LDO",
        "colab_type": "text"
      },
      "source": [
        "* run $k$ = 1 to 99\n",
        "* only check odd values of $k$\n",
        "* train_and_test each $k$\n",
        "* save the score in list `k_results`"
      ]
    },
    {
      "cell_type": "code",
      "metadata": {
        "id": "lFvh162dVtRw",
        "colab_type": "code",
        "colab": {}
      },
      "source": [
        "# run k = 1 to 99 and save results\n",
        "print('your code here')"
      ],
      "execution_count": 0,
      "outputs": []
    },
    {
      "cell_type": "markdown",
      "metadata": {
        "id": "q-mi4H-IKrUd",
        "colab_type": "text"
      },
      "source": [
        "##### 5.2 Plot $k$ vs score"
      ]
    },
    {
      "cell_type": "markdown",
      "metadata": {
        "id": "c0fwwToRK0LH",
        "colab_type": "text"
      },
      "source": [
        "* x-axis is $k$ from 1 to 99 (odds)\n",
        "* y-axis is the respective score\n",
        "* label your graph"
      ]
    },
    {
      "cell_type": "code",
      "metadata": {
        "id": "l3TLb60WXpdm",
        "colab_type": "code",
        "colab": {}
      },
      "source": [
        "# graph k against the respective score\n",
        "print('your code here')"
      ],
      "execution_count": 0,
      "outputs": []
    },
    {
      "cell_type": "markdown",
      "metadata": {
        "id": "j0asR34VOqDE",
        "colab_type": "text"
      },
      "source": [
        "##### 5.3 Find the best $k$"
      ]
    },
    {
      "cell_type": "markdown",
      "metadata": {
        "id": "sClzHTcIOsqD",
        "colab_type": "text"
      },
      "source": [
        "* iterate over your values of $k$\n",
        "* print the value $k$, a tab `\\t`, and the respective score\n",
        "* use `.format` notation\n",
        "* format your floats (to six places, the default for `:f`)\n",
        "* your numbers should line up (width) with the header"
      ]
    },
    {
      "cell_type": "code",
      "metadata": {
        "id": "qAOzvpt7OtFi",
        "colab_type": "code",
        "colab": {}
      },
      "source": [
        "# print accuracy for each k\n",
        "print('k\\taccuracy\\n================')\n",
        "print('your code here')"
      ],
      "execution_count": 0,
      "outputs": []
    },
    {
      "cell_type": "markdown",
      "metadata": {
        "id": "q4cD6FoK8z1V",
        "colab_type": "text"
      },
      "source": [
        "##### 5.4 Print the average score across all `k`'s"
      ]
    },
    {
      "cell_type": "code",
      "metadata": {
        "id": "NWm_BeMk84a6",
        "colab_type": "code",
        "colab": {}
      },
      "source": [
        "# average score of the k_results\n",
        "print('your code here')"
      ],
      "execution_count": 0,
      "outputs": []
    },
    {
      "cell_type": "markdown",
      "metadata": {
        "id": "-mMSiqox9BOO",
        "colab_type": "text"
      },
      "source": [
        "> This doesn't tell us anything useful or informative, but it's a Canvas questions nevertheless. "
      ]
    },
    {
      "cell_type": "markdown",
      "metadata": {
        "id": "ioysClCf8iPs",
        "colab_type": "text"
      },
      "source": [
        "##### 5.5 Train vs. Validation vs. Test"
      ]
    },
    {
      "cell_type": "markdown",
      "metadata": {
        "id": "LhdFGukKRMlP",
        "colab_type": "text"
      },
      "source": [
        "> Note: In the above section we calculated the best `k` by viewing performance on the `test` set.  This is fine for our learning purposes and can be informative. However, in a true experiment, this would be *cheating* because we used the `test` set to learn a parameter for our model.\n",
        ">\n",
        ">  The proper way is to divide the `train` set into `train'` and `validation` sets. We then train on `train'` and use the `validation` set to test our model while exploring the values of $k$. After selecting a final $k$, we retrain the model on the original `train` set, and evaluate with the held-out `test` set. "
      ]
    },
    {
      "cell_type": "markdown",
      "metadata": {
        "id": "vnx6HIifSSTb",
        "colab_type": "text"
      },
      "source": [
        "<img src=\"https://66.media.tumblr.com/dded9d1a2bf2068f92af9f7a9b6b5451/tumblr_p6s3hbPzgV1vd8jsjo1_500.gifv\" width=\"300\">"
      ]
    }
  ]
}