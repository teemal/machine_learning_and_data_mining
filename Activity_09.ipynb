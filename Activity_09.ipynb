{
  "nbformat": 4,
  "nbformat_minor": 0,
  "metadata": {
    "colab": {
      "name": "Activity 09.ipynb",
      "provenance": [],
      "collapsed_sections": []
    },
    "kernelspec": {
      "name": "python3",
      "display_name": "Python 3"
    }
  },
  "cells": [
    {
      "cell_type": "markdown",
      "metadata": {
        "id": "bOFEarMaMNUa",
        "colab_type": "text"
      },
      "source": [
        "# Activity 09 - $k$-Nearest Neighbor"
      ]
    },
    {
      "cell_type": "markdown",
      "metadata": {
        "id": "LHipIePrMQue",
        "colab_type": "text"
      },
      "source": [
        "***\n",
        "##### CS 434 - Dating Mining and Machine Learning\n",
        "##### Oregon State University-Cascades\n",
        "***"
      ]
    },
    {
      "cell_type": "markdown",
      "metadata": {
        "id": "BRiSNR6MMUuH",
        "colab_type": "text"
      },
      "source": [
        "# Load packages"
      ]
    },
    {
      "cell_type": "code",
      "metadata": {
        "id": "5v-tWfx8MW2_",
        "colab_type": "code",
        "colab": {}
      },
      "source": [
        "import ssl\n",
        "import math \n",
        "import pandas as pd\n",
        "import numpy as np\n",
        "import matplotlib.pyplot as plt\n",
        "from sklearn.neighbors import KNeighborsClassifier\n",
        "from sklearn.model_selection import train_test_split\n",
        "from sklearn.model_selection import GridSearchCV\n",
        "from scipy.stats.stats import pearsonr, spearmanr\n",
        "from sklearn.metrics import confusion_matrix\n",
        "from sklearn.metrics import accuracy_score\n",
        "from sklearn.metrics import precision_score\n",
        "from sklearn.metrics import recall_score\n",
        "from sklearn.metrics import confusion_matrix\n",
        "from sklearn.metrics import f1_score\n",
        "from sklearn.preprocessing import StandardScaler\n",
        "ssl._create_default_https_context = ssl._create_unverified_context"
      ],
      "execution_count": 0,
      "outputs": []
    },
    {
      "cell_type": "markdown",
      "metadata": {
        "id": "piUNe2esMatv",
        "colab_type": "text"
      },
      "source": [
        "# Dataset"
      ]
    },
    {
      "cell_type": "markdown",
      "metadata": {
        "id": "rneLv-hQJ_Zz",
        "colab_type": "text"
      },
      "source": [
        "[UCI Yeast Dataset](http://archive.ics.uci.edu/ml/datasets/Yeast)\n",
        "\n",
        "Predicted Attribute: Localization site of protein. ( non-numeric )."
      ]
    },
    {
      "cell_type": "markdown",
      "metadata": {
        "id": "BBFDaIaQKH9L",
        "colab_type": "text"
      },
      "source": [
        "### Features\n",
        "* **Sequence Name**: Accession number for the SWISS-PROT database\n",
        "* **mcg**: McGeoch's method for signal sequence recognition.\n",
        "* **gvh**: von Heijne's method for signal sequence recognition.\n",
        "* **alm**: Score of the ALOM membrane spanning region prediction program.\n",
        "* **mit**: Score of discriminant analysis of the amino acid content of the N-terminal region (20 residues long) of mitochondrial and non-mitochondrial proteins.\n",
        "* **erl**: Presence of \"HDEL\" substring (thought to act as a signal for retention in the endoplasmic reticulum lumen). Binary attribute.\n",
        "* **pox**: Peroxisomal targeting signal in the C-terminus.\n",
        "* **vac**: Score of discriminant analysis of the amino acid content of vacuolar and extracellular proteins.\n",
        "\n",
        "### Class label\n",
        "* **nuc**: Score of discriminant analysis of nuclear localization signals of nuclear and non-nuclear proteins."
      ]
    },
    {
      "cell_type": "markdown",
      "metadata": {
        "id": "miJd-q-McZxW",
        "colab_type": "text"
      },
      "source": [
        "> Note: this is a hard dataset.  The best reported result is $F_1$ = `0.608`. (src: [Table 4](https://arxiv.org/ftp/arxiv/papers/1703/1703.08283.pdf))"
      ]
    },
    {
      "cell_type": "code",
      "metadata": {
        "id": "nTD1RHnXS5hq",
        "colab_type": "code",
        "colab": {}
      },
      "source": [
        "url='http://archive.ics.uci.edu/ml/machine-learning-databases/yeast/yeast.data'\n",
        "header=['sequence','mcg','gvh','alm','mit','erl','pox','vac','nuc']"
      ],
      "execution_count": 0,
      "outputs": []
    },
    {
      "cell_type": "markdown",
      "metadata": {
        "id": "rR65RveTTCip",
        "colab_type": "text"
      },
      "source": [
        "*** \n",
        "# Exercise #1 - Load data\n",
        "*** "
      ]
    },
    {
      "cell_type": "markdown",
      "metadata": {
        "id": "Imo7US7-TFfN",
        "colab_type": "text"
      },
      "source": [
        "##### 1.1 Read the url into new dataframe `df`."
      ]
    },
    {
      "cell_type": "markdown",
      "metadata": {
        "id": "reJNh8TxUGna",
        "colab_type": "text"
      },
      "source": [
        "* mind your delimiter\n",
        "* take the first column as row index (default)"
      ]
    },
    {
      "cell_type": "code",
      "metadata": {
        "id": "hDvUnLSxTJd0",
        "colab_type": "code",
        "colab": {
          "base_uri": "https://localhost:8080/",
          "height": 450
        },
        "outputId": "e098fabe-db69-46b8-9b3d-1b2ff0eed3ce"
      },
      "source": [
        "# read the url into df\n",
        "df = pd.read_csv(url, header=None, sep='\\s+', index_col=0)\n",
        "df.columns = header\n",
        "df"
      ],
      "execution_count": 25,
      "outputs": [
        {
          "output_type": "execute_result",
          "data": {
            "text/html": [
              "<div>\n",
              "<style scoped>\n",
              "    .dataframe tbody tr th:only-of-type {\n",
              "        vertical-align: middle;\n",
              "    }\n",
              "\n",
              "    .dataframe tbody tr th {\n",
              "        vertical-align: top;\n",
              "    }\n",
              "\n",
              "    .dataframe thead th {\n",
              "        text-align: right;\n",
              "    }\n",
              "</style>\n",
              "<table border=\"1\" class=\"dataframe\">\n",
              "  <thead>\n",
              "    <tr style=\"text-align: right;\">\n",
              "      <th></th>\n",
              "      <th>sequence</th>\n",
              "      <th>mcg</th>\n",
              "      <th>gvh</th>\n",
              "      <th>alm</th>\n",
              "      <th>mit</th>\n",
              "      <th>erl</th>\n",
              "      <th>pox</th>\n",
              "      <th>vac</th>\n",
              "      <th>nuc</th>\n",
              "    </tr>\n",
              "    <tr>\n",
              "      <th>0</th>\n",
              "      <th></th>\n",
              "      <th></th>\n",
              "      <th></th>\n",
              "      <th></th>\n",
              "      <th></th>\n",
              "      <th></th>\n",
              "      <th></th>\n",
              "      <th></th>\n",
              "      <th></th>\n",
              "    </tr>\n",
              "  </thead>\n",
              "  <tbody>\n",
              "    <tr>\n",
              "      <th>ADT1_YEAST</th>\n",
              "      <td>0.58</td>\n",
              "      <td>0.61</td>\n",
              "      <td>0.47</td>\n",
              "      <td>0.13</td>\n",
              "      <td>0.5</td>\n",
              "      <td>0.0</td>\n",
              "      <td>0.48</td>\n",
              "      <td>0.22</td>\n",
              "      <td>MIT</td>\n",
              "    </tr>\n",
              "    <tr>\n",
              "      <th>ADT2_YEAST</th>\n",
              "      <td>0.43</td>\n",
              "      <td>0.67</td>\n",
              "      <td>0.48</td>\n",
              "      <td>0.27</td>\n",
              "      <td>0.5</td>\n",
              "      <td>0.0</td>\n",
              "      <td>0.53</td>\n",
              "      <td>0.22</td>\n",
              "      <td>MIT</td>\n",
              "    </tr>\n",
              "    <tr>\n",
              "      <th>ADT3_YEAST</th>\n",
              "      <td>0.64</td>\n",
              "      <td>0.62</td>\n",
              "      <td>0.49</td>\n",
              "      <td>0.15</td>\n",
              "      <td>0.5</td>\n",
              "      <td>0.0</td>\n",
              "      <td>0.53</td>\n",
              "      <td>0.22</td>\n",
              "      <td>MIT</td>\n",
              "    </tr>\n",
              "    <tr>\n",
              "      <th>AAR2_YEAST</th>\n",
              "      <td>0.58</td>\n",
              "      <td>0.44</td>\n",
              "      <td>0.57</td>\n",
              "      <td>0.13</td>\n",
              "      <td>0.5</td>\n",
              "      <td>0.0</td>\n",
              "      <td>0.54</td>\n",
              "      <td>0.22</td>\n",
              "      <td>NUC</td>\n",
              "    </tr>\n",
              "    <tr>\n",
              "      <th>AATM_YEAST</th>\n",
              "      <td>0.42</td>\n",
              "      <td>0.44</td>\n",
              "      <td>0.48</td>\n",
              "      <td>0.54</td>\n",
              "      <td>0.5</td>\n",
              "      <td>0.0</td>\n",
              "      <td>0.48</td>\n",
              "      <td>0.22</td>\n",
              "      <td>MIT</td>\n",
              "    </tr>\n",
              "    <tr>\n",
              "      <th>...</th>\n",
              "      <td>...</td>\n",
              "      <td>...</td>\n",
              "      <td>...</td>\n",
              "      <td>...</td>\n",
              "      <td>...</td>\n",
              "      <td>...</td>\n",
              "      <td>...</td>\n",
              "      <td>...</td>\n",
              "      <td>...</td>\n",
              "    </tr>\n",
              "    <tr>\n",
              "      <th>YUR1_YEAST</th>\n",
              "      <td>0.81</td>\n",
              "      <td>0.62</td>\n",
              "      <td>0.43</td>\n",
              "      <td>0.17</td>\n",
              "      <td>0.5</td>\n",
              "      <td>0.0</td>\n",
              "      <td>0.53</td>\n",
              "      <td>0.22</td>\n",
              "      <td>ME2</td>\n",
              "    </tr>\n",
              "    <tr>\n",
              "      <th>ZIP1_YEAST</th>\n",
              "      <td>0.47</td>\n",
              "      <td>0.43</td>\n",
              "      <td>0.61</td>\n",
              "      <td>0.40</td>\n",
              "      <td>0.5</td>\n",
              "      <td>0.0</td>\n",
              "      <td>0.48</td>\n",
              "      <td>0.47</td>\n",
              "      <td>NUC</td>\n",
              "    </tr>\n",
              "    <tr>\n",
              "      <th>ZNRP_YEAST</th>\n",
              "      <td>0.67</td>\n",
              "      <td>0.57</td>\n",
              "      <td>0.36</td>\n",
              "      <td>0.19</td>\n",
              "      <td>0.5</td>\n",
              "      <td>0.0</td>\n",
              "      <td>0.56</td>\n",
              "      <td>0.22</td>\n",
              "      <td>ME2</td>\n",
              "    </tr>\n",
              "    <tr>\n",
              "      <th>ZUO1_YEAST</th>\n",
              "      <td>0.43</td>\n",
              "      <td>0.40</td>\n",
              "      <td>0.60</td>\n",
              "      <td>0.16</td>\n",
              "      <td>0.5</td>\n",
              "      <td>0.0</td>\n",
              "      <td>0.53</td>\n",
              "      <td>0.39</td>\n",
              "      <td>NUC</td>\n",
              "    </tr>\n",
              "    <tr>\n",
              "      <th>G6PD_YEAST</th>\n",
              "      <td>0.65</td>\n",
              "      <td>0.54</td>\n",
              "      <td>0.54</td>\n",
              "      <td>0.13</td>\n",
              "      <td>0.5</td>\n",
              "      <td>0.0</td>\n",
              "      <td>0.53</td>\n",
              "      <td>0.22</td>\n",
              "      <td>CYT</td>\n",
              "    </tr>\n",
              "  </tbody>\n",
              "</table>\n",
              "<p>1484 rows × 9 columns</p>\n",
              "</div>"
            ],
            "text/plain": [
              "            sequence   mcg   gvh   alm  mit  erl   pox   vac  nuc\n",
              "0                                                                \n",
              "ADT1_YEAST      0.58  0.61  0.47  0.13  0.5  0.0  0.48  0.22  MIT\n",
              "ADT2_YEAST      0.43  0.67  0.48  0.27  0.5  0.0  0.53  0.22  MIT\n",
              "ADT3_YEAST      0.64  0.62  0.49  0.15  0.5  0.0  0.53  0.22  MIT\n",
              "AAR2_YEAST      0.58  0.44  0.57  0.13  0.5  0.0  0.54  0.22  NUC\n",
              "AATM_YEAST      0.42  0.44  0.48  0.54  0.5  0.0  0.48  0.22  MIT\n",
              "...              ...   ...   ...   ...  ...  ...   ...   ...  ...\n",
              "YUR1_YEAST      0.81  0.62  0.43  0.17  0.5  0.0  0.53  0.22  ME2\n",
              "ZIP1_YEAST      0.47  0.43  0.61  0.40  0.5  0.0  0.48  0.47  NUC\n",
              "ZNRP_YEAST      0.67  0.57  0.36  0.19  0.5  0.0  0.56  0.22  ME2\n",
              "ZUO1_YEAST      0.43  0.40  0.60  0.16  0.5  0.0  0.53  0.39  NUC\n",
              "G6PD_YEAST      0.65  0.54  0.54  0.13  0.5  0.0  0.53  0.22  CYT\n",
              "\n",
              "[1484 rows x 9 columns]"
            ]
          },
          "metadata": {
            "tags": []
          },
          "execution_count": 25
        }
      ]
    },
    {
      "cell_type": "markdown",
      "metadata": {
        "id": "N1z60OdxTk17",
        "colab_type": "text"
      },
      "source": [
        "##### 1.2 Describe your data\n"
      ]
    },
    {
      "cell_type": "code",
      "metadata": {
        "id": "YFoCYLKOTkIj",
        "colab_type": "code",
        "colab": {
          "base_uri": "https://localhost:8080/",
          "height": 297
        },
        "outputId": "a05df983-3ca8-4238-e7ee-efda29ab8baa"
      },
      "source": [
        "# describe the dataset\n",
        "df.describe()"
      ],
      "execution_count": 28,
      "outputs": [
        {
          "output_type": "execute_result",
          "data": {
            "text/html": [
              "<div>\n",
              "<style scoped>\n",
              "    .dataframe tbody tr th:only-of-type {\n",
              "        vertical-align: middle;\n",
              "    }\n",
              "\n",
              "    .dataframe tbody tr th {\n",
              "        vertical-align: top;\n",
              "    }\n",
              "\n",
              "    .dataframe thead th {\n",
              "        text-align: right;\n",
              "    }\n",
              "</style>\n",
              "<table border=\"1\" class=\"dataframe\">\n",
              "  <thead>\n",
              "    <tr style=\"text-align: right;\">\n",
              "      <th></th>\n",
              "      <th>sequence</th>\n",
              "      <th>mcg</th>\n",
              "      <th>gvh</th>\n",
              "      <th>alm</th>\n",
              "      <th>mit</th>\n",
              "      <th>erl</th>\n",
              "      <th>pox</th>\n",
              "      <th>vac</th>\n",
              "    </tr>\n",
              "  </thead>\n",
              "  <tbody>\n",
              "    <tr>\n",
              "      <th>count</th>\n",
              "      <td>1484.000000</td>\n",
              "      <td>1484.000000</td>\n",
              "      <td>1484.000000</td>\n",
              "      <td>1484.000000</td>\n",
              "      <td>1484.000000</td>\n",
              "      <td>1484.000000</td>\n",
              "      <td>1484.000000</td>\n",
              "      <td>1484.000000</td>\n",
              "    </tr>\n",
              "    <tr>\n",
              "      <th>mean</th>\n",
              "      <td>0.500121</td>\n",
              "      <td>0.499933</td>\n",
              "      <td>0.500034</td>\n",
              "      <td>0.261186</td>\n",
              "      <td>0.504717</td>\n",
              "      <td>0.007500</td>\n",
              "      <td>0.499885</td>\n",
              "      <td>0.276199</td>\n",
              "    </tr>\n",
              "    <tr>\n",
              "      <th>std</th>\n",
              "      <td>0.137299</td>\n",
              "      <td>0.123924</td>\n",
              "      <td>0.086670</td>\n",
              "      <td>0.137098</td>\n",
              "      <td>0.048351</td>\n",
              "      <td>0.075683</td>\n",
              "      <td>0.057797</td>\n",
              "      <td>0.106491</td>\n",
              "    </tr>\n",
              "    <tr>\n",
              "      <th>min</th>\n",
              "      <td>0.110000</td>\n",
              "      <td>0.130000</td>\n",
              "      <td>0.210000</td>\n",
              "      <td>0.000000</td>\n",
              "      <td>0.500000</td>\n",
              "      <td>0.000000</td>\n",
              "      <td>0.000000</td>\n",
              "      <td>0.000000</td>\n",
              "    </tr>\n",
              "    <tr>\n",
              "      <th>25%</th>\n",
              "      <td>0.410000</td>\n",
              "      <td>0.420000</td>\n",
              "      <td>0.460000</td>\n",
              "      <td>0.170000</td>\n",
              "      <td>0.500000</td>\n",
              "      <td>0.000000</td>\n",
              "      <td>0.480000</td>\n",
              "      <td>0.220000</td>\n",
              "    </tr>\n",
              "    <tr>\n",
              "      <th>50%</th>\n",
              "      <td>0.490000</td>\n",
              "      <td>0.490000</td>\n",
              "      <td>0.510000</td>\n",
              "      <td>0.220000</td>\n",
              "      <td>0.500000</td>\n",
              "      <td>0.000000</td>\n",
              "      <td>0.510000</td>\n",
              "      <td>0.220000</td>\n",
              "    </tr>\n",
              "    <tr>\n",
              "      <th>75%</th>\n",
              "      <td>0.580000</td>\n",
              "      <td>0.570000</td>\n",
              "      <td>0.550000</td>\n",
              "      <td>0.320000</td>\n",
              "      <td>0.500000</td>\n",
              "      <td>0.000000</td>\n",
              "      <td>0.530000</td>\n",
              "      <td>0.300000</td>\n",
              "    </tr>\n",
              "    <tr>\n",
              "      <th>max</th>\n",
              "      <td>1.000000</td>\n",
              "      <td>1.000000</td>\n",
              "      <td>1.000000</td>\n",
              "      <td>1.000000</td>\n",
              "      <td>1.000000</td>\n",
              "      <td>0.830000</td>\n",
              "      <td>0.730000</td>\n",
              "      <td>1.000000</td>\n",
              "    </tr>\n",
              "  </tbody>\n",
              "</table>\n",
              "</div>"
            ],
            "text/plain": [
              "          sequence          mcg  ...          pox          vac\n",
              "count  1484.000000  1484.000000  ...  1484.000000  1484.000000\n",
              "mean      0.500121     0.499933  ...     0.499885     0.276199\n",
              "std       0.137299     0.123924  ...     0.057797     0.106491\n",
              "min       0.110000     0.130000  ...     0.000000     0.000000\n",
              "25%       0.410000     0.420000  ...     0.480000     0.220000\n",
              "50%       0.490000     0.490000  ...     0.510000     0.220000\n",
              "75%       0.580000     0.570000  ...     0.530000     0.300000\n",
              "max       1.000000     1.000000  ...     0.730000     1.000000\n",
              "\n",
              "[8 rows x 8 columns]"
            ]
          },
          "metadata": {
            "tags": []
          },
          "execution_count": 28
        }
      ]
    },
    {
      "cell_type": "markdown",
      "metadata": {
        "id": "95LxSOxJUyYq",
        "colab_type": "text"
      },
      "source": [
        "*** \n",
        "# Exercise #2 - Prepare the experiment\n",
        "***"
      ]
    },
    {
      "cell_type": "markdown",
      "metadata": {
        "id": "dygReVACU7PL",
        "colab_type": "text"
      },
      "source": [
        "##### 2.1 Split `X` and `y`"
      ]
    },
    {
      "cell_type": "code",
      "metadata": {
        "id": "isPWb9ssU-by",
        "colab_type": "code",
        "colab": {
          "base_uri": "https://localhost:8080/",
          "height": 34
        },
        "outputId": "fc6efaef-dfe4-4eb8-a7fb-9ea7a2381bc5"
      },
      "source": [
        "# split to X and y\n",
        "X, y = df.iloc[:, :-1].values, df.iloc[:, -1].values\n",
        "print(X.shape, y.shape)"
      ],
      "execution_count": 29,
      "outputs": [
        {
          "output_type": "stream",
          "text": [
            "(1484, 8) (1484,)\n"
          ],
          "name": "stdout"
        }
      ]
    },
    {
      "cell_type": "markdown",
      "metadata": {
        "id": "imI1_ZB7VND_",
        "colab_type": "text"
      },
      "source": [
        "##### 2.2 Partition to train and test sets"
      ]
    },
    {
      "cell_type": "markdown",
      "metadata": {
        "id": "lQjGZFL8VPwQ",
        "colab_type": "text"
      },
      "source": [
        "* test proportion of 20%\n",
        "* `random_state=1`\n",
        "* stratify by `y`"
      ]
    },
    {
      "cell_type": "code",
      "metadata": {
        "id": "IuYIgLn4VSSq",
        "colab_type": "code",
        "colab": {}
      },
      "source": [
        "# partition to train and test sets\n",
        "X_train, X_test, y_train, y_test = train_test_split(\n",
        "    X, y, test_size=0.2, random_state=1, stratify=y)"
      ],
      "execution_count": 0,
      "outputs": []
    },
    {
      "cell_type": "markdown",
      "metadata": {
        "id": "8RHnBDdkVVJx",
        "colab_type": "text"
      },
      "source": [
        "##### 2.3 Print the shapes of your four sets"
      ]
    },
    {
      "cell_type": "code",
      "metadata": {
        "id": "dCAsKq41VXu-",
        "colab_type": "code",
        "colab": {
          "base_uri": "https://localhost:8080/",
          "height": 34
        },
        "outputId": "6998ad95-a726-46f8-c743-74c2cbaa2041"
      },
      "source": [
        "# print shapes of train and test\n",
        "print(X_train.shape, X_test.shape, y_train.shape, y_test.shape)"
      ],
      "execution_count": 31,
      "outputs": [
        {
          "output_type": "stream",
          "text": [
            "(1187, 8) (297, 8) (1187,) (297,)\n"
          ],
          "name": "stdout"
        }
      ]
    },
    {
      "cell_type": "markdown",
      "metadata": {
        "id": "xPk_0eP4uMqj",
        "colab_type": "text"
      },
      "source": [
        "##### 2.4 Experiment to train and test model"
      ]
    },
    {
      "cell_type": "markdown",
      "metadata": {
        "id": "Ev4mqJxfumzD",
        "colab_type": "text"
      },
      "source": [
        "Complete the function to:\n",
        "1. Build [$k$-NN](https://scikit-learn.org/stable/modules/generated/sklearn.neighbors.KNeighborsClassifier.html) model with Euclidean distance\n",
        "1. Train the model\n",
        "1. Test the model and save prediction as `y_pred`\n",
        "1. Calculate `score`\n",
        "1. Return the `score` and `y_pred`"
      ]
    },
    {
      "cell_type": "code",
      "metadata": {
        "id": "MlEDTn_sUvAH",
        "colab_type": "code",
        "colab": {}
      },
      "source": [
        "def train_and_test(X_train, X_test, y_train, y_test, k=5):\n",
        "  # (1) build k-NN model\n",
        "  knn = KNeighborsClassifier(n_neighbors=k, \n",
        "                           p=2, \n",
        "                           metric='minkowski')\n",
        "\n",
        "  # (2) train the model\n",
        "  knn.fit(X_train, y_train)\n",
        "\n",
        "  # (3) test the model\n",
        "  y_pred = knn.predict(X_test)\n",
        "\n",
        "  # (4) calculate score\n",
        "  score = accuracy_score(y_test, y_pred)\n",
        "\n",
        "  # (5) return score and y_pred\n",
        "  return score, y_pred"
      ],
      "execution_count": 0,
      "outputs": []
    },
    {
      "cell_type": "markdown",
      "metadata": {
        "id": "XFvUDQmGjUcn",
        "colab_type": "text"
      },
      "source": [
        "*** \n",
        "# Exercise #3 - Run the experiment\n",
        "*** "
      ]
    },
    {
      "cell_type": "markdown",
      "metadata": {
        "id": "GvOQz6m5j8vP",
        "colab_type": "text"
      },
      "source": [
        "##### 3.1 Predict the test set\n",
        "* use $k=11$\n",
        "* save predictions as `y_pred`\n",
        "* save score as `score`"
      ]
    },
    {
      "cell_type": "code",
      "metadata": {
        "id": "4yQH7SIqvYMn",
        "colab_type": "code",
        "colab": {
          "base_uri": "https://localhost:8080/",
          "height": 442
        },
        "outputId": "31cfcfc4-b787-4b41-dd12-b86a84026b92"
      },
      "source": [
        "# call your train_and_test function\n",
        "score, y_pred = train_and_test(X_train, X_test, y_train, y_test, k=11)\n",
        "print(score, y_pred)"
      ],
      "execution_count": 47,
      "outputs": [
        {
          "output_type": "stream",
          "text": [
            "0.5521885521885522 ['MIT' 'MIT' 'MIT' 'EXC' 'NUC' 'NUC' 'ME1' 'CYT' 'CYT' 'NUC' 'CYT' 'MIT'\n",
            " 'ME3' 'ME3' 'CYT' 'ME1' 'MIT' 'MIT' 'CYT' 'CYT' 'CYT' 'MIT' 'MIT' 'CYT'\n",
            " 'NUC' 'CYT' 'MIT' 'CYT' 'NUC' 'CYT' 'ME2' 'MIT' 'CYT' 'CYT' 'ME3' 'MIT'\n",
            " 'CYT' 'MIT' 'ME1' 'NUC' 'ERL' 'ME3' 'CYT' 'ME2' 'MIT' 'CYT' 'ME1' 'MIT'\n",
            " 'NUC' 'NUC' 'NUC' 'CYT' 'ME1' 'NUC' 'NUC' 'ME3' 'ME3' 'CYT' 'CYT' 'NUC'\n",
            " 'ME3' 'NUC' 'CYT' 'CYT' 'CYT' 'NUC' 'CYT' 'NUC' 'ME2' 'EXC' 'CYT' 'ME3'\n",
            " 'MIT' 'ME3' 'CYT' 'CYT' 'CYT' 'NUC' 'CYT' 'MIT' 'CYT' 'NUC' 'CYT' 'ME3'\n",
            " 'CYT' 'CYT' 'NUC' 'ME3' 'NUC' 'ME3' 'NUC' 'NUC' 'ME1' 'NUC' 'NUC' 'NUC'\n",
            " 'NUC' 'NUC' 'CYT' 'NUC' 'CYT' 'MIT' 'CYT' 'NUC' 'NUC' 'NUC' 'NUC' 'ME3'\n",
            " 'CYT' 'NUC' 'CYT' 'NUC' 'NUC' 'CYT' 'MIT' 'NUC' 'CYT' 'MIT' 'ME3' 'CYT'\n",
            " 'MIT' 'MIT' 'CYT' 'MIT' 'NUC' 'CYT' 'CYT' 'CYT' 'NUC' 'CYT' 'NUC' 'CYT'\n",
            " 'CYT' 'NUC' 'CYT' 'ME1' 'NUC' 'CYT' 'NUC' 'ME3' 'NUC' 'CYT' 'NUC' 'MIT'\n",
            " 'MIT' 'CYT' 'MIT' 'CYT' 'CYT' 'NUC' 'CYT' 'CYT' 'CYT' 'NUC' 'CYT' 'NUC'\n",
            " 'POX' 'ME3' 'NUC' 'ME3' 'CYT' 'CYT' 'ME3' 'NUC' 'ME3' 'CYT' 'ME3' 'CYT'\n",
            " 'NUC' 'MIT' 'CYT' 'NUC' 'NUC' 'CYT' 'ME3' 'CYT' 'CYT' 'POX' 'CYT' 'ME1'\n",
            " 'ME3' 'CYT' 'ME2' 'CYT' 'NUC' 'POX' 'CYT' 'MIT' 'CYT' 'CYT' 'NUC' 'CYT'\n",
            " 'NUC' 'NUC' 'CYT' 'CYT' 'CYT' 'NUC' 'CYT' 'CYT' 'ME1' 'NUC' 'MIT' 'CYT'\n",
            " 'NUC' 'EXC' 'MIT' 'ME2' 'CYT' 'CYT' 'CYT' 'NUC' 'NUC' 'NUC' 'NUC' 'CYT'\n",
            " 'CYT' 'EXC' 'CYT' 'MIT' 'NUC' 'NUC' 'NUC' 'NUC' 'CYT' 'ME3' 'MIT' 'EXC'\n",
            " 'ME2' 'CYT' 'CYT' 'NUC' 'NUC' 'CYT' 'CYT' 'CYT' 'NUC' 'ME1' 'NUC' 'NUC'\n",
            " 'NUC' 'NUC' 'NUC' 'MIT' 'NUC' 'NUC' 'MIT' 'MIT' 'ME3' 'NUC' 'NUC' 'CYT'\n",
            " 'ME3' 'CYT' 'CYT' 'MIT' 'MIT' 'MIT' 'MIT' 'EXC' 'CYT' 'MIT' 'CYT' 'ME3'\n",
            " 'CYT' 'MIT' 'CYT' 'ME3' 'NUC' 'NUC' 'ME3' 'MIT' 'CYT' 'MIT' 'MIT' 'CYT'\n",
            " 'CYT' 'NUC' 'NUC' 'CYT' 'MIT' 'CYT' 'CYT' 'MIT' 'CYT' 'MIT' 'ME1' 'CYT'\n",
            " 'ME1' 'CYT' 'CYT' 'ME3' 'NUC' 'ME3' 'CYT' 'ME3' 'EXC']\n"
          ],
          "name": "stdout"
        }
      ]
    },
    {
      "cell_type": "markdown",
      "metadata": {
        "id": "v4QVt-q4vzP-",
        "colab_type": "text"
      },
      "source": [
        "##### 3.2 Print your test score from result of Exercise `3.1`"
      ]
    },
    {
      "cell_type": "code",
      "metadata": {
        "id": "NsUYgCOEv5zv",
        "colab_type": "code",
        "colab": {
          "base_uri": "https://localhost:8080/",
          "height": 34
        },
        "outputId": "5a3a9640-8ab5-46e6-d4f5-bd0c0f7e2a4b"
      },
      "source": [
        "# print the accuracy you returned in 3.1\n",
        "score"
      ],
      "execution_count": 48,
      "outputs": [
        {
          "output_type": "execute_result",
          "data": {
            "text/plain": [
              "0.5521885521885522"
            ]
          },
          "metadata": {
            "tags": []
          },
          "execution_count": 48
        }
      ]
    },
    {
      "cell_type": "markdown",
      "metadata": {
        "id": "MNOsKVEWwVSA",
        "colab_type": "text"
      },
      "source": [
        "##### 3.3 Count the predictions by class label"
      ]
    },
    {
      "cell_type": "code",
      "metadata": {
        "id": "gjhzTDgWkE80",
        "colab_type": "code",
        "colab": {
          "base_uri": "https://localhost:8080/",
          "height": 170
        },
        "outputId": "44bdec36-3a21-4455-ec8d-805fccc7c9b0"
      },
      "source": [
        "# count the number of predictions by class\n",
        "(unique, counts) = np.unique(y_pred, return_counts=True)\n",
        "frequencies = np.asarray((unique, counts)).T\n",
        "\n",
        "print(frequencies)"
      ],
      "execution_count": 54,
      "outputs": [
        {
          "output_type": "stream",
          "text": [
            "[['CYT' 108]\n",
            " ['ERL' 1]\n",
            " ['EXC' 7]\n",
            " ['ME1' 12]\n",
            " ['ME2' 6]\n",
            " ['ME3' 31]\n",
            " ['MIT' 46]\n",
            " ['NUC' 83]\n",
            " ['POX' 3]]\n"
          ],
          "name": "stdout"
        }
      ]
    },
    {
      "cell_type": "markdown",
      "metadata": {
        "id": "9yN-qS-jzCaU",
        "colab_type": "text"
      },
      "source": [
        "##### 3.4 Graph a confusion matrix"
      ]
    },
    {
      "cell_type": "code",
      "metadata": {
        "id": "Lje9nQ2EYDrV",
        "colab_type": "code",
        "colab": {
          "base_uri": "https://localhost:8080/",
          "height": 359
        },
        "outputId": "4151b917-df54-4c39-fe61-5b678a3a0348"
      },
      "source": [
        "# graph a confusion matrix\n",
        "confmat = confusion_matrix(y_true=y_test, y_pred=y_pred)\n",
        "print(confmat)\n",
        "# graph a confusion matrix\n",
        "fig, ax = plt.subplots(figsize=(2.5, 2.5))\n",
        "ax.matshow(confmat, cmap=plt.cm.Blues, alpha=0.3)\n",
        "for i in range(confmat.shape[0]):\n",
        "    for j in range(confmat.shape[1]):\n",
        "        ax.text(x=j, y=i, s=confmat[i, j], va='center', ha='center')\n",
        "\n",
        "plt.xlabel('Predicted label')\n",
        "plt.ylabel('True label')\n",
        "\n",
        "plt.tight_layout()\n",
        "plt.show()"
      ],
      "execution_count": 58,
      "outputs": [
        {
          "output_type": "stream",
          "text": [
            "[[55  0  0  0  0  0  8 30  0  0]\n",
            " [ 0  1  0  0  0  0  0  0  0  0]\n",
            " [ 0  0  4  2  1  0  0  0  0  0]\n",
            " [ 1  0  1  6  0  0  1  0  0  0]\n",
            " [ 1  0  0  3  2  3  1  0  0  0]\n",
            " [ 4  0  0  1  1 21  0  5  0  0]\n",
            " [15  0  0  0  0  2 29  2  1  0]\n",
            " [31  0  0  0  1  4  6 44  0  0]\n",
            " [ 0  0  1  0  0  0  1  0  2  0]\n",
            " [ 1  0  1  0  1  1  0  2  0  0]]\n"
          ],
          "name": "stdout"
        },
        {
          "output_type": "display_data",
          "data": {
            "image/png": "[encoded data removed]",
            "text/plain": [
              "<Figure size 180x180 with 1 Axes>"
            ]
          },
          "metadata": {
            "tags": [],
            "needs_background": "light"
          }
        }
      ]
    },
    {
      "cell_type": "markdown",
      "metadata": {
        "id": "E3pd-F2BzJTb",
        "colab_type": "text"
      },
      "source": [
        "##### 3.5 Calculate precision, recall, and F$_1$"
      ]
    },
    {
      "cell_type": "code",
      "metadata": {
        "id": "S19bJR0ZYV10",
        "colab_type": "code",
        "colab": {
          "base_uri": "https://localhost:8080/",
          "height": 68
        },
        "outputId": "ebeb6962-b667-4d09-abd5-97c69ba02377"
      },
      "source": [
        "# precision, recall, and F1\n",
        "# precision tp / (tp + fp)\n",
        "y_true = y_test\n",
        "precision = precision_score(y_true, y_pred, average='weighted', zero_division=0)\n",
        "print('Precision: %.3f' % precision)\n",
        "# recall: tp / (tp + fn)\n",
        "recall = recall_score(y_true, y_pred, average='weighted', zero_division=0)\n",
        "print('Recall: %.3f' % recall)\n",
        "# f1: 2 tp / (2 tp + fp + fn)\n",
        "f1 = f1_score(y_true, y_pred, average='weighted', zero_division=0)\n",
        "print('F1 score: %.3f' % f1)"
      ],
      "execution_count": 61,
      "outputs": [
        {
          "output_type": "stream",
          "text": [
            "Precision: 0.542\n",
            "Recall: 0.552\n",
            "F1 score: 0.545\n"
          ],
          "name": "stdout"
        }
      ]
    },
    {
      "cell_type": "markdown",
      "metadata": {
        "id": "lVbnu12yxoCb",
        "colab_type": "text"
      },
      "source": [
        "> The warning you see if because we didn't predict any instances for some of the classes.  Therefore `precision` gets a `0/0` in its calculation.  We want this `NaN` to be treated as `0`, which is the default behaviour (with warning).  \n",
        ">\n",
        ">To suppress the warning, add the parameter `zero_division=0`.  But in most cases, it's useful to be reminded that we aren't predicting all labels. "
      ]
    },
    {
      "cell_type": "markdown",
      "metadata": {
        "id": "OWqFmKZiy6y5",
        "colab_type": "text"
      },
      "source": [
        "*** \n",
        "# Exercise #4 - Select the best $k$ by math\n",
        "*** "
      ]
    },
    {
      "cell_type": "markdown",
      "metadata": {
        "id": "ti77V64fLvWE",
        "colab_type": "text"
      },
      "source": [
        "> Before lazily asking someone what to do here, review the lecture and/or textbook."
      ]
    },
    {
      "cell_type": "markdown",
      "metadata": {
        "id": "Jr4AJUzzy-2C",
        "colab_type": "text"
      },
      "source": [
        "##### 4.1 Calculate an \"informed\" value of $k$ using the math approach"
      ]
    },
    {
      "cell_type": "markdown",
      "metadata": {
        "id": "vzbMpN7iL_Pk",
        "colab_type": "text"
      },
      "source": [
        "* calculate it; don't just hard-code a number\n",
        "* save as variable `k`\n",
        "* round to nearest *odd* number"
      ]
    },
    {
      "cell_type": "code",
      "metadata": {
        "id": "A14xaA0m1WQz",
        "colab_type": "code",
        "colab": {
          "base_uri": "https://localhost:8080/",
          "height": 68
        },
        "outputId": "3dba3693-1612-41c2-cd0c-839aa1be7762"
      },
      "source": [
        "# calculate k\n",
        "grid_params = {\n",
        "    'n_neighbors' : list(range(1, 21, 2)),\n",
        "    'weights' : ['uniform','distance'],\n",
        "    'metric' : ['euclidean','manhattan','chebyshev']\n",
        "}\n",
        "\n",
        "# construct a grid search \n",
        "gs = GridSearchCV(\n",
        "    KNeighborsClassifier(),\n",
        "    grid_params,\n",
        "    verbose = 1,\n",
        "    cv = 3,\n",
        "    n_jobs = -1\n",
        ")\n",
        "\n",
        "# run the grid search\n",
        "gs_results = gs.fit(X_train, y_train)\n",
        "k = gs_results.best_params_"
      ],
      "execution_count": 64,
      "outputs": [
        {
          "output_type": "stream",
          "text": [
            "Fitting 3 folds for each of 60 candidates, totalling 180 fits\n"
          ],
          "name": "stdout"
        },
        {
          "output_type": "stream",
          "text": [
            "[Parallel(n_jobs=-1)]: Using backend LokyBackend with 2 concurrent workers.\n",
            "[Parallel(n_jobs=-1)]: Done 180 out of 180 | elapsed:    2.1s finished\n"
          ],
          "name": "stderr"
        }
      ]
    },
    {
      "cell_type": "markdown",
      "metadata": {
        "id": "OsVpiURoLZBQ",
        "colab_type": "text"
      },
      "source": [
        "##### 4.2 Print $k$"
      ]
    },
    {
      "cell_type": "code",
      "metadata": {
        "id": "HDdQgf0IOGVv",
        "colab_type": "code",
        "outputId": "b4a8a4f7-5f6a-4eaf-fc58-3e4127e24580",
        "colab": {
          "base_uri": "https://localhost:8080/",
          "height": 34
        }
      },
      "source": [
        "# print k\n",
        "print(k)"
      ],
      "execution_count": 65,
      "outputs": [
        {
          "output_type": "stream",
          "text": [
            "{'metric': 'manhattan', 'n_neighbors': 15, 'weights': 'distance'}\n"
          ],
          "name": "stdout"
        }
      ]
    },
    {
      "cell_type": "markdown",
      "metadata": {
        "id": "2msgzGMELBKE",
        "colab_type": "text"
      },
      "source": [
        "##### 4.3 Call `train_and_test` with your value of $k$"
      ]
    },
    {
      "cell_type": "code",
      "metadata": {
        "id": "Euu_SJ-0OO5l",
        "colab_type": "code",
        "colab": {
          "base_uri": "https://localhost:8080/",
          "height": 612
        },
        "outputId": "0bebe64b-473e-4398-c769-66542cf4c433"
      },
      "source": [
        "# call train_and_test with your new k\n",
        "train_and_test(X_train, X_test, y_train, y_test, k = 15)"
      ],
      "execution_count": 66,
      "outputs": [
        {
          "output_type": "execute_result",
          "data": {
            "text/plain": [
              "(0.5892255892255892,\n",
              " array(['MIT', 'MIT', 'MIT', 'EXC', 'NUC', 'NUC', 'ME1', 'CYT', 'CYT',\n",
              "        'NUC', 'CYT', 'MIT', 'ME3', 'ME3', 'CYT', 'ME1', 'MIT', 'MIT',\n",
              "        'CYT', 'CYT', 'CYT', 'MIT', 'MIT', 'CYT', 'NUC', 'CYT', 'MIT',\n",
              "        'CYT', 'NUC', 'CYT', 'MIT', 'MIT', 'CYT', 'CYT', 'ME3', 'MIT',\n",
              "        'CYT', 'MIT', 'ME1', 'NUC', 'ME2', 'ME3', 'CYT', 'ME2', 'CYT',\n",
              "        'CYT', 'ME1', 'MIT', 'NUC', 'NUC', 'NUC', 'CYT', 'ME1', 'NUC',\n",
              "        'NUC', 'ME3', 'ME3', 'CYT', 'CYT', 'NUC', 'ME3', 'NUC', 'CYT',\n",
              "        'CYT', 'MIT', 'CYT', 'CYT', 'NUC', 'ME2', 'EXC', 'CYT', 'ME3',\n",
              "        'MIT', 'ME3', 'CYT', 'CYT', 'CYT', 'CYT', 'NUC', 'MIT', 'CYT',\n",
              "        'NUC', 'CYT', 'ME3', 'ME3', 'CYT', 'NUC', 'ME3', 'NUC', 'ME3',\n",
              "        'NUC', 'NUC', 'ME1', 'NUC', 'NUC', 'NUC', 'NUC', 'NUC', 'CYT',\n",
              "        'NUC', 'CYT', 'MIT', 'CYT', 'NUC', 'NUC', 'NUC', 'NUC', 'ME3',\n",
              "        'CYT', 'NUC', 'NUC', 'NUC', 'NUC', 'CYT', 'MIT', 'NUC', 'CYT',\n",
              "        'MIT', 'ME3', 'CYT', 'MIT', 'MIT', 'CYT', 'MIT', 'NUC', 'CYT',\n",
              "        'CYT', 'CYT', 'NUC', 'CYT', 'NUC', 'CYT', 'NUC', 'NUC', 'CYT',\n",
              "        'ME1', 'CYT', 'CYT', 'CYT', 'NUC', 'MIT', 'CYT', 'NUC', 'MIT',\n",
              "        'MIT', 'CYT', 'MIT', 'CYT', 'CYT', 'NUC', 'CYT', 'CYT', 'CYT',\n",
              "        'NUC', 'CYT', 'NUC', 'POX', 'ME3', 'CYT', 'ME3', 'CYT', 'CYT',\n",
              "        'ME3', 'NUC', 'ME3', 'CYT', 'ME3', 'CYT', 'NUC', 'MIT', 'CYT',\n",
              "        'NUC', 'CYT', 'CYT', 'ME3', 'CYT', 'CYT', 'POX', 'CYT', 'ME1',\n",
              "        'ME3', 'CYT', 'ME2', 'CYT', 'NUC', 'POX', 'CYT', 'MIT', 'CYT',\n",
              "        'NUC', 'NUC', 'ME3', 'NUC', 'NUC', 'CYT', 'CYT', 'CYT', 'NUC',\n",
              "        'CYT', 'CYT', 'ME1', 'NUC', 'MIT', 'CYT', 'CYT', 'EXC', 'MIT',\n",
              "        'ME2', 'CYT', 'CYT', 'CYT', 'NUC', 'NUC', 'NUC', 'CYT', 'CYT',\n",
              "        'MIT', 'EXC', 'CYT', 'MIT', 'NUC', 'NUC', 'NUC', 'NUC', 'CYT',\n",
              "        'ME3', 'MIT', 'EXC', 'ME2', 'CYT', 'CYT', 'NUC', 'NUC', 'CYT',\n",
              "        'CYT', 'CYT', 'NUC', 'ME1', 'NUC', 'CYT', 'NUC', 'NUC', 'NUC',\n",
              "        'CYT', 'NUC', 'NUC', 'MIT', 'MIT', 'ME3', 'NUC', 'NUC', 'CYT',\n",
              "        'ME3', 'CYT', 'CYT', 'NUC', 'MIT', 'MIT', 'MIT', 'EXC', 'CYT',\n",
              "        'MIT', 'CYT', 'ME3', 'CYT', 'CYT', 'CYT', 'ME3', 'NUC', 'NUC',\n",
              "        'ME3', 'MIT', 'CYT', 'MIT', 'MIT', 'CYT', 'CYT', 'NUC', 'NUC',\n",
              "        'CYT', 'MIT', 'CYT', 'CYT', 'MIT', 'CYT', 'MIT', 'ME1', 'CYT',\n",
              "        'ME3', 'CYT', 'CYT', 'ME3', 'NUC', 'ME3', 'CYT', 'ME3', 'EXC'],\n",
              "       dtype=object))"
            ]
          },
          "metadata": {
            "tags": []
          },
          "execution_count": 66
        }
      ]
    },
    {
      "cell_type": "markdown",
      "metadata": {
        "id": "dqWzfkm3Lf1V",
        "colab_type": "text"
      },
      "source": [
        "*** \n",
        "# Exercise #5 - Select $k$ by experiment\n",
        "*** "
      ]
    },
    {
      "cell_type": "markdown",
      "metadata": {
        "id": "BidwHad35xU9",
        "colab_type": "text"
      },
      "source": [
        "##### 5.1 Select the best $k$ by exeriment"
      ]
    },
    {
      "cell_type": "markdown",
      "metadata": {
        "id": "eRwWjeAS8LDO",
        "colab_type": "text"
      },
      "source": [
        "* run $k$ = 1 to 99\n",
        "* only check odd values of $k$\n",
        "* train_and_test each $k$\n",
        "* save the score in list `k_results`"
      ]
    },
    {
      "cell_type": "code",
      "metadata": {
        "id": "lFvh162dVtRw",
        "colab_type": "code",
        "colab": {}
      },
      "source": [
        "# run k = 1 to 99 and save results\n",
        "k_results = []\n",
        "for i in range(100):\n",
        "  if i%2 != 0:\n",
        "    score, _ = train_and_test(X_train, X_test, y_train, y_test, k = i)\n",
        "    k_results.append(score)"
      ],
      "execution_count": 0,
      "outputs": []
    },
    {
      "cell_type": "markdown",
      "metadata": {
        "id": "q-mi4H-IKrUd",
        "colab_type": "text"
      },
      "source": [
        "##### 5.2 Plot $k$ vs score"
      ]
    },
    {
      "cell_type": "markdown",
      "metadata": {
        "id": "c0fwwToRK0LH",
        "colab_type": "text"
      },
      "source": [
        "* x-axis is $k$ from 1 to 99 (odds)\n",
        "* y-axis is the respective score\n",
        "* label your graph"
      ]
    },
    {
      "cell_type": "code",
      "metadata": {
        "id": "l3TLb60WXpdm",
        "colab_type": "code",
        "colab": {
          "base_uri": "https://localhost:8080/",
          "height": 265
        },
        "outputId": "d5a174fd-1f55-4170-9ade-d0ee3af0d94a"
      },
      "source": [
        "# graph k against the respective score\n",
        "x = [i for i in range(100) if i%2 != 0]\n",
        "plt.plot(x, k_results)\n",
        "plt.show()"
      ],
      "execution_count": 77,
      "outputs": [
        {
          "output_type": "display_data",
          "data": {
            "image/png": "[encoded data removed]",
            "text/plain": [
              "<Figure size 432x288 with 1 Axes>"
            ]
          },
          "metadata": {
            "tags": [],
            "needs_background": "light"
          }
        }
      ]
    },
    {
      "cell_type": "markdown",
      "metadata": {
        "id": "j0asR34VOqDE",
        "colab_type": "text"
      },
      "source": [
        "##### 5.3 Find the best $k$"
      ]
    },
    {
      "cell_type": "markdown",
      "metadata": {
        "id": "sClzHTcIOsqD",
        "colab_type": "text"
      },
      "source": [
        "* iterate over your values of $k$\n",
        "* print the value $k$, a tab `\\t`, and the respective score\n",
        "* use `.format` notation\n",
        "* format your floats (to six places, the default for `:f`)\n",
        "* your numbers should line up (width) with the header"
      ]
    },
    {
      "cell_type": "code",
      "metadata": {
        "id": "qAOzvpt7OtFi",
        "colab_type": "code",
        "colab": {
          "base_uri": "https://localhost:8080/",
          "height": 918
        },
        "outputId": "8b28eede-edb3-490b-f339-4215cee3c8dd"
      },
      "source": [
        "# print accuracy for each k\n",
        "print('k\\taccuracy\\n================')\n",
        "for i in range(len(k_results)):\n",
        "  print(i + 1, '\\t', k_results[i])\n",
        "\n",
        "print(max(k_results))"
      ],
      "execution_count": 82,
      "outputs": [
        {
          "output_type": "stream",
          "text": [
            "k\taccuracy\n",
            "================\n",
            "1 \t 0.48484848484848486\n",
            "2 \t 0.5218855218855218\n",
            "3 \t 0.5757575757575758\n",
            "4 \t 0.5824915824915825\n",
            "5 \t 0.5858585858585859\n",
            "6 \t 0.5521885521885522\n",
            "7 \t 0.5858585858585859\n",
            "8 \t 0.5892255892255892\n",
            "9 \t 0.6026936026936027\n",
            "10 \t 0.6026936026936027\n",
            "11 \t 0.6026936026936027\n",
            "12 \t 0.5959595959595959\n",
            "13 \t 0.5959595959595959\n",
            "14 \t 0.6026936026936027\n",
            "15 \t 0.5959595959595959\n",
            "16 \t 0.5959595959595959\n",
            "17 \t 0.5757575757575758\n",
            "18 \t 0.5757575757575758\n",
            "19 \t 0.5791245791245792\n",
            "20 \t 0.569023569023569\n",
            "21 \t 0.5791245791245792\n",
            "22 \t 0.5858585858585859\n",
            "23 \t 0.5824915824915825\n",
            "24 \t 0.5757575757575758\n",
            "25 \t 0.5757575757575758\n",
            "26 \t 0.5723905723905723\n",
            "27 \t 0.5791245791245792\n",
            "28 \t 0.5757575757575758\n",
            "29 \t 0.5791245791245792\n",
            "30 \t 0.5824915824915825\n",
            "31 \t 0.5824915824915825\n",
            "32 \t 0.5757575757575758\n",
            "33 \t 0.5723905723905723\n",
            "34 \t 0.5757575757575758\n",
            "35 \t 0.5723905723905723\n",
            "36 \t 0.5757575757575758\n",
            "37 \t 0.5723905723905723\n",
            "38 \t 0.5757575757575758\n",
            "39 \t 0.5791245791245792\n",
            "40 \t 0.5723905723905723\n",
            "41 \t 0.569023569023569\n",
            "42 \t 0.5757575757575758\n",
            "43 \t 0.5791245791245792\n",
            "44 \t 0.5791245791245792\n",
            "45 \t 0.569023569023569\n",
            "46 \t 0.5723905723905723\n",
            "47 \t 0.5723905723905723\n",
            "48 \t 0.5791245791245792\n",
            "49 \t 0.569023569023569\n",
            "50 \t 0.5656565656565656\n",
            "0.6026936026936027\n"
          ],
          "name": "stdout"
        }
      ]
    },
    {
      "cell_type": "markdown",
      "metadata": {
        "id": "q4cD6FoK8z1V",
        "colab_type": "text"
      },
      "source": [
        "##### 5.4 Print the average score across all `k`'s"
      ]
    },
    {
      "cell_type": "code",
      "metadata": {
        "id": "NWm_BeMk84a6",
        "colab_type": "code",
        "colab": {
          "base_uri": "https://localhost:8080/",
          "height": 34
        },
        "outputId": "37e667db-5ff4-492b-bc38-c1edce4e453b"
      },
      "source": [
        "# average score of the k_results\n",
        "mean = sum(k_results)/len(k_results)\n",
        "mean"
      ],
      "execution_count": 81,
      "outputs": [
        {
          "output_type": "execute_result",
          "data": {
            "text/plain": [
              "0.5769023569023564"
            ]
          },
          "metadata": {
            "tags": []
          },
          "execution_count": 81
        }
      ]
    },
    {
      "cell_type": "markdown",
      "metadata": {
        "id": "-mMSiqox9BOO",
        "colab_type": "text"
      },
      "source": [
        "> This doesn't tell us anything useful or informative, but it's a Canvas questions nevertheless. "
      ]
    },
    {
      "cell_type": "markdown",
      "metadata": {
        "id": "ioysClCf8iPs",
        "colab_type": "text"
      },
      "source": [
        "##### 5.5 Train vs. Validation vs. Test"
      ]
    },
    {
      "cell_type": "markdown",
      "metadata": {
        "id": "LhdFGukKRMlP",
        "colab_type": "text"
      },
      "source": [
        "> Note: In the above section we calculated the best `k` by viewing performance on the `test` set.  This is fine for our learning purposes and can be informative. However, in a true experiment, this would be *cheating* because we used the `test` set to learn a parameter for our model.\n",
        ">\n",
        ">  The proper way is to divide the `train` set into `train'` and `validation` sets. We then train on `train'` and use the `validation` set to test our model while exploring the values of $k$. After selecting a final $k$, we retrain the model on the original `train` set, and evaluate with the held-out `test` set. "
      ]
    },
    {
      "cell_type": "markdown",
      "metadata": {
        "id": "vnx6HIifSSTb",
        "colab_type": "text"
      },
      "source": [
        "<img src=\"https://66.media.tumblr.com/dded9d1a2bf2068f92af9f7a9b6b5451/tumblr_p6s3hbPzgV1vd8jsjo1_500.gifv\" width=\"300\">"
      ]
    }
  ]
}