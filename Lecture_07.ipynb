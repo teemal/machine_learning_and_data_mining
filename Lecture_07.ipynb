{
  "nbformat": 4,
  "nbformat_minor": 0,
  "metadata": {
    "colab": {
      "name": "Lecture 07.ipynb",
      "provenance": [],
      "collapsed_sections": []
    },
    "kernelspec": {
      "name": "python3",
      "display_name": "Python 3"
    }
  },
  "cells": [
    {
      "cell_type": "markdown",
      "metadata": {
        "id": "ddQgbwhF3Tun",
        "colab_type": "text"
      },
      "source": [
        "# Lecture 07 - Regression"
      ]
    },
    {
      "cell_type": "markdown",
      "metadata": {
        "id": "ZZJXNyOP3Tkq",
        "colab_type": "text"
      },
      "source": [
        "***\n",
        "##### CS 434 - Dating Mining and Machine Learning\n",
        "##### Oregon State University-Cascades\n",
        "***"
      ]
    },
    {
      "cell_type": "markdown",
      "metadata": {
        "id": "prfZQ6lL3qJl",
        "colab_type": "text"
      },
      "source": [
        "![alt text](https://i.vas3k.ru/7w5.jpg)"
      ]
    },
    {
      "cell_type": "markdown",
      "metadata": {
        "id": "j4wk_1Ss3sWr",
        "colab_type": "text"
      },
      "source": [
        "## <img src=\"https://img.icons8.com/color/32/000000/fork-lift.png\"/>  Load packages\n"
      ]
    },
    {
      "cell_type": "code",
      "metadata": {
        "id": "zN0CQSwjjVNI",
        "colab_type": "code",
        "colab": {}
      },
      "source": [
        "import numpy as np\n",
        "import pandas as pd\n",
        "import seaborn as sns\n",
        "import matplotlib.pyplot as plt\n",
        "from matplotlib.colors import ListedColormap\n",
        "from sklearn import preprocessing\n",
        "from sklearn.datasets import load_iris\n",
        "from sklearn.preprocessing import StandardScaler\n",
        "from sklearn.model_selection import train_test_split\n",
        "from sklearn.linear_model import LinearRegression\n",
        "from sklearn.linear_model import LogisticRegression\n",
        "from sklearn.metrics import mean_absolute_error\n",
        "from sklearn.metrics import mean_squared_error\n",
        "from sklearn.metrics import accuracy_score"
      ],
      "execution_count": 0,
      "outputs": []
    },
    {
      "cell_type": "markdown",
      "metadata": {
        "id": "OlyzpvGu9_3d",
        "colab_type": "text"
      },
      "source": [
        "### <img src=\"https://img.icons8.com/color/24/000000/cosine.png\"/> Helper function for graphing our results"
      ]
    },
    {
      "cell_type": "code",
      "metadata": {
        "id": "PB0BEVB8-AuC",
        "colab_type": "code",
        "colab": {}
      },
      "source": [
        "def plot_decision_regions(X, y, classifier, test_idx=None, resolution=0.02):\n",
        "\n",
        "    # setup marker generator and color map\n",
        "    markers = ('s', 'x', 'o', '^', 'v')\n",
        "    colors = ('red', 'blue', 'lightgreen', 'gray', 'cyan')\n",
        "    cmap = ListedColormap(colors[:len(np.unique(y))])\n",
        "\n",
        "    # plot the decision surface\n",
        "    x1_min, x1_max = X[:, 0].min() - 1, X[:, 0].max() + 1\n",
        "    x2_min, x2_max = X[:, 1].min() - 1, X[:, 1].max() + 1\n",
        "    xx1, xx2 = np.meshgrid(np.arange(x1_min, x1_max, resolution),\n",
        "                           np.arange(x2_min, x2_max, resolution))\n",
        "    Z = classifier.predict(np.array([xx1.ravel(), xx2.ravel()]).T)\n",
        "    Z = Z.reshape(xx1.shape)\n",
        "    plt.contourf(xx1, xx2, Z, alpha=0.3, cmap=cmap)\n",
        "    plt.xlim(xx1.min(), xx1.max())\n",
        "    plt.ylim(xx2.min(), xx2.max())\n",
        "\n",
        "    for idx, cl in enumerate(np.unique(y)):\n",
        "        plt.scatter(x=X[y == cl, 0], \n",
        "                    y=X[y == cl, 1],\n",
        "                    alpha=0.8, \n",
        "                    c=colors[idx],\n",
        "                    marker=markers[idx], \n",
        "                    label=cl, \n",
        "                    edgecolor='black')\n",
        "\n",
        "    # highlight test examples\n",
        "    if test_idx:\n",
        "        # plot all examples\n",
        "        X_test, y_test = X[test_idx, :], y[test_idx]\n",
        "\n",
        "        plt.scatter(X_test[:, 0],\n",
        "                    X_test[:, 1],\n",
        "                    c='',\n",
        "                    edgecolor='black',\n",
        "                    alpha=1.0,\n",
        "                    linewidth=1,\n",
        "                    marker='o',\n",
        "                    s=100, \n",
        "                    label='test set')"
      ],
      "execution_count": 0,
      "outputs": []
    },
    {
      "cell_type": "markdown",
      "metadata": {
        "id": "dJCHPKV15FFW",
        "colab_type": "text"
      },
      "source": [
        "## <img src=\"https://img.icons8.com/color/32/000000/accept-database.png\"/> Prepare a dataset"
      ]
    },
    {
      "cell_type": "markdown",
      "metadata": {
        "id": "jTc8NS6e5faN",
        "colab_type": "text"
      },
      "source": [
        "### <img src=\"https://img.icons8.com/color/32/000000/database-restore.png\"/>  Load the data\n",
        "\n",
        "Load the Iris dataset from scikit-learn. "
      ]
    },
    {
      "cell_type": "code",
      "metadata": {
        "id": "kfp4TDeKm31M",
        "colab_type": "code",
        "colab": {}
      },
      "source": [
        "# load Iris dataset\n",
        "iris = load_iris()\n",
        "iris_df = pd.DataFrame(data= iris.data, columns= iris.feature_names)\n",
        "target_df = pd.DataFrame(data= iris.target, columns= ['species'])"
      ],
      "execution_count": 0,
      "outputs": []
    },
    {
      "cell_type": "markdown",
      "metadata": {
        "id": "kPG32pNX5iVm",
        "colab_type": "text"
      },
      "source": [
        "### <img src=\"https://img.icons8.com/color/32/000000/search-property.png\"/>  Examine the data\n",
        "\n",
        "The classes are integer labels where \n",
        "* 0=Iris-Setosa\n",
        "* 1=Iris-Versicolor\n",
        "* 2=Iris-Virginica."
      ]
    },
    {
      "cell_type": "code",
      "metadata": {
        "id": "o0XdO1BWPMLI",
        "colab_type": "code",
        "colab": {}
      },
      "source": [
        "# manually decode to species name\n",
        "def converter(specie):\n",
        "    if specie == 0:\n",
        "        return 'setosa'\n",
        "    elif specie == 1:\n",
        "        return 'versicolor'\n",
        "    else:\n",
        "        return 'virginica'\n",
        "target_df['species'] = target_df['species'].apply(converter)"
      ],
      "execution_count": 0,
      "outputs": []
    },
    {
      "cell_type": "code",
      "metadata": {
        "id": "n-sZO8HsPQwY",
        "colab_type": "code",
        "outputId": "2e1d4db8-1c01-40c9-ab84-3cf874a244b8",
        "colab": {
          "base_uri": "https://localhost:8080/",
          "height": 415
        }
      },
      "source": [
        "# concatenate the features and labeels\n",
        "iris_df = pd.concat([iris_df, target_df], axis= 1)\n",
        "iris_df"
      ],
      "execution_count": 0,
      "outputs": [
        {
          "output_type": "execute_result",
          "data": {
            "text/html": [
              "<div>\n",
              "<style scoped>\n",
              "    .dataframe tbody tr th:only-of-type {\n",
              "        vertical-align: middle;\n",
              "    }\n",
              "\n",
              "    .dataframe tbody tr th {\n",
              "        vertical-align: top;\n",
              "    }\n",
              "\n",
              "    .dataframe thead th {\n",
              "        text-align: right;\n",
              "    }\n",
              "</style>\n",
              "<table border=\"1\" class=\"dataframe\">\n",
              "  <thead>\n",
              "    <tr style=\"text-align: right;\">\n",
              "      <th></th>\n",
              "      <th>sepal length (cm)</th>\n",
              "      <th>sepal width (cm)</th>\n",
              "      <th>petal length (cm)</th>\n",
              "      <th>petal width (cm)</th>\n",
              "      <th>species</th>\n",
              "    </tr>\n",
              "  </thead>\n",
              "  <tbody>\n",
              "    <tr>\n",
              "      <th>0</th>\n",
              "      <td>5.1</td>\n",
              "      <td>3.5</td>\n",
              "      <td>1.4</td>\n",
              "      <td>0.2</td>\n",
              "      <td>setosa</td>\n",
              "    </tr>\n",
              "    <tr>\n",
              "      <th>1</th>\n",
              "      <td>4.9</td>\n",
              "      <td>3.0</td>\n",
              "      <td>1.4</td>\n",
              "      <td>0.2</td>\n",
              "      <td>setosa</td>\n",
              "    </tr>\n",
              "    <tr>\n",
              "      <th>2</th>\n",
              "      <td>4.7</td>\n",
              "      <td>3.2</td>\n",
              "      <td>1.3</td>\n",
              "      <td>0.2</td>\n",
              "      <td>setosa</td>\n",
              "    </tr>\n",
              "    <tr>\n",
              "      <th>3</th>\n",
              "      <td>4.6</td>\n",
              "      <td>3.1</td>\n",
              "      <td>1.5</td>\n",
              "      <td>0.2</td>\n",
              "      <td>setosa</td>\n",
              "    </tr>\n",
              "    <tr>\n",
              "      <th>4</th>\n",
              "      <td>5.0</td>\n",
              "      <td>3.6</td>\n",
              "      <td>1.4</td>\n",
              "      <td>0.2</td>\n",
              "      <td>setosa</td>\n",
              "    </tr>\n",
              "    <tr>\n",
              "      <th>...</th>\n",
              "      <td>...</td>\n",
              "      <td>...</td>\n",
              "      <td>...</td>\n",
              "      <td>...</td>\n",
              "      <td>...</td>\n",
              "    </tr>\n",
              "    <tr>\n",
              "      <th>145</th>\n",
              "      <td>6.7</td>\n",
              "      <td>3.0</td>\n",
              "      <td>5.2</td>\n",
              "      <td>2.3</td>\n",
              "      <td>virginica</td>\n",
              "    </tr>\n",
              "    <tr>\n",
              "      <th>146</th>\n",
              "      <td>6.3</td>\n",
              "      <td>2.5</td>\n",
              "      <td>5.0</td>\n",
              "      <td>1.9</td>\n",
              "      <td>virginica</td>\n",
              "    </tr>\n",
              "    <tr>\n",
              "      <th>147</th>\n",
              "      <td>6.5</td>\n",
              "      <td>3.0</td>\n",
              "      <td>5.2</td>\n",
              "      <td>2.0</td>\n",
              "      <td>virginica</td>\n",
              "    </tr>\n",
              "    <tr>\n",
              "      <th>148</th>\n",
              "      <td>6.2</td>\n",
              "      <td>3.4</td>\n",
              "      <td>5.4</td>\n",
              "      <td>2.3</td>\n",
              "      <td>virginica</td>\n",
              "    </tr>\n",
              "    <tr>\n",
              "      <th>149</th>\n",
              "      <td>5.9</td>\n",
              "      <td>3.0</td>\n",
              "      <td>5.1</td>\n",
              "      <td>1.8</td>\n",
              "      <td>virginica</td>\n",
              "    </tr>\n",
              "  </tbody>\n",
              "</table>\n",
              "<p>150 rows × 5 columns</p>\n",
              "</div>"
            ],
            "text/plain": [
              "     sepal length (cm)  sepal width (cm)  ...  petal width (cm)    species\n",
              "0                  5.1               3.5  ...               0.2     setosa\n",
              "1                  4.9               3.0  ...               0.2     setosa\n",
              "2                  4.7               3.2  ...               0.2     setosa\n",
              "3                  4.6               3.1  ...               0.2     setosa\n",
              "4                  5.0               3.6  ...               0.2     setosa\n",
              "..                 ...               ...  ...               ...        ...\n",
              "145                6.7               3.0  ...               2.3  virginica\n",
              "146                6.3               2.5  ...               1.9  virginica\n",
              "147                6.5               3.0  ...               2.0  virginica\n",
              "148                6.2               3.4  ...               2.3  virginica\n",
              "149                5.9               3.0  ...               1.8  virginica\n",
              "\n",
              "[150 rows x 5 columns]"
            ]
          },
          "metadata": {
            "tags": []
          },
          "execution_count": 122
        }
      ]
    },
    {
      "cell_type": "code",
      "metadata": {
        "id": "0JeaZCxhPjSR",
        "colab_type": "code",
        "outputId": "3eebf552-b8fd-459e-bb4c-0096d49256ce",
        "colab": {
          "base_uri": "https://localhost:8080/",
          "height": 225
        }
      },
      "source": [
        "# examine our dataframe\n",
        "iris_df.info()"
      ],
      "execution_count": 0,
      "outputs": [
        {
          "output_type": "stream",
          "text": [
            "<class 'pandas.core.frame.DataFrame'>\n",
            "RangeIndex: 150 entries, 0 to 149\n",
            "Data columns (total 5 columns):\n",
            " #   Column             Non-Null Count  Dtype  \n",
            "---  ------             --------------  -----  \n",
            " 0   sepal length (cm)  150 non-null    float64\n",
            " 1   sepal width (cm)   150 non-null    float64\n",
            " 2   petal length (cm)  150 non-null    float64\n",
            " 3   petal width (cm)   150 non-null    float64\n",
            " 4   species            150 non-null    object \n",
            "dtypes: float64(4), object(1)\n",
            "memory usage: 6.0+ KB\n"
          ],
          "name": "stdout"
        }
      ]
    },
    {
      "cell_type": "code",
      "metadata": {
        "id": "466mOs-qPdPE",
        "colab_type": "code",
        "outputId": "90b889d9-3c04-4824-ed6a-2df75ca98d2b",
        "colab": {
          "base_uri": "https://localhost:8080/",
          "height": 294
        }
      },
      "source": [
        "# describe our features\n",
        "iris_df.describe()"
      ],
      "execution_count": 0,
      "outputs": [
        {
          "output_type": "execute_result",
          "data": {
            "text/html": [
              "<div>\n",
              "<style scoped>\n",
              "    .dataframe tbody tr th:only-of-type {\n",
              "        vertical-align: middle;\n",
              "    }\n",
              "\n",
              "    .dataframe tbody tr th {\n",
              "        vertical-align: top;\n",
              "    }\n",
              "\n",
              "    .dataframe thead th {\n",
              "        text-align: right;\n",
              "    }\n",
              "</style>\n",
              "<table border=\"1\" class=\"dataframe\">\n",
              "  <thead>\n",
              "    <tr style=\"text-align: right;\">\n",
              "      <th></th>\n",
              "      <th>sepal length (cm)</th>\n",
              "      <th>sepal width (cm)</th>\n",
              "      <th>petal length (cm)</th>\n",
              "      <th>petal width (cm)</th>\n",
              "    </tr>\n",
              "  </thead>\n",
              "  <tbody>\n",
              "    <tr>\n",
              "      <th>count</th>\n",
              "      <td>150.000000</td>\n",
              "      <td>150.000000</td>\n",
              "      <td>150.000000</td>\n",
              "      <td>150.000000</td>\n",
              "    </tr>\n",
              "    <tr>\n",
              "      <th>mean</th>\n",
              "      <td>5.843333</td>\n",
              "      <td>3.057333</td>\n",
              "      <td>3.758000</td>\n",
              "      <td>1.199333</td>\n",
              "    </tr>\n",
              "    <tr>\n",
              "      <th>std</th>\n",
              "      <td>0.828066</td>\n",
              "      <td>0.435866</td>\n",
              "      <td>1.765298</td>\n",
              "      <td>0.762238</td>\n",
              "    </tr>\n",
              "    <tr>\n",
              "      <th>min</th>\n",
              "      <td>4.300000</td>\n",
              "      <td>2.000000</td>\n",
              "      <td>1.000000</td>\n",
              "      <td>0.100000</td>\n",
              "    </tr>\n",
              "    <tr>\n",
              "      <th>25%</th>\n",
              "      <td>5.100000</td>\n",
              "      <td>2.800000</td>\n",
              "      <td>1.600000</td>\n",
              "      <td>0.300000</td>\n",
              "    </tr>\n",
              "    <tr>\n",
              "      <th>50%</th>\n",
              "      <td>5.800000</td>\n",
              "      <td>3.000000</td>\n",
              "      <td>4.350000</td>\n",
              "      <td>1.300000</td>\n",
              "    </tr>\n",
              "    <tr>\n",
              "      <th>75%</th>\n",
              "      <td>6.400000</td>\n",
              "      <td>3.300000</td>\n",
              "      <td>5.100000</td>\n",
              "      <td>1.800000</td>\n",
              "    </tr>\n",
              "    <tr>\n",
              "      <th>max</th>\n",
              "      <td>7.900000</td>\n",
              "      <td>4.400000</td>\n",
              "      <td>6.900000</td>\n",
              "      <td>2.500000</td>\n",
              "    </tr>\n",
              "  </tbody>\n",
              "</table>\n",
              "</div>"
            ],
            "text/plain": [
              "       sepal length (cm)  sepal width (cm)  petal length (cm)  petal width (cm)\n",
              "count         150.000000        150.000000         150.000000        150.000000\n",
              "mean            5.843333          3.057333           3.758000          1.199333\n",
              "std             0.828066          0.435866           1.765298          0.762238\n",
              "min             4.300000          2.000000           1.000000          0.100000\n",
              "25%             5.100000          2.800000           1.600000          0.300000\n",
              "50%             5.800000          3.000000           4.350000          1.300000\n",
              "75%             6.400000          3.300000           5.100000          1.800000\n",
              "max             7.900000          4.400000           6.900000          2.500000"
            ]
          },
          "metadata": {
            "tags": []
          },
          "execution_count": 124
        }
      ]
    },
    {
      "cell_type": "markdown",
      "metadata": {
        "id": "xNul73sW8v4Q",
        "colab_type": "text"
      },
      "source": [
        "### <img src=\"https://img.icons8.com/color/32/000000/split-files.png\"/> Split into train and test sets\n",
        "\n",
        "In this example, 70% is for training and 30% is for testing."
      ]
    },
    {
      "cell_type": "code",
      "metadata": {
        "id": "zzA9BSmJPnsv",
        "colab_type": "code",
        "colab": {}
      },
      "source": [
        "# Converting Objects to Numerical dtype\n",
        "iris_df.drop('species', axis= 1, inplace= True)\n",
        "target_df = pd.DataFrame(columns= ['species'], data=iris.target)\n",
        "iris_df = pd.concat([iris_df, target_df], axis= 1)"
      ],
      "execution_count": 0,
      "outputs": []
    },
    {
      "cell_type": "markdown",
      "metadata": {
        "id": "L81e-_-_3LOQ",
        "colab_type": "text"
      },
      "source": [
        "# <img src=\"https://img.icons8.com/color/32/000000/graph.png\"/> Visualize the data"
      ]
    },
    {
      "cell_type": "code",
      "metadata": {
        "id": "PqUJAHmu3VCW",
        "colab_type": "code",
        "outputId": "978832d2-2516-43f2-a254-9e5da0eb5fce",
        "colab": {
          "base_uri": "https://localhost:8080/",
          "height": 87
        }
      },
      "source": [
        "# count species\n",
        "iris_df['species'].value_counts()"
      ],
      "execution_count": 0,
      "outputs": [
        {
          "output_type": "execute_result",
          "data": {
            "text/plain": [
              "2    50\n",
              "1    50\n",
              "0    50\n",
              "Name: species, dtype: int64"
            ]
          },
          "metadata": {
            "tags": []
          },
          "execution_count": 126
        }
      ]
    },
    {
      "cell_type": "code",
      "metadata": {
        "id": "xxlYe84d3Z_p",
        "colab_type": "code",
        "outputId": "00e42fc4-42de-4f5f-d849-2be174eae114",
        "colab": {
          "base_uri": "https://localhost:8080/",
          "height": 35
        }
      },
      "source": [
        "# check data shape\n",
        "rows, col = iris_df.shape\n",
        "print(\"Rows : %s, column : %s\" % (rows, col))"
      ],
      "execution_count": 0,
      "outputs": [
        {
          "output_type": "stream",
          "text": [
            "Rows : 150, column : 5\n"
          ],
          "name": "stdout"
        }
      ]
    },
    {
      "cell_type": "code",
      "metadata": {
        "id": "ZwHJmPcq3cxG",
        "colab_type": "code",
        "outputId": "4ab071cd-ecd4-4049-c6cb-0d640fbc2ee7",
        "colab": {
          "base_uri": "https://localhost:8080/",
          "height": 765
        }
      },
      "source": [
        "# pairplot features\n",
        "sns.pairplot(iris_df, hue='species')"
      ],
      "execution_count": 0,
      "outputs": [
        {
          "output_type": "execute_result",
          "data": {
            "text/plain": [
              "<seaborn.axisgrid.PairGrid at 0x7fb822bebdd8>"
            ]
          },
          "metadata": {
            "tags": []
          },
          "execution_count": 128
        },
        {
          "output_type": "display_data",
          "data": {
            "image/png": "[encoded data removed]",
            "text/plain": [
              "<Figure size 765.375x720 with 20 Axes>"
            ]
          },
          "metadata": {
            "tags": [],
            "needs_background": "light"
          }
        }
      ]
    },
    {
      "cell_type": "code",
      "metadata": {
        "id": "F8F-eUfWQb5w",
        "colab_type": "code",
        "outputId": "97133545-a1ec-4819-eab3-d0285b47a15d",
        "colab": {
          "base_uri": "https://localhost:8080/",
          "height": 415
        }
      },
      "source": [
        "# view dataframe\n",
        "display(iris_df)"
      ],
      "execution_count": 0,
      "outputs": [
        {
          "output_type": "display_data",
          "data": {
            "text/html": [
              "<div>\n",
              "<style scoped>\n",
              "    .dataframe tbody tr th:only-of-type {\n",
              "        vertical-align: middle;\n",
              "    }\n",
              "\n",
              "    .dataframe tbody tr th {\n",
              "        vertical-align: top;\n",
              "    }\n",
              "\n",
              "    .dataframe thead th {\n",
              "        text-align: right;\n",
              "    }\n",
              "</style>\n",
              "<table border=\"1\" class=\"dataframe\">\n",
              "  <thead>\n",
              "    <tr style=\"text-align: right;\">\n",
              "      <th></th>\n",
              "      <th>sepal length (cm)</th>\n",
              "      <th>sepal width (cm)</th>\n",
              "      <th>petal length (cm)</th>\n",
              "      <th>petal width (cm)</th>\n",
              "      <th>species</th>\n",
              "    </tr>\n",
              "  </thead>\n",
              "  <tbody>\n",
              "    <tr>\n",
              "      <th>0</th>\n",
              "      <td>5.1</td>\n",
              "      <td>3.5</td>\n",
              "      <td>1.4</td>\n",
              "      <td>0.2</td>\n",
              "      <td>0</td>\n",
              "    </tr>\n",
              "    <tr>\n",
              "      <th>1</th>\n",
              "      <td>4.9</td>\n",
              "      <td>3.0</td>\n",
              "      <td>1.4</td>\n",
              "      <td>0.2</td>\n",
              "      <td>0</td>\n",
              "    </tr>\n",
              "    <tr>\n",
              "      <th>2</th>\n",
              "      <td>4.7</td>\n",
              "      <td>3.2</td>\n",
              "      <td>1.3</td>\n",
              "      <td>0.2</td>\n",
              "      <td>0</td>\n",
              "    </tr>\n",
              "    <tr>\n",
              "      <th>3</th>\n",
              "      <td>4.6</td>\n",
              "      <td>3.1</td>\n",
              "      <td>1.5</td>\n",
              "      <td>0.2</td>\n",
              "      <td>0</td>\n",
              "    </tr>\n",
              "    <tr>\n",
              "      <th>4</th>\n",
              "      <td>5.0</td>\n",
              "      <td>3.6</td>\n",
              "      <td>1.4</td>\n",
              "      <td>0.2</td>\n",
              "      <td>0</td>\n",
              "    </tr>\n",
              "    <tr>\n",
              "      <th>...</th>\n",
              "      <td>...</td>\n",
              "      <td>...</td>\n",
              "      <td>...</td>\n",
              "      <td>...</td>\n",
              "      <td>...</td>\n",
              "    </tr>\n",
              "    <tr>\n",
              "      <th>145</th>\n",
              "      <td>6.7</td>\n",
              "      <td>3.0</td>\n",
              "      <td>5.2</td>\n",
              "      <td>2.3</td>\n",
              "      <td>2</td>\n",
              "    </tr>\n",
              "    <tr>\n",
              "      <th>146</th>\n",
              "      <td>6.3</td>\n",
              "      <td>2.5</td>\n",
              "      <td>5.0</td>\n",
              "      <td>1.9</td>\n",
              "      <td>2</td>\n",
              "    </tr>\n",
              "    <tr>\n",
              "      <th>147</th>\n",
              "      <td>6.5</td>\n",
              "      <td>3.0</td>\n",
              "      <td>5.2</td>\n",
              "      <td>2.0</td>\n",
              "      <td>2</td>\n",
              "    </tr>\n",
              "    <tr>\n",
              "      <th>148</th>\n",
              "      <td>6.2</td>\n",
              "      <td>3.4</td>\n",
              "      <td>5.4</td>\n",
              "      <td>2.3</td>\n",
              "      <td>2</td>\n",
              "    </tr>\n",
              "    <tr>\n",
              "      <th>149</th>\n",
              "      <td>5.9</td>\n",
              "      <td>3.0</td>\n",
              "      <td>5.1</td>\n",
              "      <td>1.8</td>\n",
              "      <td>2</td>\n",
              "    </tr>\n",
              "  </tbody>\n",
              "</table>\n",
              "<p>150 rows × 5 columns</p>\n",
              "</div>"
            ],
            "text/plain": [
              "     sepal length (cm)  sepal width (cm)  ...  petal width (cm)  species\n",
              "0                  5.1               3.5  ...               0.2        0\n",
              "1                  4.9               3.0  ...               0.2        0\n",
              "2                  4.7               3.2  ...               0.2        0\n",
              "3                  4.6               3.1  ...               0.2        0\n",
              "4                  5.0               3.6  ...               0.2        0\n",
              "..                 ...               ...  ...               ...      ...\n",
              "145                6.7               3.0  ...               2.3        2\n",
              "146                6.3               2.5  ...               1.9        2\n",
              "147                6.5               3.0  ...               2.0        2\n",
              "148                6.2               3.4  ...               2.3        2\n",
              "149                5.9               3.0  ...               1.8        2\n",
              "\n",
              "[150 rows x 5 columns]"
            ]
          },
          "metadata": {
            "tags": []
          }
        }
      ]
    },
    {
      "cell_type": "markdown",
      "metadata": {
        "id": "6sB3tBNz1Xst",
        "colab_type": "text"
      },
      "source": [
        "# <img src=\"https://img.icons8.com/color/32/000000/line.png\"/> Simple linear regression"
      ]
    },
    {
      "cell_type": "markdown",
      "metadata": {
        "id": "do2EGeKC1dCG",
        "colab_type": "text"
      },
      "source": [
        "[Simple linear regression](https://en.wikipedia.org/wiki/Simple_linear_regression) is a linear regression model with a single explanatory variable."
      ]
    },
    {
      "cell_type": "markdown",
      "metadata": {
        "id": "D_hs2ra40bzJ",
        "colab_type": "text"
      },
      "source": [
        "$$y = B_0 + B_1 * x$$\n",
        "where:\n",
        "* $y$ is the output variable we want to predict,\n",
        "* $x$ is the input variable we know, \n",
        "* $B_1$ are coefficients that we need to estimate, and\n",
        "* $B_0$ is the intercept (bias). \n",
        "\n",
        "The goal is to find the best estimates for the coefficients to minimize the errors in predicting $y$ from $x$."
      ]
    },
    {
      "cell_type": "markdown",
      "metadata": {
        "id": "mOAjre1CJnBU",
        "colab_type": "text"
      },
      "source": [
        "We can start off by estimating the value for $B_1$ as:\n",
        "\n",
        "$$B_1 = {\\sum_i(x_i-x_\\mu) * (y_i-y_\\mu) \\over \\sum_i(x_i – x_\\mu)^2}$$\n",
        "\n"
      ]
    },
    {
      "cell_type": "markdown",
      "metadata": {
        "id": "C3NmApOI2odu",
        "colab_type": "text"
      },
      "source": [
        "We can calculate $B_0$ using $B_1$ and some statistics from our dataset.\n",
        "\n",
        "$$B_0 = y_\\mu  – B_1 * x_\\mu$$"
      ]
    },
    {
      "cell_type": "markdown",
      "metadata": {
        "id": "YpMFCbfu3A4n",
        "colab_type": "text"
      },
      "source": [
        "# <img src=\"https://img.icons8.com/color/32/000000/scatter-plot.png\"/> Linear regression"
      ]
    },
    {
      "cell_type": "markdown",
      "metadata": {
        "id": "ro84M-pC3ks6",
        "colab_type": "text"
      },
      "source": [
        "[Linear regression](https://en.wikipedia.org/wiki/Simple_linear_regression) is a linear approach to modeling the relationship between a scalar response (or dependent variable) and one or more explanatory variables (or independent variables)."
      ]
    },
    {
      "cell_type": "markdown",
      "metadata": {
        "id": "KtHH4vrzwv4M",
        "colab_type": "text"
      },
      "source": [
        "$$y = B_0 + B_1 * x_1 + B_2 * x_2 +\\ldots + B_n * x_n$$"
      ]
    },
    {
      "cell_type": "code",
      "metadata": {
        "id": "da64bDrs3Ejm",
        "colab_type": "code",
        "outputId": "e8e4cde1-0bec-47fe-fe20-77a5e32efd53",
        "colab": {
          "base_uri": "https://localhost:8080/",
          "height": 321
        }
      },
      "source": [
        "from IPython.display import YouTubeVideo\n",
        "YouTubeVideo('PaFPbb66DxQ')"
      ],
      "execution_count": 0,
      "outputs": [
        {
          "output_type": "execute_result",
          "data": {
            "text/html": [
              "\n",
              "        <iframe\n",
              "            width=\"400\"\n",
              "            height=\"300\"\n",
              "            src=\"https://www.youtube.com/embed/PaFPbb66DxQ\"\n",
              "            frameborder=\"0\"\n",
              "            allowfullscreen\n",
              "        ></iframe>\n",
              "        "
            ],
            "text/plain": [
              "<IPython.lib.display.YouTubeVideo at 0x7fb82352feb8>"
            ],
            "image/jpeg": "[encoded data removed]"
          },
          "metadata": {
            "tags": []
          },
          "execution_count": 89
        }
      ]
    },
    {
      "cell_type": "markdown",
      "metadata": {
        "id": "9xt5W2Ec3qPC",
        "colab_type": "text"
      },
      "source": [
        "## <img src=\"https://img.icons8.com/color/32/000000/new-document.png\"/> Example"
      ]
    },
    {
      "cell_type": "markdown",
      "metadata": {
        "id": "cGeMT59Y3x__",
        "colab_type": "text"
      },
      "source": [
        "### <img src=\"https://img.icons8.com/color/32/000000/orchid.png\"/> Predict the `sepal length (cm)`."
      ]
    },
    {
      "cell_type": "markdown",
      "metadata": {
        "id": "FaSeNMLjRZUR",
        "colab_type": "text"
      },
      "source": [
        "This is a regression problem, so we need to predict a *continuous* outcome. We choose one of the features.  We treat the class label `species` as just another feature. "
      ]
    },
    {
      "cell_type": "code",
      "metadata": {
        "id": "lTLPIQ5uKGSu",
        "colab_type": "code",
        "colab": {}
      },
      "source": [
        "# transform species to integers\n",
        "le = preprocessing.LabelEncoder()\n",
        "iris_df['species'] = le.fit_transform(iris_df['species'])"
      ],
      "execution_count": 0,
      "outputs": []
    },
    {
      "cell_type": "code",
      "metadata": {
        "id": "yts8kmc3x2Yc",
        "colab_type": "code",
        "colab": {}
      },
      "source": [
        "# dependent variable is 'sepal length (cm)'\n",
        "X = iris_df.drop(labels= 'sepal length (cm)', axis= 1)\n",
        "y = iris_df['sepal length (cm)']"
      ],
      "execution_count": 0,
      "outputs": []
    },
    {
      "cell_type": "code",
      "metadata": {
        "id": "jGoRUdVzA4Ps",
        "colab_type": "code",
        "colab": {}
      },
      "source": [
        "# split the dataset \n",
        "X_train, X_test, y_train, y_test = train_test_split(X, y, test_size= 0.33, random_state= 101)"
      ],
      "execution_count": 0,
      "outputs": []
    },
    {
      "cell_type": "code",
      "metadata": {
        "id": "YbA8M2cIIOpW",
        "colab_type": "code",
        "outputId": "5ada1392-651e-43c0-ad81-b194680e1117",
        "colab": {
          "base_uri": "https://localhost:8080/",
          "height": 35
        }
      },
      "source": [
        "# create a LinearRegression() model\n",
        "lr = LinearRegression()\n",
        "lr"
      ],
      "execution_count": 0,
      "outputs": [
        {
          "output_type": "execute_result",
          "data": {
            "text/plain": [
              "LinearRegression(copy_X=True, fit_intercept=True, n_jobs=None, normalize=False)"
            ]
          },
          "metadata": {
            "tags": []
          },
          "execution_count": 134
        }
      ]
    },
    {
      "cell_type": "code",
      "metadata": {
        "id": "Rpc_gKhsMKhh",
        "colab_type": "code",
        "outputId": "c6879402-3fa1-40fa-f1c5-3189fdf720a3",
        "colab": {
          "base_uri": "https://localhost:8080/",
          "height": 35
        }
      },
      "source": [
        "# train the model\n",
        "lr.fit(X_train, y_train)"
      ],
      "execution_count": 0,
      "outputs": [
        {
          "output_type": "execute_result",
          "data": {
            "text/plain": [
              "LinearRegression(copy_X=True, fit_intercept=True, n_jobs=None, normalize=False)"
            ]
          },
          "metadata": {
            "tags": []
          },
          "execution_count": 135
        }
      ]
    },
    {
      "cell_type": "code",
      "metadata": {
        "id": "mCdquIpqJpp-",
        "colab_type": "code",
        "colab": {}
      },
      "source": [
        "# make predictions\n",
        "lr.predict(X_test)\n",
        "pred = lr.predict(X_test)"
      ],
      "execution_count": 0,
      "outputs": []
    },
    {
      "cell_type": "code",
      "metadata": {
        "colab_type": "code",
        "id": "MqrHD2j-MGUd",
        "outputId": "a894adbf-95fa-4c11-ea8a-c876837ffd00",
        "colab": {
          "base_uri": "https://localhost:8080/",
          "height": 173
        }
      },
      "source": [
        "# view predictions\n",
        "print(pred)"
      ],
      "execution_count": 0,
      "outputs": [
        {
          "output_type": "stream",
          "text": [
            "[5.46114587 5.07345452 4.9347765  6.99564965 6.54274665 5.98101314\n",
            " 5.68344523 5.47200924 5.87249006 4.687635   6.2935498  5.53302753\n",
            " 4.90789461 7.34015348 6.17439086 6.09386911 6.00159206 6.01550096\n",
            " 4.73818534 6.6970219  5.49567769 5.21721782 6.03683228 6.24318298\n",
            " 6.09386911 5.5452921  5.09735047 5.85437218 4.84437129 4.10007944\n",
            " 6.64781317 5.60092772 6.64459972 5.7094508  6.47068148 6.18614616\n",
            " 6.42031467 5.96401471 5.88658249 6.82494485 5.10127233 4.76091786\n",
            " 4.97328977 6.47501437 6.19911914 4.51050332 6.78415406 5.98213258\n",
            " 4.83046239 4.93319177]\n"
          ],
          "name": "stdout"
        }
      ]
    },
    {
      "cell_type": "code",
      "metadata": {
        "id": "ZCOiGa9qL4V-",
        "colab_type": "code",
        "outputId": "1b95221b-cfaa-4c5f-d231-f586e26d39e3",
        "colab": {
          "base_uri": "https://localhost:8080/",
          "height": 69
        }
      },
      "source": [
        "# evaluate model's performance\n",
        "print('Mean Absolute Error:     %0.4f' % mean_absolute_error(y_test, pred))\n",
        "print('Mean Squared Error:      %0.4f' % mean_squared_error(y_test, pred))\n",
        "print('Mean Root Squared Error: %0.4f' % np.sqrt(mean_squared_error(y_test, pred)))"
      ],
      "execution_count": 0,
      "outputs": [
        {
          "output_type": "stream",
          "text": [
            "Mean Absolute Error:     0.2596\n",
            "Mean Squared Error:      0.1017\n",
            "Mean Root Squared Error: 0.3190\n"
          ],
          "name": "stdout"
        }
      ]
    },
    {
      "cell_type": "markdown",
      "metadata": {
        "id": "Ibj22ejBMN0X",
        "colab_type": "text"
      },
      "source": [
        "### <img src=\"https://img.icons8.com/color/32/000000/one-page.png\"/> Evaluate a single prediction"
      ]
    },
    {
      "cell_type": "code",
      "metadata": {
        "id": "xuVMCizbKeBN",
        "colab_type": "code",
        "outputId": "a2d2d8ad-212a-4d9c-80ed-31aabf440118",
        "colab": {
          "base_uri": "https://localhost:8080/",
          "height": 121
        }
      },
      "source": [
        "# random instance from the data.\n",
        "row = 6\n",
        "iris_df.loc[row]"
      ],
      "execution_count": 0,
      "outputs": [
        {
          "output_type": "execute_result",
          "data": {
            "text/plain": [
              "sepal length (cm)    4.6\n",
              "sepal width (cm)     3.4\n",
              "petal length (cm)    1.4\n",
              "petal width (cm)     0.3\n",
              "species              0.0\n",
              "Name: 6, dtype: float64"
            ]
          },
          "metadata": {
            "tags": []
          },
          "execution_count": 143
        }
      ]
    },
    {
      "cell_type": "code",
      "metadata": {
        "id": "161k_ASBKglN",
        "colab_type": "code",
        "outputId": "9e4cb7da-da8f-467b-9626-681f570ff9e7",
        "colab": {
          "base_uri": "https://localhost:8080/",
          "height": 79
        }
      },
      "source": [
        "# encode it as a dataframe\n",
        "d = {'sepal length (cm)' : iris_df.loc[row]['sepal length (cm)'],\n",
        "    'sepal width (cm)' : iris_df.loc[row]['sepal width (cm)'],\n",
        "    'petal length (cm)' : iris_df.loc[row]['petal length (cm)'],\n",
        "    'petal width (cm)' : iris_df.loc[row]['petal width (cm)'],\n",
        "    'species' : iris_df.loc[row]['species']}\n",
        "d\n",
        "test_df = pd.DataFrame(data= d, index=[0])\n",
        "test_df"
      ],
      "execution_count": 0,
      "outputs": [
        {
          "output_type": "execute_result",
          "data": {
            "text/html": [
              "<div>\n",
              "<style scoped>\n",
              "    .dataframe tbody tr th:only-of-type {\n",
              "        vertical-align: middle;\n",
              "    }\n",
              "\n",
              "    .dataframe tbody tr th {\n",
              "        vertical-align: top;\n",
              "    }\n",
              "\n",
              "    .dataframe thead th {\n",
              "        text-align: right;\n",
              "    }\n",
              "</style>\n",
              "<table border=\"1\" class=\"dataframe\">\n",
              "  <thead>\n",
              "    <tr style=\"text-align: right;\">\n",
              "      <th></th>\n",
              "      <th>sepal length (cm)</th>\n",
              "      <th>sepal width (cm)</th>\n",
              "      <th>petal length (cm)</th>\n",
              "      <th>petal width (cm)</th>\n",
              "      <th>species</th>\n",
              "    </tr>\n",
              "  </thead>\n",
              "  <tbody>\n",
              "    <tr>\n",
              "      <th>0</th>\n",
              "      <td>4.6</td>\n",
              "      <td>3.4</td>\n",
              "      <td>1.4</td>\n",
              "      <td>0.3</td>\n",
              "      <td>0.0</td>\n",
              "    </tr>\n",
              "  </tbody>\n",
              "</table>\n",
              "</div>"
            ],
            "text/plain": [
              "   sepal length (cm)  sepal width (cm)  ...  petal width (cm)  species\n",
              "0                4.6               3.4  ...               0.3      0.0\n",
              "\n",
              "[1 rows x 5 columns]"
            ]
          },
          "metadata": {
            "tags": []
          },
          "execution_count": 144
        }
      ]
    },
    {
      "cell_type": "code",
      "metadata": {
        "id": "YkhN4Z6Yzdbs",
        "colab_type": "code",
        "outputId": "b5cb7729-4441-48aa-8ea3-9dee0dad4cd4",
        "colab": {
          "base_uri": "https://localhost:8080/",
          "height": 52
        }
      },
      "source": [
        "# predict the 'sepal length (cm)' for the instance. \n",
        "x_instance = test_df.drop(labels= 'sepal length (cm)', axis= 1)\n",
        "print(x_instance)"
      ],
      "execution_count": 0,
      "outputs": [
        {
          "output_type": "stream",
          "text": [
            "   sepal width (cm)  petal length (cm)  petal width (cm)  species\n",
            "0               3.4                1.4               0.3      0.0\n"
          ],
          "name": "stdout"
        }
      ]
    },
    {
      "cell_type": "code",
      "metadata": {
        "id": "QUA6p0dwKi8X",
        "colab_type": "code",
        "outputId": "8668aaeb-e136-4d7c-82cd-5d12551bca72",
        "colab": {
          "base_uri": "https://localhost:8080/",
          "height": 69
        }
      },
      "source": [
        "# predict instance\n",
        "pred = lr.predict(x_instance.values)\n",
        "print('Predicted Sepal Length (cm): %.5f' % pred[0])\n",
        "print('Actual Sepal Length (cm): %s' % test_df['sepal length (cm)'][0])\n",
        "print('Error: %.5f' % (abs(test_df['sepal length (cm)'][0] - pred[0])))"
      ],
      "execution_count": 0,
      "outputs": [
        {
          "output_type": "stream",
          "text": [
            "Predicted Sepal Length (cm): 4.88750\n",
            "Actual Sepal Length (cm): 4.6\n",
            "Error: 0.28750\n"
          ],
          "name": "stdout"
        }
      ]
    },
    {
      "cell_type": "markdown",
      "metadata": {
        "id": "7vMRWV54Kze0",
        "colab_type": "text"
      },
      "source": [
        "> For `row=6`, the error is $0.287$ cm, which is a little higher than the MAE."
      ]
    },
    {
      "cell_type": "markdown",
      "metadata": {
        "id": "kxFubSenUsM4",
        "colab_type": "text"
      },
      "source": [
        "# <img src=\"https://img.icons8.com/color/32/000000/spread.png\"/> Logistic regression"
      ]
    },
    {
      "cell_type": "markdown",
      "metadata": {
        "id": "iCRE2HTK5Cny",
        "colab_type": "text"
      },
      "source": [
        "[Logistic regression](https://en.wikipedia.org/wiki/Logistic_regression) is a statistical model that in its basic form uses a logistic function to model a binary dependent variable. This allows use of regressive techniques for classification."
      ]
    },
    {
      "cell_type": "code",
      "metadata": {
        "id": "TdED_CUS6A1F",
        "colab_type": "code",
        "outputId": "97551b5b-50a0-4820-a570-231ab550ad9e",
        "colab": {
          "base_uri": "https://localhost:8080/",
          "height": 321
        }
      },
      "source": [
        "from IPython.display import YouTubeVideo\n",
        "YouTubeVideo('yIYKR4sgzI8')"
      ],
      "execution_count": 0,
      "outputs": [
        {
          "output_type": "execute_result",
          "data": {
            "text/html": [
              "\n",
              "        <iframe\n",
              "            width=\"400\"\n",
              "            height=\"300\"\n",
              "            src=\"https://www.youtube.com/embed/yIYKR4sgzI8\"\n",
              "            frameborder=\"0\"\n",
              "            allowfullscreen\n",
              "        ></iframe>\n",
              "        "
            ],
            "text/plain": [
              "<IPython.lib.display.YouTubeVideo at 0x7fb82352fc50>"
            ],
            "image/jpeg": "[encoded data removed]"
          },
          "metadata": {
            "tags": []
          },
          "execution_count": 102
        }
      ]
    },
    {
      "cell_type": "markdown",
      "metadata": {
        "id": "F8pmEr_qjVxR",
        "colab_type": "text"
      },
      "source": [
        "## <img src=\"https://img.icons8.com/color/32/000000/formula-fx.png\"/> Sigmoid function"
      ]
    },
    {
      "cell_type": "markdown",
      "metadata": {
        "id": "PhxnVWFBk8BR",
        "colab_type": "text"
      },
      "source": [
        "The sigmoid function takes real-number values as input and transforms them into values in range $[0,1]$ with an intercept at $\\phi(z) = 0.5$."
      ]
    },
    {
      "cell_type": "markdown",
      "metadata": {
        "id": "VXGJCi1dj1XF",
        "colab_type": "text"
      },
      "source": [
        "$$\\phi(z) = {1 \\over {1 + e^{-z}}}$$\n",
        "\n",
        "where $z$ is a linear combination of weights and feature inputs,\n",
        "\n",
        "$$z = \\mathbf{w^Tx} = w_0 x_0 + w_1 x_1 + \\ ... \\ + w_m x_m$$"
      ]
    },
    {
      "cell_type": "markdown",
      "metadata": {
        "id": "xlOcvd_flI78",
        "colab_type": "text"
      },
      "source": [
        "### <img src=\"https://img.icons8.com/color/32/000000/graph.png\"/> Graph of the sigmoid function"
      ]
    },
    {
      "cell_type": "code",
      "metadata": {
        "id": "TxRFXnMb3r1_",
        "colab_type": "code",
        "outputId": "c069ce62-aa86-4e50-c8bd-07865abdf3c2",
        "colab": {
          "base_uri": "https://localhost:8080/",
          "height": 297
        }
      },
      "source": [
        "# graph the sigmoid function\n",
        "def sigmoid(z):\n",
        "    return 1.0 / (1.0 + np.exp(-z))\n",
        "\n",
        "z = np.arange(-7, 7, 0.1)\n",
        "phi_z = sigmoid(z)\n",
        "\n",
        "plt.plot(z, phi_z)\n",
        "plt.axvline(0.0, color='k')\n",
        "plt.ylim(-0.1, 1.1)\n",
        "plt.xlabel('z')\n",
        "plt.ylabel('$\\phi (z)$')\n",
        "\n",
        "# y axis ticks and gridline\n",
        "plt.yticks([0.0, 0.5, 1.0])\n",
        "ax = plt.gca()\n",
        "ax.yaxis.grid(True)\n",
        "\n",
        "plt.tight_layout()\n",
        "plt.show()"
      ],
      "execution_count": 0,
      "outputs": [
        {
          "output_type": "display_data",
          "data": {
            "image/png": "[encoded data removed]",
            "text/plain": [
              "<Figure size 432x288 with 1 Axes>"
            ]
          },
          "metadata": {
            "tags": [],
            "needs_background": "light"
          }
        }
      ]
    },
    {
      "cell_type": "markdown",
      "metadata": {
        "id": "oN_ih2PbyPsL",
        "colab_type": "text"
      },
      "source": [
        "### <img src=\"https://img.icons8.com/color/32/000000/weightlift.png\"/> Learning the weights of the logistic cost function"
      ]
    },
    {
      "cell_type": "code",
      "metadata": {
        "colab_type": "code",
        "id": "HB063pBbWFYz",
        "outputId": "9bcae1cb-1a43-4327-8637-d9bdd2bc464c",
        "colab": {
          "base_uri": "https://localhost:8080/",
          "height": 297
        }
      },
      "source": [
        "# graph the sigmoid activation\n",
        "def cost_1(z):\n",
        "    return - np.log(sigmoid(z))\n",
        "\n",
        "def cost_0(z):\n",
        "    return - np.log(1 - sigmoid(z))\n",
        "\n",
        "z = np.arange(-10, 10, 0.1)\n",
        "phi_z = sigmoid(z)\n",
        "\n",
        "c1 = [cost_1(x) for x in z]\n",
        "plt.plot(phi_z, c1, label='J(w) if y=1')\n",
        "\n",
        "c0 = [cost_0(x) for x in z]\n",
        "plt.plot(phi_z, c0, linestyle='--', label='J(w) if y=0')\n",
        "\n",
        "plt.ylim(0.0, 5.1)\n",
        "plt.xlim([0, 1])\n",
        "plt.xlabel('$\\phi$(z)')\n",
        "plt.ylabel('J(w)')\n",
        "plt.legend(loc='best')\n",
        "plt.tight_layout()\n",
        "plt.show()"
      ],
      "execution_count": 0,
      "outputs": [
        {
          "output_type": "display_data",
          "data": {
            "image/png": "[encoded data removed]",
            "text/plain": [
              "<Figure size 432x288 with 1 Axes>"
            ]
          },
          "metadata": {
            "tags": [],
            "needs_background": "light"
          }
        }
      ]
    },
    {
      "cell_type": "markdown",
      "metadata": {
        "id": "zrT83bvhNe7k",
        "colab_type": "text"
      },
      "source": [
        "## <img src=\"https://img.icons8.com/color/32/000000/sort-by-modified-date.png\"/> Custom implementation of Logistic Regression"
      ]
    },
    {
      "cell_type": "code",
      "metadata": {
        "id": "aT93J3OQyPsS",
        "colab_type": "code",
        "colab": {}
      },
      "source": [
        "class LogisticRegressionGD(object):\n",
        "    \"\"\"Logistic Regression Classifier using gradient descent.\n",
        "\n",
        "    Parameters\n",
        "    ------------\n",
        "    eta : float\n",
        "      Learning rate (between 0.0 and 1.0)\n",
        "    n_iter : int\n",
        "      Passes over the training dataset.\n",
        "    random_state : int\n",
        "      Random number generator seed for random weight\n",
        "      initialization.\n",
        "\n",
        "\n",
        "    Attributes\n",
        "    -----------\n",
        "    w_ : 1d-array\n",
        "      Weights after fitting.\n",
        "    cost_ : list\n",
        "      Logistic cost function value in each epoch.\n",
        "\n",
        "    \"\"\"\n",
        "    def __init__(self, eta=0.05, n_iter=100, random_state=1):\n",
        "        self.eta = eta\n",
        "        self.n_iter = n_iter\n",
        "        self.random_state = random_state\n",
        "\n",
        "    def fit(self, X, y):\n",
        "        \"\"\" Fit training data.\n",
        "\n",
        "        Parameters\n",
        "        ----------\n",
        "        X : {array-like}, shape = [n_examples, n_features]\n",
        "          Training vectors, where n_examples is the number of examples and\n",
        "          n_features is the number of features.\n",
        "        y : array-like, shape = [n_examples]\n",
        "          Target values.\n",
        "\n",
        "        Returns\n",
        "        -------\n",
        "        self : object\n",
        "\n",
        "        \"\"\"\n",
        "        rgen = np.random.RandomState(self.random_state)\n",
        "        self.w_ = rgen.normal(loc=0.0, scale=0.01, size=1 + X.shape[1])\n",
        "        self.cost_ = []\n",
        "\n",
        "        for i in range(self.n_iter):\n",
        "            net_input = self.net_input(X)\n",
        "            output = self.activation(net_input)\n",
        "            errors = (y - output)\n",
        "            self.w_[1:] += self.eta * X.T.dot(errors)\n",
        "            self.w_[0] += self.eta * errors.sum()\n",
        "            \n",
        "            # note that we compute the logistic `cost` now\n",
        "            # instead of the sum of squared errors cost\n",
        "            cost = -y.dot(np.log(output)) - ((1 - y).dot(np.log(1 - output)))\n",
        "            self.cost_.append(cost)\n",
        "        return self\n",
        "    \n",
        "    def net_input(self, X):\n",
        "        \"\"\"Calculate net input\"\"\"\n",
        "        return np.dot(X, self.w_[1:]) + self.w_[0]\n",
        "\n",
        "    def activation(self, z):\n",
        "        \"\"\"Compute logistic sigmoid activation\"\"\"\n",
        "        return 1. / (1. + np.exp(-np.clip(z, -250, 250)))\n",
        "\n",
        "    def predict(self, X):\n",
        "        \"\"\"Return class label after unit step\"\"\"\n",
        "        return np.where(self.net_input(X) >= 0.0, 1, 0)\n",
        "        # equivalent to:\n",
        "        # return np.where(self.activation(self.net_input(X)) >= 0.5, 1, 0)"
      ],
      "execution_count": 0,
      "outputs": []
    },
    {
      "cell_type": "markdown",
      "metadata": {
        "id": "o7B782SV1zHU",
        "colab_type": "text"
      },
      "source": [
        "### <img src=\"https://img.icons8.com/color/32/000000/inspect-code.png\"/> Examine the decision boundary between two features."
      ]
    },
    {
      "cell_type": "code",
      "metadata": {
        "id": "1BtkOpwluf6R",
        "colab_type": "code",
        "colab": {}
      },
      "source": [
        "# consider only the third column of the petal length, and \n",
        "# the fourth column of petal width of the flower. \n",
        "X = iris.data[:, [2, 3]]\n",
        "y = iris.target"
      ],
      "execution_count": 0,
      "outputs": []
    },
    {
      "cell_type": "code",
      "metadata": {
        "id": "GEu6i8c1uPM5",
        "colab_type": "code",
        "colab": {}
      },
      "source": [
        "# split into train and test\n",
        "X_train, X_test, y_train, y_test = train_test_split(\n",
        "    X, y, test_size=0.3, random_state=1, stratify=y)"
      ],
      "execution_count": 0,
      "outputs": []
    },
    {
      "cell_type": "code",
      "metadata": {
        "id": "c4X0U4tFyPsX",
        "colab_type": "code",
        "outputId": "dcee44e6-1f22-4e9c-9f47-6684bd3afbbc",
        "colab": {
          "base_uri": "https://localhost:8080/",
          "height": 297
        }
      },
      "source": [
        "# partition points and plot\n",
        "X_train_01_subset = X_train[(y_train == 0) | (y_train == 1)]\n",
        "y_train_01_subset = y_train[(y_train == 0) | (y_train == 1)]\n",
        "\n",
        "lrgd = LogisticRegressionGD(eta=0.05, n_iter=1000, random_state=1)\n",
        "lrgd.fit(X_train_01_subset,\n",
        "         y_train_01_subset)\n",
        "\n",
        "plot_decision_regions(X=X_train_01_subset, \n",
        "                      y=y_train_01_subset,\n",
        "                      classifier=lrgd)\n",
        "\n",
        "plt.xlabel('petal length [standardized]')\n",
        "plt.ylabel('petal width [standardized]')\n",
        "plt.legend(loc='upper left')\n",
        "\n",
        "plt.tight_layout()\n",
        "plt.show()"
      ],
      "execution_count": 0,
      "outputs": [
        {
          "output_type": "display_data",
          "data": {
            "image/png": "[encoded data removed]",
            "text/plain": [
              "<Figure size 432x288 with 1 Axes>"
            ]
          },
          "metadata": {
            "tags": [],
            "needs_background": "light"
          }
        }
      ]
    },
    {
      "cell_type": "markdown",
      "metadata": {
        "id": "nUx_r20OyPsc",
        "colab_type": "text"
      },
      "source": [
        "## <img src=\"https://img.icons8.com/color/32/000000/line-chart.png\"/> Logistic Regression with scikit-learn"
      ]
    },
    {
      "cell_type": "markdown",
      "metadata": {
        "id": "qkk-BYsSNKG8",
        "colab_type": "text"
      },
      "source": [
        "Load the Iris data again, this time consider the `species` as a classification target. "
      ]
    },
    {
      "cell_type": "code",
      "metadata": {
        "id": "NlYtxsU2QM-_",
        "colab_type": "code",
        "colab": {}
      },
      "source": [
        "# dependent variable is 'species'\n",
        "X = iris_df.drop(labels= 'species', axis= 1)\n",
        "y = iris_df['species']"
      ],
      "execution_count": 0,
      "outputs": []
    },
    {
      "cell_type": "code",
      "metadata": {
        "id": "qXl8nC9bvYb5",
        "colab_type": "code",
        "colab": {}
      },
      "source": [
        "# standardize\n",
        "sc = StandardScaler()\n",
        "sc.fit(X_train)\n",
        "X_train_std = sc.transform(X_train)\n",
        "X_test_std = sc.transform(X_test)\n",
        "\n",
        "# needed for graphing\n",
        "X_combined_std = np.vstack((X_train_std, X_test_std))\n",
        "y_combined = np.hstack((y_train, y_test))"
      ],
      "execution_count": 0,
      "outputs": []
    },
    {
      "cell_type": "code",
      "metadata": {
        "id": "A6Zn-i0PyPsd",
        "colab_type": "code",
        "outputId": "691275e3-3328-4498-86df-158a9fa7c955",
        "colab": {
          "base_uri": "https://localhost:8080/",
          "height": 335
        }
      },
      "source": [
        "# train model\n",
        "lr = LogisticRegression(C=100.0, random_state=1, solver='lbfgs', multi_class='ovr')\n",
        "lr.fit(X_train_std, y_train)\n",
        "\n",
        "plot_decision_regions(X_combined_std, y_combined,\n",
        "                      classifier=lr, test_idx=range(105, 150))\n",
        "plt.xlabel('petal length [standardized]')\n",
        "plt.ylabel('petal width [standardized]')\n",
        "plt.legend(loc='upper left')\n",
        "plt.tight_layout()\n",
        "plt.show()"
      ],
      "execution_count": 0,
      "outputs": [
        {
          "output_type": "stream",
          "text": [
            "/usr/local/lib/python3.6/dist-packages/ipykernel_launcher.py:41: MatplotlibDeprecationWarning: Using a string of single character colors as a color sequence is deprecated. Use an explicit list instead.\n"
          ],
          "name": "stderr"
        },
        {
          "output_type": "display_data",
          "data": {
            "image/png": "[encoded data removed]",
            "text/plain": [
              "<Figure size 432x288 with 1 Axes>"
            ]
          },
          "metadata": {
            "tags": [],
            "needs_background": "light"
          }
        }
      ]
    },
    {
      "cell_type": "markdown",
      "metadata": {
        "id": "l3niPi2MQ0Km",
        "colab_type": "text"
      },
      "source": [
        "##### Predict new instances"
      ]
    },
    {
      "cell_type": "code",
      "metadata": {
        "id": "6wQnxUpqyPsi",
        "colab_type": "code",
        "outputId": "eddf70af-9d1c-4806-b9d5-bdad21561400",
        "colab": {
          "base_uri": "https://localhost:8080/",
          "height": 69
        }
      },
      "source": [
        "# prediction probabilities\n",
        "lr.predict_proba(X_test_std[:3, :]) "
      ],
      "execution_count": 0,
      "outputs": [
        {
          "output_type": "execute_result",
          "data": {
            "text/plain": [
              "array([[3.81527885e-09, 1.44792866e-01, 8.55207131e-01],\n",
              "       [8.34020679e-01, 1.65979321e-01, 3.25737138e-13],\n",
              "       [8.48831425e-01, 1.51168575e-01, 2.62277619e-14]])"
            ]
          },
          "metadata": {
            "tags": []
          },
          "execution_count": 156
        }
      ]
    },
    {
      "cell_type": "code",
      "metadata": {
        "id": "GvfBoR3GyPsn",
        "colab_type": "code",
        "outputId": "acfd352d-4479-4250-e613-6d372118d64a",
        "colab": {
          "base_uri": "https://localhost:8080/",
          "height": 35
        }
      },
      "source": [
        "# verify the class probabilites sum to 1 for each example\n",
        "lr.predict_proba(X_test_std[:3, :]).sum(axis=1)"
      ],
      "execution_count": 0,
      "outputs": [
        {
          "output_type": "execute_result",
          "data": {
            "text/plain": [
              "array([1., 1., 1.])"
            ]
          },
          "metadata": {
            "tags": []
          },
          "execution_count": 157
        }
      ]
    },
    {
      "cell_type": "code",
      "metadata": {
        "id": "sPTd0ztoyPsr",
        "colab_type": "code",
        "outputId": "3a53e076-2cec-4566-e2b9-e5d36ce00b58",
        "colab": {
          "base_uri": "https://localhost:8080/",
          "height": 35
        }
      },
      "source": [
        "# predict the classes, from probabilities\n",
        "lr.predict_proba(X_test_std[:3, :]).argmax(axis=1)"
      ],
      "execution_count": 0,
      "outputs": [
        {
          "output_type": "execute_result",
          "data": {
            "text/plain": [
              "array([2, 0, 0])"
            ]
          },
          "metadata": {
            "tags": []
          },
          "execution_count": 158
        }
      ]
    },
    {
      "cell_type": "code",
      "metadata": {
        "id": "j_YAwMotyPsw",
        "colab_type": "code",
        "outputId": "7be6a69f-1fbd-4c0a-ac99-9d5419d9b5cf",
        "colab": {
          "base_uri": "https://localhost:8080/",
          "height": 35
        }
      },
      "source": [
        "# predict the classes, directly\n",
        "lr.predict(X_test_std[:3, :])"
      ],
      "execution_count": 0,
      "outputs": [
        {
          "output_type": "execute_result",
          "data": {
            "text/plain": [
              "array([2, 0, 0])"
            ]
          },
          "metadata": {
            "tags": []
          },
          "execution_count": 159
        }
      ]
    },
    {
      "cell_type": "markdown",
      "metadata": {
        "id": "6vTtuORpQxaj",
        "colab_type": "text"
      },
      "source": [
        "#### Predict a single example"
      ]
    },
    {
      "cell_type": "code",
      "metadata": {
        "id": "VIhmwaAZyPs1",
        "colab_type": "code",
        "outputId": "7111c323-f22c-49c8-8c2d-63a30c1b95d2",
        "colab": {
          "base_uri": "https://localhost:8080/",
          "height": 35
        }
      },
      "source": [
        "# predict a single example\n",
        "lr.predict(X_test_std[0, :].reshape(1, -1))"
      ],
      "execution_count": 0,
      "outputs": [
        {
          "output_type": "execute_result",
          "data": {
            "text/plain": [
              "array([2])"
            ]
          },
          "metadata": {
            "tags": []
          },
          "execution_count": 160
        }
      ]
    }
  ]
}