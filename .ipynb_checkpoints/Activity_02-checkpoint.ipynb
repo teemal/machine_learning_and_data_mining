{
 "cells": [
  {
   "cell_type": "markdown",
   "metadata": {
    "colab_type": "text",
    "id": "YaDpWNLCkeZG"
   },
   "source": [
    "#Activity 02 - Data Processing"
   ]
  },
  {
   "cell_type": "markdown",
   "metadata": {
    "colab_type": "text",
    "id": "n0MLDWWFka3t"
   },
   "source": [
    "***\n",
    "##### CS 434 - Dating Mining and Machine Learning\n",
    "##### Oregon State University-Cascades\n",
    "***\n"
   ]
  },
  {
   "cell_type": "markdown",
   "metadata": {
    "colab_type": "text",
    "id": "Pl-zeymQMn4S"
   },
   "source": [
    "# Instructions\n",
    "Complete this \"worksheet\" by writing code to complete the series of tasks mentioned.  Then open the Canvas \"quiz\" Activity (of the same name) and answer the questions based on the results. "
   ]
  },
  {
   "cell_type": "markdown",
   "metadata": {
    "colab_type": "text",
    "id": "Bmrr2VKYbx1h"
   },
   "source": [
    "# Load packages"
   ]
  },
  {
   "cell_type": "code",
   "execution_count": 5,
   "metadata": {
    "colab": {},
    "colab_type": "code",
    "id": "KiOYyC4hqe97"
   },
   "outputs": [],
   "source": [
    "import pandas as pd\n",
    "import numpy as np"
   ]
  },
  {
   "cell_type": "markdown",
   "metadata": {
    "colab_type": "text",
    "id": "3hROAb0gtTEA"
   },
   "source": [
    "*** \n",
    "\n",
    "# Dataset\n",
    "\n",
    "***"
   ]
  },
  {
   "cell_type": "markdown",
   "metadata": {
    "colab_type": "text",
    "id": "e2IcmIY_04a4"
   },
   "source": [
    "### Location\n",
    "https://openmv.net/file/travel-times.csv\n",
    "\n",
    "### Description\n",
    "A driver uses an app to track GPS coordinates as he drives to work and back each day. The app collects the location and elevation data. Data for about 200 trips are summarized in this data set.\n",
    "\n",
    "### Attributes\n",
    "* `Date` : date of travel\n",
    "* `StartTime` : when getting into the car\n",
    "* `DayOfWeek`: the day name\n",
    "* `GoingTo`: direction of travel\n",
    "* `Distance`: distance travelled in kilometers\n",
    "* `MaxSpeed`: fastest speed recorded (all trips are on the 407 highway for some portion)\n",
    "* `AvgSpeed`: the average speed for the entire trip\n",
    "* `AvgMovingSpeed`: the average speed recorded only while the car is moving\n",
    "* `FuelEconomy`: a rough estimate of fuel economy (it is inaccurate)\n",
    "* `TotalTime`: duration of the entire trip, in minutes\n",
    "* `MovingTime`: duration when the car was considered to be moving (i.e. not counting traffic delays, accidents, or time while the car is stationary)\n",
    "* `Take407All`: is Yes if the 407 toll highway was taken for the entire trip.\n",
    "> *I try to avoid taking the 407, taking slower back routes to save costs. But some days I'm running late, or just lazy, and take it all the way.*\n",
    "* `Comments` : miscellaneous notes"
   ]
  },
  {
   "cell_type": "code",
   "execution_count": 2,
   "metadata": {
    "colab": {},
    "colab_type": "code",
    "id": "rRZ7NqxhsQ6s"
   },
   "outputs": [],
   "source": [
    "url = 'https://openmv.net/file/travel-times.csv'"
   ]
  },
  {
   "cell_type": "markdown",
   "metadata": {
    "colab_type": "text",
    "id": "N-5-mJL0b76h"
   },
   "source": [
    "*** \n",
    "# Exercise #1 - Examine data by row\n",
    "*** "
   ]
  },
  {
   "cell_type": "markdown",
   "metadata": {
    "colab_type": "text",
    "id": "3syEq0IY7HNg"
   },
   "source": [
    "##### 1.1 Load the dataset from the url and `display(df)`. "
   ]
  },
  {
   "cell_type": "code",
   "execution_count": 7,
   "metadata": {
    "colab": {
     "base_uri": "https://localhost:8080/",
     "height": 35
    },
    "colab_type": "code",
    "id": "ywpxT3eJkLl0",
    "outputId": "29b49cf1-c588-48ab-c97b-fa7438f7e28c"
   },
   "outputs": [
    {
     "data": {
      "text/html": [
       "<div>\n",
       "<style scoped>\n",
       "    .dataframe tbody tr th:only-of-type {\n",
       "        vertical-align: middle;\n",
       "    }\n",
       "\n",
       "    .dataframe tbody tr th {\n",
       "        vertical-align: top;\n",
       "    }\n",
       "\n",
       "    .dataframe thead th {\n",
       "        text-align: right;\n",
       "    }\n",
       "</style>\n",
       "<table border=\"1\" class=\"dataframe\">\n",
       "  <thead>\n",
       "    <tr style=\"text-align: right;\">\n",
       "      <th></th>\n",
       "      <th>Date</th>\n",
       "      <th>StartTime</th>\n",
       "      <th>DayOfWeek</th>\n",
       "      <th>GoingTo</th>\n",
       "      <th>Distance</th>\n",
       "      <th>MaxSpeed</th>\n",
       "      <th>AvgSpeed</th>\n",
       "      <th>AvgMovingSpeed</th>\n",
       "      <th>FuelEconomy</th>\n",
       "      <th>TotalTime</th>\n",
       "      <th>MovingTime</th>\n",
       "      <th>Take407All</th>\n",
       "      <th>Comments</th>\n",
       "    </tr>\n",
       "  </thead>\n",
       "  <tbody>\n",
       "    <tr>\n",
       "      <th>0</th>\n",
       "      <td>1/6/2012</td>\n",
       "      <td>16:37</td>\n",
       "      <td>Friday</td>\n",
       "      <td>Home</td>\n",
       "      <td>51.29</td>\n",
       "      <td>127.4</td>\n",
       "      <td>78.3</td>\n",
       "      <td>84.8</td>\n",
       "      <td>NaN</td>\n",
       "      <td>39.3</td>\n",
       "      <td>36.3</td>\n",
       "      <td>No</td>\n",
       "      <td>NaN</td>\n",
       "    </tr>\n",
       "    <tr>\n",
       "      <th>1</th>\n",
       "      <td>1/6/2012</td>\n",
       "      <td>08:20</td>\n",
       "      <td>Friday</td>\n",
       "      <td>GSK</td>\n",
       "      <td>51.63</td>\n",
       "      <td>130.3</td>\n",
       "      <td>81.8</td>\n",
       "      <td>88.9</td>\n",
       "      <td>NaN</td>\n",
       "      <td>37.9</td>\n",
       "      <td>34.9</td>\n",
       "      <td>No</td>\n",
       "      <td>NaN</td>\n",
       "    </tr>\n",
       "    <tr>\n",
       "      <th>2</th>\n",
       "      <td>1/4/2012</td>\n",
       "      <td>16:17</td>\n",
       "      <td>Wednesday</td>\n",
       "      <td>Home</td>\n",
       "      <td>51.27</td>\n",
       "      <td>127.4</td>\n",
       "      <td>82.0</td>\n",
       "      <td>85.8</td>\n",
       "      <td>NaN</td>\n",
       "      <td>37.5</td>\n",
       "      <td>35.9</td>\n",
       "      <td>No</td>\n",
       "      <td>NaN</td>\n",
       "    </tr>\n",
       "    <tr>\n",
       "      <th>3</th>\n",
       "      <td>1/4/2012</td>\n",
       "      <td>07:53</td>\n",
       "      <td>Wednesday</td>\n",
       "      <td>GSK</td>\n",
       "      <td>49.17</td>\n",
       "      <td>132.3</td>\n",
       "      <td>74.2</td>\n",
       "      <td>82.9</td>\n",
       "      <td>NaN</td>\n",
       "      <td>39.8</td>\n",
       "      <td>35.6</td>\n",
       "      <td>No</td>\n",
       "      <td>NaN</td>\n",
       "    </tr>\n",
       "    <tr>\n",
       "      <th>4</th>\n",
       "      <td>1/3/2012</td>\n",
       "      <td>18:57</td>\n",
       "      <td>Tuesday</td>\n",
       "      <td>Home</td>\n",
       "      <td>51.15</td>\n",
       "      <td>136.2</td>\n",
       "      <td>83.4</td>\n",
       "      <td>88.1</td>\n",
       "      <td>NaN</td>\n",
       "      <td>36.8</td>\n",
       "      <td>34.8</td>\n",
       "      <td>No</td>\n",
       "      <td>NaN</td>\n",
       "    </tr>\n",
       "    <tr>\n",
       "      <th>...</th>\n",
       "      <td>...</td>\n",
       "      <td>...</td>\n",
       "      <td>...</td>\n",
       "      <td>...</td>\n",
       "      <td>...</td>\n",
       "      <td>...</td>\n",
       "      <td>...</td>\n",
       "      <td>...</td>\n",
       "      <td>...</td>\n",
       "      <td>...</td>\n",
       "      <td>...</td>\n",
       "      <td>...</td>\n",
       "      <td>...</td>\n",
       "    </tr>\n",
       "    <tr>\n",
       "      <th>200</th>\n",
       "      <td>7/18/2011</td>\n",
       "      <td>08:09</td>\n",
       "      <td>Monday</td>\n",
       "      <td>GSK</td>\n",
       "      <td>54.52</td>\n",
       "      <td>125.6</td>\n",
       "      <td>49.9</td>\n",
       "      <td>82.4</td>\n",
       "      <td>7.89</td>\n",
       "      <td>65.5</td>\n",
       "      <td>39.7</td>\n",
       "      <td>No</td>\n",
       "      <td>NaN</td>\n",
       "    </tr>\n",
       "    <tr>\n",
       "      <th>201</th>\n",
       "      <td>7/14/2011</td>\n",
       "      <td>08:03</td>\n",
       "      <td>Thursday</td>\n",
       "      <td>GSK</td>\n",
       "      <td>50.90</td>\n",
       "      <td>123.7</td>\n",
       "      <td>76.2</td>\n",
       "      <td>95.1</td>\n",
       "      <td>7.89</td>\n",
       "      <td>40.1</td>\n",
       "      <td>32.1</td>\n",
       "      <td>Yes</td>\n",
       "      <td>NaN</td>\n",
       "    </tr>\n",
       "    <tr>\n",
       "      <th>202</th>\n",
       "      <td>7/13/2011</td>\n",
       "      <td>17:08</td>\n",
       "      <td>Wednesday</td>\n",
       "      <td>Home</td>\n",
       "      <td>51.96</td>\n",
       "      <td>132.6</td>\n",
       "      <td>57.5</td>\n",
       "      <td>76.7</td>\n",
       "      <td>NaN</td>\n",
       "      <td>54.2</td>\n",
       "      <td>40.6</td>\n",
       "      <td>Yes</td>\n",
       "      <td>NaN</td>\n",
       "    </tr>\n",
       "    <tr>\n",
       "      <th>203</th>\n",
       "      <td>7/12/2011</td>\n",
       "      <td>17:51</td>\n",
       "      <td>Tuesday</td>\n",
       "      <td>Home</td>\n",
       "      <td>53.28</td>\n",
       "      <td>125.8</td>\n",
       "      <td>61.6</td>\n",
       "      <td>87.6</td>\n",
       "      <td>NaN</td>\n",
       "      <td>51.9</td>\n",
       "      <td>36.5</td>\n",
       "      <td>Yes</td>\n",
       "      <td>NaN</td>\n",
       "    </tr>\n",
       "    <tr>\n",
       "      <th>204</th>\n",
       "      <td>7/11/2011</td>\n",
       "      <td>16:56</td>\n",
       "      <td>Monday</td>\n",
       "      <td>Home</td>\n",
       "      <td>51.73</td>\n",
       "      <td>125.0</td>\n",
       "      <td>62.8</td>\n",
       "      <td>92.5</td>\n",
       "      <td>NaN</td>\n",
       "      <td>49.5</td>\n",
       "      <td>33.6</td>\n",
       "      <td>Yes</td>\n",
       "      <td>NaN</td>\n",
       "    </tr>\n",
       "  </tbody>\n",
       "</table>\n",
       "<p>205 rows × 13 columns</p>\n",
       "</div>"
      ],
      "text/plain": [
       "          Date StartTime  DayOfWeek GoingTo  Distance  MaxSpeed  AvgSpeed  \\\n",
       "0     1/6/2012     16:37     Friday    Home     51.29     127.4      78.3   \n",
       "1     1/6/2012     08:20     Friday     GSK     51.63     130.3      81.8   \n",
       "2     1/4/2012     16:17  Wednesday    Home     51.27     127.4      82.0   \n",
       "3     1/4/2012     07:53  Wednesday     GSK     49.17     132.3      74.2   \n",
       "4     1/3/2012     18:57    Tuesday    Home     51.15     136.2      83.4   \n",
       "..         ...       ...        ...     ...       ...       ...       ...   \n",
       "200  7/18/2011     08:09     Monday     GSK     54.52     125.6      49.9   \n",
       "201  7/14/2011     08:03   Thursday     GSK     50.90     123.7      76.2   \n",
       "202  7/13/2011     17:08  Wednesday    Home     51.96     132.6      57.5   \n",
       "203  7/12/2011     17:51    Tuesday    Home     53.28     125.8      61.6   \n",
       "204  7/11/2011     16:56     Monday    Home     51.73     125.0      62.8   \n",
       "\n",
       "     AvgMovingSpeed FuelEconomy  TotalTime  MovingTime Take407All Comments  \n",
       "0              84.8         NaN       39.3        36.3         No      NaN  \n",
       "1              88.9         NaN       37.9        34.9         No      NaN  \n",
       "2              85.8         NaN       37.5        35.9         No      NaN  \n",
       "3              82.9         NaN       39.8        35.6         No      NaN  \n",
       "4              88.1         NaN       36.8        34.8         No      NaN  \n",
       "..              ...         ...        ...         ...        ...      ...  \n",
       "200            82.4        7.89       65.5        39.7         No      NaN  \n",
       "201            95.1        7.89       40.1        32.1        Yes      NaN  \n",
       "202            76.7         NaN       54.2        40.6        Yes      NaN  \n",
       "203            87.6         NaN       51.9        36.5        Yes      NaN  \n",
       "204            92.5         NaN       49.5        33.6        Yes      NaN  \n",
       "\n",
       "[205 rows x 13 columns]"
      ]
     },
     "execution_count": 7,
     "metadata": {},
     "output_type": "execute_result"
    }
   ],
   "source": [
    "# load and display dataset\n",
    "df_route = pd.read_csv('https://openmv.net/file/travel-times.csv')\n",
    "df_route"
   ]
  },
  {
   "cell_type": "markdown",
   "metadata": {
    "colab_type": "text",
    "id": "i8iP4hGPNNww"
   },
   "source": [
    "##### 1.2. Print the number of rows."
   ]
  },
  {
   "cell_type": "code",
   "execution_count": 10,
   "metadata": {
    "colab": {
     "base_uri": "https://localhost:8080/",
     "height": 35
    },
    "colab_type": "code",
    "id": "QelSkcZ3NObc",
    "outputId": "5ba61ef0-1bd3-47be-d3b9-cdb5a5b86cea"
   },
   "outputs": [
    {
     "data": {
      "text/plain": [
       "(205, 13)"
      ]
     },
     "execution_count": 10,
     "metadata": {},
     "output_type": "execute_result"
    }
   ],
   "source": [
    "# count the number of rows\n",
    "df_route.shape"
   ]
  },
  {
   "cell_type": "markdown",
   "metadata": {
    "colab_type": "text",
    "id": "oL69nlTgjQ1N"
   },
   "source": [
    "##### 1.3. Count number of rows that contain a missing value"
   ]
  },
  {
   "cell_type": "code",
   "execution_count": 12,
   "metadata": {
    "colab": {
     "base_uri": "https://localhost:8080/",
     "height": 35
    },
    "colab_type": "code",
    "id": "KcbAdy-OjVER",
    "outputId": "312d3d3c-217c-4dab-d2f4-446a5d24ad65"
   },
   "outputs": [
    {
     "data": {
      "text/plain": [
       "182"
      ]
     },
     "execution_count": 12,
     "metadata": {},
     "output_type": "execute_result"
    }
   ],
   "source": [
    "# count the number of rows that are missing value(s)\n",
    "df_route.shape[0] - df_route.dropna().shape[0]"
   ]
  },
  {
   "cell_type": "markdown",
   "metadata": {
    "colab_type": "text",
    "id": "gZE2BKgGOFlW"
   },
   "source": [
    "##### 1.4. Drop the rows that contain a missing value"
   ]
  },
  {
   "cell_type": "code",
   "execution_count": 15,
   "metadata": {
    "colab": {
     "base_uri": "https://localhost:8080/",
     "height": 35
    },
    "colab_type": "code",
    "id": "8VpVVBsGOFMc",
    "outputId": "b11e4cd9-d05e-477a-d82b-3d99354c30bf"
   },
   "outputs": [
    {
     "data": {
      "text/html": [
       "<div>\n",
       "<style scoped>\n",
       "    .dataframe tbody tr th:only-of-type {\n",
       "        vertical-align: middle;\n",
       "    }\n",
       "\n",
       "    .dataframe tbody tr th {\n",
       "        vertical-align: top;\n",
       "    }\n",
       "\n",
       "    .dataframe thead th {\n",
       "        text-align: right;\n",
       "    }\n",
       "</style>\n",
       "<table border=\"1\" class=\"dataframe\">\n",
       "  <thead>\n",
       "    <tr style=\"text-align: right;\">\n",
       "      <th></th>\n",
       "      <th>Date</th>\n",
       "      <th>StartTime</th>\n",
       "      <th>DayOfWeek</th>\n",
       "      <th>GoingTo</th>\n",
       "      <th>Distance</th>\n",
       "      <th>MaxSpeed</th>\n",
       "      <th>AvgSpeed</th>\n",
       "      <th>AvgMovingSpeed</th>\n",
       "      <th>FuelEconomy</th>\n",
       "      <th>TotalTime</th>\n",
       "      <th>MovingTime</th>\n",
       "      <th>Take407All</th>\n",
       "      <th>Comments</th>\n",
       "    </tr>\n",
       "  </thead>\n",
       "  <tbody>\n",
       "    <tr>\n",
       "      <th>15</th>\n",
       "      <td>12/19/2011</td>\n",
       "      <td>07:34</td>\n",
       "      <td>Monday</td>\n",
       "      <td>GSK</td>\n",
       "      <td>52.00</td>\n",
       "      <td>137.8</td>\n",
       "      <td>76.5</td>\n",
       "      <td>87.8</td>\n",
       "      <td>8.89</td>\n",
       "      <td>40.8</td>\n",
       "      <td>35.5</td>\n",
       "      <td>No</td>\n",
       "      <td>Put snow tires on</td>\n",
       "    </tr>\n",
       "    <tr>\n",
       "      <th>49</th>\n",
       "      <td>11/21/2011</td>\n",
       "      <td>07:24</td>\n",
       "      <td>Monday</td>\n",
       "      <td>GSK</td>\n",
       "      <td>52.25</td>\n",
       "      <td>127.3</td>\n",
       "      <td>38.1</td>\n",
       "      <td>50.3</td>\n",
       "      <td>10.05</td>\n",
       "      <td>82.3</td>\n",
       "      <td>62.4</td>\n",
       "      <td>No</td>\n",
       "      <td>Huge traffic backup</td>\n",
       "    </tr>\n",
       "    <tr>\n",
       "      <th>50</th>\n",
       "      <td>11/17/2011</td>\n",
       "      <td>16:16</td>\n",
       "      <td>Thursday</td>\n",
       "      <td>Home</td>\n",
       "      <td>51.16</td>\n",
       "      <td>127.6</td>\n",
       "      <td>72.4</td>\n",
       "      <td>77.4</td>\n",
       "      <td>10.05</td>\n",
       "      <td>42.4</td>\n",
       "      <td>39.6</td>\n",
       "      <td>No</td>\n",
       "      <td>Pumped tires up: check fuel economy improved?</td>\n",
       "    </tr>\n",
       "    <tr>\n",
       "      <th>52</th>\n",
       "      <td>11/16/2011</td>\n",
       "      <td>16:13</td>\n",
       "      <td>Wednesday</td>\n",
       "      <td>Home</td>\n",
       "      <td>51.12</td>\n",
       "      <td>125.1</td>\n",
       "      <td>65.0</td>\n",
       "      <td>73.1</td>\n",
       "      <td>9.53</td>\n",
       "      <td>47.2</td>\n",
       "      <td>41.9</td>\n",
       "      <td>No</td>\n",
       "      <td>Backed up at Bronte</td>\n",
       "    </tr>\n",
       "    <tr>\n",
       "      <th>54</th>\n",
       "      <td>11/15/2011</td>\n",
       "      <td>17:36</td>\n",
       "      <td>Tuesday</td>\n",
       "      <td>Home</td>\n",
       "      <td>51.06</td>\n",
       "      <td>122.8</td>\n",
       "      <td>61.4</td>\n",
       "      <td>70.9</td>\n",
       "      <td>9.53</td>\n",
       "      <td>49.9</td>\n",
       "      <td>43.2</td>\n",
       "      <td>No</td>\n",
       "      <td>Backed up at Bronte</td>\n",
       "    </tr>\n",
       "    <tr>\n",
       "      <th>60</th>\n",
       "      <td>11/9/2011</td>\n",
       "      <td>16:15</td>\n",
       "      <td>Wednesday</td>\n",
       "      <td>Home</td>\n",
       "      <td>51.28</td>\n",
       "      <td>121.4</td>\n",
       "      <td>65.9</td>\n",
       "      <td>71.8</td>\n",
       "      <td>9.35</td>\n",
       "      <td>46.7</td>\n",
       "      <td>42.1</td>\n",
       "      <td>No</td>\n",
       "      <td>Rainy</td>\n",
       "    </tr>\n",
       "    <tr>\n",
       "      <th>78</th>\n",
       "      <td>10/25/2011</td>\n",
       "      <td>17:24</td>\n",
       "      <td>Tuesday</td>\n",
       "      <td>Home</td>\n",
       "      <td>52.87</td>\n",
       "      <td>123.5</td>\n",
       "      <td>65.1</td>\n",
       "      <td>72.4</td>\n",
       "      <td>8.97</td>\n",
       "      <td>48.7</td>\n",
       "      <td>43.8</td>\n",
       "      <td>No</td>\n",
       "      <td>Rain, rain, rain</td>\n",
       "    </tr>\n",
       "    <tr>\n",
       "      <th>91</th>\n",
       "      <td>10/12/2011</td>\n",
       "      <td>17:47</td>\n",
       "      <td>Wednesday</td>\n",
       "      <td>Home</td>\n",
       "      <td>51.40</td>\n",
       "      <td>114.4</td>\n",
       "      <td>59.7</td>\n",
       "      <td>65.8</td>\n",
       "      <td>8.75</td>\n",
       "      <td>51.7</td>\n",
       "      <td>46.9</td>\n",
       "      <td>No</td>\n",
       "      <td>Rain, rain, rain</td>\n",
       "    </tr>\n",
       "    <tr>\n",
       "      <th>92</th>\n",
       "      <td>10/12/2011</td>\n",
       "      <td>08:28</td>\n",
       "      <td>Wednesday</td>\n",
       "      <td>GSK</td>\n",
       "      <td>50.58</td>\n",
       "      <td>128.4</td>\n",
       "      <td>59.5</td>\n",
       "      <td>67.3</td>\n",
       "      <td>8.75</td>\n",
       "      <td>51.0</td>\n",
       "      <td>45.1</td>\n",
       "      <td>Yes</td>\n",
       "      <td>Accident: backup from Hamilton to 407 ramp</td>\n",
       "    </tr>\n",
       "    <tr>\n",
       "      <th>110</th>\n",
       "      <td>9/27/2011</td>\n",
       "      <td>07:36</td>\n",
       "      <td>Tuesday</td>\n",
       "      <td>GSK</td>\n",
       "      <td>50.65</td>\n",
       "      <td>128.1</td>\n",
       "      <td>86.3</td>\n",
       "      <td>88.6</td>\n",
       "      <td>8.31</td>\n",
       "      <td>35.2</td>\n",
       "      <td>34.3</td>\n",
       "      <td>Yes</td>\n",
       "      <td>Raining</td>\n",
       "    </tr>\n",
       "    <tr>\n",
       "      <th>132</th>\n",
       "      <td>9/7/2011</td>\n",
       "      <td>07:57</td>\n",
       "      <td>Wednesday</td>\n",
       "      <td>GSK</td>\n",
       "      <td>49.08</td>\n",
       "      <td>125.1</td>\n",
       "      <td>56.5</td>\n",
       "      <td>66.5</td>\n",
       "      <td>8.5</td>\n",
       "      <td>52.1</td>\n",
       "      <td>44.3</td>\n",
       "      <td>No</td>\n",
       "      <td>Back to school traffic?</td>\n",
       "    </tr>\n",
       "    <tr>\n",
       "      <th>133</th>\n",
       "      <td>9/6/2011</td>\n",
       "      <td>16:27</td>\n",
       "      <td>Tuesday</td>\n",
       "      <td>Home</td>\n",
       "      <td>52.88</td>\n",
       "      <td>131.6</td>\n",
       "      <td>95.4</td>\n",
       "      <td>98.3</td>\n",
       "      <td>8.5</td>\n",
       "      <td>33.3</td>\n",
       "      <td>32.3</td>\n",
       "      <td>Yes</td>\n",
       "      <td>Took 407 all the way (to McMaster)</td>\n",
       "    </tr>\n",
       "    <tr>\n",
       "      <th>150</th>\n",
       "      <td>8/24/2011</td>\n",
       "      <td>07:59</td>\n",
       "      <td>Wednesday</td>\n",
       "      <td>GSK</td>\n",
       "      <td>49.07</td>\n",
       "      <td>127.1</td>\n",
       "      <td>58.5</td>\n",
       "      <td>71.5</td>\n",
       "      <td>8.54</td>\n",
       "      <td>50.3</td>\n",
       "      <td>41.1</td>\n",
       "      <td>No</td>\n",
       "      <td>Heavy volume on Derry</td>\n",
       "    </tr>\n",
       "    <tr>\n",
       "      <th>156</th>\n",
       "      <td>8/19/2011</td>\n",
       "      <td>07:05</td>\n",
       "      <td>Friday</td>\n",
       "      <td>GSK</td>\n",
       "      <td>49.18</td>\n",
       "      <td>123.0</td>\n",
       "      <td>72.0</td>\n",
       "      <td>81.4</td>\n",
       "      <td>8.37</td>\n",
       "      <td>41.0</td>\n",
       "      <td>36.3</td>\n",
       "      <td>No</td>\n",
       "      <td>Start early to run a batch</td>\n",
       "    </tr>\n",
       "    <tr>\n",
       "      <th>158</th>\n",
       "      <td>8/18/2011</td>\n",
       "      <td>08:11</td>\n",
       "      <td>Thursday</td>\n",
       "      <td>GSK</td>\n",
       "      <td>52.26</td>\n",
       "      <td>137.7</td>\n",
       "      <td>51.2</td>\n",
       "      <td>64.1</td>\n",
       "      <td>8.37</td>\n",
       "      <td>61.2</td>\n",
       "      <td>48.9</td>\n",
       "      <td>No</td>\n",
       "      <td>Accident at 403/highway 6; detour along Dundas</td>\n",
       "    </tr>\n",
       "    <tr>\n",
       "      <th>165</th>\n",
       "      <td>8/12/2011</td>\n",
       "      <td>17:25</td>\n",
       "      <td>Friday</td>\n",
       "      <td>Home</td>\n",
       "      <td>55.57</td>\n",
       "      <td>127.7</td>\n",
       "      <td>69.6</td>\n",
       "      <td>77.1</td>\n",
       "      <td>8.54</td>\n",
       "      <td>47.9</td>\n",
       "      <td>43.2</td>\n",
       "      <td>No</td>\n",
       "      <td>Detour taken</td>\n",
       "    </tr>\n",
       "    <tr>\n",
       "      <th>166</th>\n",
       "      <td>8/12/2011</td>\n",
       "      <td>08:05</td>\n",
       "      <td>Friday</td>\n",
       "      <td>GSK</td>\n",
       "      <td>49.02</td>\n",
       "      <td>128.4</td>\n",
       "      <td>76.7</td>\n",
       "      <td>82.9</td>\n",
       "      <td>8.54</td>\n",
       "      <td>38.4</td>\n",
       "      <td>35.5</td>\n",
       "      <td>No</td>\n",
       "      <td>Must be Friday</td>\n",
       "    </tr>\n",
       "    <tr>\n",
       "      <th>172</th>\n",
       "      <td>8/9/2011</td>\n",
       "      <td>08:15</td>\n",
       "      <td>Tuesday</td>\n",
       "      <td>GSK</td>\n",
       "      <td>49.08</td>\n",
       "      <td>134.8</td>\n",
       "      <td>60.5</td>\n",
       "      <td>67.2</td>\n",
       "      <td>8.54</td>\n",
       "      <td>48.7</td>\n",
       "      <td>43.8</td>\n",
       "      <td>No</td>\n",
       "      <td>Medium amount of rain</td>\n",
       "    </tr>\n",
       "    <tr>\n",
       "      <th>174</th>\n",
       "      <td>8/8/2011</td>\n",
       "      <td>08:07</td>\n",
       "      <td>Monday</td>\n",
       "      <td>GSK</td>\n",
       "      <td>49.25</td>\n",
       "      <td>126.3</td>\n",
       "      <td>68.5</td>\n",
       "      <td>78.2</td>\n",
       "      <td>8.54</td>\n",
       "      <td>43.1</td>\n",
       "      <td>37.8</td>\n",
       "      <td>No</td>\n",
       "      <td>New tires</td>\n",
       "    </tr>\n",
       "    <tr>\n",
       "      <th>182</th>\n",
       "      <td>8/2/2011</td>\n",
       "      <td>07:38</td>\n",
       "      <td>Tuesday</td>\n",
       "      <td>GSK</td>\n",
       "      <td>53.48</td>\n",
       "      <td>124.9</td>\n",
       "      <td>68.8</td>\n",
       "      <td>78.8</td>\n",
       "      <td>8.48</td>\n",
       "      <td>46.7</td>\n",
       "      <td>40.7</td>\n",
       "      <td>No</td>\n",
       "      <td>Turn around on Derry</td>\n",
       "    </tr>\n",
       "    <tr>\n",
       "      <th>184</th>\n",
       "      <td>7/29/2011</td>\n",
       "      <td>08:22</td>\n",
       "      <td>Friday</td>\n",
       "      <td>GSK</td>\n",
       "      <td>49.07</td>\n",
       "      <td>121.1</td>\n",
       "      <td>73.2</td>\n",
       "      <td>77.7</td>\n",
       "      <td>8.45</td>\n",
       "      <td>40.2</td>\n",
       "      <td>37.9</td>\n",
       "      <td>No</td>\n",
       "      <td>Empty roads</td>\n",
       "    </tr>\n",
       "    <tr>\n",
       "      <th>187</th>\n",
       "      <td>7/27/2011</td>\n",
       "      <td>17:24</td>\n",
       "      <td>Wednesday</td>\n",
       "      <td>Home</td>\n",
       "      <td>50.98</td>\n",
       "      <td>124.9</td>\n",
       "      <td>68.3</td>\n",
       "      <td>71.9</td>\n",
       "      <td>8.45</td>\n",
       "      <td>44.8</td>\n",
       "      <td>42.6</td>\n",
       "      <td>No</td>\n",
       "      <td>Police slowdown on 403</td>\n",
       "    </tr>\n",
       "    <tr>\n",
       "      <th>189</th>\n",
       "      <td>7/26/2011</td>\n",
       "      <td>17:15</td>\n",
       "      <td>Tuesday</td>\n",
       "      <td>Home</td>\n",
       "      <td>51.28</td>\n",
       "      <td>122.1</td>\n",
       "      <td>43.7</td>\n",
       "      <td>51.5</td>\n",
       "      <td>8.45</td>\n",
       "      <td>70.5</td>\n",
       "      <td>59.8</td>\n",
       "      <td>No</td>\n",
       "      <td>Accident blocked 407 exit</td>\n",
       "    </tr>\n",
       "  </tbody>\n",
       "</table>\n",
       "</div>"
      ],
      "text/plain": [
       "           Date StartTime  DayOfWeek GoingTo  Distance  MaxSpeed  AvgSpeed  \\\n",
       "15   12/19/2011     07:34     Monday     GSK     52.00     137.8      76.5   \n",
       "49   11/21/2011     07:24     Monday     GSK     52.25     127.3      38.1   \n",
       "50   11/17/2011     16:16   Thursday    Home     51.16     127.6      72.4   \n",
       "52   11/16/2011     16:13  Wednesday    Home     51.12     125.1      65.0   \n",
       "54   11/15/2011     17:36    Tuesday    Home     51.06     122.8      61.4   \n",
       "60    11/9/2011     16:15  Wednesday    Home     51.28     121.4      65.9   \n",
       "78   10/25/2011     17:24    Tuesday    Home     52.87     123.5      65.1   \n",
       "91   10/12/2011     17:47  Wednesday    Home     51.40     114.4      59.7   \n",
       "92   10/12/2011     08:28  Wednesday     GSK     50.58     128.4      59.5   \n",
       "110   9/27/2011     07:36    Tuesday     GSK     50.65     128.1      86.3   \n",
       "132    9/7/2011     07:57  Wednesday     GSK     49.08     125.1      56.5   \n",
       "133    9/6/2011     16:27    Tuesday    Home     52.88     131.6      95.4   \n",
       "150   8/24/2011     07:59  Wednesday     GSK     49.07     127.1      58.5   \n",
       "156   8/19/2011     07:05     Friday     GSK     49.18     123.0      72.0   \n",
       "158   8/18/2011     08:11   Thursday     GSK     52.26     137.7      51.2   \n",
       "165   8/12/2011     17:25     Friday    Home     55.57     127.7      69.6   \n",
       "166   8/12/2011     08:05     Friday     GSK     49.02     128.4      76.7   \n",
       "172    8/9/2011     08:15    Tuesday     GSK     49.08     134.8      60.5   \n",
       "174    8/8/2011     08:07     Monday     GSK     49.25     126.3      68.5   \n",
       "182    8/2/2011     07:38    Tuesday     GSK     53.48     124.9      68.8   \n",
       "184   7/29/2011     08:22     Friday     GSK     49.07     121.1      73.2   \n",
       "187   7/27/2011     17:24  Wednesday    Home     50.98     124.9      68.3   \n",
       "189   7/26/2011     17:15    Tuesday    Home     51.28     122.1      43.7   \n",
       "\n",
       "     AvgMovingSpeed FuelEconomy  TotalTime  MovingTime Take407All  \\\n",
       "15             87.8        8.89       40.8        35.5         No   \n",
       "49             50.3       10.05       82.3        62.4         No   \n",
       "50             77.4       10.05       42.4        39.6         No   \n",
       "52             73.1        9.53       47.2        41.9         No   \n",
       "54             70.9        9.53       49.9        43.2         No   \n",
       "60             71.8        9.35       46.7        42.1         No   \n",
       "78             72.4        8.97       48.7        43.8         No   \n",
       "91             65.8        8.75       51.7        46.9         No   \n",
       "92             67.3        8.75       51.0        45.1        Yes   \n",
       "110            88.6        8.31       35.2        34.3        Yes   \n",
       "132            66.5         8.5       52.1        44.3         No   \n",
       "133            98.3         8.5       33.3        32.3        Yes   \n",
       "150            71.5        8.54       50.3        41.1         No   \n",
       "156            81.4        8.37       41.0        36.3         No   \n",
       "158            64.1        8.37       61.2        48.9         No   \n",
       "165            77.1        8.54       47.9        43.2         No   \n",
       "166            82.9        8.54       38.4        35.5         No   \n",
       "172            67.2        8.54       48.7        43.8         No   \n",
       "174            78.2        8.54       43.1        37.8         No   \n",
       "182            78.8        8.48       46.7        40.7         No   \n",
       "184            77.7        8.45       40.2        37.9         No   \n",
       "187            71.9        8.45       44.8        42.6         No   \n",
       "189            51.5        8.45       70.5        59.8         No   \n",
       "\n",
       "                                           Comments  \n",
       "15                                Put snow tires on  \n",
       "49                              Huge traffic backup  \n",
       "50    Pumped tires up: check fuel economy improved?  \n",
       "52                              Backed up at Bronte  \n",
       "54                              Backed up at Bronte  \n",
       "60                                            Rainy  \n",
       "78                                 Rain, rain, rain  \n",
       "91                                 Rain, rain, rain  \n",
       "92       Accident: backup from Hamilton to 407 ramp  \n",
       "110                                         Raining  \n",
       "132                         Back to school traffic?  \n",
       "133              Took 407 all the way (to McMaster)  \n",
       "150                           Heavy volume on Derry  \n",
       "156                      Start early to run a batch  \n",
       "158  Accident at 403/highway 6; detour along Dundas  \n",
       "165                                    Detour taken  \n",
       "166                                  Must be Friday  \n",
       "172                           Medium amount of rain  \n",
       "174                                       New tires  \n",
       "182                            Turn around on Derry  \n",
       "184                                     Empty roads  \n",
       "187                          Police slowdown on 403  \n",
       "189                       Accident blocked 407 exit  "
      ]
     },
     "execution_count": 15,
     "metadata": {},
     "output_type": "execute_result"
    }
   ],
   "source": [
    "# remove rows that contain missing values\n",
    "dropped = df_route.dropna(axis=0)\n",
    "dropped"
   ]
  },
  {
   "cell_type": "markdown",
   "metadata": {
    "colab_type": "text",
    "id": "yJ9GlsTMO7NW"
   },
   "source": [
    "##### 1.5. Count the number of rows (again)"
   ]
  },
  {
   "cell_type": "code",
   "execution_count": 17,
   "metadata": {
    "colab": {
     "base_uri": "https://localhost:8080/",
     "height": 35
    },
    "colab_type": "code",
    "id": "HOx5uvc2PABa",
    "outputId": "b5810abd-0b27-461d-815d-174201e5eab3"
   },
   "outputs": [
    {
     "data": {
      "text/plain": [
       "(23, 13)"
      ]
     },
     "execution_count": 17,
     "metadata": {},
     "output_type": "execute_result"
    }
   ],
   "source": [
    "# count the number of rows\n",
    "dropped.shape"
   ]
  },
  {
   "cell_type": "markdown",
   "metadata": {
    "colab_type": "text",
    "id": "HDGl7tphQ7y3"
   },
   "source": [
    "> Conclusion. That's not very much data.  Let's try again."
   ]
  },
  {
   "cell_type": "markdown",
   "metadata": {
    "colab_type": "text",
    "id": "kOK9WH8KcJCT"
   },
   "source": [
    "*** \n",
    "# Exercise #2 - Examine data by column\n",
    "*** \n"
   ]
  },
  {
   "cell_type": "markdown",
   "metadata": {
    "colab_type": "text",
    "id": "gxpAIx47PYKa"
   },
   "source": [
    "##### 2.1. Reload the dataset from the url and `display(df)`."
   ]
  },
  {
   "cell_type": "code",
   "execution_count": 18,
   "metadata": {
    "colab": {
     "base_uri": "https://localhost:8080/",
     "height": 35
    },
    "colab_type": "code",
    "id": "rWrlYuH_PYwb",
    "outputId": "ba15b65e-8724-457b-b3b0-dca71417befa"
   },
   "outputs": [
    {
     "data": {
      "text/html": [
       "<div>\n",
       "<style scoped>\n",
       "    .dataframe tbody tr th:only-of-type {\n",
       "        vertical-align: middle;\n",
       "    }\n",
       "\n",
       "    .dataframe tbody tr th {\n",
       "        vertical-align: top;\n",
       "    }\n",
       "\n",
       "    .dataframe thead th {\n",
       "        text-align: right;\n",
       "    }\n",
       "</style>\n",
       "<table border=\"1\" class=\"dataframe\">\n",
       "  <thead>\n",
       "    <tr style=\"text-align: right;\">\n",
       "      <th></th>\n",
       "      <th>Date</th>\n",
       "      <th>StartTime</th>\n",
       "      <th>DayOfWeek</th>\n",
       "      <th>GoingTo</th>\n",
       "      <th>Distance</th>\n",
       "      <th>MaxSpeed</th>\n",
       "      <th>AvgSpeed</th>\n",
       "      <th>AvgMovingSpeed</th>\n",
       "      <th>FuelEconomy</th>\n",
       "      <th>TotalTime</th>\n",
       "      <th>MovingTime</th>\n",
       "      <th>Take407All</th>\n",
       "      <th>Comments</th>\n",
       "    </tr>\n",
       "  </thead>\n",
       "  <tbody>\n",
       "    <tr>\n",
       "      <th>0</th>\n",
       "      <td>1/6/2012</td>\n",
       "      <td>16:37</td>\n",
       "      <td>Friday</td>\n",
       "      <td>Home</td>\n",
       "      <td>51.29</td>\n",
       "      <td>127.4</td>\n",
       "      <td>78.3</td>\n",
       "      <td>84.8</td>\n",
       "      <td>NaN</td>\n",
       "      <td>39.3</td>\n",
       "      <td>36.3</td>\n",
       "      <td>No</td>\n",
       "      <td>NaN</td>\n",
       "    </tr>\n",
       "    <tr>\n",
       "      <th>1</th>\n",
       "      <td>1/6/2012</td>\n",
       "      <td>08:20</td>\n",
       "      <td>Friday</td>\n",
       "      <td>GSK</td>\n",
       "      <td>51.63</td>\n",
       "      <td>130.3</td>\n",
       "      <td>81.8</td>\n",
       "      <td>88.9</td>\n",
       "      <td>NaN</td>\n",
       "      <td>37.9</td>\n",
       "      <td>34.9</td>\n",
       "      <td>No</td>\n",
       "      <td>NaN</td>\n",
       "    </tr>\n",
       "    <tr>\n",
       "      <th>2</th>\n",
       "      <td>1/4/2012</td>\n",
       "      <td>16:17</td>\n",
       "      <td>Wednesday</td>\n",
       "      <td>Home</td>\n",
       "      <td>51.27</td>\n",
       "      <td>127.4</td>\n",
       "      <td>82.0</td>\n",
       "      <td>85.8</td>\n",
       "      <td>NaN</td>\n",
       "      <td>37.5</td>\n",
       "      <td>35.9</td>\n",
       "      <td>No</td>\n",
       "      <td>NaN</td>\n",
       "    </tr>\n",
       "    <tr>\n",
       "      <th>3</th>\n",
       "      <td>1/4/2012</td>\n",
       "      <td>07:53</td>\n",
       "      <td>Wednesday</td>\n",
       "      <td>GSK</td>\n",
       "      <td>49.17</td>\n",
       "      <td>132.3</td>\n",
       "      <td>74.2</td>\n",
       "      <td>82.9</td>\n",
       "      <td>NaN</td>\n",
       "      <td>39.8</td>\n",
       "      <td>35.6</td>\n",
       "      <td>No</td>\n",
       "      <td>NaN</td>\n",
       "    </tr>\n",
       "    <tr>\n",
       "      <th>4</th>\n",
       "      <td>1/3/2012</td>\n",
       "      <td>18:57</td>\n",
       "      <td>Tuesday</td>\n",
       "      <td>Home</td>\n",
       "      <td>51.15</td>\n",
       "      <td>136.2</td>\n",
       "      <td>83.4</td>\n",
       "      <td>88.1</td>\n",
       "      <td>NaN</td>\n",
       "      <td>36.8</td>\n",
       "      <td>34.8</td>\n",
       "      <td>No</td>\n",
       "      <td>NaN</td>\n",
       "    </tr>\n",
       "    <tr>\n",
       "      <th>...</th>\n",
       "      <td>...</td>\n",
       "      <td>...</td>\n",
       "      <td>...</td>\n",
       "      <td>...</td>\n",
       "      <td>...</td>\n",
       "      <td>...</td>\n",
       "      <td>...</td>\n",
       "      <td>...</td>\n",
       "      <td>...</td>\n",
       "      <td>...</td>\n",
       "      <td>...</td>\n",
       "      <td>...</td>\n",
       "      <td>...</td>\n",
       "    </tr>\n",
       "    <tr>\n",
       "      <th>200</th>\n",
       "      <td>7/18/2011</td>\n",
       "      <td>08:09</td>\n",
       "      <td>Monday</td>\n",
       "      <td>GSK</td>\n",
       "      <td>54.52</td>\n",
       "      <td>125.6</td>\n",
       "      <td>49.9</td>\n",
       "      <td>82.4</td>\n",
       "      <td>7.89</td>\n",
       "      <td>65.5</td>\n",
       "      <td>39.7</td>\n",
       "      <td>No</td>\n",
       "      <td>NaN</td>\n",
       "    </tr>\n",
       "    <tr>\n",
       "      <th>201</th>\n",
       "      <td>7/14/2011</td>\n",
       "      <td>08:03</td>\n",
       "      <td>Thursday</td>\n",
       "      <td>GSK</td>\n",
       "      <td>50.90</td>\n",
       "      <td>123.7</td>\n",
       "      <td>76.2</td>\n",
       "      <td>95.1</td>\n",
       "      <td>7.89</td>\n",
       "      <td>40.1</td>\n",
       "      <td>32.1</td>\n",
       "      <td>Yes</td>\n",
       "      <td>NaN</td>\n",
       "    </tr>\n",
       "    <tr>\n",
       "      <th>202</th>\n",
       "      <td>7/13/2011</td>\n",
       "      <td>17:08</td>\n",
       "      <td>Wednesday</td>\n",
       "      <td>Home</td>\n",
       "      <td>51.96</td>\n",
       "      <td>132.6</td>\n",
       "      <td>57.5</td>\n",
       "      <td>76.7</td>\n",
       "      <td>NaN</td>\n",
       "      <td>54.2</td>\n",
       "      <td>40.6</td>\n",
       "      <td>Yes</td>\n",
       "      <td>NaN</td>\n",
       "    </tr>\n",
       "    <tr>\n",
       "      <th>203</th>\n",
       "      <td>7/12/2011</td>\n",
       "      <td>17:51</td>\n",
       "      <td>Tuesday</td>\n",
       "      <td>Home</td>\n",
       "      <td>53.28</td>\n",
       "      <td>125.8</td>\n",
       "      <td>61.6</td>\n",
       "      <td>87.6</td>\n",
       "      <td>NaN</td>\n",
       "      <td>51.9</td>\n",
       "      <td>36.5</td>\n",
       "      <td>Yes</td>\n",
       "      <td>NaN</td>\n",
       "    </tr>\n",
       "    <tr>\n",
       "      <th>204</th>\n",
       "      <td>7/11/2011</td>\n",
       "      <td>16:56</td>\n",
       "      <td>Monday</td>\n",
       "      <td>Home</td>\n",
       "      <td>51.73</td>\n",
       "      <td>125.0</td>\n",
       "      <td>62.8</td>\n",
       "      <td>92.5</td>\n",
       "      <td>NaN</td>\n",
       "      <td>49.5</td>\n",
       "      <td>33.6</td>\n",
       "      <td>Yes</td>\n",
       "      <td>NaN</td>\n",
       "    </tr>\n",
       "  </tbody>\n",
       "</table>\n",
       "<p>205 rows × 13 columns</p>\n",
       "</div>"
      ],
      "text/plain": [
       "          Date StartTime  DayOfWeek GoingTo  Distance  MaxSpeed  AvgSpeed  \\\n",
       "0     1/6/2012     16:37     Friday    Home     51.29     127.4      78.3   \n",
       "1     1/6/2012     08:20     Friday     GSK     51.63     130.3      81.8   \n",
       "2     1/4/2012     16:17  Wednesday    Home     51.27     127.4      82.0   \n",
       "3     1/4/2012     07:53  Wednesday     GSK     49.17     132.3      74.2   \n",
       "4     1/3/2012     18:57    Tuesday    Home     51.15     136.2      83.4   \n",
       "..         ...       ...        ...     ...       ...       ...       ...   \n",
       "200  7/18/2011     08:09     Monday     GSK     54.52     125.6      49.9   \n",
       "201  7/14/2011     08:03   Thursday     GSK     50.90     123.7      76.2   \n",
       "202  7/13/2011     17:08  Wednesday    Home     51.96     132.6      57.5   \n",
       "203  7/12/2011     17:51    Tuesday    Home     53.28     125.8      61.6   \n",
       "204  7/11/2011     16:56     Monday    Home     51.73     125.0      62.8   \n",
       "\n",
       "     AvgMovingSpeed FuelEconomy  TotalTime  MovingTime Take407All Comments  \n",
       "0              84.8         NaN       39.3        36.3         No      NaN  \n",
       "1              88.9         NaN       37.9        34.9         No      NaN  \n",
       "2              85.8         NaN       37.5        35.9         No      NaN  \n",
       "3              82.9         NaN       39.8        35.6         No      NaN  \n",
       "4              88.1         NaN       36.8        34.8         No      NaN  \n",
       "..              ...         ...        ...         ...        ...      ...  \n",
       "200            82.4        7.89       65.5        39.7         No      NaN  \n",
       "201            95.1        7.89       40.1        32.1        Yes      NaN  \n",
       "202            76.7         NaN       54.2        40.6        Yes      NaN  \n",
       "203            87.6         NaN       51.9        36.5        Yes      NaN  \n",
       "204            92.5         NaN       49.5        33.6        Yes      NaN  \n",
       "\n",
       "[205 rows x 13 columns]"
      ]
     },
     "execution_count": 18,
     "metadata": {},
     "output_type": "execute_result"
    }
   ],
   "source": [
    "# load and display dataset\n",
    "df_route = pd.read_csv('https://openmv.net/file/travel-times.csv')\n",
    "df_route"
   ]
  },
  {
   "cell_type": "markdown",
   "metadata": {
    "colab_type": "text",
    "id": "_1WyvXotPmsb"
   },
   "source": [
    "##### 2.2. Print the number of columns"
   ]
  },
  {
   "cell_type": "code",
   "execution_count": 24,
   "metadata": {
    "colab": {
     "base_uri": "https://localhost:8080/",
     "height": 35
    },
    "colab_type": "code",
    "id": "2WUcmF6CPqHi",
    "outputId": "2fb4f2c1-4a72-4095-9e6a-f70f84977a69"
   },
   "outputs": [
    {
     "data": {
      "text/plain": [
       "13"
      ]
     },
     "execution_count": 24,
     "metadata": {},
     "output_type": "execute_result"
    }
   ],
   "source": [
    "# count the number of columns\n",
    "df_route.shape[1]"
   ]
  },
  {
   "cell_type": "markdown",
   "metadata": {
    "colab_type": "text",
    "id": "H-dPW8Ue-hd6"
   },
   "source": [
    "##### 2.3. Count the number of missing values by column"
   ]
  },
  {
   "cell_type": "code",
   "execution_count": 26,
   "metadata": {
    "colab": {
     "base_uri": "https://localhost:8080/",
     "height": 35
    },
    "colab_type": "code",
    "id": "FSFzbzCZgyZp",
    "outputId": "344f185f-2883-40cd-e258-3128b5437b94"
   },
   "outputs": [
    {
     "data": {
      "text/plain": [
       "Date                0\n",
       "StartTime           0\n",
       "DayOfWeek           0\n",
       "GoingTo             0\n",
       "Distance            0\n",
       "MaxSpeed            0\n",
       "AvgSpeed            0\n",
       "AvgMovingSpeed      0\n",
       "FuelEconomy        17\n",
       "TotalTime           0\n",
       "MovingTime          0\n",
       "Take407All          0\n",
       "Comments          181\n",
       "dtype: int64"
      ]
     },
     "execution_count": 26,
     "metadata": {},
     "output_type": "execute_result"
    }
   ],
   "source": [
    "# count the number of missing values by column\n",
    "df_route.isnull().sum()"
   ]
  },
  {
   "cell_type": "markdown",
   "metadata": {
    "colab_type": "text",
    "id": "lpzS5-tPRMsN"
   },
   "source": [
    "##### 2.4. Drop the columns that contain a missing value"
   ]
  },
  {
   "cell_type": "code",
   "execution_count": 29,
   "metadata": {
    "colab": {
     "base_uri": "https://localhost:8080/",
     "height": 35
    },
    "colab_type": "code",
    "id": "XuxABkKlRLRo",
    "outputId": "8f31dc04-b514-40e8-c201-112518721210"
   },
   "outputs": [
    {
     "data": {
      "text/html": [
       "<div>\n",
       "<style scoped>\n",
       "    .dataframe tbody tr th:only-of-type {\n",
       "        vertical-align: middle;\n",
       "    }\n",
       "\n",
       "    .dataframe tbody tr th {\n",
       "        vertical-align: top;\n",
       "    }\n",
       "\n",
       "    .dataframe thead th {\n",
       "        text-align: right;\n",
       "    }\n",
       "</style>\n",
       "<table border=\"1\" class=\"dataframe\">\n",
       "  <thead>\n",
       "    <tr style=\"text-align: right;\">\n",
       "      <th></th>\n",
       "      <th>Date</th>\n",
       "      <th>StartTime</th>\n",
       "      <th>DayOfWeek</th>\n",
       "      <th>GoingTo</th>\n",
       "      <th>Distance</th>\n",
       "      <th>MaxSpeed</th>\n",
       "      <th>AvgSpeed</th>\n",
       "      <th>AvgMovingSpeed</th>\n",
       "      <th>TotalTime</th>\n",
       "      <th>MovingTime</th>\n",
       "      <th>Take407All</th>\n",
       "    </tr>\n",
       "  </thead>\n",
       "  <tbody>\n",
       "    <tr>\n",
       "      <th>0</th>\n",
       "      <td>1/6/2012</td>\n",
       "      <td>16:37</td>\n",
       "      <td>Friday</td>\n",
       "      <td>Home</td>\n",
       "      <td>51.29</td>\n",
       "      <td>127.4</td>\n",
       "      <td>78.3</td>\n",
       "      <td>84.8</td>\n",
       "      <td>39.3</td>\n",
       "      <td>36.3</td>\n",
       "      <td>No</td>\n",
       "    </tr>\n",
       "    <tr>\n",
       "      <th>1</th>\n",
       "      <td>1/6/2012</td>\n",
       "      <td>08:20</td>\n",
       "      <td>Friday</td>\n",
       "      <td>GSK</td>\n",
       "      <td>51.63</td>\n",
       "      <td>130.3</td>\n",
       "      <td>81.8</td>\n",
       "      <td>88.9</td>\n",
       "      <td>37.9</td>\n",
       "      <td>34.9</td>\n",
       "      <td>No</td>\n",
       "    </tr>\n",
       "    <tr>\n",
       "      <th>2</th>\n",
       "      <td>1/4/2012</td>\n",
       "      <td>16:17</td>\n",
       "      <td>Wednesday</td>\n",
       "      <td>Home</td>\n",
       "      <td>51.27</td>\n",
       "      <td>127.4</td>\n",
       "      <td>82.0</td>\n",
       "      <td>85.8</td>\n",
       "      <td>37.5</td>\n",
       "      <td>35.9</td>\n",
       "      <td>No</td>\n",
       "    </tr>\n",
       "    <tr>\n",
       "      <th>3</th>\n",
       "      <td>1/4/2012</td>\n",
       "      <td>07:53</td>\n",
       "      <td>Wednesday</td>\n",
       "      <td>GSK</td>\n",
       "      <td>49.17</td>\n",
       "      <td>132.3</td>\n",
       "      <td>74.2</td>\n",
       "      <td>82.9</td>\n",
       "      <td>39.8</td>\n",
       "      <td>35.6</td>\n",
       "      <td>No</td>\n",
       "    </tr>\n",
       "    <tr>\n",
       "      <th>4</th>\n",
       "      <td>1/3/2012</td>\n",
       "      <td>18:57</td>\n",
       "      <td>Tuesday</td>\n",
       "      <td>Home</td>\n",
       "      <td>51.15</td>\n",
       "      <td>136.2</td>\n",
       "      <td>83.4</td>\n",
       "      <td>88.1</td>\n",
       "      <td>36.8</td>\n",
       "      <td>34.8</td>\n",
       "      <td>No</td>\n",
       "    </tr>\n",
       "    <tr>\n",
       "      <th>...</th>\n",
       "      <td>...</td>\n",
       "      <td>...</td>\n",
       "      <td>...</td>\n",
       "      <td>...</td>\n",
       "      <td>...</td>\n",
       "      <td>...</td>\n",
       "      <td>...</td>\n",
       "      <td>...</td>\n",
       "      <td>...</td>\n",
       "      <td>...</td>\n",
       "      <td>...</td>\n",
       "    </tr>\n",
       "    <tr>\n",
       "      <th>200</th>\n",
       "      <td>7/18/2011</td>\n",
       "      <td>08:09</td>\n",
       "      <td>Monday</td>\n",
       "      <td>GSK</td>\n",
       "      <td>54.52</td>\n",
       "      <td>125.6</td>\n",
       "      <td>49.9</td>\n",
       "      <td>82.4</td>\n",
       "      <td>65.5</td>\n",
       "      <td>39.7</td>\n",
       "      <td>No</td>\n",
       "    </tr>\n",
       "    <tr>\n",
       "      <th>201</th>\n",
       "      <td>7/14/2011</td>\n",
       "      <td>08:03</td>\n",
       "      <td>Thursday</td>\n",
       "      <td>GSK</td>\n",
       "      <td>50.90</td>\n",
       "      <td>123.7</td>\n",
       "      <td>76.2</td>\n",
       "      <td>95.1</td>\n",
       "      <td>40.1</td>\n",
       "      <td>32.1</td>\n",
       "      <td>Yes</td>\n",
       "    </tr>\n",
       "    <tr>\n",
       "      <th>202</th>\n",
       "      <td>7/13/2011</td>\n",
       "      <td>17:08</td>\n",
       "      <td>Wednesday</td>\n",
       "      <td>Home</td>\n",
       "      <td>51.96</td>\n",
       "      <td>132.6</td>\n",
       "      <td>57.5</td>\n",
       "      <td>76.7</td>\n",
       "      <td>54.2</td>\n",
       "      <td>40.6</td>\n",
       "      <td>Yes</td>\n",
       "    </tr>\n",
       "    <tr>\n",
       "      <th>203</th>\n",
       "      <td>7/12/2011</td>\n",
       "      <td>17:51</td>\n",
       "      <td>Tuesday</td>\n",
       "      <td>Home</td>\n",
       "      <td>53.28</td>\n",
       "      <td>125.8</td>\n",
       "      <td>61.6</td>\n",
       "      <td>87.6</td>\n",
       "      <td>51.9</td>\n",
       "      <td>36.5</td>\n",
       "      <td>Yes</td>\n",
       "    </tr>\n",
       "    <tr>\n",
       "      <th>204</th>\n",
       "      <td>7/11/2011</td>\n",
       "      <td>16:56</td>\n",
       "      <td>Monday</td>\n",
       "      <td>Home</td>\n",
       "      <td>51.73</td>\n",
       "      <td>125.0</td>\n",
       "      <td>62.8</td>\n",
       "      <td>92.5</td>\n",
       "      <td>49.5</td>\n",
       "      <td>33.6</td>\n",
       "      <td>Yes</td>\n",
       "    </tr>\n",
       "  </tbody>\n",
       "</table>\n",
       "<p>205 rows × 11 columns</p>\n",
       "</div>"
      ],
      "text/plain": [
       "          Date StartTime  DayOfWeek GoingTo  Distance  MaxSpeed  AvgSpeed  \\\n",
       "0     1/6/2012     16:37     Friday    Home     51.29     127.4      78.3   \n",
       "1     1/6/2012     08:20     Friday     GSK     51.63     130.3      81.8   \n",
       "2     1/4/2012     16:17  Wednesday    Home     51.27     127.4      82.0   \n",
       "3     1/4/2012     07:53  Wednesday     GSK     49.17     132.3      74.2   \n",
       "4     1/3/2012     18:57    Tuesday    Home     51.15     136.2      83.4   \n",
       "..         ...       ...        ...     ...       ...       ...       ...   \n",
       "200  7/18/2011     08:09     Monday     GSK     54.52     125.6      49.9   \n",
       "201  7/14/2011     08:03   Thursday     GSK     50.90     123.7      76.2   \n",
       "202  7/13/2011     17:08  Wednesday    Home     51.96     132.6      57.5   \n",
       "203  7/12/2011     17:51    Tuesday    Home     53.28     125.8      61.6   \n",
       "204  7/11/2011     16:56     Monday    Home     51.73     125.0      62.8   \n",
       "\n",
       "     AvgMovingSpeed  TotalTime  MovingTime Take407All  \n",
       "0              84.8       39.3        36.3         No  \n",
       "1              88.9       37.9        34.9         No  \n",
       "2              85.8       37.5        35.9         No  \n",
       "3              82.9       39.8        35.6         No  \n",
       "4              88.1       36.8        34.8         No  \n",
       "..              ...        ...         ...        ...  \n",
       "200            82.4       65.5        39.7         No  \n",
       "201            95.1       40.1        32.1        Yes  \n",
       "202            76.7       54.2        40.6        Yes  \n",
       "203            87.6       51.9        36.5        Yes  \n",
       "204            92.5       49.5        33.6        Yes  \n",
       "\n",
       "[205 rows x 11 columns]"
      ]
     },
     "execution_count": 29,
     "metadata": {},
     "output_type": "execute_result"
    }
   ],
   "source": [
    "# remove columns that contain missing values\n",
    "dropped = df_route.dropna(axis=1)\n",
    "dropped"
   ]
  },
  {
   "cell_type": "markdown",
   "metadata": {
    "colab_type": "text",
    "id": "e3-K65-MRiS6"
   },
   "source": [
    "##### 2.5. Recount the number of columns"
   ]
  },
  {
   "cell_type": "code",
   "execution_count": 30,
   "metadata": {
    "colab": {
     "base_uri": "https://localhost:8080/",
     "height": 35
    },
    "colab_type": "code",
    "id": "cmtDqtzWRh2w",
    "outputId": "d1fe9445-becd-4a08-f0eb-65a6605c1828"
   },
   "outputs": [
    {
     "data": {
      "text/plain": [
       "11"
      ]
     },
     "execution_count": 30,
     "metadata": {},
     "output_type": "execute_result"
    }
   ],
   "source": [
    "# count the number of columns\n",
    "dropped.shape[1]"
   ]
  },
  {
   "cell_type": "markdown",
   "metadata": {
    "colab_type": "text",
    "id": "S8XydGJLSA-F"
   },
   "source": [
    "> Conclusion.  That's better, but we're still throwing away data. Let's try again."
   ]
  },
  {
   "cell_type": "markdown",
   "metadata": {
    "colab_type": "text",
    "id": "ezfIg4zMQLDR"
   },
   "source": [
    "*** \n",
    "# Exercise #3 - Remove a data column\n",
    "*** "
   ]
  },
  {
   "cell_type": "markdown",
   "metadata": {
    "colab_type": "text",
    "id": "6d6rVn7_ST2x"
   },
   "source": [
    "##### 3.1. Reload the dataset from the url and `display(df)`"
   ]
  },
  {
   "cell_type": "code",
   "execution_count": 31,
   "metadata": {
    "colab": {
     "base_uri": "https://localhost:8080/",
     "height": 35
    },
    "colab_type": "code",
    "id": "f3OvTdk1SVAP",
    "outputId": "39e37615-9431-47ca-d4e1-309e7075008b"
   },
   "outputs": [
    {
     "data": {
      "text/html": [
       "<div>\n",
       "<style scoped>\n",
       "    .dataframe tbody tr th:only-of-type {\n",
       "        vertical-align: middle;\n",
       "    }\n",
       "\n",
       "    .dataframe tbody tr th {\n",
       "        vertical-align: top;\n",
       "    }\n",
       "\n",
       "    .dataframe thead th {\n",
       "        text-align: right;\n",
       "    }\n",
       "</style>\n",
       "<table border=\"1\" class=\"dataframe\">\n",
       "  <thead>\n",
       "    <tr style=\"text-align: right;\">\n",
       "      <th></th>\n",
       "      <th>Date</th>\n",
       "      <th>StartTime</th>\n",
       "      <th>DayOfWeek</th>\n",
       "      <th>GoingTo</th>\n",
       "      <th>Distance</th>\n",
       "      <th>MaxSpeed</th>\n",
       "      <th>AvgSpeed</th>\n",
       "      <th>AvgMovingSpeed</th>\n",
       "      <th>FuelEconomy</th>\n",
       "      <th>TotalTime</th>\n",
       "      <th>MovingTime</th>\n",
       "      <th>Take407All</th>\n",
       "      <th>Comments</th>\n",
       "    </tr>\n",
       "  </thead>\n",
       "  <tbody>\n",
       "    <tr>\n",
       "      <th>0</th>\n",
       "      <td>1/6/2012</td>\n",
       "      <td>16:37</td>\n",
       "      <td>Friday</td>\n",
       "      <td>Home</td>\n",
       "      <td>51.29</td>\n",
       "      <td>127.4</td>\n",
       "      <td>78.3</td>\n",
       "      <td>84.8</td>\n",
       "      <td>NaN</td>\n",
       "      <td>39.3</td>\n",
       "      <td>36.3</td>\n",
       "      <td>No</td>\n",
       "      <td>NaN</td>\n",
       "    </tr>\n",
       "    <tr>\n",
       "      <th>1</th>\n",
       "      <td>1/6/2012</td>\n",
       "      <td>08:20</td>\n",
       "      <td>Friday</td>\n",
       "      <td>GSK</td>\n",
       "      <td>51.63</td>\n",
       "      <td>130.3</td>\n",
       "      <td>81.8</td>\n",
       "      <td>88.9</td>\n",
       "      <td>NaN</td>\n",
       "      <td>37.9</td>\n",
       "      <td>34.9</td>\n",
       "      <td>No</td>\n",
       "      <td>NaN</td>\n",
       "    </tr>\n",
       "    <tr>\n",
       "      <th>2</th>\n",
       "      <td>1/4/2012</td>\n",
       "      <td>16:17</td>\n",
       "      <td>Wednesday</td>\n",
       "      <td>Home</td>\n",
       "      <td>51.27</td>\n",
       "      <td>127.4</td>\n",
       "      <td>82.0</td>\n",
       "      <td>85.8</td>\n",
       "      <td>NaN</td>\n",
       "      <td>37.5</td>\n",
       "      <td>35.9</td>\n",
       "      <td>No</td>\n",
       "      <td>NaN</td>\n",
       "    </tr>\n",
       "    <tr>\n",
       "      <th>3</th>\n",
       "      <td>1/4/2012</td>\n",
       "      <td>07:53</td>\n",
       "      <td>Wednesday</td>\n",
       "      <td>GSK</td>\n",
       "      <td>49.17</td>\n",
       "      <td>132.3</td>\n",
       "      <td>74.2</td>\n",
       "      <td>82.9</td>\n",
       "      <td>NaN</td>\n",
       "      <td>39.8</td>\n",
       "      <td>35.6</td>\n",
       "      <td>No</td>\n",
       "      <td>NaN</td>\n",
       "    </tr>\n",
       "    <tr>\n",
       "      <th>4</th>\n",
       "      <td>1/3/2012</td>\n",
       "      <td>18:57</td>\n",
       "      <td>Tuesday</td>\n",
       "      <td>Home</td>\n",
       "      <td>51.15</td>\n",
       "      <td>136.2</td>\n",
       "      <td>83.4</td>\n",
       "      <td>88.1</td>\n",
       "      <td>NaN</td>\n",
       "      <td>36.8</td>\n",
       "      <td>34.8</td>\n",
       "      <td>No</td>\n",
       "      <td>NaN</td>\n",
       "    </tr>\n",
       "    <tr>\n",
       "      <th>...</th>\n",
       "      <td>...</td>\n",
       "      <td>...</td>\n",
       "      <td>...</td>\n",
       "      <td>...</td>\n",
       "      <td>...</td>\n",
       "      <td>...</td>\n",
       "      <td>...</td>\n",
       "      <td>...</td>\n",
       "      <td>...</td>\n",
       "      <td>...</td>\n",
       "      <td>...</td>\n",
       "      <td>...</td>\n",
       "      <td>...</td>\n",
       "    </tr>\n",
       "    <tr>\n",
       "      <th>200</th>\n",
       "      <td>7/18/2011</td>\n",
       "      <td>08:09</td>\n",
       "      <td>Monday</td>\n",
       "      <td>GSK</td>\n",
       "      <td>54.52</td>\n",
       "      <td>125.6</td>\n",
       "      <td>49.9</td>\n",
       "      <td>82.4</td>\n",
       "      <td>7.89</td>\n",
       "      <td>65.5</td>\n",
       "      <td>39.7</td>\n",
       "      <td>No</td>\n",
       "      <td>NaN</td>\n",
       "    </tr>\n",
       "    <tr>\n",
       "      <th>201</th>\n",
       "      <td>7/14/2011</td>\n",
       "      <td>08:03</td>\n",
       "      <td>Thursday</td>\n",
       "      <td>GSK</td>\n",
       "      <td>50.90</td>\n",
       "      <td>123.7</td>\n",
       "      <td>76.2</td>\n",
       "      <td>95.1</td>\n",
       "      <td>7.89</td>\n",
       "      <td>40.1</td>\n",
       "      <td>32.1</td>\n",
       "      <td>Yes</td>\n",
       "      <td>NaN</td>\n",
       "    </tr>\n",
       "    <tr>\n",
       "      <th>202</th>\n",
       "      <td>7/13/2011</td>\n",
       "      <td>17:08</td>\n",
       "      <td>Wednesday</td>\n",
       "      <td>Home</td>\n",
       "      <td>51.96</td>\n",
       "      <td>132.6</td>\n",
       "      <td>57.5</td>\n",
       "      <td>76.7</td>\n",
       "      <td>NaN</td>\n",
       "      <td>54.2</td>\n",
       "      <td>40.6</td>\n",
       "      <td>Yes</td>\n",
       "      <td>NaN</td>\n",
       "    </tr>\n",
       "    <tr>\n",
       "      <th>203</th>\n",
       "      <td>7/12/2011</td>\n",
       "      <td>17:51</td>\n",
       "      <td>Tuesday</td>\n",
       "      <td>Home</td>\n",
       "      <td>53.28</td>\n",
       "      <td>125.8</td>\n",
       "      <td>61.6</td>\n",
       "      <td>87.6</td>\n",
       "      <td>NaN</td>\n",
       "      <td>51.9</td>\n",
       "      <td>36.5</td>\n",
       "      <td>Yes</td>\n",
       "      <td>NaN</td>\n",
       "    </tr>\n",
       "    <tr>\n",
       "      <th>204</th>\n",
       "      <td>7/11/2011</td>\n",
       "      <td>16:56</td>\n",
       "      <td>Monday</td>\n",
       "      <td>Home</td>\n",
       "      <td>51.73</td>\n",
       "      <td>125.0</td>\n",
       "      <td>62.8</td>\n",
       "      <td>92.5</td>\n",
       "      <td>NaN</td>\n",
       "      <td>49.5</td>\n",
       "      <td>33.6</td>\n",
       "      <td>Yes</td>\n",
       "      <td>NaN</td>\n",
       "    </tr>\n",
       "  </tbody>\n",
       "</table>\n",
       "<p>205 rows × 13 columns</p>\n",
       "</div>"
      ],
      "text/plain": [
       "          Date StartTime  DayOfWeek GoingTo  Distance  MaxSpeed  AvgSpeed  \\\n",
       "0     1/6/2012     16:37     Friday    Home     51.29     127.4      78.3   \n",
       "1     1/6/2012     08:20     Friday     GSK     51.63     130.3      81.8   \n",
       "2     1/4/2012     16:17  Wednesday    Home     51.27     127.4      82.0   \n",
       "3     1/4/2012     07:53  Wednesday     GSK     49.17     132.3      74.2   \n",
       "4     1/3/2012     18:57    Tuesday    Home     51.15     136.2      83.4   \n",
       "..         ...       ...        ...     ...       ...       ...       ...   \n",
       "200  7/18/2011     08:09     Monday     GSK     54.52     125.6      49.9   \n",
       "201  7/14/2011     08:03   Thursday     GSK     50.90     123.7      76.2   \n",
       "202  7/13/2011     17:08  Wednesday    Home     51.96     132.6      57.5   \n",
       "203  7/12/2011     17:51    Tuesday    Home     53.28     125.8      61.6   \n",
       "204  7/11/2011     16:56     Monday    Home     51.73     125.0      62.8   \n",
       "\n",
       "     AvgMovingSpeed FuelEconomy  TotalTime  MovingTime Take407All Comments  \n",
       "0              84.8         NaN       39.3        36.3         No      NaN  \n",
       "1              88.9         NaN       37.9        34.9         No      NaN  \n",
       "2              85.8         NaN       37.5        35.9         No      NaN  \n",
       "3              82.9         NaN       39.8        35.6         No      NaN  \n",
       "4              88.1         NaN       36.8        34.8         No      NaN  \n",
       "..              ...         ...        ...         ...        ...      ...  \n",
       "200            82.4        7.89       65.5        39.7         No      NaN  \n",
       "201            95.1        7.89       40.1        32.1        Yes      NaN  \n",
       "202            76.7         NaN       54.2        40.6        Yes      NaN  \n",
       "203            87.6         NaN       51.9        36.5        Yes      NaN  \n",
       "204            92.5         NaN       49.5        33.6        Yes      NaN  \n",
       "\n",
       "[205 rows x 13 columns]"
      ]
     },
     "execution_count": 31,
     "metadata": {},
     "output_type": "execute_result"
    }
   ],
   "source": [
    "# load and display dataset\n",
    "df_route = pd.read_csv('https://openmv.net/file/travel-times.csv')\n",
    "df_route"
   ]
  },
  {
   "cell_type": "markdown",
   "metadata": {
    "colab_type": "text",
    "id": "Js0ACXedSavx"
   },
   "source": [
    "##### 3.2. Count the total number of missing values"
   ]
  },
  {
   "cell_type": "code",
   "execution_count": 33,
   "metadata": {
    "colab": {
     "base_uri": "https://localhost:8080/",
     "height": 35
    },
    "colab_type": "code",
    "id": "PYaxZSx4fZOp",
    "outputId": "c7d09258-d707-48db-c83e-d336ddefa3ed"
   },
   "outputs": [
    {
     "data": {
      "text/plain": [
       "198"
      ]
     },
     "execution_count": 33,
     "metadata": {},
     "output_type": "execute_result"
    }
   ],
   "source": [
    "# count the total number of missing values\n",
    "df_route.isnull().sum().sum()"
   ]
  },
  {
   "cell_type": "markdown",
   "metadata": {
    "colab_type": "text",
    "id": "7fJ0MibT71aJ"
   },
   "source": [
    "##### 3.3. Drop the `'Comments'` column"
   ]
  },
  {
   "cell_type": "code",
   "execution_count": 42,
   "metadata": {
    "colab": {
     "base_uri": "https://localhost:8080/",
     "height": 35
    },
    "colab_type": "code",
    "id": "7z9TQBlzSpHO",
    "outputId": "cb190d02-21d3-4e78-969b-6504b127d5a6"
   },
   "outputs": [
    {
     "data": {
      "text/html": [
       "<div>\n",
       "<style scoped>\n",
       "    .dataframe tbody tr th:only-of-type {\n",
       "        vertical-align: middle;\n",
       "    }\n",
       "\n",
       "    .dataframe tbody tr th {\n",
       "        vertical-align: top;\n",
       "    }\n",
       "\n",
       "    .dataframe thead th {\n",
       "        text-align: right;\n",
       "    }\n",
       "</style>\n",
       "<table border=\"1\" class=\"dataframe\">\n",
       "  <thead>\n",
       "    <tr style=\"text-align: right;\">\n",
       "      <th></th>\n",
       "      <th>Date</th>\n",
       "      <th>StartTime</th>\n",
       "      <th>DayOfWeek</th>\n",
       "      <th>GoingTo</th>\n",
       "      <th>Distance</th>\n",
       "      <th>MaxSpeed</th>\n",
       "      <th>AvgSpeed</th>\n",
       "      <th>AvgMovingSpeed</th>\n",
       "      <th>FuelEconomy</th>\n",
       "      <th>TotalTime</th>\n",
       "      <th>MovingTime</th>\n",
       "      <th>Take407All</th>\n",
       "    </tr>\n",
       "  </thead>\n",
       "  <tbody>\n",
       "    <tr>\n",
       "      <th>0</th>\n",
       "      <td>1/6/2012</td>\n",
       "      <td>16:37</td>\n",
       "      <td>Friday</td>\n",
       "      <td>Home</td>\n",
       "      <td>51.29</td>\n",
       "      <td>127.4</td>\n",
       "      <td>78.3</td>\n",
       "      <td>84.8</td>\n",
       "      <td>NaN</td>\n",
       "      <td>39.3</td>\n",
       "      <td>36.3</td>\n",
       "      <td>No</td>\n",
       "    </tr>\n",
       "    <tr>\n",
       "      <th>1</th>\n",
       "      <td>1/6/2012</td>\n",
       "      <td>08:20</td>\n",
       "      <td>Friday</td>\n",
       "      <td>GSK</td>\n",
       "      <td>51.63</td>\n",
       "      <td>130.3</td>\n",
       "      <td>81.8</td>\n",
       "      <td>88.9</td>\n",
       "      <td>NaN</td>\n",
       "      <td>37.9</td>\n",
       "      <td>34.9</td>\n",
       "      <td>No</td>\n",
       "    </tr>\n",
       "    <tr>\n",
       "      <th>2</th>\n",
       "      <td>1/4/2012</td>\n",
       "      <td>16:17</td>\n",
       "      <td>Wednesday</td>\n",
       "      <td>Home</td>\n",
       "      <td>51.27</td>\n",
       "      <td>127.4</td>\n",
       "      <td>82.0</td>\n",
       "      <td>85.8</td>\n",
       "      <td>NaN</td>\n",
       "      <td>37.5</td>\n",
       "      <td>35.9</td>\n",
       "      <td>No</td>\n",
       "    </tr>\n",
       "    <tr>\n",
       "      <th>3</th>\n",
       "      <td>1/4/2012</td>\n",
       "      <td>07:53</td>\n",
       "      <td>Wednesday</td>\n",
       "      <td>GSK</td>\n",
       "      <td>49.17</td>\n",
       "      <td>132.3</td>\n",
       "      <td>74.2</td>\n",
       "      <td>82.9</td>\n",
       "      <td>NaN</td>\n",
       "      <td>39.8</td>\n",
       "      <td>35.6</td>\n",
       "      <td>No</td>\n",
       "    </tr>\n",
       "    <tr>\n",
       "      <th>4</th>\n",
       "      <td>1/3/2012</td>\n",
       "      <td>18:57</td>\n",
       "      <td>Tuesday</td>\n",
       "      <td>Home</td>\n",
       "      <td>51.15</td>\n",
       "      <td>136.2</td>\n",
       "      <td>83.4</td>\n",
       "      <td>88.1</td>\n",
       "      <td>NaN</td>\n",
       "      <td>36.8</td>\n",
       "      <td>34.8</td>\n",
       "      <td>No</td>\n",
       "    </tr>\n",
       "    <tr>\n",
       "      <th>...</th>\n",
       "      <td>...</td>\n",
       "      <td>...</td>\n",
       "      <td>...</td>\n",
       "      <td>...</td>\n",
       "      <td>...</td>\n",
       "      <td>...</td>\n",
       "      <td>...</td>\n",
       "      <td>...</td>\n",
       "      <td>...</td>\n",
       "      <td>...</td>\n",
       "      <td>...</td>\n",
       "      <td>...</td>\n",
       "    </tr>\n",
       "    <tr>\n",
       "      <th>200</th>\n",
       "      <td>7/18/2011</td>\n",
       "      <td>08:09</td>\n",
       "      <td>Monday</td>\n",
       "      <td>GSK</td>\n",
       "      <td>54.52</td>\n",
       "      <td>125.6</td>\n",
       "      <td>49.9</td>\n",
       "      <td>82.4</td>\n",
       "      <td>7.89</td>\n",
       "      <td>65.5</td>\n",
       "      <td>39.7</td>\n",
       "      <td>No</td>\n",
       "    </tr>\n",
       "    <tr>\n",
       "      <th>201</th>\n",
       "      <td>7/14/2011</td>\n",
       "      <td>08:03</td>\n",
       "      <td>Thursday</td>\n",
       "      <td>GSK</td>\n",
       "      <td>50.90</td>\n",
       "      <td>123.7</td>\n",
       "      <td>76.2</td>\n",
       "      <td>95.1</td>\n",
       "      <td>7.89</td>\n",
       "      <td>40.1</td>\n",
       "      <td>32.1</td>\n",
       "      <td>Yes</td>\n",
       "    </tr>\n",
       "    <tr>\n",
       "      <th>202</th>\n",
       "      <td>7/13/2011</td>\n",
       "      <td>17:08</td>\n",
       "      <td>Wednesday</td>\n",
       "      <td>Home</td>\n",
       "      <td>51.96</td>\n",
       "      <td>132.6</td>\n",
       "      <td>57.5</td>\n",
       "      <td>76.7</td>\n",
       "      <td>NaN</td>\n",
       "      <td>54.2</td>\n",
       "      <td>40.6</td>\n",
       "      <td>Yes</td>\n",
       "    </tr>\n",
       "    <tr>\n",
       "      <th>203</th>\n",
       "      <td>7/12/2011</td>\n",
       "      <td>17:51</td>\n",
       "      <td>Tuesday</td>\n",
       "      <td>Home</td>\n",
       "      <td>53.28</td>\n",
       "      <td>125.8</td>\n",
       "      <td>61.6</td>\n",
       "      <td>87.6</td>\n",
       "      <td>NaN</td>\n",
       "      <td>51.9</td>\n",
       "      <td>36.5</td>\n",
       "      <td>Yes</td>\n",
       "    </tr>\n",
       "    <tr>\n",
       "      <th>204</th>\n",
       "      <td>7/11/2011</td>\n",
       "      <td>16:56</td>\n",
       "      <td>Monday</td>\n",
       "      <td>Home</td>\n",
       "      <td>51.73</td>\n",
       "      <td>125.0</td>\n",
       "      <td>62.8</td>\n",
       "      <td>92.5</td>\n",
       "      <td>NaN</td>\n",
       "      <td>49.5</td>\n",
       "      <td>33.6</td>\n",
       "      <td>Yes</td>\n",
       "    </tr>\n",
       "  </tbody>\n",
       "</table>\n",
       "<p>205 rows × 12 columns</p>\n",
       "</div>"
      ],
      "text/plain": [
       "          Date StartTime  DayOfWeek GoingTo  Distance  MaxSpeed  AvgSpeed  \\\n",
       "0     1/6/2012     16:37     Friday    Home     51.29     127.4      78.3   \n",
       "1     1/6/2012     08:20     Friday     GSK     51.63     130.3      81.8   \n",
       "2     1/4/2012     16:17  Wednesday    Home     51.27     127.4      82.0   \n",
       "3     1/4/2012     07:53  Wednesday     GSK     49.17     132.3      74.2   \n",
       "4     1/3/2012     18:57    Tuesday    Home     51.15     136.2      83.4   \n",
       "..         ...       ...        ...     ...       ...       ...       ...   \n",
       "200  7/18/2011     08:09     Monday     GSK     54.52     125.6      49.9   \n",
       "201  7/14/2011     08:03   Thursday     GSK     50.90     123.7      76.2   \n",
       "202  7/13/2011     17:08  Wednesday    Home     51.96     132.6      57.5   \n",
       "203  7/12/2011     17:51    Tuesday    Home     53.28     125.8      61.6   \n",
       "204  7/11/2011     16:56     Monday    Home     51.73     125.0      62.8   \n",
       "\n",
       "     AvgMovingSpeed FuelEconomy  TotalTime  MovingTime Take407All  \n",
       "0              84.8         NaN       39.3        36.3         No  \n",
       "1              88.9         NaN       37.9        34.9         No  \n",
       "2              85.8         NaN       37.5        35.9         No  \n",
       "3              82.9         NaN       39.8        35.6         No  \n",
       "4              88.1         NaN       36.8        34.8         No  \n",
       "..              ...         ...        ...         ...        ...  \n",
       "200            82.4        7.89       65.5        39.7         No  \n",
       "201            95.1        7.89       40.1        32.1        Yes  \n",
       "202            76.7         NaN       54.2        40.6        Yes  \n",
       "203            87.6         NaN       51.9        36.5        Yes  \n",
       "204            92.5         NaN       49.5        33.6        Yes  \n",
       "\n",
       "[205 rows x 12 columns]"
      ]
     },
     "execution_count": 42,
     "metadata": {},
     "output_type": "execute_result"
    }
   ],
   "source": [
    "# remove the \"Comments\" column\n",
    "dropped_comments = df_route.drop(columns='Comments')\n",
    "dropped_comments"
   ]
  },
  {
   "cell_type": "markdown",
   "metadata": {
    "colab_type": "text",
    "id": "wBUhsT-rgx6Y"
   },
   "source": [
    "##### 3.4. Count the total number of missing values (again)"
   ]
  },
  {
   "cell_type": "code",
   "execution_count": 35,
   "metadata": {
    "colab": {
     "base_uri": "https://localhost:8080/",
     "height": 35
    },
    "colab_type": "code",
    "id": "NOeYCZJBS7VN",
    "outputId": "63db934b-bcdd-46f4-f74c-25948f09a974"
   },
   "outputs": [
    {
     "data": {
      "text/plain": [
       "198"
      ]
     },
     "execution_count": 35,
     "metadata": {},
     "output_type": "execute_result"
    }
   ],
   "source": [
    "# count the total number of missing values\n",
    "df_route.isnull().sum().sum()"
   ]
  },
  {
   "cell_type": "markdown",
   "metadata": {
    "colab_type": "text",
    "id": "KIf5ne7nTFb9"
   },
   "source": [
    "##### 3.5. Examine the shape of the dataframe"
   ]
  },
  {
   "cell_type": "code",
   "execution_count": 36,
   "metadata": {
    "colab": {
     "base_uri": "https://localhost:8080/",
     "height": 35
    },
    "colab_type": "code",
    "id": "2iZ8CuthTJXL",
    "outputId": "53ec3b60-0744-428b-8b5c-7c7490362b01"
   },
   "outputs": [
    {
     "data": {
      "text/plain": [
       "(205, 13)"
      ]
     },
     "execution_count": 36,
     "metadata": {},
     "output_type": "execute_result"
    }
   ],
   "source": [
    "# print the shape\n",
    "df_route.shape"
   ]
  },
  {
   "cell_type": "markdown",
   "metadata": {
    "colab_type": "text",
    "id": "osx7s2d9miJk"
   },
   "source": [
    "*** \n",
    "# Exercise 4 - Handling missing data\n",
    "*** "
   ]
  },
  {
   "cell_type": "markdown",
   "metadata": {
    "colab_type": "text",
    "id": "V9s2Saroc9tH"
   },
   "source": [
    "\n",
    "> **Tip**: use <img src=\"https://img.icons8.com/color/20/000000/google-logo.png\"/> to learn how to do things in <img src=\"https://img.icons8.com/color/20/000000/panda.png\"/>."
   ]
  },
  {
   "cell_type": "markdown",
   "metadata": {
    "colab_type": "text",
    "id": "dhmEmpvBTf_L"
   },
   "source": [
    "##### 4.0. Continue with the dataframe (without the `'Comments'` column)"
   ]
  },
  {
   "cell_type": "markdown",
   "metadata": {
    "colab_type": "text",
    "id": "p8gSaj1XT_Qq"
   },
   "source": [
    "##### 4.1. Impute the missing values with attribute mean and `display(df)`"
   ]
  },
  {
   "cell_type": "code",
   "execution_count": 43,
   "metadata": {
    "colab": {
     "base_uri": "https://localhost:8080/",
     "height": 35
    },
    "colab_type": "code",
    "id": "-JGz3uGIVEJv",
    "outputId": "9e3101be-c096-462e-c7ec-ffa17c172323"
   },
   "outputs": [
    {
     "data": {
      "text/html": [
       "<div>\n",
       "<style scoped>\n",
       "    .dataframe tbody tr th:only-of-type {\n",
       "        vertical-align: middle;\n",
       "    }\n",
       "\n",
       "    .dataframe tbody tr th {\n",
       "        vertical-align: top;\n",
       "    }\n",
       "\n",
       "    .dataframe thead th {\n",
       "        text-align: right;\n",
       "    }\n",
       "</style>\n",
       "<table border=\"1\" class=\"dataframe\">\n",
       "  <thead>\n",
       "    <tr style=\"text-align: right;\">\n",
       "      <th></th>\n",
       "      <th>Date</th>\n",
       "      <th>StartTime</th>\n",
       "      <th>DayOfWeek</th>\n",
       "      <th>GoingTo</th>\n",
       "      <th>Distance</th>\n",
       "      <th>MaxSpeed</th>\n",
       "      <th>AvgSpeed</th>\n",
       "      <th>AvgMovingSpeed</th>\n",
       "      <th>FuelEconomy</th>\n",
       "      <th>TotalTime</th>\n",
       "      <th>MovingTime</th>\n",
       "      <th>Take407All</th>\n",
       "    </tr>\n",
       "  </thead>\n",
       "  <tbody>\n",
       "    <tr>\n",
       "      <th>0</th>\n",
       "      <td>1/6/2012</td>\n",
       "      <td>16:37</td>\n",
       "      <td>Friday</td>\n",
       "      <td>Home</td>\n",
       "      <td>51.29</td>\n",
       "      <td>127.4</td>\n",
       "      <td>78.3</td>\n",
       "      <td>84.8</td>\n",
       "      <td>NaN</td>\n",
       "      <td>39.3</td>\n",
       "      <td>36.3</td>\n",
       "      <td>No</td>\n",
       "    </tr>\n",
       "    <tr>\n",
       "      <th>1</th>\n",
       "      <td>1/6/2012</td>\n",
       "      <td>08:20</td>\n",
       "      <td>Friday</td>\n",
       "      <td>GSK</td>\n",
       "      <td>51.63</td>\n",
       "      <td>130.3</td>\n",
       "      <td>81.8</td>\n",
       "      <td>88.9</td>\n",
       "      <td>NaN</td>\n",
       "      <td>37.9</td>\n",
       "      <td>34.9</td>\n",
       "      <td>No</td>\n",
       "    </tr>\n",
       "    <tr>\n",
       "      <th>2</th>\n",
       "      <td>1/4/2012</td>\n",
       "      <td>16:17</td>\n",
       "      <td>Wednesday</td>\n",
       "      <td>Home</td>\n",
       "      <td>51.27</td>\n",
       "      <td>127.4</td>\n",
       "      <td>82.0</td>\n",
       "      <td>85.8</td>\n",
       "      <td>NaN</td>\n",
       "      <td>37.5</td>\n",
       "      <td>35.9</td>\n",
       "      <td>No</td>\n",
       "    </tr>\n",
       "    <tr>\n",
       "      <th>3</th>\n",
       "      <td>1/4/2012</td>\n",
       "      <td>07:53</td>\n",
       "      <td>Wednesday</td>\n",
       "      <td>GSK</td>\n",
       "      <td>49.17</td>\n",
       "      <td>132.3</td>\n",
       "      <td>74.2</td>\n",
       "      <td>82.9</td>\n",
       "      <td>NaN</td>\n",
       "      <td>39.8</td>\n",
       "      <td>35.6</td>\n",
       "      <td>No</td>\n",
       "    </tr>\n",
       "    <tr>\n",
       "      <th>4</th>\n",
       "      <td>1/3/2012</td>\n",
       "      <td>18:57</td>\n",
       "      <td>Tuesday</td>\n",
       "      <td>Home</td>\n",
       "      <td>51.15</td>\n",
       "      <td>136.2</td>\n",
       "      <td>83.4</td>\n",
       "      <td>88.1</td>\n",
       "      <td>NaN</td>\n",
       "      <td>36.8</td>\n",
       "      <td>34.8</td>\n",
       "      <td>No</td>\n",
       "    </tr>\n",
       "    <tr>\n",
       "      <th>...</th>\n",
       "      <td>...</td>\n",
       "      <td>...</td>\n",
       "      <td>...</td>\n",
       "      <td>...</td>\n",
       "      <td>...</td>\n",
       "      <td>...</td>\n",
       "      <td>...</td>\n",
       "      <td>...</td>\n",
       "      <td>...</td>\n",
       "      <td>...</td>\n",
       "      <td>...</td>\n",
       "      <td>...</td>\n",
       "    </tr>\n",
       "    <tr>\n",
       "      <th>200</th>\n",
       "      <td>7/18/2011</td>\n",
       "      <td>08:09</td>\n",
       "      <td>Monday</td>\n",
       "      <td>GSK</td>\n",
       "      <td>54.52</td>\n",
       "      <td>125.6</td>\n",
       "      <td>49.9</td>\n",
       "      <td>82.4</td>\n",
       "      <td>7.89</td>\n",
       "      <td>65.5</td>\n",
       "      <td>39.7</td>\n",
       "      <td>No</td>\n",
       "    </tr>\n",
       "    <tr>\n",
       "      <th>201</th>\n",
       "      <td>7/14/2011</td>\n",
       "      <td>08:03</td>\n",
       "      <td>Thursday</td>\n",
       "      <td>GSK</td>\n",
       "      <td>50.90</td>\n",
       "      <td>123.7</td>\n",
       "      <td>76.2</td>\n",
       "      <td>95.1</td>\n",
       "      <td>7.89</td>\n",
       "      <td>40.1</td>\n",
       "      <td>32.1</td>\n",
       "      <td>Yes</td>\n",
       "    </tr>\n",
       "    <tr>\n",
       "      <th>202</th>\n",
       "      <td>7/13/2011</td>\n",
       "      <td>17:08</td>\n",
       "      <td>Wednesday</td>\n",
       "      <td>Home</td>\n",
       "      <td>51.96</td>\n",
       "      <td>132.6</td>\n",
       "      <td>57.5</td>\n",
       "      <td>76.7</td>\n",
       "      <td>NaN</td>\n",
       "      <td>54.2</td>\n",
       "      <td>40.6</td>\n",
       "      <td>Yes</td>\n",
       "    </tr>\n",
       "    <tr>\n",
       "      <th>203</th>\n",
       "      <td>7/12/2011</td>\n",
       "      <td>17:51</td>\n",
       "      <td>Tuesday</td>\n",
       "      <td>Home</td>\n",
       "      <td>53.28</td>\n",
       "      <td>125.8</td>\n",
       "      <td>61.6</td>\n",
       "      <td>87.6</td>\n",
       "      <td>NaN</td>\n",
       "      <td>51.9</td>\n",
       "      <td>36.5</td>\n",
       "      <td>Yes</td>\n",
       "    </tr>\n",
       "    <tr>\n",
       "      <th>204</th>\n",
       "      <td>7/11/2011</td>\n",
       "      <td>16:56</td>\n",
       "      <td>Monday</td>\n",
       "      <td>Home</td>\n",
       "      <td>51.73</td>\n",
       "      <td>125.0</td>\n",
       "      <td>62.8</td>\n",
       "      <td>92.5</td>\n",
       "      <td>NaN</td>\n",
       "      <td>49.5</td>\n",
       "      <td>33.6</td>\n",
       "      <td>Yes</td>\n",
       "    </tr>\n",
       "  </tbody>\n",
       "</table>\n",
       "<p>205 rows × 12 columns</p>\n",
       "</div>"
      ],
      "text/plain": [
       "          Date StartTime  DayOfWeek GoingTo  Distance  MaxSpeed  AvgSpeed  \\\n",
       "0     1/6/2012     16:37     Friday    Home     51.29     127.4      78.3   \n",
       "1     1/6/2012     08:20     Friday     GSK     51.63     130.3      81.8   \n",
       "2     1/4/2012     16:17  Wednesday    Home     51.27     127.4      82.0   \n",
       "3     1/4/2012     07:53  Wednesday     GSK     49.17     132.3      74.2   \n",
       "4     1/3/2012     18:57    Tuesday    Home     51.15     136.2      83.4   \n",
       "..         ...       ...        ...     ...       ...       ...       ...   \n",
       "200  7/18/2011     08:09     Monday     GSK     54.52     125.6      49.9   \n",
       "201  7/14/2011     08:03   Thursday     GSK     50.90     123.7      76.2   \n",
       "202  7/13/2011     17:08  Wednesday    Home     51.96     132.6      57.5   \n",
       "203  7/12/2011     17:51    Tuesday    Home     53.28     125.8      61.6   \n",
       "204  7/11/2011     16:56     Monday    Home     51.73     125.0      62.8   \n",
       "\n",
       "     AvgMovingSpeed FuelEconomy  TotalTime  MovingTime Take407All  \n",
       "0              84.8         NaN       39.3        36.3         No  \n",
       "1              88.9         NaN       37.9        34.9         No  \n",
       "2              85.8         NaN       37.5        35.9         No  \n",
       "3              82.9         NaN       39.8        35.6         No  \n",
       "4              88.1         NaN       36.8        34.8         No  \n",
       "..              ...         ...        ...         ...        ...  \n",
       "200            82.4        7.89       65.5        39.7         No  \n",
       "201            95.1        7.89       40.1        32.1        Yes  \n",
       "202            76.7         NaN       54.2        40.6        Yes  \n",
       "203            87.6         NaN       51.9        36.5        Yes  \n",
       "204            92.5         NaN       49.5        33.6        Yes  \n",
       "\n",
       "[205 rows x 12 columns]"
      ]
     },
     "metadata": {},
     "output_type": "display_data"
    }
   ],
   "source": [
    "# fill NaNs with the mean\n",
    "display(dropped_comments.fillna(dropped_comments.mean())) #column mean"
   ]
  },
  {
   "cell_type": "markdown",
   "metadata": {
    "colab_type": "text",
    "id": "A-oJvs96agWV"
   },
   "source": [
    "> Observe `'FuelEconomy'`. There are still `NaN`s. Why didn't that work? "
   ]
  },
  {
   "cell_type": "markdown",
   "metadata": {
    "colab_type": "text",
    "id": "Fpo5k2KEZqPN"
   },
   "source": [
    "##### 4.2. Examine the type of `'FuelEconomy'` column.  \n"
   ]
  },
  {
   "cell_type": "code",
   "execution_count": 44,
   "metadata": {
    "colab": {
     "base_uri": "https://localhost:8080/",
     "height": 35
    },
    "colab_type": "code",
    "id": "KmzaR4HWZr_h",
    "outputId": "de8cc212-5732-4166-9c4d-3a9b1ccf09f3"
   },
   "outputs": [
    {
     "data": {
      "text/plain": [
       "dtype('O')"
      ]
     },
     "execution_count": 44,
     "metadata": {},
     "output_type": "execute_result"
    }
   ],
   "source": [
    "# print the dtype of 'FuelEconomy' column\n",
    "dropped_comments['FuelEconomy'].dtypes"
   ]
  },
  {
   "cell_type": "markdown",
   "metadata": {
    "colab_type": "text",
    "id": "faLNmNghZ6Cw"
   },
   "source": [
    "> Insight: that means we have a mixture of strings and numbers"
   ]
  },
  {
   "cell_type": "markdown",
   "metadata": {
    "colab_type": "text",
    "id": "7uuSW6rzWWUM"
   },
   "source": [
    "##### 4.3. Print the `to_numpy()` representation of the `'FuelEconomy'` column."
   ]
  },
  {
   "cell_type": "code",
   "execution_count": 46,
   "metadata": {
    "colab": {
     "base_uri": "https://localhost:8080/",
     "height": 35
    },
    "colab_type": "code",
    "id": "IwK6mOwQfKfJ",
    "outputId": "6cd9e5e5-c398-4cdc-e996-dccffcf05199"
   },
   "outputs": [
    {
     "data": {
      "text/plain": [
       "array([nan, nan, nan, nan, nan, nan, '-', '-', '8.89', '8.89', '8.89',\n",
       "       '8.89', '8.89', '8.89', '8.89', '8.89', '9.08', '9.08', '9.08',\n",
       "       '9.08', '9.08', '9.08', '9.08', '9.08', '9.76', '9.76', '9.76',\n",
       "       '9.76', '9.76', '9.76', '9.76', '9.16', '9.16', '9.16', nan, nan,\n",
       "       nan, nan, nan, nan, nan, nan, '9.3', '9.3', '9.3', '9.3', '9.3',\n",
       "       '9.3', '10.05', '10.05', '10.05', '10.05', '9.53', '9.53', '9.53',\n",
       "       '9.53', '9.53', '9.53', '9.53', '9.53', '9.35', '9.35', '9.35',\n",
       "       '9.35', '9.35', '9.35', '9.35', '9.35', '8.32', '8.32', '8.32',\n",
       "       '8.32', '8.32', '8.32', '8.32', '8.32', '8.97', '8.97', '8.97',\n",
       "       '8.97', '8.97', '8.97', '8.75', '8.75', '8.75', '8.75', '8.75',\n",
       "       '8.75', '8.75', '8.75', '8.75', '8.75', '8.75', '7.81', '7.81',\n",
       "       '7.97', '7.97', '7.97', '7.97', '7.97', '7.97', '7.97', '7.97',\n",
       "       '7.97', '7.97', '8.93', '8.93', '8.93', '8.93', '8.31', '8.31',\n",
       "       '8.31', '8.31', '8.31', '8.31', '8.33', '8.33', '8.33', '8.33',\n",
       "       '8.33', '8.33', '8.33', '8.33', '8.33', '8.33', '8.5', '8.5',\n",
       "       '8.5', '8.5', '8.5', '8.5', '8.5', '8.5', '8.5', '8.5', '8.5',\n",
       "       '8.5', '8.5', '8.5', '8.5', '8.5', '8.5', '8.5', '8.5', '8.5',\n",
       "       '8.54', '8.54', '8.54', '8.54', '8.54', '8.54', '8.54', '8.54',\n",
       "       '8.54', '8.54', '8.37', '8.37', '8.37', '8.37', '8.37', '8.37',\n",
       "       '8.37', '8.37', '8.37', '8.37', '8.54', '8.54', '8.54', '8.54',\n",
       "       '8.54', '8.54', '8.54', '8.54', '8.54', '8.54', '8.48', '8.48',\n",
       "       '8.48', '8.48', '8.48', '8.48', '8.48', '8.48', '8.45', '8.45',\n",
       "       '8.45', '8.45', '8.45', '8.45', '8.45', '8.45', '8.45', '8.45',\n",
       "       '8.28', '8.28', '8.28', '7.89', '7.89', '7.89', '7.89', '7.89',\n",
       "       '7.89', nan, nan, nan], dtype=object)"
      ]
     },
     "execution_count": 46,
     "metadata": {},
     "output_type": "execute_result"
    }
   ],
   "source": [
    "# print the numpy representation\n",
    "dropped_comments['FuelEconomy'].to_numpy()"
   ]
  },
  {
   "cell_type": "markdown",
   "metadata": {
    "colab_type": "text",
    "id": "4vZKXUR7gpYn"
   },
   "source": [
    "> Do you spot the problem?"
   ]
  },
  {
   "cell_type": "markdown",
   "metadata": {
    "colab_type": "text",
    "id": "lQ41dYe4aEFJ"
   },
   "source": [
    "##### 4.4.  Use `regex=True` to replace `-` with `np.nan`"
   ]
  },
  {
   "cell_type": "code",
   "execution_count": 69,
   "metadata": {
    "colab": {
     "base_uri": "https://localhost:8080/",
     "height": 35
    },
    "colab_type": "code",
    "id": "66uTEuumaE9p",
    "outputId": "4380e6db-094f-4915-bb99-0b3d10f44e72"
   },
   "outputs": [
    {
     "data": {
      "text/plain": [
       "array([nan, nan, nan, nan, nan, nan, nan, nan, '8.89', '8.89', '8.89',\n",
       "       '8.89', '8.89', '8.89', '8.89', '8.89', '9.08', '9.08', '9.08',\n",
       "       '9.08', '9.08', '9.08', '9.08', '9.08', '9.76', '9.76', '9.76',\n",
       "       '9.76', '9.76', '9.76', '9.76', '9.16', '9.16', '9.16', nan, nan,\n",
       "       nan, nan, nan, nan, nan, nan, '9.3', '9.3', '9.3', '9.3', '9.3',\n",
       "       '9.3', '10.05', '10.05', '10.05', '10.05', '9.53', '9.53', '9.53',\n",
       "       '9.53', '9.53', '9.53', '9.53', '9.53', '9.35', '9.35', '9.35',\n",
       "       '9.35', '9.35', '9.35', '9.35', '9.35', '8.32', '8.32', '8.32',\n",
       "       '8.32', '8.32', '8.32', '8.32', '8.32', '8.97', '8.97', '8.97',\n",
       "       '8.97', '8.97', '8.97', '8.75', '8.75', '8.75', '8.75', '8.75',\n",
       "       '8.75', '8.75', '8.75', '8.75', '8.75', '8.75', '7.81', '7.81',\n",
       "       '7.97', '7.97', '7.97', '7.97', '7.97', '7.97', '7.97', '7.97',\n",
       "       '7.97', '7.97', '8.93', '8.93', '8.93', '8.93', '8.31', '8.31',\n",
       "       '8.31', '8.31', '8.31', '8.31', '8.33', '8.33', '8.33', '8.33',\n",
       "       '8.33', '8.33', '8.33', '8.33', '8.33', '8.33', '8.5', '8.5',\n",
       "       '8.5', '8.5', '8.5', '8.5', '8.5', '8.5', '8.5', '8.5', '8.5',\n",
       "       '8.5', '8.5', '8.5', '8.5', '8.5', '8.5', '8.5', '8.5', '8.5',\n",
       "       '8.54', '8.54', '8.54', '8.54', '8.54', '8.54', '8.54', '8.54',\n",
       "       '8.54', '8.54', '8.37', '8.37', '8.37', '8.37', '8.37', '8.37',\n",
       "       '8.37', '8.37', '8.37', '8.37', '8.54', '8.54', '8.54', '8.54',\n",
       "       '8.54', '8.54', '8.54', '8.54', '8.54', '8.54', '8.48', '8.48',\n",
       "       '8.48', '8.48', '8.48', '8.48', '8.48', '8.48', '8.45', '8.45',\n",
       "       '8.45', '8.45', '8.45', '8.45', '8.45', '8.45', '8.45', '8.45',\n",
       "       '8.28', '8.28', '8.28', '7.89', '7.89', '7.89', '7.89', '7.89',\n",
       "       '7.89', nan, nan, nan], dtype=object)"
      ]
     },
     "execution_count": 69,
     "metadata": {},
     "output_type": "execute_result"
    }
   ],
   "source": [
    "# replace the dash with a NaN\n",
    "dropped_comments[\"FuelEconomy\"].replace(to_replace=\"-\", value=None, regex=True, inplace=True)\n",
    "dropped_comments['FuelEconomy'].to_numpy()"
   ]
  },
  {
   "cell_type": "markdown",
   "metadata": {
    "colab_type": "text",
    "id": "O5HOTKAym2Ia"
   },
   "source": [
    "##### 4.5. Convert the `FuelEconomy` using `pd.to_numeric(.)`"
   ]
  },
  {
   "cell_type": "code",
   "execution_count": 70,
   "metadata": {
    "colab": {
     "base_uri": "https://localhost:8080/",
     "height": 35
    },
    "colab_type": "code",
    "id": "7_4xnaAxnStc",
    "outputId": "dd48a5f5-c74a-44c5-dd9d-d8d5cc915afb"
   },
   "outputs": [
    {
     "data": {
      "text/plain": [
       "0       NaN\n",
       "1       NaN\n",
       "2       NaN\n",
       "3       NaN\n",
       "4       NaN\n",
       "       ... \n",
       "200    7.89\n",
       "201    7.89\n",
       "202     NaN\n",
       "203     NaN\n",
       "204     NaN\n",
       "Name: FuelEconomy, Length: 205, dtype: float64"
      ]
     },
     "execution_count": 70,
     "metadata": {},
     "output_type": "execute_result"
    }
   ],
   "source": [
    "# convert 'FuelEconomy' to numeric\n",
    "pd.to_numeric(dropped_comments[\"FuelEconomy\"])"
   ]
  },
  {
   "cell_type": "markdown",
   "metadata": {
    "colab_type": "text",
    "id": "-f1h9R6BnAdj"
   },
   "source": [
    "*** \n",
    "\n",
    "# Exercise #5 - Impute data\n",
    "\n",
    "*** "
   ]
  },
  {
   "cell_type": "markdown",
   "metadata": {
    "colab_type": "text",
    "id": "ziteunq_gsrx"
   },
   "source": [
    "##### 5.1. Impute the missing values with attribute mean and `display(df)` (again)"
   ]
  },
  {
   "cell_type": "code",
   "execution_count": 77,
   "metadata": {
    "colab": {
     "base_uri": "https://localhost:8080/",
     "height": 35
    },
    "colab_type": "code",
    "id": "7oWLdsX9ldEZ",
    "outputId": "68ed7052-c8bc-4c2f-b9b1-a6adcd0edf56"
   },
   "outputs": [
    {
     "data": {
      "text/html": [
       "<div>\n",
       "<style scoped>\n",
       "    .dataframe tbody tr th:only-of-type {\n",
       "        vertical-align: middle;\n",
       "    }\n",
       "\n",
       "    .dataframe tbody tr th {\n",
       "        vertical-align: top;\n",
       "    }\n",
       "\n",
       "    .dataframe thead th {\n",
       "        text-align: right;\n",
       "    }\n",
       "</style>\n",
       "<table border=\"1\" class=\"dataframe\">\n",
       "  <thead>\n",
       "    <tr style=\"text-align: right;\">\n",
       "      <th></th>\n",
       "      <th>Date</th>\n",
       "      <th>StartTime</th>\n",
       "      <th>DayOfWeek</th>\n",
       "      <th>GoingTo</th>\n",
       "      <th>Distance</th>\n",
       "      <th>MaxSpeed</th>\n",
       "      <th>AvgSpeed</th>\n",
       "      <th>AvgMovingSpeed</th>\n",
       "      <th>FuelEconomy</th>\n",
       "      <th>TotalTime</th>\n",
       "      <th>MovingTime</th>\n",
       "      <th>Take407All</th>\n",
       "    </tr>\n",
       "  </thead>\n",
       "  <tbody>\n",
       "    <tr>\n",
       "      <th>0</th>\n",
       "      <td>1/6/2012</td>\n",
       "      <td>16:37</td>\n",
       "      <td>Friday</td>\n",
       "      <td>Home</td>\n",
       "      <td>51.29</td>\n",
       "      <td>127.4</td>\n",
       "      <td>78.3</td>\n",
       "      <td>84.8</td>\n",
       "      <td>NaN</td>\n",
       "      <td>39.3</td>\n",
       "      <td>36.3</td>\n",
       "      <td>No</td>\n",
       "    </tr>\n",
       "    <tr>\n",
       "      <th>1</th>\n",
       "      <td>1/6/2012</td>\n",
       "      <td>08:20</td>\n",
       "      <td>Friday</td>\n",
       "      <td>GSK</td>\n",
       "      <td>51.63</td>\n",
       "      <td>130.3</td>\n",
       "      <td>81.8</td>\n",
       "      <td>88.9</td>\n",
       "      <td>NaN</td>\n",
       "      <td>37.9</td>\n",
       "      <td>34.9</td>\n",
       "      <td>No</td>\n",
       "    </tr>\n",
       "    <tr>\n",
       "      <th>2</th>\n",
       "      <td>1/4/2012</td>\n",
       "      <td>16:17</td>\n",
       "      <td>Wednesday</td>\n",
       "      <td>Home</td>\n",
       "      <td>51.27</td>\n",
       "      <td>127.4</td>\n",
       "      <td>82.0</td>\n",
       "      <td>85.8</td>\n",
       "      <td>NaN</td>\n",
       "      <td>37.5</td>\n",
       "      <td>35.9</td>\n",
       "      <td>No</td>\n",
       "    </tr>\n",
       "    <tr>\n",
       "      <th>3</th>\n",
       "      <td>1/4/2012</td>\n",
       "      <td>07:53</td>\n",
       "      <td>Wednesday</td>\n",
       "      <td>GSK</td>\n",
       "      <td>49.17</td>\n",
       "      <td>132.3</td>\n",
       "      <td>74.2</td>\n",
       "      <td>82.9</td>\n",
       "      <td>NaN</td>\n",
       "      <td>39.8</td>\n",
       "      <td>35.6</td>\n",
       "      <td>No</td>\n",
       "    </tr>\n",
       "    <tr>\n",
       "      <th>4</th>\n",
       "      <td>1/3/2012</td>\n",
       "      <td>18:57</td>\n",
       "      <td>Tuesday</td>\n",
       "      <td>Home</td>\n",
       "      <td>51.15</td>\n",
       "      <td>136.2</td>\n",
       "      <td>83.4</td>\n",
       "      <td>88.1</td>\n",
       "      <td>NaN</td>\n",
       "      <td>36.8</td>\n",
       "      <td>34.8</td>\n",
       "      <td>No</td>\n",
       "    </tr>\n",
       "    <tr>\n",
       "      <th>...</th>\n",
       "      <td>...</td>\n",
       "      <td>...</td>\n",
       "      <td>...</td>\n",
       "      <td>...</td>\n",
       "      <td>...</td>\n",
       "      <td>...</td>\n",
       "      <td>...</td>\n",
       "      <td>...</td>\n",
       "      <td>...</td>\n",
       "      <td>...</td>\n",
       "      <td>...</td>\n",
       "      <td>...</td>\n",
       "    </tr>\n",
       "    <tr>\n",
       "      <th>200</th>\n",
       "      <td>7/18/2011</td>\n",
       "      <td>08:09</td>\n",
       "      <td>Monday</td>\n",
       "      <td>GSK</td>\n",
       "      <td>54.52</td>\n",
       "      <td>125.6</td>\n",
       "      <td>49.9</td>\n",
       "      <td>82.4</td>\n",
       "      <td>7.89</td>\n",
       "      <td>65.5</td>\n",
       "      <td>39.7</td>\n",
       "      <td>No</td>\n",
       "    </tr>\n",
       "    <tr>\n",
       "      <th>201</th>\n",
       "      <td>7/14/2011</td>\n",
       "      <td>08:03</td>\n",
       "      <td>Thursday</td>\n",
       "      <td>GSK</td>\n",
       "      <td>50.90</td>\n",
       "      <td>123.7</td>\n",
       "      <td>76.2</td>\n",
       "      <td>95.1</td>\n",
       "      <td>7.89</td>\n",
       "      <td>40.1</td>\n",
       "      <td>32.1</td>\n",
       "      <td>Yes</td>\n",
       "    </tr>\n",
       "    <tr>\n",
       "      <th>202</th>\n",
       "      <td>7/13/2011</td>\n",
       "      <td>17:08</td>\n",
       "      <td>Wednesday</td>\n",
       "      <td>Home</td>\n",
       "      <td>51.96</td>\n",
       "      <td>132.6</td>\n",
       "      <td>57.5</td>\n",
       "      <td>76.7</td>\n",
       "      <td>NaN</td>\n",
       "      <td>54.2</td>\n",
       "      <td>40.6</td>\n",
       "      <td>Yes</td>\n",
       "    </tr>\n",
       "    <tr>\n",
       "      <th>203</th>\n",
       "      <td>7/12/2011</td>\n",
       "      <td>17:51</td>\n",
       "      <td>Tuesday</td>\n",
       "      <td>Home</td>\n",
       "      <td>53.28</td>\n",
       "      <td>125.8</td>\n",
       "      <td>61.6</td>\n",
       "      <td>87.6</td>\n",
       "      <td>NaN</td>\n",
       "      <td>51.9</td>\n",
       "      <td>36.5</td>\n",
       "      <td>Yes</td>\n",
       "    </tr>\n",
       "    <tr>\n",
       "      <th>204</th>\n",
       "      <td>7/11/2011</td>\n",
       "      <td>16:56</td>\n",
       "      <td>Monday</td>\n",
       "      <td>Home</td>\n",
       "      <td>51.73</td>\n",
       "      <td>125.0</td>\n",
       "      <td>62.8</td>\n",
       "      <td>92.5</td>\n",
       "      <td>NaN</td>\n",
       "      <td>49.5</td>\n",
       "      <td>33.6</td>\n",
       "      <td>Yes</td>\n",
       "    </tr>\n",
       "  </tbody>\n",
       "</table>\n",
       "<p>205 rows × 12 columns</p>\n",
       "</div>"
      ],
      "text/plain": [
       "          Date StartTime  DayOfWeek GoingTo  Distance  MaxSpeed  AvgSpeed  \\\n",
       "0     1/6/2012     16:37     Friday    Home     51.29     127.4      78.3   \n",
       "1     1/6/2012     08:20     Friday     GSK     51.63     130.3      81.8   \n",
       "2     1/4/2012     16:17  Wednesday    Home     51.27     127.4      82.0   \n",
       "3     1/4/2012     07:53  Wednesday     GSK     49.17     132.3      74.2   \n",
       "4     1/3/2012     18:57    Tuesday    Home     51.15     136.2      83.4   \n",
       "..         ...       ...        ...     ...       ...       ...       ...   \n",
       "200  7/18/2011     08:09     Monday     GSK     54.52     125.6      49.9   \n",
       "201  7/14/2011     08:03   Thursday     GSK     50.90     123.7      76.2   \n",
       "202  7/13/2011     17:08  Wednesday    Home     51.96     132.6      57.5   \n",
       "203  7/12/2011     17:51    Tuesday    Home     53.28     125.8      61.6   \n",
       "204  7/11/2011     16:56     Monday    Home     51.73     125.0      62.8   \n",
       "\n",
       "     AvgMovingSpeed FuelEconomy  TotalTime  MovingTime Take407All  \n",
       "0              84.8         NaN       39.3        36.3         No  \n",
       "1              88.9         NaN       37.9        34.9         No  \n",
       "2              85.8         NaN       37.5        35.9         No  \n",
       "3              82.9         NaN       39.8        35.6         No  \n",
       "4              88.1         NaN       36.8        34.8         No  \n",
       "..              ...         ...        ...         ...        ...  \n",
       "200            82.4        7.89       65.5        39.7         No  \n",
       "201            95.1        7.89       40.1        32.1        Yes  \n",
       "202            76.7         NaN       54.2        40.6        Yes  \n",
       "203            87.6         NaN       51.9        36.5        Yes  \n",
       "204            92.5         NaN       49.5        33.6        Yes  \n",
       "\n",
       "[205 rows x 12 columns]"
      ]
     },
     "metadata": {},
     "output_type": "display_data"
    }
   ],
   "source": [
    "# fill NaNs with the mean\n",
    "d = dropped_comments\n",
    "display(d.fillna(d.mean()))"
   ]
  },
  {
   "cell_type": "markdown",
   "metadata": {
    "colab_type": "text",
    "id": "2S-nJWYuqe6n"
   },
   "source": [
    "##### 5.2. Print the average `'FuelEconomy'` "
   ]
  },
  {
   "cell_type": "code",
   "execution_count": 0,
   "metadata": {
    "colab": {
     "base_uri": "https://localhost:8080/",
     "height": 35
    },
    "colab_type": "code",
    "id": "UQK0wLyQqi2H",
    "outputId": "86c870d9-b7e3-475a-b3a2-45bbaec3870c"
   },
   "outputs": [
    {
     "name": "stdout",
     "output_type": "stream",
     "text": [
      "replace with your code\n"
     ]
    }
   ],
   "source": [
    "# print the average 'FuelEconomy'\n",
    "print('replace with your code')"
   ]
  },
  {
   "cell_type": "markdown",
   "metadata": {
    "colab_type": "text",
    "id": "JQpYMmfWq03C"
   },
   "source": [
    "##### 5.3. Print the median `'FuelEconomy'`"
   ]
  },
  {
   "cell_type": "code",
   "execution_count": 0,
   "metadata": {
    "colab": {
     "base_uri": "https://localhost:8080/",
     "height": 35
    },
    "colab_type": "code",
    "id": "u6FC26FWq6fz",
    "outputId": "d1f2ca3e-aa45-40e2-d8c2-9778075fd668"
   },
   "outputs": [
    {
     "name": "stdout",
     "output_type": "stream",
     "text": [
      "replace with your code\n"
     ]
    }
   ],
   "source": [
    "# print the median 'FuelEconomy'\n",
    "print('replace with your code')"
   ]
  },
  {
   "cell_type": "markdown",
   "metadata": {
    "colab_type": "text",
    "id": "P1ol_UGrrACQ"
   },
   "source": [
    "##### 5.4. Print the standard deviation of `'FuelEconomy'`"
   ]
  },
  {
   "cell_type": "code",
   "execution_count": 0,
   "metadata": {
    "colab": {
     "base_uri": "https://localhost:8080/",
     "height": 35
    },
    "colab_type": "code",
    "id": "Z__NutQXrELI",
    "outputId": "9eec81b3-9a80-4aee-d356-f43282bed244"
   },
   "outputs": [
    {
     "name": "stdout",
     "output_type": "stream",
     "text": [
      "replace with your code\n"
     ]
    }
   ],
   "source": [
    "# print the st.dev of 'FuelEconomy'\n",
    "print('replace with your code')"
   ]
  },
  {
   "cell_type": "markdown",
   "metadata": {
    "colab_type": "text",
    "id": "SlvlEOyerKQZ"
   },
   "source": [
    "##### 5.5. describe the summary statistics of `'FuelEconomy'`"
   ]
  },
  {
   "cell_type": "code",
   "execution_count": 0,
   "metadata": {
    "colab": {
     "base_uri": "https://localhost:8080/",
     "height": 35
    },
    "colab_type": "code",
    "id": "fYonaNZBrGpC",
    "outputId": "589a638d-5282-4513-867b-f12b4a716fe5"
   },
   "outputs": [
    {
     "name": "stdout",
     "output_type": "stream",
     "text": [
      "replace with your code\n"
     ]
    }
   ],
   "source": [
    "# print summary statistics\n",
    "print('replace with your code')"
   ]
  },
  {
   "cell_type": "markdown",
   "metadata": {
    "colab_type": "text",
    "id": "XChdELAXreTi"
   },
   "source": [
    "<img src=\"https://66.media.tumblr.com/dded9d1a2bf2068f92af9f7a9b6b5451/tumblr_p6s3hbPzgV1vd8jsjo1_500.gifv\" width=\"300\">"
   ]
  }
 ],
 "metadata": {
  "colab": {
   "collapsed_sections": [],
   "name": "Activity 02.ipynb",
   "provenance": []
  },
  "kernelspec": {
   "display_name": "Python 3",
   "language": "python",
   "name": "python3"
  },
  "language_info": {
   "codemirror_mode": {
    "name": "ipython",
    "version": 3
   },
   "file_extension": ".py",
   "mimetype": "text/x-python",
   "name": "python",
   "nbconvert_exporter": "python",
   "pygments_lexer": "ipython3",
   "version": "3.7.6"
  }
 },
 "nbformat": 4,
 "nbformat_minor": 1
}
