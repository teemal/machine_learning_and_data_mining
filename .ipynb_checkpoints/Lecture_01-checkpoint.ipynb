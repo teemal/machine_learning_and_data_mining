{
 "cells": [
  {
   "cell_type": "markdown",
   "metadata": {
    "colab_type": "text",
    "id": "ntkTIYDVFcqi"
   },
   "source": [
    "# Lecture 01 - Overview of Machine Learning."
   ]
  },
  {
   "cell_type": "markdown",
   "metadata": {
    "colab_type": "text",
    "id": "-5V0-_9uFZb3"
   },
   "source": [
    "***\n",
    "##### CS 434 - Dating Mining and Machine Learning\n",
    "##### Oregon State University-Cascades\n",
    "***"
   ]
  },
  {
   "cell_type": "markdown",
   "metadata": {
    "colab_type": "text",
    "id": "5Nvc8ZKo3-KL"
   },
   "source": [
    "# <img src=\"https://img.icons8.com/color/32/000000/question-shield.png\"/> What is machine learning"
   ]
  },
  {
   "cell_type": "markdown",
   "metadata": {
    "colab_type": "text",
    "id": "KRYkP2521X0G"
   },
   "source": [
    "[Machine learning](https://en.wikipedia.org/wiki/Machine_learning) (ML) is a subfield of [artificial intelligence](https://en.wikipedia.org/wiki/Artificial_intelligence) (AI) involving self-learning algorithms that derive knowledge from data in order to make participation. "
   ]
  },
  {
   "cell_type": "markdown",
   "metadata": {
    "colab_type": "text",
    "id": "HOugzoPK3WKt"
   },
   "source": [
    "![alt text](https://i.vas3k.ru/7vw.jpg)"
   ]
  },
  {
   "cell_type": "markdown",
   "metadata": {
    "colab_type": "text",
    "id": "nMo2rfJR2vSQ"
   },
   "source": [
    "Machine learning is algorithms applied on features from data."
   ]
  },
  {
   "cell_type": "markdown",
   "metadata": {
    "colab_type": "text",
    "id": "F2LucBUm4zPg"
   },
   "source": [
    "![alt text](https://i.vas3k.ru/7r8.jpg)"
   ]
  },
  {
   "cell_type": "markdown",
   "metadata": {
    "colab_type": "text",
    "id": "w0KYqaSk_fJX"
   },
   "source": [
    "There are many types of machine learning."
   ]
  },
  {
   "cell_type": "markdown",
   "metadata": {
    "colab_type": "text",
    "id": "nlQqHJZz7CP0"
   },
   "source": [
    "![alt text](https://i.vas3k.ru/7vx.jpg)"
   ]
  },
  {
   "cell_type": "markdown",
   "metadata": {
    "colab_type": "text",
    "id": "TzTU3Nls132J"
   },
   "source": [
    "# <img src=\"https://img.icons8.com/color/32/000000/terms-and-conditions.png\"/> Terminology"
   ]
  },
  {
   "cell_type": "markdown",
   "metadata": {
    "colab_type": "text",
    "id": "dyF4ISZ5iYjW"
   },
   "source": [
    "* **Training example**: a row in a table representing he dataset and synonymous with an *observation, record, instance,* or *sample*.\n",
    "* **Training**: model fitting, for parametric models\n",
    "* **Features**: a column in a data table or data matrix, synonymous with *predictor, variable, input, attribute,* or *covariate*.\n",
    "* **Target**: Synonymous with *outcomes, output, response variable, dependent variable, class label,* and *ground truth*. \n",
    "* *Loss function*: often synonymous with *cost* function or *error* function."
   ]
  },
  {
   "cell_type": "markdown",
   "metadata": {
    "colab_type": "text",
    "id": "NaNK9DDf19KM"
   },
   "source": [
    "![alt text](https://github.com/rasbt/python-machine-learning-book-3rd-edition/blob/master/ch01/images/01_08.png?raw=true)"
   ]
  },
  {
   "cell_type": "markdown",
   "metadata": {
    "colab_type": "text",
    "id": "eAmaurrHIz2L"
   },
   "source": [
    "### Notation\n",
    "* $\\mathbf{X}$ is a *matrix* that represents the features (one or more per sample)\n",
    "* $y$ is a *vector* that represents the class labels (one per sample)"
   ]
  },
  {
   "cell_type": "markdown",
   "metadata": {
    "colab_type": "text",
    "id": "r1aL8sXq2Kxx"
   },
   "source": [
    "# <img src=\"https://img.icons8.com/color/32/000000/serial-tasks.png\"/> Machine learning system"
   ]
  },
  {
   "cell_type": "markdown",
   "metadata": {
    "colab_type": "text",
    "id": "8hIvJiPtJz55"
   },
   "source": [
    "Illustration of a typical machine learning pipeline.  "
   ]
  },
  {
   "cell_type": "markdown",
   "metadata": {
    "colab_type": "text",
    "id": "dzskiIz22FQ2"
   },
   "source": [
    "![alt text](https://github.com/rasbt/python-machine-learning-book-3rd-edition/blob/master/ch01/images/01_09.png?raw=true)"
   ]
  },
  {
   "cell_type": "markdown",
   "metadata": {
    "colab_type": "text",
    "id": "uuHLVPzbwfXs"
   },
   "source": [
    "# <img src=\"https://img.icons8.com/color/32/000000/3.png\"/> Three types of machine learning"
   ]
  },
  {
   "cell_type": "markdown",
   "metadata": {
    "colab_type": "text",
    "id": "Jj4d5uSgCeAS"
   },
   "source": [
    "Machine learning is generally discussed in three categories:\n",
    "1. Supervised\n",
    "2. Unsupervised\n",
    "3. Reinforcement"
   ]
  },
  {
   "cell_type": "markdown",
   "metadata": {
    "colab_type": "text",
    "id": "IEzRqAJhBvmp"
   },
   "source": [
    "## <img src=\"https://img.icons8.com/color/32/000000/bust.png\"/> Classical machine learning"
   ]
  },
  {
   "cell_type": "markdown",
   "metadata": {
    "colab_type": "text",
    "id": "aaemJyCl8lqg"
   },
   "source": [
    "![alt text](https://i.vas3k.ru/7w1.jpg)"
   ]
  },
  {
   "cell_type": "markdown",
   "metadata": {
    "colab_type": "text",
    "id": "v38CK4ZDxyEC"
   },
   "source": [
    "![alt text](https://raw.githubusercontent.com/rasbt/python-machine-learning-book-3rd-edition/master/ch01/images/01_01.png)"
   ]
  },
  {
   "cell_type": "markdown",
   "metadata": {
    "colab_type": "text",
    "id": "U7HRpXWT5HJA"
   },
   "source": [
    "![alt text](https://i.pinimg.com/originals/37/e8/bb/37e8bb0cf3705fe82e0ddf316a02a8b7.png)"
   ]
  },
  {
   "cell_type": "markdown",
   "metadata": {
    "colab_type": "text",
    "id": "EZDKvLVq0fAk"
   },
   "source": [
    "## <img src=\"https://img.icons8.com/color/32/000000/training.png\"/> Supervised learning"
   ]
  },
  {
   "cell_type": "markdown",
   "metadata": {
    "colab_type": "text",
    "id": "QrqC0SwfKd3o"
   },
   "source": [
    "\n",
    "Make predictions about the future based on past labeled data"
   ]
  },
  {
   "cell_type": "markdown",
   "metadata": {
    "colab_type": "text",
    "id": "XSzvzYa-xfmj"
   },
   "source": [
    "![alt text](https://github.com/rasbt/python-machine-learning-book-3rd-edition/blob/master/ch01/images/01_02.png?raw=true)"
   ]
  },
  {
   "cell_type": "markdown",
   "metadata": {
    "colab_type": "text",
    "id": "-xU1AQw5yC4w"
   },
   "source": [
    "### <img src=\"https://img.icons8.com/color/32/000000/search.png\"/>  Classification"
   ]
  },
  {
   "cell_type": "markdown",
   "metadata": {
    "colab_type": "text",
    "id": "_Beq6_oUKgky"
   },
   "source": [
    "Predict class labels  of new instances, based on past observations."
   ]
  },
  {
   "cell_type": "markdown",
   "metadata": {
    "colab_type": "text",
    "id": "5UE9OSPdLcCg"
   },
   "source": [
    "***\n",
    "<img src=\"https://img.icons8.com/color/32/000000/new-document.png\"/>  Example\n",
    "> Classify emails as `spam` or `not-spam`.\n",
    "***"
   ]
  },
  {
   "cell_type": "markdown",
   "metadata": {
    "colab_type": "text",
    "id": "fpOLr8js2Up0"
   },
   "source": [
    "\n",
    "![alt text](https://github.com/rasbt/python-machine-learning-book-3rd-edition/blob/master/ch01/images/01_03.png?raw=true)"
   ]
  },
  {
   "cell_type": "markdown",
   "metadata": {
    "colab_type": "text",
    "id": "nBue6rVj8u8p"
   },
   "source": [
    "***\n",
    "<img src=\"https://img.icons8.com/color/32/000000/bookmark-ribbon.png\"/> Common algorithms: [Naive Bayes](https://en.wikipedia.org/wiki/Naive_Bayes_classifier), [Decision Tree](https://en.wikipedia.org/wiki/Decision_tree), [Logistic Regression](https://en.wikipedia.org/wiki/Logistic_regression), [K-Nearest  Neighbours](https://en.wikipedia.org/wiki/K-nearest_neighbors_algorithm), [Support Vector Machine](https://en.wikipedia.org/wiki/Support-vector_machine)\n",
    "***\n"
   ]
  },
  {
   "cell_type": "markdown",
   "metadata": {
    "colab_type": "text",
    "id": "pNOtlvM09pQv"
   },
   "source": [
    "#### Naive Bayes\n",
    "![alt text](https://i.vas3k.ru/7w2.jpg)"
   ]
  },
  {
   "cell_type": "markdown",
   "metadata": {
    "colab_type": "text",
    "id": "KxqJTh6x9x-A"
   },
   "source": [
    "#### Decision tree\n",
    "![alt text](https://i.vas3k.ru/7w3.jpg)"
   ]
  },
  {
   "cell_type": "markdown",
   "metadata": {
    "colab_type": "text",
    "id": "RAqhBlA098Hv"
   },
   "source": [
    "#### Support vector machine\n",
    "![alt text](https://i.vas3k.ru/7w4.jpg)"
   ]
  },
  {
   "cell_type": "markdown",
   "metadata": {
    "colab_type": "text",
    "id": "2zs2rv3-0_sb"
   },
   "source": [
    "### <img src=\"https://img.icons8.com/color/32/000000/formula-fx.png\"/> Regression "
   ]
  },
  {
   "cell_type": "markdown",
   "metadata": {
    "colab_type": "text",
    "id": "phGoUkc8LlSV"
   },
   "source": [
    "Predict continuous outcomes for new instances, based on the relationship between a number of predictor (explantory) variables and a continuous response variable (outcome)."
   ]
  },
  {
   "cell_type": "markdown",
   "metadata": {
    "colab_type": "text",
    "id": "AJhe9T5LyQ7v"
   },
   "source": [
    "\n",
    "![alt text](https://github.com/rasbt/python-machine-learning-book-3rd-edition/blob/master/ch01/images/01_04.png?raw=true)\n"
   ]
  },
  {
   "cell_type": "markdown",
   "metadata": {
    "colab_type": "text",
    "id": "KwVtlIL-B7Ze"
   },
   "source": [
    "***\n",
    "<img src=\"https://img.icons8.com/color/32/000000/bookmark-ribbon.png\"/>  Common algorithms: [Linear](https://en.wikipedia.org/wiki/Linear_regression) and [Polynomial](https://en.wikipedia.org/wiki/Polynomial_regression) regressions.\n",
    "***"
   ]
  },
  {
   "cell_type": "markdown",
   "metadata": {
    "colab_type": "text",
    "id": "65QAxK2L-JuJ"
   },
   "source": [
    "![alt text](https://i.vas3k.ru/7w5.jpg)"
   ]
  },
  {
   "cell_type": "markdown",
   "metadata": {
    "colab_type": "text",
    "id": "SescAlmY0iYx"
   },
   "source": [
    "## <img src=\"https://img.icons8.com/color/32/000000/front-gate-open.png\"/> Unsupervised learning"
   ]
  },
  {
   "cell_type": "markdown",
   "metadata": {
    "colab_type": "text",
    "id": "I7qoyqk3MLgY"
   },
   "source": [
    "Unsupervised learning explores the structure of data to extract meaningful information without the guidance of a known outcome variable."
   ]
  },
  {
   "cell_type": "markdown",
   "metadata": {
    "colab_type": "text",
    "id": "oSV5sk1H07Uk"
   },
   "source": [
    "### <img src=\"https://img.icons8.com/color/32/000000/line-chart.png\"/> Clustering"
   ]
  },
  {
   "cell_type": "markdown",
   "metadata": {
    "colab_type": "text",
    "id": "dRoxnBWUM5rz"
   },
   "source": [
    "Find meaningful subgroups (clusters) with clustering, without proper knowledge of group membership."
   ]
  },
  {
   "cell_type": "markdown",
   "metadata": {
    "colab_type": "text",
    "id": "Sqy2xMgl0ltj"
   },
   "source": [
    "![alt text](https://github.com/rasbt/python-machine-learning-book-3rd-edition/blob/master/ch01/images/01_06.png?raw=true)"
   ]
  },
  {
   "cell_type": "markdown",
   "metadata": {
    "colab_type": "text",
    "id": "5RiWxYknCK6d"
   },
   "source": [
    "***\n",
    "<img src=\"https://img.icons8.com/color/32/000000/bookmark-ribbon.png\"/> Common algorithms: [K-means_clustering](https://en.wikipedia.org/wiki/K-means_clustering),[ Mean-Shift](https://en.wikipedia.org/wiki/Mean_shift), [DBSCAN](https://en.wikipedia.org/wiki/DBSCAN)\n",
    "***"
   ]
  },
  {
   "cell_type": "markdown",
   "metadata": {
    "colab_type": "text",
    "id": "NG1Jt45n-Pnv"
   },
   "source": [
    "![alt text](https://i.vas3k.ru/7w6.jpg)"
   ]
  },
  {
   "cell_type": "markdown",
   "metadata": {
    "colab_type": "text",
    "id": "8EC9WN311EM5"
   },
   "source": [
    "### <img src=\"https://img.icons8.com/color/32/000000/change.png\"/> Dimensionality reduction "
   ]
  },
  {
   "cell_type": "markdown",
   "metadata": {
    "colab_type": "text",
    "id": "nhB6pDNmNWBx"
   },
   "source": [
    "Compress data with dimensionality reduction"
   ]
  },
  {
   "cell_type": "markdown",
   "metadata": {
    "colab_type": "text",
    "id": "uNG3rd7a1PMn"
   },
   "source": [
    "![link text](https://github.com/rasbt/python-machine-learning-book-3rd-edition/blob/master/ch01/images/01_07.png?raw=true)"
   ]
  },
  {
   "cell_type": "markdown",
   "metadata": {
    "colab_type": "text",
    "id": "TO-w35xjCoks"
   },
   "source": [
    "***\n",
    "<img src=\"https://img.icons8.com/color/32/000000/bookmark-ribbon.png\"/>  Common algorithms: [Principal Component Analysis](https://en.wikipedia.org/wiki/Principal_component_analysis) (PCA), [Singular Value Decomposition](https://en.wikipedia.org/wiki/Singular_value_decomposition) (SVD), [Latent Dirichlet allocation](https://en.wikipedia.org/wiki/Latent_Dirichlet_allocation) (LDA), [Latent Semantic Analysis](https://en.wikipedia.org/wiki/Probabilistic_latent_semantic_analysis) (LSA, pLSA, GLSA), [t-SNE](https://en.wikipedia.org/wiki/T-distributed_stochastic_neighbor_embedding) (for visualization)\n",
    "***"
   ]
  },
  {
   "cell_type": "markdown",
   "metadata": {
    "colab_type": "text",
    "id": "2h3YQ1ds-h0C"
   },
   "source": [
    "![alt text](https://i.vas3k.ru/7w7.jpg)"
   ]
  },
  {
   "cell_type": "markdown",
   "metadata": {
    "colab_type": "text",
    "id": "nULGoXOn1TJH"
   },
   "source": [
    "### <img src=\"https://img.icons8.com/color/32/000000/feedback.png\"/> Reinforcement learning"
   ]
  },
  {
   "cell_type": "markdown",
   "metadata": {
    "colab_type": "text",
    "id": "XMOGJImuQvhi"
   },
   "source": [
    "Solve interactive problems with reinforcement learning in which an agent improves its performance based on interactions with the environment."
   ]
  },
  {
   "cell_type": "markdown",
   "metadata": {
    "colab_type": "text",
    "id": "iqW6puCn1h0y"
   },
   "source": [
    "\n",
    "![alt text](https://github.com/rasbt/python-machine-learning-book-3rd-edition/blob/master/ch01/images/01_05.png?raw=true)"
   ]
  },
  {
   "cell_type": "markdown",
   "metadata": {
    "colab_type": "text",
    "id": "BwHK2lIFDLfz"
   },
   "source": [
    "***\n",
    "<img src=\"https://img.icons8.com/color/32/000000/bookmark-ribbon.png\"/>  Common algorithms: [Q-Learning](https://en.wikipedia.org/wiki/Q-learning), [SARSA](https://en.wikipedia.org/wiki/State%E2%80%93action%E2%80%93reward%E2%80%93state%E2%80%93action), DQN, [A3C](https://medium.com/emergent-future/simple-reinforcement-learning-with-tensorflow-part-8-asynchronous-actor-critic-agents-a3c-c88f72a5e9f2), [Genetic algorithm](https://en.wikipedia.org/wiki/Genetic_algorithm)\n",
    "***"
   ]
  },
  {
   "cell_type": "markdown",
   "metadata": {
    "colab_type": "text",
    "id": "L-WRCmOc-tt8"
   },
   "source": [
    "<img src=\"https://img.icons8.com/color/32/000000/video.png\"/>  Video: Learning to play Super Mario Brothers with reinforcement learning (6 min)"
   ]
  },
  {
   "cell_type": "code",
   "execution_count": 0,
   "metadata": {
    "colab": {
     "base_uri": "https://localhost:8080/",
     "height": 321
    },
    "colab_type": "code",
    "id": "fNA1lJgw-2P6",
    "outputId": "c3fd1021-e61e-4fb8-f65b-4b33ef0bef73"
   },
   "outputs": [
    {
     "data": {
      "image/jpeg": "[encoded data removed]",
      "text/html": [
       "\n",
       "        <iframe\n",
       "            width=\"400\"\n",
       "            height=\"300\"\n",
       "            src=\"https://www.youtube.com/embed/qv6UVOQ0F44\"\n",
       "            frameborder=\"0\"\n",
       "            allowfullscreen\n",
       "        ></iframe>\n",
       "        "
      ],
      "text/plain": [
       "<IPython.lib.display.YouTubeVideo at 0x7f4e95321710>"
      ]
     },
     "execution_count": 5,
     "metadata": {
      "tags": []
     },
     "output_type": "execute_result"
    }
   ],
   "source": [
    "# https://www.youtube.com/watch?v=qv6UVOQ0F44\n",
    "from IPython.display import YouTubeVideo\n",
    "YouTubeVideo('qv6UVOQ0F44')"
   ]
  },
  {
   "cell_type": "markdown",
   "metadata": {
    "colab_type": "text",
    "id": "MQLUdJiS_Z89"
   },
   "source": [
    "![alt text](https://i.vas3k.ru/7wa.jpg)"
   ]
  },
  {
   "cell_type": "markdown",
   "metadata": {
    "colab_type": "text",
    "id": "imigND4C_nzi"
   },
   "source": [
    "# <img src=\"https://img.icons8.com/color/32/000000/music-conductor.png\"/> Ensemble methods"
   ]
  },
  {
   "cell_type": "markdown",
   "metadata": {
    "colab_type": "text",
    "id": "dfx8Ny1iRPCg"
   },
   "source": [
    "Combine multiple algorithms together to collectively decide the outcome."
   ]
  },
  {
   "cell_type": "markdown",
   "metadata": {
    "colab_type": "text",
    "id": "dld9b9Z1_nqa"
   },
   "source": [
    "![alt text](https://i.vas3k.ru/7r3.jpg)"
   ]
  },
  {
   "cell_type": "markdown",
   "metadata": {
    "colab_type": "text",
    "id": "8vsLewJiDzwX"
   },
   "source": [
    "***\n",
    "<img src=\"https://img.icons8.com/color/32/000000/bookmark-ribbon.png\"/>  Common algorithms: [Random Forest](https://en.wikipedia.org/wiki/Random_forest), [Gradient Boosting](https://en.wikipedia.org/wiki/Gradient_boosting)\n",
    "***"
   ]
  },
  {
   "cell_type": "markdown",
   "metadata": {
    "colab_type": "text",
    "id": "sP2yKl4wSiS3"
   },
   "source": [
    "## <img src=\"https://img.icons8.com/color/32/000000/stack.png\"/>  Stacking"
   ]
  },
  {
   "cell_type": "markdown",
   "metadata": {
    "colab_type": "text",
    "id": "Ws_o20kETFG4"
   },
   "source": [
    "Stacking uses the training set to fit a group of individual classifiers."
   ]
  },
  {
   "cell_type": "markdown",
   "metadata": {
    "colab_type": "text",
    "id": "pbEnbdSv_tiY"
   },
   "source": [
    "![alt text](https://i.vas3k.ru/7wb.jpg)"
   ]
  },
  {
   "cell_type": "markdown",
   "metadata": {
    "colab_type": "text",
    "id": "H0pQTeOpRkbS"
   },
   "source": [
    "## <img src=\"https://img.icons8.com/color/32/000000/chalk-bag.png\"/> Bagging\n",
    "Bagging draws bootstrap samples (random with replacement) from the training set to fit a group of individual classifiers."
   ]
  },
  {
   "cell_type": "markdown",
   "metadata": {
    "colab_type": "text",
    "id": "fj26dbpH_0Qu"
   },
   "source": [
    "![alt text](https://i.vas3k.ru/7wd.jpg)"
   ]
  },
  {
   "cell_type": "markdown",
   "metadata": {
    "colab_type": "text",
    "id": "UBRoruHES-33"
   },
   "source": [
    "## <img src=\"https://img.icons8.com/color/32/000000/launched-rocket.png\"/>  Boosting\n",
    "Boosting uses a sequence of learners, in which instances that were misclassified by the previous learners are given more weight so that subsequent learners give more focus to them during training."
   ]
  },
  {
   "cell_type": "markdown",
   "metadata": {
    "colab_type": "text",
    "id": "CEX7DpU4_-Hh"
   },
   "source": [
    "![alt text](https://i.vas3k.ru/7we.jpg)"
   ]
  },
  {
   "cell_type": "markdown",
   "metadata": {
    "colab_type": "text",
    "id": "UKbktMgtEE2f"
   },
   "source": [
    "# <img src=\"https://img.icons8.com/color/32/000000/artificial-intelligence.png\"/>  Neural networks"
   ]
  },
  {
   "cell_type": "markdown",
   "metadata": {
    "colab_type": "text",
    "id": "VvtHIFrvE4_J"
   },
   "source": [
    "***\n",
    "<img src=\"https://img.icons8.com/color/32/000000/bookmark-ribbon.png\"/>  Common architectures: [Perceptron](https://en.wikipedia.org/wiki/Perceptron), [Convolutional Network](https://en.wikipedia.org/wiki/Convolutional_neural_network) (CNN), [Recurrent Networks](https://en.wikipedia.org/wiki/Recurrent_neural_network) (RNN), [Autoencoders](https://en.wikipedia.org/wiki/Autoencoder)\n",
    "***"
   ]
  },
  {
   "cell_type": "markdown",
   "metadata": {
    "colab_type": "text",
    "id": "zAKSLDBhHLFt"
   },
   "source": [
    "## <img src=\"https://img.icons8.com/color/32/000000/neuron.png\"/> Perceptron\n",
    "A perceptron is a binary classifier that uses a function to decide whether or not an input, represented by a vector of numbers, belongs to some specific class."
   ]
  },
  {
   "cell_type": "markdown",
   "metadata": {
    "colab_type": "text",
    "id": "r0VW6SPiEHDU"
   },
   "source": [
    "![alt text](https://i.vas3k.ru/7wf.jpg)"
   ]
  },
  {
   "cell_type": "markdown",
   "metadata": {
    "colab_type": "text",
    "id": "tziEBJGjHQI8"
   },
   "source": [
    "## <img src=\"https://img.icons8.com/color/32/000000/genealogy.png\"/>  Multilayer Perceptron (MLP)\n",
    "A Multilayer perceptron connects multiple single neurons in a fully connected network, consisting on one input layer, one or more hidden layers, and one output layer. \n",
    "\n",
    "> <img src=\"https://img.icons8.com/color/32/000000/light-on.png\"/> When there are more than one hidden layers, it can be called a deep artificial neural network. "
   ]
  },
  {
   "cell_type": "markdown",
   "metadata": {
    "colab_type": "text",
    "id": "oQ8emGpOELaB"
   },
   "source": [
    "![alt text](https://i.vas3k.ru/7wg.jpg)"
   ]
  },
  {
   "cell_type": "markdown",
   "metadata": {
    "colab_type": "text",
    "id": "yxsI-UU-EjQH"
   },
   "source": [
    "### <img src=\"https://img.icons8.com/color/32/000000/video.png\"/>  Video: introduction to neural networks (20 min)"
   ]
  },
  {
   "cell_type": "code",
   "execution_count": 0,
   "metadata": {
    "colab": {
     "base_uri": "https://localhost:8080/",
     "height": 321
    },
    "colab_type": "code",
    "id": "5pYhSgW1EVrR",
    "outputId": "8ee24d90-fba5-40a0-b53a-0da6d1f3d37f"
   },
   "outputs": [
    {
     "data": {
      "image/jpeg": "[encoded data removed]",
      "text/html": [
       "\n",
       "        <iframe\n",
       "            width=\"400\"\n",
       "            height=\"300\"\n",
       "            src=\"https://www.youtube.com/embed/aircAruvnKk\"\n",
       "            frameborder=\"0\"\n",
       "            allowfullscreen\n",
       "        ></iframe>\n",
       "        "
      ],
      "text/plain": [
       "<IPython.lib.display.YouTubeVideo at 0x7fcdd549a0f0>"
      ]
     },
     "execution_count": 1,
     "metadata": {
      "tags": []
     },
     "output_type": "execute_result"
    }
   ],
   "source": [
    "# https://youtu.be/aircAruvnKk\n",
    "from IPython.display import YouTubeVideo\n",
    "YouTubeVideo('aircAruvnKk')"
   ]
  },
  {
   "cell_type": "markdown",
   "metadata": {
    "colab_type": "text",
    "id": "76j2SiIMHUbt"
   },
   "source": [
    "## <img src=\"https://img.icons8.com/color/32/000000/mind-map.png\"/> Convolutional neural nets"
   ]
  },
  {
   "cell_type": "markdown",
   "metadata": {
    "colab_type": "text",
    "id": "nWavyfYQXieK"
   },
   "source": [
    "Convolutional networks are neural networks that use mathematical [convolution](https://en.wikipedia.org/wiki/Convolution) in place of general matrix multiplication in at least one of their layers."
   ]
  },
  {
   "cell_type": "markdown",
   "metadata": {
    "colab_type": "text",
    "id": "xdjTAI4QHY0n"
   },
   "source": [
    "\n",
    "![alt text](https://i.vas3k.ru/7wj.jpg)"
   ]
  },
  {
   "cell_type": "markdown",
   "metadata": {
    "colab_type": "text",
    "id": "2NUHPo_uXuRP"
   },
   "source": [
    "Convolutional networks are readily used in \n",
    "* image and video recognition\n",
    "* recommender systems\n",
    "* image classification\n",
    "* medical image analysis\n",
    "* natural language processing"
   ]
  },
  {
   "cell_type": "markdown",
   "metadata": {
    "colab_type": "text",
    "id": "TqVnfuoyFf6m"
   },
   "source": [
    "![alt text](https://i.vas3k.ru/7rz.jpg)"
   ]
  },
  {
   "cell_type": "markdown",
   "metadata": {
    "colab_type": "text",
    "id": "Lj0iRSQkYGLZ"
   },
   "source": [
    "Convolutional networks may include local or global pooling layers to streamline the underlying computation."
   ]
  },
  {
   "cell_type": "markdown",
   "metadata": {
    "colab_type": "text",
    "id": "1xgFUuTtF2dC"
   },
   "source": [
    "![alt text](https://i.vas3k.ru/74s.jpg)"
   ]
  },
  {
   "cell_type": "markdown",
   "metadata": {
    "colab_type": "text",
    "id": "Y9SxpVUlGBdV"
   },
   "source": [
    "## <img src=\"https://img.icons8.com/color/32/000000/available-updates.png\"/>  Recurrent neural nets\n",
    "\n",
    "Recurrent neural networks form connections between nodes form a directed graph along a temporal sequence. "
   ]
  },
  {
   "cell_type": "markdown",
   "metadata": {
    "colab_type": "text",
    "id": "L058awOvGb1D"
   },
   "source": [
    "![alt text](https://i.vas3k.ru/7wk.jpg)"
   ]
  },
  {
   "cell_type": "markdown",
   "metadata": {
    "colab_type": "text",
    "id": "kXZDe3XzGP6A"
   },
   "source": [
    "### <img src=\"https://img.icons8.com/color/32/000000/video.png\"/>  Video: Recurrent neural nets tries to learn to speak (14 min)"
   ]
  },
  {
   "cell_type": "code",
   "execution_count": 0,
   "metadata": {
    "colab": {
     "base_uri": "https://localhost:8080/",
     "height": 321
    },
    "colab_type": "code",
    "id": "tWJhzV-xGFHr",
    "outputId": "e744e094-c3b4-4468-e8e2-bba3b2ca2828"
   },
   "outputs": [
    {
     "data": {
      "image/jpeg": "[encoded data removed]",
      "text/html": [
       "\n",
       "        <iframe\n",
       "            width=\"400\"\n",
       "            height=\"300\"\n",
       "            src=\"https://www.youtube.com/embed/NG-LATBZNBs\"\n",
       "            frameborder=\"0\"\n",
       "            allowfullscreen\n",
       "        ></iframe>\n",
       "        "
      ],
      "text/plain": [
       "<IPython.lib.display.YouTubeVideo at 0x7f0b34607a58>"
      ]
     },
     "execution_count": 1,
     "metadata": {
      "tags": []
     },
     "output_type": "execute_result"
    }
   ],
   "source": [
    "# https://youtu.be/NG-LATBZNBs\n",
    "from IPython.display import YouTubeVideo\n",
    "YouTubeVideo('NG-LATBZNBs')"
   ]
  },
  {
   "cell_type": "markdown",
   "metadata": {
    "colab_type": "text",
    "id": "_gryxnXtGukp"
   },
   "source": [
    "### <img src=\"https://img.icons8.com/color/32/000000/video.png\"/>  Video: Thanks Fake Obama (1 min)"
   ]
  },
  {
   "cell_type": "code",
   "execution_count": 0,
   "metadata": {
    "colab": {
     "base_uri": "https://localhost:8080/",
     "height": 321
    },
    "colab_type": "code",
    "id": "Dd-O1528GxxK",
    "outputId": "bbfb4467-9567-49de-e4c5-4b28e59e4423"
   },
   "outputs": [
    {
     "data": {
      "image/jpeg": "[encoded data removed]",
      "text/html": [
       "\n",
       "        <iframe\n",
       "            width=\"400\"\n",
       "            height=\"300\"\n",
       "            src=\"https://www.youtube.com/embed/cQ54GDm1eL0\"\n",
       "            frameborder=\"0\"\n",
       "            allowfullscreen\n",
       "        ></iframe>\n",
       "        "
      ],
      "text/plain": [
       "<IPython.lib.display.YouTubeVideo at 0x7f6b8486df98>"
      ]
     },
     "execution_count": 1,
     "metadata": {
      "tags": []
     },
     "output_type": "execute_result"
    }
   ],
   "source": [
    "# https://youtu.be/cQ54GDm1eL0\n",
    "from IPython.display import YouTubeVideo\n",
    "YouTubeVideo('cQ54GDm1eL0')"
   ]
  },
  {
   "cell_type": "markdown",
   "metadata": {
    "colab_type": "text",
    "id": "zbFHdCcyIxxP"
   },
   "source": [
    "### <img src=\"https://img.icons8.com/color/32/000000/categorize.png\"/> Types of neural networks\n",
    "There are many different neural network architectures."
   ]
  },
  {
   "cell_type": "markdown",
   "metadata": {
    "colab_type": "text",
    "id": "uiVZ1jquG_S_"
   },
   "source": [
    "![alt text](https://i.vas3k.ru/7rx.png)"
   ]
  },
  {
   "cell_type": "markdown",
   "metadata": {
    "colab_type": "text",
    "id": "_B5tXBfTedgT"
   },
   "source": [
    "***\n",
    "\n",
    "# <img src=\"https://img.icons8.com/color/32/000000/chat.png\"/> Discussion\n",
    "\n",
    "1. How has your understanding of AI vs ML changed?\n",
    "\n",
    "1. Can every problem be solved with ML? Why or why not?\n",
    "\n",
    "1. Why don't we just find one best algorithm to solve all problems?\n",
    "\n",
    "1. Which types of math do you think will be most useful in ML?\n",
    "\n",
    "1. Since ML is so useful, should we bother studying other types of AI?\n",
    "\n",
    "***"
   ]
  }
 ],
 "metadata": {
  "colab": {
   "collapsed_sections": [],
   "name": "Lecture 01.ipynb",
   "provenance": []
  },
  "kernelspec": {
   "display_name": "Python 3",
   "language": "python",
   "name": "python3"
  },
  "language_info": {
   "codemirror_mode": {
    "name": "ipython",
    "version": 3
   },
   "file_extension": ".py",
   "mimetype": "text/x-python",
   "name": "python",
   "nbconvert_exporter": "python",
   "pygments_lexer": "ipython3",
   "version": "3.7.6"
  }
 },
 "nbformat": 4,
 "nbformat_minor": 1
}
