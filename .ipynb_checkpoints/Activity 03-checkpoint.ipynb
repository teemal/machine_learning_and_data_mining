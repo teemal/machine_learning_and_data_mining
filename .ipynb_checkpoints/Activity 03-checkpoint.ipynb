{
 "cells": [
  {
   "cell_type": "markdown",
   "metadata": {
    "colab_type": "text",
    "id": "U140GVt9ZLfW"
   },
   "source": [
    "#Activity 03 - Datasets"
   ]
  },
  {
   "cell_type": "markdown",
   "metadata": {
    "colab_type": "text",
    "id": "w0FUTLgqZLbX"
   },
   "source": [
    "***\n",
    "##### CS 434 - Dating Mining and Machine Learning\n",
    "##### Oregon State University-Cascades\n",
    "***\n"
   ]
  },
  {
   "cell_type": "markdown",
   "metadata": {
    "colab_type": "text",
    "id": "R9lMPrnUOIoN"
   },
   "source": [
    "# Load Packages"
   ]
  },
  {
   "cell_type": "code",
   "execution_count": 0,
   "metadata": {
    "colab": {},
    "colab_type": "code",
    "id": "qB7kPSt9XJLo"
   },
   "outputs": [],
   "source": [
    "import ssl\n",
    "import pandas as pd\n",
    "import numpy as np\n",
    "from sklearn.preprocessing import MinMaxScaler\n",
    "from sklearn.preprocessing import StandardScaler\n",
    "from sklearn.model_selection import train_test_split\n",
    "ssl._create_default_https_context = ssl._create_unverified_context"
   ]
  },
  {
   "cell_type": "markdown",
   "metadata": {
    "colab_type": "text",
    "id": "NRvf1jrstO91"
   },
   "source": [
    "# Dataset"
   ]
  },
  {
   "cell_type": "markdown",
   "metadata": {
    "colab_type": "text",
    "id": "_xncZZybtYO5"
   },
   "source": [
    "### Location\n",
    "\n",
    "https://archive.ics.uci.edu/ml/datasets/census+income"
   ]
  },
  {
   "cell_type": "markdown",
   "metadata": {
    "colab_type": "text",
    "id": "jAPAU_ybtfh_"
   },
   "source": [
    "### Description"
   ]
  },
  {
   "cell_type": "markdown",
   "metadata": {
    "colab_type": "text",
    "id": "-LC6m4vdth3D"
   },
   "source": [
    "Predict whether income exceeds $50K/yr based on census data. Also known as \"Adult\" dataset.\n",
    "\n",
    "> Extraction was done by Barry Becker from the 1994 Census database. A set of reasonably clean records was extracted using the following conditions: `((AAGE>16) && (AGI>100) && (AFNLWGT>1)&& (HRSWK>0))`"
   ]
  },
  {
   "cell_type": "markdown",
   "metadata": {
    "colab_type": "text",
    "id": "fkpKN0H8tQqC"
   },
   "source": [
    "### Attributes\n",
    "* `age`: continuous\n",
    "* `workclass`: Private, Self-emp-not-inc, Self-emp-inc, Federal-gov, Local-gov, State-gov, Without-pay, Never-worked\n",
    "* `fnlwgt`: continuous\n",
    "* `education`: Bachelors, Some-college, 11th, HS-grad, Prof-school, Assoc-acdm, Assoc-voc, 9th, 7th-8th, 12th, Masters, 1st-4th, 10th, Doctorate, 5th-6th, Preschool.\n",
    "* `education-num`: continuous.\n",
    "* `marital-status`: Married-civ-spouse, Divorced, Never-married, Separated, Widowed, Married-spouse-absent, Married-AF-spouse.\n",
    "* `occupation`: Tech-support, Craft-repair, Other-service, Sales, Exec-managerial, Prof-specialty, Handlers-cleaners, Machine-op-inspct, Adm-clerical, Farming-fishing, Transport-moving, Priv-house-serv, Protective-serv, Armed-Forces.\n",
    "* `relationship`: Wife, Own-child, Husband, Not-in-family, Other-relative, Unmarried.\n",
    "* `race`: White, Asian-Pac-Islander, Amer-Indian-Eskimo, Other, Black.\n",
    "* `sex`: Female, Male.\n",
    "* `capital-gain`: continuous.\n",
    "* `capital-loss`: continuous.\n",
    "* `hours-per-week`: continuous.\n",
    "* `native-country`: United-States, Cambodia, England, Puerto-Rico, Canada, Germany, Outlying-US(Guam-USVI-etc), India, Japan, Greece, South, China, Cuba, Iran, Honduras, Philippines, Italy, Poland, Jamaica, Vietnam, Mexico, Portugal, Ireland, France, Dominican-Republic, Laos, Ecuador, Taiwan, Haiti, Columbia, Hungary, Guatemala, Nicaragua, Scotland, Thailand, Yugoslavia, El-Salvador, Trinadad&Tobago, Peru, Hong, Holand-Netherlands."
   ]
  },
  {
   "cell_type": "markdown",
   "metadata": {
    "colab_type": "text",
    "id": "L6v1-bqGuIAu"
   },
   "source": [
    "### Class label\n",
    "\n",
    "* `>50K, <=50K`: binary label, true if annual income is below $50k"
   ]
  },
  {
   "cell_type": "code",
   "execution_count": 0,
   "metadata": {
    "colab": {},
    "colab_type": "code",
    "id": "MurX_lXLuk5n"
   },
   "outputs": [],
   "source": [
    "attributes = ['age','workclass','fnlwgt','education','education-value','marital-status','occupation','relationship','race', 'sex','capital-gain','capital-loss','hours-per-week','native-country', 'income']\n",
    "url = 'https://archive.ics.uci.edu/ml/machine-learning-databases/adult/adult.data'"
   ]
  },
  {
   "cell_type": "markdown",
   "metadata": {
    "colab_type": "text",
    "id": "vn6N2FzvdGH6"
   },
   "source": [
    "*** \n",
    "# Exercise #1 - Load data\n",
    "*** "
   ]
  },
  {
   "cell_type": "markdown",
   "metadata": {
    "colab_type": "text",
    "id": "2G6cj_BqdNdv"
   },
   "source": [
    "##### 1.1 Load the dataset from the url and `display(df)`. "
   ]
  },
  {
   "cell_type": "code",
   "execution_count": 0,
   "metadata": {
    "colab": {},
    "colab_type": "code",
    "id": "bO12_V1-ZJk0"
   },
   "outputs": [],
   "source": [
    "# load the dataset into a dataframe\n",
    "print('your code here')"
   ]
  },
  {
   "cell_type": "markdown",
   "metadata": {
    "colab_type": "text",
    "id": "Qx_tKy1HYShB"
   },
   "source": [
    "##### 1.2 Count the number of records"
   ]
  },
  {
   "cell_type": "code",
   "execution_count": 0,
   "metadata": {
    "colab": {},
    "colab_type": "code",
    "id": "P9JhNue6YnWn"
   },
   "outputs": [],
   "source": [
    "# count number of records\n",
    "print('your code here')"
   ]
  },
  {
   "cell_type": "markdown",
   "metadata": {
    "colab_type": "text",
    "id": "eJ-5PMdhaEHI"
   },
   "source": [
    "##### 1.3 Create a mapping from the `'income'` strings to integers"
   ]
  },
  {
   "cell_type": "code",
   "execution_count": 0,
   "metadata": {
    "colab": {},
    "colab_type": "code",
    "id": "Kp_pC4UVaE14"
   },
   "outputs": [],
   "source": [
    "# create a mapping dict to convert class labels from strings to integers\n",
    "print('your code here')"
   ]
  },
  {
   "cell_type": "markdown",
   "metadata": {
    "colab_type": "text",
    "id": "64j5G61_c9AR"
   },
   "source": [
    "##### 1.4 Convert `'income'` strings to integers"
   ]
  },
  {
   "cell_type": "code",
   "execution_count": 0,
   "metadata": {
    "colab": {},
    "colab_type": "code",
    "id": "NpdlhwfHc9iW"
   },
   "outputs": [],
   "source": [
    "# convert class labels from strings to integers using the mapping\n",
    "print('your code here')"
   ]
  },
  {
   "cell_type": "markdown",
   "metadata": {
    "colab_type": "text",
    "id": "Yt962ukxdXOq"
   },
   "source": [
    "##### 1.5 List the `unique()` values of `'education'`"
   ]
  },
  {
   "cell_type": "code",
   "execution_count": 0,
   "metadata": {
    "colab": {},
    "colab_type": "code",
    "id": "7QQ3SuvRtASI"
   },
   "outputs": [],
   "source": [
    "# list the unique values of 'education'\n",
    "print('your code here')"
   ]
  },
  {
   "cell_type": "markdown",
   "metadata": {
    "colab_type": "text",
    "id": "yAeeuuj0dUGa"
   },
   "source": [
    "> Note the extra space in the string.  We'll convert this data column in the next section. "
   ]
  },
  {
   "cell_type": "markdown",
   "metadata": {
    "colab_type": "text",
    "id": "MNTh1O92sG29"
   },
   "source": [
    "*** \n",
    "# Exercise #2 - Mapping ordinal data\n",
    "*** "
   ]
  },
  {
   "cell_type": "markdown",
   "metadata": {
    "colab_type": "text",
    "id": "jPCGwZwJ4wz_"
   },
   "source": [
    "##### 2.1 Count the values in `'education`' using `value_counts()`"
   ]
  },
  {
   "cell_type": "code",
   "execution_count": 0,
   "metadata": {
    "colab": {},
    "colab_type": "code",
    "id": "hMsoqzbg5NIq"
   },
   "outputs": [],
   "source": [
    "# count the values in 'education'\n",
    "print('your code here')"
   ]
  },
  {
   "cell_type": "markdown",
   "metadata": {
    "colab_type": "text",
    "id": "w0ofTZB1dskj"
   },
   "source": [
    "##### 2.2 Select and display only the `'education'` and `'education-value'` columns"
   ]
  },
  {
   "cell_type": "code",
   "execution_count": 0,
   "metadata": {
    "colab": {},
    "colab_type": "code",
    "id": "hVUUWpcaeV-F"
   },
   "outputs": [],
   "source": [
    "# display two columns: 'education' and 'education-value'\n",
    "print('your code here')"
   ]
  },
  {
   "cell_type": "markdown",
   "metadata": {
    "colab_type": "text",
    "id": "mcf1ry9wepNm"
   },
   "source": [
    "> Notice that `'eduction-value'` is an ordinal representation of `'education'`.\n",
    ">\n",
    "> For practice, let's convert the `'education'` column to an ordinal numbering and then we can check it against `'education-value'`."
   ]
  },
  {
   "cell_type": "markdown",
   "metadata": {
    "colab_type": "text",
    "id": "9gOv3oByem5v"
   },
   "source": [
    "##### 2.3 Define a map that maps the categorical `'education'` value to an ordinal number. For example `' Preschool' : 1'`."
   ]
  },
  {
   "cell_type": "code",
   "execution_count": 0,
   "metadata": {
    "colab": {},
    "colab_type": "code",
    "id": "uBKhq0O5WAT2"
   },
   "outputs": [],
   "source": [
    "# define an ordinal mapping for education\n",
    "education_mapping = {' Preschool' : 1, ' 1st-4th' : 2, ' 5th-6th' : 3, ' 7th-8th' : 4, \n",
    "                ' 9th' : 5, ' 10th' : 6, ' 11th' : 7, ' 12th' : 8, \n",
    "                \n",
    "                ###################\n",
    "                # fill in the rest                \n",
    "                ###################\n",
    "\n",
    "                }"
   ]
  },
  {
   "cell_type": "markdown",
   "metadata": {
    "colab_type": "text",
    "id": "tyMkzrdd_exY"
   },
   "source": [
    "> Again note the extra space in the string."
   ]
  },
  {
   "cell_type": "markdown",
   "metadata": {
    "colab_type": "text",
    "id": "8gBm1zLc2Ygn"
   },
   "source": [
    "##### 2.4 Apply the ordinal mapping using `map`"
   ]
  },
  {
   "cell_type": "code",
   "execution_count": 0,
   "metadata": {
    "colab": {},
    "colab_type": "code",
    "id": "v9dE0vrUZimj"
   },
   "outputs": [],
   "source": [
    "# apply the mapping and display dataframe\n",
    "print('your code here')"
   ]
  },
  {
   "cell_type": "markdown",
   "metadata": {
    "colab_type": "text",
    "id": "o3Wno1c44CMt"
   },
   "source": [
    "##### 2.5 Confirm your new mapping of `'education'` matches the given mapping."
   ]
  },
  {
   "cell_type": "code",
   "execution_count": 0,
   "metadata": {
    "colab": {},
    "colab_type": "code",
    "id": "XpEPAocK2qn9"
   },
   "outputs": [],
   "source": [
    "# True, if the two columns match \n",
    "df['education'].equals(df['education-value'])"
   ]
  },
  {
   "cell_type": "markdown",
   "metadata": {
    "colab_type": "text",
    "id": "rvblw65pBvOh"
   },
   "source": [
    "***\n",
    "# Exercise #3 - One-hot encoding \n",
    "***"
   ]
  },
  {
   "cell_type": "markdown",
   "metadata": {
    "colab_type": "text",
    "id": "yuHwdCd8Ecgs"
   },
   "source": [
    "##### 3.1 Use to `get_dummies(.)` for `'sex'` and store in new dataframe `dummies`"
   ]
  },
  {
   "cell_type": "code",
   "execution_count": 0,
   "metadata": {
    "colab": {},
    "colab_type": "code",
    "id": "o-AgJ2ZVCZ-p"
   },
   "outputs": [],
   "source": [
    "# create dummies for 'sex'\n",
    "print('your code here')"
   ]
  },
  {
   "cell_type": "markdown",
   "metadata": {
    "colab_type": "text",
    "id": "WhjBKfevEh5b"
   },
   "source": [
    "##### 3.2 Drop column 'sex'"
   ]
  },
  {
   "cell_type": "code",
   "execution_count": 0,
   "metadata": {
    "colab": {},
    "colab_type": "code",
    "id": "kljQepxlmupG"
   },
   "outputs": [],
   "source": [
    "# drop column 'sex' as it is now encoded\n",
    "print('your code here')"
   ]
  },
  {
   "cell_type": "markdown",
   "metadata": {
    "colab_type": "text",
    "id": "ypgKAmpmF6pb"
   },
   "source": [
    "##### 3.3 `join(.)` dataframe `dummies` with `df` and `display`"
   ]
  },
  {
   "cell_type": "code",
   "execution_count": 0,
   "metadata": {
    "colab": {},
    "colab_type": "code",
    "id": "cMiY9_YjmAOm"
   },
   "outputs": [],
   "source": [
    "# join the encoded df dummies with df\n",
    "print('your code here')"
   ]
  },
  {
   "cell_type": "markdown",
   "metadata": {
    "colab_type": "text",
    "id": "rlLiR5iNGIq2"
   },
   "source": [
    "##### 3.4 Rename columns to be named `{male, female}`"
   ]
  },
  {
   "cell_type": "markdown",
   "metadata": {
    "colab_type": "text",
    "id": "lwbO-jTwN9P2"
   },
   "source": [
    "> **Example**: rename columns\n",
    "> <pre>$df = df.rename({'a': 'x', 'b': 'y'}, axis=1)</pre>\n",
    "\n"
   ]
  },
  {
   "cell_type": "code",
   "execution_count": 0,
   "metadata": {
    "colab": {},
    "colab_type": "code",
    "id": "SRDb3of2N9uL"
   },
   "outputs": [],
   "source": [
    "# rename to the lower case equivalent \n",
    "print('your code here')"
   ]
  },
  {
   "cell_type": "markdown",
   "metadata": {
    "colab_type": "text",
    "id": "ws4w4OvCDIbB"
   },
   "source": [
    "##### 3.5 Find the sums of the `female` and the `male` columns, respectively"
   ]
  },
  {
   "cell_type": "code",
   "execution_count": 0,
   "metadata": {
    "colab": {},
    "colab_type": "code",
    "id": "OZf3UcnwNPsm"
   },
   "outputs": [],
   "source": [
    "# count female\n",
    "print('your code here')"
   ]
  },
  {
   "cell_type": "code",
   "execution_count": 0,
   "metadata": {
    "colab": {},
    "colab_type": "code",
    "id": "4uKVoAjqOV8u"
   },
   "outputs": [],
   "source": [
    "# count male\n",
    "print('your code here')"
   ]
  },
  {
   "cell_type": "markdown",
   "metadata": {
    "colab_type": "text",
    "id": "6qtVynTTl3By"
   },
   "source": [
    "***\n",
    "# Exercise #4 - Features on same scale\n",
    "***"
   ]
  },
  {
   "cell_type": "markdown",
   "metadata": {
    "colab_type": "text",
    "id": "OBpuxnzxcAkx"
   },
   "source": [
    "##### 4.1 Describe the summary statistics for `'hours-per-week'`"
   ]
  },
  {
   "cell_type": "code",
   "execution_count": 0,
   "metadata": {
    "colab": {},
    "colab_type": "code",
    "id": "zpztRxQLgTuT"
   },
   "outputs": [],
   "source": [
    "# describe 'hours-per-week'\n",
    "print('your code here')"
   ]
  },
  {
   "cell_type": "markdown",
   "metadata": {
    "colab_type": "text",
    "id": "nUJmxTfshu_G"
   },
   "source": [
    "###### 4.2 Standardize the column `'hour-per-week'`"
   ]
  },
  {
   "cell_type": "code",
   "execution_count": 0,
   "metadata": {
    "colab": {},
    "colab_type": "code",
    "id": "kAwzCCJwh_6z"
   },
   "outputs": [],
   "source": [
    "# use StandardScaler to fit tranform the column 'hours-per-week'\n",
    "print('your code here')"
   ]
  },
  {
   "cell_type": "markdown",
   "metadata": {
    "colab_type": "text",
    "id": "aiBginRzlw_a"
   },
   "source": [
    "##### 4.3 Describe the summary statistics for `'hours-per-week'` again"
   ]
  },
  {
   "cell_type": "code",
   "execution_count": 0,
   "metadata": {
    "colab": {},
    "colab_type": "code",
    "id": "cdvWJ47pl4IL"
   },
   "outputs": [],
   "source": [
    "# describe 'hours-per-week' again\n",
    "print('your code here')"
   ]
  },
  {
   "cell_type": "markdown",
   "metadata": {
    "colab_type": "text",
    "id": "MJ7yRX-ujQ_u"
   },
   "source": [
    "##### 4.4 Standardize `'captial-gain'` and `'capital-loss'`"
   ]
  },
  {
   "cell_type": "code",
   "execution_count": 0,
   "metadata": {
    "colab": {},
    "colab_type": "code",
    "id": "wPTYfsZvbZ3M"
   },
   "outputs": [],
   "source": [
    "# standardize 'captial-gain' and 'capital-loss'\n",
    "print('your code here')"
   ]
  },
  {
   "cell_type": "markdown",
   "metadata": {
    "colab_type": "text",
    "id": "AN5lGWwyqDX3"
   },
   "source": [
    "##### 4.5 Describe the summary statistics for `'captial-gain'` and `'capital-loss'`"
   ]
  },
  {
   "cell_type": "code",
   "execution_count": 0,
   "metadata": {
    "colab": {},
    "colab_type": "code",
    "id": "M9Wz4BbAqLCq"
   },
   "outputs": [],
   "source": [
    "# describe 'captial-gain' and 'capital-loss'\n",
    "print('your code here')"
   ]
  },
  {
   "cell_type": "markdown",
   "metadata": {
    "colab_type": "text",
    "id": "3Pkwobso6nOM"
   },
   "source": [
    "***\n",
    "# Exercise #5 - Partition into train and test sets\n",
    "***"
   ]
  },
  {
   "cell_type": "markdown",
   "metadata": {
    "colab_type": "text",
    "id": "RhjW2AyA7aZq"
   },
   "source": [
    "##### 5.1 Partition in into `X` (features) and `y` (class labels)"
   ]
  },
  {
   "cell_type": "code",
   "execution_count": 0,
   "metadata": {
    "colab": {},
    "colab_type": "code",
    "id": "ym9tzsv4737V"
   },
   "outputs": [],
   "source": [
    "# partition into attributes X and class labels y\n",
    "print('your code here')"
   ]
  },
  {
   "cell_type": "markdown",
   "metadata": {
    "colab_type": "text",
    "id": "8CV9qM2V9xjH"
   },
   "source": [
    "##### 5.2 Split into train and test (0.3), stratified by `y`"
   ]
  },
  {
   "cell_type": "code",
   "execution_count": 0,
   "metadata": {
    "colab": {},
    "colab_type": "code",
    "id": "iUtCb-u7-c43"
   },
   "outputs": [],
   "source": [
    "# split into train and test (both X and y)\n",
    "print('your code here')"
   ]
  },
  {
   "cell_type": "markdown",
   "metadata": {
    "colab_type": "text",
    "id": "TT7MRithGrBu"
   },
   "source": [
    "##### 5.3 Count the number of examples in `X_train`"
   ]
  },
  {
   "cell_type": "code",
   "execution_count": 0,
   "metadata": {
    "colab": {},
    "colab_type": "code",
    "id": "yBgrBnBWHyC6"
   },
   "outputs": [],
   "source": [
    "# count number of examples in X_train\n",
    "print('your code here')"
   ]
  },
  {
   "cell_type": "markdown",
   "metadata": {
    "colab_type": "text",
    "id": "ur4dR42DH19N"
   },
   "source": [
    "##### 5.4 Count the number of examples in `X_test`\n",
    "\n"
   ]
  },
  {
   "cell_type": "code",
   "execution_count": 0,
   "metadata": {
    "colab": {},
    "colab_type": "code",
    "id": "C3Sxs0tIH7M3"
   },
   "outputs": [],
   "source": [
    "# count number of examples in X_test\n",
    "print('your code here')"
   ]
  },
  {
   "cell_type": "markdown",
   "metadata": {
    "colab_type": "text",
    "id": "l_V67GIXILSS"
   },
   "source": [
    "##### 5.5 Verify the size of `X_test` is $ \\approx{0.3} $ of the total number of examples"
   ]
  },
  {
   "cell_type": "code",
   "execution_count": 0,
   "metadata": {
    "colab": {},
    "colab_type": "code",
    "id": "vjPYGGAxIBES"
   },
   "outputs": [],
   "source": [
    "# divide |X_test| by (|X_train|+|X_test|)\n",
    "print('your code here')"
   ]
  },
  {
   "cell_type": "markdown",
   "metadata": {
    "colab_type": "text",
    "id": "VCqangbAFtEw"
   },
   "source": [
    "<img src=\"https://66.media.tumblr.com/dded9d1a2bf2068f92af9f7a9b6b5451/tumblr_p6s3hbPzgV1vd8jsjo1_500.gifv\" width=\"300\">"
   ]
  }
 ],
 "metadata": {
  "colab": {
   "authorship_tag": "ABX9TyPyOov3jJK6I0oOuj1QP/sV",
   "collapsed_sections": [],
   "name": "Activity 03.ipynb",
   "provenance": []
  },
  "kernelspec": {
   "display_name": "Python 3",
   "language": "python",
   "name": "python3"
  },
  "language_info": {
   "codemirror_mode": {
    "name": "ipython",
    "version": 3
   },
   "file_extension": ".py",
   "mimetype": "text/x-python",
   "name": "python",
   "nbconvert_exporter": "python",
   "pygments_lexer": "ipython3",
   "version": "3.7.6"
  }
 },
 "nbformat": 4,
 "nbformat_minor": 1
}
