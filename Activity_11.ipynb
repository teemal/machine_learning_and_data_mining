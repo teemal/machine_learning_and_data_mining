{
  "nbformat": 4,
  "nbformat_minor": 0,
  "metadata": {
    "colab": {
      "name": "Activity 11.ipynb",
      "provenance": [],
      "collapsed_sections": [
        "8_ROrHNsdVoP"
      ]
    },
    "kernelspec": {
      "name": "python3",
      "display_name": "Python 3"
    }
  },
  "cells": [
    {
      "cell_type": "markdown",
      "metadata": {
        "id": "Pl-9nkdYiAT0",
        "colab_type": "text"
      },
      "source": [
        "# Activity 11 - Ensemble Learning\n"
      ]
    },
    {
      "cell_type": "markdown",
      "metadata": {
        "id": "TIVy2OG3iFq8",
        "colab_type": "text"
      },
      "source": [
        "***\n",
        "##### CS 434 - Dating Mining and Machine Learning\n",
        "##### Oregon State University-Cascades\n",
        "***"
      ]
    },
    {
      "cell_type": "markdown",
      "metadata": {
        "id": "KDDlDwj276Eh",
        "colab_type": "text"
      },
      "source": [
        "# Load packages"
      ]
    },
    {
      "cell_type": "code",
      "metadata": {
        "id": "qnJr9B43h4Qe",
        "colab_type": "code",
        "colab": {}
      },
      "source": [
        "import io\n",
        "import time\n",
        "import random\n",
        "import textwrap\n",
        "import pandas as pd\n",
        "import numpy as np\n",
        "import matplotlib.pyplot as plt\n",
        "from sklearn.model_selection import train_test_split\n",
        "from sklearn.preprocessing import LabelEncoder, StandardScaler\n",
        "from sklearn.pipeline import make_pipeline, Pipeline\n",
        "from sklearn.linear_model import LogisticRegression\n",
        "from sklearn.svm import SVC\n",
        "from sklearn.neighbors import KNeighborsClassifier\n",
        "from sklearn.tree import DecisionTreeClassifier\n",
        "from sklearn.model_selection import GridSearchCV, cross_val_score\n",
        "from sklearn.ensemble import RandomForestClassifier, VotingClassifier\n",
        "from sklearn.metrics import confusion_matrix, f1_score, accuracy_score"
      ],
      "execution_count": 0,
      "outputs": []
    },
    {
      "cell_type": "markdown",
      "metadata": {
        "id": "QGRwvVOQ7_c8",
        "colab_type": "text"
      },
      "source": [
        "# Dataset"
      ]
    },
    {
      "cell_type": "markdown",
      "metadata": {
        "id": "M79P2g5KQGqD",
        "colab_type": "text"
      },
      "source": [
        "The model evaluates cars according to the following concept structure:\n",
        "\n",
        "CAR : car acceptability\n",
        "* PRICE : overall price\n",
        "  *  *buying* : buying price\n",
        "  * *maint* : price of the maintenance\n",
        "* TECH technical characteristics\n",
        "  * COMFORT comfort\n",
        "    * *doors* : number of doors\n",
        "    * *persons* : capacity in terms of persons to carry\n",
        "    * *lug_boot* : the size of luggage boot\n",
        "  * *safety* : estimated safety of the car"
      ]
    },
    {
      "cell_type": "markdown",
      "metadata": {
        "id": "1IMnyc_uJhuo",
        "colab_type": "text"
      },
      "source": [
        "Features:\n",
        "* **buying** : v-high, high, med, low\n",
        "* **maint** : v-high, high, med, low\n",
        "* **doors** : 2, 3, 4, 5-more\n",
        "* **persons** : 2, 4, more\n",
        "* **lug_boot** : small, med, big\n",
        "* **safety** : low, med, high\n"
      ]
    },
    {
      "cell_type": "markdown",
      "metadata": {
        "id": "per8ahpvKHXj",
        "colab_type": "text"
      },
      "source": [
        "Class label:\n",
        "* **evaluation**\n",
        "\n",
        "class   |   N    |       N[%]\n",
        "---     | ---    | ---\n",
        "unacc   |  1210  |   (70.023 %) \n",
        "acc     |   384  |   (22.222 %) \n",
        "good    |    69  |   ( 3.993 %) \n",
        "v-good  |    65  |   ( 3.762 %) \n"
      ]
    },
    {
      "cell_type": "code",
      "metadata": {
        "id": "iA_lVnDhIPz6",
        "colab_type": "code",
        "colab": {}
      },
      "source": [
        "url='https://archive.ics.uci.edu/ml/machine-learning-databases/car/car.data'\n",
        "attributes = ['buying','maint','doors','persons','lug_boot','safety','evaluation']"
      ],
      "execution_count": 0,
      "outputs": []
    },
    {
      "cell_type": "markdown",
      "metadata": {
        "id": "ujpWhmje8B3F",
        "colab_type": "text"
      },
      "source": [
        "*** \n",
        "# Exercise #1 - Load data\n",
        "*** "
      ]
    },
    {
      "cell_type": "markdown",
      "metadata": {
        "id": "a383i5fZ8Dxy",
        "colab_type": "text"
      },
      "source": [
        "##### 1.1 Read the `dat_file` into new dataframe `df`.\n",
        "* `index_col=False`"
      ]
    },
    {
      "cell_type": "code",
      "metadata": {
        "id": "mZBZhhpYIOya",
        "colab_type": "code",
        "colab": {
          "base_uri": "https://localhost:8080/",
          "height": 419
        },
        "outputId": "05af6d17-5273-44dc-9ea7-4748b37c2077"
      },
      "source": [
        "# read the dataframe\n",
        "df = pd.read_csv(url, index_col= False, names= attributes)\n",
        "df"
      ],
      "execution_count": 4,
      "outputs": [
        {
          "output_type": "execute_result",
          "data": {
            "text/html": [
              "<div>\n",
              "<style scoped>\n",
              "    .dataframe tbody tr th:only-of-type {\n",
              "        vertical-align: middle;\n",
              "    }\n",
              "\n",
              "    .dataframe tbody tr th {\n",
              "        vertical-align: top;\n",
              "    }\n",
              "\n",
              "    .dataframe thead th {\n",
              "        text-align: right;\n",
              "    }\n",
              "</style>\n",
              "<table border=\"1\" class=\"dataframe\">\n",
              "  <thead>\n",
              "    <tr style=\"text-align: right;\">\n",
              "      <th></th>\n",
              "      <th>buying</th>\n",
              "      <th>maint</th>\n",
              "      <th>doors</th>\n",
              "      <th>persons</th>\n",
              "      <th>lug_boot</th>\n",
              "      <th>safety</th>\n",
              "      <th>evaluation</th>\n",
              "    </tr>\n",
              "  </thead>\n",
              "  <tbody>\n",
              "    <tr>\n",
              "      <th>0</th>\n",
              "      <td>vhigh</td>\n",
              "      <td>vhigh</td>\n",
              "      <td>2</td>\n",
              "      <td>2</td>\n",
              "      <td>small</td>\n",
              "      <td>low</td>\n",
              "      <td>unacc</td>\n",
              "    </tr>\n",
              "    <tr>\n",
              "      <th>1</th>\n",
              "      <td>vhigh</td>\n",
              "      <td>vhigh</td>\n",
              "      <td>2</td>\n",
              "      <td>2</td>\n",
              "      <td>small</td>\n",
              "      <td>med</td>\n",
              "      <td>unacc</td>\n",
              "    </tr>\n",
              "    <tr>\n",
              "      <th>2</th>\n",
              "      <td>vhigh</td>\n",
              "      <td>vhigh</td>\n",
              "      <td>2</td>\n",
              "      <td>2</td>\n",
              "      <td>small</td>\n",
              "      <td>high</td>\n",
              "      <td>unacc</td>\n",
              "    </tr>\n",
              "    <tr>\n",
              "      <th>3</th>\n",
              "      <td>vhigh</td>\n",
              "      <td>vhigh</td>\n",
              "      <td>2</td>\n",
              "      <td>2</td>\n",
              "      <td>med</td>\n",
              "      <td>low</td>\n",
              "      <td>unacc</td>\n",
              "    </tr>\n",
              "    <tr>\n",
              "      <th>4</th>\n",
              "      <td>vhigh</td>\n",
              "      <td>vhigh</td>\n",
              "      <td>2</td>\n",
              "      <td>2</td>\n",
              "      <td>med</td>\n",
              "      <td>med</td>\n",
              "      <td>unacc</td>\n",
              "    </tr>\n",
              "    <tr>\n",
              "      <th>...</th>\n",
              "      <td>...</td>\n",
              "      <td>...</td>\n",
              "      <td>...</td>\n",
              "      <td>...</td>\n",
              "      <td>...</td>\n",
              "      <td>...</td>\n",
              "      <td>...</td>\n",
              "    </tr>\n",
              "    <tr>\n",
              "      <th>1723</th>\n",
              "      <td>low</td>\n",
              "      <td>low</td>\n",
              "      <td>5more</td>\n",
              "      <td>more</td>\n",
              "      <td>med</td>\n",
              "      <td>med</td>\n",
              "      <td>good</td>\n",
              "    </tr>\n",
              "    <tr>\n",
              "      <th>1724</th>\n",
              "      <td>low</td>\n",
              "      <td>low</td>\n",
              "      <td>5more</td>\n",
              "      <td>more</td>\n",
              "      <td>med</td>\n",
              "      <td>high</td>\n",
              "      <td>vgood</td>\n",
              "    </tr>\n",
              "    <tr>\n",
              "      <th>1725</th>\n",
              "      <td>low</td>\n",
              "      <td>low</td>\n",
              "      <td>5more</td>\n",
              "      <td>more</td>\n",
              "      <td>big</td>\n",
              "      <td>low</td>\n",
              "      <td>unacc</td>\n",
              "    </tr>\n",
              "    <tr>\n",
              "      <th>1726</th>\n",
              "      <td>low</td>\n",
              "      <td>low</td>\n",
              "      <td>5more</td>\n",
              "      <td>more</td>\n",
              "      <td>big</td>\n",
              "      <td>med</td>\n",
              "      <td>good</td>\n",
              "    </tr>\n",
              "    <tr>\n",
              "      <th>1727</th>\n",
              "      <td>low</td>\n",
              "      <td>low</td>\n",
              "      <td>5more</td>\n",
              "      <td>more</td>\n",
              "      <td>big</td>\n",
              "      <td>high</td>\n",
              "      <td>vgood</td>\n",
              "    </tr>\n",
              "  </tbody>\n",
              "</table>\n",
              "<p>1728 rows × 7 columns</p>\n",
              "</div>"
            ],
            "text/plain": [
              "     buying  maint  doors persons lug_boot safety evaluation\n",
              "0     vhigh  vhigh      2       2    small    low      unacc\n",
              "1     vhigh  vhigh      2       2    small    med      unacc\n",
              "2     vhigh  vhigh      2       2    small   high      unacc\n",
              "3     vhigh  vhigh      2       2      med    low      unacc\n",
              "4     vhigh  vhigh      2       2      med    med      unacc\n",
              "...     ...    ...    ...     ...      ...    ...        ...\n",
              "1723    low    low  5more    more      med    med       good\n",
              "1724    low    low  5more    more      med   high      vgood\n",
              "1725    low    low  5more    more      big    low      unacc\n",
              "1726    low    low  5more    more      big    med       good\n",
              "1727    low    low  5more    more      big   high      vgood\n",
              "\n",
              "[1728 rows x 7 columns]"
            ]
          },
          "metadata": {
            "tags": []
          },
          "execution_count": 4
        }
      ]
    },
    {
      "cell_type": "markdown",
      "metadata": {
        "id": "NmWcRCxoNQwV",
        "colab_type": "text"
      },
      "source": [
        "##### 1.2 Describe dataframe"
      ]
    },
    {
      "cell_type": "code",
      "metadata": {
        "id": "0BWc3JJ5NU3X",
        "colab_type": "code",
        "colab": {
          "base_uri": "https://localhost:8080/",
          "height": 173
        },
        "outputId": "fa697165-ed0d-47b0-a760-4860cead7403"
      },
      "source": [
        "# describe df\n",
        "df.describe()"
      ],
      "execution_count": 5,
      "outputs": [
        {
          "output_type": "execute_result",
          "data": {
            "text/html": [
              "<div>\n",
              "<style scoped>\n",
              "    .dataframe tbody tr th:only-of-type {\n",
              "        vertical-align: middle;\n",
              "    }\n",
              "\n",
              "    .dataframe tbody tr th {\n",
              "        vertical-align: top;\n",
              "    }\n",
              "\n",
              "    .dataframe thead th {\n",
              "        text-align: right;\n",
              "    }\n",
              "</style>\n",
              "<table border=\"1\" class=\"dataframe\">\n",
              "  <thead>\n",
              "    <tr style=\"text-align: right;\">\n",
              "      <th></th>\n",
              "      <th>buying</th>\n",
              "      <th>maint</th>\n",
              "      <th>doors</th>\n",
              "      <th>persons</th>\n",
              "      <th>lug_boot</th>\n",
              "      <th>safety</th>\n",
              "      <th>evaluation</th>\n",
              "    </tr>\n",
              "  </thead>\n",
              "  <tbody>\n",
              "    <tr>\n",
              "      <th>count</th>\n",
              "      <td>1728</td>\n",
              "      <td>1728</td>\n",
              "      <td>1728</td>\n",
              "      <td>1728</td>\n",
              "      <td>1728</td>\n",
              "      <td>1728</td>\n",
              "      <td>1728</td>\n",
              "    </tr>\n",
              "    <tr>\n",
              "      <th>unique</th>\n",
              "      <td>4</td>\n",
              "      <td>4</td>\n",
              "      <td>4</td>\n",
              "      <td>3</td>\n",
              "      <td>3</td>\n",
              "      <td>3</td>\n",
              "      <td>4</td>\n",
              "    </tr>\n",
              "    <tr>\n",
              "      <th>top</th>\n",
              "      <td>med</td>\n",
              "      <td>med</td>\n",
              "      <td>4</td>\n",
              "      <td>4</td>\n",
              "      <td>small</td>\n",
              "      <td>med</td>\n",
              "      <td>unacc</td>\n",
              "    </tr>\n",
              "    <tr>\n",
              "      <th>freq</th>\n",
              "      <td>432</td>\n",
              "      <td>432</td>\n",
              "      <td>432</td>\n",
              "      <td>576</td>\n",
              "      <td>576</td>\n",
              "      <td>576</td>\n",
              "      <td>1210</td>\n",
              "    </tr>\n",
              "  </tbody>\n",
              "</table>\n",
              "</div>"
            ],
            "text/plain": [
              "       buying maint doors persons lug_boot safety evaluation\n",
              "count    1728  1728  1728    1728     1728   1728       1728\n",
              "unique      4     4     4       3        3      3          4\n",
              "top       med   med     4       4    small    med      unacc\n",
              "freq      432   432   432     576      576    576       1210"
            ]
          },
          "metadata": {
            "tags": []
          },
          "execution_count": 5
        }
      ]
    },
    {
      "cell_type": "markdown",
      "metadata": {
        "id": "m7IsdPhIMfgt",
        "colab_type": "text"
      },
      "source": [
        "##### 1.3 Display `info()` on `df`"
      ]
    },
    {
      "cell_type": "code",
      "metadata": {
        "id": "g7r7c7L4MneW",
        "colab_type": "code",
        "colab": {
          "base_uri": "https://localhost:8080/",
          "height": 255
        },
        "outputId": "b4fa5fe9-1909-4c55-c254-6b8d465f1dff"
      },
      "source": [
        "# print df info()\n",
        "df.info()"
      ],
      "execution_count": 6,
      "outputs": [
        {
          "output_type": "stream",
          "text": [
            "<class 'pandas.core.frame.DataFrame'>\n",
            "RangeIndex: 1728 entries, 0 to 1727\n",
            "Data columns (total 7 columns):\n",
            " #   Column      Non-Null Count  Dtype \n",
            "---  ------      --------------  ----- \n",
            " 0   buying      1728 non-null   object\n",
            " 1   maint       1728 non-null   object\n",
            " 2   doors       1728 non-null   object\n",
            " 3   persons     1728 non-null   object\n",
            " 4   lug_boot    1728 non-null   object\n",
            " 5   safety      1728 non-null   object\n",
            " 6   evaluation  1728 non-null   object\n",
            "dtypes: object(7)\n",
            "memory usage: 94.6+ KB\n"
          ],
          "name": "stdout"
        }
      ]
    },
    {
      "cell_type": "markdown",
      "metadata": {
        "id": "q6HVtTRSMxZ4",
        "colab_type": "text"
      },
      "source": [
        "> Pay attention to the types of the values of our columns."
      ]
    },
    {
      "cell_type": "markdown",
      "metadata": {
        "id": "Ji4AgHRyNkik",
        "colab_type": "text"
      },
      "source": [
        "##### 1.4 Count values for `'evaluation'`"
      ]
    },
    {
      "cell_type": "code",
      "metadata": {
        "id": "vTgf5YTNNlWk",
        "colab_type": "code",
        "colab": {
          "base_uri": "https://localhost:8080/",
          "height": 102
        },
        "outputId": "26231cf8-e1ce-4e86-8c73-d33af49324a7"
      },
      "source": [
        "# value counts for 'evaluation'\n",
        "df['evaluation'].value_counts()"
      ],
      "execution_count": 7,
      "outputs": [
        {
          "output_type": "execute_result",
          "data": {
            "text/plain": [
              "unacc    1210\n",
              "acc       384\n",
              "good       69\n",
              "vgood      65\n",
              "Name: evaluation, dtype: int64"
            ]
          },
          "metadata": {
            "tags": []
          },
          "execution_count": 7
        }
      ]
    },
    {
      "cell_type": "markdown",
      "metadata": {
        "id": "NpBQY43OQcIA",
        "colab_type": "text"
      },
      "source": [
        "*** \n",
        "# Exercise #2 - Prepare dataset\n",
        "*** "
      ]
    },
    {
      "cell_type": "markdown",
      "metadata": {
        "id": "mwXagFlANI8Y",
        "colab_type": "text"
      },
      "source": [
        "2.1 Encode categorical labels"
      ]
    },
    {
      "cell_type": "code",
      "metadata": {
        "id": "vEB4c2OVXPNL",
        "colab_type": "code",
        "colab": {
          "base_uri": "https://localhost:8080/",
          "height": 419
        },
        "outputId": "5730383b-cec6-42cf-aa7f-f9e59a7199e8"
      },
      "source": [
        "# encode labels\n",
        "df.apply(LabelEncoder().fit_transform)"
      ],
      "execution_count": 8,
      "outputs": [
        {
          "output_type": "execute_result",
          "data": {
            "text/html": [
              "<div>\n",
              "<style scoped>\n",
              "    .dataframe tbody tr th:only-of-type {\n",
              "        vertical-align: middle;\n",
              "    }\n",
              "\n",
              "    .dataframe tbody tr th {\n",
              "        vertical-align: top;\n",
              "    }\n",
              "\n",
              "    .dataframe thead th {\n",
              "        text-align: right;\n",
              "    }\n",
              "</style>\n",
              "<table border=\"1\" class=\"dataframe\">\n",
              "  <thead>\n",
              "    <tr style=\"text-align: right;\">\n",
              "      <th></th>\n",
              "      <th>buying</th>\n",
              "      <th>maint</th>\n",
              "      <th>doors</th>\n",
              "      <th>persons</th>\n",
              "      <th>lug_boot</th>\n",
              "      <th>safety</th>\n",
              "      <th>evaluation</th>\n",
              "    </tr>\n",
              "  </thead>\n",
              "  <tbody>\n",
              "    <tr>\n",
              "      <th>0</th>\n",
              "      <td>3</td>\n",
              "      <td>3</td>\n",
              "      <td>0</td>\n",
              "      <td>0</td>\n",
              "      <td>2</td>\n",
              "      <td>1</td>\n",
              "      <td>2</td>\n",
              "    </tr>\n",
              "    <tr>\n",
              "      <th>1</th>\n",
              "      <td>3</td>\n",
              "      <td>3</td>\n",
              "      <td>0</td>\n",
              "      <td>0</td>\n",
              "      <td>2</td>\n",
              "      <td>2</td>\n",
              "      <td>2</td>\n",
              "    </tr>\n",
              "    <tr>\n",
              "      <th>2</th>\n",
              "      <td>3</td>\n",
              "      <td>3</td>\n",
              "      <td>0</td>\n",
              "      <td>0</td>\n",
              "      <td>2</td>\n",
              "      <td>0</td>\n",
              "      <td>2</td>\n",
              "    </tr>\n",
              "    <tr>\n",
              "      <th>3</th>\n",
              "      <td>3</td>\n",
              "      <td>3</td>\n",
              "      <td>0</td>\n",
              "      <td>0</td>\n",
              "      <td>1</td>\n",
              "      <td>1</td>\n",
              "      <td>2</td>\n",
              "    </tr>\n",
              "    <tr>\n",
              "      <th>4</th>\n",
              "      <td>3</td>\n",
              "      <td>3</td>\n",
              "      <td>0</td>\n",
              "      <td>0</td>\n",
              "      <td>1</td>\n",
              "      <td>2</td>\n",
              "      <td>2</td>\n",
              "    </tr>\n",
              "    <tr>\n",
              "      <th>...</th>\n",
              "      <td>...</td>\n",
              "      <td>...</td>\n",
              "      <td>...</td>\n",
              "      <td>...</td>\n",
              "      <td>...</td>\n",
              "      <td>...</td>\n",
              "      <td>...</td>\n",
              "    </tr>\n",
              "    <tr>\n",
              "      <th>1723</th>\n",
              "      <td>1</td>\n",
              "      <td>1</td>\n",
              "      <td>3</td>\n",
              "      <td>2</td>\n",
              "      <td>1</td>\n",
              "      <td>2</td>\n",
              "      <td>1</td>\n",
              "    </tr>\n",
              "    <tr>\n",
              "      <th>1724</th>\n",
              "      <td>1</td>\n",
              "      <td>1</td>\n",
              "      <td>3</td>\n",
              "      <td>2</td>\n",
              "      <td>1</td>\n",
              "      <td>0</td>\n",
              "      <td>3</td>\n",
              "    </tr>\n",
              "    <tr>\n",
              "      <th>1725</th>\n",
              "      <td>1</td>\n",
              "      <td>1</td>\n",
              "      <td>3</td>\n",
              "      <td>2</td>\n",
              "      <td>0</td>\n",
              "      <td>1</td>\n",
              "      <td>2</td>\n",
              "    </tr>\n",
              "    <tr>\n",
              "      <th>1726</th>\n",
              "      <td>1</td>\n",
              "      <td>1</td>\n",
              "      <td>3</td>\n",
              "      <td>2</td>\n",
              "      <td>0</td>\n",
              "      <td>2</td>\n",
              "      <td>1</td>\n",
              "    </tr>\n",
              "    <tr>\n",
              "      <th>1727</th>\n",
              "      <td>1</td>\n",
              "      <td>1</td>\n",
              "      <td>3</td>\n",
              "      <td>2</td>\n",
              "      <td>0</td>\n",
              "      <td>0</td>\n",
              "      <td>3</td>\n",
              "    </tr>\n",
              "  </tbody>\n",
              "</table>\n",
              "<p>1728 rows × 7 columns</p>\n",
              "</div>"
            ],
            "text/plain": [
              "      buying  maint  doors  persons  lug_boot  safety  evaluation\n",
              "0          3      3      0        0         2       1           2\n",
              "1          3      3      0        0         2       2           2\n",
              "2          3      3      0        0         2       0           2\n",
              "3          3      3      0        0         1       1           2\n",
              "4          3      3      0        0         1       2           2\n",
              "...      ...    ...    ...      ...       ...     ...         ...\n",
              "1723       1      1      3        2         1       2           1\n",
              "1724       1      1      3        2         1       0           3\n",
              "1725       1      1      3        2         0       1           2\n",
              "1726       1      1      3        2         0       2           1\n",
              "1727       1      1      3        2         0       0           3\n",
              "\n",
              "[1728 rows x 7 columns]"
            ]
          },
          "metadata": {
            "tags": []
          },
          "execution_count": 8
        }
      ]
    },
    {
      "cell_type": "markdown",
      "metadata": {
        "id": "yAugGAa1SsIH",
        "colab_type": "text"
      },
      "source": [
        "##### 2.2 Split `X` and `y`"
      ]
    },
    {
      "cell_type": "code",
      "metadata": {
        "id": "DW_18KPuTAw_",
        "colab_type": "code",
        "colab": {}
      },
      "source": [
        "# split X and y\n",
        "X = df.iloc[:, :-1].values\n",
        "y = df.iloc[:, -1].values"
      ],
      "execution_count": 0,
      "outputs": []
    },
    {
      "cell_type": "markdown",
      "metadata": {
        "id": "DmdPMKPDSyvN",
        "colab_type": "text"
      },
      "source": [
        "##### 2.3 Partition to train and test sets with hold-out"
      ]
    },
    {
      "cell_type": "markdown",
      "metadata": {
        "id": "TiFNdV04S2jx",
        "colab_type": "text"
      },
      "source": [
        "* test proportion of 10%\n",
        "* `random_state=1`\n",
        "* stratify by `y`"
      ]
    },
    {
      "cell_type": "code",
      "metadata": {
        "id": "Onrl-w6qhncD",
        "colab_type": "code",
        "colab": {}
      },
      "source": [
        "# split train and test\n",
        "X_train, X_test, y_train, y_test = train_test_split(\n",
        "    X, y, test_size=0.1, random_state=1, stratify=y)"
      ],
      "execution_count": 0,
      "outputs": []
    },
    {
      "cell_type": "markdown",
      "metadata": {
        "id": "r4yLsorBTE6d",
        "colab_type": "text"
      },
      "source": [
        "##### 2.4 Print the shapes of your four sets"
      ]
    },
    {
      "cell_type": "code",
      "metadata": {
        "id": "lKwna5P9TIY3",
        "colab_type": "code",
        "colab": {
          "base_uri": "https://localhost:8080/",
          "height": 34
        },
        "outputId": "8e6d687f-b4e2-49d5-f60e-d73c630da9b8"
      },
      "source": [
        "# print shapes of train and test\n",
        "print(X_train.shape, X_test.shape, y_train.shape, y_test.shape)"
      ],
      "execution_count": 11,
      "outputs": [
        {
          "output_type": "stream",
          "text": [
            "(1555, 6) (173, 6) (1555,) (173,)\n"
          ],
          "name": "stdout"
        }
      ]
    },
    {
      "cell_type": "markdown",
      "metadata": {
        "id": "crMG1J5xslvw",
        "colab_type": "text"
      },
      "source": [
        "###### Self Check"
      ]
    },
    {
      "cell_type": "code",
      "metadata": {
        "id": "gJWnPbmRsn6e",
        "colab_type": "code",
        "colab": {}
      },
      "source": [
        "assert X_train.shape[0] == 1555 and X_train.shape[1] == 6"
      ],
      "execution_count": 0,
      "outputs": []
    },
    {
      "cell_type": "markdown",
      "metadata": {
        "id": "XxWrGYQYiwJ5",
        "colab_type": "text"
      },
      "source": [
        "*** \n",
        "# Exercise #3 - Build classifiers\n",
        "*** "
      ]
    },
    {
      "cell_type": "markdown",
      "metadata": {
        "id": "-Pb_FMxkYdKe",
        "colab_type": "text"
      },
      "source": [
        "##### 3.1 Function to `display_result`"
      ]
    },
    {
      "cell_type": "markdown",
      "metadata": {
        "id": "kUY_0Q8XYx84",
        "colab_type": "text"
      },
      "source": [
        "1. Print the classifier name\n",
        "1. Print the accuracy\n",
        "1. Print the $F_1$ score\n",
        "1. Graph the confusion matrix\n",
        "1. Print a blank line (for spacing)"
      ]
    },
    {
      "cell_type": "code",
      "metadata": {
        "id": "XxGs4NV-i8cd",
        "colab_type": "code",
        "colab": {}
      },
      "source": [
        "# function to display results\n",
        "def display_result(y_test, y_pred, clf_label):\n",
        "  #classifier name\n",
        "  print(' ')\n",
        "  #accuracy\n",
        "  print(accuracy_score(y_test, y_pred))\n",
        "  #f1\n",
        "  print(f1_score(y_test, y_pred))\n",
        "  # graph a confusion matrix\n",
        "  fig, ax = plt.subplots(figsize=(2.5, 2.5))\n",
        "  ax.matshow(confmat, cmap=plt.cm.Blues, alpha=0.3)\n",
        "  for i in range(confmat.shape[0]):\n",
        "    for j in range(confmat.shape[1]):\n",
        "        ax.text(x=j, y=i, s=confmat[i, j], va='center', ha='center')\n",
        "\n",
        "  plt.xlabel('Predicted label')\n",
        "  plt.ylabel('True label')\n",
        "\n",
        "  plt.tight_layout()\n",
        "  plt.show()\n",
        "  print(' \\n')"
      ],
      "execution_count": 0,
      "outputs": []
    },
    {
      "cell_type": "markdown",
      "metadata": {
        "id": "PQJIUfuLVzpT",
        "colab_type": "text"
      },
      "source": [
        "##### 3.2 Define four weak classifiers"
      ]
    },
    {
      "cell_type": "markdown",
      "metadata": {
        "id": "CiWZ-zaNV-zK",
        "colab_type": "text"
      },
      "source": [
        "* `clf1` : Logistic regressor\n",
        "  * penalty of `l2`\n",
        "  * `C = 0.1`\n",
        "  * solver of `lbfgs`\n",
        "  * `random_state=1`\n",
        "* `clf2` : Support vector machine `SVC`\n",
        "  * `linear` kernel\n",
        "  * `probability=True`\n",
        "  * `random_state=1`\n",
        "* `clf3` : $k$-nearest neighbor classifier\n",
        "  * $k=1$\n",
        "  * Manhattan distance\n",
        "* `clf4` : Decision tree classifier\n",
        "  * max depth of 1\n",
        "  * `'entropty'`\n",
        "  * `random_state=1`"
      ]
    },
    {
      "cell_type": "code",
      "metadata": {
        "id": "-6wUzuq8QXVn",
        "colab_type": "code",
        "colab": {
          "base_uri": "https://localhost:8080/",
          "height": 34
        },
        "outputId": "b1bd4a25-5261-449c-ccff-f071e5c0f018"
      },
      "source": [
        "# define classifiers \n",
        "clf1 = LogisticRegression(penalty='l2', \n",
        "                          C=0.1,\n",
        "                          solver='lbfgs',\n",
        "                          random_state=1)\n",
        "\n",
        "print('your code here')"
      ],
      "execution_count": 14,
      "outputs": [
        {
          "output_type": "stream",
          "text": [
            "your code here\n"
          ],
          "name": "stdout"
        }
      ]
    },
    {
      "cell_type": "markdown",
      "metadata": {
        "id": "EUIzIJK8tBV4",
        "colab_type": "text"
      },
      "source": [
        "###### Self Check"
      ]
    },
    {
      "cell_type": "code",
      "metadata": {
        "id": "3iiHtiTvtbT6",
        "colab_type": "code",
        "colab": {
          "base_uri": "https://localhost:8080/",
          "height": 102
        },
        "outputId": "9ed2f05f-5dd2-4852-bfa5-5e4d488c80c5"
      },
      "source": [
        "print(clf1)"
      ],
      "execution_count": 15,
      "outputs": [
        {
          "output_type": "stream",
          "text": [
            "LogisticRegression(C=0.1, class_weight=None, dual=False, fit_intercept=True,\n",
            "                   intercept_scaling=1, l1_ratio=None, max_iter=100,\n",
            "                   multi_class='auto', n_jobs=None, penalty='l2',\n",
            "                   random_state=1, solver='lbfgs', tol=0.0001, verbose=0,\n",
            "                   warm_start=False)\n"
          ],
          "name": "stdout"
        }
      ]
    },
    {
      "cell_type": "markdown",
      "metadata": {
        "id": "arXd7KZotDaH",
        "colab_type": "text"
      },
      "source": [
        "\n",
        "```\n",
        "LogisticRegression(C=0.1, class_weight=None, dual=False, fit_intercept=True,\n",
        "                   intercept_scaling=1, l1_ratio=None, max_iter=100,\n",
        "                   multi_class='auto', n_jobs=None, penalty='l2',\n",
        "                   random_state=1, solver='lbfgs', tol=0.0001, verbose=0,\n",
        "                   warm_start=False)\n",
        "```                          "
      ]
    },
    {
      "cell_type": "markdown",
      "metadata": {
        "id": "Z5_MMzC0Xalu",
        "colab_type": "text"
      },
      "source": [
        "##### 3.3 Define three pipelines"
      ]
    },
    {
      "cell_type": "markdown",
      "metadata": {
        "id": "baRH9ijZXe0P",
        "colab_type": "text"
      },
      "source": [
        "Three out of the above four classifiers require features on the same scale.\n",
        "  * *Which three classifiers require standardizing?*\n",
        "  * *Which classifier does not?*\n",
        "\n",
        "Define three pipelines for the three classifiers. Each has two steps:\n",
        " 1. Standardize\n",
        " 2. Classifier"
      ]
    },
    {
      "cell_type": "code",
      "metadata": {
        "id": "EQyceYH_R_pr",
        "colab_type": "code",
        "colab": {
          "base_uri": "https://localhost:8080/",
          "height": 34
        },
        "outputId": "7eba52c9-083e-4483-bc05-10b3d1b399c8"
      },
      "source": [
        "# define pipelines\n",
        "print('your code here')"
      ],
      "execution_count": 16,
      "outputs": [
        {
          "output_type": "stream",
          "text": [
            "your code here\n"
          ],
          "name": "stdout"
        }
      ]
    },
    {
      "cell_type": "markdown",
      "metadata": {
        "id": "TWMmnit6a_IH",
        "colab_type": "text"
      },
      "source": [
        "##### 3.4 Define list of classifier labels (provided)"
      ]
    },
    {
      "cell_type": "code",
      "metadata": {
        "id": "Ky9kG3fybGRz",
        "colab_type": "code",
        "colab": {}
      },
      "source": [
        "# list of names of the classifiers\n",
        "clf_labels = ['Logistic regression (LR)', 'Support vector machine (SVC)', 'K-Nearest neighbor (KNN)', 'Decision tree (DT)']"
      ],
      "execution_count": 0,
      "outputs": []
    },
    {
      "cell_type": "markdown",
      "metadata": {
        "id": "DYdHsiBjcgwt",
        "colab_type": "text"
      },
      "source": [
        "##### 3.5 Define list of classifiers"
      ]
    },
    {
      "cell_type": "markdown",
      "metadata": {
        "id": "86VUb-mIbckR",
        "colab_type": "text"
      },
      "source": [
        "Define a list of classifier *or* pipeline variables\n",
        "* match the order given in `clf_labels`\n",
        "* three will be pipelines from `4.2`\n",
        "* one will be a classifier from `4.1`"
      ]
    },
    {
      "cell_type": "code",
      "metadata": {
        "id": "2wiDfzihbG2z",
        "colab_type": "code",
        "colab": {
          "base_uri": "https://localhost:8080/",
          "height": 34
        },
        "outputId": "61eece3e-b2ab-4e0b-b76b-c3ab8a31c4cd"
      },
      "source": [
        "# list of classifiers (or pipelines)\n",
        "print('your code here')"
      ],
      "execution_count": 18,
      "outputs": [
        {
          "output_type": "stream",
          "text": [
            "your code here\n"
          ],
          "name": "stdout"
        }
      ]
    },
    {
      "cell_type": "markdown",
      "metadata": {
        "id": "Z9PqUVO6tj4m",
        "colab_type": "text"
      },
      "source": [
        "###### Self Check"
      ]
    },
    {
      "cell_type": "code",
      "metadata": {
        "id": "rKs8QDKRtlYm",
        "colab_type": "code",
        "colab": {
          "base_uri": "https://localhost:8080/",
          "height": 164
        },
        "outputId": "de00c22c-c74b-49ed-8f60-a06cb18cbf5b"
      },
      "source": [
        "assert len(clf_labels)==4 and len(clf_lst)==4"
      ],
      "execution_count": 19,
      "outputs": [
        {
          "output_type": "error",
          "ename": "NameError",
          "evalue": "ignored",
          "traceback": [
            "\u001b[0;31m---------------------------------------------------------------------------\u001b[0m",
            "\u001b[0;31mNameError\u001b[0m                                 Traceback (most recent call last)",
            "\u001b[0;32m<ipython-input-19-0b056e842645>\u001b[0m in \u001b[0;36m<module>\u001b[0;34m()\u001b[0m\n\u001b[0;32m----> 1\u001b[0;31m \u001b[0;32massert\u001b[0m \u001b[0mlen\u001b[0m\u001b[0;34m(\u001b[0m\u001b[0mclf_labels\u001b[0m\u001b[0;34m)\u001b[0m\u001b[0;34m==\u001b[0m\u001b[0;36m4\u001b[0m \u001b[0;32mand\u001b[0m \u001b[0mlen\u001b[0m\u001b[0;34m(\u001b[0m\u001b[0mclf_lst\u001b[0m\u001b[0;34m)\u001b[0m\u001b[0;34m==\u001b[0m\u001b[0;36m4\u001b[0m\u001b[0;34m\u001b[0m\u001b[0;34m\u001b[0m\u001b[0m\n\u001b[0m",
            "\u001b[0;31mNameError\u001b[0m: name 'clf_lst' is not defined"
          ]
        }
      ]
    },
    {
      "cell_type": "markdown",
      "metadata": {
        "id": "1FPjTxn6cZ_3",
        "colab_type": "text"
      },
      "source": [
        "*** \n",
        "# Exercise #4 - Run experiments\n",
        "*** "
      ]
    },
    {
      "cell_type": "markdown",
      "metadata": {
        "id": "CS9pEEGadCVI",
        "colab_type": "text"
      },
      "source": [
        "##### 4.1 Run each classifier"
      ]
    },
    {
      "cell_type": "markdown",
      "metadata": {
        "id": "FDA6KTKOdl5b",
        "colab_type": "text"
      },
      "source": [
        "Iterate over classifiers and for each:\n",
        "1. Train the `clf` on the training set\n",
        "2. Predict the test set and save predictions\n",
        "3. Call your `display_result` function"
      ]
    },
    {
      "cell_type": "code",
      "metadata": {
        "id": "k_srwRwSSaa2",
        "colab_type": "code",
        "colab": {}
      },
      "source": [
        "# run each classifier\n",
        "for clf, label in zip(clf_lst, clf_labels):\n",
        "  print('your code here')"
      ],
      "execution_count": 0,
      "outputs": []
    },
    {
      "cell_type": "markdown",
      "metadata": {
        "id": "FsmNU0oyt4wA",
        "colab_type": "text"
      },
      "source": [
        "###### Self Check"
      ]
    },
    {
      "cell_type": "markdown",
      "metadata": {
        "id": "RQ7Se23itzvw",
        "colab_type": "text"
      },
      "source": [
        "Results for first classifier:\n",
        "```\n",
        "Logistic regression (LR)\n",
        "  accuracy: 0.688\n",
        "  F1 score: 0.630\n",
        "```"
      ]
    },
    {
      "cell_type": "markdown",
      "metadata": {
        "id": "8_ROrHNsdVoP",
        "colab_type": "text"
      },
      "source": [
        "###### Iteration hint (*code spoiler*)"
      ]
    },
    {
      "cell_type": "markdown",
      "metadata": {
        "id": "d9o_liCpdRoW",
        "colab_type": "text"
      },
      "source": [
        "`for clf, label in zip(clf_lst, clf_labels):`"
      ]
    },
    {
      "cell_type": "markdown",
      "metadata": {
        "id": "e7yujuLbdheR",
        "colab_type": "text"
      },
      "source": [
        "##### 4.2 Define a Voting Classifier (Hard)"
      ]
    },
    {
      "cell_type": "markdown",
      "metadata": {
        "id": "CpwMuB9Xg9Y0",
        "colab_type": "text"
      },
      "source": [
        "* construct a Voting classifier: [(see api)](https://scikit-learn.org/stable/modules/generated/sklearn.ensemble.VotingClassifier.html)\n",
        "* use `'hard'` voting\n",
        "* use the classifiers (or pipelines) from `4.1`\n",
        "* train, test, and `display_results`"
      ]
    },
    {
      "cell_type": "code",
      "metadata": {
        "id": "lnbzIJzCfo7J",
        "colab_type": "code",
        "colab": {}
      },
      "source": [
        "# ensemble classifer (hard)\n",
        "print('your code here')"
      ],
      "execution_count": 0,
      "outputs": []
    },
    {
      "cell_type": "markdown",
      "metadata": {
        "id": "yAvZhD9xiNr-",
        "colab_type": "text"
      },
      "source": [
        "##### 4.3 Define a Voting Classifier (Soft)"
      ]
    },
    {
      "cell_type": "markdown",
      "metadata": {
        "id": "GZpDSlcviyrA",
        "colab_type": "text"
      },
      "source": [
        "* construct a [Voting classifier](https://scikit-learn.org/stable/modules/generated/sklearn.ensemble.VotingClassifier.html)\n",
        "* use `'soft'` voting\n",
        "* use the classifiers (or pipelines) from `4.1`\n",
        "* train, test, and `display_results`"
      ]
    },
    {
      "cell_type": "code",
      "metadata": {
        "id": "oZSMe8vngsjU",
        "colab_type": "code",
        "colab": {}
      },
      "source": [
        "# ensemble classifer (soft)\n",
        "print('your code here')"
      ],
      "execution_count": 0,
      "outputs": []
    },
    {
      "cell_type": "markdown",
      "metadata": {
        "id": "BotRtJLCi9Ce",
        "colab_type": "text"
      },
      "source": [
        "*** \n",
        "# Exercise #5 - Random Forest\n",
        "*** "
      ]
    },
    {
      "cell_type": "markdown",
      "metadata": {
        "id": "fMQQrkpZl_m-",
        "colab_type": "text"
      },
      "source": [
        "##### 5.1 Timing example (provided)"
      ]
    },
    {
      "cell_type": "code",
      "metadata": {
        "id": "1e2983pllPKw",
        "colab_type": "code",
        "colab": {}
      },
      "source": [
        "# timing examples\n",
        "start = time.time()\n",
        "print('hello room')   # hello world (2020 version)\n",
        "end = time.time()\n",
        "print('%.8f seconds elapsed' % ((end - start)))"
      ],
      "execution_count": 0,
      "outputs": []
    },
    {
      "cell_type": "markdown",
      "metadata": {
        "id": "clla-39TkJsF",
        "colab_type": "text"
      },
      "source": [
        "##### 5.2 Random forest experiment (small)"
      ]
    },
    {
      "cell_type": "markdown",
      "metadata": {
        "id": "zON9vPsIjqJ4",
        "colab_type": "text"
      },
      "source": [
        "* time your code\n",
        "* use `n=10` trees\n",
        "* `random_state=1`\n",
        "* train, test, and `display_results`\n"
      ]
    },
    {
      "cell_type": "code",
      "metadata": {
        "id": "qRJWfDJZvyIj",
        "colab_type": "code",
        "colab": {}
      },
      "source": [
        "# define a random forest (10)\n",
        "print('your code here')"
      ],
      "execution_count": 0,
      "outputs": []
    },
    {
      "cell_type": "markdown",
      "metadata": {
        "id": "jvlGdAl8nof5",
        "colab_type": "text"
      },
      "source": [
        "##### 5.3 Random forest experiment (medium)"
      ]
    },
    {
      "cell_type": "code",
      "metadata": {
        "id": "wXdpK7UmkqQR",
        "colab_type": "code",
        "colab": {}
      },
      "source": [
        "# define a random forest (100)\n",
        "print('your code here')"
      ],
      "execution_count": 0,
      "outputs": []
    },
    {
      "cell_type": "markdown",
      "metadata": {
        "id": "RJpJiyh7nqv5",
        "colab_type": "text"
      },
      "source": [
        "##### 5.4 Random forest experiment (large)"
      ]
    },
    {
      "cell_type": "code",
      "metadata": {
        "id": "0XoArWnFk4Rl",
        "colab_type": "code",
        "colab": {}
      },
      "source": [
        "# define a random forest (1000)\n",
        "print('your code here')"
      ],
      "execution_count": 0,
      "outputs": []
    },
    {
      "cell_type": "markdown",
      "metadata": {
        "id": "5Cf8cYAtnvdv",
        "colab_type": "text"
      },
      "source": [
        "##### 5.5 Feature selection with random forest"
      ]
    },
    {
      "cell_type": "markdown",
      "metadata": {
        "id": "nv0OxX8An57r",
        "colab_type": "text"
      },
      "source": [
        "* re-define (or re-use) the Random Forest from `5.3`\n",
        "  * size `100`\n",
        "  * `random_state=1`\n",
        "* determine the importance of each feature\n",
        "  * adapt the example from  `Lecture 04`"
      ]
    },
    {
      "cell_type": "code",
      "metadata": {
        "id": "3NruY6o9nMG0",
        "colab_type": "code",
        "colab": {}
      },
      "source": [
        "# determine feature importance\n",
        "print('your code here')"
      ],
      "execution_count": 0,
      "outputs": []
    },
    {
      "cell_type": "markdown",
      "metadata": {
        "id": "Ab9ESxvfsOre",
        "colab_type": "text"
      },
      "source": [
        "###### Self Check"
      ]
    },
    {
      "cell_type": "markdown",
      "metadata": {
        "id": "4BFMD1U2sQYw",
        "colab_type": "text"
      },
      "source": [
        "> You shoud produce a bar chart of the six features, ranked.\n",
        ">\n",
        "> The importance of doors is `0.062864`."
      ]
    }
  ]
}